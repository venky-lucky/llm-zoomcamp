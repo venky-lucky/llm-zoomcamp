{
 "cells": [
  {
   "cell_type": "code",
   "execution_count": 1,
   "metadata": {},
   "outputs": [
    {
     "name": "stdout",
     "output_type": "stream",
     "text": [
      "--2024-07-10 02:33:10--  https://raw.githubusercontent.com/DataTalksClub/llm-zoomcamp/main/02-open-source/ollama.ipynb\n",
      "Resolving raw.githubusercontent.com (raw.githubusercontent.com)... 185.199.110.133, 185.199.111.133, 185.199.108.133, ...\n",
      "Connecting to raw.githubusercontent.com (raw.githubusercontent.com)|185.199.110.133|:443... connected.\n",
      "HTTP request sent, awaiting response... 200 OK\n",
      "Length: 9435 (9.2K) [text/plain]\n",
      "Saving to: ‘ollama.ipynb’\n",
      "\n",
      "ollama.ipynb        100%[===================>]   9.21K  --.-KB/s    in 0.001s  \n",
      "\n",
      "2024-07-10 02:33:10 (16.0 MB/s) - ‘ollama.ipynb’ saved [9435/9435]\n",
      "\n"
     ]
    }
   ],
   "source": [
    "!wget https://raw.githubusercontent.com/DataTalksClub/llm-zoomcamp/main/02-open-source/ollama.ipynb"
   ]
  },
  {
   "cell_type": "code",
   "execution_count": 2,
   "metadata": {},
   "outputs": [
    {
     "name": "stdout",
     "output_type": "stream",
     "text": [
      "--2024-07-10 02:34:19--  https://raw.githubusercontent.com/DataTalksClub/llm-zoomcamp/main/02-open-source/docker-compose.yaml\n",
      "Resolving raw.githubusercontent.com (raw.githubusercontent.com)... 185.199.109.133, 185.199.108.133, 185.199.110.133, ...\n",
      "Connecting to raw.githubusercontent.com (raw.githubusercontent.com)|185.199.109.133|:443... connected.\n",
      "HTTP request sent, awaiting response... 200 OK\n",
      "Length: 438 [text/plain]\n",
      "Saving to: ‘docker-compose.yaml’\n",
      "\n",
      "docker-compose.yaml 100%[===================>]     438  --.-KB/s    in 0s      \n",
      "\n",
      "2024-07-10 02:34:20 (20.1 MB/s) - ‘docker-compose.yaml’ saved [438/438]\n",
      "\n"
     ]
    }
   ],
   "source": [
    "!wget https://raw.githubusercontent.com/DataTalksClub/llm-zoomcamp/main/02-open-source/docker-compose.yaml"
   ]
  },
  {
   "cell_type": "code",
   "execution_count": 3,
   "metadata": {},
   "outputs": [
    {
     "name": "stdout",
     "output_type": "stream",
     "text": [
      "--2024-07-10 02:39:08--  https://raw.githubusercontent.com/DataTalksClub/llm-zoomcamp/main/02-open-source/rag-intro.ipynb\n",
      "Resolving raw.githubusercontent.com (raw.githubusercontent.com)... 185.199.110.133, 185.199.109.133, 185.199.111.133, ...\n",
      "Connecting to raw.githubusercontent.com (raw.githubusercontent.com)|185.199.110.133|:443... connected.\n",
      "HTTP request sent, awaiting response... 200 OK\n",
      "Length: 7380 (7.2K) [text/plain]\n",
      "Saving to: ‘rag-intro.ipynb’\n",
      "\n",
      "rag-intro.ipynb     100%[===================>]   7.21K  --.-KB/s    in 0s      \n",
      "\n",
      "2024-07-10 02:39:09 (22.0 MB/s) - ‘rag-intro.ipynb’ saved [7380/7380]\n",
      "\n"
     ]
    }
   ],
   "source": [
    "!wget https://raw.githubusercontent.com/DataTalksClub/llm-zoomcamp/main/02-open-source/rag-intro.ipynb"
   ]
  },
  {
   "cell_type": "code",
   "execution_count": null,
   "metadata": {},
   "outputs": [],
   "source": []
  }
 ],
 "metadata": {
  "kernelspec": {
   "display_name": "Python 3",
   "language": "python",
   "name": "python3"
  },
  "language_info": {
   "codemirror_mode": {
    "name": "ipython",
    "version": 3
   },
   "file_extension": ".py",
   "mimetype": "text/x-python",
   "name": "python",
   "nbconvert_exporter": "python",
   "pygments_lexer": "ipython3",
   "version": "3.10.13"
  }
 },
 "nbformat": 4,
 "nbformat_minor": 2
}
