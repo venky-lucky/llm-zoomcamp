{
 "cells": [
  {
   "cell_type": "markdown",
   "metadata": {},
   "source": [
    "## Homework: LLM Orchestration and Ingestion\n",
    "\n",
    "> It's possible that your answers won't match exactly. If it's the case, select the closest one.\n",
    "\n",
    "Our FAQ documents change with time: students add more records\n",
    "and edit existing ones. We need to keep our index in sync.\n",
    "\n",
    "There are two ways of doing it:\n",
    "\n",
    "1. Incremental: you only update records that got changed, created or deleted\n",
    "2. Full update: you recreate the entire index from scratch\n",
    "\n",
    "In this homework, we'll look at full update. We will run our \n",
    "indexing pipeline daily and re-create the index from scracth \n",
    "each time we run. \n",
    "\n",
    "\n",
    "For that, we created two FAQ documents for LLM Zoomcamp\n",
    "\n",
    "* [version 1](https://docs.google.com/document/d/1qZjwHkvP0lXHiE4zdbWyUXSVfmVGzougDD6N37bat3E/edit)\n",
    "* [version 2](https://docs.google.com/document/d/1T3MdwUvqCL3jrh3d3VCXQ8xE0UqRzI3bfgpfBq3ZWG0/edit)\n",
    "\n",
    "First, we will run our ingestion pipeline with version 1 \n",
    "and then with version 2."
   ]
  },
  {
   "cell_type": "markdown",
   "metadata": {},
   "source": [
    "## Q1. Running Mage\n",
    "\n",
    "Clone the same repo we used in the module and run mage:\n",
    "\n",
    "\n",
    "```bash\n",
    "git clone https://github.com/mage-ai/rag-project\n",
    "```\n",
    "\n",
    "Add the following libraries to the requirements document:\n",
    "\n",
    "```\n",
    "python-docx\n",
    "elasticsearch\n",
    "```\n",
    "\n",
    "Make sure you use the latest version of mage:\n",
    "\n",
    "```bash\n",
    "docker pull mageai/mageai:llm\n",
    "```\n",
    "\n",
    "Start it:\n",
    "\n",
    "```bash\n",
    "./scripts/start.sh\n",
    "```\n",
    "\n",
    "Now mage is running on [http://localhost:6789/](http://localhost:6789/)\n",
    "\n",
    "What's the version of mage? \n",
    "\n",
    "![](mage_version.png)\n",
    "\n",
    "-> 0.9.72"
   ]
  },
  {
   "cell_type": "markdown",
   "metadata": {},
   "source": [
    "## Creating a RAG pipeline\n",
    "\n",
    "Create a RAG pipeline\n",
    "\n",
    "![](rag_pipeline.png)\n",
    "\n",
    "## Q2. Reading the documents\n",
    "\n",
    "Now we can ingest the documents. Create a custom code ingestion\n",
    "block \n",
    "\n",
    "Let's read the documents. We will use the same code we used\n",
    "for parsing FAQ: [parse-faq-llm.ipynb](parse-faq-llm.ipynb)\n",
    "\n",
    "\n",
    "Use the following document_id: 1qZjwHkvP0lXHiE4zdbWyUXSVfmVGzougDD6N37bat3E\n",
    "\n",
    "Which is the document ID of\n",
    "[LLM FAQ version 1](https://docs.google.com/document/d/1qZjwHkvP0lXHiE4zdbWyUXSVfmVGzougDD6N37bat3E/edit)\n",
    "\n",
    "Copy the code to the editor\n",
    "How many FAQ documents we processed?\n",
    "\n",
    "* 1 <-\n",
    "* 2\n",
    "* 3\n",
    "* 4"
   ]
  },
  {
   "cell_type": "markdown",
   "metadata": {},
   "source": [
    "## Q3. Chunking\n",
    "\n",
    "We don't really need to do any chuncking because our documents\n",
    "already have well-specified boundaries. So we just need\n",
    "to return the documents without any changes.\n",
    "\n",
    "So let's go to the transformation part and add a custom code\n",
    "chunking block:\n",
    "\n",
    "```python\n",
    "documents = []\n",
    "\n",
    "for doc in data['documents']:\n",
    "    doc['course'] = data['course']\n",
    "    # previously we used just \"id\" for document ID\n",
    "    doc['document_id'] = generate_document_id(doc)\n",
    "    documents.append(doc)\n",
    "\n",
    "print(len(documents))\n",
    "\n",
    "return documents\n",
    "```\n",
    "\n",
    "\n",
    "Where `data` is the input parameter to the transformer.\n",
    "\n",
    "And the `generate_document_id` is defined in the same way\n",
    "as in module 4:\n",
    "\n",
    "```python\n",
    "import hashlib\n",
    "\n",
    "def generate_document_id(doc):\n",
    "    combined = f\"{doc['course']}-{doc['question']}-{doc['text'][:10]}\"\n",
    "    hash_object = hashlib.md5(combined.encode())\n",
    "    hash_hex = hash_object.hexdigest()\n",
    "    document_id = hash_hex[:8]\n",
    "    return document_id\n",
    "```\n",
    "\n",
    "Note: if instead of a single dictionary you get a list, \n",
    "add a for loop:\n",
    "\n",
    "```python\n",
    "for course_dict in data:\n",
    "    ...\n",
    "```\n",
    "\n",
    "You can check the type of `data` with this code:\n",
    "\n",
    "```python\n",
    "print(type(data))\n",
    "```\n",
    "\n",
    "How many documents (chunks) do we have in the output?\n",
    "\n",
    "* 66\n",
    "* 76\n",
    "* 86 <-\n",
    "* 96"
   ]
  },
  {
   "cell_type": "markdown",
   "metadata": {},
   "source": [
    "## Tokenization and embeddings\n",
    "\n",
    "We don't need any tokenization, so we skip it.\n",
    "\n",
    "Because currently it's required in mage, we can create \n",
    "a dummy code block:\n",
    "\n",
    "* Create a custom code block\n",
    "* Don't change it\n",
    "\n",
    "Because we will use text search, we also don't need embeddings,\n",
    "so skip it too.\n",
    "\n",
    "If you want to use sentence transformers - the ones from module\n",
    "3 - you don't need tokenization, but need embeddings\n",
    "(you don't need it for this homework)"
   ]
  },
  {
   "cell_type": "markdown",
   "metadata": {},
   "source": [
    "## Q4. Export\n",
    "\n",
    "Now we're ready to index the data with elasticsearch. For that,\n",
    "we use the Export part of the pipeline\n",
    "\n",
    "* Go to the Export part\n",
    "* Select vector databases -> Elasticsearch\n",
    "* Open the code for editing\n",
    "\n",
    "Because we won't use vector search, but usual text search, we\n",
    "will need to adjust the code.\n",
    "\n",
    "First, let's change the line where we read the index name:\n",
    "\n",
    "```python\n",
    "index_name = kwargs.get('index_name', 'documents')\n",
    "``` \n",
    "\n",
    "To `index_name_prefix` - we will parametrize it with the day\n",
    "and time we run the pipeline\n",
    "\n",
    "```python\n",
    "from datetime import datetime\n",
    "\n",
    "index_name_prefix = kwargs.get('index_name', 'documents')\n",
    "current_time = datetime.now().strftime(\"%Y%m%d_%M%S\")\n",
    "index_name = f\"{index_name_prefix}_{current_time}\"\n",
    "print(\"index name:\", index_name)\n",
    "```\n",
    "\n",
    "\n",
    "We will need to save the name in a global variable, so it can be accessible in other code blocks\n",
    "\n",
    "```python\n",
    "from mage_ai.data_preparation.variable_manager import set_global_variable\n",
    "\n",
    "set_global_variable('YOUR_PIPELINE_NAME', 'index_name', index_name)\n",
    "```\n",
    "\n",
    "Where your pipeline name is the name of the pipeline, e.g.\n",
    "`transcendent_nexus` (replace the space with underscore `_`)\n",
    "\n",
    "\n",
    "\n",
    "Replace index settings with the settings we used previously:\n",
    "\n",
    "```python\n",
    "index_settings = {\n",
    "    \"settings\": {\n",
    "        \"number_of_shards\": number_of_shards,\n",
    "        \"number_of_replicas\": number_of_replicas\n",
    "    },\n",
    "    \"mappings\": {\n",
    "        \"properties\": {\n",
    "            \"text\": {\"type\": \"text\"},\n",
    "            \"section\": {\"type\": \"text\"},\n",
    "            \"question\": {\"type\": \"text\"},\n",
    "            \"course\": {\"type\": \"keyword\"},\n",
    "            \"document_id\": {\"type\": \"keyword\"}\n",
    "        }\n",
    "    }\n",
    "}\n",
    "```\n",
    "\n",
    "Remove the embeddings line:\n",
    "\n",
    "```python\n",
    "if isinstance(document[vector_column_name], np.ndarray):\n",
    "    document[vector_column_name] = document[vector_column_name].tolist()\n",
    "```\n",
    "\n",
    "At the end (outside of the indexing for loop), print the last document:\n",
    "\n",
    "```python\n",
    "print(document)\n",
    "```\n",
    "\n",
    "Now execute the block.\n",
    "\n",
    "What's the last document id?\n",
    "\n",
    "Also note the index name.\n",
    "\n",
    "R= **6fc3236a**"
   ]
  },
  {
   "cell_type": "markdown",
   "metadata": {},
   "source": [
    "## Q5. Testing the retrieval\n",
    "\n",
    "Now let's test the retrieval. Use mage or jupyter notebook to\n",
    "test it.\n",
    "\n",
    "Let's use the following query: \"When is the next cohort?\"\n",
    "\n",
    "What's the ID of the top matching result?"
   ]
  },
  {
   "cell_type": "code",
   "execution_count": 65,
   "metadata": {},
   "outputs": [],
   "source": [
    "from elasticsearch import Elasticsearch"
   ]
  },
  {
   "cell_type": "code",
   "execution_count": 66,
   "metadata": {},
   "outputs": [],
   "source": [
    "es_client = Elasticsearch('http://localhost:9200')"
   ]
  },
  {
   "cell_type": "code",
   "execution_count": 67,
   "metadata": {},
   "outputs": [
    {
     "data": {
      "text/plain": [
       "ObjectApiResponse({'name': '38797610f936', 'cluster_name': 'docker-cluster', 'cluster_uuid': 'ycAYdHLIRueh1u3ber4qPQ', 'version': {'number': '8.5.0', 'build_flavor': 'default', 'build_type': 'docker', 'build_hash': 'c94b4700cda13820dad5aa74fae6db185ca5c304', 'build_date': '2022-10-24T16:54:16.433628434Z', 'build_snapshot': False, 'lucene_version': '9.4.1', 'minimum_wire_compatibility_version': '7.17.0', 'minimum_index_compatibility_version': '7.0.0'}, 'tagline': 'You Know, for Search'})"
      ]
     },
     "execution_count": 67,
     "metadata": {},
     "output_type": "execute_result"
    }
   ],
   "source": [
    "es_client.info()"
   ]
  },
  {
   "cell_type": "code",
   "execution_count": 27,
   "metadata": {},
   "outputs": [
    {
     "name": "stderr",
     "output_type": "stream",
     "text": [
      "c:\\Users\\kiramishima\\.conda\\envs\\llm-zcamp\\Lib\\site-packages\\sentence_transformers\\cross_encoder\\CrossEncoder.py:11: TqdmExperimentalWarning: Using `tqdm.autonotebook.tqdm` in notebook mode. Use `tqdm.tqdm` instead to force console mode (e.g. in jupyter console)\n",
      "  from tqdm.autonotebook import tqdm, trange\n"
     ]
    }
   ],
   "source": [
    "from sentence_transformers import SentenceTransformer\n",
    "model_name = 'multi-qa-distilbert-cos-v1'\n",
    "embedding_model = SentenceTransformer(model_name)"
   ]
  },
  {
   "cell_type": "code",
   "execution_count": 54,
   "metadata": {},
   "outputs": [],
   "source": [
    "user_question = \"When is the next cohort?\""
   ]
  },
  {
   "cell_type": "code",
   "execution_count": 68,
   "metadata": {},
   "outputs": [],
   "source": [
    "v = embedding_model.encode(user_question)"
   ]
  },
  {
   "cell_type": "code",
   "execution_count": 69,
   "metadata": {},
   "outputs": [],
   "source": [
    "index_name = 'documents_20240818_2918_20240818_3017_20240818_5316_20240818_5356_20240818_1437_20240818_1631_20240818_2501_20240818_4451_20240818_5432_20240818_3409'"
   ]
  },
  {
   "cell_type": "code",
   "execution_count": 74,
   "metadata": {},
   "outputs": [],
   "source": [
    "search_query = {\n",
    "    \"size\": 5,\n",
    "    \"query\": {\n",
    "        \"bool\": {\n",
    "            \"must\": {\n",
    "                \"multi_match\": {\n",
    "                    \"query\": user_question,\n",
    "                    \"fields\": [\"text\", \"section\", \"question\", \"course\", \"document_id\"],\n",
    "                    \"type\": \"best_fields\"\n",
    "                }\n",
    "            }\n",
    "        }\n",
    "    }\n",
    "}"
   ]
  },
  {
   "cell_type": "code",
   "execution_count": 10,
   "metadata": {},
   "outputs": [],
   "source": [
    "import pandas as pd"
   ]
  },
  {
   "cell_type": "code",
   "execution_count": 75,
   "metadata": {},
   "outputs": [],
   "source": [
    "response = es_client.search(index=index_name, body=search_query)"
   ]
  },
  {
   "cell_type": "code",
   "execution_count": 76,
   "metadata": {},
   "outputs": [],
   "source": [
    "df = pd.DataFrame(response['hits']['hits'])"
   ]
  },
  {
   "cell_type": "code",
   "execution_count": 79,
   "metadata": {},
   "outputs": [
    {
     "data": {
      "text/html": [
       "<div>\n",
       "<style scoped>\n",
       "    .dataframe tbody tr th:only-of-type {\n",
       "        vertical-align: middle;\n",
       "    }\n",
       "\n",
       "    .dataframe tbody tr th {\n",
       "        vertical-align: top;\n",
       "    }\n",
       "\n",
       "    .dataframe thead th {\n",
       "        text-align: right;\n",
       "    }\n",
       "</style>\n",
       "<table border=\"1\" class=\"dataframe\">\n",
       "  <thead>\n",
       "    <tr style=\"text-align: right;\">\n",
       "      <th></th>\n",
       "      <th>_index</th>\n",
       "      <th>_id</th>\n",
       "      <th>_score</th>\n",
       "      <th>_source</th>\n",
       "      <th>_ignored</th>\n",
       "    </tr>\n",
       "  </thead>\n",
       "  <tbody>\n",
       "    <tr>\n",
       "      <th>0</th>\n",
       "      <td>documents_20240818_2918_20240818_3017_20240818...</td>\n",
       "      <td>CwNVY5EB3lQqJkEzx1pJ</td>\n",
       "      <td>8.443945</td>\n",
       "      <td>{'text': 'Summer 2025 (via Alexey).', 'section...</td>\n",
       "      <td>NaN</td>\n",
       "    </tr>\n",
       "    <tr>\n",
       "      <th>1</th>\n",
       "      <td>documents_20240818_2918_20240818_3017_20240818...</td>\n",
       "      <td>QANVY5EB3lQqJkEzylok</td>\n",
       "      <td>5.754293</td>\n",
       "      <td>{'text': 'No, you can only get a certificate i...</td>\n",
       "      <td>[text.keyword]</td>\n",
       "    </tr>\n",
       "    <tr>\n",
       "      <th>2</th>\n",
       "      <td>documents_20240818_2918_20240818_3017_20240818...</td>\n",
       "      <td>AgNVY5EB3lQqJkEzxlrG</td>\n",
       "      <td>4.399607</td>\n",
       "      <td>{'text': 'This is likely to be an error when i...</td>\n",
       "      <td>NaN</td>\n",
       "    </tr>\n",
       "    <tr>\n",
       "      <th>3</th>\n",
       "      <td>documents_20240818_2918_20240818_3017_20240818...</td>\n",
       "      <td>JQNVY5EB3lQqJkEzyFrB</td>\n",
       "      <td>4.220145</td>\n",
       "      <td>{'text': 'Cosine similarity is a measure used ...</td>\n",
       "      <td>[text.keyword]</td>\n",
       "    </tr>\n",
       "    <tr>\n",
       "      <th>4</th>\n",
       "      <td>documents_20240818_2918_20240818_3017_20240818...</td>\n",
       "      <td>PgNVY5EB3lQqJkEzyloL</td>\n",
       "      <td>4.070828</td>\n",
       "      <td>{'text': 'The error indicates that you have no...</td>\n",
       "      <td>NaN</td>\n",
       "    </tr>\n",
       "  </tbody>\n",
       "</table>\n",
       "</div>"
      ],
      "text/plain": [
       "                                              _index                   _id  \\\n",
       "0  documents_20240818_2918_20240818_3017_20240818...  CwNVY5EB3lQqJkEzx1pJ   \n",
       "1  documents_20240818_2918_20240818_3017_20240818...  QANVY5EB3lQqJkEzylok   \n",
       "2  documents_20240818_2918_20240818_3017_20240818...  AgNVY5EB3lQqJkEzxlrG   \n",
       "3  documents_20240818_2918_20240818_3017_20240818...  JQNVY5EB3lQqJkEzyFrB   \n",
       "4  documents_20240818_2918_20240818_3017_20240818...  PgNVY5EB3lQqJkEzyloL   \n",
       "\n",
       "     _score                                            _source        _ignored  \n",
       "0  8.443945  {'text': 'Summer 2025 (via Alexey).', 'section...             NaN  \n",
       "1  5.754293  {'text': 'No, you can only get a certificate i...  [text.keyword]  \n",
       "2  4.399607  {'text': 'This is likely to be an error when i...             NaN  \n",
       "3  4.220145  {'text': 'Cosine similarity is a measure used ...  [text.keyword]  \n",
       "4  4.070828  {'text': 'The error indicates that you have no...             NaN  "
      ]
     },
     "execution_count": 79,
     "metadata": {},
     "output_type": "execute_result"
    }
   ],
   "source": [
    "df"
   ]
  },
  {
   "cell_type": "markdown",
   "metadata": {},
   "source": [
    "**CwNVY5EB3lQqJkEzx1pJ**"
   ]
  },
  {
   "cell_type": "markdown",
   "metadata": {},
   "source": [
    "## Q6. Reindexing\n",
    "\n",
    "Our FAQ document changes: every day course participants add\n",
    "new records or improve existing ones.\n",
    "\n",
    "Imagine some time passed and the document changed. For that we have another version of the FAQ document: [version 2](https://docs.google.com/document/d/1T3MdwUvqCL3jrh3d3VCXQ8xE0UqRzI3bfgpfBq3ZWG0/edit).\n",
    "\n",
    "The ID of this document is `1T3MdwUvqCL3jrh3d3VCXQ8xE0UqRzI3bfgpfBq3ZWG0`.\n",
    "\n",
    "Let's re-execute the entire pipeline with the updated data.\n",
    "\n",
    "For the same query \"When is the next cohort?\". What's the ID of the top matching result?"
   ]
  },
  {
   "cell_type": "code",
   "execution_count": 80,
   "metadata": {},
   "outputs": [],
   "source": [
    "index_name2 = 'documents_20240818_2918_20240818_3017_20240818_5316_20240818_5356_20240818_1437_20240818_1631_20240818_2501_20240818_4451_20240818_5432_20240818_3409_20240818_0136_20240818_1157'"
   ]
  },
  {
   "cell_type": "code",
   "execution_count": 81,
   "metadata": {},
   "outputs": [],
   "source": [
    "response = es_client.search(index=index_name2, body=search_query)"
   ]
  },
  {
   "cell_type": "code",
   "execution_count": 82,
   "metadata": {},
   "outputs": [],
   "source": [
    "df2 = pd.DataFrame(response['hits']['hits'])"
   ]
  },
  {
   "cell_type": "code",
   "execution_count": 84,
   "metadata": {},
   "outputs": [
    {
     "data": {
      "text/html": [
       "<div>\n",
       "<style scoped>\n",
       "    .dataframe tbody tr th:only-of-type {\n",
       "        vertical-align: middle;\n",
       "    }\n",
       "\n",
       "    .dataframe tbody tr th {\n",
       "        vertical-align: top;\n",
       "    }\n",
       "\n",
       "    .dataframe thead th {\n",
       "        text-align: right;\n",
       "    }\n",
       "</style>\n",
       "<table border=\"1\" class=\"dataframe\">\n",
       "  <thead>\n",
       "    <tr style=\"text-align: right;\">\n",
       "      <th></th>\n",
       "      <th>_index</th>\n",
       "      <th>_id</th>\n",
       "      <th>_score</th>\n",
       "      <th>_source</th>\n",
       "      <th>_ignored</th>\n",
       "    </tr>\n",
       "  </thead>\n",
       "  <tbody>\n",
       "    <tr>\n",
       "      <th>0</th>\n",
       "      <td>documents_20240818_2918_20240818_3017_20240818...</td>\n",
       "      <td>HYN4Y5EB_QV3m7mGYk1o</td>\n",
       "      <td>17.212463</td>\n",
       "      <td>{'text': 'Summer 2026.', 'section': 'General c...</td>\n",
       "      <td>NaN</td>\n",
       "    </tr>\n",
       "    <tr>\n",
       "      <th>1</th>\n",
       "      <td>documents_20240818_2918_20240818_3017_20240818...</td>\n",
       "      <td>UoN4Y5EB_QV3m7mGZE31</td>\n",
       "      <td>5.753417</td>\n",
       "      <td>{'text': 'No, you can only get a certificate i...</td>\n",
       "      <td>[text.keyword]</td>\n",
       "    </tr>\n",
       "    <tr>\n",
       "      <th>2</th>\n",
       "      <td>documents_20240818_2918_20240818_3017_20240818...</td>\n",
       "      <td>FIN4Y5EB_QV3m7mGYU31</td>\n",
       "      <td>4.399003</td>\n",
       "      <td>{'text': 'This is likely to be an error when i...</td>\n",
       "      <td>NaN</td>\n",
       "    </tr>\n",
       "    <tr>\n",
       "      <th>3</th>\n",
       "      <td>documents_20240818_2918_20240818_3017_20240818...</td>\n",
       "      <td>N4N4Y5EB_QV3m7mGY03X</td>\n",
       "      <td>4.098316</td>\n",
       "      <td>{'text': 'Cosine similarity is a measure used ...</td>\n",
       "      <td>[text.keyword]</td>\n",
       "    </tr>\n",
       "    <tr>\n",
       "      <th>4</th>\n",
       "      <td>documents_20240818_2918_20240818_3017_20240818...</td>\n",
       "      <td>UIN4Y5EB_QV3m7mGZE3h</td>\n",
       "      <td>3.999482</td>\n",
       "      <td>{'text': 'The error indicates that you have no...</td>\n",
       "      <td>NaN</td>\n",
       "    </tr>\n",
       "  </tbody>\n",
       "</table>\n",
       "</div>"
      ],
      "text/plain": [
       "                                              _index                   _id  \\\n",
       "0  documents_20240818_2918_20240818_3017_20240818...  HYN4Y5EB_QV3m7mGYk1o   \n",
       "1  documents_20240818_2918_20240818_3017_20240818...  UoN4Y5EB_QV3m7mGZE31   \n",
       "2  documents_20240818_2918_20240818_3017_20240818...  FIN4Y5EB_QV3m7mGYU31   \n",
       "3  documents_20240818_2918_20240818_3017_20240818...  N4N4Y5EB_QV3m7mGY03X   \n",
       "4  documents_20240818_2918_20240818_3017_20240818...  UIN4Y5EB_QV3m7mGZE3h   \n",
       "\n",
       "      _score                                            _source  \\\n",
       "0  17.212463  {'text': 'Summer 2026.', 'section': 'General c...   \n",
       "1   5.753417  {'text': 'No, you can only get a certificate i...   \n",
       "2   4.399003  {'text': 'This is likely to be an error when i...   \n",
       "3   4.098316  {'text': 'Cosine similarity is a measure used ...   \n",
       "4   3.999482  {'text': 'The error indicates that you have no...   \n",
       "\n",
       "         _ignored  \n",
       "0             NaN  \n",
       "1  [text.keyword]  \n",
       "2             NaN  \n",
       "3  [text.keyword]  \n",
       "4             NaN  "
      ]
     },
     "execution_count": 84,
     "metadata": {},
     "output_type": "execute_result"
    }
   ],
   "source": [
    "df2"
   ]
  },
  {
   "cell_type": "markdown",
   "metadata": {},
   "source": [
    "**HYN4Y5EB_QV3m7mGYk1o**"
   ]
  }
 ],
 "metadata": {
  "kernelspec": {
   "display_name": "llm-zcamp",
   "language": "python",
   "name": "python3"
  },
  "language_info": {
   "codemirror_mode": {
    "name": "ipython",
    "version": 3
   },
   "file_extension": ".py",
   "mimetype": "text/x-python",
   "name": "python",
   "nbconvert_exporter": "python",
   "pygments_lexer": "ipython3",
   "version": "3.12.3"
  }
 },
 "nbformat": 4,
 "nbformat_minor": 2
}
