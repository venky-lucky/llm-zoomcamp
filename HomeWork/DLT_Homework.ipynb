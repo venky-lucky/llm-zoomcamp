<!DOCTYPE html>
<!-- saved from url=(0095)https://colab.research.google.com/drive/1-pKQw5cZm2EYAO9OZk2AuQjfpX_UFeEW#scrollTo=lCcHrjymfdgE -->
<html lang="en" theme="adaptive" editor="Default Dark"><head><meta http-equiv="Content-Type" content="text/html; charset=UTF-8"><meta http-equiv="origin-trial" content="Az520Inasey3TAyqLyojQa8MnmCALSEU29yQFW8dePZ7xQTvSt73pHazLFTK5f7SyLUJSo2uKLesEtEa9aUYcgMAAACPeyJvcmlnaW4iOiJodHRwczovL2dvb2dsZS5jb206NDQzIiwiZmVhdHVyZSI6IkRpc2FibGVUaGlyZFBhcnR5U3RvcmFnZVBhcnRpdGlvbmluZyIsImV4cGlyeSI6MTcyNTQwNzk5OSwiaXNTdWJkb21haW4iOnRydWUsImlzVGhpcmRQYXJ0eSI6dHJ1ZX0="><meta http-equiv="origin-trial" content="Az520Inasey3TAyqLyojQa8MnmCALSEU29yQFW8dePZ7xQTvSt73pHazLFTK5f7SyLUJSo2uKLesEtEa9aUYcgMAAACPeyJvcmlnaW4iOiJodHRwczovL2dvb2dsZS5jb206NDQzIiwiZmVhdHVyZSI6IkRpc2FibGVUaGlyZFBhcnR5U3RvcmFnZVBhcnRpdGlvbmluZyIsImV4cGlyeSI6MTcyNTQwNzk5OSwiaXNTdWJkb21haW4iOnRydWUsImlzVGhpcmRQYXJ0eSI6dHJ1ZX0="><script type="text/javascript" async="" charset="utf-8" src="./LLM_zoomcamp_RAG_files/recaptcha__en_gb.js.download" crossorigin="anonymous" integrity="sha384-mH22Rcjp11M6mkh3vo4rbcg5i0gwFgDzXLcZbUWm2ih9+hk7EocL9fU98cxkDI34" nonce=""></script><script type="text/javascript" async="" charset="utf-8" src="./LLM_zoomcamp_RAG_files/recaptcha__en_gb.js.download" crossorigin="anonymous" integrity="sha384-mH22Rcjp11M6mkh3vo4rbcg5i0gwFgDzXLcZbUWm2ih9+hk7EocL9fU98cxkDI34" nonce=""></script><script src="./LLM_zoomcamp_RAG_files/cb=gapi.loaded_1" nonce="" async=""></script><script src="./LLM_zoomcamp_RAG_files/cb=gapi.loaded_0" nonce="" async=""></script><script async="" src="./LLM_zoomcamp_RAG_files/analytics.js.download"></script><script nonce="">
      document.addEventListener('keydown', (e) => {
        // Stop propagation on ESC because otherwise it will halt outbound XHRs
        // See b/131755324 for more info.
        if (e.key === 'Escape') {
          e.stopPropagation();
          e.preventDefault();
        }
      });
    </script><meta name="referrer" content="origin"><meta name="viewport" content="width=device-width, initial-scale=1"><title>LLM_zoomcamp_RAG.ipynb - Colab</title><link href="./LLM_zoomcamp_RAG_files/css2" rel="stylesheet"><link href="./LLM_zoomcamp_RAG_files/css" rel="stylesheet"><link rel="search" type="application/opensearchdescription+xml" href="https://colab.research.google.com/opensearch.xml" title="Google Colab"><style>.gb_8a:not(.gb_ad){font:13px/27px Roboto,Arial,sans-serif;z-index:986}@-webkit-keyframes gb__a{0%{opacity:0}50%{opacity:1}}@keyframes gb__a{0%{opacity:0}50%{opacity:1}}a.gb_qa{border:none;color:#4285f4;cursor:default;font-weight:bold;outline:none;position:relative;text-align:center;text-decoration:none;text-transform:uppercase;white-space:nowrap;-webkit-user-select:none}a.gb_qa:hover:after,a.gb_qa:focus:after{background-color:rgba(0,0,0,.12);content:"";height:100%;left:0;position:absolute;top:0;width:100%}a.gb_qa:hover,a.gb_qa:focus{text-decoration:none}a.gb_qa:active{background-color:rgba(153,153,153,.4);text-decoration:none}a.gb_ra{background-color:#4285f4;color:#fff}a.gb_ra:active{background-color:#0043b2}.gb_sa{box-shadow:0 1px 1px rgba(0,0,0,.16)}.gb_qa,.gb_ra,.gb_ta,.gb_ua{display:inline-block;line-height:28px;padding:0 12px;border-radius:2px}.gb_ta{background:#f8f8f8;border:1px solid #c6c6c6}.gb_ua{background:#f8f8f8}.gb_ta,#gb a.gb_ta.gb_ta,.gb_ua{color:#666;cursor:default;text-decoration:none}#gb a.gb_ua{cursor:default;text-decoration:none}.gb_ua{border:1px solid #4285f4;font-weight:bold;outline:none;background:#4285f4;background:-webkit-gradient(linear,left top,left bottom,from(top),color-stop(#4387fd),to(#4683ea));background:-webkit-linear-gradient(top,#4387fd,#4683ea);background:linear-gradient(top,#4387fd,#4683ea);filter:progid:DXImageTransform.Microsoft.gradient(startColorstr=#4387fd,endColorstr=#4683ea,GradientType=0)}#gb a.gb_ua{color:#fff}.gb_ua:hover{box-shadow:0 1px 0 rgba(0,0,0,.15)}.gb_ua:active{box-shadow:inset 0 2px 0 rgba(0,0,0,.15);background:#3c78dc;background:-webkit-gradient(linear,left top,left bottom,from(top),color-stop(#3c7ae4),to(#3f76d3));background:-webkit-linear-gradient(top,#3c7ae4,#3f76d3);background:linear-gradient(top,#3c7ae4,#3f76d3);filter:progid:DXImageTransform.Microsoft.gradient(startColorstr=#3c7ae4,endColorstr=#3f76d3,GradientType=0)}#gb .gb_va{background:#fff;border:1px solid #dadce0;color:#1a73e8;display:inline-block;text-decoration:none}#gb .gb_va:hover{background:#f8fbff;border-color:#dadce0;color:#174ea6}#gb .gb_va:focus{background:#f4f8ff;color:#174ea6;outline:1px solid #174ea6}#gb .gb_va:active,#gb .gb_va:focus:active{background:#ecf3fe;color:#174ea6}#gb .gb_va.gb_i{background:transparent;border:1px solid #5f6368;color:#8ab4f8;text-decoration:none}#gb .gb_va.gb_i:hover{background:rgba(255,255,255,.04);color:#e8eaed}#gb .gb_va.gb_i:focus{background:rgba(232,234,237,.12);color:#e8eaed;outline:1px solid #e8eaed}#gb .gb_va.gb_i:active,#gb .gb_va.gb_i:focus:active{background:rgba(232,234,237,.1);color:#e8eaed}.gb_Fd{display:inline-block;vertical-align:middle}.gb_Id .gb_q{bottom:-3px;right:-5px}.gb_f{position:relative}.gb_d{display:inline-block;outline:none;vertical-align:middle;border-radius:2px;box-sizing:border-box;height:40px;width:40px;cursor:pointer;text-decoration:none}#gb#gb a.gb_d{cursor:pointer;text-decoration:none}.gb_d,a.gb_d{color:#000}.gb_4e{border-color:transparent;border-bottom-color:#fff;border-style:dashed dashed solid;border-width:0 8.5px 8.5px;display:none;position:absolute;left:11.5px;top:33px;z-index:1;height:0;width:0;-webkit-animation:gb__a .2s;animation:gb__a .2s}.gb_5e{border-color:transparent;border-style:dashed dashed solid;border-width:0 8.5px 8.5px;display:none;position:absolute;left:11.5px;z-index:1;height:0;width:0;-webkit-animation:gb__a .2s;animation:gb__a .2s;border-bottom-color:rgba(0,0,0,.2);top:32px}x:-o-prefocus,div.gb_5e{border-bottom-color:#ccc}.gb_V{background:#fff;border:1px solid #ccc;border-color:rgba(0,0,0,.2);color:#000;-webkit-box-shadow:0 2px 10px rgba(0,0,0,.2);box-shadow:0 2px 10px rgba(0,0,0,.2);display:none;outline:none;overflow:hidden;position:absolute;right:8px;top:62px;-webkit-animation:gb__a .2s;animation:gb__a .2s;border-radius:2px;-webkit-user-select:text}.gb_Fd.gb_Da .gb_4e,.gb_Fd.gb_Da .gb_5e,.gb_Fd.gb_Da .gb_V,.gb_Da.gb_V{display:block}.gb_Fd.gb_Da.gb_6e .gb_4e,.gb_Fd.gb_Da.gb_6e .gb_5e{display:none}.gb_Jd{position:absolute;right:8px;top:62px;z-index:-1}.gb_Za .gb_4e,.gb_Za .gb_5e,.gb_Za .gb_V{margin-top:-10px}.gb_Fd:first-child,#gbsfw:first-child+.gb_Fd{padding-left:4px}.gb_ga.gb_Kd .gb_Fd:first-child{padding-left:0}.gb_Ld{position:relative}.gb_Wc .gb_Ld,.gb_cd .gb_Ld{float:right}.gb_d{padding:8px;cursor:pointer}.gb_d:after{content:"";position:absolute;top:-4px;bottom:-4px;left:-4px;right:-4px}.gb_ga .gb_9d:not(.gb_qa):focus img{background-color:rgba(0,0,0,.2);outline:none;-webkit-border-radius:50%;border-radius:50%}.gb_Md button svg,.gb_d{-webkit-border-radius:50%;border-radius:50%}.gb_Md button:focus:not(:focus-visible) svg,.gb_Md button:hover svg,.gb_Md button:active svg,.gb_d:focus:not(:focus-visible),.gb_d:hover,.gb_d:active,.gb_d[aria-expanded=true]{outline:none}.gb_Fc .gb_Md.gb_ie button:focus-visible svg,.gb_Md button:focus-visible svg,.gb_d:focus-visible{outline:1px solid #202124}.gb_Fc .gb_Md button:focus-visible svg,.gb_Fc .gb_d:focus-visible{outline:1px solid #f1f3f4}@media (forced-colors:active){.gb_Fc .gb_Md.gb_ie button:focus-visible svg,.gb_Md button:focus-visible svg,.gb_Fc .gb_Md button:focus-visible svg{outline:1px solid currentcolor}}.gb_Fc .gb_Md.gb_ie button:focus svg,.gb_Fc .gb_Md.gb_ie button:focus:hover svg,.gb_Md button:focus svg,.gb_Md button:focus:hover svg,.gb_d:focus,.gb_d:focus:hover{background-color:rgba(60,64,67,.1)}.gb_Fc .gb_Md.gb_ie button:active svg,.gb_Md button:active svg,.gb_d:active{background-color:rgba(60,64,67,.12)}.gb_Fc .gb_Md.gb_ie button:hover svg,.gb_Md button:hover svg,.gb_d:hover{background-color:rgba(60,64,67,.08)}.gb_wa .gb_d.gb_ya:hover{background-color:transparent}.gb_d[aria-expanded=true],.gb_d:hover[aria-expanded=true]{background-color:rgba(95,99,104,.24)}.gb_d[aria-expanded=true] .gb_h{fill:#5f6368;opacity:1}.gb_Fc .gb_Md button:hover svg,.gb_Fc .gb_d:hover{background-color:rgba(232,234,237,.08)}.gb_Fc .gb_Md button:focus svg,.gb_Fc .gb_Md button:focus:hover svg,.gb_Fc .gb_d:focus,.gb_Fc .gb_d:focus:hover{background-color:rgba(232,234,237,.1)}.gb_Fc .gb_Md button:active svg,.gb_Fc .gb_d:active{background-color:rgba(232,234,237,.12)}.gb_Fc .gb_d[aria-expanded=true],.gb_Fc .gb_d:hover[aria-expanded=true]{background-color:rgba(255,255,255,.12)}.gb_Fc .gb_d[aria-expanded=true] .gb_h{fill:#fff;opacity:1}.gb_Fd{padding:4px}.gb_ga.gb_Kd .gb_Fd{padding:4px 2px}.gb_ga.gb_Kd .gb_b.gb_Fd{padding-left:6px}.gb_V{z-index:991;line-height:normal}.gb_V.gb_Nd{left:0;right:auto}@media (max-width:350px){.gb_V.gb_Nd{left:0}}.gb_Od .gb_V{top:56px}.gb_m{display:none!important}.gb_Sa{visibility:hidden}.gb_k .gb_d,.gb_U .gb_k .gb_d{background-position:-64px -29px}.gb_A .gb_k .gb_d{background-position:-29px -29px;opacity:1}.gb_k .gb_d,.gb_k .gb_d:hover,.gb_k .gb_d:focus{opacity:1}.gb_n{display:none}@media screen and (max-width:319px){.gb_id:not(.gb_od) .gb_k{display:none;visibility:hidden}}.gb_q{display:none}.gb_5c{font-family:Google Sans,Roboto,Helvetica,Arial,sans-serif;font-size:20px;font-weight:400;letter-spacing:0.25px;line-height:48px;margin-bottom:2px;opacity:1;overflow:hidden;padding-left:16px;position:relative;text-overflow:ellipsis;vertical-align:middle;top:2px;white-space:nowrap;-webkit-flex:1 1 auto;-webkit-box-flex:1;flex:1 1 auto}.gb_5c.gb_6c{color:#3c4043}.gb_ga.gb_Ia .gb_5c{margin-bottom:0}.gb_7c.gb_8c .gb_5c{padding-left:4px}.gb_ga.gb_Ia .gb_9c{position:relative;top:-2px}.gb_ga{color:black;min-width:160px;position:relative;-webkit-transition:box-shadow 250ms;transition:box-shadow 250ms}.gb_ga.gb_Oc{min-width:120px}.gb_ga.gb_gd .gb_hd{display:none}.gb_ga.gb_gd .gb_id{height:56px}header.gb_ga{display:block}.gb_ga svg{fill:currentColor}.gb_jd{position:fixed;top:0;width:100%}.gb_kd{-webkit-box-shadow:0 4px 5px 0 rgba(0,0,0,.14),0 1px 10px 0 rgba(0,0,0,.12),0 2px 4px -1px rgba(0,0,0,.2);box-shadow:0 4px 5px 0 rgba(0,0,0,.14),0 1px 10px 0 rgba(0,0,0,.12),0 2px 4px -1px rgba(0,0,0,.2)}.gb_ld{height:64px}.gb_id{-webkit-box-sizing:border-box;box-sizing:border-box;position:relative;width:100%;display:-webkit-box;display:-webkit-flex;display:flex;-webkit-box-pack:space-between;-webkit-justify-content:space-between;justify-content:space-between;min-width:-webkit-min-content;min-width:min-content}.gb_ga:not(.gb_Ia) .gb_id{padding:8px}.gb_ga.gb_nd .gb_id{-webkit-flex:1 0 auto;-webkit-box-flex:1;flex:1 0 auto}.gb_ga .gb_id.gb_od.gb_pd{min-width:0}.gb_ga.gb_Ia .gb_id{padding:4px;padding-left:8px;min-width:0}.gb_hd{height:48px;vertical-align:middle;white-space:nowrap;-webkit-box-align:center;-webkit-align-items:center;align-items:center;display:-webkit-box;display:-webkit-flex;display:flex;-webkit-user-select:none}.gb_rd>.gb_hd{display:table-cell;width:100%}.gb_7c{padding-right:30px;box-sizing:border-box;-webkit-flex:1 0 auto;-webkit-box-flex:1;flex:1 0 auto}.gb_ga.gb_Ia .gb_7c{padding-right:14px}.gb_sd{-webkit-flex:1 1 100%;-webkit-box-flex:1;flex:1 1 100%}.gb_sd>:only-child{display:inline-block}.gb_td.gb_Xc{padding-left:4px}.gb_td.gb_ud,.gb_ga.gb_nd .gb_td,.gb_ga.gb_Ia:not(.gb_cd) .gb_td{padding-left:0}.gb_ga.gb_Ia .gb_td.gb_ud{padding-right:0}.gb_ga.gb_Ia .gb_td.gb_ud .gb_wa{margin-left:10px}.gb_Xc{display:inline}.gb_ga.gb_Rc .gb_td.gb_vd,.gb_ga.gb_cd .gb_td.gb_vd{padding-left:2px}.gb_5c{display:inline-block}.gb_td{-webkit-box-sizing:border-box;box-sizing:border-box;height:48px;line-height:normal;padding:0 4px;padding-left:30px;-webkit-flex:0 0 auto;-webkit-box-flex:0;flex:0 0 auto;-webkit-box-pack:flex-end;-webkit-justify-content:flex-end;justify-content:flex-end}.gb_cd{height:48px}.gb_ga.gb_cd{min-width:auto}.gb_cd .gb_td{float:right;padding-left:32px}.gb_cd .gb_td.gb_wd{padding-left:0}.gb_xd{font-size:14px;max-width:200px;overflow:hidden;padding:0 12px;text-overflow:ellipsis;white-space:nowrap;-webkit-user-select:text}.gb_bd{-webkit-transition:background-color .4s;-webkit-transition:background-color .4s;transition:background-color .4s}.gb_Dd{color:black}.gb_Fc{color:white}.gb_ga a,.gb_Lc a{color:inherit}.gb_L{color:rgba(0,0,0,.87)}.gb_ga svg,.gb_Lc svg,.gb_7c .gb_fd,.gb_Wc .gb_fd{color:#5f6368;opacity:1}.gb_Fc svg,.gb_Lc.gb_Pc svg,.gb_Fc .gb_7c .gb_fd,.gb_Fc .gb_7c .gb_Ec,.gb_Fc .gb_7c .gb_9c,.gb_Lc.gb_Pc .gb_fd{color:rgba(255,255,255,.87)}.gb_Fc .gb_7c .gb_Dc:not(.gb_Ed){opacity:.87}.gb_6c{color:inherit;opacity:1;text-rendering:optimizeLegibility;-webkit-font-smoothing:antialiased}.gb_Fc .gb_6c,.gb_Dd .gb_6c{opacity:1}.gb_yd{position:relative}.gb_zd{font-family:arial,sans-serif;line-height:normal;padding-right:15px}a.gb_x,span.gb_x{color:rgba(0,0,0,.87);text-decoration:none}.gb_Fc a.gb_x,.gb_Fc span.gb_x{color:white}a.gb_x:focus{outline-offset:2px}a.gb_x:hover{text-decoration:underline}.gb_y{display:inline-block;padding-left:15px}.gb_y .gb_x{display:inline-block;line-height:24px;vertical-align:middle}.gb_dd{font-family:Google Sans,Roboto,Helvetica,Arial,sans-serif;font-weight:500;font-size:14px;letter-spacing:.25px;line-height:16px;margin-left:10px;margin-right:8px;min-width:96px;padding:9px 23px;text-align:center;vertical-align:middle;border-radius:4px;box-sizing:border-box}.gb_ga.gb_cd .gb_dd{margin-left:8px}#gb a.gb_ua.gb_dd{cursor:pointer}.gb_ua.gb_dd:hover{background:#1b66c9;-webkit-box-shadow:0 1px 3px 1px rgba(66,64,67,.15),0 1px 2px 0 rgba(60,64,67,.3);box-shadow:0 1px 3px 1px rgba(66,64,67,.15),0 1px 2px 0 rgba(60,64,67,.3)}.gb_ua.gb_dd:focus,.gb_ua.gb_dd:hover:focus{background:#1c5fba;-webkit-box-shadow:0 1px 3px 1px rgba(66,64,67,.15),0 1px 2px 0 rgba(60,64,67,.3);box-shadow:0 1px 3px 1px rgba(66,64,67,.15),0 1px 2px 0 rgba(60,64,67,.3)}.gb_ua.gb_dd:active{background:#1b63c1;-webkit-box-shadow:0 1px 3px 1px rgba(66,64,67,.15),0 1px 2px 0 rgba(60,64,67,.3);box-shadow:0 1px 3px 1px rgba(66,64,67,.15),0 1px 2px 0 rgba(60,64,67,.3)}.gb_dd{background:#1a73e8;border:1px solid transparent}.gb_ga.gb_Ia .gb_dd{padding:9px 15px;min-width:80px}.gb_Ad{text-align:left}#gb .gb_Fc a.gb_dd:not(.gb_i),#gb.gb_Fc a.gb_dd{background:#fff;border-color:#dadce0;-webkit-box-shadow:none;box-shadow:none;color:#1a73e8}#gb a.gb_ua.gb_i.gb_dd{background:#8ab4f8;border:1px solid transparent;-webkit-box-shadow:none;box-shadow:none;color:#202124}#gb .gb_Fc a.gb_dd:hover:not(.gb_i),#gb.gb_Fc a.gb_dd:hover{background:#f8fbff;border-color:#cce0fc}#gb a.gb_ua.gb_i.gb_dd:hover{background:#93baf9;border-color:transparent;-webkit-box-shadow:0 1px 3px 1px rgba(0,0,0,.15),0 1px 2px rgba(0,0,0,.3);box-shadow:0 1px 3px 1px rgba(0,0,0,.15),0 1px 2px rgba(0,0,0,.3)}#gb .gb_Fc a.gb_dd:focus:not(.gb_i),#gb .gb_Fc a.gb_dd:focus:hover:not(.gb_i),#gb.gb_Fc a.gb_dd:focus:not(.gb_i),#gb.gb_Fc a.gb_dd:focus:hover:not(.gb_i){background:#f4f8ff;outline:1px solid #c9ddfc}#gb a.gb_ua.gb_i.gb_dd:focus,#gb a.gb_ua.gb_i.gb_dd:focus:hover{background:#a6c6fa;border-color:transparent;-webkit-box-shadow:none;box-shadow:none}#gb .gb_Fc a.gb_dd:active:not(.gb_i),#gb.gb_Fc a.gb_dd:active{background:#ecf3fe}#gb a.gb_ua.gb_i.gb_dd:active{background:#a1c3f9;-webkit-box-shadow:0 1px 2px rgba(60,64,67,.3),0 2px 6px 2px rgba(60,64,67,.15);box-shadow:0 1px 2px rgba(60,64,67,.3),0 2px 6px 2px rgba(60,64,67,.15)}.gb_l{display:none}@media screen and (max-width:319px){.gb_id:not(.gb_od) .gb_k{display:none;visibility:hidden}}.gb_wa{background-color:rgba(255,255,255,.88);border:1px solid #dadce0;-webkit-box-sizing:border-box;box-sizing:border-box;cursor:pointer;display:inline-block;max-height:48px;overflow:hidden;outline:none;padding:0;vertical-align:middle;width:134px;-webkit-border-radius:8px;border-radius:8px}.gb_wa.gb_i{background-color:transparent;border:1px solid #5f6368}.gb_Ca{display:inherit}.gb_wa.gb_i .gb_Ca{background:#fff;-webkit-border-radius:4px;border-radius:4px;display:inline-block;left:8px;margin-right:5px;position:relative;padding:3px;top:-1px}.gb_wa:hover{border:1px solid #d2e3fc;background-color:rgba(248,250,255,.88)}.gb_wa.gb_i:hover{background-color:rgba(241,243,244,.04);border:1px solid #5f6368}.gb_wa:focus-visible,.gb_wa:focus{background-color:#fff;outline:1px solid #202124;-webkit-box-shadow:0 1px 2px 0 rgba(60,64,67,.3),0 1px 3px 1px rgba(60,64,67,.15);box-shadow:0 1px 2px 0 rgba(60,64,67,.3),0 1px 3px 1px rgba(60,64,67,.15)}.gb_wa.gb_i:focus-visible,.gb_wa.gb_i:focus{background-color:rgba(241,243,244,.12);outline:1px solid #f1f3f4;-webkit-box-shadow:0 1px 3px 1px rgba(0,0,0,.15),0 1px 2px 0 rgba(0,0,0,.3);box-shadow:0 1px 3px 1px rgba(0,0,0,.15),0 1px 2px 0 rgba(0,0,0,.3)}.gb_wa.gb_i:active,.gb_wa.gb_Da.gb_i:focus{background-color:rgba(241,243,244,.1);border:1px solid #5f6368}.gb_Ea{display:inline-block;padding-bottom:2px;padding-left:7px;padding-top:2px;text-align:center;vertical-align:middle;line-height:32px;width:78px}.gb_wa.gb_i .gb_Ea{line-height:26px;margin-left:0;padding-bottom:0;padding-left:0;padding-top:0;width:72px}.gb_Ea.gb_Fa{background-color:#f1f3f4;-webkit-border-radius:4px;border-radius:4px;margin-left:8px;padding-left:0;line-height:30px}.gb_Ea.gb_Fa .gb_Ha{vertical-align:middle}.gb_ga:not(.gb_Ia) .gb_wa{margin-left:10px;margin-right:4px}.gb_Ja{max-height:32px;width:78px}.gb_wa.gb_i .gb_Ja{max-height:26px;width:72px}.gb_p{-webkit-background-size:32px 32px;background-size:32px 32px;border:0;-webkit-border-radius:50%;border-radius:50%;display:block;margin:0px;position:relative;height:32px;width:32px;z-index:0}.gb_Ta{background-color:#e8f0fe;border:1px solid rgba(32,33,36,.08);position:relative}.gb_Ta.gb_p{height:30px;width:30px}.gb_Ta.gb_p:hover,.gb_Ta.gb_p:active{-webkit-box-shadow:none;box-shadow:none}.gb_Ua{background:#fff;border:none;-webkit-border-radius:50%;border-radius:50%;bottom:2px;-webkit-box-shadow:0px 1px 2px 0px rgba(60,64,67,.30),0px 1px 3px 1px rgba(60,64,67,.15);box-shadow:0px 1px 2px 0px rgba(60,64,67,.30),0px 1px 3px 1px rgba(60,64,67,.15);height:14px;margin:2px;position:absolute;right:0;width:14px}.gb_Va{color:#1f71e7;font:400 22px/32px Google Sans,Roboto,Helvetica,Arial,sans-serif;text-align:center;text-transform:uppercase}@media (-webkit-min-device-pixel-ratio:1.25),(min-resolution:1.25dppx),(min-device-pixel-ratio:1.25){.gb_p::before,.gb_Wa::before{display:inline-block;-webkit-transform:scale(0.5);-webkit-transform:scale(0.5);transform:scale(0.5);-webkit-transform-origin:left 0;-webkit-transform-origin:left 0;transform-origin:left 0}.gb_C .gb_Wa::before{-webkit-transform:scale(scale(0.416666667));-webkit-transform:scale(scale(0.416666667));transform:scale(scale(0.416666667))}}.gb_p:hover,.gb_p:focus{-webkit-box-shadow:0 1px 0 rgba(0,0,0,.15);box-shadow:0 1px 0 rgba(0,0,0,.15)}.gb_p:active{-webkit-box-shadow:inset 0 2px 0 rgba(0,0,0,.15);box-shadow:inset 0 2px 0 rgba(0,0,0,.15)}.gb_p:active::after{background:rgba(0,0,0,.1);-webkit-border-radius:50%;border-radius:50%;content:"";display:block;height:100%}.gb_Xa{cursor:pointer;line-height:40px;min-width:30px;opacity:.75;overflow:hidden;vertical-align:middle;text-overflow:ellipsis}.gb_d.gb_Xa{width:auto}.gb_Xa:hover,.gb_Xa:focus{opacity:.85}.gb_Za .gb_Xa,.gb_Za .gb_0a{line-height:26px}#gb#gb.gb_Za a.gb_Xa,.gb_Za .gb_0a{font-size:11px;height:auto}.gb_1a{border-top:4px solid #000;border-left:4px dashed transparent;border-right:4px dashed transparent;display:inline-block;margin-left:6px;opacity:.75;vertical-align:middle}.gb_ya:hover .gb_1a{opacity:.85}.gb_wa>.gb_b{padding:3px 3px 3px 4px}.gb_2a.gb_Sa{color:#fff}.gb_A .gb_Xa,.gb_A .gb_1a{opacity:1}#gb#gb.gb_A.gb_A a.gb_Xa,#gb#gb .gb_A.gb_A a.gb_Xa{color:#fff}.gb_A.gb_A .gb_1a{border-top-color:#fff;opacity:1}.gb_U .gb_p:hover,.gb_A .gb_p:hover,.gb_U .gb_p:focus,.gb_A .gb_p:focus{-webkit-box-shadow:0 1px 0 rgba(0,0,0,.15),0 1px 2px rgba(0,0,0,.2);box-shadow:0 1px 0 rgba(0,0,0,.15),0 1px 2px rgba(0,0,0,.2)}.gb_3a .gb_b,.gb_4a .gb_b{position:absolute;right:1px}.gb_b.gb_z,.gb_5a.gb_z,.gb_ya.gb_z{-webkit-flex:0 1 auto;-webkit-box-flex:0;flex:0 1 auto}.gb_6a.gb_7a .gb_Xa{width:30px!important}.gb_o{height:40px;position:absolute;right:-5px;top:-5px;width:40px}.gb_8a .gb_o,.gb_9a .gb_o{right:0;top:0}.gb_b .gb_d{padding:4px}.gb_r{display:none}sentinel{}</style><script nonce="">;this.gbar_={CONFIG:[[[0,"www.gstatic.com","og.qtm.en_US.hYsvGMblRtE.2019.O","co.in","en-GB","425",0,[4,2,"","","","652318230","0"],null,"f0mfZvWKB7-bp84PwLuZqAc",null,0,"og.qtm.WbLHcnqtuDY.L.W.O","AA2YrTtTSQ_F1fFA043-VJ0kUaOQJ3WUvA","AA2YrTtcIX-HnDSsLAqIZhJE-F41GqQWkA","",2,1,200,"IND",null,null,"425","425",1,null,null,114591953,1],null,[1,0.1000000014901161,2,1],null,[1,0,0,null,"0","venkateshmoturi79@gmail.com","","ALumJKL8UrC1TiTD4zUERCd37d5Ic2Gcb4uiaabg1QXkXGPUhwoF4wYwYAJj5WlbtOhVA3znf13C-jVl0BCoIhwFUtFbxCUKZQ",0,0,0],[0,0,"",1,0,0,0,0,0,0,null,0,0,null,0,0,null,null,0,0,0,"","","","","","",null,0,0,0,0,0,null,null,null,"rgba(32,33,36,1)","rgba(255,255,255,1)",0,0,0,null,null,1,0,0,null,0],["%1$s (default)","Brand account",1,"%1$s (delegated)",1,null,83,"https://colab.research.google.com/drive/1-pKQw5cZm2EYAO9OZk2AuQjfpX_UFeEW?authuser=$authuser",null,null,null,1,"https://accounts.google.com/ListAccounts?listPages=0\u0026authuser=0\u0026pid=425\u0026gpsia=1\u0026source=ogb\u0026atic=1\u0026mo=1\u0026mn=1\u0026hl=en-GB\u0026ts=250",0,"dashboard",null,null,null,null,"Profile","",1,null,"Signed out","https://accounts.google.com/AccountChooser?source=ogb\u0026continue=$continue\u0026Email=$email\u0026ec=GAhAqQM","https://accounts.google.com/RemoveLocalAccount?source=ogb","Remove","Sign in",0,1,1,0,1,1,0,null,null,null,"Session expired",null,null,null,"Visitor",null,"Default","Delegated","Sign out of all accounts",1,null,null,0,null,null,"myaccount.google.com","https",0,1,0],null,["1","gci_91f30755d6a6b787dcc2a4062e6e9824.js","googleapis.client:gapi.iframes","0","en-GB"],null,null,null,null,["m;/_/scs/abc-static/_/js/k=gapi.gapi.en.MGCxJbnW_Xw.O/am=AAAg/d=1/rs=AHpOoo9xa4htLEVH9xe6c4ToUehtTaLWvA/m=__features__","https://apis.google.com","","","1","",null,1,"es_plusone_gc_20240708.1_p2","en-GB",null,0],[0.009999999776482582,"co.in","425",[null,"","0",null,1,5184000,null,null,"",null,null,null,null,null,0,null,0,null,1,0,0,0,null,null,0,0,null,0,0,0,0,0],null,null,null,0,null,null,["5061451","google\\.(com|ru|ca|by|kz|com\\.mx|com\\.tr)$",1]],[1,null,null,40400,425,"IND","en-GB","652318230.0",8,null,1,0,null,null,null,null,"3700949,3701241,3701244,3701387,3701440",null,null,null,"f0mfZvWKB7-bp84PwLuZqAc",0,0,0,null,2,5,"nn",130,0,0,0,0,1,114591953,0,0],[[null,null,null,"https://www.gstatic.com/og/_/js/k=og.qtm.en_US.hYsvGMblRtE.2019.O/rt=j/m=qabr,qgl,q_dnp,qcwid,qbd,qapid,qads,qrcd,q_dg/exm=qaaw,qadd,qaid,qein,qhaw,qhba,qhbr,qhch,qhga,qhid,qhin/d=1/ed=1/rs=AA2YrTtTSQ_F1fFA043-VJ0kUaOQJ3WUvA"],[null,null,null,"https://www.gstatic.com/og/_/ss/k=og.qtm.WbLHcnqtuDY.L.W.O/m=qcwid/excm=qaaw,qadd,qaid,qein,qhaw,qhba,qhbr,qhch,qhga,qhid,qhin/d=1/ed=1/ct=zgms/rs=AA2YrTtcIX-HnDSsLAqIZhJE-F41GqQWkA"]],null,null,null,[[[null,null,[null,null,null,"https://ogs.google.com/u/0/widget/account?yac=1\u0026amb=1"],0,414,436,57,4,1,0,0,65,66,8000,"https://accounts.google.com/SignOutOptions?hl=en-GB\u0026continue=https://colab.research.google.com/drive/1-pKQw5cZm2EYAO9OZk2AuQjfpX_UFeEW\u0026ec=GBRAqQM",68,2,null,null,1,113,"Something went wrong.%1$s Refresh to try again or %2$schoose another account%3$s.",3,null,null,75,0,null,null,null,null,null,null,null,"/widget/account",["https","myaccount.google.com",0,32,83,0],0,0,1,["Critical security alert","Important account alert","Storage usage alert"],0,1,null,1,1,1,1,null,null,0,0,0,0,0,0],[null,null,[null,null,null,"https://ogs.google.com/u/0/widget/callout/sid?dc=1"],null,280,420,70,25,0,null,0,null,null,8000,null,71,4,null,null,null,null,null,null,null,null,76,null,null,null,107,108,109,"",null,null,null,null,null,null,null,null,null,null,null,null,null,null,null,null,null,null,null,null,0]],null,null,"425","425",1,0,null,"en-GB",0,["https://colab.research.google.com/drive/1-pKQw5cZm2EYAO9OZk2AuQjfpX_UFeEW?authuser=$authuser","https://accounts.google.com/AddSession?hl=en-GB\u0026continue=https://colab.research.google.com/drive/1-pKQw5cZm2EYAO9OZk2AuQjfpX_UFeEW\u0026ec=GAlAqQM","https://accounts.google.com/Logout?hl=en-GB\u0026continue=https://colab.research.google.com/drive/1-pKQw5cZm2EYAO9OZk2AuQjfpX_UFeEW\u0026timeStmp=1721715071\u0026secTok=.AG5fkS-_oklMSLBsOdVB53-3k70S7G9iSA\u0026ec=GAdAqQM","https://accounts.google.com/ListAccounts?listPages=0\u0026authuser=0\u0026pid=425\u0026gpsia=1\u0026source=ogb\u0026atic=1\u0026mo=1\u0026mn=1\u0026hl=en-GB\u0026ts=250",0,0,"",0,0,null,0,0,"https://accounts.google.com/ServiceLogin?passive=true\u0026continue=https%3A%2F%2Fcolab.research.google.com%2Fdrive%2F1-pKQw5cZm2EYAO9OZk2AuQjfpX_UFeEW\u0026ec=GAZAqQM",1,1,0],0,0,0,[null,"https://colab.research.google.com/drive/1-pKQw5cZm2EYAO9OZk2AuQjfpX_UFeEW",null,null,null,1,null,0,0,"","","52","https://ogads-pa.clients6.google.com",0,0,0,"","",0,0,0,86400],0],null,[["mousedown","touchstart","touchmove","wheel","keydown"],300000],[[null,null,null,"https://accounts.google.com/RotateCookiesPage"],3,null,null,null,0,0]]],};this.gbar_=this.gbar_||{};(function(_){var window=this;
try{
_._F_toggles_initialize=function(a){(typeof globalThis!=="undefined"?globalThis:typeof self!=="undefined"?self:this)._F_toggles=a||[]};(0,_._F_toggles_initialize)([]);
/*

 Copyright The Closure Library Authors.
 SPDX-License-Identifier: Apache-2.0
*/
var fa,ha,ma,oa,pa,ya,za,Ba,Ca,Da,Ga,Wa,Va,Ya,$a,Za,ab,bb,eb,fb,jb,mb,gb,lb,kb,ib,hb,nb,ob,xb,zb,Ab,Bb,Cb;_.aa=function(a,b){if(Error.captureStackTrace)Error.captureStackTrace(this,_.aa);else{const c=Error().stack;c&&(this.stack=c)}a&&(this.message=String(a));b!==void 0&&(this.cause=b)};_.ba=function(a){_.t.setTimeout(()=>{throw a;},0)};_.ca=function(){var a=_.t.navigator;return a&&(a=a.userAgent)?a:""};fa=function(a){return da?ea?ea.brands.some(({brand:b})=>b&&b.indexOf(a)!=-1):!1:!1};
_.u=function(a){return _.ca().indexOf(a)!=-1};ha=function(){return da?!!ea&&ea.brands.length>0:!1};_.ia=function(){return ha()?!1:_.u("Opera")};_.ka=function(){return ha()?!1:_.u("Trident")||_.u("MSIE")};_.la=function(){return _.u("Firefox")||_.u("FxiOS")};_.na=function(){return _.u("Safari")&&!(ma()||(ha()?0:_.u("Coast"))||_.ia()||(ha()?0:_.u("Edge"))||(ha()?fa("Microsoft Edge"):_.u("Edg/"))||(ha()?fa("Opera"):_.u("OPR"))||_.la()||_.u("Silk")||_.u("Android"))};
ma=function(){return ha()?fa("Chromium"):(_.u("Chrome")||_.u("CriOS"))&&!(ha()?0:_.u("Edge"))||_.u("Silk")};oa=function(){return da?!!ea&&!!ea.platform:!1};pa=function(){return _.u("iPhone")&&!_.u("iPod")&&!_.u("iPad")};_.qa=function(){return pa()||_.u("iPad")||_.u("iPod")};_.ra=function(){return oa()?ea.platform==="macOS":_.u("Macintosh")};_.ta=function(a,b){return _.sa(a,b)>=0};
_.ua=function(a){let b="",c=0;const d=a.length-10240;for(;c<d;)b+=String.fromCharCode.apply(null,a.subarray(c,c+=10240));b+=String.fromCharCode.apply(null,c?a.subarray(c):a);return btoa(b)};_.va=function(a){return a!=null&&a instanceof Uint8Array};_.wa=function(a){return Array.prototype.slice.call(a)};_.xa=function(a){return!!((a[_.v]|0)&2)};ya=function(a,b){b[_.v]=(a|0)&-14591};za=function(a,b){b[_.v]=(a|34)&-14557};Ba=function(a){return!(!a||typeof a!=="object"||a.i!==Aa)};
Ca=function(a){return a!==null&&typeof a==="object"&&!Array.isArray(a)&&a.constructor===Object};Da=function(a,b,c){if(!Array.isArray(a)||a.length)return!1;const d=a[_.v]|0;if(d&1)return!0;if(!(b&&(Array.isArray(b)?b.includes(c):b.has(c))))return!1;a[_.v]=d|1;return!0};_.Ea=function(a){if(a&2)throw Error();};Ga=function(a,b){(b=_.Fa?b[_.Fa]:void 0)&&(a[_.Fa]=_.wa(b))};_.Ia=function(){const a=Error();Ha(a,"incident");_.ba(a)};_.Ja=function(a){a=Error(a);Ha(a,"warning");return a};
_.La=function(a){if(typeof a!=="boolean")throw Error("s`"+_.Ka(a)+"`"+a);return a};_.Ma=function(a){if(!Number.isFinite(a))throw _.Ja("enum");return a|0};_.Na=function(a){if(typeof a!=="number")throw _.Ja("int32");if(!Number.isFinite(a))throw _.Ja("int32");return a|0};_.Oa=function(a){if(a!=null&&typeof a!=="string")throw Error();return a};_.Pa=function(a){return a==null||typeof a==="string"?a:void 0};
_.Ra=function(a,b,c){if(a!=null&&typeof a==="object"&&a.Dd===_.Qa)return a;if(Array.isArray(a)){var d=a[_.v]|0,e=d;e===0&&(e|=c&32);e|=c&2;e!==d&&(a[_.v]=e);return new b(a)}};_.Ta=function(a,b){Sa=b;a=new a(b);Sa=void 0;return a};
_.Ua=function(a,b,c){a==null&&(a=Sa);Sa=void 0;if(a==null){var d=96;c?(a=[c],d|=512):a=[];b&&(d=d&-16760833|(b&1023)<<14)}else{if(!Array.isArray(a))throw Error("t");d=a[_.v]|0;if(d&2048)throw Error("u");if(d&64)return a;d|=64;if(c&&(d|=512,c!==a[0]))throw Error("v");a:{c=a;const e=c.length;if(e){const f=e-1;if(Ca(c[f])){d|=256;b=f-(+!!(d&512)-1);if(b>=1024)throw Error("w");d=d&-16760833|(b&1023)<<14;break a}}if(b){b=Math.max(b,e-(+!!(d&512)-1));if(b>1024)throw Error("x");d=d&-16760833|(b&1023)<<14}}}a[_.v]=
d;return a};Wa=function(a,b){return Va(b)};Va=function(a){switch(typeof a){case "number":return isFinite(a)?a:String(a);case "boolean":return a?1:0;case "object":if(a)if(Array.isArray(a)){if(Da(a,void 0,0))return}else{if(_.va(a))return _.ua(a);if("function"==typeof _.Xa&&a instanceof _.Xa)return a.j()}}return a};Ya=function(a,b,c){const d=_.wa(a);var e=d.length;const f=b&256?d[e-1]:void 0;e+=f?-1:0;for(b=b&512?1:0;b<e;b++)d[b]=c(d[b]);if(f){b=d[b]={};for(const g in f)b[g]=c(f[g])}Ga(d,a);return d};
$a=function(a,b,c,d,e){if(a!=null){if(Array.isArray(a))a=Da(a,void 0,0)?void 0:e&&(a[_.v]|0)&2?a:Za(a,b,c,d!==void 0,e);else if(Ca(a)){const f={};for(let g in a)f[g]=$a(a[g],b,c,d,e);a=f}else a=b(a,d);return a}};Za=function(a,b,c,d,e){const f=d||c?a[_.v]|0:0;d=d?!!(f&32):void 0;const g=_.wa(a);for(let h=0;h<g.length;h++)g[h]=$a(g[h],b,c,d,e);c&&(Ga(g,a),c(f,g));return g};ab=function(a){return a.Dd===_.Qa?a.toJSON():Va(a)};
bb=function(a,b,c=za){if(a!=null){if(a instanceof Uint8Array)return b?a:new Uint8Array(a);if(Array.isArray(a)){var d=a[_.v]|0;if(d&2)return a;b&&(b=d===0||!!(d&32)&&!(d&64||!(d&16)));return b?(a[_.v]=(d|34)&-12293,a):Za(a,bb,d&4?za:c,!0,!0)}a.Dd===_.Qa&&(c=a.ma,d=c[_.v],a=d&2?a:_.Ta(a.constructor,_.cb(c,d,!0)));return a}};_.cb=function(a,b,c){const d=c||b&2?za:ya,e=!!(b&32);a=Ya(a,b,f=>bb(f,e,d));a[_.v]=a[_.v]|32|(c?2:0);return a};
_.db=function(a){const b=a.ma,c=b[_.v];return c&2?_.Ta(a.constructor,_.cb(b,c,!1)):a};eb=function(a){return a};fb=function(a){return a};jb=function(a,b,c,d){return gb(a,b,c,d,hb,ib)};mb=function(a,b,c,d){return gb(a,b,c,d,kb,lb)};
gb=function(a,b,c,d,e,f){if(!c.length&&!d)return 0;var g=0;let h=0,k=0;var l=0;let m=0;for(var p=c.length-1;p>=0;p--){var r=c[p];d&&p===c.length-1&&r===d||(l++,r!=null&&k++)}if(d)for(var q in d)p=+q,isNaN(p)||(m+=nb(p),h++,p>g&&(g=p));l=e(l,k)+f(h,g,m);q=k;p=h;r=g;let y=m;for(let F=c.length-1;F>=0;F--){var D=c[F];if(D==null||d&&F===c.length-1&&D===d)continue;D=F-b;const G=e(D,q)+f(p,r,y);G<l&&(a=1+D,l=G);p++;q--;y+=nb(D);r=Math.max(r,D)}b=e(0,0)+f(p,r,y);b<l&&(a=0,l=b);if(d){p=h;r=g;y=m;q=k;for(const F in d)d=
+F,isNaN(d)||d>=1024||(p--,q++,y-=F.length,g=e(d,q)+f(p,r,y),g<l&&(a=1+d,l=g))}return a};lb=function(a,b,c){return c+a*3+(a>1?a-1:0)};kb=function(a,b){return(a>1?a-1:0)+(a-b)*4};ib=function(a,b){return a==0?0:9*Math.max(1<<32-Math.clz32(a+a/2-1),4)<=b?a==0?0:a<4?100+(a-1)*16:a<6?148+(a-4)*16:a<12?244+(a-6)*16:a<22?436+(a-12)*19:a<44?820+(a-22)*17:52+32*a:40+4*b};hb=function(a){return 40+4*a};nb=function(a){return a>=100?a>=1E4?Math.ceil(Math.log10(1+a)):a<1E3?3:4:a<10?1:2};
ob=function(a,b,c,d){b=d+(+!!(b&512)-1);if(!(b<0||b>=a.length||b>=c))return a[b]};_.qb=function(a,b,c,d,e){const f=b>>14&1023||536870912;if(c>=f||e&&!pb){let g=b;if(b&256)e=a[a.length-1];else{if(d==null)return g;e=a[f+(+!!(b&512)-1)]={};g|=256}e[c]=d;c<f&&(a[c+(+!!(b&512)-1)]=void 0);g!==b&&(a[_.v]=g);return g}a[c+(+!!(b&512)-1)]=d;b&256&&(a=a[a.length-1],c in a&&delete a[c]);return b};_.sb=function(a,b,c,d){a=a.ma;let e=a[_.v];const f=_.rb(a,e,c,d);b=_.Ra(f,b,e);b!==f&&b!=null&&_.qb(a,e,c,b,d);return b};
_.tb=function(a,b){return a!=null?a:b};
xb=function(a){var b=ub?a.ma:Za(a.ma,ab,void 0,void 0,!1);{var c=!ub;var d=vb?void 0:a.constructor.oa;var e=(c?a.ma:b)[_.v];let C=b.length;if(C){var f=b[C-1],g=Ca(f);g?C--:f=void 0;a=+!!(e&512)-1;var h=C-a,k=!!wb&&pb&&!(e&512),l;e=(l=wb)!=null?l:fb;e=k?e(h,a,b,f):h;l=(h=k&&h!==e)?Array.prototype.slice.call(b,0,C):b;if(g||h){b:{var m=l;var p=f;g={};k=!1;if(h)for(var r=Math.max(0,e+a);r<m.length;r++){var q=m[r],y=r-a;q==null||Da(q,d,y)||Ba(q)&&q.size===0||(m[r]=void 0,g[y]=q,k=!0)}if(p)for(var D in p)if(r=
+D,isNaN(r))g[D]=p[D];else if(q=p[D],Array.isArray(q)&&(Da(q,d,+D)||Ba(q)&&q.size===0)&&(q=null),q==null&&(k=!0),h&&r<e){k=!0;q=r+a;for(y=m.length;y<=q;y++)m.push(void 0);m[q]=p[r]}else q!=null&&(g[D]=q);if(k){for(var F in g){p=g;break b}p=null}}m=p==null?f!=null:p!==f}h&&(C=l.length);for(var G;C>0;C--){F=C-1;D=l[F];F-=a;if(!(D==null||Da(D,d,F)||Ba(D)&&D.size===0))break;G=!0}if(l!==b||m||G){if(!h&&!c)l=Array.prototype.slice.call(l,0,C);else if(G||m||p)l.length=C;p&&l.push(p)}b=l}}return b};
_.w=function(a,b){return a!=null?!!a:!!b};_.x=function(a,b){b==void 0&&(b="");return a!=null?a:b};_.yb=function(a){for(const b in a)return!1;return!0};zb=typeof Object.defineProperties=="function"?Object.defineProperty:function(a,b,c){if(a==Array.prototype||a==Object.prototype)return a;a[b]=c.value;return a};
Ab=function(a){a=["object"==typeof globalThis&&globalThis,a,"object"==typeof window&&window,"object"==typeof self&&self,"object"==typeof global&&global];for(var b=0;b<a.length;++b){var c=a[b];if(c&&c.Math==Math)return c}throw Error("a");};Bb=Ab(this);Cb=function(a,b){if(b)a:{var c=Bb;a=a.split(".");for(var d=0;d<a.length-1;d++){var e=a[d];if(!(e in c))break a;c=c[e]}a=a[a.length-1];d=c[a];b=b(d);b!=d&&b!=null&&zb(c,a,{configurable:!0,writable:!0,value:b})}};
Cb("Symbol.dispose",function(a){return a?a:Symbol("b")});Cb("globalThis",function(a){return a||Bb});Cb("Promise.prototype.finally",function(a){return a?a:function(b){return this.then(function(c){return Promise.resolve(b()).then(function(){return c})},function(c){return Promise.resolve(b()).then(function(){throw c;})})}});var Fb,Gb,Ib,Jb;_.Db=_.Db||{};_.t=this||self;Fb=function(a,b){var c=_.Eb("WIZ_global_data.oxN3nb");a=c&&c[a];return a!=null?a:b};Gb=_.t._F_toggles||[];_.Eb=function(a,b){a=a.split(".");b=b||_.t;for(var c=0;c<a.length;c++)if(b=b[a[c]],b==null)return null;return b};_.Ka=function(a){var b=typeof a;return b!="object"?b:a?Array.isArray(a)?"array":b:"null"};_.Hb="closure_uid_"+(Math.random()*1E9>>>0);Ib=function(a,b,c){return a.call.apply(a.bind,arguments)};
Jb=function(a,b,c){if(!a)throw Error();if(arguments.length>2){var d=Array.prototype.slice.call(arguments,2);return function(){var e=Array.prototype.slice.call(arguments);Array.prototype.unshift.apply(e,d);return a.apply(b,e)}}return function(){return a.apply(b,arguments)}};_.z=function(a,b,c){_.z=Function.prototype.bind&&Function.prototype.bind.toString().indexOf("native code")!=-1?Ib:Jb;return _.z.apply(null,arguments)};
_.A=function(a,b){a=a.split(".");var c=_.t;a[0]in c||typeof c.execScript=="undefined"||c.execScript("var "+a[0]);for(var d;a.length&&(d=a.shift());)a.length||b===void 0?c[d]&&c[d]!==Object.prototype[d]?c=c[d]:c=c[d]={}:c[d]=b};_.B=function(a,b){function c(){}c.prototype=b.prototype;a.W=b.prototype;a.prototype=new c;a.prototype.constructor=a;a.dj=function(d,e,f){for(var g=Array(arguments.length-2),h=2;h<arguments.length;h++)g[h-2]=arguments[h];return b.prototype[e].apply(d,g)}};_.B(_.aa,Error);_.aa.prototype.name="CustomError";var Kb=!!(Gb[0]&1024),Lb=!!(Gb[0]&32),Mb=!!(Gb[0]&2048),Nb=!!(Gb[0]&16),Ob=!!(Gb[0]&8);var Pb=Fb(1,!0),da=Kb?Mb:Fb(610401301,!1),pb=Kb?Lb||!Ob:Fb(645172343,Pb);var vb=Kb?Lb||!Nb:Fb(188588736,Pb);_.Qb=typeof TextDecoder!=="undefined";_.Rb=typeof TextEncoder!=="undefined";_.Tb=String.prototype.trim?function(a){return a.trim()}:function(a){return/^[\s\xa0]*([\s\S]*?)[\s\xa0]*$/.exec(a)[1]};_.Ub=function(){return _.ca().toLowerCase().indexOf("webkit")!=-1};var ea,Vb=_.t.navigator;ea=Vb?Vb.userAgentData||null:null;_.sa=function(a,b){return Array.prototype.indexOf.call(a,b,void 0)};_.Wb=function(a,b,c){Array.prototype.forEach.call(a,b,c)};_.Xb=function(a){_.Xb[" "](a);return a};_.Xb[" "]=function(){};var jc;_.Yb=_.ia();_.Zb=_.ka();_.$b=_.u("Edge");_.ac=_.u("Gecko")&&!(_.Ub()&&!_.u("Edge"))&&!(_.u("Trident")||_.u("MSIE"))&&!_.u("Edge");_.bc=_.Ub()&&!_.u("Edge");_.cc=_.ra();_.dc=oa()?ea.platform==="Windows":_.u("Windows");_.ec=oa()?ea.platform==="Android":_.u("Android");_.fc=pa();_.gc=_.u("iPad");_.hc=_.u("iPod");_.ic=_.qa();
a:{var kc="",lc=function(){var a=_.ca();if(_.ac)return/rv:([^\);]+)(\)|;)/.exec(a);if(_.$b)return/Edge\/([\d\.]+)/.exec(a);if(_.Zb)return/\b(?:MSIE|rv)[: ]([^\);]+)(\)|;)/.exec(a);if(_.bc)return/WebKit\/(\S+)/.exec(a);if(_.Yb)return/(?:Version)[ \/]?(\S+)/.exec(a)}();lc&&(kc=lc?lc[1]:"");if(_.Zb){var mc,nc=_.t.document;mc=nc?nc.documentMode:void 0;if(mc!=null&&mc>parseFloat(kc)){jc=String(mc);break a}}jc=kc}_.oc=jc;_.pc=_.la();_.qc=pa()||_.u("iPod");_.rc=_.u("iPad");_.sc=_.u("Android")&&!(ma()||_.la()||_.ia()||_.u("Silk"));_.tc=ma();_.uc=_.na()&&!_.qa();var vc;_.v=Symbol();vc=Symbol();_.wc=Symbol();_.xc=Symbol();var Aa,zc;_.Qa={};Aa={};zc=[];zc[_.v]=55;_.yc=Object.freeze(zc);Object.freeze({});Object.freeze({});_.Ac=Object.freeze({});var Ha=function(a,b){a.__closure__error__context__984382||(a.__closure__error__context__984382={});a.__closure__error__context__984382.severity=b};var Bc;var Sa;_.Cc=function(a,b){a=a.ma;return _.rb(a,a[_.v],b)};_.rb=function(a,b,c,d){if(c===-1)return null;const e=b>>14&1023||536870912;if(c>=e){if(b&256)return a[a.length-1][c]}else{var f=a.length;if(d&&b&256&&(d=a[f-1][c],d!=null)){if(ob(a,b,e,c)&&vc!=null){var g;a=(g=Bc)!=null?g:Bc={};g=a[vc]||0;g>=4||(a[vc]=g+1,_.Ia())}return d}return ob(a,b,e,c)}};_.Dc=function(a,b,c){const d=a.ma;let e=d[_.v];_.Ea(e);_.qb(d,e,b,c);return a};
_.E=function(a,b,c,d=!1){b=_.sb(a,b,c,d);if(b==null)return b;a=a.ma;let e=a[_.v];if(!(e&2)){const f=_.db(b);f!==b&&(b=f,_.qb(a,e,c,b,d))}return b};_.H=function(a,b,c){c==null&&(c=void 0);return _.Dc(a,b,c)};_.I=function(a,b){a=_.Cc(a,b);return a==null||typeof a==="boolean"?a:typeof a==="number"?!!a:void 0};_.J=function(a,b){return _.Pa(_.Cc(a,b))};_.K=function(a,b,c=!1){return _.tb(_.I(a,b),c)};_.L=function(a,b){return _.tb(_.J(a,b),"")};_.M=function(a,b,c){return _.Dc(a,b,c==null?c:_.La(c))};
_.N=function(a,b,c){return _.Dc(a,b,c==null?c:_.Na(c))};_.O=function(a,b,c){return _.Dc(a,b,_.Oa(c))};_.P=function(a,b,c){return _.Dc(a,b,c==null?c:_.Ma(c))};var wb,ub;_.Q=class{constructor(a,b,c){this.ma=_.Ua(a,b,c)}toJSON(){return xb(this)}Ga(a){try{return ub=!0,a&&(wb=a===fb||a!==eb&&a!==jb&&a!==mb?fb:a),JSON.stringify(xb(this),Wa)}finally{a&&(wb=void 0),ub=!1}}uc(){return _.xa(this.ma)}};_.Q.prototype.Dd=_.Qa;_.Q.prototype.toString=function(){try{return ub=!0,xb(this).toString()}finally{ub=!1}};_.Ec=Symbol();_.Fc=Symbol();_.Gc=Symbol();_.Hc=Symbol();_.Ic=Symbol();var Jc=class extends _.Q{constructor(){super()}};_.Kc=class extends _.Q{constructor(){super()}D(a){return _.N(this,3,a)}};_.Kc.oa=[67];var Lc=class extends _.Q{constructor(a){super(a)}Lc(a){return _.O(this,24,a)}};_.Mc=class extends _.Q{constructor(a){super(a)}};_.R=function(){this.Ea=this.Ea;this.ea=this.ea};_.R.prototype.Ea=!1;_.R.prototype.isDisposed=function(){return this.Ea};_.R.prototype.dispose=function(){this.Ea||(this.Ea=!0,this.R())};_.R.prototype[Symbol.dispose]=function(){this.dispose()};_.R.prototype.R=function(){if(this.ea)for(;this.ea.length;)this.ea.shift()()};var Nc=class extends _.R{constructor(){var a=window;super();this.o=a;this.i=[];this.j={}}resolve(a){var b=this.o;a=a.split(".");for(var c=a.length,d=0;d<c;++d)if(b[a[d]])b=b[a[d]];else return null;return b instanceof Function?b:null}Cb(){for(var a=this.i.length,b=this.i,c=[],d=0;d<a;++d){var e=b[d].i(),f=this.resolve(e);if(f&&f!=this.j[e])try{b[d].Cb(f)}catch(g){}else c.push(b[d])}this.i=c.concat(b.slice(a))}};var Pc=class extends _.R{constructor(){var a=_.Oc;super();this.o=a;this.A=this.i=null;this.v=0;this.B={};this.j=!1;a=window.navigator.userAgent;a.indexOf("MSIE")>=0&&a.indexOf("Trident")>=0&&(a=/\b(?:MSIE|rv)[: ]([^\);]+)(\)|;)/.exec(a))&&a[1]&&parseFloat(a[1])<9&&(this.j=!0)}C(a,b){this.i=b;this.A=a;b.preventDefault?b.preventDefault():b.returnValue=!1}};_.Qc=class extends _.Q{constructor(a){super(a)}};var Rc=class extends _.Q{constructor(a){super(a)}};var Uc;_.Sc=function(a,b,c=98,d=new _.Kc){if(a.i){const e=new Jc;_.O(e,1,b.message);_.O(e,2,b.stack);_.N(e,3,b.lineNumber);_.P(e,5,1);_.H(d,40,e);a.i.log(c,d)}};Uc=class{constructor(){var a=Tc;this.i=null;_.K(a,4,!0)}log(a,b,c=new _.Kc){_.Sc(this,a,98,c)}};var Vc,Wc;Vc=function(a){if(a.o.length>0){var b=a.i!==void 0,c=a.j!==void 0;if(b||c){b=b?a.v:a.A;c=a.o;a.o=[];try{_.Wb(c,b,a)}catch(d){console.error(d)}}}};_.Xc=class{constructor(a){this.i=a;this.j=void 0;this.o=[]}then(a,b,c){this.o.push(new Wc(a,b,c));Vc(this)}resolve(a){if(this.i!==void 0||this.j!==void 0)throw Error("B");this.i=a;Vc(this)}reject(a){if(this.i!==void 0||this.j!==void 0)throw Error("B");this.j=a;Vc(this)}v(a){a.j&&a.j.call(a.i,this.i)}A(a){a.o&&a.o.call(a.i,this.j)}};
Wc=class{constructor(a,b,c){this.j=a;this.o=b;this.i=c}};_.Yc=a=>{var b="rc";if(a.rc&&a.hasOwnProperty(b))return a.rc;b=new a;return a.rc=b};_.Zc=class{constructor(){this.v=new _.Xc;this.i=new _.Xc;this.D=new _.Xc;this.B=new _.Xc;this.C=new _.Xc;this.A=new _.Xc;this.o=new _.Xc;this.j=new _.Xc;this.F=new _.Xc}K(){return this.v}M(){return this.i}N(){return this.D}L(){return this.B}Ea(){return this.C}ea(){return this.A}J(){return this.o}G(){return this.j}static i(){return _.Yc(_.Zc)}};var dd;_.ad=function(){return _.E(_.$c,Lc,1)};_.bd=function(){return _.E(_.$c,_.Mc,5)};dd=class extends _.Q{constructor(){super(cd)}};var cd;window.gbar_&&window.gbar_.CONFIG?cd=window.gbar_.CONFIG[0]||{}:cd=[];_.$c=new dd;var Tc=_.E(_.$c,Rc,3)||new Rc;_.ad()||new Lc;_.Oc=new Uc;_.A("gbar_._DumpException",function(a){_.Oc?_.Oc.log(a):console.error(a)});_.ed=new Pc;var gd;_.hd=function(a,b){var c=_.fd.i();if(a in c.i){if(c.i[a]!=b)throw new gd;}else{c.i[a]=b;const h=c.j[a];if(h)for(let k=0,l=h.length;k<l;k++){b=h[k];var d=c.i;delete b.i[a];if(_.yb(b.i)){for(var e=b.j.length,f=Array(e),g=0;g<e;g++)f[g]=d[b.j[g]];b.o.apply(b.v,f)}}delete c.j[a]}};_.fd=class{constructor(){this.i={};this.j={}}static i(){return _.Yc(_.fd)}};_.id=class extends _.aa{constructor(){super()}};gd=class extends _.id{};_.A("gbar.A",_.Xc);_.Xc.prototype.aa=_.Xc.prototype.then;_.A("gbar.B",_.Zc);_.Zc.prototype.ba=_.Zc.prototype.M;_.Zc.prototype.bb=_.Zc.prototype.N;_.Zc.prototype.bd=_.Zc.prototype.Ea;_.Zc.prototype.bf=_.Zc.prototype.K;_.Zc.prototype.bg=_.Zc.prototype.L;_.Zc.prototype.bh=_.Zc.prototype.ea;_.Zc.prototype.bj=_.Zc.prototype.J;_.Zc.prototype.bk=_.Zc.prototype.G;_.A("gbar.a",_.Zc.i());window.gbar&&window.gbar.ap&&window.gbar.ap(window.gbar.a);var jd=new Nc;_.hd("api",jd);
var kd=_.bd()||new _.Mc,ld=window,md=_.x(_.J(kd,8));ld.__PVT=md;_.hd("eq",_.ed);
}catch(e){_._DumpException(e)}
try{
_.nd=class extends _.Q{constructor(a){super(a)}};
}catch(e){_._DumpException(e)}
try{
var od=class extends _.Q{constructor(){super()}};var pd=class extends _.R{constructor(){super();this.j=[];this.i=[]}o(a,b){this.j.push({features:a,options:b})}init(a,b,c){window.gapi={};var d=window.___jsl={};d.h=_.x(_.J(a,1));_.I(a,12)!=null&&(d.dpo=_.w(_.K(a,12)));d.ms=_.x(_.J(a,2));d.m=_.x(_.J(a,3));d.l=[];_.L(b,1)&&(a=_.J(b,3))&&this.i.push(a);_.L(c,1)&&(c=_.J(c,2))&&this.i.push(c);_.A("gapi.load",(0,_.z)(this.o,this));return this}};var qd=_.E(_.$c,_.Qc,14);if(qd){var rd=_.E(_.$c,_.nd,9)||new _.nd,sd=new od,td=new pd;td.init(qd,rd,sd);_.hd("gs",td)};
}catch(e){_._DumpException(e)}
})(this.gbar_);
// Google Inc.
</script><script nonce="">try {const preferences = JSON.parse(window.localStorage.getItem("datalab_prefs_venkateshmoturi79@gmail.com")); document.querySelector('html') .setAttribute('theme', preferences['siteTheme'] || 'default');} catch (e) {}</script><script nonce="">window.performance.mark('head_start');</script><link rel="stylesheet" href="./LLM_zoomcamp_RAG_files/bundle.css"><script nonce="">var colabVersionTag = 'colab_20240719-060155_RC01_654103601'; var colabScsVersion = '5ed5a16f924bc4939872fe5b1ca9db3d'; var hl = 'en-GB'; var colabExperiments = JSON.parse('\x7b\x22ai_unsubscribed_warning\x22: false, \x22aida_complete_code_model_id\x22: \x22\x22, \x22aida_do_conversation_model_id\x22: \x22\x22, \x22aida_generate_code_model_id\x22: \x22\x22, \x22aida_in_editor\x22: false, \x22allowed_public_url_domains\x22: \x5b\x22huggingface.co\x22, \x22dagshub.com\x22, \x22storage.googleapis.com\x22\x5d, \x22auto_execute_prereqs\x22: false, \x22backend_version\x22: \x22next\x22, \x22cell_tags\x22: false, \x22chat_model_id_override\x22: \x22\x22, \x22classified_generate\x22: false, \x22classroom_iframe_parent_origin\x22: \x22\x22, \x22client_text_compose\x22: true, \x22client_trim_completion_text\x22: 400, \x22cloud_origin\x22: \x22\x22, \x22commands_in_toolbar\x22: false, \x22comment_poll_long\x22: 900000, \x22comment_poll_short\x22: 60000, \x22compose_skip_suffix_check\x22: false, \x22converse_server_side_history\x22: false, \x22converse_temp\x22: \x22\x22, \x22crawler\x22: false, \x22critique_comments\x22: false, \x22dbu\x22: \x22\x22, \x22debug_external\x22: \x22external\x22, \x22debug_prod\x22: \x22prod\x22, \x22dep_cells_commands\x22: false, \x22dep_graph\x22: false, \x22development\x22: false, \x22document_change_poll_interval\x22: 30000, \x22drive_anon_api_key\x22: \x22AIzaSyB10s2vWUTwP0pj20wZoxmpZIt3rRodYeg\x22, \x22drive_api_key\x22: \x22AIzaSyCN_sSPJMpYrAzC5AtTrltNC8oRmLtoqBk\x22, \x22drive_background_save_project_number\x22: \x22948411933973\x22, \x22drive_realtime_project_number\x22: \x22\x22, \x22embedded_connection_poll\x22: false, \x22embedded_one_pending_connect_request\x22: false, \x22embedding_app\x22: \x22\x22, \x22enable_adhoc_backends\x22: false, \x22enable_dasher_subscription_ui\x22: true, \x22enable_more_reprs\x22: true, \x22explain_cell\x22: false, \x22explain_error\x22: true, \x22explain_error_model_id_override\x22: \x22\x22, \x22explain_error_prompt_next\x22: true, \x22explain_error_trim_traceback\x22: true, \x22explicit_ai_backend\x22: \x22\x22, \x22external_trusted_github_org_repos_quick_add\x22: \x22GoogleChrome\/CrUX,google\/generative-ai-docs\x22, \x22file_browser_poll_interval_millis\x22: 60000, \x22file_upload_rate_limit\x22: 5, \x22filter_repetitive_suggestions\x22: false, \x22first_party_auth\x22: true, \x22fix_imports\x22: false, \x22gemini_rebrand\x22: true, \x22generate_code\x22: true, \x22generate_df\x22: true, \x22generate_prompt_reduce_blank_responses\x22: false, \x22generate_prompt_reduce_name_errors\x22: false, \x22generate_temp\x22: \x22\x22, \x22get_started\x22: false, \x22gis_auth\x22: true, \x22github_client_id\x22: \x225036cf6d81e65aaa6340\x22, \x22gpu_utilization_check_interval_ms\x22: 600000, \x22granular_browser_permissions\x22: false, \x22hats_surveys\x22: true, \x22hide_fix_error_for_long_code\x22: true, \x22hrc\x22: false, \x22import_data\x22: false, \x22interactive_sheet_next_steps\x22: false, \x22internal_chat\x22: false, \x22internal_schedule\x22: false, \x22is_prober\x22: false, \x22jsraw\x22: \x22compiled\x22, \x22key_promoter\x22: false, \x22kr\x22: false, \x22local_cloud_apis\x22: false, \x22local_service_worker\x22: false, \x22log_preferences_on_change\x22: false, \x22lsp_diagnostics_reporting\x22: false, \x22lsp_inlay_hint\x22: false, \x22lsrp\x22: 0, \x22ml_enabled\x22: true, \x22mlpp\x22: false, \x22mlpp_multiline\x22: false, \x22mlpp_on_by_default\x22: true, \x22mobile\x22: false, \x22next_steps\x22: true, \x22nl2code_missing_imports\x22: true, \x22no_fun\x22: false, \x22notebook_context_length\x22: 10000, \x22outage_notification\x22: \x22\x22, \x22outage_notification_link\x22: \x22\x22, \x22output_menu\x22: true, \x22outputframe_version\x22: \x22\x22, \x22override_suf_params_for_test\x22: false, \x22prereq_cells_next_steps\x22: false, \x22recaptcha_polling_frequency_ms\x22: 300000, \x22recaptcha_v2_site_key\x22: \x226LfQttQUAAAAADuPanA_VZMaZgBAOnHZNuuqUewp\x22, \x22recaptcha_v3_site_key\x22: \x226LfQPtEUAAAAAHBpAdFng54jyuB1V5w5dofknpip\x22, \x22reconnect_max_delay_seconds\x22: 300, \x22reduce_chat_not_answering\x22: true, \x22require_ai_consent\x22: true, \x22resource_poll_interval_ms\x22: 10000, \x22rp_kxhr\x22: false, \x22rp_lsp\x22: true, \x22rp_serve_kernel_port\x22: false, \x22rp_term\x22: true, \x22rp_token_refresh_headroom_millis\x22: 300000, \x22rt\x22: false, \x22runtime_env_overrides\x22: \x22\\n          \x5b\\n            \x5b\\\x22ENABLE_DIRECTORYPREFETCHER\\\x22, \\\x221\\\x22\x5d\\n          \x5d\\n        \x22, \x22runtime_type_for_test\x22: \x22\x22, \x22server_execution_queue\x22: true, \x22session_resume_coalesce\x22: true, \x22show_create_gemini_api_key_link\x22: false, \x22show_payments_interstitial\x22: false, \x22show_relnotes_on_open\x22: true, \x22show_signup_survey\x22: true, \x22show_subscription_renewal_time\x22: false, \x22show_switch_to_prod_link\x22: false, \x22smartpaste\x22: false, \x22smartpaste_serving_config\x22: \x22pl_700m_smart_paste_3.0.25\x22, \x22sql_cell\x22: false, \x22sql_cell_buttons\x22: false, \x22storage_partition_trial\x22: true, \x22storage_partition_trial_token\x22: \x22AmUpB2+Hlwk73pYiEMbnkef\/dprJi1I9rClec33apyFsbVOaCIRN29Rk9M4ht5Otgbp+thCc3MMD73GyCNfEWAkAAAB3eyJvcmlnaW4iOiJodHRwczovL2NvbGFiLnJlc2VhcmNoLmdvb2dsZS5jb206NDQzIiwiZmVhdHVyZSI6IkRpc2FibGVUaGlyZFBhcnR5U3RvcmFnZVBhcnRpdGlvbmluZyIsImV4cGlyeSI6MTcyNTQwNzk5OX0\x3d\x22, \x22suspicious_code_matches\x22: \x22\x22, \x22suspicious_code_regexs\x22: \x22\x22, \x22term4all\x22: false, \x22text_compose_report_changes_millis\x22: 10000, \x22text_span_comments\x22: false, \x22tpu_node_deprecation_warning\x22: true, \x22tpu_node_redirect\x22: true, \x22tpu_node_selector_grayed_out\x22: true, \x22tpu_node_selector_visible\x22: false, \x22tpu_vm\x22: true, \x22unmanaged_vm_min_label_block\x22: \x22\x22, \x22unmanaged_vm_min_label_warn\x22: \x22\x22, \x22unmanaged_vm_min_release_tag_block\x22: \x22\x22, \x22unmanaged_vm_min_release_tag_warn\x22: \x22\x22, \x22use_corplogin\x22: true, \x22use_dm_sql_lsp\x22: false, \x22user_visible_gpu_types\x22: \x5b\x22T4\x22, \x22A100\x22, \x22L4\x22\x5d, \x22verbose_warnings\x22: false, \x22vertex_ai_api_environment_override\x22: \x22\x22, \x22waffle\x22: false, \x22workstations\x22: false, \x22ids\x22: \x5b20730268, 20730177, 20730250, 20730261, 20730230, 20730185, 20730290, 20730265, 20730183, 20730129, 20730150, 20730159\x5d, \x22flag_ids\x22: \x7b\x22ai_unsubscribed_warning\x22: 45504730, \x22aida_complete_code_model_id\x22: 45427660, \x22aida_do_conversation_model_id\x22: 45427664, \x22aida_generate_code_model_id\x22: 45427663, \x22aida_in_editor\x22: 45425507, \x22allowed_public_url_domains\x22: 45425558, \x22auto_execute_prereqs\x22: 45624305, \x22backend_version\x22: 45425541, \x22cell_tags\x22: 45425779, \x22chat_model_id_override\x22: 45631876, \x22classified_generate\x22: 45425499, \x22classroom_iframe_parent_origin\x22: 45425537, \x22client_text_compose\x22: 45425512, \x22client_trim_completion_text\x22: 45425628, \x22cloud_origin\x22: 45425538, \x22commands_in_toolbar\x22: 45425502, \x22comment_poll_long\x22: 45425588, \x22comment_poll_short\x22: 45425587, \x22compose_skip_suffix_check\x22: 45615470, \x22converse_server_side_history\x22: 45634472, \x22converse_temp\x22: 45425509, \x22crawler\x22: 45425491, \x22critique_comments\x22: 45612076, \x22dbu\x22: 45425545, \x22debug_external\x22: 45425470, \x22debug_prod\x22: 45425471, \x22dep_cells_commands\x22: 45622249, \x22dep_graph\x22: 45629071, \x22development\x22: 45425544, \x22document_change_poll_interval\x22: 45425589, \x22drive_anon_api_key\x22: 45425478, \x22drive_api_key\x22: 45425473, \x22drive_background_save_project_number\x22: 45425479, \x22drive_realtime_project_number\x22: 45425629, \x22embedded_connection_poll\x22: 45491618, \x22embedded_one_pending_connect_request\x22: 45640470, \x22enable_adhoc_backends\x22: 45425506, \x22enable_dasher_subscription_ui\x22: 45639531, \x22enable_more_reprs\x22: 45613354, \x22explain_cell\x22: 45425505, \x22explain_error\x22: 45425487, \x22explain_error_model_id_override\x22: 45631875, \x22explain_error_prompt_next\x22: 45615229, \x22explain_error_trim_traceback\x22: 45618831, \x22explicit_ai_backend\x22: 45638548, \x22external_trusted_github_org_repos_quick_add\x22: 45425555, \x22file_browser_poll_interval_millis\x22: 45643722, \x22file_upload_rate_limit\x22: 45637799, \x22filter_repetitive_suggestions\x22: 45615781, \x22first_party_auth\x22: 45425560, \x22fix_imports\x22: 45624140, \x22gemini_rebrand\x22: 45631310, \x22generate_code\x22: 45425492, \x22generate_df\x22: 45425503, \x22generate_prompt_reduce_blank_responses\x22: 45643396, \x22generate_prompt_reduce_name_errors\x22: 45634392, \x22generate_temp\x22: 45425508, \x22get_started\x22: 45430267, \x22gis_auth\x22: 45425625, \x22github_client_id\x22: 45425556, \x22gpu_utilization_check_interval_ms\x22: 45425561, \x22granular_browser_permissions\x22: 45630936, \x22hats_surveys\x22: 45425559, \x22hide_fix_error_for_long_code\x22: 45638639, \x22import_data\x22: 45430411, \x22interactive_sheet_next_steps\x22: 45634324, \x22internal_chat\x22: 45622872, \x22internal_schedule\x22: 45425578, \x22is_prober\x22: 45429104, \x22jsraw\x22: 45425557, \x22key_promoter\x22: 45425570, \x22local_cloud_apis\x22: 45425630, \x22local_service_worker\x22: 45425550, \x22log_preferences_on_change\x22: 45643817, \x22lsp_diagnostics_reporting\x22: 45425604, \x22lsp_inlay_hint\x22: 45614695, \x22lsrp\x22: 45425612, \x22ml_enabled\x22: 45425493, \x22mlpp\x22: 45425608, \x22mlpp_multiline\x22: 45425623, \x22mlpp_on_by_default\x22: 45425609, \x22mobile\x22: 45425562, \x22next_steps\x22: 45428239, \x22nl2code_missing_imports\x22: 45615676, \x22no_fun\x22: 45425540, \x22notebook_context_length\x22: 45633457, \x22outage_notification\x22: 45425584, \x22outage_notification_link\x22: 45425585, \x22output_menu\x22: 45617054, \x22outputframe_version\x22: 45425591, \x22override_suf_params_for_test\x22: 45425592, \x22prereq_cells_next_steps\x22: 45640400, \x22recaptcha_polling_frequency_ms\x22: 45425582, \x22recaptcha_v2_site_key\x22: 45425581, \x22recaptcha_v3_site_key\x22: 45425580, \x22reconnect_max_delay_seconds\x22: 45425539, \x22reduce_chat_not_answering\x22: 45640977, \x22require_ai_consent\x22: 45425489, \x22resource_poll_interval_ms\x22: 45425590, \x22rp_kxhr\x22: 45491686, \x22rp_lsp\x22: 45462965, \x22rp_serve_kernel_port\x22: 45572083, \x22rp_term\x22: 45426219, \x22rp_token_refresh_headroom_millis\x22: 45517773, \x22rt\x22: 45425624, \x22runtime_env_overrides\x22: 45425583, \x22runtime_type_for_test\x22: 45425586, \x22server_execution_queue\x22: 45425600, \x22session_resume_coalesce\x22: 45425603, \x22show_create_gemini_api_key_link\x22: 45644190, \x22show_payments_interstitial\x22: 45425543, \x22show_relnotes_on_open\x22: 45428128, \x22show_signup_survey\x22: 45425620, \x22show_subscription_renewal_time\x22: 45425569, \x22show_switch_to_prod_link\x22: 45425483, \x22smartpaste\x22: 45627425, \x22smartpaste_serving_config\x22: 45630585, \x22sql_cell\x22: 45425497, \x22sql_cell_buttons\x22: 45425498, \x22suspicious_code_matches\x22: 45425615, \x22suspicious_code_regexs\x22: 45425616, \x22term4all\x22: 45425542, \x22text_compose_report_changes_millis\x22: 45425568, \x22text_span_comments\x22: 45545873, \x22tpu_node_deprecation_warning\x22: 45630619, \x22tpu_node_redirect\x22: 45634372, \x22tpu_node_selector_grayed_out\x22: 45630664, \x22tpu_node_selector_visible\x22: 45630663, \x22tpu_vm\x22: 45614812, \x22unmanaged_vm_min_label_block\x22: 45425546, \x22unmanaged_vm_min_label_warn\x22: 45425547, \x22unmanaged_vm_min_release_tag_block\x22: 45425548, \x22unmanaged_vm_min_release_tag_warn\x22: 45425549, \x22use_corplogin\x22: 45425606, \x22use_dm_sql_lsp\x22: 45425610, \x22user_visible_gpu_types\x22: 45620529, \x22verbose_warnings\x22: 45425551, \x22vertex_ai_api_environment_override\x22: 45612077, \x22waffle\x22: 45446491, \x22workstations\x22: 45425626\x7d\x7d'); var colabUserEmail = 'venkateshmoturi79@gmail.com'; var colabRenderDataToken = 'AFWLbD1rKfwIX10sFbzf-yiI6mu5DDb6CPh-vS-meVxmNnBTcHFoPbDq6ESV4J0MrSf5pqOxA18aymEiU_894xwW3PjckKifsdlTKDsn'; var colabConfig = '\x5b\x5b\x22venkateshmoturi79@gmail.com\x22,\x5b1,\x22AHXL0D1I9hGRBAQANNMoK2+tnAaFBb6keeLWg6ey3dR7omzYRL\/+1MYynaI4j7F5olbr1FNjyI52V989\/HrUO9KYgsBg\/AWJivDQElVAS4J4X0MPrWYs+unaikAdyu8mY8iqCA6lcYKqXd7PYw0bWw1TztX7Ak90G9bS690+owg8xZyymAkZ0U3jLqPHluB8O+IYkHKjf0rlCseQOuR+aLhaeQdbZu5iNY8pxzg7Oz+s75biVwMovCFlVNEn1CuEtixnrb5Ny\/GBXgwCVNWBuYUjGPq7d1C8hAKAPZfc2cR5DZgRpQUqVdYmLvh5yLanrSGB7o\/1z1uxT\/Y7Y5QxuvnmpHgArcMqZ5FJO+tBQM2D1wOEEiIqBPGb+LT8zAEIR7eJ0Kd1b5BBPszkdPCfLcgQKwyRBnZb40S8\/7M50jr6m6SFfMvuFao1ZNmN1p91obtMpekNnJtg6+HQTWrBpVvvQ+8++3zYF6kfGzH+010biad\/ma44mjYoUvcNoRgaaPM5q\/HFw4f5TI66UwnquLGkwF8AVH+34NmrL+fRZbL1HP1Dplm1P4n7QOSy\/1EaEgiNr+fc23tb81+Y6YSCUuiYr2sjzABbr49eG1OHNskYNOZ5pzxlYaFPsxppHZrdf162I8VNHoHk7wo9jltDhgvONO8+nGOS9HlCczhJyDiaG2hiy+ldbVnSv0I6fXIE7zB\/J2Cb5a8Yt9PSl9SU4BpXvpiWWVfBDsLmoCPQ8cCxJ0xIUqIe3nxepK2bvJ9F+5B0e6KaxCPZsKu21ZOcIlkft0ZsopknHJr2aZLGj+18lLo+++XZ8AtJUtNu0P71mfbYBI3NoKCv5vT9qc55CZfrBdqY+1WGYChSafmFNWx61CLm3CYMGpnUIqY0lROdy1vb8JJmvNm7B47YMzxek3eGfPNY0Rb\/L+G5JQM8SebV\/QN28fB\/PSTWb3u9EtPYXWNd6RwF0RzZI9Y3v5ZPgb0xKwgRME+OyTrA5xXT1ZS7gbcItnU21cjgtIBZyAVW1WcxhmtgN7iITX2UYxEox+3vnxbU8Ov7YTI4Wn0n0Kv\/4gjs2RDzfjuVs9TA+DyU0ZuSGgfZbHiNEtyecE2XruhYOKUCp8zdO\/17KwkhSibyopwbQnqk83av6RcrLOlJbu9UwhNPNv22LASXr8jfWHH7dpXyOCSbeA64mXm7QqE9v3PCNWHZ\/QZ+gc+t27o6e2rs3+LTvpS7TPYARErPQ98zjcLIJSgXdsxZqxW6jD8uNnPWvZ3JTpu3QVfWrQOEkR37NUAwsmaJkiKtzCWkU8\/Y5PENa8UuJYx2MQhqPZOewtDPyaH\/Tl7BYmIJuHoaiGnUS5CqA3ujgXBZKV\/BEpve\/o5cSJc23pTOrxBaVo9NvsEoS3kAbqXNaHQ9Xpf07hGbzKe6lYTPQ5ojAR2lLLX++ZMmqO5lOVFEZ\/joKVMhaNEsNkebUw3ee87qnPZBE\/57Go0emQjEDwOITGjrKO4PN\/mE77n1bcwsDMmu9Hbr6\/eGpNoJub5wKnXDSHCUpElafWVDmBWwauwdWT1oIqESi6Zb0kreC8rQBEweUiMuucQtzGj9k89LFASPKInTo\/8J8v2u3F8YoVEokrz84went7gIsThxxEZ2k0TsB+Tij3um1+CEnr0qrPFaS8BgfWSaY\/h12vd+nlA2D10IWiNQgJbUAAsIt08FYcL6VqoOoecHta1sYcz0ijiqxpLqFav3R4EXnFQI1FRhaueviFIpKDLLFEFGBv\/aLG8ft4RY\/l4OaCFUIpDZLAZV4pOtNr915vUPiyZSlgAzoKYfx8xBZQPhzvBaj4BtYIqX60muxpj7fGP8Hguf6rn7xV5E5rOszLPaIDbrzcdiDjJEvREORZG0Wnz5LYcL26Z8RWLUCtRmG94ruAs\x3d\x22,\x22AJ9oCCxLIEF10Vt\/WCY8+CL4UaymMnQ8Z3hQzcboxXo\/l8\/sOQZ0GTqo++69ijWguij658ZlwU+n17NHrlBZUjA+DoUCDvv1foZeFfv5ASqAx+1ikVipgFCTBPANMJPbqC3RZkLJpR3D\x22,\x22https:\/\/payments.google.com\/payments\x22,0,0,null,null,null,\x22$11.79\x22,\x22$58.99\x22,\x22$11.79\x22,\x22$58.99\x22\x5d,\x5b1,5\x5d,\x22IN\x22,0\x5d\x5d';</script><link id="favicon-link" rel="shortcut icon" href="https://ssl.gstatic.com/colaboratory-static/common/5ed5a16f924bc4939872fe5b1ca9db3d/img%2Ffavicon_busy.ico"><meta name="google-site-verification" content="wRgpUU3mIRZPD1GORBPNonaotM72092B_DsqQFWNa4s"><meta name="google-site-verification" content="f5qdvL6RAXlBgHezvCLpPtvx2wU5ZgIzzPULroprlnA"><meta name="google-site-verification" content="-wL8iYJTC7X0zF9qBNDQUAd-P1ZkQUK-OhSgv4Wkf1M"><meta name="google-site-verification" content="o-EECwEDQeUpZv0jTmoGfCDX7dUI8Kul4ESepXmDnO0"><meta name="google-site-verification" content="sNOroO9gXrazN-oMODOm0Bs0_vw1R5QwZ-BfrSHn8Io"><meta name="google-site-verification" content="K1UdZBHJXQYnJGXIK1KuutmVy6dn3vG2sEyV9D1C6dM"><meta name="google-site-verification" content="wdGthzzfu0IjM3qpFqTuQL9poAQZAvAaFKyuzetLpIM"><meta name="google-site-verification" content="qZJ77guHGO0TObHUBRYVdXQlIhXBBuz8dahJVmIlzCo"><meta name="google-site-verification" content="7ahoeOOKT2ZR781GZ5xK4L9t7yO1ZOHc-gaoUALEYgw"><meta name="google-site-verification" content="PHgaSKwdxZELS21aixtLhfpvaHtKen9pnVJ25EI35Zs"><meta name="google-site-verification" content="Ozey1ptWUQW13_lCEhpPMOcmRBLqdyB3WEL-TJUjskU"><meta name="google-site-verification" content="rF5iXzWe9KZXJes1dQNhOUkS4_z_e97IrsVoCx2trek"><meta name="google-site-verification" content="z-WR3zzv8XZ5FFfBLLDbyTiN35UXm01nWUS2Uej5pwg"><meta name="google-site-verification" content="cpB5oulaGwqSxsg4E-9q2MVbK87iE9NAUUVxdveucPw"><meta name="google-site-verification" content="8P-D5fVWgUIhw8X2BxnKJbf5itK0zxX0QhoBjbJFTe8"><meta name="google-site-verification" content="88fgsZDoVRBuRnDPMIEjcHCxsEXzODOqEsJoqtvQsDc"><meta name="google-site-verification" content="sMarhZgb4va_L_7UTdMR43gDZ2gVqc_5GHN4REpQPGY"><meta name="google-site-verification" content="26aKGBCw3XblB5Ou01UhxY5WDtMqHjoTm6P-lvF6AqE"><meta name="google-site-verification" content="DGionF7db9g0dOgeBXwOAN2tmCzWBdo5yOdc_-5UcuE"><meta name="google-site-verification" content="Q9LlidR0toR7UtSyVO23xNeaqJmRp8I6r4ghBQTtntU"><meta name="google-site-verification" content="rQawcZaTEK_UrDG30cz_7nVKOVvBass61QEes0Tm04g"><meta name="google-site-verification" content="8L3ghjzKIj241AYAmEygniTe604tsXFkIrb1v-DBtGo"><meta name="google-site-verification" content="Osw7QcOK045GmOYJI2MM2_7AaL-s4q6pdn8gIv6JNxA"><meta name="google-site-verification" content="KiunYPvrY5x8umvAWcjhwPrB677xCar2LeT_8yaVrDg"><meta name="google-site-verification" content="b6bOMRzMVX2bJABYDGBPtpGcB_AUZ-o2SOTggQXErkg"><meta name="google-site-verification" content="v2MQvJk6wTiBarKTbe1mdivqYCVtw-5m6w0HDzV5X_4"><meta name="google-site-verification" content="-N1hdkiHJQ6kwJALkHVh2ZzV2fFNER0schZl2AU6zvc"><meta property="og:type" content="article"><meta property="og:image" content="https://colab.research.google.com/img/colab_favicon_256px.png"><meta property="og:title" content="Google Colab"><meta http-equiv="origin-trial" content="AmUpB2+Hlwk73pYiEMbnkef/dprJi1I9rClec33apyFsbVOaCIRN29Rk9M4ht5Otgbp+thCc3MMD73GyCNfEWAkAAAB3eyJvcmlnaW4iOiJodHRwczovL2NvbGFiLnJlc2VhcmNoLmdvb2dsZS5jb206NDQzIiwiZmVhdHVyZSI6IkRpc2FibGVUaGlyZFBhcnR5U3RvcmFnZVBhcnRpdGlvbmluZyIsImV4cGlyeSI6MTcyNTQwNzk5OX0="><script nonce="">window.performance.mark('head_end'); window.performance.measure('head', 'head_start', 'head_end');</script><script async="" src="./LLM_zoomcamp_RAG_files/lazy.min.js.download" nonce=""></script><style id="inert-style">
[inert] {
  pointer-events: none;
  cursor: default;
}

[inert], [inert] * {
  user-select: none;
  -webkit-user-select: none;
  -moz-user-select: none;
  -ms-user-select: none;
}
</style><script async="async" type="text/javascript" src="./LLM_zoomcamp_RAG_files/editor.main.js.download"></script><script async="" type="text/javascript" charset="UTF-8" src="./LLM_zoomcamp_RAG_files/rs=AA2YrTtTSQ_F1fFA043-VJ0kUaOQJ3WUvA" nonce=""></script><link type="text/css" href="./LLM_zoomcamp_RAG_files/rs=AA2YrTtcIX-HnDSsLAqIZhJE-F41GqQWkA" rel="stylesheet"><link rel="stylesheet" type="text/css" data-name="vs/editor/editor.main" href="./LLM_zoomcamp_RAG_files/editor.main.css"><script async="async" type="text/javascript" src="./LLM_zoomcamp_RAG_files/editor.main.nls.js.download"></script><script async="async" type="text/javascript" src="./LLM_zoomcamp_RAG_files/markdown.js.download"></script><style type="text/css">.MathJax_Hover_Frame {border-radius: .25em; -webkit-border-radius: .25em; -moz-border-radius: .25em; -khtml-border-radius: .25em; box-shadow: 0px 0px 15px #83A; -webkit-box-shadow: 0px 0px 15px #83A; -moz-box-shadow: 0px 0px 15px #83A; -khtml-box-shadow: 0px 0px 15px #83A; border: 1px solid #A6D ! important; display: inline-block; position: absolute}
.MathJax_Menu_Button .MathJax_Hover_Arrow {position: absolute; cursor: pointer; display: inline-block; border: 2px solid #AAA; border-radius: 4px; -webkit-border-radius: 4px; -moz-border-radius: 4px; -khtml-border-radius: 4px; font-family: 'Courier New',Courier; font-size: 9px; color: #F0F0F0}
.MathJax_Menu_Button .MathJax_Hover_Arrow span {display: block; background-color: #AAA; border: 1px solid; border-radius: 3px; line-height: 0; padding: 4px}
.MathJax_Hover_Arrow:hover {color: white!important; border: 2px solid #CCC!important}
.MathJax_Hover_Arrow:hover span {background-color: #CCC!important}
</style><style type="text/css">#MathJax_About {position: fixed; left: 50%; width: auto; text-align: center; border: 3px outset; padding: 1em 2em; background-color: #DDDDDD; color: black; cursor: default; font-family: message-box; font-size: 120%; font-style: normal; text-indent: 0; text-transform: none; line-height: normal; letter-spacing: normal; word-spacing: normal; word-wrap: normal; white-space: nowrap; float: none; z-index: 201; border-radius: 15px; -webkit-border-radius: 15px; -moz-border-radius: 15px; -khtml-border-radius: 15px; box-shadow: 0px 10px 20px #808080; -webkit-box-shadow: 0px 10px 20px #808080; -moz-box-shadow: 0px 10px 20px #808080; -khtml-box-shadow: 0px 10px 20px #808080; filter: progid:DXImageTransform.Microsoft.dropshadow(OffX=2, OffY=2, Color='gray', Positive='true')}
#MathJax_About.MathJax_MousePost {outline: none}
.MathJax_Menu {position: absolute; background-color: white; color: black; width: auto; padding: 2px; border: 1px solid #CCCCCC; margin: 0; cursor: default; font: menu; text-align: left; text-indent: 0; text-transform: none; line-height: normal; letter-spacing: normal; word-spacing: normal; word-wrap: normal; white-space: nowrap; float: none; z-index: 201; box-shadow: 0px 10px 20px #808080; -webkit-box-shadow: 0px 10px 20px #808080; -moz-box-shadow: 0px 10px 20px #808080; -khtml-box-shadow: 0px 10px 20px #808080; filter: progid:DXImageTransform.Microsoft.dropshadow(OffX=2, OffY=2, Color='gray', Positive='true')}
.MathJax_MenuItem {padding: 2px 2em; background: transparent}
.MathJax_MenuArrow {position: absolute; right: .5em; padding-top: .25em; color: #666666; font-size: .75em}
.MathJax_MenuActive .MathJax_MenuArrow {color: white}
.MathJax_MenuArrow.RTL {left: .5em; right: auto}
.MathJax_MenuCheck {position: absolute; left: .7em}
.MathJax_MenuCheck.RTL {right: .7em; left: auto}
.MathJax_MenuRadioCheck {position: absolute; left: 1em}
.MathJax_MenuRadioCheck.RTL {right: 1em; left: auto}
.MathJax_MenuLabel {padding: 2px 2em 4px 1.33em; font-style: italic}
.MathJax_MenuRule {border-top: 1px solid #CCCCCC; margin: 4px 1px 0px}
.MathJax_MenuDisabled {color: GrayText}
.MathJax_MenuActive {background-color: Highlight; color: HighlightText}
.MathJax_MenuDisabled:focus, .MathJax_MenuLabel:focus {background-color: #E8E8E8}
.MathJax_ContextMenu:focus {outline: none}
.MathJax_ContextMenu .MathJax_MenuItem:focus {outline: none}
#MathJax_AboutClose {top: .2em; right: .2em}
.MathJax_Menu .MathJax_MenuClose {top: -10px; left: -10px}
.MathJax_MenuClose {position: absolute; cursor: pointer; display: inline-block; border: 2px solid #AAA; border-radius: 18px; -webkit-border-radius: 18px; -moz-border-radius: 18px; -khtml-border-radius: 18px; font-family: 'Courier New',Courier; font-size: 24px; color: #F0F0F0}
.MathJax_MenuClose span {display: block; background-color: #AAA; border: 1.5px solid; border-radius: 18px; -webkit-border-radius: 18px; -moz-border-radius: 18px; -khtml-border-radius: 18px; line-height: 0; padding: 8px 0 6px}
.MathJax_MenuClose:hover {color: white!important; border: 2px solid #CCC!important}
.MathJax_MenuClose:hover span {background-color: #CCC!important}
.MathJax_MenuClose:hover:focus {outline: none}
</style><style type="text/css">.MJX_Assistive_MathML {position: absolute!important; top: 0; left: 0; clip: rect(1px, 1px, 1px, 1px); padding: 1px 0 0 0!important; border: 0!important; height: 1px!important; width: 1px!important; overflow: hidden!important; display: block!important; -webkit-touch-callout: none; -webkit-user-select: none; -khtml-user-select: none; -moz-user-select: none; -ms-user-select: none; user-select: none}
.MJX_Assistive_MathML.MJX_Assistive_MathML_Block {width: 100%!important}
</style><style type="text/css">#MathJax_Zoom {position: absolute; background-color: #F0F0F0; overflow: auto; display: block; z-index: 301; padding: .5em; border: 1px solid black; margin: 0; font-weight: normal; font-style: normal; text-align: left; text-indent: 0; text-transform: none; line-height: normal; letter-spacing: normal; word-spacing: normal; word-wrap: normal; white-space: nowrap; float: none; -webkit-box-sizing: content-box; -moz-box-sizing: content-box; box-sizing: content-box; box-shadow: 5px 5px 15px #AAAAAA; -webkit-box-shadow: 5px 5px 15px #AAAAAA; -moz-box-shadow: 5px 5px 15px #AAAAAA; -khtml-box-shadow: 5px 5px 15px #AAAAAA; filter: progid:DXImageTransform.Microsoft.dropshadow(OffX=2, OffY=2, Color='gray', Positive='true')}
#MathJax_ZoomOverlay {position: absolute; left: 0; top: 0; z-index: 300; display: inline-block; width: 100%; height: 100%; border: 0; padding: 0; margin: 0; background-color: white; opacity: 0; filter: alpha(opacity=0)}
#MathJax_ZoomFrame {position: relative; display: inline-block; height: 0; width: 0}
#MathJax_ZoomEventTrap {position: absolute; left: 0; top: 0; z-index: 302; display: inline-block; border: 0; padding: 0; margin: 0; background-color: white; opacity: 0; filter: alpha(opacity=0)}
</style><style type="text/css">.MathJax_Preview {color: #888}
#MathJax_Message {position: fixed; left: 1em; bottom: 1.5em; background-color: #E6E6E6; border: 1px solid #959595; margin: 0px; padding: 2px 8px; z-index: 102; color: black; font-size: 80%; width: auto; white-space: nowrap}
#MathJax_MSIE_Frame {position: absolute; top: 0; left: 0; width: 0px; z-index: 101; border: 0px; margin: 0px; padding: 0px}
.MathJax_Error {color: #CC0000; font-style: italic}
</style><script src="./LLM_zoomcamp_RAG_files/api.js.download" nonce=""></script><script src="./LLM_zoomcamp_RAG_files/api(1).js.download" nonce=""></script><style type="text/css" media="screen" class="monaco-colors">.codicon-add:before { content: '\ea60'; }
.codicon-plus:before { content: '\ea60'; }
.codicon-gist-new:before { content: '\ea60'; }
.codicon-repo-create:before { content: '\ea60'; }
.codicon-lightbulb:before { content: '\ea61'; }
.codicon-light-bulb:before { content: '\ea61'; }
.codicon-repo:before { content: '\ea62'; }
.codicon-repo-delete:before { content: '\ea62'; }
.codicon-gist-fork:before { content: '\ea63'; }
.codicon-repo-forked:before { content: '\ea63'; }
.codicon-git-pull-request:before { content: '\ea64'; }
.codicon-git-pull-request-abandoned:before { content: '\ea64'; }
.codicon-record-keys:before { content: '\ea65'; }
.codicon-keyboard:before { content: '\ea65'; }
.codicon-tag:before { content: '\ea66'; }
.codicon-tag-add:before { content: '\ea66'; }
.codicon-tag-remove:before { content: '\ea66'; }
.codicon-person:before { content: '\ea67'; }
.codicon-person-follow:before { content: '\ea67'; }
.codicon-person-outline:before { content: '\ea67'; }
.codicon-person-filled:before { content: '\ea67'; }
.codicon-git-branch:before { content: '\ea68'; }
.codicon-git-branch-create:before { content: '\ea68'; }
.codicon-git-branch-delete:before { content: '\ea68'; }
.codicon-source-control:before { content: '\ea68'; }
.codicon-mirror:before { content: '\ea69'; }
.codicon-mirror-public:before { content: '\ea69'; }
.codicon-star:before { content: '\ea6a'; }
.codicon-star-add:before { content: '\ea6a'; }
.codicon-star-delete:before { content: '\ea6a'; }
.codicon-star-empty:before { content: '\ea6a'; }
.codicon-comment:before { content: '\ea6b'; }
.codicon-comment-add:before { content: '\ea6b'; }
.codicon-alert:before { content: '\ea6c'; }
.codicon-warning:before { content: '\ea6c'; }
.codicon-search:before { content: '\ea6d'; }
.codicon-search-save:before { content: '\ea6d'; }
.codicon-log-out:before { content: '\ea6e'; }
.codicon-sign-out:before { content: '\ea6e'; }
.codicon-log-in:before { content: '\ea6f'; }
.codicon-sign-in:before { content: '\ea6f'; }
.codicon-eye:before { content: '\ea70'; }
.codicon-eye-unwatch:before { content: '\ea70'; }
.codicon-eye-watch:before { content: '\ea70'; }
.codicon-circle-filled:before { content: '\ea71'; }
.codicon-primitive-dot:before { content: '\ea71'; }
.codicon-close-dirty:before { content: '\ea71'; }
.codicon-debug-breakpoint:before { content: '\ea71'; }
.codicon-debug-breakpoint-disabled:before { content: '\ea71'; }
.codicon-debug-hint:before { content: '\ea71'; }
.codicon-primitive-square:before { content: '\ea72'; }
.codicon-edit:before { content: '\ea73'; }
.codicon-pencil:before { content: '\ea73'; }
.codicon-info:before { content: '\ea74'; }
.codicon-issue-opened:before { content: '\ea74'; }
.codicon-gist-private:before { content: '\ea75'; }
.codicon-git-fork-private:before { content: '\ea75'; }
.codicon-lock:before { content: '\ea75'; }
.codicon-mirror-private:before { content: '\ea75'; }
.codicon-close:before { content: '\ea76'; }
.codicon-remove-close:before { content: '\ea76'; }
.codicon-x:before { content: '\ea76'; }
.codicon-repo-sync:before { content: '\ea77'; }
.codicon-sync:before { content: '\ea77'; }
.codicon-clone:before { content: '\ea78'; }
.codicon-desktop-download:before { content: '\ea78'; }
.codicon-beaker:before { content: '\ea79'; }
.codicon-microscope:before { content: '\ea79'; }
.codicon-vm:before { content: '\ea7a'; }
.codicon-device-desktop:before { content: '\ea7a'; }
.codicon-file:before { content: '\ea7b'; }
.codicon-file-text:before { content: '\ea7b'; }
.codicon-more:before { content: '\ea7c'; }
.codicon-ellipsis:before { content: '\ea7c'; }
.codicon-kebab-horizontal:before { content: '\ea7c'; }
.codicon-mail-reply:before { content: '\ea7d'; }
.codicon-reply:before { content: '\ea7d'; }
.codicon-organization:before { content: '\ea7e'; }
.codicon-organization-filled:before { content: '\ea7e'; }
.codicon-organization-outline:before { content: '\ea7e'; }
.codicon-new-file:before { content: '\ea7f'; }
.codicon-file-add:before { content: '\ea7f'; }
.codicon-new-folder:before { content: '\ea80'; }
.codicon-file-directory-create:before { content: '\ea80'; }
.codicon-trash:before { content: '\ea81'; }
.codicon-trashcan:before { content: '\ea81'; }
.codicon-history:before { content: '\ea82'; }
.codicon-clock:before { content: '\ea82'; }
.codicon-folder:before { content: '\ea83'; }
.codicon-file-directory:before { content: '\ea83'; }
.codicon-symbol-folder:before { content: '\ea83'; }
.codicon-logo-github:before { content: '\ea84'; }
.codicon-mark-github:before { content: '\ea84'; }
.codicon-github:before { content: '\ea84'; }
.codicon-terminal:before { content: '\ea85'; }
.codicon-console:before { content: '\ea85'; }
.codicon-repl:before { content: '\ea85'; }
.codicon-zap:before { content: '\ea86'; }
.codicon-symbol-event:before { content: '\ea86'; }
.codicon-error:before { content: '\ea87'; }
.codicon-stop:before { content: '\ea87'; }
.codicon-variable:before { content: '\ea88'; }
.codicon-symbol-variable:before { content: '\ea88'; }
.codicon-array:before { content: '\ea8a'; }
.codicon-symbol-array:before { content: '\ea8a'; }
.codicon-symbol-module:before { content: '\ea8b'; }
.codicon-symbol-package:before { content: '\ea8b'; }
.codicon-symbol-namespace:before { content: '\ea8b'; }
.codicon-symbol-object:before { content: '\ea8b'; }
.codicon-symbol-method:before { content: '\ea8c'; }
.codicon-symbol-function:before { content: '\ea8c'; }
.codicon-symbol-constructor:before { content: '\ea8c'; }
.codicon-symbol-boolean:before { content: '\ea8f'; }
.codicon-symbol-null:before { content: '\ea8f'; }
.codicon-symbol-numeric:before { content: '\ea90'; }
.codicon-symbol-number:before { content: '\ea90'; }
.codicon-symbol-structure:before { content: '\ea91'; }
.codicon-symbol-struct:before { content: '\ea91'; }
.codicon-symbol-parameter:before { content: '\ea92'; }
.codicon-symbol-type-parameter:before { content: '\ea92'; }
.codicon-symbol-key:before { content: '\ea93'; }
.codicon-symbol-text:before { content: '\ea93'; }
.codicon-symbol-reference:before { content: '\ea94'; }
.codicon-go-to-file:before { content: '\ea94'; }
.codicon-symbol-enum:before { content: '\ea95'; }
.codicon-symbol-value:before { content: '\ea95'; }
.codicon-symbol-ruler:before { content: '\ea96'; }
.codicon-symbol-unit:before { content: '\ea96'; }
.codicon-activate-breakpoints:before { content: '\ea97'; }
.codicon-archive:before { content: '\ea98'; }
.codicon-arrow-both:before { content: '\ea99'; }
.codicon-arrow-down:before { content: '\ea9a'; }
.codicon-arrow-left:before { content: '\ea9b'; }
.codicon-arrow-right:before { content: '\ea9c'; }
.codicon-arrow-small-down:before { content: '\ea9d'; }
.codicon-arrow-small-left:before { content: '\ea9e'; }
.codicon-arrow-small-right:before { content: '\ea9f'; }
.codicon-arrow-small-up:before { content: '\eaa0'; }
.codicon-arrow-up:before { content: '\eaa1'; }
.codicon-bell:before { content: '\eaa2'; }
.codicon-bold:before { content: '\eaa3'; }
.codicon-book:before { content: '\eaa4'; }
.codicon-bookmark:before { content: '\eaa5'; }
.codicon-debug-breakpoint-conditional-unverified:before { content: '\eaa6'; }
.codicon-debug-breakpoint-conditional:before { content: '\eaa7'; }
.codicon-debug-breakpoint-conditional-disabled:before { content: '\eaa7'; }
.codicon-debug-breakpoint-data-unverified:before { content: '\eaa8'; }
.codicon-debug-breakpoint-data:before { content: '\eaa9'; }
.codicon-debug-breakpoint-data-disabled:before { content: '\eaa9'; }
.codicon-debug-breakpoint-log-unverified:before { content: '\eaaa'; }
.codicon-debug-breakpoint-log:before { content: '\eaab'; }
.codicon-debug-breakpoint-log-disabled:before { content: '\eaab'; }
.codicon-briefcase:before { content: '\eaac'; }
.codicon-broadcast:before { content: '\eaad'; }
.codicon-browser:before { content: '\eaae'; }
.codicon-bug:before { content: '\eaaf'; }
.codicon-calendar:before { content: '\eab0'; }
.codicon-case-sensitive:before { content: '\eab1'; }
.codicon-check:before { content: '\eab2'; }
.codicon-checklist:before { content: '\eab3'; }
.codicon-chevron-down:before { content: '\eab4'; }
.codicon-drop-down-button:before { content: '\eab4'; }
.codicon-chevron-left:before { content: '\eab5'; }
.codicon-chevron-right:before { content: '\eab6'; }
.codicon-chevron-up:before { content: '\eab7'; }
.codicon-chrome-close:before { content: '\eab8'; }
.codicon-chrome-maximize:before { content: '\eab9'; }
.codicon-chrome-minimize:before { content: '\eaba'; }
.codicon-chrome-restore:before { content: '\eabb'; }
.codicon-circle:before { content: '\eabc'; }
.codicon-circle-outline:before { content: '\eabc'; }
.codicon-debug-breakpoint-unverified:before { content: '\eabc'; }
.codicon-circle-slash:before { content: '\eabd'; }
.codicon-circuit-board:before { content: '\eabe'; }
.codicon-clear-all:before { content: '\eabf'; }
.codicon-clippy:before { content: '\eac0'; }
.codicon-close-all:before { content: '\eac1'; }
.codicon-cloud-download:before { content: '\eac2'; }
.codicon-cloud-upload:before { content: '\eac3'; }
.codicon-code:before { content: '\eac4'; }
.codicon-collapse-all:before { content: '\eac5'; }
.codicon-color-mode:before { content: '\eac6'; }
.codicon-comment-discussion:before { content: '\eac7'; }
.codicon-compare-changes:before { content: '\eafd'; }
.codicon-credit-card:before { content: '\eac9'; }
.codicon-dash:before { content: '\eacc'; }
.codicon-dashboard:before { content: '\eacd'; }
.codicon-database:before { content: '\eace'; }
.codicon-debug-continue:before { content: '\eacf'; }
.codicon-debug-disconnect:before { content: '\ead0'; }
.codicon-debug-pause:before { content: '\ead1'; }
.codicon-debug-restart:before { content: '\ead2'; }
.codicon-debug-start:before { content: '\ead3'; }
.codicon-debug-step-into:before { content: '\ead4'; }
.codicon-debug-step-out:before { content: '\ead5'; }
.codicon-debug-step-over:before { content: '\ead6'; }
.codicon-debug-stop:before { content: '\ead7'; }
.codicon-debug:before { content: '\ead8'; }
.codicon-device-camera-video:before { content: '\ead9'; }
.codicon-device-camera:before { content: '\eada'; }
.codicon-device-mobile:before { content: '\eadb'; }
.codicon-diff-added:before { content: '\eadc'; }
.codicon-diff-ignored:before { content: '\eadd'; }
.codicon-diff-modified:before { content: '\eade'; }
.codicon-diff-removed:before { content: '\eadf'; }
.codicon-diff-renamed:before { content: '\eae0'; }
.codicon-diff:before { content: '\eae1'; }
.codicon-discard:before { content: '\eae2'; }
.codicon-editor-layout:before { content: '\eae3'; }
.codicon-empty-window:before { content: '\eae4'; }
.codicon-exclude:before { content: '\eae5'; }
.codicon-extensions:before { content: '\eae6'; }
.codicon-eye-closed:before { content: '\eae7'; }
.codicon-file-binary:before { content: '\eae8'; }
.codicon-file-code:before { content: '\eae9'; }
.codicon-file-media:before { content: '\eaea'; }
.codicon-file-pdf:before { content: '\eaeb'; }
.codicon-file-submodule:before { content: '\eaec'; }
.codicon-file-symlink-directory:before { content: '\eaed'; }
.codicon-file-symlink-file:before { content: '\eaee'; }
.codicon-file-zip:before { content: '\eaef'; }
.codicon-files:before { content: '\eaf0'; }
.codicon-filter:before { content: '\eaf1'; }
.codicon-flame:before { content: '\eaf2'; }
.codicon-fold-down:before { content: '\eaf3'; }
.codicon-fold-up:before { content: '\eaf4'; }
.codicon-fold:before { content: '\eaf5'; }
.codicon-folder-active:before { content: '\eaf6'; }
.codicon-folder-opened:before { content: '\eaf7'; }
.codicon-gear:before { content: '\eaf8'; }
.codicon-gift:before { content: '\eaf9'; }
.codicon-gist-secret:before { content: '\eafa'; }
.codicon-gist:before { content: '\eafb'; }
.codicon-git-commit:before { content: '\eafc'; }
.codicon-git-compare:before { content: '\eafd'; }
.codicon-git-merge:before { content: '\eafe'; }
.codicon-github-action:before { content: '\eaff'; }
.codicon-github-alt:before { content: '\eb00'; }
.codicon-globe:before { content: '\eb01'; }
.codicon-grabber:before { content: '\eb02'; }
.codicon-graph:before { content: '\eb03'; }
.codicon-gripper:before { content: '\eb04'; }
.codicon-heart:before { content: '\eb05'; }
.codicon-home:before { content: '\eb06'; }
.codicon-horizontal-rule:before { content: '\eb07'; }
.codicon-hubot:before { content: '\eb08'; }
.codicon-inbox:before { content: '\eb09'; }
.codicon-issue-closed:before { content: '\eba4'; }
.codicon-issue-reopened:before { content: '\eb0b'; }
.codicon-issues:before { content: '\eb0c'; }
.codicon-italic:before { content: '\eb0d'; }
.codicon-jersey:before { content: '\eb0e'; }
.codicon-json:before { content: '\eb0f'; }
.codicon-bracket:before { content: '\eb0f'; }
.codicon-kebab-vertical:before { content: '\eb10'; }
.codicon-key:before { content: '\eb11'; }
.codicon-law:before { content: '\eb12'; }
.codicon-lightbulb-autofix:before { content: '\eb13'; }
.codicon-link-external:before { content: '\eb14'; }
.codicon-link:before { content: '\eb15'; }
.codicon-list-ordered:before { content: '\eb16'; }
.codicon-list-unordered:before { content: '\eb17'; }
.codicon-live-share:before { content: '\eb18'; }
.codicon-loading:before { content: '\eb19'; }
.codicon-location:before { content: '\eb1a'; }
.codicon-mail-read:before { content: '\eb1b'; }
.codicon-mail:before { content: '\eb1c'; }
.codicon-markdown:before { content: '\eb1d'; }
.codicon-megaphone:before { content: '\eb1e'; }
.codicon-mention:before { content: '\eb1f'; }
.codicon-milestone:before { content: '\eb20'; }
.codicon-mortar-board:before { content: '\eb21'; }
.codicon-move:before { content: '\eb22'; }
.codicon-multiple-windows:before { content: '\eb23'; }
.codicon-mute:before { content: '\eb24'; }
.codicon-no-newline:before { content: '\eb25'; }
.codicon-note:before { content: '\eb26'; }
.codicon-octoface:before { content: '\eb27'; }
.codicon-open-preview:before { content: '\eb28'; }
.codicon-package:before { content: '\eb29'; }
.codicon-paintcan:before { content: '\eb2a'; }
.codicon-pin:before { content: '\eb2b'; }
.codicon-play:before { content: '\eb2c'; }
.codicon-run:before { content: '\eb2c'; }
.codicon-plug:before { content: '\eb2d'; }
.codicon-preserve-case:before { content: '\eb2e'; }
.codicon-preview:before { content: '\eb2f'; }
.codicon-project:before { content: '\eb30'; }
.codicon-pulse:before { content: '\eb31'; }
.codicon-question:before { content: '\eb32'; }
.codicon-quote:before { content: '\eb33'; }
.codicon-radio-tower:before { content: '\eb34'; }
.codicon-reactions:before { content: '\eb35'; }
.codicon-references:before { content: '\eb36'; }
.codicon-refresh:before { content: '\eb37'; }
.codicon-regex:before { content: '\eb38'; }
.codicon-remote-explorer:before { content: '\eb39'; }
.codicon-remote:before { content: '\eb3a'; }
.codicon-remove:before { content: '\eb3b'; }
.codicon-replace-all:before { content: '\eb3c'; }
.codicon-replace:before { content: '\eb3d'; }
.codicon-repo-clone:before { content: '\eb3e'; }
.codicon-repo-force-push:before { content: '\eb3f'; }
.codicon-repo-pull:before { content: '\eb40'; }
.codicon-repo-push:before { content: '\eb41'; }
.codicon-report:before { content: '\eb42'; }
.codicon-request-changes:before { content: '\eb43'; }
.codicon-rocket:before { content: '\eb44'; }
.codicon-root-folder-opened:before { content: '\eb45'; }
.codicon-root-folder:before { content: '\eb46'; }
.codicon-rss:before { content: '\eb47'; }
.codicon-ruby:before { content: '\eb48'; }
.codicon-save-all:before { content: '\eb49'; }
.codicon-save-as:before { content: '\eb4a'; }
.codicon-save:before { content: '\eb4b'; }
.codicon-screen-full:before { content: '\eb4c'; }
.codicon-screen-normal:before { content: '\eb4d'; }
.codicon-search-stop:before { content: '\eb4e'; }
.codicon-server:before { content: '\eb50'; }
.codicon-settings-gear:before { content: '\eb51'; }
.codicon-settings:before { content: '\eb52'; }
.codicon-shield:before { content: '\eb53'; }
.codicon-smiley:before { content: '\eb54'; }
.codicon-sort-precedence:before { content: '\eb55'; }
.codicon-split-horizontal:before { content: '\eb56'; }
.codicon-split-vertical:before { content: '\eb57'; }
.codicon-squirrel:before { content: '\eb58'; }
.codicon-star-full:before { content: '\eb59'; }
.codicon-star-half:before { content: '\eb5a'; }
.codicon-symbol-class:before { content: '\eb5b'; }
.codicon-symbol-color:before { content: '\eb5c'; }
.codicon-symbol-customcolor:before { content: '\eb5c'; }
.codicon-symbol-constant:before { content: '\eb5d'; }
.codicon-symbol-enum-member:before { content: '\eb5e'; }
.codicon-symbol-field:before { content: '\eb5f'; }
.codicon-symbol-file:before { content: '\eb60'; }
.codicon-symbol-interface:before { content: '\eb61'; }
.codicon-symbol-keyword:before { content: '\eb62'; }
.codicon-symbol-misc:before { content: '\eb63'; }
.codicon-symbol-operator:before { content: '\eb64'; }
.codicon-symbol-property:before { content: '\eb65'; }
.codicon-wrench:before { content: '\eb65'; }
.codicon-wrench-subaction:before { content: '\eb65'; }
.codicon-symbol-snippet:before { content: '\eb66'; }
.codicon-tasklist:before { content: '\eb67'; }
.codicon-telescope:before { content: '\eb68'; }
.codicon-text-size:before { content: '\eb69'; }
.codicon-three-bars:before { content: '\eb6a'; }
.codicon-thumbsdown:before { content: '\eb6b'; }
.codicon-thumbsup:before { content: '\eb6c'; }
.codicon-tools:before { content: '\eb6d'; }
.codicon-triangle-down:before { content: '\eb6e'; }
.codicon-triangle-left:before { content: '\eb6f'; }
.codicon-triangle-right:before { content: '\eb70'; }
.codicon-triangle-up:before { content: '\eb71'; }
.codicon-twitter:before { content: '\eb72'; }
.codicon-unfold:before { content: '\eb73'; }
.codicon-unlock:before { content: '\eb74'; }
.codicon-unmute:before { content: '\eb75'; }
.codicon-unverified:before { content: '\eb76'; }
.codicon-verified:before { content: '\eb77'; }
.codicon-versions:before { content: '\eb78'; }
.codicon-vm-active:before { content: '\eb79'; }
.codicon-vm-outline:before { content: '\eb7a'; }
.codicon-vm-running:before { content: '\eb7b'; }
.codicon-watch:before { content: '\eb7c'; }
.codicon-whitespace:before { content: '\eb7d'; }
.codicon-whole-word:before { content: '\eb7e'; }
.codicon-window:before { content: '\eb7f'; }
.codicon-word-wrap:before { content: '\eb80'; }
.codicon-zoom-in:before { content: '\eb81'; }
.codicon-zoom-out:before { content: '\eb82'; }
.codicon-list-filter:before { content: '\eb83'; }
.codicon-list-flat:before { content: '\eb84'; }
.codicon-list-selection:before { content: '\eb85'; }
.codicon-selection:before { content: '\eb85'; }
.codicon-list-tree:before { content: '\eb86'; }
.codicon-debug-breakpoint-function-unverified:before { content: '\eb87'; }
.codicon-debug-breakpoint-function:before { content: '\eb88'; }
.codicon-debug-breakpoint-function-disabled:before { content: '\eb88'; }
.codicon-debug-stackframe-active:before { content: '\eb89'; }
.codicon-circle-small-filled:before { content: '\eb8a'; }
.codicon-debug-stackframe-dot:before { content: '\eb8a'; }
.codicon-debug-stackframe:before { content: '\eb8b'; }
.codicon-debug-stackframe-focused:before { content: '\eb8b'; }
.codicon-debug-breakpoint-unsupported:before { content: '\eb8c'; }
.codicon-symbol-string:before { content: '\eb8d'; }
.codicon-debug-reverse-continue:before { content: '\eb8e'; }
.codicon-debug-step-back:before { content: '\eb8f'; }
.codicon-debug-restart-frame:before { content: '\eb90'; }
.codicon-call-incoming:before { content: '\eb92'; }
.codicon-call-outgoing:before { content: '\eb93'; }
.codicon-menu:before { content: '\eb94'; }
.codicon-expand-all:before { content: '\eb95'; }
.codicon-feedback:before { content: '\eb96'; }
.codicon-group-by-ref-type:before { content: '\eb97'; }
.codicon-ungroup-by-ref-type:before { content: '\eb98'; }
.codicon-account:before { content: '\eb99'; }
.codicon-bell-dot:before { content: '\eb9a'; }
.codicon-debug-console:before { content: '\eb9b'; }
.codicon-library:before { content: '\eb9c'; }
.codicon-output:before { content: '\eb9d'; }
.codicon-run-all:before { content: '\eb9e'; }
.codicon-sync-ignored:before { content: '\eb9f'; }
.codicon-pinned:before { content: '\eba0'; }
.codicon-github-inverted:before { content: '\eba1'; }
.codicon-debug-alt:before { content: '\eb91'; }
.codicon-server-process:before { content: '\eba2'; }
.codicon-server-environment:before { content: '\eba3'; }
.codicon-pass:before { content: '\eba4'; }
.codicon-stop-circle:before { content: '\eba5'; }
.codicon-play-circle:before { content: '\eba6'; }
.codicon-record:before { content: '\eba7'; }
.codicon-debug-alt-small:before { content: '\eba8'; }
.codicon-vm-connect:before { content: '\eba9'; }
.codicon-cloud:before { content: '\ebaa'; }
.codicon-merge:before { content: '\ebab'; }
.codicon-export:before { content: '\ebac'; }
.codicon-graph-left:before { content: '\ebad'; }
.codicon-magnet:before { content: '\ebae'; }
.codicon-notebook:before { content: '\ebaf'; }
.codicon-redo:before { content: '\ebb0'; }
.codicon-check-all:before { content: '\ebb1'; }
.codicon-pinned-dirty:before { content: '\ebb2'; }
.codicon-pass-filled:before { content: '\ebb3'; }
.codicon-circle-large-filled:before { content: '\ebb4'; }
.codicon-circle-large:before { content: '\ebb5'; }
.codicon-circle-large-outline:before { content: '\ebb5'; }
.codicon-combine:before { content: '\ebb6'; }
.codicon-gather:before { content: '\ebb6'; }
.codicon-table:before { content: '\ebb7'; }
.codicon-variable-group:before { content: '\ebb8'; }
.codicon-type-hierarchy:before { content: '\ebb9'; }
.codicon-type-hierarchy-sub:before { content: '\ebba'; }
.codicon-type-hierarchy-super:before { content: '\ebbb'; }
.codicon-git-pull-request-create:before { content: '\ebbc'; }
.codicon-run-above:before { content: '\ebbd'; }
.codicon-run-below:before { content: '\ebbe'; }
.codicon-notebook-template:before { content: '\ebbf'; }
.codicon-debug-rerun:before { content: '\ebc0'; }
.codicon-workspace-trusted:before { content: '\ebc1'; }
.codicon-workspace-untrusted:before { content: '\ebc2'; }
.codicon-workspace-unspecified:before { content: '\ebc3'; }
.codicon-terminal-cmd:before { content: '\ebc4'; }
.codicon-terminal-debian:before { content: '\ebc5'; }
.codicon-terminal-linux:before { content: '\ebc6'; }
.codicon-terminal-powershell:before { content: '\ebc7'; }
.codicon-terminal-tmux:before { content: '\ebc8'; }
.codicon-terminal-ubuntu:before { content: '\ebc9'; }
.codicon-terminal-bash:before { content: '\ebca'; }
.codicon-arrow-swap:before { content: '\ebcb'; }
.codicon-copy:before { content: '\ebcc'; }
.codicon-person-add:before { content: '\ebcd'; }
.codicon-filter-filled:before { content: '\ebce'; }
.codicon-wand:before { content: '\ebcf'; }
.codicon-debug-line-by-line:before { content: '\ebd0'; }
.codicon-inspect:before { content: '\ebd1'; }
.codicon-layers:before { content: '\ebd2'; }
.codicon-layers-dot:before { content: '\ebd3'; }
.codicon-layers-active:before { content: '\ebd4'; }
.codicon-compass:before { content: '\ebd5'; }
.codicon-compass-dot:before { content: '\ebd6'; }
.codicon-compass-active:before { content: '\ebd7'; }
.codicon-azure:before { content: '\ebd8'; }
.codicon-issue-draft:before { content: '\ebd9'; }
.codicon-git-pull-request-closed:before { content: '\ebda'; }
.codicon-git-pull-request-draft:before { content: '\ebdb'; }
.codicon-debug-all:before { content: '\ebdc'; }
.codicon-debug-coverage:before { content: '\ebdd'; }
.codicon-run-errors:before { content: '\ebde'; }
.codicon-folder-library:before { content: '\ebdf'; }
.codicon-debug-continue-small:before { content: '\ebe0'; }
.codicon-beaker-stop:before { content: '\ebe1'; }
.codicon-graph-line:before { content: '\ebe2'; }
.codicon-graph-scatter:before { content: '\ebe3'; }
.codicon-pie-chart:before { content: '\ebe4'; }
.codicon-bracket-dot:before { content: '\ebe5'; }
.codicon-bracket-error:before { content: '\ebe6'; }
.codicon-lock-small:before { content: '\ebe7'; }
.codicon-azure-devops:before { content: '\ebe8'; }
.codicon-verified-filled:before { content: '\ebe9'; }
.codicon-newline:before { content: '\ebea'; }
.codicon-layout:before { content: '\ebeb'; }
.codicon-layout-activitybar-left:before { content: '\ebec'; }
.codicon-layout-activitybar-right:before { content: '\ebed'; }
.codicon-layout-panel-left:before { content: '\ebee'; }
.codicon-layout-panel-center:before { content: '\ebef'; }
.codicon-layout-panel-justify:before { content: '\ebf0'; }
.codicon-layout-panel-right:before { content: '\ebf1'; }
.codicon-layout-panel:before { content: '\ebf2'; }
.codicon-layout-sidebar-left:before { content: '\ebf3'; }
.codicon-layout-sidebar-right:before { content: '\ebf4'; }
.codicon-layout-statusbar:before { content: '\ebf5'; }
.codicon-layout-menubar:before { content: '\ebf6'; }
.codicon-layout-centered:before { content: '\ebf7'; }
.codicon-layout-sidebar-right-off:before { content: '\ec00'; }
.codicon-layout-panel-off:before { content: '\ec01'; }
.codicon-layout-sidebar-left-off:before { content: '\ec02'; }
.codicon-target:before { content: '\ebf8'; }
.codicon-indent:before { content: '\ebf9'; }
.codicon-record-small:before { content: '\ebfa'; }
.codicon-error-small:before { content: '\ebfb'; }
.codicon-arrow-circle-down:before { content: '\ebfc'; }
.codicon-arrow-circle-left:before { content: '\ebfd'; }
.codicon-arrow-circle-right:before { content: '\ebfe'; }
.codicon-arrow-circle-up:before { content: '\ebff'; }
.codicon-heart-filled:before { content: '\ec04'; }
.codicon-map:before { content: '\ec05'; }
.codicon-map-filled:before { content: '\ec06'; }
.codicon-circle-small:before { content: '\ec07'; }
.codicon-bell-slash:before { content: '\ec08'; }
.codicon-bell-slash-dot:before { content: '\ec09'; }
.codicon-comment-unresolved:before { content: '\ec0a'; }
.codicon-git-pull-request-go-to-changes:before { content: '\ec0b'; }
.codicon-git-pull-request-new-changes:before { content: '\ec0c'; }
.codicon-search-fuzzy:before { content: '\ec0d'; }
.codicon-comment-draft:before { content: '\ec0e'; }
.codicon-send:before { content: '\ec0f'; }
.codicon-sparkle:before { content: '\ec10'; }
.codicon-insert:before { content: '\ec11'; }
.codicon-dialog-error:before { content: '\ea87'; }
.codicon-dialog-warning:before { content: '\ea6c'; }
.codicon-dialog-info:before { content: '\ea74'; }
.codicon-dialog-close:before { content: '\ea76'; }
.codicon-tree-item-expanded:before { content: '\eab4'; }
.codicon-tree-filter-on-type-on:before { content: '\eb83'; }
.codicon-tree-filter-on-type-off:before { content: '\eb85'; }
.codicon-tree-filter-clear:before { content: '\ea76'; }
.codicon-tree-item-loading:before { content: '\eb19'; }
.codicon-menu-selection:before { content: '\eab2'; }
.codicon-menu-submenu:before { content: '\eab6'; }
.codicon-menubar-more:before { content: '\ea7c'; }
.codicon-scrollbar-button-left:before { content: '\eb6f'; }
.codicon-scrollbar-button-right:before { content: '\eb70'; }
.codicon-scrollbar-button-up:before { content: '\eb71'; }
.codicon-scrollbar-button-down:before { content: '\eb6e'; }
.codicon-toolbar-more:before { content: '\ea7c'; }
.codicon-quick-input-back:before { content: '\ea9b'; }
.codicon-widget-close:before { content: '\ea76'; }
.codicon-goto-previous-location:before { content: '\eaa1'; }
.codicon-goto-next-location:before { content: '\ea9a'; }
.codicon-diff-review-insert:before { content: '\ea60'; }
.codicon-diff-review-remove:before { content: '\eb3b'; }
.codicon-diff-review-close:before { content: '\ea76'; }
.codicon-parameter-hints-next:before { content: '\eab4'; }
.codicon-parameter-hints-previous:before { content: '\eab7'; }
.codicon-suggest-more-info:before { content: '\eab6'; }
.codicon-inline-suggestion-hints-next:before { content: '\eab6'; }
.codicon-inline-suggestion-hints-previous:before { content: '\eab5'; }
.codicon-diff-insert:before { content: '\ea60'; }
.codicon-diff-remove:before { content: '\eb3b'; }
.codicon-find-selection:before { content: '\eb85'; }
.codicon-find-collapsed:before { content: '\eab6'; }
.codicon-find-expanded:before { content: '\eab4'; }
.codicon-find-replace:before { content: '\eb3d'; }
.codicon-find-replace-all:before { content: '\eb3c'; }
.codicon-find-previous-match:before { content: '\eaa1'; }
.codicon-find-next-match:before { content: '\ea9a'; }
.codicon-folding-expanded:before { content: '\eab4'; }
.codicon-folding-collapsed:before { content: '\eab6'; }
.codicon-folding-manual-collapsed:before { content: '\eab6'; }
.codicon-folding-manual-expanded:before { content: '\eab4'; }
.codicon-marker-navigation-next:before { content: '\ea9a'; }
.codicon-marker-navigation-previous:before { content: '\eaa1'; }
.codicon-extensions-warning-message:before { content: '\ea6c'; }
.monaco-editor .inputarea.ime-input { background-color: #1e1e1e; }
.monaco-editor .view-overlays .current-line { border: 2px solid #282828; }
.monaco-editor .margin-view-overlays .current-line-margin { border: 2px solid #282828; }
.monaco-editor .bracket-indent-guide.lvl-0 { --guide-color: rgba(255, 215, 0, 0.3); --guide-color-active: #ffd700; }
.monaco-editor .bracket-indent-guide.lvl-1 { --guide-color: rgba(218, 112, 214, 0.3); --guide-color-active: #da70d6; }
.monaco-editor .bracket-indent-guide.lvl-2 { --guide-color: rgba(23, 159, 255, 0.3); --guide-color-active: #179fff; }
.monaco-editor .bracket-indent-guide.lvl-3 { --guide-color: rgba(255, 215, 0, 0.3); --guide-color-active: #ffd700; }
.monaco-editor .bracket-indent-guide.lvl-4 { --guide-color: rgba(218, 112, 214, 0.3); --guide-color-active: #da70d6; }
.monaco-editor .bracket-indent-guide.lvl-5 { --guide-color: rgba(23, 159, 255, 0.3); --guide-color-active: #179fff; }
.monaco-editor .bracket-indent-guide.lvl-6 { --guide-color: rgba(255, 215, 0, 0.3); --guide-color-active: #ffd700; }
.monaco-editor .bracket-indent-guide.lvl-7 { --guide-color: rgba(218, 112, 214, 0.3); --guide-color-active: #da70d6; }
.monaco-editor .bracket-indent-guide.lvl-8 { --guide-color: rgba(23, 159, 255, 0.3); --guide-color-active: #179fff; }
.monaco-editor .bracket-indent-guide.lvl-9 { --guide-color: rgba(255, 215, 0, 0.3); --guide-color-active: #ffd700; }
.monaco-editor .bracket-indent-guide.lvl-10 { --guide-color: rgba(218, 112, 214, 0.3); --guide-color-active: #da70d6; }
.monaco-editor .bracket-indent-guide.lvl-11 { --guide-color: rgba(23, 159, 255, 0.3); --guide-color-active: #179fff; }
.monaco-editor .bracket-indent-guide.lvl-12 { --guide-color: rgba(255, 215, 0, 0.3); --guide-color-active: #ffd700; }
.monaco-editor .bracket-indent-guide.lvl-13 { --guide-color: rgba(218, 112, 214, 0.3); --guide-color-active: #da70d6; }
.monaco-editor .bracket-indent-guide.lvl-14 { --guide-color: rgba(23, 159, 255, 0.3); --guide-color-active: #179fff; }
.monaco-editor .bracket-indent-guide.lvl-15 { --guide-color: rgba(255, 215, 0, 0.3); --guide-color-active: #ffd700; }
.monaco-editor .bracket-indent-guide.lvl-16 { --guide-color: rgba(218, 112, 214, 0.3); --guide-color-active: #da70d6; }
.monaco-editor .bracket-indent-guide.lvl-17 { --guide-color: rgba(23, 159, 255, 0.3); --guide-color-active: #179fff; }
.monaco-editor .bracket-indent-guide.lvl-18 { --guide-color: rgba(255, 215, 0, 0.3); --guide-color-active: #ffd700; }
.monaco-editor .bracket-indent-guide.lvl-19 { --guide-color: rgba(218, 112, 214, 0.3); --guide-color-active: #da70d6; }
.monaco-editor .bracket-indent-guide.lvl-20 { --guide-color: rgba(23, 159, 255, 0.3); --guide-color-active: #179fff; }
.monaco-editor .bracket-indent-guide.lvl-21 { --guide-color: rgba(255, 215, 0, 0.3); --guide-color-active: #ffd700; }
.monaco-editor .bracket-indent-guide.lvl-22 { --guide-color: rgba(218, 112, 214, 0.3); --guide-color-active: #da70d6; }
.monaco-editor .bracket-indent-guide.lvl-23 { --guide-color: rgba(23, 159, 255, 0.3); --guide-color-active: #179fff; }
.monaco-editor .bracket-indent-guide.lvl-24 { --guide-color: rgba(255, 215, 0, 0.3); --guide-color-active: #ffd700; }
.monaco-editor .bracket-indent-guide.lvl-25 { --guide-color: rgba(218, 112, 214, 0.3); --guide-color-active: #da70d6; }
.monaco-editor .bracket-indent-guide.lvl-26 { --guide-color: rgba(23, 159, 255, 0.3); --guide-color-active: #179fff; }
.monaco-editor .bracket-indent-guide.lvl-27 { --guide-color: rgba(255, 215, 0, 0.3); --guide-color-active: #ffd700; }
.monaco-editor .bracket-indent-guide.lvl-28 { --guide-color: rgba(218, 112, 214, 0.3); --guide-color-active: #da70d6; }
.monaco-editor .bracket-indent-guide.lvl-29 { --guide-color: rgba(23, 159, 255, 0.3); --guide-color-active: #179fff; }
.monaco-editor .vertical { box-shadow: 1px 0 0 0 var(--guide-color) inset; }
.monaco-editor .horizontal-top { border-top: 1px solid var(--guide-color); }
.monaco-editor .horizontal-bottom { border-bottom: 1px solid var(--guide-color); }
.monaco-editor .vertical.indent-active { box-shadow: 1px 0 0 0 var(--guide-color-active) inset; }
.monaco-editor .horizontal-top.indent-active { border-top: 1px solid var(--guide-color-active); }
.monaco-editor .horizontal-bottom.indent-active { border-bottom: 1px solid var(--guide-color-active); }
.monaco-editor .line-numbers.dimmed-line-number { color: rgba(133, 133, 133, 0.4); }
.monaco-editor .cursors-layer .cursor { background-color: #aeafad; border-color: #aeafad; color: #515052; }
.monaco-editor .unexpected-closing-bracket { color: rgba(255, 18, 18, 0.8); }
.monaco-editor .bracket-highlighting-0 { color: #ffd700; }
.monaco-editor .bracket-highlighting-1 { color: #da70d6; }
.monaco-editor .bracket-highlighting-2 { color: #179fff; }
.monaco-editor .bracket-highlighting-3 { color: #ffd700; }
.monaco-editor .bracket-highlighting-4 { color: #da70d6; }
.monaco-editor .bracket-highlighting-5 { color: #179fff; }
.monaco-editor .bracket-highlighting-6 { color: #ffd700; }
.monaco-editor .bracket-highlighting-7 { color: #da70d6; }
.monaco-editor .bracket-highlighting-8 { color: #179fff; }
.monaco-editor .bracket-highlighting-9 { color: #ffd700; }
.monaco-editor .bracket-highlighting-10 { color: #da70d6; }
.monaco-editor .bracket-highlighting-11 { color: #179fff; }
.monaco-editor .bracket-highlighting-12 { color: #ffd700; }
.monaco-editor .bracket-highlighting-13 { color: #da70d6; }
.monaco-editor .bracket-highlighting-14 { color: #179fff; }
.monaco-editor .bracket-highlighting-15 { color: #ffd700; }
.monaco-editor .bracket-highlighting-16 { color: #da70d6; }
.monaco-editor .bracket-highlighting-17 { color: #179fff; }
.monaco-editor .bracket-highlighting-18 { color: #ffd700; }
.monaco-editor .bracket-highlighting-19 { color: #da70d6; }
.monaco-editor .bracket-highlighting-20 { color: #179fff; }
.monaco-editor .bracket-highlighting-21 { color: #ffd700; }
.monaco-editor .bracket-highlighting-22 { color: #da70d6; }
.monaco-editor .bracket-highlighting-23 { color: #179fff; }
.monaco-editor .bracket-highlighting-24 { color: #ffd700; }
.monaco-editor .bracket-highlighting-25 { color: #da70d6; }
.monaco-editor .bracket-highlighting-26 { color: #179fff; }
.monaco-editor .bracket-highlighting-27 { color: #ffd700; }
.monaco-editor .bracket-highlighting-28 { color: #da70d6; }
.monaco-editor .bracket-highlighting-29 { color: #179fff; }
.monaco-editor .squiggly-error { background: url("data:image/svg+xml,%3Csvg%20xmlns%3D'http%3A%2F%2Fwww.w3.org%2F2000%2Fsvg'%20viewBox%3D'0%200%206%203'%20enable-background%3D'new%200%200%206%203'%20height%3D'3'%20width%3D'6'%3E%3Cg%20fill%3D'%23f14c4c'%3E%3Cpolygon%20points%3D'5.5%2C0%202.5%2C3%201.1%2C3%204.1%2C0'%2F%3E%3Cpolygon%20points%3D'4%2C0%206%2C2%206%2C0.6%205.4%2C0'%2F%3E%3Cpolygon%20points%3D'0%2C2%201%2C3%202.4%2C3%200%2C0.6'%2F%3E%3C%2Fg%3E%3C%2Fsvg%3E") repeat-x bottom left; }
.monaco-editor .squiggly-warning { background: url("data:image/svg+xml,%3Csvg%20xmlns%3D'http%3A%2F%2Fwww.w3.org%2F2000%2Fsvg'%20viewBox%3D'0%200%206%203'%20enable-background%3D'new%200%200%206%203'%20height%3D'3'%20width%3D'6'%3E%3Cg%20fill%3D'%23cca700'%3E%3Cpolygon%20points%3D'5.5%2C0%202.5%2C3%201.1%2C3%204.1%2C0'%2F%3E%3Cpolygon%20points%3D'4%2C0%206%2C2%206%2C0.6%205.4%2C0'%2F%3E%3Cpolygon%20points%3D'0%2C2%201%2C3%202.4%2C3%200%2C0.6'%2F%3E%3C%2Fg%3E%3C%2Fsvg%3E") repeat-x bottom left; }
.monaco-editor .squiggly-info { background: url("data:image/svg+xml,%3Csvg%20xmlns%3D'http%3A%2F%2Fwww.w3.org%2F2000%2Fsvg'%20viewBox%3D'0%200%206%203'%20enable-background%3D'new%200%200%206%203'%20height%3D'3'%20width%3D'6'%3E%3Cg%20fill%3D'%233794ff'%3E%3Cpolygon%20points%3D'5.5%2C0%202.5%2C3%201.1%2C3%204.1%2C0'%2F%3E%3Cpolygon%20points%3D'4%2C0%206%2C2%206%2C0.6%205.4%2C0'%2F%3E%3Cpolygon%20points%3D'0%2C2%201%2C3%202.4%2C3%200%2C0.6'%2F%3E%3C%2Fg%3E%3C%2Fsvg%3E") repeat-x bottom left; }
.monaco-editor .squiggly-hint { background: url("data:image/svg+xml,%3Csvg%20xmlns%3D%22http%3A%2F%2Fwww.w3.org%2F2000%2Fsvg%22%20height%3D%223%22%20width%3D%2212%22%3E%3Cg%20fill%3D%22rgba(238%2C%20238%2C%20238%2C%200.7)%22%3E%3Ccircle%20cx%3D%221%22%20cy%3D%221%22%20r%3D%221%22%2F%3E%3Ccircle%20cx%3D%225%22%20cy%3D%221%22%20r%3D%221%22%2F%3E%3Ccircle%20cx%3D%229%22%20cy%3D%221%22%20r%3D%221%22%2F%3E%3C%2Fg%3E%3C%2Fsvg%3E") no-repeat bottom left; }
.monaco-editor.showUnused .squiggly-inline-unnecessary { opacity: 0.667; }
.monaco-editor .selectionHighlight { background-color: rgba(173, 214, 255, 0.07); }

	.monaco-editor .diagonal-fill {
		background-image: linear-gradient(
			-45deg,
			rgba(204, 204, 204, 0.2) 12.5%,
			#0000 12.5%, #0000 50%,
			rgba(204, 204, 204, 0.2) 50%, rgba(204, 204, 204, 0.2) 62.5%,
			#0000 62.5%, #0000 100%
		);
		background-size: 8px 8px;
	}
	
.monaco-editor .findMatch { background-color: rgba(234, 92, 0, 0.33); }
.monaco-editor .currentFindMatch { background-color: #515c6a; }
.monaco-editor .findScope { background-color: rgba(58, 61, 65, 0.4); }
.monaco-editor .find-widget { background-color: #252526; }
.monaco-editor .find-widget { box-shadow: 0 0 8px 2px rgba(0, 0, 0, 0.36); }
.monaco-editor .find-widget { color: #cccccc; }
.monaco-editor .find-widget.no-results .matchesCount { color: #f48771; }
.monaco-editor .find-widget .monaco-sash { background-color: #454545; }

		.monaco-editor .find-widget .button:not(.disabled):hover,
		.monaco-editor .find-widget .codicon-find-selection:hover {
			background-color: rgba(90, 93, 94, 0.31) !important;
		}
	
.monaco-editor .find-widget .monaco-inputbox.synthetic-focus { outline-color: #007fd4; }
.monaco-editor .monaco-hover .hover-row:not(:first-child):not(:empty) { border-top: 1px solid rgba(69, 69, 69, 0.5); }
.monaco-editor .monaco-hover hr { border-top: 1px solid rgba(69, 69, 69, 0.5); }
.monaco-editor .monaco-hover hr { border-bottom: 0px solid rgba(69, 69, 69, 0.5); }
.monaco-editor { --vscode-foreground: #cccccc;
--vscode-disabledForeground: rgba(204, 204, 204, 0.5);
--vscode-errorForeground: #f48771;
--vscode-descriptionForeground: rgba(204, 204, 204, 0.7);
--vscode-icon-foreground: #c5c5c5;
--vscode-focusBorder: #007fd4;
--vscode-textSeparator-foreground: rgba(255, 255, 255, 0.18);
--vscode-textLink-foreground: #3794ff;
--vscode-textLink-activeForeground: #3794ff;
--vscode-textPreformat-foreground: #d7ba7d;
--vscode-textBlockQuote-background: rgba(127, 127, 127, 0.1);
--vscode-textBlockQuote-border: rgba(0, 122, 204, 0.5);
--vscode-textCodeBlock-background: rgba(10, 10, 10, 0.4);
--vscode-widget-shadow: rgba(0, 0, 0, 0.36);
--vscode-input-background: #3c3c3c;
--vscode-input-foreground: #cccccc;
--vscode-inputOption-activeBorder: #007acc;
--vscode-inputOption-hoverBackground: rgba(90, 93, 94, 0.5);
--vscode-inputOption-activeBackground: rgba(0, 127, 212, 0.4);
--vscode-inputOption-activeForeground: #ffffff;
--vscode-input-placeholderForeground: rgba(204, 204, 204, 0.5);
--vscode-inputValidation-infoBackground: #063b49;
--vscode-inputValidation-infoBorder: #007acc;
--vscode-inputValidation-warningBackground: #352a05;
--vscode-inputValidation-warningBorder: #b89500;
--vscode-inputValidation-errorBackground: #5a1d1d;
--vscode-inputValidation-errorBorder: #be1100;
--vscode-dropdown-background: #3c3c3c;
--vscode-dropdown-foreground: #f0f0f0;
--vscode-dropdown-border: #3c3c3c;
--vscode-button-foreground: #ffffff;
--vscode-button-separator: rgba(255, 255, 255, 0.4);
--vscode-button-background: #0e639c;
--vscode-button-hoverBackground: #1177bb;
--vscode-button-secondaryForeground: #ffffff;
--vscode-button-secondaryBackground: #3a3d41;
--vscode-button-secondaryHoverBackground: #45494e;
--vscode-badge-background: #4d4d4d;
--vscode-badge-foreground: #ffffff;
--vscode-scrollbar-shadow: #000000;
--vscode-scrollbarSlider-background: rgba(121, 121, 121, 0.4);
--vscode-scrollbarSlider-hoverBackground: rgba(100, 100, 100, 0.7);
--vscode-scrollbarSlider-activeBackground: rgba(191, 191, 191, 0.4);
--vscode-progressBar-background: #0e70c0;
--vscode-editorError-foreground: #f14c4c;
--vscode-editorWarning-foreground: #cca700;
--vscode-editorInfo-foreground: #3794ff;
--vscode-editorHint-foreground: rgba(238, 238, 238, 0.7);
--vscode-sash-hoverBorder: #007fd4;
--vscode-editor-background: #1e1e1e;
--vscode-editor-foreground: #d4d4d4;
--vscode-editorStickyScroll-background: #1e1e1e;
--vscode-editorStickyScrollHover-background: #2a2d2e;
--vscode-editorWidget-background: #252526;
--vscode-editorWidget-foreground: #cccccc;
--vscode-editorWidget-border: #454545;
--vscode-quickInput-background: #252526;
--vscode-quickInput-foreground: #cccccc;
--vscode-quickInputTitle-background: rgba(255, 255, 255, 0.1);
--vscode-pickerGroup-foreground: #3794ff;
--vscode-pickerGroup-border: #3f3f46;
--vscode-keybindingLabel-background: rgba(128, 128, 128, 0.17);
--vscode-keybindingLabel-foreground: #cccccc;
--vscode-keybindingLabel-border: rgba(51, 51, 51, 0.6);
--vscode-keybindingLabel-bottomBorder: rgba(68, 68, 68, 0.6);
--vscode-editor-selectionBackground: #264f78;
--vscode-editor-inactiveSelectionBackground: #3a3d41;
--vscode-editor-selectionHighlightBackground: rgba(173, 214, 255, 0.15);
--vscode-editor-findMatchBackground: #515c6a;
--vscode-editor-findMatchHighlightBackground: rgba(234, 92, 0, 0.33);
--vscode-editor-findRangeHighlightBackground: rgba(58, 61, 65, 0.4);
--vscode-searchEditor-findMatchBackground: rgba(234, 92, 0, 0.22);
--vscode-search-resultsInfoForeground: rgba(204, 204, 204, 0.65);
--vscode-editor-hoverHighlightBackground: rgba(38, 79, 120, 0.25);
--vscode-editorHoverWidget-background: #252526;
--vscode-editorHoverWidget-foreground: #cccccc;
--vscode-editorHoverWidget-border: #454545;
--vscode-editorHoverWidget-statusBarBackground: #2c2c2d;
--vscode-editorLink-activeForeground: #4e94ce;
--vscode-editorInlayHint-foreground: #cccccc;
--vscode-editorInlayHint-background: rgba(77, 77, 77, 0.25);
--vscode-editorInlayHint-typeForeground: #cccccc;
--vscode-editorInlayHint-typeBackground: rgba(77, 77, 77, 0.25);
--vscode-editorInlayHint-parameterForeground: #cccccc;
--vscode-editorInlayHint-parameterBackground: rgba(77, 77, 77, 0.25);
--vscode-editorLightBulb-foreground: #ffcc00;
--vscode-editorLightBulbAutoFix-foreground: #75beff;
--vscode-diffEditor-insertedTextBackground: rgba(156, 204, 44, 0.13);
--vscode-diffEditor-removedTextBackground: rgba(255, 0, 0, 0.14);
--vscode-diffEditor-insertedLineBackground: rgba(156, 204, 44, 0.13);
--vscode-diffEditor-removedLineBackground: rgba(255, 0, 0, 0.14);
--vscode-diffEditor-diagonalFill: rgba(204, 204, 204, 0.2);
--vscode-diffEditor-unchangedRegionBackground: #3e3e3e;
--vscode-diffEditor-unchangedRegionForeground: #a3a2a2;
--vscode-diffEditor-unchangedCodeBackground: rgba(116, 116, 116, 0.16);
--vscode-list-focusOutline: #007fd4;
--vscode-list-activeSelectionBackground: #04395e;
--vscode-list-activeSelectionForeground: #ffffff;
--vscode-list-inactiveSelectionBackground: #37373d;
--vscode-list-hoverBackground: #2a2d2e;
--vscode-list-dropBackground: #062f4a;
--vscode-list-highlightForeground: #2aaaff;
--vscode-list-focusHighlightForeground: #2aaaff;
--vscode-list-invalidItemForeground: #b89500;
--vscode-list-errorForeground: #f88070;
--vscode-list-warningForeground: #cca700;
--vscode-listFilterWidget-background: #252526;
--vscode-listFilterWidget-outline: rgba(0, 0, 0, 0);
--vscode-listFilterWidget-noMatchesOutline: #be1100;
--vscode-listFilterWidget-shadow: rgba(0, 0, 0, 0.36);
--vscode-list-filterMatchBackground: rgba(234, 92, 0, 0.33);
--vscode-tree-indentGuidesStroke: #585858;
--vscode-tree-inactiveIndentGuidesStroke: rgba(88, 88, 88, 0.4);
--vscode-tree-tableColumnsBorder: rgba(204, 204, 204, 0.13);
--vscode-tree-tableOddRowsBackground: rgba(204, 204, 204, 0.04);
--vscode-list-deemphasizedForeground: #8c8c8c;
--vscode-checkbox-background: #3c3c3c;
--vscode-checkbox-selectBackground: #252526;
--vscode-checkbox-foreground: #f0f0f0;
--vscode-checkbox-border: #3c3c3c;
--vscode-checkbox-selectBorder: #c5c5c5;
--vscode-quickInputList-focusForeground: #ffffff;
--vscode-quickInputList-focusBackground: #04395e;
--vscode-menu-foreground: #f0f0f0;
--vscode-menu-background: #3c3c3c;
--vscode-menu-selectionForeground: #ffffff;
--vscode-menu-selectionBackground: #04395e;
--vscode-menu-separatorBackground: #606060;
--vscode-toolbar-hoverBackground: rgba(90, 93, 94, 0.31);
--vscode-toolbar-activeBackground: rgba(99, 102, 103, 0.31);
--vscode-editor-snippetTabstopHighlightBackground: rgba(124, 124, 124, 0.3);
--vscode-editor-snippetFinalTabstopHighlightBorder: #525252;
--vscode-breadcrumb-foreground: rgba(204, 204, 204, 0.8);
--vscode-breadcrumb-background: #1e1e1e;
--vscode-breadcrumb-focusForeground: #e0e0e0;
--vscode-breadcrumb-activeSelectionForeground: #e0e0e0;
--vscode-breadcrumbPicker-background: #252526;
--vscode-merge-currentHeaderBackground: rgba(64, 200, 174, 0.5);
--vscode-merge-currentContentBackground: rgba(64, 200, 174, 0.2);
--vscode-merge-incomingHeaderBackground: rgba(64, 166, 255, 0.5);
--vscode-merge-incomingContentBackground: rgba(64, 166, 255, 0.2);
--vscode-merge-commonHeaderBackground: rgba(96, 96, 96, 0.4);
--vscode-merge-commonContentBackground: rgba(96, 96, 96, 0.16);
--vscode-editorOverviewRuler-currentContentForeground: rgba(64, 200, 174, 0.5);
--vscode-editorOverviewRuler-incomingContentForeground: rgba(64, 166, 255, 0.5);
--vscode-editorOverviewRuler-commonContentForeground: rgba(96, 96, 96, 0.4);
--vscode-editorOverviewRuler-findMatchForeground: rgba(209, 134, 22, 0.49);
--vscode-editorOverviewRuler-selectionHighlightForeground: rgba(160, 160, 160, 0.8);
--vscode-minimap-findMatchHighlight: #d18616;
--vscode-minimap-selectionOccurrenceHighlight: #676767;
--vscode-minimap-selectionHighlight: #264f78;
--vscode-minimap-errorHighlight: rgba(255, 18, 18, 0.7);
--vscode-minimap-warningHighlight: #cca700;
--vscode-minimap-foregroundOpacity: #000000;
--vscode-minimapSlider-background: rgba(121, 121, 121, 0.2);
--vscode-minimapSlider-hoverBackground: rgba(100, 100, 100, 0.35);
--vscode-minimapSlider-activeBackground: rgba(191, 191, 191, 0.2);
--vscode-problemsErrorIcon-foreground: #f14c4c;
--vscode-problemsWarningIcon-foreground: #cca700;
--vscode-problemsInfoIcon-foreground: #3794ff;
--vscode-charts-foreground: #cccccc;
--vscode-charts-lines: rgba(204, 204, 204, 0.5);
--vscode-charts-red: #f14c4c;
--vscode-charts-blue: #3794ff;
--vscode-charts-yellow: #cca700;
--vscode-charts-orange: #d18616;
--vscode-charts-green: #89d185;
--vscode-charts-purple: #b180d7;
--vscode-symbolIcon-arrayForeground: #cccccc;
--vscode-symbolIcon-booleanForeground: #cccccc;
--vscode-symbolIcon-classForeground: #ee9d28;
--vscode-symbolIcon-colorForeground: #cccccc;
--vscode-symbolIcon-constantForeground: #cccccc;
--vscode-symbolIcon-constructorForeground: #b180d7;
--vscode-symbolIcon-enumeratorForeground: #ee9d28;
--vscode-symbolIcon-enumeratorMemberForeground: #75beff;
--vscode-symbolIcon-eventForeground: #ee9d28;
--vscode-symbolIcon-fieldForeground: #75beff;
--vscode-symbolIcon-fileForeground: #cccccc;
--vscode-symbolIcon-folderForeground: #cccccc;
--vscode-symbolIcon-functionForeground: #b180d7;
--vscode-symbolIcon-interfaceForeground: #75beff;
--vscode-symbolIcon-keyForeground: #cccccc;
--vscode-symbolIcon-keywordForeground: #cccccc;
--vscode-symbolIcon-methodForeground: #b180d7;
--vscode-symbolIcon-moduleForeground: #cccccc;
--vscode-symbolIcon-namespaceForeground: #cccccc;
--vscode-symbolIcon-nullForeground: #cccccc;
--vscode-symbolIcon-numberForeground: #cccccc;
--vscode-symbolIcon-objectForeground: #cccccc;
--vscode-symbolIcon-operatorForeground: #cccccc;
--vscode-symbolIcon-packageForeground: #cccccc;
--vscode-symbolIcon-propertyForeground: #cccccc;
--vscode-symbolIcon-referenceForeground: #cccccc;
--vscode-symbolIcon-snippetForeground: #cccccc;
--vscode-symbolIcon-stringForeground: #cccccc;
--vscode-symbolIcon-structForeground: #cccccc;
--vscode-symbolIcon-textForeground: #cccccc;
--vscode-symbolIcon-typeParameterForeground: #cccccc;
--vscode-symbolIcon-unitForeground: #cccccc;
--vscode-symbolIcon-variableForeground: #75beff;
--vscode-editor-lineHighlightBorder: #282828;
--vscode-editor-rangeHighlightBackground: rgba(255, 255, 255, 0.04);
--vscode-editor-symbolHighlightBackground: rgba(234, 92, 0, 0.33);
--vscode-editorCursor-foreground: #aeafad;
--vscode-editorWhitespace-foreground: rgba(227, 228, 226, 0.16);
--vscode-editorIndentGuide-background: #404040;
--vscode-editorIndentGuide-activeBackground: #707070;
--vscode-editorLineNumber-foreground: #858585;
--vscode-editorActiveLineNumber-foreground: #c6c6c6;
--vscode-editorLineNumber-activeForeground: #c6c6c6;
--vscode-editorRuler-foreground: #5a5a5a;
--vscode-editorCodeLens-foreground: #999999;
--vscode-editorBracketMatch-background: rgba(0, 100, 0, 0.1);
--vscode-editorBracketMatch-border: #888888;
--vscode-editorOverviewRuler-border: rgba(127, 127, 127, 0.3);
--vscode-editorGutter-background: #1e1e1e;
--vscode-editorUnnecessaryCode-opacity: rgba(0, 0, 0, 0.67);
--vscode-editorGhostText-foreground: rgba(255, 255, 255, 0.34);
--vscode-editorOverviewRuler-rangeHighlightForeground: rgba(0, 122, 204, 0.6);
--vscode-editorOverviewRuler-errorForeground: rgba(255, 18, 18, 0.7);
--vscode-editorOverviewRuler-warningForeground: #cca700;
--vscode-editorOverviewRuler-infoForeground: #3794ff;
--vscode-editorBracketHighlight-foreground1: #ffd700;
--vscode-editorBracketHighlight-foreground2: #da70d6;
--vscode-editorBracketHighlight-foreground3: #179fff;
--vscode-editorBracketHighlight-foreground4: rgba(0, 0, 0, 0);
--vscode-editorBracketHighlight-foreground5: rgba(0, 0, 0, 0);
--vscode-editorBracketHighlight-foreground6: rgba(0, 0, 0, 0);
--vscode-editorBracketHighlight-unexpectedBracket-foreground: rgba(255, 18, 18, 0.8);
--vscode-editorBracketPairGuide-background1: rgba(0, 0, 0, 0);
--vscode-editorBracketPairGuide-background2: rgba(0, 0, 0, 0);
--vscode-editorBracketPairGuide-background3: rgba(0, 0, 0, 0);
--vscode-editorBracketPairGuide-background4: rgba(0, 0, 0, 0);
--vscode-editorBracketPairGuide-background5: rgba(0, 0, 0, 0);
--vscode-editorBracketPairGuide-background6: rgba(0, 0, 0, 0);
--vscode-editorBracketPairGuide-activeBackground1: rgba(0, 0, 0, 0);
--vscode-editorBracketPairGuide-activeBackground2: rgba(0, 0, 0, 0);
--vscode-editorBracketPairGuide-activeBackground3: rgba(0, 0, 0, 0);
--vscode-editorBracketPairGuide-activeBackground4: rgba(0, 0, 0, 0);
--vscode-editorBracketPairGuide-activeBackground5: rgba(0, 0, 0, 0);
--vscode-editorBracketPairGuide-activeBackground6: rgba(0, 0, 0, 0);
--vscode-editorUnicodeHighlight-border: #bd9b03;
--vscode-editorUnicodeHighlight-background: rgba(189, 155, 3, 0.15);
--vscode-editorOverviewRuler-bracketMatchForeground: #a0a0a0;
--vscode-editor-linkedEditingBackground: rgba(255, 0, 0, 0.3);
--vscode-editor-wordHighlightBackground: rgba(87, 87, 87, 0.72);
--vscode-editor-wordHighlightStrongBackground: rgba(0, 73, 114, 0.72);
--vscode-editor-wordHighlightTextBackground: rgba(87, 87, 87, 0.72);
--vscode-editorOverviewRuler-wordHighlightForeground: rgba(160, 160, 160, 0.8);
--vscode-editorOverviewRuler-wordHighlightStrongForeground: rgba(192, 160, 192, 0.8);
--vscode-editorOverviewRuler-wordHighlightTextForeground: rgba(160, 160, 160, 0.8);
--vscode-peekViewTitle-background: #252526;
--vscode-peekViewTitleLabel-foreground: #ffffff;
--vscode-peekViewTitleDescription-foreground: rgba(204, 204, 204, 0.7);
--vscode-peekView-border: #3794ff;
--vscode-peekViewResult-background: #252526;
--vscode-peekViewResult-lineForeground: #bbbbbb;
--vscode-peekViewResult-fileForeground: #ffffff;
--vscode-peekViewResult-selectionBackground: rgba(51, 153, 255, 0.2);
--vscode-peekViewResult-selectionForeground: #ffffff;
--vscode-peekViewEditor-background: #001f33;
--vscode-peekViewEditorGutter-background: #001f33;
--vscode-peekViewEditorStickyScroll-background: #001f33;
--vscode-peekViewResult-matchHighlightBackground: rgba(234, 92, 0, 0.3);
--vscode-peekViewEditor-matchHighlightBackground: rgba(255, 143, 0, 0.6);
--vscode-editorMarkerNavigationError-background: #f14c4c;
--vscode-editorMarkerNavigationError-headerBackground: rgba(241, 76, 76, 0.1);
--vscode-editorMarkerNavigationWarning-background: #cca700;
--vscode-editorMarkerNavigationWarning-headerBackground: rgba(204, 167, 0, 0.1);
--vscode-editorMarkerNavigationInfo-background: #3794ff;
--vscode-editorMarkerNavigationInfo-headerBackground: rgba(55, 148, 255, 0.1);
--vscode-editorMarkerNavigation-background: #1e1e1e;
--vscode-editorHoverWidget-highlightForeground: #2aaaff;
--vscode-editorSuggestWidget-background: #252526;
--vscode-editorSuggestWidget-border: #454545;
--vscode-editorSuggestWidget-foreground: #d4d4d4;
--vscode-editorSuggestWidget-selectedForeground: #ffffff;
--vscode-editorSuggestWidget-selectedBackground: #04395e;
--vscode-editorSuggestWidget-highlightForeground: #2aaaff;
--vscode-editorSuggestWidget-focusHighlightForeground: #2aaaff;
--vscode-editorSuggestWidgetStatus-foreground: rgba(212, 212, 212, 0.5);
--vscode-editor-foldBackground: rgba(38, 79, 120, 0.3);
--vscode-editorGutter-foldingControlForeground: #c5c5c5; }

.mtk1 { color: #d4d4d4; }
.mtk2 { color: #1e1e1e; }
.mtk3 { color: #cc6666; }
.mtk4 { color: #9cdcfe; }
.mtk5 { color: #ce9178; }
.mtk6 { color: #b5cea8; }
.mtk7 { color: #608b4e; }
.mtk8 { color: #6aa94f; }
.mtk9 { color: #569cd6; }
.mtk10 { color: #f28b82; }
.mtk11 { color: #d7ba7d; }
.mtk12 { color: #dcdcdc; }
.mtk13 { color: #808080; }
.mtk14 { color: #4ec9b0; }
.mtk15 { color: #dcdcaa; }
.mtk16 { color: #f44747; }
.mtk17 { color: #82c6ff; }
.mtk18 { color: #c586c0; }
.mtk19 { color: #a79873; }
.mtk20 { color: #dd6a6f; }
.mtk21 { color: #5bb498; }
.mtk22 { color: #909090; }
.mtk23 { color: #778899; }
.mtk24 { color: #ff00ff; }
.mtk25 { color: #b46695; }
.mtk26 { color: #ff0000; }
.mtk27 { color: #4f76ac; }
.mtk28 { color: #3dc9b0; }
.mtk29 { color: #74b0df; }
.mtk30 { color: #4864aa; }
.mtki { font-style: italic; }
.mtkb { font-weight: bold; }
.mtku { text-decoration: underline; text-underline-position: under; }
.mtks { text-decoration: line-through; }
.mtks.mtku { text-decoration: underline line-through; text-underline-position: under; }</style><script async="async" type="text/javascript" src="./LLM_zoomcamp_RAG_files/python.js.download"></script><style type="text/css">.MJXp-script {font-size: .8em}
.MJXp-right {-webkit-transform-origin: right; -moz-transform-origin: right; -ms-transform-origin: right; -o-transform-origin: right; transform-origin: right}
.MJXp-bold {font-weight: bold}
.MJXp-italic {font-style: italic}
.MJXp-scr {font-family: MathJax_Script,'Times New Roman',Times,STIXGeneral,serif}
.MJXp-frak {font-family: MathJax_Fraktur,'Times New Roman',Times,STIXGeneral,serif}
.MJXp-sf {font-family: MathJax_SansSerif,'Times New Roman',Times,STIXGeneral,serif}
.MJXp-cal {font-family: MathJax_Caligraphic,'Times New Roman',Times,STIXGeneral,serif}
.MJXp-mono {font-family: MathJax_Typewriter,'Times New Roman',Times,STIXGeneral,serif}
.MJXp-largeop {font-size: 150%}
.MJXp-largeop.MJXp-int {vertical-align: -.2em}
.MJXp-math {display: inline-block; line-height: 1.2; text-indent: 0; font-family: 'Times New Roman',Times,STIXGeneral,serif; white-space: nowrap; border-collapse: collapse}
.MJXp-display {display: block; text-align: center; margin: 1em 0}
.MJXp-math span {display: inline-block}
.MJXp-box {display: block!important; text-align: center}
.MJXp-box:after {content: " "}
.MJXp-rule {display: block!important; margin-top: .1em}
.MJXp-char {display: block!important}
.MJXp-mo {margin: 0 .15em}
.MJXp-mfrac {margin: 0 .125em; vertical-align: .25em}
.MJXp-denom {display: inline-table!important; width: 100%}
.MJXp-denom > * {display: table-row!important}
.MJXp-surd {vertical-align: top}
.MJXp-surd > * {display: block!important}
.MJXp-script-box > *  {display: table!important; height: 50%}
.MJXp-script-box > * > * {display: table-cell!important; vertical-align: top}
.MJXp-script-box > *:last-child > * {vertical-align: bottom}
.MJXp-script-box > * > * > * {display: block!important}
.MJXp-mphantom {visibility: hidden}
.MJXp-munderover, .MJXp-munder {display: inline-table!important}
.MJXp-over {display: inline-block!important; text-align: center}
.MJXp-over > * {display: block!important}
.MJXp-munderover > *, .MJXp-munder > * {display: table-row!important}
.MJXp-mtable {vertical-align: .25em; margin: 0 .125em}
.MJXp-mtable > * {display: inline-table!important; vertical-align: middle}
.MJXp-mtr {display: table-row!important}
.MJXp-mtd {display: table-cell!important; text-align: center; padding: .5em 0 0 .5em}
.MJXp-mtr > .MJXp-mtd:first-child {padding-left: 0}
.MJXp-mtr:first-child > .MJXp-mtd {padding-top: 0}
.MJXp-mlabeledtr {display: table-row!important}
.MJXp-mlabeledtr > .MJXp-mtd:first-child {padding-left: 0}
.MJXp-mlabeledtr:first-child > .MJXp-mtd {padding-top: 0}
.MJXp-merror {background-color: #FFFF88; color: #CC0000; border: 1px solid #CC0000; padding: 1px 3px; font-style: normal; font-size: 90%}
.MJXp-scale0 {-webkit-transform: scaleX(.0); -moz-transform: scaleX(.0); -ms-transform: scaleX(.0); -o-transform: scaleX(.0); transform: scaleX(.0)}
.MJXp-scale1 {-webkit-transform: scaleX(.1); -moz-transform: scaleX(.1); -ms-transform: scaleX(.1); -o-transform: scaleX(.1); transform: scaleX(.1)}
.MJXp-scale2 {-webkit-transform: scaleX(.2); -moz-transform: scaleX(.2); -ms-transform: scaleX(.2); -o-transform: scaleX(.2); transform: scaleX(.2)}
.MJXp-scale3 {-webkit-transform: scaleX(.3); -moz-transform: scaleX(.3); -ms-transform: scaleX(.3); -o-transform: scaleX(.3); transform: scaleX(.3)}
.MJXp-scale4 {-webkit-transform: scaleX(.4); -moz-transform: scaleX(.4); -ms-transform: scaleX(.4); -o-transform: scaleX(.4); transform: scaleX(.4)}
.MJXp-scale5 {-webkit-transform: scaleX(.5); -moz-transform: scaleX(.5); -ms-transform: scaleX(.5); -o-transform: scaleX(.5); transform: scaleX(.5)}
.MJXp-scale6 {-webkit-transform: scaleX(.6); -moz-transform: scaleX(.6); -ms-transform: scaleX(.6); -o-transform: scaleX(.6); transform: scaleX(.6)}
.MJXp-scale7 {-webkit-transform: scaleX(.7); -moz-transform: scaleX(.7); -ms-transform: scaleX(.7); -o-transform: scaleX(.7); transform: scaleX(.7)}
.MJXp-scale8 {-webkit-transform: scaleX(.8); -moz-transform: scaleX(.8); -ms-transform: scaleX(.8); -o-transform: scaleX(.8); transform: scaleX(.8)}
.MJXp-scale9 {-webkit-transform: scaleX(.9); -moz-transform: scaleX(.9); -ms-transform: scaleX(.9); -o-transform: scaleX(.9); transform: scaleX(.9)}
.MathJax_PHTML .noError {vertical-align: ; font-size: 90%; text-align: left; color: black; padding: 1px 3px; border: 1px solid}
</style><style type="text/css">.MathJax_Display {text-align: center; margin: 0; position: relative; display: block!important; text-indent: 0; max-width: none; max-height: none; min-width: 0; min-height: 0; width: 100%}
.MathJax .merror {background-color: #FFFF88; color: #CC0000; border: 1px solid #CC0000; padding: 1px 3px; font-style: normal; font-size: 90%}
.MathJax .MJX-monospace {font-family: monospace}
.MathJax .MJX-sans-serif {font-family: sans-serif}
#MathJax_Tooltip {background-color: InfoBackground; color: InfoText; border: 1px solid black; box-shadow: 2px 2px 5px #AAAAAA; -webkit-box-shadow: 2px 2px 5px #AAAAAA; -moz-box-shadow: 2px 2px 5px #AAAAAA; -khtml-box-shadow: 2px 2px 5px #AAAAAA; filter: progid:DXImageTransform.Microsoft.dropshadow(OffX=2, OffY=2, Color='gray', Positive='true'); padding: 3px 4px; z-index: 401; position: absolute; left: 0; top: 0; width: auto; height: auto; display: none}
.MathJax {display: inline; font-style: normal; font-weight: normal; line-height: normal; font-size: 100%; font-size-adjust: none; text-indent: 0; text-align: left; text-transform: none; letter-spacing: normal; word-spacing: normal; word-wrap: normal; white-space: nowrap; float: none; direction: ltr; max-width: none; max-height: none; min-width: 0; min-height: 0; border: 0; padding: 0; margin: 0}
.MathJax:focus, body :focus .MathJax {display: inline-table}
.MathJax.MathJax_FullWidth {text-align: center; display: table-cell!important; width: 10000em!important}
.MathJax img, .MathJax nobr, .MathJax a {border: 0; padding: 0; margin: 0; max-width: none; max-height: none; min-width: 0; min-height: 0; vertical-align: 0; line-height: normal; text-decoration: none}
img.MathJax_strut {border: 0!important; padding: 0!important; margin: 0!important; vertical-align: 0!important}
.MathJax span {display: inline; position: static; border: 0; padding: 0; margin: 0; vertical-align: 0; line-height: normal; text-decoration: none; box-sizing: content-box}
.MathJax nobr {white-space: nowrap!important}
.MathJax img {display: inline!important; float: none!important}
.MathJax * {transition: none; -webkit-transition: none; -moz-transition: none; -ms-transition: none; -o-transition: none}
.MathJax_Processing {visibility: hidden; position: fixed; width: 0; height: 0; overflow: hidden}
.MathJax_Processed {display: none!important}
.MathJax_test {font-style: normal; font-weight: normal; font-size: 100%; font-size-adjust: none; text-indent: 0; text-transform: none; letter-spacing: normal; word-spacing: normal; overflow: hidden; height: 1px}
.MathJax_test.mjx-test-display {display: table!important}
.MathJax_test.mjx-test-inline {display: inline!important; margin-right: -1px}
.MathJax_test.mjx-test-default {display: block!important; clear: both}
.MathJax_ex_box {display: inline-block!important; position: absolute; overflow: hidden; min-height: 0; max-height: none; padding: 0; border: 0; margin: 0; width: 1px; height: 60ex}
.MathJax_em_box {display: inline-block!important; position: absolute; overflow: hidden; min-height: 0; max-height: none; padding: 0; border: 0; margin: 0; width: 1px; height: 60em}
.mjx-test-inline .MathJax_left_box {display: inline-block; width: 0; float: left}
.mjx-test-inline .MathJax_right_box {display: inline-block; width: 0; float: right}
.mjx-test-display .MathJax_right_box {display: table-cell!important; width: 10000em!important; min-width: 0; max-width: none; padding: 0; border: 0; margin: 0}
.MathJax .MathJax_HitBox {cursor: text; background: white; opacity: 0; filter: alpha(opacity=0)}
.MathJax .MathJax_HitBox * {filter: none; opacity: 1; background: transparent}
#MathJax_Tooltip * {filter: none; opacity: 1; background: transparent}
@font-face {font-family: MathJax_Main; src: url('https://colab.research.google.com/static/mathjax/fonts/HTML-CSS/TeX/woff/MathJax_Main-Regular.woff?V=2.7.5') format('woff'), url('https://colab.research.google.com/static/mathjax/fonts/HTML-CSS/TeX/otf/MathJax_Main-Regular.otf?V=2.7.5') format('opentype')}
@font-face {font-family: MathJax_Main-bold; src: url('https://colab.research.google.com/static/mathjax/fonts/HTML-CSS/TeX/woff/MathJax_Main-Bold.woff?V=2.7.5') format('woff'), url('https://colab.research.google.com/static/mathjax/fonts/HTML-CSS/TeX/otf/MathJax_Main-Bold.otf?V=2.7.5') format('opentype')}
@font-face {font-family: MathJax_Main-italic; src: url('https://colab.research.google.com/static/mathjax/fonts/HTML-CSS/TeX/woff/MathJax_Main-Italic.woff?V=2.7.5') format('woff'), url('https://colab.research.google.com/static/mathjax/fonts/HTML-CSS/TeX/otf/MathJax_Main-Italic.otf?V=2.7.5') format('opentype')}
@font-face {font-family: MathJax_Math-italic; src: url('https://colab.research.google.com/static/mathjax/fonts/HTML-CSS/TeX/woff/MathJax_Math-Italic.woff?V=2.7.5') format('woff'), url('https://colab.research.google.com/static/mathjax/fonts/HTML-CSS/TeX/otf/MathJax_Math-Italic.otf?V=2.7.5') format('opentype')}
@font-face {font-family: MathJax_Caligraphic; src: url('https://colab.research.google.com/static/mathjax/fonts/HTML-CSS/TeX/woff/MathJax_Caligraphic-Regular.woff?V=2.7.5') format('woff'), url('https://colab.research.google.com/static/mathjax/fonts/HTML-CSS/TeX/otf/MathJax_Caligraphic-Regular.otf?V=2.7.5') format('opentype')}
@font-face {font-family: MathJax_Size1; src: url('https://colab.research.google.com/static/mathjax/fonts/HTML-CSS/TeX/woff/MathJax_Size1-Regular.woff?V=2.7.5') format('woff'), url('https://colab.research.google.com/static/mathjax/fonts/HTML-CSS/TeX/otf/MathJax_Size1-Regular.otf?V=2.7.5') format('opentype')}
@font-face {font-family: MathJax_Size2; src: url('https://colab.research.google.com/static/mathjax/fonts/HTML-CSS/TeX/woff/MathJax_Size2-Regular.woff?V=2.7.5') format('woff'), url('https://colab.research.google.com/static/mathjax/fonts/HTML-CSS/TeX/otf/MathJax_Size2-Regular.otf?V=2.7.5') format('opentype')}
@font-face {font-family: MathJax_Size3; src: url('https://colab.research.google.com/static/mathjax/fonts/HTML-CSS/TeX/woff/MathJax_Size3-Regular.woff?V=2.7.5') format('woff'), url('https://colab.research.google.com/static/mathjax/fonts/HTML-CSS/TeX/otf/MathJax_Size3-Regular.otf?V=2.7.5') format('opentype')}
@font-face {font-family: MathJax_Size4; src: url('https://colab.research.google.com/static/mathjax/fonts/HTML-CSS/TeX/woff/MathJax_Size4-Regular.woff?V=2.7.5') format('woff'), url('https://colab.research.google.com/static/mathjax/fonts/HTML-CSS/TeX/otf/MathJax_Size4-Regular.otf?V=2.7.5') format('opentype')}
.MathJax .noError {vertical-align: ; font-size: 90%; text-align: left; color: black; padding: 1px 3px; border: 1px solid}
</style></head><body class="" style="overscroll-behavior: contain;"><div style="visibility: hidden; overflow: hidden; position: absolute; top: 0px; height: 1px; width: auto; padding: 0px; border: 0px; margin: 0px; text-align: left; text-indent: 0px; text-transform: none; line-height: normal; letter-spacing: normal; word-spacing: normal;"><div id="MathJax_Hidden"></div></div><div id="MathJax_Message" style="display: none;"></div><div class="scripts"><script nonce="">window.performance.mark('external_scripts_start');</script><script src="./LLM_zoomcamp_RAG_files/gapi_loader.js.download" nonce=""></script><script src="./LLM_zoomcamp_RAG_files/socketio_binary.js.download" nonce=""></script><script src="./LLM_zoomcamp_RAG_files/analytics_binary.js.download" nonce=""></script><script src="./LLM_zoomcamp_RAG_files/MathJax.js.download" nonce=""></script><script src="./LLM_zoomcamp_RAG_files/js_monaco_editor_vs_loader.js.download" nonce=""></script><script nonce="">window.performance.mark('external_scripts_end'); window.performance.measure('external_scripts', 'external_scripts_start', 'external_scripts_end'); window.performance.mark('colab_load_start');</script><script src="./LLM_zoomcamp_RAG_files/external_binary_l10n__en_gb.js.download" nonce=""></script><script nonce="">
          window.performance.mark('colab_load_end');
          window.performance.measure('colab_load', 'colab_load_start', 'colab_load_end');
        </script></div><colab-snackbar leading="" labeltext="" id="message-area" class="message-area"><template shadowrootmode="open"><!----><style>
        :host .mdc-snackbar__surface {
          background-color: var(--colab-snackbar-surface-color);
        }
      </style>
      <!--?lit$109918125$-->
      <div class="mdc-snackbar mdc-snackbar--leading">
        <div class="mdc-snackbar__surface">
          <!--?lit$109918125$-->
          <div class="mdc-snackbar__actions">
            <slot name="action"></slot>
            <slot name="dismiss"></slot>
          </div>
        </div>
      </div><!--?--></template>
      <md-icon-button class="close" slot="dismiss" title="Close" data-aria-label="Close" value=""><template shadowrootmode="open" shadowrootdelegatesfocus><!----><button id="button" class="icon-button  standard " aria-label="Close">
        <!--?lit$109918125$--><md-focus-ring part="focus-ring" for="button" aria-hidden="true"><template shadowrootmode="open"><!----></template></md-focus-ring>
        <!--?lit$109918125$--><md-ripple aria-hidden="true"><template shadowrootmode="open"><!----><div class="surface   "></div></template></md-ripple>
        <!--?lit$109918125$--><span class="icon"><slot></slot></span>
        <!--?lit$109918125$-->
        <!--?lit$109918125$--><span class="touch"></span>
        <!--?lit$109918125$-->
  </button></template>
        <md-icon aria-hidden="true"><template shadowrootmode="open"><!----><slot></slot></template>close</md-icon>
      </md-icon-button>
    </colab-snackbar><colab-snackbar leading="" labeltext="" id="message-area-secondary" class="message-area"><template shadowrootmode="open"><!----><style>
        :host .mdc-snackbar__surface {
          background-color: var(--colab-snackbar-surface-color);
        }
      </style>
      <!--?lit$109918125$-->
      <div class="mdc-snackbar mdc-snackbar--leading">
        <div class="mdc-snackbar__surface">
          <!--?lit$109918125$-->
          <div class="mdc-snackbar__actions">
            <slot name="action"></slot>
            <slot name="dismiss"></slot>
          </div>
        </div>
      </div><!--?--></template>
      <md-icon-button class="close" slot="dismiss" title="Close" data-aria-label="Close" value=""><template shadowrootmode="open" shadowrootdelegatesfocus><!----><button id="button" class="icon-button  standard " aria-label="Close">
        <!--?lit$109918125$--><md-focus-ring part="focus-ring" for="button" aria-hidden="true"><template shadowrootmode="open"><!----></template></md-focus-ring>
        <!--?lit$109918125$--><md-ripple aria-hidden="true"><template shadowrootmode="open"><!----><div class="surface   "></div></template></md-ripple>
        <!--?lit$109918125$--><span class="icon"><slot></slot></span>
        <!--?lit$109918125$-->
        <!--?lit$109918125$--><span class="touch"></span>
        <!--?lit$109918125$-->
  </button></template>
        <md-icon aria-hidden="true"><template shadowrootmode="open"><!----><slot></slot></template>close</md-icon>
      </md-icon-button>
    <a class="moreinfo" href="https://colab.research.google.com/drive/1-pKQw5cZm2EYAO9OZk2AuQjfpX_UFeEW#" slot="action">Change to a standard runtime</a></colab-snackbar><div ng-non-bindable=""></div><div class="gb_r" ng-non-bindable=""><div class="gb_wc"><div>Google Account</div><div class="gb_wb">Venkatesh Moturi</div><div>venkateshmoturi79@gmail.com</div></div></div><script nonce="">this.gbar_=this.gbar_||{};(function(_){var window=this;
try{
var zd;_.yd=function(a){var b=typeof a;return b=="object"&&a!=null||b=="function"};zd=class extends _.id{};_.Ad=function(a,b){if(b in a.i)return a.i[b];throw new zd;};_.Bd=function(a){return _.Ad(_.fd.i(),a)};
}catch(e){_._DumpException(e)}
try{
/*

 SPDX-License-Identifier: Apache-2.0
*/
var Hd,Rd,Td;_.Cd=function(a){if(a==null)return a;if(typeof a==="string"){if(!a)return;a=+a}if(typeof a==="number")return Number.isFinite(a)?a|0:void 0};_.Dd=function(a){const b=a.length;if(b>0){const c=Array(b);for(let d=0;d<b;d++)c[d]=a[d];return c}return[]};_.Fd=function(a){if(a instanceof _.Ed)return a.i;throw Error("D");};Hd=function(a){return new Gd(b=>b.substr(0,a.length+1).toLowerCase()===a+":")};
_.Jd=function(a,b=_.Id){if(a instanceof _.Ed)return a;for(let c=0;c<b.length;++c){const d=b[c];if(d instanceof Gd&&d.Vg(a))return new _.Ed(a)}};_.Ld=function(a){if(Kd.test(a))return a};_.Md=function(a){return a instanceof _.Ed?_.Fd(a):_.Ld(a)};_.Nd=function(a,b){var c=Array.prototype.slice.call(arguments,1);return function(){var d=c.slice();d.push.apply(d,arguments);return a.apply(this,d)}};_.Od=function(a,b,c){return _.sb(a,b,c,!1)!==void 0};_.Pd=function(a,b){return _.Cd(_.Cc(a,b))};
_.S=function(a,b){a=_.Cc(a,b);return a==null?a:Number.isFinite(a)?a|0:void 0};_.T=function(a,b,c=0){return _.tb(_.Pd(a,b),c)};_.Qd=function(a,b,c=0){return _.tb(_.S(a,b),c)};Rd=0;_.Sd=function(a){return Object.prototype.hasOwnProperty.call(a,_.Hb)&&a[_.Hb]||(a[_.Hb]=++Rd)};Td=function(a){return a};_.Ud=function(a){var b=null,c=_.t.trustedTypes;if(!c||!c.createPolicy)return b;try{b=c.createPolicy(a,{createHTML:Td,createScript:Td,createScriptURL:Td})}catch(d){_.t.console&&_.t.console.error(d.message)}return b};
_.Vd=function(a,b){return a.lastIndexOf(b,0)==0};_.Wd=function(a,b){return Array.prototype.some.call(a,b,void 0)};try{(new self.OffscreenCanvas(0,0)).getContext("2d")}catch(a){};var Xd;_.Yd=function(){Xd===void 0&&(Xd=_.Ud("ogb-qtm#html"));return Xd};var ae;_.Zd=class{constructor(a){this.i=a}toString(){return this.i+""}};_.$d=function(a){return a instanceof _.Zd&&a.constructor===_.Zd?a.i:"type_error:TrustedResourceUrl"};ae={};_.be=function(a){const b=_.Yd();a=b?b.createScriptURL(a):a;return new _.Zd(a,ae)};_.Ed=class{constructor(a){this.i=a}toString(){return this.i}};_.ce=new _.Ed("about:invalid#zClosurez");var Gd,Kd;Gd=class{constructor(a){this.Vg=a}};_.Id=[Hd("data"),Hd("http"),Hd("https"),Hd("mailto"),Hd("ftp"),new Gd(a=>/^[^:]*([/?#]|$)/.test(a))];Kd=/^\s*(?!javascript:)(?:[\w+.-]+:|[^:/?#]*(?:[/?#]|$))/i;_.de={};_.ee=class{constructor(a){this.i=a}toString(){return this.i.toString()}};_.fe=new _.ee("",_.de);_.ge=RegExp("^[-+,.\"'%_!#/ a-zA-Z0-9\\[\\]]+$");_.he=RegExp("\\b(url\\([ \t\n]*)('[ -&(-\\[\\]-~]*'|\"[ !#-\\[\\]-~]*\"|[!#-&*-\\[\\]-~]*)([ \t\n]*\\))","g");_.ie=RegExp("\\b(calc|cubic-bezier|fit-content|hsl|hsla|linear-gradient|matrix|minmax|radial-gradient|repeat|rgb|rgba|(rotate|scale|translate)(X|Y|Z|3d)?|steps|var)\\([-+*/0-9a-zA-Z.%#\\[\\], ]+\\)","g");_.je={};_.le=function(a){return a instanceof _.ke&&a.constructor===_.ke?a.i:"type_error:SafeHtml"};_.ke=class{constructor(a){this.i=a}toString(){return this.i.toString()}};_.me=new _.ke(_.t.trustedTypes&&_.t.trustedTypes.emptyHTML||"",_.je);_.ne=function(a){let b=!1,c;return function(){b||(c=a(),b=!0);return c}}(function(){var a=document.createElement("div"),b=document.createElement("div");b.appendChild(document.createElement("div"));a.appendChild(b);b=a.firstChild.firstChild;a.innerHTML=_.le(_.me);return!b.parentElement});_.oe=function(a,b){this.width=a;this.height=b};_.n=_.oe.prototype;_.n.aspectRatio=function(){return this.width/this.height};_.n.Eb=function(){return!(this.width*this.height)};_.n.ceil=function(){this.width=Math.ceil(this.width);this.height=Math.ceil(this.height);return this};_.n.floor=function(){this.width=Math.floor(this.width);this.height=Math.floor(this.height);return this};_.n.round=function(){this.width=Math.round(this.width);this.height=Math.round(this.height);return this};_.U=function(a,b){var c=b||document;if(c.getElementsByClassName)a=c.getElementsByClassName(a)[0];else{c=document;var d=b||c;a=d.querySelectorAll&&d.querySelector&&a?d.querySelector(a?"."+a:""):_.pe(c,a,b)[0]||null}return a||null};
_.pe=function(a,b,c){var d;a=c||a;if(a.querySelectorAll&&a.querySelector&&b)return a.querySelectorAll(b?"."+b:"");if(b&&a.getElementsByClassName){var e=a.getElementsByClassName(b);return e}e=a.getElementsByTagName("*");if(b){var f={};for(c=d=0;a=e[c];c++){var g=a.className;typeof g.split=="function"&&_.ta(g.split(/\s+/),b)&&(f[d++]=a)}f.length=d;return f}return e};_.re=function(a){return _.qe(document,a)};
_.qe=function(a,b){b=String(b);a.contentType==="application/xhtml+xml"&&(b=b.toLowerCase());return a.createElement(b)};_.se=function(a){for(var b;b=a.firstChild;)a.removeChild(b)};_.te=function(a){return a.nodeType==9?a:a.ownerDocument||a.document};
}catch(e){_._DumpException(e)}
try{
_.Wi=function(a,b){let c,d;return(b=(d=(c=b.document).querySelector)==null?void 0:d.call(c,`${a}[nonce]`))?b.nonce||b.getAttribute("nonce")||"":""};_.Xi=function(a){const b=_.Wi("script",a.ownerDocument&&a.ownerDocument.defaultView||window);b&&a.setAttribute("nonce",b)};_.Yi=function(a){if(!a)return null;a=_.J(a,4);var b;a===null||a===void 0?b=null:b=_.be(a);return b};_.Zi=class extends _.Q{constructor(a){super(a)}};_.$i=function(a,b){return(b||document).getElementsByTagName(String(a))};
}catch(e){_._DumpException(e)}
try{
var bj=function(a,b,c){a<b?aj(a+1,b):_.Oc.log(Error("ca`"+a+"`"+b),{url:c})},aj=function(a,b){if(cj){const c=_.re("SCRIPT");c.async=!0;c.type="text/javascript";c.charset="UTF-8";c.src=_.$d(cj);_.Xi(c);c.onerror=_.Nd(bj,a,b,c.src);_.$i("HEAD")[0].appendChild(c)}},dj=class extends _.Q{constructor(a){super(a)}};var ej=_.E(_.$c,dj,17)||new dj,fj,cj=(fj=_.E(ej,_.Zi,1))?_.Yi(fj):null,gj,hj=(gj=_.E(ej,_.Zi,2))?_.Yi(gj):null,ij=function(){aj(1,2);if(hj){const a=_.re("LINK");a.setAttribute("type","text/css");a.href=_.$d(hj).toString();a.rel="stylesheet";let b=_.Wi("style",window);b&&a.setAttribute("nonce",b);_.$i("HEAD")[0].appendChild(a)}};(function(){const a=_.ad();if(_.I(a,18))ij();else{const b=_.Pd(a,19)||0;window.addEventListener("load",()=>{window.setTimeout(ij,b)})}})();
}catch(e){_._DumpException(e)}
})(this.gbar_);
// Google Inc.
</script><div style="position: absolute; width: 0px; height: 0px; overflow: hidden; padding: 0px; border: 0px; margin: 0px;"><div id="MathJax_Font_Test" style="position: absolute; visibility: hidden; top: 0px; left: 0px; width: auto; min-width: 0px; max-width: none; padding: 0px; border: 0px; margin: 0px; white-space: nowrap; text-align: left; text-indent: 0px; text-transform: none; line-height: normal; letter-spacing: normal; word-spacing: normal; font-size: 40px; font-weight: normal; font-style: normal; font-family: MathJax_Size1, monospace;"></div></div><div class="notebook-vertical colab-left-pane-open" style="position: relative;">
      <div class="top-floater"><div role="banner">
    <colab-header-skip-button><template shadowrootmode="open"><!----><a id="skiplink" class="skip-link" href="https://colab.research.google.com/drive/1-pKQw5cZm2EYAO9OZk2AuQjfpX_UFeEW#top-toolbar"><!--?lit$109918125$-->Skip to main content</a></template></colab-header-skip-button>
    <!--?lit$109918125$-->
    <!--?lit$109918125$-->
    <!--?lit$109918125$-->
          <div id="private-outputs-warning" class="header-warning private-outputs-warning hidden">
            <!--?lit$109918125$-->This notebook is open with private outputs. Outputs will not be saved. You can disable this in <a href="https://colab.research.google.com/drive/1-pKQw5cZm2EYAO9OZk2AuQjfpX_UFeEW#" id="private-outputs-notebook-info-link" command="notebook-settings" aria-describedby="private-outputs-notebook-info-link-tooltip">Notebook settings</a><colab-tooltip-trigger aria-hidden="true" for="private-outputs-notebook-info-link" id="private-outputs-notebook-info-link-tooltip"><template shadowrootmode="open"><!----><!--?lit$109918125$--><!----><div><!--?lit$109918125$-->Open notebook settings</div><!----><!--?--></template>
        </colab-tooltip-trigger>.
          <mwc-icon-button class="close" icon="close" title="Close"><template shadowrootmode="open"><!----><button class="mdc-icon-button mdc-icon-button--display-flex" aria-label="Close"><!--?lit$109918125$-->
    <!--?lit$109918125$--><i class="material-icons"><!--?lit$109918125$-->close</i>
    <span><slot></slot></span>
  </button></template></mwc-icon-button></div>
        

    <div id="header" class="horizontal layout">
      <div id="header-background"><div></div></div>
      <div id="header-content">
        <!--?lit$109918125$-->
        <!--?lit$109918125$--><div id="header-logo">
              <!--?lit$109918125$--> <!--?lit$109918125$--><a href="https://drive.google.com/drive/search?q=owner%3Ame%20(type%3Aapplication%2Fvnd.google.colaboratory%20%7C%7C%20type%3Aapplication%2Fvnd.google.colab)&amp;authuser=0" aria-label="View in Google Drive">
        <!--?lit$109918125$--><md-icon class="colab-large-icon" aria-hidden="true"><template shadowrootmode="open"><!----><slot></slot></template><!--?lit$109918125$--><svg viewBox="0 0 24 24"><!--?lit$109918125$-->
      <g id="colab-logo">
        <path d="M4.54,9.46,2.19,7.1a6.93,6.93,0,0,0,0,9.79l2.36-2.36A3.59,3.59,0,0,1,4.54,9.46Z" style="fill:var(--colab-logo-dark)"></path>
        <path d="M2.19,7.1,4.54,9.46a3.59,3.59,0,0,1,5.08,0l1.71-2.93h0l-.1-.08h0A6.93,6.93,0,0,0,2.19,7.1Z" style="fill:var(--colab-logo-light)"></path>
        <path d="M11.34,17.46h0L9.62,14.54a3.59,3.59,0,0,1-5.08,0L2.19,16.9a6.93,6.93,0,0,0,9,.65l.11-.09" style="fill:var(--colab-logo-light)"></path>
        <path d="M12,7.1a6.93,6.93,0,0,0,0,9.79l2.36-2.36a3.59,3.59,0,1,1,5.08-5.08L21.81,7.1A6.93,6.93,0,0,0,12,7.1Z" style="fill:var(--colab-logo-light)"></path>
        <path d="M21.81,7.1,19.46,9.46a3.59,3.59,0,0,1-5.08,5.08L12,16.9A6.93,6.93,0,0,0,21.81,7.1Z" style="fill:var(--colab-logo-dark)"></path>
      </g></svg></md-icon>
      </a><!--?-->
            </div>
        <div id="header-doc-toolbar" class="flex">
          <div id="document-info">
            <!--?lit$109918125$--> <!--?lit$109918125$--><md-icon class="file-location-icon" id="file-type" aria-hidden="true" title="Notebook stored in Google Drive"><template shadowrootmode="open"><!----><slot></slot></template><!--?lit$109918125$-->
      <svg viewBox="0 0 192 192">
        <path d="M128.33,122l7.59,26.17l19.89,21.42c0,0,0,0,0,0v0c2.69-1.55,4.98-3.8,6.59-6.59l18.48-32 c1.61-2.78,2.41-5.89,2.41-9l-28.38-5.5L128.33,122z" fill="#EA4335"></path>
        <path d="M123.48,18.41c-2.69-1.55-5.78-2.41-9-2.41H77.53c-3.2,0-6.32,0.88-9,2.41l0,0l7.96,26.81l19.44,20.64 L96,66l0,0l19.58-20.89L123.48,18.41C123.48,18.41,123.48,18.41,123.48,18.41C123.48,18.41,123.48,18.41,123.48,18.41z" fill="#188038"></path>
        <path d="M63.67,122l-28.33-6.5L8.72,122c0,3.1,0.8,6.2,2.4,8.99L29.6,163c1.61,2.78,3.9,5.03,6.59,6.59 l19.59-20.18L63.67,122L63.67,122z" fill="#1967D2"></path>
        <path d="M155.47,69l-25.4-44c-1.61-2.79-3.9-5.04-6.59-6.59L96,66l32.33,56h54.95c0-3.11-0.8-6.21-2.41-9 L155.47,69z" fill="#FBBC04"></path><path d="M128.33,122H63.67l-27.48,47.59c2.69,1.55,5.78,2.41,9,2.41h101.61c3.22,0,6.31-0.86,9-2.41L128.33,122z" fill="#4285F4"></path>
        <path d="M96,66L68.53,18.41c-2.69,1.55-4.97,3.79-6.58,6.57l-50.83,88.05c-1.6,2.78-2.4,5.88-2.4,8.97h54.95L96,66 z" fill="#34A853"></path>
      </svg></md-icon>
    <input id="doc-name" class="doc-name" maxlength="259" autocomplete="off" aria-label="Notebook name" command="rename" style="width: 235.656px;" aria-describedby="doc-name-tooltip"><colab-tooltip-trigger aria-hidden="true" for="doc-name" id="doc-name-tooltip"><template shadowrootmode="open"><!----><!--?lit$109918125$--><!----><div><!--?lit$109918125$-->Rename notebook</div><!----><!--?--></template>
        </colab-tooltip-trigger><colab-input-sizer aria-hidden="true" style="left: -1000%; position: absolute; font-family: &quot;Google Sans&quot;, Roboto, Noto, sans-serif; font-size: 18px; font-weight: 400; letter-spacing: normal; padding-left: 3px; padding-right: 4px; white-space: pre;">LLM_zoomcamp_RAG.ipynb_</colab-input-sizer>
            <!--?lit$109918125$-->
                  <div class="screenreader-only" id="star-status" aria-live="polite">Notebook unstarred</div>
                  <md-icon-button id="star-icon" command="toggle-star" aria-describedby="star-icon-tooltip" data-aria-label="Star" value=""><template shadowrootmode="open" shadowrootdelegatesfocus><!----><button id="button" class="icon-button  standard " aria-label="Star">
        <!--?lit$109918125$--><md-focus-ring part="focus-ring" for="button" aria-hidden="true"><template shadowrootmode="open"><!----></template></md-focus-ring>
        <!--?lit$109918125$--><md-ripple aria-hidden="true"><template shadowrootmode="open"><!----><div class="surface"></div></template></md-ripple>
        <!--?lit$109918125$--><span class="icon"><slot></slot></span>
        <!--?lit$109918125$-->
        <!--?lit$109918125$--><span class="touch"></span>
        <!--?lit$109918125$-->
  </button></template>
                    <md-icon aria-hidden="true"><template shadowrootmode="open"><!----><slot></slot></template>star</md-icon>
                  </md-icon-button><colab-tooltip-trigger aria-hidden="true" for="star-icon" id="star-icon-tooltip"><template shadowrootmode="open"><!----><!--?lit$109918125$--><!----><div><!--?lit$109918125$-->Star notebook in Google Drive</div><!----><!--?--></template>
        </colab-tooltip-trigger>
                
          </div>
        <div class="menubar-wrapper"><div><!----><div id="top-menubar" class="goog-menubar format-lightborder" role="menubar" style="user-select: none;" tabindex="0"><!--?lit$109918125$--><div class="goog-menu-button goog-inline-block" id="file-menu-button" role="button" aria-expanded="false" aria-haspopup="true" style="user-select: none;"><div class="goog-inline-block goog-menu-button-outer-box" style="user-select: none;"><div class="goog-inline-block goog-menu-button-inner-box" style="user-select: none;"><div class="goog-inline-block goog-menu-button-caption" style="user-select: none;"><!--?lit$109918125$-->File</div><div class="goog-inline-block goog-menu-button-dropdown" style="user-select: none;">&nbsp;</div></div></div></div><div class="goog-menu-button goog-inline-block" id="edit-menu-button" role="button" aria-expanded="false" aria-haspopup="true" style="user-select: none;"><div class="goog-inline-block goog-menu-button-outer-box" style="user-select: none;"><div class="goog-inline-block goog-menu-button-inner-box" style="user-select: none;"><div class="goog-inline-block goog-menu-button-caption" style="user-select: none;"><!--?lit$109918125$-->Edit</div><div class="goog-inline-block goog-menu-button-dropdown" style="user-select: none;">&nbsp;</div></div></div></div><div class="goog-menu-button goog-inline-block" id="view-menu-button" role="button" aria-expanded="false" aria-haspopup="true" style="user-select: none;"><div class="goog-inline-block goog-menu-button-outer-box" style="user-select: none;"><div class="goog-inline-block goog-menu-button-inner-box" style="user-select: none;"><div class="goog-inline-block goog-menu-button-caption" style="user-select: none;"><!--?lit$109918125$-->View</div><div class="goog-inline-block goog-menu-button-dropdown" style="user-select: none;">&nbsp;</div></div></div></div><div class="goog-menu-button goog-inline-block" id="insert-menu-button" role="button" aria-expanded="false" aria-haspopup="true" style="user-select: none;"><div class="goog-inline-block goog-menu-button-outer-box" style="user-select: none;"><div class="goog-inline-block goog-menu-button-inner-box" style="user-select: none;"><div class="goog-inline-block goog-menu-button-caption" style="user-select: none;"><!--?lit$109918125$-->Insert</div><div class="goog-inline-block goog-menu-button-dropdown" style="user-select: none;">&nbsp;</div></div></div></div><div class="goog-menu-button goog-inline-block" id="runtime-menu-button" role="button" aria-expanded="false" aria-haspopup="true" style="user-select: none;"><div class="goog-inline-block goog-menu-button-outer-box" style="user-select: none;"><div class="goog-inline-block goog-menu-button-inner-box" style="user-select: none;"><div class="goog-inline-block goog-menu-button-caption" style="user-select: none;"><!--?lit$109918125$-->Runtime</div><div class="goog-inline-block goog-menu-button-dropdown" style="user-select: none;">&nbsp;</div></div></div></div><div class="goog-menu-button goog-inline-block" id="tools-menu-button" role="button" aria-expanded="false" aria-haspopup="true" style="user-select: none;"><div class="goog-inline-block goog-menu-button-outer-box" style="user-select: none;"><div class="goog-inline-block goog-menu-button-inner-box" style="user-select: none;"><div class="goog-inline-block goog-menu-button-caption" style="user-select: none;"><!--?lit$109918125$-->Tools</div><div class="goog-inline-block goog-menu-button-dropdown" style="user-select: none;">&nbsp;</div></div></div></div><div class="goog-menu-button goog-inline-block" id="help-menu-button" role="button" aria-expanded="false" aria-haspopup="true" style="user-select: none;"><div class="goog-inline-block goog-menu-button-outer-box" style="user-select: none;"><div class="goog-inline-block goog-menu-button-inner-box" style="user-select: none;"><div class="goog-inline-block goog-menu-button-caption" style="user-select: none;"><!--?lit$109918125$-->Help</div><div class="goog-inline-block goog-menu-button-dropdown" style="user-select: none;">&nbsp;</div></div></div></div></div>
    <div id="colab-menu-cover" style="left: 138.656px; top: 61px; width: 42px; display: none;"> </div></div><!----><colab-last-saved-indicator aria-live="polite" aria-atomic="true" title=""><template shadowrootmode="open"><!----><!--?--></template></colab-last-saved-indicator></div></div>
        <div id="header-right">
          <!--?lit$109918125$-->
    <colab-collaborator-bar id="collaborator-bar"><template shadowrootmode="open"><!----> <div class="collaborator-bar">
      <!--?lit$109918125$-->
      <!--?lit$109918125$-->
    </div></template></colab-collaborator-bar>
  
          <!--?lit$109918125$--> <md-text-button id="comments" command="open-comments-thread" aria-describedby="comments-tooltip" value="" has-icon=""><template shadowrootmode="open" shadowrootdelegatesfocus><!---->
      <!--?lit$109918125$-->
      <div class="background"></div>
      <md-focus-ring part="focus-ring" for="button" aria-hidden="true"><template shadowrootmode="open"><!----></template></md-focus-ring>
      <md-ripple part="ripple" for="button" aria-hidden="true"><template shadowrootmode="open"><!----><div class="surface   "></div></template></md-ripple>
      <!--?lit$109918125$--><button id="button" class="button">
      <!--?lit$109918125$-->
      <span class="touch"></span>
      <!--?lit$109918125$--><slot name="icon"></slot>
      <span class="label"><slot></slot></span>
      <!--?lit$109918125$-->
    
    </button>
    </template>
                <md-icon slot="icon" aria-hidden="true"><template shadowrootmode="open"><!----><slot></slot></template>comment</md-icon>
                <!--?lit$109918125$-->Comment
              </md-text-button><colab-tooltip-trigger aria-hidden="true" for="comments" id="comments-tooltip"><template shadowrootmode="open"><!----><!--?lit$109918125$--><!----><div><!--?lit$109918125$-->Open comments pane</div><!----><!--?--></template>
        </colab-tooltip-trigger>
          <!--?lit$109918125$--> <md-text-button id="share-toolbar-button" command="share" aria-describedby="share-toolbar-button-tooltip" value="" has-icon=""><template shadowrootmode="open" shadowrootdelegatesfocus><!---->
      <!--?lit$109918125$-->
      <div class="background"></div>
      <md-focus-ring part="focus-ring" for="button" aria-hidden="true"><template shadowrootmode="open"><!----></template></md-focus-ring>
      <md-ripple part="ripple" for="button" aria-hidden="true"><template shadowrootmode="open"><!----><div class="surface   "></div></template></md-ripple>
      <!--?lit$109918125$--><button id="button" class="button">
      <!--?lit$109918125$-->
      <span class="touch"></span>
      <!--?lit$109918125$--><slot name="icon"></slot>
      <span class="label"><slot></slot></span>
      <!--?lit$109918125$-->
    
    </button>
    </template>
                <md-icon slot="icon" aria-hidden="true"><template shadowrootmode="open"><!----><slot></slot></template><!--?lit$109918125$-->people</md-icon>
                <!--?lit$109918125$-->Share
              </md-text-button><colab-tooltip-trigger aria-hidden="true" for="share-toolbar-button" id="share-toolbar-button-tooltip"><template shadowrootmode="open"><!----><!--?lit$109918125$--><!----><div><!--?lit$109918125$-->Share notebook</div><!----><!--?--></template>
        </colab-tooltip-trigger>
          <!--?lit$109918125$--> <md-icon-button id="settings-cog" command="preferences" title="Open settings" data-aria-label="Open settings" value=""><template shadowrootmode="open" shadowrootdelegatesfocus><!----><button id="button" class="icon-button  standard " aria-label="Open settings">
        <!--?lit$109918125$--><md-focus-ring part="focus-ring" for="button" aria-hidden="true"><template shadowrootmode="open"><!----></template></md-focus-ring>
        <!--?lit$109918125$--><md-ripple aria-hidden="true"><template shadowrootmode="open"><!----><div class="surface   "></div></template></md-ripple>
        <!--?lit$109918125$--><span class="icon"><slot></slot></span>
        <!--?lit$109918125$-->
        <!--?lit$109918125$--><span class="touch"></span>
        <!--?lit$109918125$-->
  </button></template>
                <md-icon aria-hidden="true"><template shadowrootmode="open"><!----><slot></slot></template>settings</md-icon>
              </md-icon-button>
          <div class="header-onegoogle-container"><div class="onegoogle"><div class="gb_ga gb_cd gb_8a gb_Rc" id="gb"><div class="gb_td gb_6a gb_hd" ng-non-bindable="" data-ogsr-up="" style="padding:0;height:auto;display:block"><div class="gb_Ld" style="display:block"><div class="gb_Xc"></div><div class="gb_b gb_Fd gb_Pf gb_z"><div class="gb_f gb_5a gb_Pf gb_z"><a class="gb_d gb_ya gb_z" aria-label="Google Account: Venkatesh Moturi  
(venkateshmoturi79@gmail.com)" href="https://accounts.google.com/SignOutOptions?hl=en-GB&amp;continue=https://colab.research.google.com/drive/1-pKQw5cZm2EYAO9OZk2AuQjfpX_UFeEW&amp;ec=GBRAqQM" tabindex="0" role="button"><img class="gb_p gbii" src="./LLM_zoomcamp_RAG_files/unnamed.jpg" srcset="https://lh3.googleusercontent.com/ogw/AF2bZyiBLji2WTMIV-z_PgBMYyqRnhT3H-LPkjPSt4aw1T4fdCE=s32-c-mo 1x, https://lh3.googleusercontent.com/ogw/AF2bZyiBLji2WTMIV-z_PgBMYyqRnhT3H-LPkjPSt4aw1T4fdCE=s64-c-mo 2x " alt="" aria-hidden="true" data-noaft=""></a></div></div></div><div style="overflow: hidden; position: absolute; top: 0px; visibility: hidden; width: 436px; z-index: 991; height: 0px; margin-top: 57px; right: 0px; margin-right: 4px;"></div><div style="overflow: hidden; position: absolute; top: 0px; visibility: hidden; width: 420px; z-index: 991; height: 280px; margin-top: 70px; right: 0px; margin-right: 25px;"></div></div></div><script nonce="">this.gbar_=this.gbar_||{};(function(_){var window=this;
try{
_.ud=function(a,b,c){if(!a.j)if(c instanceof Array)for(var d of c)_.ud(a,b,d);else{d=(0,_.z)(a.C,a,b);const e=a.v+c;a.v++;b.dataset.eqid=e;a.B[e]=d;b&&b.addEventListener?b.addEventListener(c,d,!1):b&&b.attachEvent?b.attachEvent("on"+c,d):a.o.log(Error("z`"+b))}};
}catch(e){_._DumpException(e)}
try{
_.vd=function(){if(!_.t.addEventListener||!Object.defineProperty)return!1;var a=!1,b=Object.defineProperty({},"passive",{get:function(){a=!0}});try{const c=()=>{};_.t.addEventListener("test",c,b);_.t.removeEventListener("test",c,b)}catch(c){}return a}();
}catch(e){_._DumpException(e)}
try{
var wd=document.querySelector(".gb_k .gb_d"),xd=document.querySelector("#gb.gb_Oc");wd&&!xd&&_.ud(_.ed,wd,"click");
}catch(e){_._DumpException(e)}
try{
_.uh=function(a){const b=[];let c=0;for(const d in a)b[c++]=a[d];return b};_.vh=function(a){if(a.v)return a.v;for(const b in a.i)if(a.i[b].qa()&&a.i[b].B())return a.i[b];return null};_.wh=function(a,b){a.i[b.K()]=b};var xh=new class extends _.R{constructor(){var a=_.Oc;super();this.B=a;this.v=null;this.o={};this.C={};this.i={};this.j=null}A(a){this.i[a]&&(_.vh(this)&&_.vh(this).K()==a||this.i[a].P(!0))}Wa(a){this.j=a;for(const b in this.i)this.i[b].qa()&&this.i[b].Wa(a)}nc(a){return a in this.i?this.i[a]:null}};_.hd("dd",xh);
}catch(e){_._DumpException(e)}
try{
_.Pi=function(a,b){return _.M(a,36,b)};
}catch(e){_._DumpException(e)}
try{
var Qi=document.querySelector(".gb_b .gb_d"),Ri=document.querySelector("#gb.gb_Oc");Qi&&!Ri&&_.ud(_.ed,Qi,"click");
}catch(e){_._DumpException(e)}
})(this.gbar_);
// Google Inc.
</script></div></div>
        </div>
      </div>
    </div>
  </div></div><div class="notebook-horizontal">
        <!--?lit$109918125$--><colab-left-pane role="complementary" aria-label="left pane" class="colab-left-pane-open has-user-secrets"><!----><div class="colab-left-pane-nib layout vertical" role="toolbar" aria-orientation="vertical">
        <div class="left-pane-top"><!----><div class="left-pane-button">
        <!--?lit$109918125$--><md-icon-button toggle="" command="show-toc-pane" data-aria-label="Table of contents" title="Table of contents" value="" tabindex="-1"><template shadowrootmode="open" shadowrootdelegatesfocus><!----><button id="button" class="icon-button  standard " aria-label="Table of contents" aria-pressed="false">
        <!--?lit$109918125$--><md-focus-ring part="focus-ring" for="button" aria-hidden="true"><template shadowrootmode="open"><!----></template></md-focus-ring>
        <!--?lit$109918125$--><md-ripple aria-hidden="true"><template shadowrootmode="open"><!----><div class="surface   "></div></template></md-ripple>
        <!--?lit$109918125$--><span class="icon"><slot></slot></span>
        <!--?lit$109918125$-->
        <!--?lit$109918125$--><span class="touch"></span>
        <!--?lit$109918125$-->
  </button></template>
      <md-icon aria-hidden="true"><template shadowrootmode="open"><!----><slot></slot></template><!--?lit$109918125$-->format_list_bulleted</md-icon>
    </md-icon-button> <!--?lit$109918125$-->
      </div><!----><div class="left-pane-button">
        <!--?lit$109918125$--><md-icon-button toggle="" command="find" data-aria-label="Find and replace" title="Find and replace" value="" tabindex="-1"><template shadowrootmode="open" shadowrootdelegatesfocus><!----><button id="button" class="icon-button  standard " aria-label="Find and replace" aria-pressed="false">
        <!--?lit$109918125$--><md-focus-ring part="focus-ring" for="button" aria-hidden="true"><template shadowrootmode="open"><!----></template></md-focus-ring>
        <!--?lit$109918125$--><md-ripple aria-hidden="true"><template shadowrootmode="open"><!----><div class="surface   "></div></template></md-ripple>
        <!--?lit$109918125$--><span class="icon"><slot></slot></span>
        <!--?lit$109918125$-->
        <!--?lit$109918125$--><span class="touch"></span>
        <!--?lit$109918125$-->
  </button></template>
      <md-icon aria-hidden="true"><template shadowrootmode="open"><!----><slot></slot></template><!--?lit$109918125$-->search</md-icon>
    </md-icon-button> <!--?lit$109918125$-->
      </div><!----><div class="left-pane-button">
        <!--?lit$109918125$--><md-icon-button toggle="" command="show-variables" data-aria-label="Variables" title="Variables" value="" tabindex="-1"><template shadowrootmode="open" shadowrootdelegatesfocus><!----><button id="button" class="icon-button  standard " aria-label="Variables" aria-pressed="false">
        <!--?lit$109918125$--><md-focus-ring part="focus-ring" for="button" aria-hidden="true"><template shadowrootmode="open"><!----></template></md-focus-ring>
        <!--?lit$109918125$--><md-ripple aria-hidden="true"><template shadowrootmode="open"><!----><div class="surface   "></div></template></md-ripple>
        <!--?lit$109918125$--><span class="icon"><slot></slot></span>
        <!--?lit$109918125$-->
        <!--?lit$109918125$--><span class="touch"></span>
        <!--?lit$109918125$-->
  </button></template>
      <md-icon aria-hidden="true"><template shadowrootmode="open"><!----><slot></slot></template><!--?lit$109918125$--><svg viewBox="0 0 24 24"><!--?lit$109918125$-->
      <path d="M4.51,9.44V6.08c0-1.34.37-1.85,1.6-2.17l.22-.06V3.13l-.27,0-.44,0a4.46,4.46,0,0,0-2.2.59,2.78,2.78,0,0,0-1,2.51V9.74c0,1.26-.26,1.61-1.49,2L0,12l.94.29c1.21.38,1.49.75,1.49,2v3.5a2.94,2.94,0,0,0,1,2.6,4.39,4.39,0,0,0,2.14.56l.46,0,.27,0v-.72l-.22-.06c-1.24-.32-1.6-.81-1.6-2.17V14.58c0-1.43-.3-2.13-1.25-2.57C4.2,11.57,4.51,10.87,4.51,9.44Z"></path>
      <path d="M23.06,11.71c-1.22-.36-1.49-.71-1.49-2l0-3.5a3,3,0,0,0-1-2.6,4.38,4.38,0,0,0-2.14-.56l-.46,0-.27,0v.72l.22.06c1.24.32,1.6.81,1.6,2.17V9.44c0,1.44.3,2.13,1.25,2.57-1,.44-1.25,1.14-1.25,2.57v3.36c0,1.34-.37,1.85-1.6,2.17l-.22.06v.72l.27,0,.44,0a4.47,4.47,0,0,0,2.2-.59,2.82,2.82,0,0,0,1-2.51V14.28c0-1.26.26-1.61,1.49-2L24,12Z"></path>
      <path d="M15.16,8.22a.88.88,0,0,1,.46.16,1.25,1.25,0,0,0,.69.2h0A1,1,0,0,0,17,8.23a1.06,1.06,0,0,0,.24-.8,1.1,1.1,0,0,0-1.15-1h0c-1,0-1.73.64-3,2.57l-.12-.51c-.28-1.36-.56-2-1.39-2h0A8,8,0,0,0,9,7.08l-.47.16.16.91L9.41,8a3.22,3.22,0,0,1,.73-.14c.34,0,.43,0,.71,1.2l.56,2.47L9.76,13.82a3.6,3.6,0,0,1-.8.88.9.9,0,0,1-.38-.13,1.83,1.83,0,0,0-.88-.28,1,1,0,0,0-1,1.06A1.15,1.15,0,0,0,8,16.53c.85,0,1.35-.35,2.24-1.55l1.49-2,.46,1.88c.23,1,.46,1.66,1.53,1.66s1.66-.75,2.81-2.53l.17-.26-.81-.48-.16.2-.25.34-.19.25c-.45.57-.62.73-.76.73s-.28-.4-.34-.63l-.67-2.83a4.2,4.2,0,0,1-.15-.79C13.84,9.78,14.74,8.22,15.16,8.22Z"></path></svg></md-icon>
    </md-icon-button> <!--?lit$109918125$-->
      </div><!----><div class="left-pane-button">
        <!--?lit$109918125$--><md-icon-button toggle="" command="open-user-secrets" data-aria-label="Secrets" title="Secrets" value="" selected=""><template shadowrootmode="open" shadowrootdelegatesfocus><!----><button id="button" class="icon-button standard selected" aria-label="Secrets" aria-pressed="true">
        <!--?lit$109918125$--><md-focus-ring part="focus-ring" for="button" aria-hidden="true"><template shadowrootmode="open"><!----></template></md-focus-ring>
        <!--?lit$109918125$--><md-ripple aria-hidden="true"><template shadowrootmode="open"><!----><div class="surface"></div></template></md-ripple>
        <!--?lit$109918125$-->
        <!--?lit$109918125$--><span class="icon icon--selected"><slot name="selected"><slot></slot></slot></span>
        <!--?lit$109918125$--><span class="touch"></span>
        <!--?lit$109918125$-->
  </button></template>
      <md-icon aria-hidden="true"><template shadowrootmode="open"><!----><slot></slot></template><!--?lit$109918125$-->vpn_key</md-icon>
    </md-icon-button> <!--?lit$109918125$-->
      </div><!----><div class="left-pane-button">
        <!--?lit$109918125$--><md-icon-button toggle="" command="show-files" data-aria-label="Files" title="Files" value="" tabindex="-1"><template shadowrootmode="open" shadowrootdelegatesfocus><!----><button id="button" class="icon-button standard" aria-label="Files" aria-pressed="false">
        <!--?lit$109918125$--><md-focus-ring part="focus-ring" for="button" aria-hidden="true"><template shadowrootmode="open"><!----></template></md-focus-ring>
        <!--?lit$109918125$--><md-ripple aria-hidden="true"><template shadowrootmode="open"><!----><div class="surface"></div></template></md-ripple>
        <!--?lit$109918125$--><span class="icon"><slot></slot></span>
        <!--?lit$109918125$-->
        <!--?lit$109918125$--><span class="touch"></span>
        <!--?lit$109918125$-->
  </button></template>
      <md-icon aria-hidden="true"><template shadowrootmode="open"><!----><slot></slot></template><!--?lit$109918125$-->folder</md-icon>
    </md-icon-button> <!--?lit$109918125$-->
      </div></div>
        <div class="left-pane-bottom"><!----><div class="left-pane-button">
        <!--?lit$109918125$--><md-icon-button command="snippets" data-aria-label="Code snippets" title="Code snippets" value="" tabindex="-1"><template shadowrootmode="open" shadowrootdelegatesfocus><!----><button id="button" class="icon-button  standard " aria-label="Code snippets">
        <!--?lit$109918125$--><md-focus-ring part="focus-ring" for="button" aria-hidden="true"><template shadowrootmode="open"><!----></template></md-focus-ring>
        <!--?lit$109918125$--><md-ripple aria-hidden="true"><template shadowrootmode="open"><!----><div class="surface   "></div></template></md-ripple>
        <!--?lit$109918125$--><span class="icon"><slot></slot></span>
        <!--?lit$109918125$-->
        <!--?lit$109918125$--><span class="touch"></span>
        <!--?lit$109918125$-->
  </button></template>
      <md-icon aria-hidden="true"><template shadowrootmode="open"><!----><slot></slot></template><!--?lit$109918125$-->code</md-icon>
    </md-icon-button> <!--?lit$109918125$-->
      </div><!----><div class="left-pane-button">
        <!--?lit$109918125$--><md-icon-button command="show-command-palette" data-aria-label="Command palette" title="Command palette" value="" tabindex="-1"><template shadowrootmode="open" shadowrootdelegatesfocus><!----><button id="button" class="icon-button  standard " aria-label="Command palette">
        <!--?lit$109918125$--><md-focus-ring part="focus-ring" for="button" aria-hidden="true"><template shadowrootmode="open"><!----></template></md-focus-ring>
        <!--?lit$109918125$--><md-ripple aria-hidden="true"><template shadowrootmode="open"><!----><div class="surface   "></div></template></md-ripple>
        <!--?lit$109918125$--><span class="icon"><slot></slot></span>
        <!--?lit$109918125$-->
        <!--?lit$109918125$--><span class="touch"></span>
        <!--?lit$109918125$-->
  </button></template>
      <md-icon aria-hidden="true"><template shadowrootmode="open"><!----><slot></slot></template><!--?lit$109918125$--><svg viewBox="0 0 24 24"><!--?lit$109918125$-->
      <path d="M21,3H3A2,2,0,0,0,1,5V17a2,2,0,0,0,2,2H21a2,2,0,0,0,2-2V5A2,2,0,0,0,21,3Zm0,2V17H3V5"></path>
      <rect x="5" y="12" width="11" height="2"></rect>
      <rect x="5" y="8" width="11" height="2"></rect>
      <rect x="17" y="8" width="2" height="2"></rect>
      <rect x="17" y="12" width="2" height="2"></rect></svg></md-icon>
    </md-icon-button> <!--?lit$109918125$-->
      </div><!----><div class="left-pane-button">
        <!--?lit$109918125$--><md-icon-button command="show-terminal" data-aria-label="Terminal" title="Terminal" value="" tabindex="-1"><template shadowrootmode="open" shadowrootdelegatesfocus><!----><button id="button" class="icon-button  standard " aria-label="Terminal">
        <!--?lit$109918125$--><md-focus-ring part="focus-ring" for="button" aria-hidden="true"><template shadowrootmode="open"><!----></template></md-focus-ring>
        <!--?lit$109918125$--><md-ripple aria-hidden="true"><template shadowrootmode="open"><!----><div class="surface   "></div></template></md-ripple>
        <!--?lit$109918125$--><span class="icon"><slot></slot></span>
        <!--?lit$109918125$-->
        <!--?lit$109918125$--><span class="touch"></span>
        <!--?lit$109918125$-->
  </button></template>
      <md-icon aria-hidden="true"><template shadowrootmode="open"><!----><slot></slot></template><!--?lit$109918125$-->terminal</md-icon>
    </md-icon-button> <!--?lit$109918125$-->
      </div></div>
      </div><colab-resizer class="ew-resize">
          <div class="resizer-contents">
            <div class="colab-left-pane-header layout horizontal noshrink">
              <h3 class="left-pane-content-title">Secrets</h3>
              <!--?lit$109918125$--><md-icon-button class="colab-left-pane-move" data-aria-label="Move left pane to a tab" value=""><template shadowrootmode="open" shadowrootdelegatesfocus><!----><button id="button" class="icon-button  standard " aria-label="Move left pane to a tab">
        <!--?lit$109918125$--><md-focus-ring part="focus-ring" for="button" aria-hidden="true"><template shadowrootmode="open"><!----></template></md-focus-ring>
        <!--?lit$109918125$--><md-ripple aria-hidden="true"><template shadowrootmode="open"><!----><div class="surface   "></div></template></md-ripple>
        <!--?lit$109918125$--><span class="icon"><slot></slot></span>
        <!--?lit$109918125$-->
        <!--?lit$109918125$--><span class="touch"></span>
        <!--?lit$109918125$-->
  </button></template>
      <md-icon aria-hidden="true"><template shadowrootmode="open"><!----><slot></slot></template>tab</md-icon>
    </md-icon-button> <!--?lit$109918125$--><md-icon-button class="colab-left-pane-close" data-aria-label="Close left pane" value=""><template shadowrootmode="open" shadowrootdelegatesfocus><!----><button id="button" class="icon-button  standard " aria-label="Close left pane">
        <!--?lit$109918125$--><md-focus-ring part="focus-ring" for="button" aria-hidden="true"><template shadowrootmode="open"><!----></template></md-focus-ring>
        <!--?lit$109918125$--><md-ripple aria-hidden="true"><template shadowrootmode="open"><!----><div class="surface   "></div></template></md-ripple>
        <!--?lit$109918125$--><span class="icon"><slot></slot></span>
        <!--?lit$109918125$-->
        <!--?lit$109918125$--><span class="touch"></span>
        <!--?lit$109918125$-->
  </button></template>
      <md-icon aria-hidden="true"><template shadowrootmode="open"><!----><slot></slot></template>close</md-icon>
    </md-icon-button>
            </div>
            <div class="left-pane-container"><colab-user-secrets class="layout vertical"><template shadowrootmode="open"><!----><colab-shaded-scroller><p id="usage" tabindex="-1"><!--?lit$109918125$-->Configure your code by storing environment variables, file paths or keys. Values stored here are private, visible only to you and the notebooks that you select.</p>
      <p><!--?lit$109918125$-->Secret name cannot contain spaces.</p>
      <!--?lit$109918125$--><table aria-label="Secrets">
      <tbody><tr class="heading">
        <th><!--?lit$109918125$-->Notebook access</th>
        <th><!--?lit$109918125$-->Name</th>
        <th><!--?lit$109918125$-->Value</th>
        <th><!--?lit$109918125$-->Actions</th>
      </tr>
      <!--?lit$109918125$--><!----><tr class="secret-row" id="row-SOURCES__REST_API__NOTION__API_KEY">
          <td class="toggle">
            <md-switch icons="" data-aria-label="Toggle notebook access for secret &quot;SOURCES__REST_API__NOTION__API_KEY&quot;" title="Toggle notebook access for secret &quot;SOURCES__REST_API__NOTION__API_KEY&quot;" selected=""><template shadowrootmode="open" shadowrootdelegatesfocus><!---->
      <div class="switch selected">
        <input id="switch" class="touch" type="checkbox" role="switch" aria-label="Toggle notebook access for secret &quot;SOURCES__REST_API__NOTION__API_KEY&quot;" checked="">

        <md-focus-ring part="focus-ring" for="switch" aria-hidden="true"><template shadowrootmode="open"><!----></template></md-focus-ring>
        <span class="track"> <!--?lit$109918125$-->
      <!--?lit$109918125$--><span class="touch"></span>
      <span class="handle-container">
        <md-ripple for="switch" aria-hidden="true"><template shadowrootmode="open"><!----><div class="surface   "></div></template></md-ripple>
        <span class="handle  with-icon ">
          <!--?lit$109918125$-->
      <div class="icons">
        <!--?lit$109918125$-->
      <slot class="icon icon--on" name="on-icon">
        <svg viewBox="0 0 24 24">
          <path d="M9.55 18.2 3.65 12.3 5.275 10.675 9.55 14.95 18.725 5.775 20.35 7.4Z"></path>
        </svg>
      </slot>
    
        <!--?lit$109918125$-->
      <slot class="icon icon--off" name="off-icon">
        <svg viewBox="0 0 24 24">
          <path d="M6.4 19.2 4.8 17.6 10.4 12 4.8 6.4 6.4 4.8 12 10.4 17.6 4.8 19.2 6.4 13.6 12 19.2 17.6 17.6 19.2 12 13.6Z"></path>
        </svg>
      </slot>
    
      </div>
    
        </span>
      </span>
     </span>
      </div>
    </template>
            </md-switch>
          </td>
          <td class="secret-name">
            <input readonly="" type="text" value="SOURCES__REST_API__NOTION__API_KEY" placeholder="Name">
          </td>
          <td>
            <!--?lit$109918125$--><input class="secret-value-hidden" readonly="" type="password" aria-label="Value of secret &#39;SOURCES__REST_API__NOTION__API_KEY&#39;" placeholder="Value" id="key-SOURCES__REST_API__NOTION__API_KEY" value="secret_q4QgENGc9JKXgGContzdV6Z6KMTwzLYXWX9VMFi1dlb">
          </td>
          <td class="no-select">
            <mwc-icon-button class="secret-visibility-toggle" title="Show secret &quot;SOURCES__REST_API__NOTION__API_KEY&quot; value" icon="visibility"><template shadowrootmode="open"><!----><button class="mdc-icon-button mdc-icon-button--display-flex" aria-label="Show secret &quot;SOURCES__REST_API__NOTION__API_KEY&quot; value"><!--?lit$109918125$-->
            <mwc-ripple unbounded=""><template shadowrootmode="open"><!---->
        <div class="mdc-ripple-surface mdc-ripple-upgraded mdc-ripple-upgraded--unbounded" style="--mdc-ripple-fg-scale: 1.6666666666666667; --mdc-ripple-fg-size: 24px; --mdc-ripple-left: 8px; --mdc-ripple-top: 8px;"></div></template>
            </mwc-ripple>
    <!--?lit$109918125$--><i class="material-icons"><!--?lit$109918125$-->visibility</i>
    <span><slot></slot></span>
  </button></template>
            </mwc-icon-button>
            <mwc-icon-button icon="content_copy" class="copy-secret-value" title="Copy value for secret &quot;SOURCES__REST_API__NOTION__API_KEY&quot;"><template shadowrootmode="open"><!----><button class="mdc-icon-button mdc-icon-button--display-flex" aria-label="Copy value for secret &quot;SOURCES__REST_API__NOTION__API_KEY&quot;"><!--?lit$109918125$-->
    <!--?lit$109918125$--><i class="material-icons"><!--?lit$109918125$-->content_copy</i>
    <span><slot></slot></span>
  </button></template>
            </mwc-icon-button>
            <mwc-icon-button icon="delete" class="delete" title="Delete secret &quot;SOURCES__REST_API__NOTION__API_KEY&quot;"><template shadowrootmode="open"><!----><button class="mdc-icon-button mdc-icon-button--display-flex" aria-label="Delete secret &quot;SOURCES__REST_API__NOTION__API_KEY&quot;"><!--?lit$109918125$-->
            <mwc-ripple unbounded=""><template shadowrootmode="open"><!---->
        <div class="mdc-ripple-surface mdc-ripple-upgraded mdc-ripple-upgraded--unbounded" style="--mdc-ripple-fg-scale: 1.6666666666666667; --mdc-ripple-fg-size: 24px; --mdc-ripple-left: 8px; --mdc-ripple-top: 8px;"></div></template>
            </mwc-ripple>
    <!--?lit$109918125$--><i class="material-icons"><!--?lit$109918125$-->delete</i>
    <span><slot></slot></span>
  </button></template>
            </mwc-icon-button>
          </td>
        </tr><!---->
    </tbody></table>
      <div class="new-secret">
        <mwc-button><template shadowrootmode="open"><!---->
      <button id="button" class="mdc-button   " aria-label="">
        <!--?lit$109918125$--><!--?-->
        <!--?lit$109918125$--><mwc-ripple class="ripple"><template shadowrootmode="open"><!---->
        <div class="mdc-ripple-surface mdc-ripple-upgraded mdc-ripple-surface--primary" style="--mdc-ripple-fg-scale: 1.8484317142081432; --mdc-ripple-fg-size: 83px; --mdc-ripple-fg-translate-end: 27.9140625px, -23.5px; --mdc-ripple-fg-translate-start: 52.5px, -22.125px;"></div></template></mwc-ripple>
        <span class="leading-icon">
          <slot name="icon">
            <!--?lit$109918125$-->
          </slot>
        </span>
        <span class="mdc-button__label"><!--?lit$109918125$--></span>
        <span class="slot-container   ">
          <slot></slot>
        </span>
        <span class="trailing-icon">
          <slot name="trailingIcon">
            <!--?lit$109918125$-->
          </slot>
        </span>
      </button></template>
          <md-icon slot="icon" aria-hidden="true"><template shadowrootmode="open"><!----><slot></slot></template>add</md-icon>
          <!--?lit$109918125$-->Add new secret
        </mwc-button>
        <!--?lit$109918125$-->
      </div>
      <p><!--?lit$109918125$-->Access your secret keys in Python via:</p>
      <span><!--?lit$109918125$--><colab-code-toolbar><template shadowrootmode="open"><!----><div class="contents">
      <mwc-icon-button title="Copy"><template shadowrootmode="open"><!----><button class="mdc-icon-button mdc-icon-button--display-flex" aria-label="Copy"><!--?lit$109918125$-->
    <!--?lit$109918125$-->
    <span><slot></slot></span>
  </button></template><md-icon aria-hidden="true"><template shadowrootmode="open"><!----><slot></slot></template>content_copy</md-icon></mwc-icon-button>
      <mwc-icon-button class="insert" title="Add code cell"><template shadowrootmode="open"><!----><button class="mdc-icon-button mdc-icon-button--display-flex" aria-label="Add code cell"><!--?lit$109918125$-->
    <!--?lit$109918125$-->
    <span><slot></slot></span>
  </button></template><!--?lit$109918125$--><svg viewBox="0 0 24 24"><!--?lit$109918125$-->
      <g id="mirror-cell">
        <path d="M4,21V7H2V21a2,2,0,0,0,2,2H18V21Z"></path>
        <path d="M6,13v2H8.6L5,18.6,6.4,20,10,16.4V19h2V13Z"></path>
        <path d="M19,1H8A2,2,0,0,0,6,3v8H8V3H19V17H14v2h5a2,2,0,0,0,2-2V3A2,2,0,0,0,19,1Z"></path>
      </g></svg></mwc-icon-button>
    </div></template></colab-code-toolbar>
        <pre><slot></slot></pre></span></colab-shaded-scroller></template><span class="source-lines" style="font-size: 14px;"><span class="preview"><span class="mtk18">from</span><span class="mtk1">&nbsp;google.colab&nbsp;</span><span class="mtk18">import</span><span class="mtk1">&nbsp;userdata</span></span><br class="preview"><span class="preview"><span class="mtk1">userdata.get</span><span class="mtk12">(</span><span class="mtk5">'secretName'</span><span class="mtk12">)</span></span><br class="preview"></span></colab-user-secrets></div>
          </div>
        <div class="resizer-thumb"></div></colab-resizer></colab-left-pane>
        <div class="layout vertical grow">
          <colab-notebook-toolbar id="top-toolbar" class="horizontal layout center noshrink"><!----> <!--?lit$109918125$-->
          <colab-toolbar-button command="insert-cell-below" icon="add" id="toolbar-add-code"><template shadowrootmode="open"><!----><md-text-button id="button" data-aria-disabled="false" value="" has-icon=""><template shadowrootmode="open" shadowrootdelegatesfocus><!---->
      <!--?lit$109918125$-->
      <div class="background"></div>
      <md-focus-ring part="focus-ring" for="button" aria-hidden="true"><template shadowrootmode="open"><!----></template></md-focus-ring>
      <md-ripple part="ripple" for="button" aria-hidden="true"><template shadowrootmode="open"><!----><div class="surface"></div></template></md-ripple>
      <!--?lit$109918125$--><button id="button" class="button">
      <!--?lit$109918125$-->
      <span class="touch"></span>
      <!--?lit$109918125$--><slot name="icon"></slot>
      <span class="label"><slot></slot></span>
      <!--?lit$109918125$-->
    
    </button>
    </template>
        <!--?lit$109918125$--><md-icon slot="icon" aria-hidden="true"><template shadowrootmode="open"><!----><slot></slot></template><!--?lit$109918125$-->add</md-icon>
        <span class="button-content"><slot></slot></span>
        <!--?lit$109918125$--><span class="screenreader-only"><!--?lit$109918125$-->Insert code cell below <!--?lit$109918125$-->Ctrl+M B</span>
      </md-text-button>
      <!--?lit$109918125$--> <colab-tooltip-trigger for="button" aria-hidden="true" id="tooltip" message="Insert code cell below" shortcut="Ctrl+M B"><template shadowrootmode="open"><!----><!--?lit$109918125$--><!----><div><!--?lit$109918125$-->Insert code cell below</div><!----><!--?--></template>
          </colab-tooltip-trigger><!--?--></template>
            <!--?lit$109918125$-->Code
          </colab-toolbar-button>
          <colab-toolbar-button command="add-text" icon="add" id="toolbar-add-text"><template shadowrootmode="open"><!----><md-text-button id="button" data-aria-disabled="false" value="" has-icon=""><template shadowrootmode="open" shadowrootdelegatesfocus><!---->
      <!--?lit$109918125$-->
      <div class="background"></div>
      <md-focus-ring part="focus-ring" for="button" aria-hidden="true"><template shadowrootmode="open"><!----></template></md-focus-ring>
      <md-ripple part="ripple" for="button" aria-hidden="true"><template shadowrootmode="open"><!----><div class="surface"></div></template></md-ripple>
      <!--?lit$109918125$--><button id="button" class="button">
      <!--?lit$109918125$-->
      <span class="touch"></span>
      <!--?lit$109918125$--><slot name="icon"></slot>
      <span class="label"><slot></slot></span>
      <!--?lit$109918125$-->
    
    </button>
    </template>
        <!--?lit$109918125$--><md-icon slot="icon" aria-hidden="true"><template shadowrootmode="open"><!----><slot></slot></template><!--?lit$109918125$-->add</md-icon>
        <span class="button-content"><slot></slot></span>
        <!--?lit$109918125$--><span class="screenreader-only"><!--?lit$109918125$-->Add text cell <!--?lit$109918125$--></span>
      </md-text-button>
      <!--?lit$109918125$--> <colab-tooltip-trigger for="button" aria-hidden="true" id="tooltip" message="Add text cell" shortcut=""><template shadowrootmode="open"><!----><!--?lit$109918125$--><!----><div><!--?lit$109918125$-->Add text cell</div><!----><!--?--></template>
          </colab-tooltip-trigger><!--?--></template>
            <!--?lit$109918125$-->Text
          </colab-toolbar-button>
          <!--?lit$109918125$-->
        
    <!--?lit$109918125$-->
    <!--?lit$109918125$-->
    <!--?lit$109918125$-->
    <!--?lit$109918125$-->
    <!--?lit$109918125$--> <span class="collapsed-options">
          <colab-last-saved-indicator aria-live="polite" aria-atomic="true" title=""><template shadowrootmode="open"><!----><!--?--></template></colab-last-saved-indicator>
        </span>

    <span class="flex"></span>
    <!--?lit$109918125$--><colab-connect-warning-button><template shadowrootmode="open"><!----><!--?lit$109918125$--><!--?--><!--?--></template></colab-connect-warning-button>
    <!--?lit$109918125$--><!--?lit$109918125$--><colab-connect-button><template shadowrootmode="open"><!----> <!--?lit$109918125$--><md-icon-button id="connect-icon" disabled="" class="icon-okay" data-aria-label="Focus the last run cell" value=""><template shadowrootmode="open" shadowrootdelegatesfocus><!----><button id="button" class="icon-button  standard " aria-label="Focus the last run cell" disabled="">
        <!--?lit$109918125$--><md-focus-ring part="focus-ring" for="button" aria-hidden="true"><template shadowrootmode="open"><!----></template></md-focus-ring>
        <!--?lit$109918125$--><md-ripple disabled="" aria-hidden="true"><template shadowrootmode="open"><!----><div class="surface   "></div></template></md-ripple>
        <!--?lit$109918125$--><span class="icon"><slot></slot></span>
        <!--?lit$109918125$-->
        <!--?lit$109918125$--><span class="touch"></span>
        <!--?lit$109918125$-->
  </button></template>
            <md-icon aria-hidden="true"><template shadowrootmode="open"><!----><slot></slot></template><!--?lit$109918125$-->more_horiz</md-icon>
          </md-icon-button>
          <colab-tooltip-trigger for="connect-icon" id="connect-icon-tooltip" aria-hidden="true" message="Focus the last run cell"><template shadowrootmode="open"><!----><!--?lit$109918125$--><!----><div><!--?lit$109918125$-->Focus the last run cell</div><!----><!--?--></template>
          </colab-tooltip-trigger>
      <colab-toolbar-button id="connect" tooltipid="colab-connect-tooltip" tooltiptext="" disabled=""><template shadowrootmode="open"><!----><md-text-button id="button" value="" data-aria-disabled="true"><template shadowrootmode="open" shadowrootdelegatesfocus><!---->
      <!--?lit$109918125$-->
      <div class="background"></div>
      <md-focus-ring part="focus-ring" for="button" aria-hidden="true"><template shadowrootmode="open"><!----></template></md-focus-ring>
      <md-ripple part="ripple" for="button" aria-hidden="true"><template shadowrootmode="open"><!----><div class="surface   "></div></template></md-ripple>
      <!--?lit$109918125$--><button id="button" class="button">
      <!--?lit$109918125$-->
      <span class="touch"></span>
      <!--?lit$109918125$--><slot name="icon"></slot>
      <span class="label"><slot></slot></span>
      <!--?lit$109918125$-->
    
    </button>
    </template>
        <!--?lit$109918125$-->
        <span class="button-content"><slot></slot></span>
        <!--?lit$109918125$--><span class="screenreader-only"><!--?lit$109918125$--> <!--?lit$109918125$--></span>
      </md-text-button>
      <!--?lit$109918125$--><!--?--></template>
        <!--?lit$109918125$-->Connecting
      </colab-toolbar-button>
      <!--?lit$109918125$--> <md-icon-button id="connect-dropdown" data-aria-label="Additional connection options" value=""><template shadowrootmode="open" shadowrootdelegatesfocus><!----><button id="button" class="icon-button  standard " aria-label="Additional connection options">
        <!--?lit$109918125$--><md-focus-ring part="focus-ring" for="button" aria-hidden="true"><template shadowrootmode="open"><!----></template></md-focus-ring>
        <!--?lit$109918125$--><md-ripple aria-hidden="true"><template shadowrootmode="open"><!----><div class="surface   "></div></template></md-ripple>
        <!--?lit$109918125$--><span class="icon"><slot></slot></span>
        <!--?lit$109918125$-->
        <!--?lit$109918125$--><span class="touch"></span>
        <!--?lit$109918125$-->
  </button></template>
        <md-icon aria-hidden="true"><template shadowrootmode="open"><!----><slot></slot></template>arrow_drop_down</md-icon>
      </md-icon-button>
      <colab-tooltip-trigger for="connect-dropdown" id="connect-dropdown-tooltip" aria-hidden="true" message="Additional connection options"><template shadowrootmode="open"><!----><!--?lit$109918125$--><!----><div><!--?lit$109918125$-->Additional connection options</div><!----><!--?--></template>
      </colab-tooltip-trigger><!--?--></template></colab-connect-button><!--?-->
    <!--?lit$109918125$-->
    <!--?lit$109918125$-->
    <span class="collapsed-options">
      <!--?lit$109918125$--><span class="colab-separator"></span>
      <!--?lit$109918125$--> <md-icon-button command="share" title="Share notebook" data-aria-label="Share notebook" value=""><template shadowrootmode="open" shadowrootdelegatesfocus><!----><button id="button" class="icon-button  standard " aria-label="Share notebook">
        <!--?lit$109918125$--><md-focus-ring part="focus-ring" for="button" aria-hidden="true"><template shadowrootmode="open"><!----></template></md-focus-ring>
        <!--?lit$109918125$--><md-ripple aria-hidden="true"><template shadowrootmode="open"><!----><div class="surface   "></div></template></md-ripple>
        <!--?lit$109918125$--><span class="icon"><slot></slot></span>
        <!--?lit$109918125$-->
        <!--?lit$109918125$--><span class="touch"></span>
        <!--?lit$109918125$-->
  </button></template>
            <md-icon filled="" aria-hidden="true"><template shadowrootmode="open"><!----><slot></slot></template><!--?lit$109918125$-->people</md-icon>
          </md-icon-button><md-icon-button command="preferences" data-aria-label="Open settings" title="Open settings" value=""><template shadowrootmode="open" shadowrootdelegatesfocus><!----><button id="button" class="icon-button  standard " aria-label="Open settings">
        <!--?lit$109918125$--><md-focus-ring part="focus-ring" for="button" aria-hidden="true"><template shadowrootmode="open"><!----></template></md-focus-ring>
        <!--?lit$109918125$--><md-ripple aria-hidden="true"><template shadowrootmode="open"><!----><div class="surface   "></div></template></md-ripple>
        <!--?lit$109918125$--><span class="icon"><slot></slot></span>
        <!--?lit$109918125$-->
        <!--?lit$109918125$--><span class="touch"></span>
        <!--?lit$109918125$-->
  </button></template>
        <md-icon filled="" aria-hidden="true"><template shadowrootmode="open"><!----><slot></slot></template>settings</md-icon>
      </md-icon-button>
    </span>
    <span class="colab-separator"></span>
    <!--?lit$109918125$--><md-icon-button toggle="" command="toggle-header" id="toggle-header-button" data-aria-label="Toggle header visibility" aria-describedby="toggle-header-button-tooltip" value=""><template shadowrootmode="open" shadowrootdelegatesfocus><!----><button id="button" class="icon-button  standard " aria-label="Toggle header visibility" aria-pressed="false">
        <!--?lit$109918125$--><md-focus-ring part="focus-ring" for="button" aria-hidden="true"><template shadowrootmode="open"><!----></template></md-focus-ring>
        <!--?lit$109918125$--><md-ripple aria-hidden="true"><template shadowrootmode="open"><!----><div class="surface   "></div></template></md-ripple>
        <!--?lit$109918125$--><span class="icon"><slot></slot></span>
        <!--?lit$109918125$-->
        <!--?lit$109918125$--><span class="touch"></span>
        <!--?lit$109918125$-->
  </button></template>
    <md-icon aria-hidden="true"><template shadowrootmode="open"><!----><slot></slot></template>expand_less</md-icon>
    <md-icon slot="selected" aria-hidden="true"><template shadowrootmode="open"><!----><slot></slot></template>expand_more</md-icon>
  </md-icon-button><colab-tooltip-trigger aria-hidden="true" for="toggle-header-button" id="toggle-header-button-tooltip"><template shadowrootmode="open"><!----><!--?lit$109918125$--><!----><div><!--?lit$109918125$-->Toggle header visibility</div><!----><!--?--></template>
        </colab-tooltip-trigger><!--?--></colab-notebook-toolbar><colab-tab-layout-container class="layout horizontal grow flexible-tabs"><!----> <div class="layout horizontal tab-pane-parent">
      <!--?lit$109918125$--> <div class="layout vertical tab-pane-parent">
      <!--?lit$109918125$--><colab-tab-pane class="layout vertical grow no-header focused" align="horizontal"><!----> <div class="layout vertical grow">
    <div class="tab-pane-header layout horizontal noshrink">
      <md-tabs><template shadowrootmode="open"><!---->
      <div class="tabs">
        <slot></slot>
      </div>
      <md-divider part="divider"><template shadowrootmode="open"><!----></template></md-divider>
    </template><md-primary-tab noink="" title="" aria-labelledby="tab-title-0eIOEIO-NzMS" class="selected-tab" md-tab="" active="" tabindex="0"><template shadowrootmode="open"><!----><div class="button" role="presentation">
      <md-focus-ring part="focus-ring" inward="" aria-hidden="true"><template shadowrootmode="open"><!----></template></md-focus-ring>
      <md-elevation part="elevation" aria-hidden="true"><template shadowrootmode="open"><!----><span class="shadow"></span></template></md-elevation>
      <md-ripple aria-hidden="true"><template shadowrootmode="open"><!----><div class="surface   "></div></template></md-ripple>
      <div role="presentation" class="content  has-label stacked ">
        <slot name="icon"></slot>
        <slot></slot>
        <!--?lit$109918125$--><div class="indicator"></div>
      </div>
      <!--?lit$109918125$-->
    </div></template>
          <div class="colab-tab-header">
            <span class="colab-tab-title" id="tab-title-0eIOEIO-NzMS"><!--?lit$109918125$--><!--?lit$109918125$-->Notebook<!--?--></span>
            <!--?lit$109918125$-->
          </div>
        </md-primary-tab></md-tabs>
      <div class="layout grow"></div>
      <!--?lit$109918125$--> <md-icon-button title="Show more" data-aria-label="Show more" value=""><template shadowrootmode="open" shadowrootdelegatesfocus><!----><button id="button" class="icon-button  standard " aria-label="Show more">
        <!--?lit$109918125$--><md-focus-ring part="focus-ring" for="button" aria-hidden="true"><template shadowrootmode="open"><!----></template></md-focus-ring>
        <!--?lit$109918125$--><md-ripple aria-hidden="true"><template shadowrootmode="open"><!----><div class="surface   "></div></template></md-ripple>
        <!--?lit$109918125$--><span class="icon"><slot></slot></span>
        <!--?lit$109918125$-->
        <!--?lit$109918125$--><span class="touch"></span>
        <!--?lit$109918125$-->
  </button></template>
    <md-icon aria-hidden="true"><template shadowrootmode="open"><!----><slot></slot></template>more_horiz</md-icon>
  </md-icon-button>
    </div>
    <div class="layout vertical grow tab-pane-container"> <colab-tab class="layout vertical grow notebook-tab-content selected-tab"><!----> <div class="overflow-flexbox-workaround">
      <colab-shaded-scroller ignore-dom-changes="" role="main" class="notebook-container" aria-label="Notebook" tabindex="-1">
        <div class="notebook-scrolling-horizontal-container">
          <div class="notebook-scrolling-horizontal">
            <div class="notebook-content-background">
              <!--?lit$109918125$-->
              <div class="notebook-content ">
                <!--?lit$109918125$--><div class="add-cell">
      <hr>
    </div>
                <div class="notebook-cell-list"><div class="cell text" id="cell-Y2-47Y87jwW_" role="region" aria-label="Cell 0: Text cell: Intro dlt -&gt; LanceDB loading example" style="" tabindex="-1"><div class="cell-tag-editor sticky"></div><div class="cell-toolbar sticky"></div><div class="main-content" elevation="0"><div class="cell-contents"><div class="cell-mask"></div><span class="imported-info-area"></span><!----> <div class="toolbar-root"></div>
      <div class="editor-container horizontal">
        <div class="editor-root"></div>
        <div class="text-top-div">
          <div class="markdown"><span><div class="text-cell-section-header layout horizontal center"><md-icon-button class="header-section-toggle" title="Collapse 15 child cells under Intro dlt -&gt; LanceDB loading example (Press &lt;Shift&gt; to also collapse sibling sections)" data-aria-label="Collapse 15 child cells under Intro dlt -&gt; LanceDB loading example (Press &lt;Shift&gt; to also collapse sibling sections)" value=""><template shadowrootmode="open" shadowrootdelegatesfocus><!----><button id="button" class="icon-button  standard " aria-label="Collapse 15 child cells under Intro dlt -&gt; LanceDB loading example (Press &lt;Shift&gt; to also collapse sibling sections)">
        <!--?lit$109918125$--><md-focus-ring part="focus-ring" for="button" aria-hidden="true"><template shadowrootmode="open"><!----></template></md-focus-ring>
        <!--?lit$109918125$--><md-ripple aria-hidden="true"><template shadowrootmode="open"><!----><div class="surface   "></div></template></md-ripple>
        <!--?lit$109918125$--><span class="icon"><slot></slot></span>
        <!--?lit$109918125$-->
        <!--?lit$109918125$--><span class="touch"></span>
        <!--?lit$109918125$-->
  </button></template><md-icon aria-hidden="true"><template shadowrootmode="open"><!----><slot></slot></template>keyboard_arrow_down</md-icon></md-icon-button><h1>Intro dlt -&gt; LanceDB loading example</h1></div>
</span></div>
        </div>
      </div>

      <div class="section-header" style="display: none;">
        <colab-run-button role="button" aria-label="Run cell"><template shadowrootmode="open"><!----> <div class="cell-execution">
      <div class="execution-count"><!--?lit$109918125$-->[ ]</div>
      <div class="cell-execution-indicator"> <!--?lit$109918125$-->
<svg xmlns="http://www.w3.org/2000/svg" viewBox="0 0 24 24">
  <!--?lit$109918125$-->
  <mask id="playSymbolMask">
    <rect width="100%" height="100%" fill="white"></rect>
    <polygon points="10,8 17,12 10,16" fill="black"></polygon>
  </mask>
  <circle cx="12" cy="12" r="7.8" mask="url(#playSymbolMask)" id="filledCircle"></circle>
</svg> </div>
      <!--?lit$109918125$--><!--?-->
    </div></template></colab-run-button>
        <div class="section-header-container" title="click to expand">↳ 15 cells hidden</div>
      </div></div></div><div class="add-cell">
      <hr>
    </div></div><div class="cell text" id="cell-hjkkr8_UH0K_" role="region" aria-label="Cell 1: Text cell: " style="" tabindex="-1"><div class="cell-tag-editor sticky"></div><div class="cell-toolbar sticky"></div><div class="main-content" elevation="0"><div class="cell-contents"><div class="cell-mask"></div><span class="imported-info-area"></span><!----> <div class="toolbar-root"></div>
      <div class="editor-container horizontal">
        <div class="editor-root"></div>
        <div class="text-top-div">
          <div class="markdown"><span><p><a href="https://www.google.com/url?q=https%3A%2F%2Flu.ma%2Fcnpdoc5n" target="_blank" rel="nofollow" aria-label="https://lu.ma/cnpdoc5n Link will open in a new tab">https://lu.ma/cnpdoc5n</a></p>
<p>If you want to play around with this notebook and make edits in future, we highly recommend making a copy since the link is view only! Also make sure you're signed in with your Google account to be able to add secrets.</p>
<p>Before going into a more complex example, we will go through a simple example of how to load the course Q&amp;A data into LanceDB.</p>
</span></div>
        </div>
      </div>

      <div class="section-header" style="display: none;">
        <colab-run-button role="button" aria-label="Run cell"><template shadowrootmode="open"><!----> <div class="cell-execution">
      <div class="execution-count"><!--?lit$109918125$-->[ ]</div>
      <div class="cell-execution-indicator"> <!--?lit$109918125$-->
<svg xmlns="http://www.w3.org/2000/svg" viewBox="0 0 24 24">
  <!--?lit$109918125$-->
  <mask id="playSymbolMask">
    <rect width="100%" height="100%" fill="white"></rect>
    <polygon points="10,8 17,12 10,16" fill="black"></polygon>
  </mask>
  <circle cx="12" cy="12" r="7.8" mask="url(#playSymbolMask)" id="filledCircle"></circle>
</svg> </div>
      <!--?lit$109918125$--><!--?-->
    </div></template></colab-run-button>
        <div class="section-header-container" title="click to expand">↳ 0 cells hidden</div>
      </div></div></div><div class="add-cell">
      <div class="add-cell-buttons">
        <md-outlined-button class="add-code add-button" data-aria-label="Add code cell
Ctrl+M B" title="Add code cell
Ctrl+M B" value="" has-icon=""><template shadowrootmode="open" shadowrootdelegatesfocus><!---->
      <!--?lit$109918125$--><div class="outline"></div>
      <div class="background"></div>
      <md-focus-ring part="focus-ring" for="button" aria-hidden="true"><template shadowrootmode="open"><!----></template></md-focus-ring>
      <md-ripple part="ripple" for="button" aria-hidden="true"><template shadowrootmode="open"><!----><div class="surface   "></div></template></md-ripple>
      <!--?lit$109918125$--><button id="button" class="button" aria-label="Add code cell
Ctrl+M B">
      <!--?lit$109918125$-->
      <span class="touch"></span>
      <!--?lit$109918125$--><slot name="icon"></slot>
      <span class="label"><slot></slot></span>
      <!--?lit$109918125$-->
    
    </button>
    </template>
          <md-icon slot="icon" aria-hidden="true"><template shadowrootmode="open"><!----><slot></slot></template>add</md-icon>
          <!--?lit$109918125$-->Code
        </md-outlined-button>
        <md-outlined-button class="add-text add-button" data-aria-label="Add text cell" title="Add text cell" value="" has-icon=""><template shadowrootmode="open" shadowrootdelegatesfocus><!---->
      <!--?lit$109918125$--><div class="outline"></div>
      <div class="background"></div>
      <md-focus-ring part="focus-ring" for="button" aria-hidden="true"><template shadowrootmode="open"><!----></template></md-focus-ring>
      <md-ripple part="ripple" for="button" aria-hidden="true"><template shadowrootmode="open"><!----><div class="surface   "></div></template></md-ripple>
      <!--?lit$109918125$--><button id="button" class="button" aria-label="Add text cell">
      <!--?lit$109918125$-->
      <span class="touch"></span>
      <!--?lit$109918125$--><slot name="icon"></slot>
      <span class="label"><slot></slot></span>
      <!--?lit$109918125$-->
    
    </button>
    </template>
          <md-icon slot="icon" aria-hidden="true"><template shadowrootmode="open"><!----><slot></slot></template>add</md-icon>
          <!--?lit$109918125$-->Text
        </md-outlined-button>
        <!--?lit$109918125$-->
      </div><hr>
    </div></div><div class="cell text" id="cell-K3VvFlhSbRYx" role="region" aria-label="Cell 2: Text cell: Install requirements" style="" tabindex="-1"><div class="cell-tag-editor sticky"></div><div class="cell-toolbar sticky"></div><div class="main-content" elevation="0"><div class="cell-contents"><div class="cell-mask"></div><span class="imported-info-area"></span><!----> <div class="toolbar-root"></div>
      <div class="editor-container horizontal">
        <div class="editor-root"></div>
        <div class="text-top-div">
          <div class="markdown"><span><div class="text-cell-section-header layout horizontal center"><md-icon-button class="header-section-toggle" title="Collapse 2 child cells under Install requirements (Press &lt;Shift&gt; to also collapse sibling sections)" data-aria-label="Collapse 2 child cells under Install requirements (Press &lt;Shift&gt; to also collapse sibling sections)" value=""><template shadowrootmode="open" shadowrootdelegatesfocus><!----><button id="button" class="icon-button  standard " aria-label="Collapse 2 child cells under Install requirements (Press &lt;Shift&gt; to also collapse sibling sections)">
        <!--?lit$109918125$--><md-focus-ring part="focus-ring" for="button" aria-hidden="true"><template shadowrootmode="open"><!----></template></md-focus-ring>
        <!--?lit$109918125$--><md-ripple aria-hidden="true"><template shadowrootmode="open"><!----><div class="surface   "></div></template></md-ripple>
        <!--?lit$109918125$--><span class="icon"><slot></slot></span>
        <!--?lit$109918125$-->
        <!--?lit$109918125$--><span class="touch"></span>
        <!--?lit$109918125$-->
  </button></template><md-icon aria-hidden="true"><template shadowrootmode="open"><!----><slot></slot></template>keyboard_arrow_down</md-icon></md-icon-button><h2>Install requirements</h2></div>
</span></div>
        </div>
      </div>

      <div class="section-header" style="display: none;">
        <colab-run-button role="button" aria-label="Run cell"><template shadowrootmode="open"><!----> <div class="cell-execution">
      <div class="execution-count"><!--?lit$109918125$-->[ ]</div>
      <div class="cell-execution-indicator"> <!--?lit$109918125$-->
<svg xmlns="http://www.w3.org/2000/svg" viewBox="0 0 24 24">
  <!--?lit$109918125$-->
  <mask id="playSymbolMask">
    <rect width="100%" height="100%" fill="white"></rect>
    <polygon points="10,8 17,12 10,16" fill="black"></polygon>
  </mask>
  <circle cx="12" cy="12" r="7.8" mask="url(#playSymbolMask)" id="filledCircle"></circle>
</svg> </div>
      <!--?lit$109918125$--><!--?-->
    </div></template></colab-run-button>
        <div class="section-header-container" title="click to expand">↳ 2 cells hidden</div>
      </div></div></div><div class="add-cell">
      <hr>
    </div></div><div class="cell text" id="cell-OSlHmqELbQHI" role="region" aria-label="Cell 3: Text cell: " style="" tabindex="-1"><div class="cell-tag-editor sticky"></div><div class="cell-toolbar sticky"></div><div class="main-content" elevation="0"><div class="cell-contents"><div class="cell-mask"></div><span class="imported-info-area"></span><!----> <div class="toolbar-root"></div>
      <div class="editor-container horizontal">
        <div class="editor-root"></div>
        <div class="text-top-div">
          <div class="markdown"><span><p>To create a json -&gt; lancedb pipeline, we need to install:</p>
<ol>
<li>dlt with lancedb extras</li>
<li>sentence-transformers: we need to use an embedding model to vectorize and store data inside LanceDB. For this we choose the open-source model "sentence-transformers/all-MiniLM-L6-v2".</li>
</ol>
</span></div>
        </div>
      </div>

      <div class="section-header" style="display: none;">
        <colab-run-button role="button" aria-label="Run cell"><template shadowrootmode="open"><!----> <div class="cell-execution">
      <div class="execution-count"><!--?lit$109918125$-->[ ]</div>
      <div class="cell-execution-indicator"> <!--?lit$109918125$-->
<svg xmlns="http://www.w3.org/2000/svg" viewBox="0 0 24 24">
  <!--?lit$109918125$-->
  <mask id="playSymbolMask">
    <rect width="100%" height="100%" fill="white"></rect>
    <polygon points="10,8 17,12 10,16" fill="black"></polygon>
  </mask>
  <circle cx="12" cy="12" r="7.8" mask="url(#playSymbolMask)" id="filledCircle"></circle>
</svg> </div>
      <!--?lit$109918125$--><!--?-->
    </div></template></colab-run-button>
        <div class="section-header-container" title="click to expand">↳ 0 cells hidden</div>
      </div></div></div><div class="add-cell">
      <div class="add-cell-buttons">
        <md-outlined-button class="add-code add-button" data-aria-label="Add code cell
Ctrl+M B" title="Add code cell
Ctrl+M B" value="" has-icon=""><template shadowrootmode="open" shadowrootdelegatesfocus><!---->
      <!--?lit$109918125$--><div class="outline"></div>
      <div class="background"></div>
      <md-focus-ring part="focus-ring" for="button" aria-hidden="true"><template shadowrootmode="open"><!----></template></md-focus-ring>
      <md-ripple part="ripple" for="button" aria-hidden="true"><template shadowrootmode="open"><!----><div class="surface   "></div></template></md-ripple>
      <!--?lit$109918125$--><button id="button" class="button" aria-label="Add code cell
Ctrl+M B">
      <!--?lit$109918125$-->
      <span class="touch"></span>
      <!--?lit$109918125$--><slot name="icon"></slot>
      <span class="label"><slot></slot></span>
      <!--?lit$109918125$-->
    
    </button>
    </template>
          <md-icon slot="icon" aria-hidden="true"><template shadowrootmode="open"><!----><slot></slot></template>add</md-icon>
          <!--?lit$109918125$-->Code
        </md-outlined-button>
        <md-outlined-button class="add-text add-button" data-aria-label="Add text cell" title="Add text cell" value="" has-icon=""><template shadowrootmode="open" shadowrootdelegatesfocus><!---->
      <!--?lit$109918125$--><div class="outline"></div>
      <div class="background"></div>
      <md-focus-ring part="focus-ring" for="button" aria-hidden="true"><template shadowrootmode="open"><!----></template></md-focus-ring>
      <md-ripple part="ripple" for="button" aria-hidden="true"><template shadowrootmode="open"><!----><div class="surface   "></div></template></md-ripple>
      <!--?lit$109918125$--><button id="button" class="button" aria-label="Add text cell">
      <!--?lit$109918125$-->
      <span class="touch"></span>
      <!--?lit$109918125$--><slot name="icon"></slot>
      <span class="label"><slot></slot></span>
      <!--?lit$109918125$-->
    
    </button>
    </template>
          <md-icon slot="icon" aria-hidden="true"><template shadowrootmode="open"><!----><slot></slot></template>add</md-icon>
          <!--?lit$109918125$-->Text
        </md-outlined-button>
        <!--?lit$109918125$-->
      </div><hr>
    </div></div><div class="cell code icon-scrolling" id="cell-vcQ6QseXKSHX" role="region" aria-label="Cell 4: Code cell: " style="" tabindex="-1"><div class="cell-tag-editor sticky"></div><div class="cell-toolbar sticky"></div><div class="main-content" elevation="0"><div class="cell-contents"><div class="cell-mask"></div><span class="imported-info-area"></span><div class="codecell-input-output">
      <div class="inputarea horizontal layout code">
        <div class="cell-gutter">
          <!-- Bounding range for vertical scrolling of icons -->
          <div class="cell-execution-container">
            <colab-run-button title="Run cell (Ctrl+Enter)
cell has not been executed in this session

executed by Venkatesh Moturi
11:43 (29 minutes ago)
executed in 92.297 s" role="button" aria-label="Run cell"><template shadowrootmode="open"><!----> <div class="cell-execution stale">
      <div class="execution-count"><!--?lit$109918125$-->[ ]</div>
      <div class="cell-execution-indicator"> <!--?lit$109918125$-->
<svg xmlns="http://www.w3.org/2000/svg" viewBox="0 0 24 24">
  <!--?lit$109918125$-->
  <mask id="playSymbolMask">
    <rect width="100%" height="100%" fill="white"></rect>
    <polygon points="10,8 17,12 10,16" fill="black"></polygon>
  </mask>
  <circle cx="12" cy="12" r="7.8" mask="url(#playSymbolMask)" id="filledCircle"></circle>
</svg> </div>
      <!--?lit$109918125$--><!--?-->
    </div></template></colab-run-button>
          </div>
        </div>
      <div class="editor flex lazy-editor" style=""><pre class="lazy-virtualized" style="font-size: 14px; line-height: 19px;"><pre class="lazy-gutter"></pre><pre class="monaco-colorized colab-dark colab-dark colab-dark colab-dark colab-dark" data-lang="notebook-python"><span><span class="mtk17">%%capture</span></span><br><span><span class="mtk17">!</span><span class="mtk1">pip&nbsp;install&nbsp;dlt</span><span class="mtk12">[</span><span class="mtk1">lancedb</span><span class="mtk12">]</span><span class="mtk1">==</span><span class="mtk6">0.5.1</span><span class="mtk1">a0</span></span><br><span><span class="mtk17">!</span><span class="mtk1">pip&nbsp;install&nbsp;sentence-transformers</span></span><br></pre><colab-read-only-cell-placeholder style="display: none;"><template shadowrootmode="open"><!----><div><!--?lit$109918125$-->Start coding or <span role="button" class="link" tabindex="0">generate</span> with AI.</div></template></colab-read-only-cell-placeholder></pre></div><colab-form class="formview vertical layout flex"><div class="widget-area vertical layout"></div></colab-form></div>
    <div class="output" aria-label="Cell 4 output" role="region"><!----> <div class="output-header"> </div>
        <div class="output-content" hidden="">
          <div class="output-info"><colab-output-info title="Clear output

executed by Venkatesh Moturi
11:43 (0 minutes ago)
executed in 92.297 s"><template shadowrootmode="open"><!----><md-icon-button title="Code cell output actions" data-aria-label="Code cell output actions" value=""><template shadowrootmode="open" shadowrootdelegatesfocus><!----><button id="button" class="icon-button  standard " aria-label="Code cell output actions">
        <!--?lit$109918125$--><md-focus-ring part="focus-ring" for="button" aria-hidden="true"><template shadowrootmode="open"><!----></template></md-focus-ring>
        <!--?lit$109918125$--><md-ripple aria-hidden="true"><template shadowrootmode="open"><!----><div class="surface   "></div></template></md-ripple>
        <!--?lit$109918125$--><span class="icon"><slot></slot></span>
        <!--?lit$109918125$-->
        <!--?lit$109918125$--><span class="touch"></span>
        <!--?lit$109918125$-->
  </button></template>
        <md-icon aria-hidden="true"><template shadowrootmode="open"><!----><slot></slot></template><!--?lit$109918125$--><svg viewBox="0 0 24 24"><!--?lit$109918125$--><path d="m15.9 3.07c-4.32 0.0742-8.64-0.0355-13 0.0568-1.37 0.307-1.74 2.1-1.41 3.26 0.469 0.606 1.86 0.384 1.66-0.525 0.0448-0.329-0.183-0.93 0.354-0.766h13.3v1.53h1.71c0.0709-1.13 0.141-2.62-0.968-3.3-0.511-0.264-1.11-0.252-1.67-0.259zm2.94 6.84v4.87c1.62-1.62 3.24-3.24 4.87-4.87h-4.87zm0 0h-1.71v3.43l1.57 1.57c0.32-1.65 0.0556-3.34 0.135-5zm-1.71 3.43v-3.43h-3.43c1.14 1.14 2.29 2.29 3.43 3.43zm1.4 4.27h-1.71v1.48h-13.6v-1.48h-1.71c-0.0473 1.15-0.16 2.72 1.09 3.29 1.47 0.506 3.02 0.0265 4.53 0.192 3.34-0.0051 6.68 0.0336 10-0.0245 1.49-0.366 1.56-2.22 1.42-3.45zm-10.1-1.12c-0.398-0.483-0.796-0.967-1.19-1.45 0.59-0.683 1.18-1.37 1.77-2.05h-8.67v-2h8.67c-0.59-0.683-1.18-1.37-1.77-2.05 0.398-0.483 0.796-0.967 1.19-1.45 1.28 1.5 2.56 3 3.84 4.5-1.28 1.5-2.56 3-3.84 4.5z"></path></svg></md-icon>
      </md-icon-button></template></colab-output-info></div>
          <div class="output-iframe-container" hidden="">
            <div class="output-iframe-sizer" style="min-height: 0px;"> <div><div><colab-static-output-renderer role="group" tabindex="0"><div></div><div></div></colab-static-output-renderer></div></div></div>
          </div>
        </div></div></div><colab-cell-next-steps><template shadowrootmode="open"><!----></template></colab-cell-next-steps></div></div><div class="add-cell">
      <div class="add-cell-buttons">
        <md-outlined-button class="add-code add-button" data-aria-label="Add code cell
Ctrl+M B" title="Add code cell
Ctrl+M B" value="" has-icon=""><template shadowrootmode="open" shadowrootdelegatesfocus><!---->
      <!--?lit$109918125$--><div class="outline"></div>
      <div class="background"></div>
      <md-focus-ring part="focus-ring" for="button" aria-hidden="true"><template shadowrootmode="open"><!----></template></md-focus-ring>
      <md-ripple part="ripple" for="button" aria-hidden="true"><template shadowrootmode="open"><!----><div class="surface   "></div></template></md-ripple>
      <!--?lit$109918125$--><button id="button" class="button" aria-label="Add code cell
Ctrl+M B">
      <!--?lit$109918125$-->
      <span class="touch"></span>
      <!--?lit$109918125$--><slot name="icon"></slot>
      <span class="label"><slot></slot></span>
      <!--?lit$109918125$-->
    
    </button>
    </template>
          <md-icon slot="icon" aria-hidden="true"><template shadowrootmode="open"><!----><slot></slot></template>add</md-icon>
          <!--?lit$109918125$-->Code
        </md-outlined-button>
        <md-outlined-button class="add-text add-button" data-aria-label="Add text cell" title="Add text cell" value="" has-icon=""><template shadowrootmode="open" shadowrootdelegatesfocus><!---->
      <!--?lit$109918125$--><div class="outline"></div>
      <div class="background"></div>
      <md-focus-ring part="focus-ring" for="button" aria-hidden="true"><template shadowrootmode="open"><!----></template></md-focus-ring>
      <md-ripple part="ripple" for="button" aria-hidden="true"><template shadowrootmode="open"><!----><div class="surface   "></div></template></md-ripple>
      <!--?lit$109918125$--><button id="button" class="button" aria-label="Add text cell">
      <!--?lit$109918125$-->
      <span class="touch"></span>
      <!--?lit$109918125$--><slot name="icon"></slot>
      <span class="label"><slot></slot></span>
      <!--?lit$109918125$-->
    
    </button>
    </template>
          <md-icon slot="icon" aria-hidden="true"><template shadowrootmode="open"><!----><slot></slot></template>add</md-icon>
          <!--?lit$109918125$-->Text
        </md-outlined-button>
        <!--?lit$109918125$-->
      </div><hr>
    </div></div><div class="cell text" id="cell-roJHcRy0bW95" role="region" aria-label="Cell 5: Text cell: Load the data" style="" tabindex="-1"><div class="cell-tag-editor sticky"></div><div class="cell-toolbar sticky"></div><div class="main-content" elevation="0"><div class="cell-contents"><div class="cell-mask"></div><span class="imported-info-area"></span><!----> <div class="toolbar-root"></div>
      <div class="editor-container horizontal">
        <div class="editor-root"></div>
        <div class="text-top-div">
          <div class="markdown"><span><div class="text-cell-section-header layout horizontal center"><md-icon-button class="header-section-toggle" title="Collapse 4 child cells under Load the data (Press &lt;Shift&gt; to also collapse sibling sections)" data-aria-label="Collapse 4 child cells under Load the data (Press &lt;Shift&gt; to also collapse sibling sections)" value=""><template shadowrootmode="open" shadowrootdelegatesfocus><!----><button id="button" class="icon-button  standard " aria-label="Collapse 4 child cells under Load the data (Press &lt;Shift&gt; to also collapse sibling sections)">
        <!--?lit$109918125$--><md-focus-ring part="focus-ring" for="button" aria-hidden="true"><template shadowrootmode="open"><!----></template></md-focus-ring>
        <!--?lit$109918125$--><md-ripple aria-hidden="true"><template shadowrootmode="open"><!----><div class="surface   "></div></template></md-ripple>
        <!--?lit$109918125$--><span class="icon"><slot></slot></span>
        <!--?lit$109918125$-->
        <!--?lit$109918125$--><span class="touch"></span>
        <!--?lit$109918125$-->
  </button></template><md-icon aria-hidden="true"><template shadowrootmode="open"><!----><slot></slot></template>keyboard_arrow_down</md-icon></md-icon-button><h2>Load the data</h2></div>
</span></div>
        </div>
      </div>

      <div class="section-header" style="display: none;">
        <colab-run-button role="button" aria-label="Run cell"><template shadowrootmode="open"><!----> <div class="cell-execution">
      <div class="execution-count"><!--?lit$109918125$-->[ ]</div>
      <div class="cell-execution-indicator"> <!--?lit$109918125$-->
<svg xmlns="http://www.w3.org/2000/svg" viewBox="0 0 24 24">
  <!--?lit$109918125$-->
  <mask id="playSymbolMask">
    <rect width="100%" height="100%" fill="white"></rect>
    <polygon points="10,8 17,12 10,16" fill="black"></polygon>
  </mask>
  <circle cx="12" cy="12" r="7.8" mask="url(#playSymbolMask)" id="filledCircle"></circle>
</svg> </div>
      <!--?lit$109918125$--><!--?-->
    </div></template></colab-run-button>
        <div class="section-header-container" title="click to expand">↳ 4 cells hidden</div>
      </div></div></div><div class="add-cell">
      <hr>
    </div></div><div class="cell text" id="cell-c5-X9owIbsAL" role="region" aria-label="Cell 6: Text cell: " style="" tabindex="-1"><div class="cell-tag-editor sticky"></div><div class="cell-toolbar sticky"></div><div class="main-content" elevation="0"><div class="cell-contents"><div class="cell-mask"></div><span class="imported-info-area"></span><!----> <div class="toolbar-root"></div>
      <div class="editor-container horizontal">
        <div class="editor-root"></div>
        <div class="text-top-div">
          <div class="markdown"><span><p>We'll first load the data just into LanceDB, without embedding it. LanceDB stores both the data and the embeddings, and can also embed data and queries on the fly.</p>
<p>Some definitions:</p>
<ul>
<li>A dlt <strong>source</strong> is a grouping of <strong>resources</strong> (e.g. all your data from Hubspot)</li>
<li>A dlt <strong>resource</strong> is a function that yields data (e.g. a function yielding all your Hubspot companies)</li>
<li>A dlt <strong>pipeline</strong> is how you ingest your data</li>
</ul>
<p>Loading the data consists of a few steps:</p>
<ol>
<li>Use the requests library to get the data</li>
<li>Define a dlt resource that yields the individual documents</li>
<li>Create a dlt pipeline and run it</li>
</ol>
</span></div>
        </div>
      </div>

      <div class="section-header" style="display: none;">
        <colab-run-button role="button" aria-label="Run cell"><template shadowrootmode="open"><!----> <div class="cell-execution">
      <div class="execution-count"><!--?lit$109918125$-->[ ]</div>
      <div class="cell-execution-indicator"> <!--?lit$109918125$-->
<svg xmlns="http://www.w3.org/2000/svg" viewBox="0 0 24 24">
  <!--?lit$109918125$-->
  <mask id="playSymbolMask">
    <rect width="100%" height="100%" fill="white"></rect>
    <polygon points="10,8 17,12 10,16" fill="black"></polygon>
  </mask>
  <circle cx="12" cy="12" r="7.8" mask="url(#playSymbolMask)" id="filledCircle"></circle>
</svg> </div>
      <!--?lit$109918125$--><!--?-->
    </div></template></colab-run-button>
        <div class="section-header-container" title="click to expand">↳ 0 cells hidden</div>
      </div></div></div><div class="add-cell">
      <div class="add-cell-buttons">
        <md-outlined-button class="add-code add-button" data-aria-label="Add code cell
Ctrl+M B" title="Add code cell
Ctrl+M B" value="" has-icon=""><template shadowrootmode="open" shadowrootdelegatesfocus><!---->
      <!--?lit$109918125$--><div class="outline"></div>
      <div class="background"></div>
      <md-focus-ring part="focus-ring" for="button" aria-hidden="true"><template shadowrootmode="open"><!----></template></md-focus-ring>
      <md-ripple part="ripple" for="button" aria-hidden="true"><template shadowrootmode="open"><!----><div class="surface   "></div></template></md-ripple>
      <!--?lit$109918125$--><button id="button" class="button" aria-label="Add code cell
Ctrl+M B">
      <!--?lit$109918125$-->
      <span class="touch"></span>
      <!--?lit$109918125$--><slot name="icon"></slot>
      <span class="label"><slot></slot></span>
      <!--?lit$109918125$-->
    
    </button>
    </template>
          <md-icon slot="icon" aria-hidden="true"><template shadowrootmode="open"><!----><slot></slot></template>add</md-icon>
          <!--?lit$109918125$-->Code
        </md-outlined-button>
        <md-outlined-button class="add-text add-button" data-aria-label="Add text cell" title="Add text cell" value="" has-icon=""><template shadowrootmode="open" shadowrootdelegatesfocus><!---->
      <!--?lit$109918125$--><div class="outline"></div>
      <div class="background"></div>
      <md-focus-ring part="focus-ring" for="button" aria-hidden="true"><template shadowrootmode="open"><!----></template></md-focus-ring>
      <md-ripple part="ripple" for="button" aria-hidden="true"><template shadowrootmode="open"><!----><div class="surface   "></div></template></md-ripple>
      <!--?lit$109918125$--><button id="button" class="button" aria-label="Add text cell">
      <!--?lit$109918125$-->
      <span class="touch"></span>
      <!--?lit$109918125$--><slot name="icon"></slot>
      <span class="label"><slot></slot></span>
      <!--?lit$109918125$-->
    
    </button>
    </template>
          <md-icon slot="icon" aria-hidden="true"><template shadowrootmode="open"><!----><slot></slot></template>add</md-icon>
          <!--?lit$109918125$-->Text
        </md-outlined-button>
        <!--?lit$109918125$-->
      </div><hr>
    </div></div><div class="cell code icon-scrolling code-has-output" id="cell-_CTfhhFGJ-ma" role="region" aria-label="Cell 7: Code cell: " style="" tabindex="-1"><div class="cell-tag-editor sticky"></div><div class="cell-toolbar sticky"></div><div class="main-content" elevation="0"><div class="cell-contents"><div class="cell-mask"></div><span class="imported-info-area"></span><div class="codecell-input-output">
      <div class="inputarea horizontal layout code">
        <div class="cell-gutter">
          <!-- Bounding range for vertical scrolling of icons -->
          <div class="cell-execution-container">
            <colab-run-button title="Run cell (Ctrl+Enter)
cell has not been executed in this session

executed by Venkatesh Moturi
11:45 (27 minutes ago)
executed in 5.431 s" role="button" aria-label="Run cell"><template shadowrootmode="open"><!----> <div class="cell-execution stale">
      <div class="execution-count"><!--?lit$109918125$-->[ ]</div>
      <div class="cell-execution-indicator"> <!--?lit$109918125$-->
<svg xmlns="http://www.w3.org/2000/svg" viewBox="0 0 24 24">
  <!--?lit$109918125$-->
  <mask id="playSymbolMask">
    <rect width="100%" height="100%" fill="white"></rect>
    <polygon points="10,8 17,12 10,16" fill="black"></polygon>
  </mask>
  <circle cx="12" cy="12" r="7.8" mask="url(#playSymbolMask)" id="filledCircle"></circle>
</svg> </div>
      <!--?lit$109918125$--><!--?-->
    </div></template></colab-run-button>
          </div>
        </div>
      <div class="editor flex lazy-editor" style=""><pre class="lazy-virtualized" style="font-size: 14px; line-height: 19px;"><pre class="lazy-gutter"></pre><pre class="monaco-colorized colab-dark colab-dark colab-dark colab-dark colab-dark colab-dark" data-lang="notebook-python"><span><span class="mtk18">import</span><span class="mtk1">&nbsp;requests</span></span><br><span><span class="mtk18">import</span><span class="mtk1">&nbsp;dlt</span></span><br><span><span></span></span><br><span><span class="mtk1">qa_dataset&nbsp;=&nbsp;requests.get</span><span class="mtk12">(</span><span class="mtk5">"https://github.com/DataTalksClub/llm-zoomcamp/blo</span><span class="mtk5">b/main/01-intro/documents.json?raw=1"</span><span class="mtk12">)</span><span class="mtk1">.json</span><span class="mtk12">()</span></span><br><span><span></span></span><br><span><span class="mtk15">@dlt.resource</span></span><br><span><span class="mtk9">def</span><span class="mtk1">&nbsp;</span><span class="mtk15">qa_documents</span><span class="mtk1">()</span><span class="mtk12">:</span></span><br><span><span class="mtk1">&nbsp;&nbsp;</span><span class="mtk18">for</span><span class="mtk1">&nbsp;course&nbsp;</span><span class="mtk17">in</span><span class="mtk1">&nbsp;qa_dataset</span><span class="mtk12">:</span></span><br><span><span class="mtk1">&nbsp;&nbsp;&nbsp;&nbsp;</span><span class="mtk18">yield</span><span class="mtk1">&nbsp;course</span><span class="mtk12">[</span><span class="mtk5">"documents"</span><span class="mtk12">]</span></span><br><span><span></span></span><br><span><span class="mtk1">pipeline&nbsp;=&nbsp;dlt.pipeline</span><span class="mtk12">(</span><span class="mtk1">pipeline_name=</span><span class="mtk5">"from_json"</span><span class="mtk12">,</span><span class="mtk1">&nbsp;destination=</span><span class="mtk5">"lancedb"</span><span class="mtk12">,</span><span class="mtk1">&nbsp;dataset_name=</span><span class="mtk5">"qanda"</span><span class="mtk12">)</span></span><br><span><span></span></span><br><span><span class="mtk1">load_info&nbsp;=&nbsp;pipeline.run</span><span class="mtk12">(</span><span class="mtk1">qa_documents</span><span class="mtk12">,</span><span class="mtk1">&nbsp;table_name=</span><span class="mtk5">"documents"</span><span class="mtk12">)</span></span><br><span><span></span></span><br><span><span class="mtk15">print</span><span class="mtk12">(</span><span class="mtk1">load_info</span><span class="mtk12">)</span></span><br></pre><colab-read-only-cell-placeholder style="display: none;"><template shadowrootmode="open"><!----><div><!--?lit$109918125$-->Start coding or <span role="button" class="link" tabindex="0">generate</span> with AI.</div></template></colab-read-only-cell-placeholder></pre></div><colab-form class="formview vertical layout flex"><div class="widget-area vertical layout"></div></colab-form></div>
    <div class="output" aria-label="Cell 7 output" role="region"><!----> <div class="output-header"> </div>
        <div class="output-content">
          <div class="output-info"><colab-output-info title="Clear output

executed by Venkatesh Moturi
11:45 (0 minutes ago)
executed in 5.431 s"><template shadowrootmode="open"><!----><md-icon-button title="Code cell output actions" data-aria-label="Code cell output actions" value=""><template shadowrootmode="open" shadowrootdelegatesfocus><!----><button id="button" class="icon-button  standard " aria-label="Code cell output actions">
        <!--?lit$109918125$--><md-focus-ring part="focus-ring" for="button" aria-hidden="true"><template shadowrootmode="open"><!----></template></md-focus-ring>
        <!--?lit$109918125$--><md-ripple aria-hidden="true"><template shadowrootmode="open"><!----><div class="surface   "></div></template></md-ripple>
        <!--?lit$109918125$--><span class="icon"><slot></slot></span>
        <!--?lit$109918125$-->
        <!--?lit$109918125$--><span class="touch"></span>
        <!--?lit$109918125$-->
  </button></template>
        <md-icon aria-hidden="true"><template shadowrootmode="open"><!----><slot></slot></template><!--?lit$109918125$--><svg viewBox="0 0 24 24"><!--?lit$109918125$--><path d="m15.9 3.07c-4.32 0.0742-8.64-0.0355-13 0.0568-1.37 0.307-1.74 2.1-1.41 3.26 0.469 0.606 1.86 0.384 1.66-0.525 0.0448-0.329-0.183-0.93 0.354-0.766h13.3v1.53h1.71c0.0709-1.13 0.141-2.62-0.968-3.3-0.511-0.264-1.11-0.252-1.67-0.259zm2.94 6.84v4.87c1.62-1.62 3.24-3.24 4.87-4.87h-4.87zm0 0h-1.71v3.43l1.57 1.57c0.32-1.65 0.0556-3.34 0.135-5zm-1.71 3.43v-3.43h-3.43c1.14 1.14 2.29 2.29 3.43 3.43zm1.4 4.27h-1.71v1.48h-13.6v-1.48h-1.71c-0.0473 1.15-0.16 2.72 1.09 3.29 1.47 0.506 3.02 0.0265 4.53 0.192 3.34-0.0051 6.68 0.0336 10-0.0245 1.49-0.366 1.56-2.22 1.42-3.45zm-10.1-1.12c-0.398-0.483-0.796-0.967-1.19-1.45 0.59-0.683 1.18-1.37 1.77-2.05h-8.67v-2h8.67c-0.59-0.683-1.18-1.37-1.77-2.05 0.398-0.483 0.796-0.967 1.19-1.45 1.28 1.5 2.56 3 3.84 4.5-1.28 1.5-2.56 3-3.84 4.5z"></path></svg></md-icon>
      </md-icon-button></template></colab-output-info></div>
          <div class="output-iframe-container">
            <div class="output-iframe-sizer" style="min-height: 0px;"> <div><div><colab-static-output-renderer role="group" tabindex="0"><div><div class="stream output-id-2 output_text"><pre>_dlt_loads
[{'name': 'load_id', 'data_type': 'text', 'nullable': False}, {'name': 'schema_name', 'data_type': 'text', 'nullable': True}, {'name': 'status', 'data_type': 'bigint', 'nullable': False}, {'name': 'inserted_at', 'data_type': 'timestamp', 'nullable': False}, {'name': 'schema_version_hash', 'data_type': 'text', 'nullable': True}]
_dlt_pipeline_state
[{'name': 'version', 'data_type': 'bigint', 'nullable': False}, {'name': 'engine_version', 'data_type': 'bigint', 'nullable': False}, {'name': 'pipeline_name', 'data_type': 'text', 'nullable': False}, {'name': 'state', 'data_type': 'text', 'nullable': False}, {'name': 'created_at', 'data_type': 'timestamp', 'nullable': False}, {'name': 'version_hash', 'data_type': 'text', 'nullable': True}, {'name': '_dlt_load_id', 'data_type': 'text', 'nullable': False}, {'name': '_dlt_id', 'data_type': 'text', 'nullable': False, 'unique': True}]
documents
[{'name': 'text', 'data_type': 'text', 'nullable': True}, {'name': 'section', 'data_type': 'text', 'nullable': True}, {'name': 'question', 'data_type': 'text', 'nullable': True}, {'name': '_dlt_load_id', 'data_type': 'text', 'nullable': False}, {'name': '_dlt_id', 'data_type': 'text', 'nullable': False, 'unique': True}]
_dlt_version
[{'name': 'version', 'data_type': 'bigint', 'nullable': False}, {'name': 'engine_version', 'data_type': 'bigint', 'nullable': False}, {'name': 'inserted_at', 'data_type': 'timestamp', 'nullable': False}, {'name': 'schema_name', 'data_type': 'text', 'nullable': False}, {'name': 'version_hash', 'data_type': 'text', 'nullable': False}, {'name': 'schema', 'data_type': 'text', 'nullable': False}]
UPLOAD
Pipeline from_json load step completed in 0.41 seconds
1 load package(s) were loaded to destination LanceDB and into dataset qanda
The LanceDB destination used &lt;dlt.destinations.impl.lancedb.configuration.LanceDBCredentials object at 0x7c807a999540&gt; location to store data
Load package 1721715318.7622836 is LOADED and contains no failed jobs
</pre></div></div><div></div></colab-static-output-renderer></div></div></div>
          </div>
        </div></div></div><colab-cell-next-steps><template shadowrootmode="open"><!----></template></colab-cell-next-steps></div></div><div class="add-cell">
      <div class="add-cell-buttons">
        <md-outlined-button class="add-code add-button" data-aria-label="Add code cell
Ctrl+M B" title="Add code cell
Ctrl+M B" value="" has-icon=""><template shadowrootmode="open" shadowrootdelegatesfocus><!---->
      <!--?lit$109918125$--><div class="outline"></div>
      <div class="background"></div>
      <md-focus-ring part="focus-ring" for="button" aria-hidden="true"><template shadowrootmode="open"><!----></template></md-focus-ring>
      <md-ripple part="ripple" for="button" aria-hidden="true"><template shadowrootmode="open"><!----><div class="surface   "></div></template></md-ripple>
      <!--?lit$109918125$--><button id="button" class="button" aria-label="Add code cell
Ctrl+M B">
      <!--?lit$109918125$-->
      <span class="touch"></span>
      <!--?lit$109918125$--><slot name="icon"></slot>
      <span class="label"><slot></slot></span>
      <!--?lit$109918125$-->
    
    </button>
    </template>
          <md-icon slot="icon" aria-hidden="true"><template shadowrootmode="open"><!----><slot></slot></template>add</md-icon>
          <!--?lit$109918125$-->Code
        </md-outlined-button>
        <md-outlined-button class="add-text add-button" data-aria-label="Add text cell" title="Add text cell" value="" has-icon=""><template shadowrootmode="open" shadowrootdelegatesfocus><!---->
      <!--?lit$109918125$--><div class="outline"></div>
      <div class="background"></div>
      <md-focus-ring part="focus-ring" for="button" aria-hidden="true"><template shadowrootmode="open"><!----></template></md-focus-ring>
      <md-ripple part="ripple" for="button" aria-hidden="true"><template shadowrootmode="open"><!----><div class="surface   "></div></template></md-ripple>
      <!--?lit$109918125$--><button id="button" class="button" aria-label="Add text cell">
      <!--?lit$109918125$-->
      <span class="touch"></span>
      <!--?lit$109918125$--><slot name="icon"></slot>
      <span class="label"><slot></slot></span>
      <!--?lit$109918125$-->
    
    </button>
    </template>
          <md-icon slot="icon" aria-hidden="true"><template shadowrootmode="open"><!----><slot></slot></template>add</md-icon>
          <!--?lit$109918125$-->Text
        </md-outlined-button>
        <!--?lit$109918125$-->
      </div><hr>
    </div></div><div class="cell code icon-scrolling code-has-output" id="cell-pOuo4R7XNH9y" role="region" aria-label="Cell 8: Code cell: " style="" tabindex="-1"><div class="cell-tag-editor sticky"></div><div class="cell-toolbar sticky"></div><div class="main-content" elevation="0"><div class="cell-contents"><div class="cell-mask"></div><span class="imported-info-area"></span><div class="codecell-input-output">
      <div class="inputarea horizontal layout code">
        <div class="cell-gutter">
          <!-- Bounding range for vertical scrolling of icons -->
          <div class="cell-execution-container">
            <colab-run-button title="Run cell (Ctrl+Enter)
cell has not been executed in this session

executed by Venkatesh Moturi
11:46 (26 minutes ago)
executed in 0.67 s" role="button" aria-label="Run cell"><template shadowrootmode="open"><!----> <div class="cell-execution stale">
      <div class="execution-count"><!--?lit$109918125$-->[ ]</div>
      <div class="cell-execution-indicator"> <!--?lit$109918125$-->
<svg xmlns="http://www.w3.org/2000/svg" viewBox="0 0 24 24">
  <!--?lit$109918125$-->
  <mask id="playSymbolMask">
    <rect width="100%" height="100%" fill="white"></rect>
    <polygon points="10,8 17,12 10,16" fill="black"></polygon>
  </mask>
  <circle cx="12" cy="12" r="7.8" mask="url(#playSymbolMask)" id="filledCircle"></circle>
</svg> </div>
      <!--?lit$109918125$--><!--?-->
    </div></template></colab-run-button>
          </div>
        </div>
      <div class="editor flex lazy-editor" style=""><pre class="lazy-virtualized" style="font-size: 14px; line-height: 19px;"><pre class="lazy-gutter"></pre><pre class="monaco-colorized colab-dark colab-dark colab-dark colab-dark colab-dark colab-dark colab-dark colab-dark" data-lang="notebook-python"><span><span class="mtk18">import</span><span class="mtk1">&nbsp;lancedb</span></span><br><span><span></span></span><br><span><span class="mtk1">db&nbsp;=&nbsp;lancedb.connect</span><span class="mtk12">(</span><span class="mtk5">"./.lancedb"</span><span class="mtk12">)</span></span><br><span><span class="mtk15">print</span><span class="mtk12">(</span><span class="mtk1">db.table_names</span><span class="mtk12">())</span></span><br></pre><colab-read-only-cell-placeholder style="display: none;"><template shadowrootmode="open"><!----><div><!--?lit$109918125$-->Start coding or <span role="button" class="link" tabindex="0">generate</span> with AI.</div></template></colab-read-only-cell-placeholder></pre></div><colab-form class="formview vertical layout flex"><div class="widget-area vertical layout"></div></colab-form></div>
    <div class="output" aria-label="Cell 8 output" role="region"><!----> <div class="output-header"> </div>
        <div class="output-content">
          <div class="output-info"><colab-output-info title="Clear output

executed by Venkatesh Moturi
11:46 (0 minutes ago)
executed in 0.67 s"><template shadowrootmode="open"><!----><md-icon-button title="Code cell output actions" data-aria-label="Code cell output actions" value=""><template shadowrootmode="open" shadowrootdelegatesfocus><!----><button id="button" class="icon-button  standard " aria-label="Code cell output actions">
        <!--?lit$109918125$--><md-focus-ring part="focus-ring" for="button" aria-hidden="true"><template shadowrootmode="open"><!----></template></md-focus-ring>
        <!--?lit$109918125$--><md-ripple aria-hidden="true"><template shadowrootmode="open"><!----><div class="surface   "></div></template></md-ripple>
        <!--?lit$109918125$--><span class="icon"><slot></slot></span>
        <!--?lit$109918125$-->
        <!--?lit$109918125$--><span class="touch"></span>
        <!--?lit$109918125$-->
  </button></template>
        <md-icon aria-hidden="true"><template shadowrootmode="open"><!----><slot></slot></template><!--?lit$109918125$--><svg viewBox="0 0 24 24"><!--?lit$109918125$--><path d="m15.9 3.07c-4.32 0.0742-8.64-0.0355-13 0.0568-1.37 0.307-1.74 2.1-1.41 3.26 0.469 0.606 1.86 0.384 1.66-0.525 0.0448-0.329-0.183-0.93 0.354-0.766h13.3v1.53h1.71c0.0709-1.13 0.141-2.62-0.968-3.3-0.511-0.264-1.11-0.252-1.67-0.259zm2.94 6.84v4.87c1.62-1.62 3.24-3.24 4.87-4.87h-4.87zm0 0h-1.71v3.43l1.57 1.57c0.32-1.65 0.0556-3.34 0.135-5zm-1.71 3.43v-3.43h-3.43c1.14 1.14 2.29 2.29 3.43 3.43zm1.4 4.27h-1.71v1.48h-13.6v-1.48h-1.71c-0.0473 1.15-0.16 2.72 1.09 3.29 1.47 0.506 3.02 0.0265 4.53 0.192 3.34-0.0051 6.68 0.0336 10-0.0245 1.49-0.366 1.56-2.22 1.42-3.45zm-10.1-1.12c-0.398-0.483-0.796-0.967-1.19-1.45 0.59-0.683 1.18-1.37 1.77-2.05h-8.67v-2h8.67c-0.59-0.683-1.18-1.37-1.77-2.05 0.398-0.483 0.796-0.967 1.19-1.45 1.28 1.5 2.56 3 3.84 4.5-1.28 1.5-2.56 3-3.84 4.5z"></path></svg></md-icon>
      </md-icon-button></template></colab-output-info></div>
          <div class="output-iframe-container">
            <div class="output-iframe-sizer" style="min-height: 0px;"> <div><div><colab-static-output-renderer role="group" tabindex="0"><div><div class="stream output-id-1 output_text"><pre>['qanda____dlt_loads', 'qanda____dlt_pipeline_state', 'qanda____dlt_version', 'qanda___dltSentinelTable', 'qanda___documents']
</pre></div></div><div></div></colab-static-output-renderer></div></div></div>
          </div>
        </div></div></div><colab-cell-next-steps><template shadowrootmode="open"><!----></template></colab-cell-next-steps></div></div><div class="add-cell">
      <div class="add-cell-buttons">
        <md-outlined-button class="add-code add-button" data-aria-label="Add code cell
Ctrl+M B" title="Add code cell
Ctrl+M B" value="" has-icon=""><template shadowrootmode="open" shadowrootdelegatesfocus><!---->
      <!--?lit$109918125$--><div class="outline"></div>
      <div class="background"></div>
      <md-focus-ring part="focus-ring" for="button" aria-hidden="true"><template shadowrootmode="open"><!----></template></md-focus-ring>
      <md-ripple part="ripple" for="button" aria-hidden="true"><template shadowrootmode="open"><!----><div class="surface   "></div></template></md-ripple>
      <!--?lit$109918125$--><button id="button" class="button" aria-label="Add code cell
Ctrl+M B">
      <!--?lit$109918125$-->
      <span class="touch"></span>
      <!--?lit$109918125$--><slot name="icon"></slot>
      <span class="label"><slot></slot></span>
      <!--?lit$109918125$-->
    
    </button>
    </template>
          <md-icon slot="icon" aria-hidden="true"><template shadowrootmode="open"><!----><slot></slot></template>add</md-icon>
          <!--?lit$109918125$-->Code
        </md-outlined-button>
        <md-outlined-button class="add-text add-button" data-aria-label="Add text cell" title="Add text cell" value="" has-icon=""><template shadowrootmode="open" shadowrootdelegatesfocus><!---->
      <!--?lit$109918125$--><div class="outline"></div>
      <div class="background"></div>
      <md-focus-ring part="focus-ring" for="button" aria-hidden="true"><template shadowrootmode="open"><!----></template></md-focus-ring>
      <md-ripple part="ripple" for="button" aria-hidden="true"><template shadowrootmode="open"><!----><div class="surface   "></div></template></md-ripple>
      <!--?lit$109918125$--><button id="button" class="button" aria-label="Add text cell">
      <!--?lit$109918125$-->
      <span class="touch"></span>
      <!--?lit$109918125$--><slot name="icon"></slot>
      <span class="label"><slot></slot></span>
      <!--?lit$109918125$-->
    
    </button>
    </template>
          <md-icon slot="icon" aria-hidden="true"><template shadowrootmode="open"><!----><slot></slot></template>add</md-icon>
          <!--?lit$109918125$-->Text
        </md-outlined-button>
        <!--?lit$109918125$-->
      </div><hr>
    </div></div><div class="cell code icon-scrolling code-has-output" id="cell-PQwiUyt_Pb_H" role="region" aria-label="Cell 9: Code cell: " style="" tabindex="-1"><div class="cell-tag-editor sticky"></div><div class="cell-toolbar sticky"></div><div class="main-content" elevation="0"><div class="cell-contents"><div class="cell-mask"></div><span class="imported-info-area"></span><div class="codecell-input-output">
      <div class="inputarea horizontal layout code">
        <div class="cell-gutter">
          <!-- Bounding range for vertical scrolling of icons -->
          <div class="cell-execution-container">
            <colab-run-button title="Run cell (Ctrl+Enter)
cell has not been executed in this session

executed by Venkatesh Moturi
11:46 (26 minutes ago)
executed in 0.653 s" role="button" aria-label="Run cell"><template shadowrootmode="open"><!----> <div class="cell-execution stale">
      <div class="execution-count"><!--?lit$109918125$-->[ ]</div>
      <div class="cell-execution-indicator"> <!--?lit$109918125$-->
<svg xmlns="http://www.w3.org/2000/svg" viewBox="0 0 24 24">
  <!--?lit$109918125$-->
  <mask id="playSymbolMask">
    <rect width="100%" height="100%" fill="white"></rect>
    <polygon points="10,8 17,12 10,16" fill="black"></polygon>
  </mask>
  <circle cx="12" cy="12" r="7.8" mask="url(#playSymbolMask)" id="filledCircle"></circle>
</svg> </div>
      <!--?lit$109918125$--><!--?-->
    </div></template></colab-run-button>
          </div>
        </div>
      <div class="editor flex lazy-editor" style=""><pre class="lazy-virtualized" style="font-size: 14px; line-height: 19px;"><pre class="lazy-gutter"></pre><pre class="monaco-colorized colab-dark colab-dark colab-dark colab-dark colab-dark colab-dark colab-dark colab-dark" data-lang="notebook-python"><span><span class="mtk1">db_table&nbsp;=&nbsp;db.open_table</span><span class="mtk12">(</span><span class="mtk5">"qanda___documents"</span><span class="mtk12">)</span></span><br><span><span></span></span><br><span><span class="mtk1">db_table.to_pandas</span><span class="mtk12">()</span></span><br></pre><colab-read-only-cell-placeholder style="display: none;"><template shadowrootmode="open"><!----><div><!--?lit$109918125$-->Start coding or <span role="button" class="link" tabindex="0">generate</span> with AI.</div></template></colab-read-only-cell-placeholder></pre></div><colab-form class="formview vertical layout flex"><div class="widget-area vertical layout"></div></colab-form></div>
    <div class="output" aria-label="Cell 9 output" role="region"><!----> <div class="output-header"> </div>
        <div class="output-content">
          <div class="output-info"><colab-output-info title="Clear output

executed by Venkatesh Moturi
11:46 (0 minutes ago)
executed in 0.653 s"><template shadowrootmode="open"><!----><md-icon-button title="Code cell output actions" data-aria-label="Code cell output actions" value=""><template shadowrootmode="open" shadowrootdelegatesfocus><!----><button id="button" class="icon-button  standard " aria-label="Code cell output actions">
        <!--?lit$109918125$--><md-focus-ring part="focus-ring" for="button" aria-hidden="true"><template shadowrootmode="open"><!----></template></md-focus-ring>
        <!--?lit$109918125$--><md-ripple aria-hidden="true"><template shadowrootmode="open"><!----><div class="surface   "></div></template></md-ripple>
        <!--?lit$109918125$--><span class="icon"><slot></slot></span>
        <!--?lit$109918125$-->
        <!--?lit$109918125$--><span class="touch"></span>
        <!--?lit$109918125$-->
  </button></template>
        <md-icon aria-hidden="true"><template shadowrootmode="open"><!----><slot></slot></template><!--?lit$109918125$--><svg viewBox="0 0 24 24"><!--?lit$109918125$--><path d="m15.9 3.07c-4.32 0.0742-8.64-0.0355-13 0.0568-1.37 0.307-1.74 2.1-1.41 3.26 0.469 0.606 1.86 0.384 1.66-0.525 0.0448-0.329-0.183-0.93 0.354-0.766h13.3v1.53h1.71c0.0709-1.13 0.141-2.62-0.968-3.3-0.511-0.264-1.11-0.252-1.67-0.259zm2.94 6.84v4.87c1.62-1.62 3.24-3.24 4.87-4.87h-4.87zm0 0h-1.71v3.43l1.57 1.57c0.32-1.65 0.0556-3.34 0.135-5zm-1.71 3.43v-3.43h-3.43c1.14 1.14 2.29 2.29 3.43 3.43zm1.4 4.27h-1.71v1.48h-13.6v-1.48h-1.71c-0.0473 1.15-0.16 2.72 1.09 3.29 1.47 0.506 3.02 0.0265 4.53 0.192 3.34-0.0051 6.68 0.0336 10-0.0245 1.49-0.366 1.56-2.22 1.42-3.45zm-10.1-1.12c-0.398-0.483-0.796-0.967-1.19-1.45 0.59-0.683 1.18-1.37 1.77-2.05h-8.67v-2h8.67c-0.59-0.683-1.18-1.37-1.77-2.05 0.398-0.483 0.796-0.967 1.19-1.45 1.28 1.5 2.56 3 3.84 4.5-1.28 1.5-2.56 3-3.84 4.5z"></path></svg></md-icon>
      </md-icon-button></template></colab-output-info></div>
          <div class="output-iframe-container">
            <div class="output-iframe-sizer" style="min-height: 0px;"> <div><div class="outputview" style="height: 1000px;"><colab-dom-lifecycle-events style="display: none;"></colab-dom-lifecycle-events><iframe allow="accelerometer; autoplay; gyroscope; magnetometer; xr-spatial-tracking; clipboard-write; camera; microphone; serial; usb" sandbox="allow-downloads allow-forms allow-pointer-lock allow-popups allow-same-origin allow-scripts allow-storage-access-by-user-activation allow-modals allow-popups-to-escape-sandbox" src="./LLM_zoomcamp_RAG_files/outputframe.html" class="" style="height: 1000px;"></iframe></div></div></div>
          </div>
        </div></div></div><colab-cell-next-steps><template shadowrootmode="open"><!----></template></colab-cell-next-steps></div></div><div class="add-cell">
      <div class="add-cell-buttons">
        <md-outlined-button class="add-code add-button" data-aria-label="Add code cell
Ctrl+M B" title="Add code cell
Ctrl+M B" value="" has-icon=""><template shadowrootmode="open" shadowrootdelegatesfocus><!---->
      <!--?lit$109918125$--><div class="outline"></div>
      <div class="background"></div>
      <md-focus-ring part="focus-ring" for="button" aria-hidden="true"><template shadowrootmode="open"><!----></template></md-focus-ring>
      <md-ripple part="ripple" for="button" aria-hidden="true"><template shadowrootmode="open"><!----><div class="surface   "></div></template></md-ripple>
      <!--?lit$109918125$--><button id="button" class="button" aria-label="Add code cell
Ctrl+M B">
      <!--?lit$109918125$-->
      <span class="touch"></span>
      <!--?lit$109918125$--><slot name="icon"></slot>
      <span class="label"><slot></slot></span>
      <!--?lit$109918125$-->
    
    </button>
    </template>
          <md-icon slot="icon" aria-hidden="true"><template shadowrootmode="open"><!----><slot></slot></template>add</md-icon>
          <!--?lit$109918125$-->Code
        </md-outlined-button>
        <md-outlined-button class="add-text add-button" data-aria-label="Add text cell" title="Add text cell" value="" has-icon=""><template shadowrootmode="open" shadowrootdelegatesfocus><!---->
      <!--?lit$109918125$--><div class="outline"></div>
      <div class="background"></div>
      <md-focus-ring part="focus-ring" for="button" aria-hidden="true"><template shadowrootmode="open"><!----></template></md-focus-ring>
      <md-ripple part="ripple" for="button" aria-hidden="true"><template shadowrootmode="open"><!----><div class="surface   "></div></template></md-ripple>
      <!--?lit$109918125$--><button id="button" class="button" aria-label="Add text cell">
      <!--?lit$109918125$-->
      <span class="touch"></span>
      <!--?lit$109918125$--><slot name="icon"></slot>
      <span class="label"><slot></slot></span>
      <!--?lit$109918125$-->
    
    </button>
    </template>
          <md-icon slot="icon" aria-hidden="true"><template shadowrootmode="open"><!----><slot></slot></template>add</md-icon>
          <!--?lit$109918125$-->Text
        </md-outlined-button>
        <!--?lit$109918125$-->
      </div><hr>
    </div></div><div class="cell text" id="cell-s5vK8EMfbfs2" role="region" aria-label="Cell 10: Text cell: Load and embed the data" style="" tabindex="-1"><div class="cell-tag-editor sticky"></div><div class="cell-toolbar sticky"></div><div class="main-content" elevation="0"><div class="cell-contents"><div class="cell-mask"></div><span class="imported-info-area"></span><!----> <div class="toolbar-root"></div>
      <div class="editor-container horizontal">
        <div class="editor-root"></div>
        <div class="text-top-div">
          <div class="markdown"><span><div class="text-cell-section-header layout horizontal center"><md-icon-button class="header-section-toggle" title="Collapse 5 child cells under Load and embed the data (Press &lt;Shift&gt; to also collapse sibling sections)" data-aria-label="Collapse 5 child cells under Load and embed the data (Press &lt;Shift&gt; to also collapse sibling sections)" value=""><template shadowrootmode="open" shadowrootdelegatesfocus><!----><button id="button" class="icon-button  standard " aria-label="Collapse 5 child cells under Load and embed the data (Press &lt;Shift&gt; to also collapse sibling sections)">
        <!--?lit$109918125$--><md-focus-ring part="focus-ring" for="button" aria-hidden="true"><template shadowrootmode="open"><!----></template></md-focus-ring>
        <!--?lit$109918125$--><md-ripple aria-hidden="true"><template shadowrootmode="open"><!----><div class="surface   "></div></template></md-ripple>
        <!--?lit$109918125$--><span class="icon"><slot></slot></span>
        <!--?lit$109918125$-->
        <!--?lit$109918125$--><span class="touch"></span>
        <!--?lit$109918125$-->
  </button></template><md-icon aria-hidden="true"><template shadowrootmode="open"><!----><slot></slot></template>keyboard_arrow_down</md-icon></md-icon-button><h2>Load and embed the data</h2></div>
</span></div>
        </div>
      </div>

      <div class="section-header" style="display: none;">
        <colab-run-button role="button" aria-label="Run cell"><template shadowrootmode="open"><!----> <div class="cell-execution">
      <div class="execution-count"><!--?lit$109918125$-->[ ]</div>
      <div class="cell-execution-indicator"> <!--?lit$109918125$-->
<svg xmlns="http://www.w3.org/2000/svg" viewBox="0 0 24 24">
  <!--?lit$109918125$-->
  <mask id="playSymbolMask">
    <rect width="100%" height="100%" fill="white"></rect>
    <polygon points="10,8 17,12 10,16" fill="black"></polygon>
  </mask>
  <circle cx="12" cy="12" r="7.8" mask="url(#playSymbolMask)" id="filledCircle"></circle>
</svg> </div>
      <!--?lit$109918125$--><!--?-->
    </div></template></colab-run-button>
        <div class="section-header-container" title="click to expand">↳ 5 cells hidden</div>
      </div></div></div><div class="add-cell">
      <div class="add-cell-buttons">
        <md-outlined-button class="add-code add-button" data-aria-label="Add code cell
Ctrl+M B" title="Add code cell
Ctrl+M B" value="" has-icon=""><template shadowrootmode="open" shadowrootdelegatesfocus><!---->
      <!--?lit$109918125$--><div class="outline"></div>
      <div class="background"></div>
      <md-focus-ring part="focus-ring" for="button" aria-hidden="true"><template shadowrootmode="open"><!----></template></md-focus-ring>
      <md-ripple part="ripple" for="button" aria-hidden="true"><template shadowrootmode="open"><!----><div class="surface   "></div></template></md-ripple>
      <!--?lit$109918125$--><button id="button" class="button" aria-label="Add code cell
Ctrl+M B">
      <!--?lit$109918125$-->
      <span class="touch"></span>
      <!--?lit$109918125$--><slot name="icon"></slot>
      <span class="label"><slot></slot></span>
      <!--?lit$109918125$-->
    
    </button>
    </template>
          <md-icon slot="icon" aria-hidden="true"><template shadowrootmode="open"><!----><slot></slot></template>add</md-icon>
          <!--?lit$109918125$-->Code
        </md-outlined-button>
        <md-outlined-button class="add-text add-button" data-aria-label="Add text cell" title="Add text cell" value="" has-icon=""><template shadowrootmode="open" shadowrootdelegatesfocus><!---->
      <!--?lit$109918125$--><div class="outline"></div>
      <div class="background"></div>
      <md-focus-ring part="focus-ring" for="button" aria-hidden="true"><template shadowrootmode="open"><!----></template></md-focus-ring>
      <md-ripple part="ripple" for="button" aria-hidden="true"><template shadowrootmode="open"><!----><div class="surface   "></div></template></md-ripple>
      <!--?lit$109918125$--><button id="button" class="button" aria-label="Add text cell">
      <!--?lit$109918125$-->
      <span class="touch"></span>
      <!--?lit$109918125$--><slot name="icon"></slot>
      <span class="label"><slot></slot></span>
      <!--?lit$109918125$-->
    
    </button>
    </template>
          <md-icon slot="icon" aria-hidden="true"><template shadowrootmode="open"><!----><slot></slot></template>add</md-icon>
          <!--?lit$109918125$-->Text
        </md-outlined-button>
        <!--?lit$109918125$-->
      </div><hr>
    </div></div><div class="cell text" id="cell-aOXAMNAzigD7" role="region" aria-label="Cell 11: Text cell: " style="" tabindex="-1"><div class="cell-tag-editor sticky"></div><div class="cell-toolbar sticky"></div><div class="main-content" elevation="0"><div class="cell-contents"><div class="cell-mask"></div><span class="imported-info-area"></span><!----> <div class="toolbar-root"></div>
      <div class="editor-container horizontal">
        <div class="editor-root"></div>
        <div class="text-top-div">
          <div class="markdown"><span><p>Now we load the same data again (into a new table), but embed it directly with the <code>lancedb_adapter</code>. This consists of the following steps:</p>
<ol>
<li>Define the embedding model to use via ENV variables</li>
<li>Define a new pipeline to load the same data and embed the "text" and "question" columns with the <code>lancedb_adapter</code></li>
</ol>
<p>You can use any embedding model, from open source to OpenAI. We've chosen the <a href="https://www.google.com/url?q=https%3A%2F%2Fhuggingface.co%2Fsentence-transformers%2Fall-MiniLM-L6-v2" target="_blank" rel="nofollow" aria-label="all-MiniLM-L6-v2 Link will open in a new tab"><code>all-MiniLM-L6-v2</code></a> sentence transformer for speed and simplicty.</p>
<p>Note: this pipeline runs slightly longer because it has to download the model and embed the data.</p>
</span></div>
        </div>
      </div>

      <div class="section-header" style="display: none;">
        <colab-run-button role="button" aria-label="Run cell"><template shadowrootmode="open"><!----> <div class="cell-execution">
      <div class="execution-count"><!--?lit$109918125$-->[ ]</div>
      <div class="cell-execution-indicator"> <!--?lit$109918125$-->
<svg xmlns="http://www.w3.org/2000/svg" viewBox="0 0 24 24">
  <!--?lit$109918125$-->
  <mask id="playSymbolMask">
    <rect width="100%" height="100%" fill="white"></rect>
    <polygon points="10,8 17,12 10,16" fill="black"></polygon>
  </mask>
  <circle cx="12" cy="12" r="7.8" mask="url(#playSymbolMask)" id="filledCircle"></circle>
</svg> </div>
      <!--?lit$109918125$--><!--?-->
    </div></template></colab-run-button>
        <div class="section-header-container" title="click to expand">↳ 0 cells hidden</div>
      </div></div></div><div class="add-cell">
      <div class="add-cell-buttons">
        <md-outlined-button class="add-code add-button" data-aria-label="Add code cell
Ctrl+M B" title="Add code cell
Ctrl+M B" value="" has-icon=""><template shadowrootmode="open" shadowrootdelegatesfocus><!---->
      <!--?lit$109918125$--><div class="outline"></div>
      <div class="background"></div>
      <md-focus-ring part="focus-ring" for="button" aria-hidden="true"><template shadowrootmode="open"><!----></template></md-focus-ring>
      <md-ripple part="ripple" for="button" aria-hidden="true"><template shadowrootmode="open"><!----><div class="surface   "></div></template></md-ripple>
      <!--?lit$109918125$--><button id="button" class="button" aria-label="Add code cell
Ctrl+M B">
      <!--?lit$109918125$-->
      <span class="touch"></span>
      <!--?lit$109918125$--><slot name="icon"></slot>
      <span class="label"><slot></slot></span>
      <!--?lit$109918125$-->
    
    </button>
    </template>
          <md-icon slot="icon" aria-hidden="true"><template shadowrootmode="open"><!----><slot></slot></template>add</md-icon>
          <!--?lit$109918125$-->Code
        </md-outlined-button>
        <md-outlined-button class="add-text add-button" data-aria-label="Add text cell" title="Add text cell" value="" has-icon=""><template shadowrootmode="open" shadowrootdelegatesfocus><!---->
      <!--?lit$109918125$--><div class="outline"></div>
      <div class="background"></div>
      <md-focus-ring part="focus-ring" for="button" aria-hidden="true"><template shadowrootmode="open"><!----></template></md-focus-ring>
      <md-ripple part="ripple" for="button" aria-hidden="true"><template shadowrootmode="open"><!----><div class="surface   "></div></template></md-ripple>
      <!--?lit$109918125$--><button id="button" class="button" aria-label="Add text cell">
      <!--?lit$109918125$-->
      <span class="touch"></span>
      <!--?lit$109918125$--><slot name="icon"></slot>
      <span class="label"><slot></slot></span>
      <!--?lit$109918125$-->
    
    </button>
    </template>
          <md-icon slot="icon" aria-hidden="true"><template shadowrootmode="open"><!----><slot></slot></template>add</md-icon>
          <!--?lit$109918125$-->Text
        </md-outlined-button>
        <!--?lit$109918125$-->
      </div><hr>
    </div></div><div class="cell code icon-scrolling code-has-output" id="cell-zpqhOpmrS45-" role="region" aria-label="Cell 12: Code cell: " style="" tabindex="-1"><div class="cell-tag-editor sticky"></div><div class="cell-toolbar sticky"></div><div class="main-content" elevation="0"><div class="cell-contents"><div class="cell-mask"></div><span class="imported-info-area"></span><div class="codecell-input-output">
      <div class="inputarea horizontal layout code">
        <div class="cell-gutter">
          <!-- Bounding range for vertical scrolling of icons -->
          <div class="cell-execution-container">
            <colab-run-button title="Run cell (Ctrl+Enter)
cell has not been executed in this session

executed by Venkatesh Moturi
11:47 (25 minutes ago)
executed in 30.521 s" role="button" aria-label="Run cell"><template shadowrootmode="open"><!----> <div class="cell-execution stale">
      <div class="execution-count"><!--?lit$109918125$-->[ ]</div>
      <div class="cell-execution-indicator"> <!--?lit$109918125$-->
<svg xmlns="http://www.w3.org/2000/svg" viewBox="0 0 24 24">
  <!--?lit$109918125$-->
  <mask id="playSymbolMask">
    <rect width="100%" height="100%" fill="white"></rect>
    <polygon points="10,8 17,12 10,16" fill="black"></polygon>
  </mask>
  <circle cx="12" cy="12" r="7.8" mask="url(#playSymbolMask)" id="filledCircle"></circle>
</svg> </div>
      <!--?lit$109918125$--><!--?-->
    </div></template></colab-run-button>
          </div>
        </div>
      <div class="editor flex lazy-editor" style=""><pre class="lazy-virtualized" style="font-size: 14px; line-height: 19px;"><pre class="lazy-gutter"></pre><pre class="monaco-colorized colab-dark colab-dark colab-dark colab-dark colab-dark colab-dark" data-lang="notebook-python"><span><span class="mtk18">import</span><span class="mtk1">&nbsp;os</span></span><br><span><span class="mtk18">from</span><span class="mtk1">&nbsp;dlt.destinations.adapters&nbsp;</span><span class="mtk18">import</span><span class="mtk1">&nbsp;lancedb_adapter</span></span><br><span><span></span></span><br><span><span class="mtk1">os.environ</span><span class="mtk12">[</span><span class="mtk5">"DESTINATION__LANCEDB__EMBEDDING_MODEL_PROVIDER"</span><span class="mtk12">]</span><span class="mtk1">&nbsp;=&nbsp;</span><span class="mtk5">"sentence-transformers"</span></span><br><span><span class="mtk1">os.environ</span><span class="mtk12">[</span><span class="mtk5">"DESTINATION__LANCEDB__EMBEDDING_MODEL"</span><span class="mtk12">]</span><span class="mtk1">&nbsp;=&nbsp;</span><span class="mtk5">"all-MiniLM-L6-v2"</span></span><br><span><span></span></span><br><span><span class="mtk1">pipeline&nbsp;=&nbsp;dlt.pipeline</span><span class="mtk12">(</span><span class="mtk1">pipeline_name=</span><span class="mtk5">"from_json_embedded"</span><span class="mtk12">,</span><span class="mtk1">&nbsp;destination=</span><span class="mtk5">"lancedb"</span><span class="mtk12">,</span><span class="mtk1">&nbsp;dataset_name=</span><span class="mtk5">"qanda_embedded"</span><span class="mtk12">)</span></span><br><span><span></span></span><br><span><span class="mtk1">load_info&nbsp;=&nbsp;pipeline.run</span><span class="mtk12">(</span><span class="mtk1">lancedb_adapter</span><span class="mtk12">(</span><span class="mtk1">qa_documents</span><span class="mtk12">,</span><span class="mtk1">&nbsp;embed=</span><span class="mtk12">[</span><span class="mtk5">"text"</span><span class="mtk12">,</span><span class="mtk1">&nbsp;</span><span class="mtk5">"question"</span><span class="mtk12">]),</span><span class="mtk1">&nbsp;table_name=</span><span class="mtk5">"documents"</span><span class="mtk12">)</span></span><br><span><span class="mtk15">print</span><span class="mtk12">(</span><span class="mtk1">load_info</span><span class="mtk12">)</span></span><br></pre><colab-read-only-cell-placeholder style="display: none;"><template shadowrootmode="open"><!----><div><!--?lit$109918125$-->Start coding or <span role="button" class="link" tabindex="0">generate</span> with AI.</div></template></colab-read-only-cell-placeholder></pre></div><colab-form class="formview vertical layout flex"><div class="widget-area vertical layout"></div></colab-form></div>
    <div class="output" aria-label="Cell 12 output" role="region"><!----> <div class="output-header"> </div>
        <div class="output-content">
          <div class="output-info"><colab-output-info title="Clear output

executed by Venkatesh Moturi
11:47 (0 minutes ago)
executed in 30.521 s"><template shadowrootmode="open"><!----><md-icon-button title="Code cell output actions" data-aria-label="Code cell output actions" value=""><template shadowrootmode="open" shadowrootdelegatesfocus><!----><button id="button" class="icon-button  standard " aria-label="Code cell output actions">
        <!--?lit$109918125$--><md-focus-ring part="focus-ring" for="button" aria-hidden="true"><template shadowrootmode="open"><!----></template></md-focus-ring>
        <!--?lit$109918125$--><md-ripple aria-hidden="true"><template shadowrootmode="open"><!----><div class="surface   "></div></template></md-ripple>
        <!--?lit$109918125$--><span class="icon"><slot></slot></span>
        <!--?lit$109918125$-->
        <!--?lit$109918125$--><span class="touch"></span>
        <!--?lit$109918125$-->
  </button></template>
        <md-icon aria-hidden="true"><template shadowrootmode="open"><!----><slot></slot></template><!--?lit$109918125$--><svg viewBox="0 0 24 24"><!--?lit$109918125$--><path d="m15.9 3.07c-4.32 0.0742-8.64-0.0355-13 0.0568-1.37 0.307-1.74 2.1-1.41 3.26 0.469 0.606 1.86 0.384 1.66-0.525 0.0448-0.329-0.183-0.93 0.354-0.766h13.3v1.53h1.71c0.0709-1.13 0.141-2.62-0.968-3.3-0.511-0.264-1.11-0.252-1.67-0.259zm2.94 6.84v4.87c1.62-1.62 3.24-3.24 4.87-4.87h-4.87zm0 0h-1.71v3.43l1.57 1.57c0.32-1.65 0.0556-3.34 0.135-5zm-1.71 3.43v-3.43h-3.43c1.14 1.14 2.29 2.29 3.43 3.43zm1.4 4.27h-1.71v1.48h-13.6v-1.48h-1.71c-0.0473 1.15-0.16 2.72 1.09 3.29 1.47 0.506 3.02 0.0265 4.53 0.192 3.34-0.0051 6.68 0.0336 10-0.0245 1.49-0.366 1.56-2.22 1.42-3.45zm-10.1-1.12c-0.398-0.483-0.796-0.967-1.19-1.45 0.59-0.683 1.18-1.37 1.77-2.05h-8.67v-2h8.67c-0.59-0.683-1.18-1.37-1.77-2.05 0.398-0.483 0.796-0.967 1.19-1.45 1.28 1.5 2.56 3 3.84 4.5-1.28 1.5-2.56 3-3.84 4.5z"></path></svg></md-icon>
      </md-icon-button></template></colab-output-info></div>
          <div class="output-iframe-container">
            <div class="output-iframe-sizer" style="min-height: 0px;"> <div><div class="outputview" style="height: 719px;"><colab-dom-lifecycle-events style="display: none;"></colab-dom-lifecycle-events><iframe allow="accelerometer; autoplay; gyroscope; magnetometer; xr-spatial-tracking; clipboard-write; camera; microphone; serial; usb" sandbox="allow-downloads allow-forms allow-pointer-lock allow-popups allow-same-origin allow-scripts allow-storage-access-by-user-activation allow-modals allow-popups-to-escape-sandbox" src="./LLM_zoomcamp_RAG_files/outputframe(1).html" class="" style="height: 719px;"></iframe></div></div></div>
          </div>
        </div></div></div><colab-cell-next-steps><template shadowrootmode="open"><!----></template></colab-cell-next-steps></div></div><div class="add-cell">
      <div class="add-cell-buttons">
        <md-outlined-button class="add-code add-button" data-aria-label="Add code cell
Ctrl+M B" title="Add code cell
Ctrl+M B" value="" has-icon=""><template shadowrootmode="open" shadowrootdelegatesfocus><!---->
      <!--?lit$109918125$--><div class="outline"></div>
      <div class="background"></div>
      <md-focus-ring part="focus-ring" for="button" aria-hidden="true"><template shadowrootmode="open"><!----></template></md-focus-ring>
      <md-ripple part="ripple" for="button" aria-hidden="true"><template shadowrootmode="open"><!----><div class="surface   "></div></template></md-ripple>
      <!--?lit$109918125$--><button id="button" class="button" aria-label="Add code cell
Ctrl+M B">
      <!--?lit$109918125$-->
      <span class="touch"></span>
      <!--?lit$109918125$--><slot name="icon"></slot>
      <span class="label"><slot></slot></span>
      <!--?lit$109918125$-->
    
    </button>
    </template>
          <md-icon slot="icon" aria-hidden="true"><template shadowrootmode="open"><!----><slot></slot></template>add</md-icon>
          <!--?lit$109918125$-->Code
        </md-outlined-button>
        <md-outlined-button class="add-text add-button" data-aria-label="Add text cell" title="Add text cell" value="" has-icon=""><template shadowrootmode="open" shadowrootdelegatesfocus><!---->
      <!--?lit$109918125$--><div class="outline"></div>
      <div class="background"></div>
      <md-focus-ring part="focus-ring" for="button" aria-hidden="true"><template shadowrootmode="open"><!----></template></md-focus-ring>
      <md-ripple part="ripple" for="button" aria-hidden="true"><template shadowrootmode="open"><!----><div class="surface   "></div></template></md-ripple>
      <!--?lit$109918125$--><button id="button" class="button" aria-label="Add text cell">
      <!--?lit$109918125$-->
      <span class="touch"></span>
      <!--?lit$109918125$--><slot name="icon"></slot>
      <span class="label"><slot></slot></span>
      <!--?lit$109918125$-->
    
    </button>
    </template>
          <md-icon slot="icon" aria-hidden="true"><template shadowrootmode="open"><!----><slot></slot></template>add</md-icon>
          <!--?lit$109918125$-->Text
        </md-outlined-button>
        <!--?lit$109918125$-->
      </div><hr>
    </div></div><div class="cell code icon-scrolling code-has-output" id="cell-BnOvwU8kTBCL" role="region" aria-label="Cell 13: Code cell: " style="" tabindex="-1"><div class="cell-tag-editor sticky"></div><div class="cell-toolbar sticky"></div><div class="main-content" elevation="0"><div class="cell-contents"><div class="cell-mask"></div><span class="imported-info-area"></span><div class="codecell-input-output">
      <div class="inputarea horizontal layout code">
        <div class="cell-gutter">
          <!-- Bounding range for vertical scrolling of icons -->
          <div class="cell-execution-container">
            <colab-run-button title="Run cell (Ctrl+Enter)
cell has not been executed in this session

executed by Venkatesh Moturi
11:48 (24 minutes ago)
executed in 0.792 s" role="button" aria-label="Run cell"><template shadowrootmode="open"><!----> <div class="cell-execution stale">
      <div class="execution-count"><!--?lit$109918125$-->[ ]</div>
      <div class="cell-execution-indicator"> <!--?lit$109918125$-->
<svg xmlns="http://www.w3.org/2000/svg" viewBox="0 0 24 24">
  <!--?lit$109918125$-->
  <mask id="playSymbolMask">
    <rect width="100%" height="100%" fill="white"></rect>
    <polygon points="10,8 17,12 10,16" fill="black"></polygon>
  </mask>
  <circle cx="12" cy="12" r="7.8" mask="url(#playSymbolMask)" id="filledCircle"></circle>
</svg> </div>
      <!--?lit$109918125$--><!--?-->
    </div></template></colab-run-button>
          </div>
        </div>
      <div class="editor flex lazy-editor" style=""><pre class="lazy-virtualized" style="font-size: 14px; line-height: 19px;"><pre class="lazy-gutter"></pre><pre class="monaco-colorized colab-dark colab-dark colab-dark colab-dark colab-dark" data-lang="notebook-python"><span><span class="mtk1">db&nbsp;=&nbsp;lancedb.connect</span><span class="mtk12">(</span><span class="mtk5">"./.lancedb"</span><span class="mtk12">)</span></span><br><span><span class="mtk15">print</span><span class="mtk12">(</span><span class="mtk1">db.table_names</span><span class="mtk12">())</span></span><br></pre><colab-read-only-cell-placeholder style="display: none;"><template shadowrootmode="open"><!----><div><!--?lit$109918125$-->Start coding or <span role="button" class="link" tabindex="0">generate</span> with AI.</div></template></colab-read-only-cell-placeholder></pre></div><colab-form class="formview vertical layout flex"><div class="widget-area vertical layout"></div></colab-form></div>
    <div class="output" aria-label="Cell 13 output" role="region"><!----> <div class="output-header"> </div>
        <div class="output-content">
          <div class="output-info"><colab-output-info title="Clear output

executed by Venkatesh Moturi
11:48 (0 minutes ago)
executed in 0.792 s"><template shadowrootmode="open"><!----><md-icon-button title="Code cell output actions" data-aria-label="Code cell output actions" value=""><template shadowrootmode="open" shadowrootdelegatesfocus><!----><button id="button" class="icon-button  standard " aria-label="Code cell output actions">
        <!--?lit$109918125$--><md-focus-ring part="focus-ring" for="button" aria-hidden="true"><template shadowrootmode="open"><!----></template></md-focus-ring>
        <!--?lit$109918125$--><md-ripple aria-hidden="true"><template shadowrootmode="open"><!----><div class="surface   "></div></template></md-ripple>
        <!--?lit$109918125$--><span class="icon"><slot></slot></span>
        <!--?lit$109918125$-->
        <!--?lit$109918125$--><span class="touch"></span>
        <!--?lit$109918125$-->
  </button></template>
        <md-icon aria-hidden="true"><template shadowrootmode="open"><!----><slot></slot></template><!--?lit$109918125$--><svg viewBox="0 0 24 24"><!--?lit$109918125$--><path d="m15.9 3.07c-4.32 0.0742-8.64-0.0355-13 0.0568-1.37 0.307-1.74 2.1-1.41 3.26 0.469 0.606 1.86 0.384 1.66-0.525 0.0448-0.329-0.183-0.93 0.354-0.766h13.3v1.53h1.71c0.0709-1.13 0.141-2.62-0.968-3.3-0.511-0.264-1.11-0.252-1.67-0.259zm2.94 6.84v4.87c1.62-1.62 3.24-3.24 4.87-4.87h-4.87zm0 0h-1.71v3.43l1.57 1.57c0.32-1.65 0.0556-3.34 0.135-5zm-1.71 3.43v-3.43h-3.43c1.14 1.14 2.29 2.29 3.43 3.43zm1.4 4.27h-1.71v1.48h-13.6v-1.48h-1.71c-0.0473 1.15-0.16 2.72 1.09 3.29 1.47 0.506 3.02 0.0265 4.53 0.192 3.34-0.0051 6.68 0.0336 10-0.0245 1.49-0.366 1.56-2.22 1.42-3.45zm-10.1-1.12c-0.398-0.483-0.796-0.967-1.19-1.45 0.59-0.683 1.18-1.37 1.77-2.05h-8.67v-2h8.67c-0.59-0.683-1.18-1.37-1.77-2.05 0.398-0.483 0.796-0.967 1.19-1.45 1.28 1.5 2.56 3 3.84 4.5-1.28 1.5-2.56 3-3.84 4.5z"></path></svg></md-icon>
      </md-icon-button></template></colab-output-info></div>
          <div class="output-iframe-container">
            <div class="output-iframe-sizer" style="min-height: 0px;"> <div><div><colab-static-output-renderer role="group" tabindex="0"><div><div class="stream output-id-1 output_text"><pre>['qanda____dlt_loads', 'qanda____dlt_pipeline_state', 'qanda____dlt_version', 'qanda___dltSentinelTable', 'qanda___documents', 'qanda_embedded____dlt_loads', 'qanda_embedded____dlt_pipeline_state', 'qanda_embedded____dlt_version', 'qanda_embedded___dltSentinelTable', 'qanda_embedded___documents']
</pre></div></div><div></div></colab-static-output-renderer></div></div></div>
          </div>
        </div></div></div><colab-cell-next-steps><template shadowrootmode="open"><!----></template></colab-cell-next-steps></div></div><div class="add-cell">
      <div class="add-cell-buttons">
        <md-outlined-button class="add-code add-button" data-aria-label="Add code cell
Ctrl+M B" title="Add code cell
Ctrl+M B" value="" has-icon=""><template shadowrootmode="open" shadowrootdelegatesfocus><!---->
      <!--?lit$109918125$--><div class="outline"></div>
      <div class="background"></div>
      <md-focus-ring part="focus-ring" for="button" aria-hidden="true"><template shadowrootmode="open"><!----></template></md-focus-ring>
      <md-ripple part="ripple" for="button" aria-hidden="true"><template shadowrootmode="open"><!----><div class="surface   "></div></template></md-ripple>
      <!--?lit$109918125$--><button id="button" class="button" aria-label="Add code cell
Ctrl+M B">
      <!--?lit$109918125$-->
      <span class="touch"></span>
      <!--?lit$109918125$--><slot name="icon"></slot>
      <span class="label"><slot></slot></span>
      <!--?lit$109918125$-->
    
    </button>
    </template>
          <md-icon slot="icon" aria-hidden="true"><template shadowrootmode="open"><!----><slot></slot></template>add</md-icon>
          <!--?lit$109918125$-->Code
        </md-outlined-button>
        <md-outlined-button class="add-text add-button" data-aria-label="Add text cell" title="Add text cell" value="" has-icon=""><template shadowrootmode="open" shadowrootdelegatesfocus><!---->
      <!--?lit$109918125$--><div class="outline"></div>
      <div class="background"></div>
      <md-focus-ring part="focus-ring" for="button" aria-hidden="true"><template shadowrootmode="open"><!----></template></md-focus-ring>
      <md-ripple part="ripple" for="button" aria-hidden="true"><template shadowrootmode="open"><!----><div class="surface   "></div></template></md-ripple>
      <!--?lit$109918125$--><button id="button" class="button" aria-label="Add text cell">
      <!--?lit$109918125$-->
      <span class="touch"></span>
      <!--?lit$109918125$--><slot name="icon"></slot>
      <span class="label"><slot></slot></span>
      <!--?lit$109918125$-->
    
    </button>
    </template>
          <md-icon slot="icon" aria-hidden="true"><template shadowrootmode="open"><!----><slot></slot></template>add</md-icon>
          <!--?lit$109918125$-->Text
        </md-outlined-button>
        <!--?lit$109918125$-->
      </div><hr>
    </div></div><div class="cell code icon-scrolling code-has-output" id="cell-lp4C-2h4THdK" role="region" aria-label="Cell 14: Code cell: " style="" tabindex="-1"><div class="cell-tag-editor sticky"></div><div class="cell-toolbar sticky"></div><div class="main-content" elevation="0"><div class="cell-contents"><div class="cell-mask"></div><span class="imported-info-area"></span><div class="codecell-input-output">
      <div class="inputarea horizontal layout code">
        <div class="cell-gutter">
          <!-- Bounding range for vertical scrolling of icons -->
          <div class="cell-execution-container">
            <colab-run-button title="Run cell (Ctrl+Enter)
cell has not been executed in this session

executed by Venkatesh Moturi
11:48 (24 minutes ago)
executed in 0.004 s" role="button" aria-label="Run cell"><template shadowrootmode="open"><!----> <div class="cell-execution stale">
      <div class="execution-count"><!--?lit$109918125$-->[ ]</div>
      <div class="cell-execution-indicator"> <!--?lit$109918125$-->
<svg xmlns="http://www.w3.org/2000/svg" viewBox="0 0 24 24">
  <!--?lit$109918125$-->
  <mask id="playSymbolMask">
    <rect width="100%" height="100%" fill="white"></rect>
    <polygon points="10,8 17,12 10,16" fill="black"></polygon>
  </mask>
  <circle cx="12" cy="12" r="7.8" mask="url(#playSymbolMask)" id="filledCircle"></circle>
</svg> </div>
      <!--?lit$109918125$--><!--?-->
    </div></template></colab-run-button>
          </div>
        </div>
      <div class="editor flex lazy-editor" style=""><pre class="lazy-virtualized" style="font-size: 14px; line-height: 19px;"><pre class="lazy-gutter"></pre><pre class="monaco-colorized colab-dark colab-dark colab-dark colab-dark colab-dark colab-dark colab-dark" data-lang="notebook-python"><span><span class="mtk1">db_table&nbsp;=&nbsp;db.open_table</span><span class="mtk12">(</span><span class="mtk5">"qanda_embedded___documents"</span><span class="mtk12">)</span></span><br><span><span></span></span><br><span><span class="mtk1">db_table.to_pandas</span><span class="mtk12">()</span></span><br></pre><colab-read-only-cell-placeholder style="display: none;"><template shadowrootmode="open"><!----><div><!--?lit$109918125$-->Start coding or <span role="button" class="link" tabindex="0">generate</span> with AI.</div></template></colab-read-only-cell-placeholder></pre></div><colab-form class="formview vertical layout flex"><div class="widget-area vertical layout"></div></colab-form></div>
    <div class="output" aria-label="Cell 14 output" role="region"><!----> <div class="output-header"> </div>
        <div class="output-content">
          <div class="output-info"><colab-output-info title="Clear output

executed by Venkatesh Moturi
11:48 (0 minutes ago)
executed in 0.004 s"><template shadowrootmode="open"><!----><md-icon-button title="Code cell output actions" data-aria-label="Code cell output actions" value=""><template shadowrootmode="open" shadowrootdelegatesfocus><!----><button id="button" class="icon-button  standard " aria-label="Code cell output actions">
        <!--?lit$109918125$--><md-focus-ring part="focus-ring" for="button" aria-hidden="true"><template shadowrootmode="open"><!----></template></md-focus-ring>
        <!--?lit$109918125$--><md-ripple aria-hidden="true"><template shadowrootmode="open"><!----><div class="surface   "></div></template></md-ripple>
        <!--?lit$109918125$--><span class="icon"><slot></slot></span>
        <!--?lit$109918125$-->
        <!--?lit$109918125$--><span class="touch"></span>
        <!--?lit$109918125$-->
  </button></template>
        <md-icon aria-hidden="true"><template shadowrootmode="open"><!----><slot></slot></template><!--?lit$109918125$--><svg viewBox="0 0 24 24"><!--?lit$109918125$--><path d="m15.9 3.07c-4.32 0.0742-8.64-0.0355-13 0.0568-1.37 0.307-1.74 2.1-1.41 3.26 0.469 0.606 1.86 0.384 1.66-0.525 0.0448-0.329-0.183-0.93 0.354-0.766h13.3v1.53h1.71c0.0709-1.13 0.141-2.62-0.968-3.3-0.511-0.264-1.11-0.252-1.67-0.259zm2.94 6.84v4.87c1.62-1.62 3.24-3.24 4.87-4.87h-4.87zm0 0h-1.71v3.43l1.57 1.57c0.32-1.65 0.0556-3.34 0.135-5zm-1.71 3.43v-3.43h-3.43c1.14 1.14 2.29 2.29 3.43 3.43zm1.4 4.27h-1.71v1.48h-13.6v-1.48h-1.71c-0.0473 1.15-0.16 2.72 1.09 3.29 1.47 0.506 3.02 0.0265 4.53 0.192 3.34-0.0051 6.68 0.0336 10-0.0245 1.49-0.366 1.56-2.22 1.42-3.45zm-10.1-1.12c-0.398-0.483-0.796-0.967-1.19-1.45 0.59-0.683 1.18-1.37 1.77-2.05h-8.67v-2h8.67c-0.59-0.683-1.18-1.37-1.77-2.05 0.398-0.483 0.796-0.967 1.19-1.45 1.28 1.5 2.56 3 3.84 4.5-1.28 1.5-2.56 3-3.84 4.5z"></path></svg></md-icon>
      </md-icon-button></template></colab-output-info></div>
          <div class="output-iframe-container">
            <div class="output-iframe-sizer" style="min-height: 0px;"> <div><div class="outputview" style="height: 1000px;"><colab-dom-lifecycle-events style="display: none;"></colab-dom-lifecycle-events><iframe allow="accelerometer; autoplay; gyroscope; magnetometer; xr-spatial-tracking; clipboard-write; camera; microphone; serial; usb" sandbox="allow-downloads allow-forms allow-pointer-lock allow-popups allow-same-origin allow-scripts allow-storage-access-by-user-activation allow-modals allow-popups-to-escape-sandbox" src="./LLM_zoomcamp_RAG_files/outputframe(2).html" class="" style="height: 1000px;"></iframe></div></div></div>
          </div>
        </div></div></div><colab-cell-next-steps><template shadowrootmode="open"><!----></template></colab-cell-next-steps></div></div><div class="add-cell">
      <div class="add-cell-buttons">
        <md-outlined-button class="add-code add-button" data-aria-label="Add code cell
Ctrl+M B" title="Add code cell
Ctrl+M B" value="" has-icon=""><template shadowrootmode="open" shadowrootdelegatesfocus><!---->
      <!--?lit$109918125$--><div class="outline"></div>
      <div class="background"></div>
      <md-focus-ring part="focus-ring" for="button" aria-hidden="true"><template shadowrootmode="open"><!----></template></md-focus-ring>
      <md-ripple part="ripple" for="button" aria-hidden="true"><template shadowrootmode="open"><!----><div class="surface   "></div></template></md-ripple>
      <!--?lit$109918125$--><button id="button" class="button" aria-label="Add code cell
Ctrl+M B">
      <!--?lit$109918125$-->
      <span class="touch"></span>
      <!--?lit$109918125$--><slot name="icon"></slot>
      <span class="label"><slot></slot></span>
      <!--?lit$109918125$-->
    
    </button>
    </template>
          <md-icon slot="icon" aria-hidden="true"><template shadowrootmode="open"><!----><slot></slot></template>add</md-icon>
          <!--?lit$109918125$-->Code
        </md-outlined-button>
        <md-outlined-button class="add-text add-button" data-aria-label="Add text cell" title="Add text cell" value="" has-icon=""><template shadowrootmode="open" shadowrootdelegatesfocus><!---->
      <!--?lit$109918125$--><div class="outline"></div>
      <div class="background"></div>
      <md-focus-ring part="focus-ring" for="button" aria-hidden="true"><template shadowrootmode="open"><!----></template></md-focus-ring>
      <md-ripple part="ripple" for="button" aria-hidden="true"><template shadowrootmode="open"><!----><div class="surface   "></div></template></md-ripple>
      <!--?lit$109918125$--><button id="button" class="button" aria-label="Add text cell">
      <!--?lit$109918125$-->
      <span class="touch"></span>
      <!--?lit$109918125$--><slot name="icon"></slot>
      <span class="label"><slot></slot></span>
      <!--?lit$109918125$-->
    
    </button>
    </template>
          <md-icon slot="icon" aria-hidden="true"><template shadowrootmode="open"><!----><slot></slot></template>add</md-icon>
          <!--?lit$109918125$-->Text
        </md-outlined-button>
        <!--?lit$109918125$-->
      </div><hr>
    </div></div><div class="cell text" id="cell-L4yyirj_kI7h" role="region" aria-label="Cell 15: Text cell: " style="" tabindex="-1"><div class="cell-tag-editor sticky"></div><div class="cell-toolbar sticky"></div><div class="main-content" elevation="0"><div class="cell-contents"><div class="cell-mask"></div><span class="imported-info-area"></span><!----> <div class="toolbar-root"></div>
      <div class="editor-container horizontal">
        <div class="editor-root"></div>
        <div class="text-top-div">
          <div class="markdown"><span><p>That's all for this intro example! The DB could now be used as a basis for a RAG.</p>
</span></div>
        </div>
      </div>

      <div class="section-header" style="display: none;">
        <colab-run-button role="button" aria-label="Run cell"><template shadowrootmode="open"><!----> <div class="cell-execution">
      <div class="execution-count"><!--?lit$109918125$-->[ ]</div>
      <div class="cell-execution-indicator"> <!--?lit$109918125$-->
<svg xmlns="http://www.w3.org/2000/svg" viewBox="0 0 24 24">
  <!--?lit$109918125$-->
  <mask id="playSymbolMask">
    <rect width="100%" height="100%" fill="white"></rect>
    <polygon points="10,8 17,12 10,16" fill="black"></polygon>
  </mask>
  <circle cx="12" cy="12" r="7.8" mask="url(#playSymbolMask)" id="filledCircle"></circle>
</svg> </div>
      <!--?lit$109918125$--><!--?-->
    </div></template></colab-run-button>
        <div class="section-header-container" title="click to expand">↳ 0 cells hidden</div>
      </div></div></div><div class="add-cell">
      <div class="add-cell-buttons">
        <md-outlined-button class="add-code add-button" data-aria-label="Add code cell
Ctrl+M B" title="Add code cell
Ctrl+M B" value="" has-icon=""><template shadowrootmode="open" shadowrootdelegatesfocus><!---->
      <!--?lit$109918125$--><div class="outline"></div>
      <div class="background"></div>
      <md-focus-ring part="focus-ring" for="button" aria-hidden="true"><template shadowrootmode="open"><!----></template></md-focus-ring>
      <md-ripple part="ripple" for="button" aria-hidden="true"><template shadowrootmode="open"><!----><div class="surface   "></div></template></md-ripple>
      <!--?lit$109918125$--><button id="button" class="button" aria-label="Add code cell
Ctrl+M B">
      <!--?lit$109918125$-->
      <span class="touch"></span>
      <!--?lit$109918125$--><slot name="icon"></slot>
      <span class="label"><slot></slot></span>
      <!--?lit$109918125$-->
    
    </button>
    </template>
          <md-icon slot="icon" aria-hidden="true"><template shadowrootmode="open"><!----><slot></slot></template>add</md-icon>
          <!--?lit$109918125$-->Code
        </md-outlined-button>
        <md-outlined-button class="add-text add-button" data-aria-label="Add text cell" title="Add text cell" value="" has-icon=""><template shadowrootmode="open" shadowrootdelegatesfocus><!---->
      <!--?lit$109918125$--><div class="outline"></div>
      <div class="background"></div>
      <md-focus-ring part="focus-ring" for="button" aria-hidden="true"><template shadowrootmode="open"><!----></template></md-focus-ring>
      <md-ripple part="ripple" for="button" aria-hidden="true"><template shadowrootmode="open"><!----><div class="surface   "></div></template></md-ripple>
      <!--?lit$109918125$--><button id="button" class="button" aria-label="Add text cell">
      <!--?lit$109918125$-->
      <span class="touch"></span>
      <!--?lit$109918125$--><slot name="icon"></slot>
      <span class="label"><slot></slot></span>
      <!--?lit$109918125$-->
    
    </button>
    </template>
          <md-icon slot="icon" aria-hidden="true"><template shadowrootmode="open"><!----><slot></slot></template>add</md-icon>
          <!--?lit$109918125$-->Text
        </md-outlined-button>
        <!--?lit$109918125$-->
      </div><hr>
    </div></div><div class="cell text" id="cell--OEpbMGNZexo" role="region" aria-label="Cell 16: Text cell: Create an up-to-date RAG with dlt and LanceDB" style="" tabindex="-1"><div class="cell-tag-editor sticky"></div><div class="cell-toolbar sticky"></div><div class="main-content" elevation="0"><div class="cell-contents"><div class="cell-mask"></div><span class="imported-info-area"></span><!----> <div class="toolbar-root"></div>
      <div class="editor-container horizontal">
        <div class="editor-root"></div>
        <div class="text-top-div">
          <div class="markdown"><span><div class="text-cell-section-header layout horizontal center"><md-icon-button class="header-section-toggle" title="Collapse 52 child cells under Create an up-to-date RAG with dlt and LanceDB (Press &lt;Shift&gt; to also collapse sibling sections)" data-aria-label="Collapse 52 child cells under Create an up-to-date RAG with dlt and LanceDB (Press &lt;Shift&gt; to also collapse sibling sections)" value=""><template shadowrootmode="open" shadowrootdelegatesfocus><!----><button id="button" class="icon-button  standard " aria-label="Collapse 52 child cells under Create an up-to-date RAG with dlt and LanceDB (Press &lt;Shift&gt; to also collapse sibling sections)">
        <!--?lit$109918125$--><md-focus-ring part="focus-ring" for="button" aria-hidden="true"><template shadowrootmode="open"><!----></template></md-focus-ring>
        <!--?lit$109918125$--><md-ripple aria-hidden="true"><template shadowrootmode="open"><!----><div class="surface   "></div></template></md-ripple>
        <!--?lit$109918125$--><span class="icon"><slot></slot></span>
        <!--?lit$109918125$-->
        <!--?lit$109918125$--><span class="touch"></span>
        <!--?lit$109918125$-->
  </button></template><md-icon aria-hidden="true"><template shadowrootmode="open"><!----><slot></slot></template>keyboard_arrow_down</md-icon></md-icon-button><h1>Create an up-to-date RAG with dlt and LanceDB</h1></div>
</span></div>
        </div>
      </div>

      <div class="section-header" style="display: none;">
        <colab-run-button role="button" aria-label="Run cell"><template shadowrootmode="open"><!----> <div class="cell-execution">
      <div class="execution-count"><!--?lit$109918125$-->[ ]</div>
      <div class="cell-execution-indicator"> <!--?lit$109918125$-->
<svg xmlns="http://www.w3.org/2000/svg" viewBox="0 0 24 24">
  <!--?lit$109918125$-->
  <mask id="playSymbolMask">
    <rect width="100%" height="100%" fill="white"></rect>
    <polygon points="10,8 17,12 10,16" fill="black"></polygon>
  </mask>
  <circle cx="12" cy="12" r="7.8" mask="url(#playSymbolMask)" id="filledCircle"></circle>
</svg> </div>
      <!--?lit$109918125$--><!--?-->
    </div></template></colab-run-button>
        <div class="section-header-container" title="click to expand">↳ 52 cells hidden</div>
      </div></div></div><div class="add-cell">
      <div class="add-cell-buttons">
        <md-outlined-button class="add-code add-button" data-aria-label="Add code cell
Ctrl+M B" title="Add code cell
Ctrl+M B" value="" has-icon=""><template shadowrootmode="open" shadowrootdelegatesfocus><!---->
      <!--?lit$109918125$--><div class="outline"></div>
      <div class="background"></div>
      <md-focus-ring part="focus-ring" for="button" aria-hidden="true"><template shadowrootmode="open"><!----></template></md-focus-ring>
      <md-ripple part="ripple" for="button" aria-hidden="true"><template shadowrootmode="open"><!----><div class="surface   "></div></template></md-ripple>
      <!--?lit$109918125$--><button id="button" class="button" aria-label="Add code cell
Ctrl+M B">
      <!--?lit$109918125$-->
      <span class="touch"></span>
      <!--?lit$109918125$--><slot name="icon"></slot>
      <span class="label"><slot></slot></span>
      <!--?lit$109918125$-->
    
    </button>
    </template>
          <md-icon slot="icon" aria-hidden="true"><template shadowrootmode="open"><!----><slot></slot></template>add</md-icon>
          <!--?lit$109918125$-->Code
        </md-outlined-button>
        <md-outlined-button class="add-text add-button" data-aria-label="Add text cell" title="Add text cell" value="" has-icon=""><template shadowrootmode="open" shadowrootdelegatesfocus><!---->
      <!--?lit$109918125$--><div class="outline"></div>
      <div class="background"></div>
      <md-focus-ring part="focus-ring" for="button" aria-hidden="true"><template shadowrootmode="open"><!----></template></md-focus-ring>
      <md-ripple part="ripple" for="button" aria-hidden="true"><template shadowrootmode="open"><!----><div class="surface   "></div></template></md-ripple>
      <!--?lit$109918125$--><button id="button" class="button" aria-label="Add text cell">
      <!--?lit$109918125$-->
      <span class="touch"></span>
      <!--?lit$109918125$--><slot name="icon"></slot>
      <span class="label"><slot></slot></span>
      <!--?lit$109918125$-->
    
    </button>
    </template>
          <md-icon slot="icon" aria-hidden="true"><template shadowrootmode="open"><!----><slot></slot></template>add</md-icon>
          <!--?lit$109918125$-->Text
        </md-outlined-button>
        <!--?lit$109918125$-->
      </div><hr>
    </div></div><div class="cell text" id="cell-Jh5v8-J8DcfA" role="region" aria-label="Cell 17: Text cell: " style="" tabindex="-1"><div class="cell-tag-editor sticky"></div><div class="cell-toolbar sticky"></div><div class="main-content" elevation="0"><div class="cell-contents"><div class="cell-mask"></div><span class="imported-info-area"></span><!----> <div class="toolbar-root"></div>
      <div class="editor-container horizontal">
        <div class="editor-root"></div>
        <div class="text-top-div">
          <div class="markdown"><span><p>In this demo, we will be creating an LLM chat bot that has the latest knowledge of the employee handbook of a fictional company. We will be able to chat to it about specific policies like PTO, work from home etc.</p>
<p>To build this, we would need to do three things:</p>
<ol>
<li>The company policies exist in a <a href="https://www.google.com/url?q=https%3A%2F%2Fdlthub.notion.site%2FEmployee-handbook-669c2a1e04044465811c8ca22977685d" target="_blank" rel="nofollow" aria-label="Notion Page Link will open in a new tab">Notion Page</a>. We will need to first extract the text from these pages.</li>
<li>Once extracted, we will want to embed them into vectors and then store them in a vector database.</li>
<li>This will allow us to create our RAG: a function that would accept a user question, match it to the information stored in the vector database, and then send the question + relevant information as input to the LLM.</li>
</ol>
</span></div>
        </div>
      </div>

      <div class="section-header" style="display: none;">
        <colab-run-button role="button" aria-label="Run cell"><template shadowrootmode="open"><!----> <div class="cell-execution">
      <div class="execution-count"><!--?lit$109918125$-->[ ]</div>
      <div class="cell-execution-indicator"> <!--?lit$109918125$-->
<svg xmlns="http://www.w3.org/2000/svg" viewBox="0 0 24 24">
  <!--?lit$109918125$-->
  <mask id="playSymbolMask">
    <rect width="100%" height="100%" fill="white"></rect>
    <polygon points="10,8 17,12 10,16" fill="black"></polygon>
  </mask>
  <circle cx="12" cy="12" r="7.8" mask="url(#playSymbolMask)" id="filledCircle"></circle>
</svg> </div>
      <!--?lit$109918125$--><!--?-->
    </div></template></colab-run-button>
        <div class="section-header-container" title="click to expand">↳ 0 cells hidden</div>
      </div></div></div><div class="add-cell">
      <hr>
    </div></div><div class="cell text" id="cell-ZcObJq25L8o-" role="region" aria-label="Cell 18: Text cell: " style="" tabindex="-1"><div class="cell-tag-editor sticky"></div><div class="cell-toolbar sticky"></div><div class="main-content" elevation="0"><div class="cell-contents"><div class="cell-mask"></div><span class="imported-info-area"></span><!----> <div class="toolbar-root"></div>
      <div class="editor-container horizontal">
        <div class="editor-root"></div>
        <div class="text-top-div">
          <div class="markdown"><span><p>We will be using the following OSS tools for this:</p>
<ol>
<li>dlt for data ingestion:  <ol>
<li>dlt can easily connect to any REST API source (like Notion)</li>
<li>It also has integrations with vector databases, like LanceDB.</li>
<li>It also allows to easily plug in functionality like incremental loading.</li>
</ol>
</li>
<li>LanceDB as a vector database:<ol>
<li>LanceDB is an open-source vector database that is very easy to use and integrate into python workflows</li>
<li>It is in-process and serverless (like DuckDB), which makes querying and retreival very efficient</li>
</ol>
</li>
<li>Ollama for RAG:<ol>
<li>Ollama is open-source and allows you to easily run LLMs locally</li>
</ol>
</li>
</ol>
</span></div>
        </div>
      </div>

      <div class="section-header" style="display: none;">
        <colab-run-button role="button" aria-label="Run cell"><template shadowrootmode="open"><!----> <div class="cell-execution">
      <div class="execution-count"><!--?lit$109918125$-->[ ]</div>
      <div class="cell-execution-indicator"> <!--?lit$109918125$-->
<svg xmlns="http://www.w3.org/2000/svg" viewBox="0 0 24 24">
  <!--?lit$109918125$-->
  <mask id="playSymbolMask">
    <rect width="100%" height="100%" fill="white"></rect>
    <polygon points="10,8 17,12 10,16" fill="black"></polygon>
  </mask>
  <circle cx="12" cy="12" r="7.8" mask="url(#playSymbolMask)" id="filledCircle"></circle>
</svg> </div>
      <!--?lit$109918125$--><!--?-->
    </div></template></colab-run-button>
        <div class="section-header-container" title="click to expand">↳ 0 cells hidden</div>
      </div></div></div><div class="add-cell">
      <hr>
    </div></div><div class="cell text" id="cell-zQUsxggP0tje" role="region" aria-label="Cell 19: Text cell: " style="" tabindex="-1"><div class="cell-tag-editor sticky"></div><div class="cell-toolbar sticky"></div><div class="main-content" elevation="0"><div class="cell-contents"><div class="cell-mask"></div><span class="imported-info-area"></span><!----> <div class="toolbar-root"></div>
      <div class="editor-container horizontal">
        <div class="editor-root"></div>
        <div class="text-top-div">
          <div class="markdown"><span><p><strong>Note on running this notebook</strong>: We are going to download and use a local Ollama instance for the RAG, so preferably select the <strong>T4 GPU</strong> in the runtime when starting this notebook (Runtime &gt; Change runtime type &gt; Hardware accelerator &gt; T4 GPU).</p>
<p>You can also use the default CPU in case you're facing technical issues, but then your LLM responses might be slower (~2 mins/response)</p>
</span></div>
        </div>
      </div>

      <div class="section-header" style="display: none;">
        <colab-run-button role="button" aria-label="Run cell"><template shadowrootmode="open"><!----> <div class="cell-execution">
      <div class="execution-count"><!--?lit$109918125$-->[ ]</div>
      <div class="cell-execution-indicator"> <!--?lit$109918125$-->
<svg xmlns="http://www.w3.org/2000/svg" viewBox="0 0 24 24">
  <!--?lit$109918125$-->
  <mask id="playSymbolMask">
    <rect width="100%" height="100%" fill="white"></rect>
    <polygon points="10,8 17,12 10,16" fill="black"></polygon>
  </mask>
  <circle cx="12" cy="12" r="7.8" mask="url(#playSymbolMask)" id="filledCircle"></circle>
</svg> </div>
      <!--?lit$109918125$--><!--?-->
    </div></template></colab-run-button>
        <div class="section-header-container" title="click to expand">↳ 0 cells hidden</div>
      </div></div></div><div class="add-cell">
      <div class="add-cell-buttons">
        <md-outlined-button class="add-code add-button" data-aria-label="Add code cell
Ctrl+M B" title="Add code cell
Ctrl+M B" value="" has-icon=""><template shadowrootmode="open" shadowrootdelegatesfocus><!---->
      <!--?lit$109918125$--><div class="outline"></div>
      <div class="background"></div>
      <md-focus-ring part="focus-ring" for="button" aria-hidden="true"><template shadowrootmode="open"><!----></template></md-focus-ring>
      <md-ripple part="ripple" for="button" aria-hidden="true"><template shadowrootmode="open"><!----><div class="surface   "></div></template></md-ripple>
      <!--?lit$109918125$--><button id="button" class="button" aria-label="Add code cell
Ctrl+M B">
      <!--?lit$109918125$-->
      <span class="touch"></span>
      <!--?lit$109918125$--><slot name="icon"></slot>
      <span class="label"><slot></slot></span>
      <!--?lit$109918125$-->
    
    </button>
    </template>
          <md-icon slot="icon" aria-hidden="true"><template shadowrootmode="open"><!----><slot></slot></template>add</md-icon>
          <!--?lit$109918125$-->Code
        </md-outlined-button>
        <md-outlined-button class="add-text add-button" data-aria-label="Add text cell" title="Add text cell" value="" has-icon=""><template shadowrootmode="open" shadowrootdelegatesfocus><!---->
      <!--?lit$109918125$--><div class="outline"></div>
      <div class="background"></div>
      <md-focus-ring part="focus-ring" for="button" aria-hidden="true"><template shadowrootmode="open"><!----></template></md-focus-ring>
      <md-ripple part="ripple" for="button" aria-hidden="true"><template shadowrootmode="open"><!----><div class="surface   "></div></template></md-ripple>
      <!--?lit$109918125$--><button id="button" class="button" aria-label="Add text cell">
      <!--?lit$109918125$-->
      <span class="touch"></span>
      <!--?lit$109918125$--><slot name="icon"></slot>
      <span class="label"><slot></slot></span>
      <!--?lit$109918125$-->
    
    </button>
    </template>
          <md-icon slot="icon" aria-hidden="true"><template shadowrootmode="open"><!----><slot></slot></template>add</md-icon>
          <!--?lit$109918125$-->Text
        </md-outlined-button>
        <!--?lit$109918125$-->
      </div><hr>
    </div></div><div class="cell text" id="cell-pAGJAVLzZCDn" role="region" aria-label="Cell 20: Text cell: Part 1: Create a Notion -&gt; LanceDB pipeline using dlt" style="" tabindex="-1"><div class="cell-tag-editor sticky"></div><div class="cell-toolbar sticky"></div><div class="main-content" elevation="0"><div class="cell-contents"><div class="cell-mask"></div><span class="imported-info-area"></span><!----> <div class="toolbar-root"></div>
      <div class="editor-container horizontal">
        <div class="editor-root"></div>
        <div class="text-top-div">
          <div class="markdown"><span><div class="text-cell-section-header layout horizontal center"><md-icon-button class="header-section-toggle" title="Collapse 28 child cells under Part 1: Create a Notion -&gt; LanceDB pipeline using dlt (Press &lt;Shift&gt; to also collapse sibling sections)" data-aria-label="Collapse 28 child cells under Part 1: Create a Notion -&gt; LanceDB pipeline using dlt (Press &lt;Shift&gt; to also collapse sibling sections)" value=""><template shadowrootmode="open" shadowrootdelegatesfocus><!----><button id="button" class="icon-button  standard " aria-label="Collapse 28 child cells under Part 1: Create a Notion -&gt; LanceDB pipeline using dlt (Press &lt;Shift&gt; to also collapse sibling sections)">
        <!--?lit$109918125$--><md-focus-ring part="focus-ring" for="button" aria-hidden="true"><template shadowrootmode="open"><!----></template></md-focus-ring>
        <!--?lit$109918125$--><md-ripple aria-hidden="true"><template shadowrootmode="open"><!----><div class="surface   "></div></template></md-ripple>
        <!--?lit$109918125$--><span class="icon"><slot></slot></span>
        <!--?lit$109918125$-->
        <!--?lit$109918125$--><span class="touch"></span>
        <!--?lit$109918125$-->
  </button></template><md-icon aria-hidden="true"><template shadowrootmode="open"><!----><slot></slot></template>keyboard_arrow_down</md-icon></md-icon-button><h2>Part 1: Create a Notion -&gt; LanceDB pipeline using dlt</h2></div>
</span></div>
        </div>
      </div>

      <div class="section-header" style="display: none;">
        <colab-run-button role="button" aria-label="Run cell"><template shadowrootmode="open"><!----> <div class="cell-execution">
      <div class="execution-count"><!--?lit$109918125$-->[ ]</div>
      <div class="cell-execution-indicator"> <!--?lit$109918125$-->
<svg xmlns="http://www.w3.org/2000/svg" viewBox="0 0 24 24">
  <!--?lit$109918125$-->
  <mask id="playSymbolMask">
    <rect width="100%" height="100%" fill="white"></rect>
    <polygon points="10,8 17,12 10,16" fill="black"></polygon>
  </mask>
  <circle cx="12" cy="12" r="7.8" mask="url(#playSymbolMask)" id="filledCircle"></circle>
</svg> </div>
      <!--?lit$109918125$--><!--?-->
    </div></template></colab-run-button>
        <div class="section-header-container" title="click to expand">↳ 28 cells hidden</div>
      </div></div></div><div class="add-cell">
      <div class="add-cell-buttons">
        <md-outlined-button class="add-code add-button" data-aria-label="Add code cell
Ctrl+M B" title="Add code cell
Ctrl+M B" value="" has-icon=""><template shadowrootmode="open" shadowrootdelegatesfocus><!---->
      <!--?lit$109918125$--><div class="outline"></div>
      <div class="background"></div>
      <md-focus-ring part="focus-ring" for="button" aria-hidden="true"><template shadowrootmode="open"><!----></template></md-focus-ring>
      <md-ripple part="ripple" for="button" aria-hidden="true"><template shadowrootmode="open"><!----><div class="surface   "></div></template></md-ripple>
      <!--?lit$109918125$--><button id="button" class="button" aria-label="Add code cell
Ctrl+M B">
      <!--?lit$109918125$-->
      <span class="touch"></span>
      <!--?lit$109918125$--><slot name="icon"></slot>
      <span class="label"><slot></slot></span>
      <!--?lit$109918125$-->
    
    </button>
    </template>
          <md-icon slot="icon" aria-hidden="true"><template shadowrootmode="open"><!----><slot></slot></template>add</md-icon>
          <!--?lit$109918125$-->Code
        </md-outlined-button>
        <md-outlined-button class="add-text add-button" data-aria-label="Add text cell" title="Add text cell" value="" has-icon=""><template shadowrootmode="open" shadowrootdelegatesfocus><!---->
      <!--?lit$109918125$--><div class="outline"></div>
      <div class="background"></div>
      <md-focus-ring part="focus-ring" for="button" aria-hidden="true"><template shadowrootmode="open"><!----></template></md-focus-ring>
      <md-ripple part="ripple" for="button" aria-hidden="true"><template shadowrootmode="open"><!----><div class="surface   "></div></template></md-ripple>
      <!--?lit$109918125$--><button id="button" class="button" aria-label="Add text cell">
      <!--?lit$109918125$-->
      <span class="touch"></span>
      <!--?lit$109918125$--><slot name="icon"></slot>
      <span class="label"><slot></slot></span>
      <!--?lit$109918125$-->
    
    </button>
    </template>
          <md-icon slot="icon" aria-hidden="true"><template shadowrootmode="open"><!----><slot></slot></template>add</md-icon>
          <!--?lit$109918125$-->Text
        </md-outlined-button>
        <!--?lit$109918125$-->
      </div><hr>
    </div></div><div class="cell text" id="cell-b5zDmfFcwS5M" role="region" aria-label="Cell 21: Text cell: Install requirements" style="" tabindex="-1"><div class="cell-tag-editor sticky"></div><div class="cell-toolbar sticky"></div><div class="main-content" elevation="0"><div class="cell-contents"><div class="cell-mask"></div><span class="imported-info-area"></span><!----> <div class="toolbar-root"></div>
      <div class="editor-container horizontal">
        <div class="editor-root"></div>
        <div class="text-top-div">
          <div class="markdown"><span><div class="text-cell-section-header layout horizontal center"><md-icon-button class="header-section-toggle" title="Collapse 2 child cells under Install requirements (Press &lt;Shift&gt; to also collapse sibling sections)" data-aria-label="Collapse 2 child cells under Install requirements (Press &lt;Shift&gt; to also collapse sibling sections)" value=""><template shadowrootmode="open" shadowrootdelegatesfocus><!----><button id="button" class="icon-button  standard " aria-label="Collapse 2 child cells under Install requirements (Press &lt;Shift&gt; to also collapse sibling sections)">
        <!--?lit$109918125$--><md-focus-ring part="focus-ring" for="button" aria-hidden="true"><template shadowrootmode="open"><!----></template></md-focus-ring>
        <!--?lit$109918125$--><md-ripple aria-hidden="true"><template shadowrootmode="open"><!----><div class="surface   "></div></template></md-ripple>
        <!--?lit$109918125$--><span class="icon"><slot></slot></span>
        <!--?lit$109918125$-->
        <!--?lit$109918125$--><span class="touch"></span>
        <!--?lit$109918125$-->
  </button></template><md-icon aria-hidden="true"><template shadowrootmode="open"><!----><slot></slot></template>keyboard_arrow_down</md-icon></md-icon-button><h3>1. Install requirements</h3></div>
</span></div>
        </div>
      </div>

      <div class="section-header" style="display: none;">
        <colab-run-button role="button" aria-label="Run cell"><template shadowrootmode="open"><!----> <div class="cell-execution">
      <div class="execution-count"><!--?lit$109918125$-->[ ]</div>
      <div class="cell-execution-indicator"> <!--?lit$109918125$-->
<svg xmlns="http://www.w3.org/2000/svg" viewBox="0 0 24 24">
  <!--?lit$109918125$-->
  <mask id="playSymbolMask">
    <rect width="100%" height="100%" fill="white"></rect>
    <polygon points="10,8 17,12 10,16" fill="black"></polygon>
  </mask>
  <circle cx="12" cy="12" r="7.8" mask="url(#playSymbolMask)" id="filledCircle"></circle>
</svg> </div>
      <!--?lit$109918125$--><!--?-->
    </div></template></colab-run-button>
        <div class="section-header-container" title="click to expand">↳ 2 cells hidden</div>
      </div></div></div><div class="add-cell">
      <div class="add-cell-buttons">
        <md-outlined-button class="add-code add-button" data-aria-label="Add code cell
Ctrl+M B" title="Add code cell
Ctrl+M B" value="" has-icon=""><template shadowrootmode="open" shadowrootdelegatesfocus><!---->
      <!--?lit$109918125$--><div class="outline"></div>
      <div class="background"></div>
      <md-focus-ring part="focus-ring" for="button" aria-hidden="true"><template shadowrootmode="open"><!----></template></md-focus-ring>
      <md-ripple part="ripple" for="button" aria-hidden="true"><template shadowrootmode="open"><!----><div class="surface   "></div></template></md-ripple>
      <!--?lit$109918125$--><button id="button" class="button" aria-label="Add code cell
Ctrl+M B">
      <!--?lit$109918125$-->
      <span class="touch"></span>
      <!--?lit$109918125$--><slot name="icon"></slot>
      <span class="label"><slot></slot></span>
      <!--?lit$109918125$-->
    
    </button>
    </template>
          <md-icon slot="icon" aria-hidden="true"><template shadowrootmode="open"><!----><slot></slot></template>add</md-icon>
          <!--?lit$109918125$-->Code
        </md-outlined-button>
        <md-outlined-button class="add-text add-button" data-aria-label="Add text cell" title="Add text cell" value="" has-icon=""><template shadowrootmode="open" shadowrootdelegatesfocus><!---->
      <!--?lit$109918125$--><div class="outline"></div>
      <div class="background"></div>
      <md-focus-ring part="focus-ring" for="button" aria-hidden="true"><template shadowrootmode="open"><!----></template></md-focus-ring>
      <md-ripple part="ripple" for="button" aria-hidden="true"><template shadowrootmode="open"><!----><div class="surface   "></div></template></md-ripple>
      <!--?lit$109918125$--><button id="button" class="button" aria-label="Add text cell">
      <!--?lit$109918125$-->
      <span class="touch"></span>
      <!--?lit$109918125$--><slot name="icon"></slot>
      <span class="label"><slot></slot></span>
      <!--?lit$109918125$-->
    
    </button>
    </template>
          <md-icon slot="icon" aria-hidden="true"><template shadowrootmode="open"><!----><slot></slot></template>add</md-icon>
          <!--?lit$109918125$-->Text
        </md-outlined-button>
        <!--?lit$109918125$-->
      </div><hr>
    </div></div><div class="cell text" id="cell-aOUpcKhnwggh" role="region" aria-label="Cell 22: Text cell: " style="" tabindex="-1"><div class="cell-tag-editor sticky"></div><div class="cell-toolbar sticky"></div><div class="main-content" elevation="0"><div class="cell-contents"><div class="cell-mask"></div><span class="imported-info-area"></span><!----> <div class="toolbar-root"></div>
      <div class="editor-container horizontal">
        <div class="editor-root"></div>
        <div class="text-top-div">
          <div class="markdown"><span><p>To create a notion -&gt; lancedb pipeline, we need to install:</p>
<ol>
<li>dlt with lancedb extras</li>
<li>sentence-transformers: we need to use an embedding model to vectorize and store data inside LanceDB. For this we choose the open-source model "sentence-transformers/all-MiniLM-L6-v2".</li>
</ol>
</span></div>
        </div>
      </div>

      <div class="section-header" style="display: none;">
        <colab-run-button role="button" aria-label="Run cell"><template shadowrootmode="open"><!----> <div class="cell-execution">
      <div class="execution-count"><!--?lit$109918125$-->[ ]</div>
      <div class="cell-execution-indicator"> <!--?lit$109918125$-->
<svg xmlns="http://www.w3.org/2000/svg" viewBox="0 0 24 24">
  <!--?lit$109918125$-->
  <mask id="playSymbolMask">
    <rect width="100%" height="100%" fill="white"></rect>
    <polygon points="10,8 17,12 10,16" fill="black"></polygon>
  </mask>
  <circle cx="12" cy="12" r="7.8" mask="url(#playSymbolMask)" id="filledCircle"></circle>
</svg> </div>
      <!--?lit$109918125$--><!--?-->
    </div></template></colab-run-button>
        <div class="section-header-container" title="click to expand">↳ 0 cells hidden</div>
      </div></div></div><div class="add-cell">
      <div class="add-cell-buttons">
        <md-outlined-button class="add-code add-button" data-aria-label="Add code cell
Ctrl+M B" title="Add code cell
Ctrl+M B" value="" has-icon=""><template shadowrootmode="open" shadowrootdelegatesfocus><!---->
      <!--?lit$109918125$--><div class="outline"></div>
      <div class="background"></div>
      <md-focus-ring part="focus-ring" for="button" aria-hidden="true"><template shadowrootmode="open"><!----></template></md-focus-ring>
      <md-ripple part="ripple" for="button" aria-hidden="true"><template shadowrootmode="open"><!----><div class="surface   "></div></template></md-ripple>
      <!--?lit$109918125$--><button id="button" class="button" aria-label="Add code cell
Ctrl+M B">
      <!--?lit$109918125$-->
      <span class="touch"></span>
      <!--?lit$109918125$--><slot name="icon"></slot>
      <span class="label"><slot></slot></span>
      <!--?lit$109918125$-->
    
    </button>
    </template>
          <md-icon slot="icon" aria-hidden="true"><template shadowrootmode="open"><!----><slot></slot></template>add</md-icon>
          <!--?lit$109918125$-->Code
        </md-outlined-button>
        <md-outlined-button class="add-text add-button" data-aria-label="Add text cell" title="Add text cell" value="" has-icon=""><template shadowrootmode="open" shadowrootdelegatesfocus><!---->
      <!--?lit$109918125$--><div class="outline"></div>
      <div class="background"></div>
      <md-focus-ring part="focus-ring" for="button" aria-hidden="true"><template shadowrootmode="open"><!----></template></md-focus-ring>
      <md-ripple part="ripple" for="button" aria-hidden="true"><template shadowrootmode="open"><!----><div class="surface   "></div></template></md-ripple>
      <!--?lit$109918125$--><button id="button" class="button" aria-label="Add text cell">
      <!--?lit$109918125$-->
      <span class="touch"></span>
      <!--?lit$109918125$--><slot name="icon"></slot>
      <span class="label"><slot></slot></span>
      <!--?lit$109918125$-->
    
    </button>
    </template>
          <md-icon slot="icon" aria-hidden="true"><template shadowrootmode="open"><!----><slot></slot></template>add</md-icon>
          <!--?lit$109918125$-->Text
        </md-outlined-button>
        <!--?lit$109918125$-->
      </div><hr>
    </div></div><div class="cell code icon-scrolling" id="cell-4AVm0h1rjv8r" role="region" aria-label="Cell 23: Code cell: " style="" tabindex="-1"><div class="cell-tag-editor sticky"></div><div class="cell-toolbar sticky"></div><div class="main-content" elevation="0"><div class="cell-contents"><div class="cell-mask"></div><span class="imported-info-area"></span><div class="codecell-input-output">
      <div class="inputarea horizontal layout code">
        <div class="cell-gutter">
          <!-- Bounding range for vertical scrolling of icons -->
          <div class="cell-execution-container">
            <colab-run-button title="Run cell (Ctrl+Enter)
cell has not been executed in this session" role="button" aria-label="Run cell"><template shadowrootmode="open"><!----> <div class="cell-execution stale">
      <div class="execution-count"><!--?lit$109918125$-->[ ]</div>
      <div class="cell-execution-indicator"> <!--?lit$109918125$-->
<svg xmlns="http://www.w3.org/2000/svg" viewBox="0 0 24 24">
  <!--?lit$109918125$-->
  <mask id="playSymbolMask">
    <rect width="100%" height="100%" fill="white"></rect>
    <polygon points="10,8 17,12 10,16" fill="black"></polygon>
  </mask>
  <circle cx="12" cy="12" r="7.8" mask="url(#playSymbolMask)" id="filledCircle"></circle>
</svg> </div>
      <!--?lit$109918125$--><!--?-->
    </div></template></colab-run-button>
          </div>
        </div>
      <div class="editor flex lazy-editor" style=""><pre class="lazy-virtualized" style="font-size: 14px; line-height: 19px;"><pre class="lazy-gutter"></pre><pre class="monaco-colorized colab-dark colab-dark colab-dark colab-dark colab-dark" data-lang="notebook-python"><span><span class="mtk17">%%capture</span></span><br><span><span class="mtk17">!</span><span class="mtk1">pip&nbsp;install&nbsp;dlt</span><span class="mtk12">[</span><span class="mtk1">lancedb</span><span class="mtk12">]</span><span class="mtk1">==</span><span class="mtk6">0.5.1</span><span class="mtk1">a0</span></span><br><span><span class="mtk17">!</span><span class="mtk1">pip&nbsp;install&nbsp;sentence-transformers</span></span><br></pre><colab-read-only-cell-placeholder style="display: none;"><template shadowrootmode="open"><!----><div><!--?lit$109918125$-->Start coding or <span role="button" class="link" tabindex="0">generate</span> with AI.</div></template></colab-read-only-cell-placeholder></pre></div><colab-form class="formview vertical layout flex"><div class="widget-area vertical layout"></div></colab-form></div>
    <div class="output" aria-label="Cell 23 output" role="region"><!----> <div class="output-header"> </div>
        <div class="output-content" hidden="">
          <div class="output-info"> </div>
          <div class="output-iframe-container" hidden="">
            <div class="output-iframe-sizer"> </div>
          </div>
        </div></div></div><colab-cell-next-steps><template shadowrootmode="open"><!----></template></colab-cell-next-steps></div></div><div class="add-cell">
      <div class="add-cell-buttons">
        <md-outlined-button class="add-code add-button" data-aria-label="Add code cell
Ctrl+M B" title="Add code cell
Ctrl+M B" value="" has-icon=""><template shadowrootmode="open" shadowrootdelegatesfocus><!---->
      <!--?lit$109918125$--><div class="outline"></div>
      <div class="background"></div>
      <md-focus-ring part="focus-ring" for="button" aria-hidden="true"><template shadowrootmode="open"><!----></template></md-focus-ring>
      <md-ripple part="ripple" for="button" aria-hidden="true"><template shadowrootmode="open"><!----><div class="surface   "></div></template></md-ripple>
      <!--?lit$109918125$--><button id="button" class="button" aria-label="Add code cell
Ctrl+M B">
      <!--?lit$109918125$-->
      <span class="touch"></span>
      <!--?lit$109918125$--><slot name="icon"></slot>
      <span class="label"><slot></slot></span>
      <!--?lit$109918125$-->
    
    </button>
    </template>
          <md-icon slot="icon" aria-hidden="true"><template shadowrootmode="open"><!----><slot></slot></template>add</md-icon>
          <!--?lit$109918125$-->Code
        </md-outlined-button>
        <md-outlined-button class="add-text add-button" data-aria-label="Add text cell" title="Add text cell" value="" has-icon=""><template shadowrootmode="open" shadowrootdelegatesfocus><!---->
      <!--?lit$109918125$--><div class="outline"></div>
      <div class="background"></div>
      <md-focus-ring part="focus-ring" for="button" aria-hidden="true"><template shadowrootmode="open"><!----></template></md-focus-ring>
      <md-ripple part="ripple" for="button" aria-hidden="true"><template shadowrootmode="open"><!----><div class="surface   "></div></template></md-ripple>
      <!--?lit$109918125$--><button id="button" class="button" aria-label="Add text cell">
      <!--?lit$109918125$-->
      <span class="touch"></span>
      <!--?lit$109918125$--><slot name="icon"></slot>
      <span class="label"><slot></slot></span>
      <!--?lit$109918125$-->
    
    </button>
    </template>
          <md-icon slot="icon" aria-hidden="true"><template shadowrootmode="open"><!----><slot></slot></template>add</md-icon>
          <!--?lit$109918125$-->Text
        </md-outlined-button>
        <!--?lit$109918125$-->
      </div><hr>
    </div></div><div class="cell text" id="cell-_aqwtE-Owslg" role="region" aria-label="Cell 24: Text cell: Create a dlt project with rest_api source and lancedb destination" style="" tabindex="-1"><div class="cell-tag-editor sticky"></div><div class="cell-toolbar sticky"></div><div class="main-content" elevation="0"><div class="cell-contents"><div class="cell-mask"></div><span class="imported-info-area"></span><!----> <div class="toolbar-root"></div>
      <div class="editor-container horizontal">
        <div class="editor-root"></div>
        <div class="text-top-div">
          <div class="markdown"><span><div class="text-cell-section-header layout horizontal center"><md-icon-button class="header-section-toggle" title="Collapse 4 child cells under Create a dlt project with rest_api source and lancedb destination (Press &lt;Shift&gt; to also collapse sibling sections)" data-aria-label="Collapse 4 child cells under Create a dlt project with rest_api source and lancedb destination (Press &lt;Shift&gt; to also collapse sibling sections)" value=""><template shadowrootmode="open" shadowrootdelegatesfocus><!----><button id="button" class="icon-button  standard " aria-label="Collapse 4 child cells under Create a dlt project with rest_api source and lancedb destination (Press &lt;Shift&gt; to also collapse sibling sections)">
        <!--?lit$109918125$--><md-focus-ring part="focus-ring" for="button" aria-hidden="true"><template shadowrootmode="open"><!----></template></md-focus-ring>
        <!--?lit$109918125$--><md-ripple aria-hidden="true"><template shadowrootmode="open"><!----><div class="surface   "></div></template></md-ripple>
        <!--?lit$109918125$--><span class="icon"><slot></slot></span>
        <!--?lit$109918125$-->
        <!--?lit$109918125$--><span class="touch"></span>
        <!--?lit$109918125$-->
  </button></template><md-icon aria-hidden="true"><template shadowrootmode="open"><!----><slot></slot></template>keyboard_arrow_down</md-icon></md-icon-button><h3>2. Create a dlt project with rest_api source and lancedb destination</h3></div>
</span></div>
        </div>
      </div>

      <div class="section-header" style="display: none;">
        <colab-run-button role="button" aria-label="Run cell"><template shadowrootmode="open"><!----> <div class="cell-execution">
      <div class="execution-count"><!--?lit$109918125$-->[ ]</div>
      <div class="cell-execution-indicator"> <!--?lit$109918125$-->
<svg xmlns="http://www.w3.org/2000/svg" viewBox="0 0 24 24">
  <!--?lit$109918125$-->
  <mask id="playSymbolMask">
    <rect width="100%" height="100%" fill="white"></rect>
    <polygon points="10,8 17,12 10,16" fill="black"></polygon>
  </mask>
  <circle cx="12" cy="12" r="7.8" mask="url(#playSymbolMask)" id="filledCircle"></circle>
</svg> </div>
      <!--?lit$109918125$--><!--?-->
    </div></template></colab-run-button>
        <div class="section-header-container" title="click to expand">↳ 4 cells hidden</div>
      </div></div></div><div class="add-cell">
      <hr>
    </div></div><div class="cell text" id="cell-sS6gu1f_cO7E" role="region" aria-label="Cell 25: Text cell: " style="" tabindex="-1"><div class="cell-tag-editor sticky"></div><div class="cell-toolbar sticky"></div><div class="main-content" elevation="0"><div class="cell-contents"><div class="cell-mask"></div><span class="imported-info-area"></span><!----> <div class="toolbar-root"></div>
      <div class="editor-container horizontal">
        <div class="editor-root"></div>
        <div class="text-top-div">
          <div class="markdown"><span><p>We now create a dlt project using the command <code>dlt init &lt;source&gt; &lt;destination&gt;</code>.</p>
</span></div>
        </div>
      </div>

      <div class="section-header" style="display: none;">
        <colab-run-button role="button" aria-label="Run cell"><template shadowrootmode="open"><!----> <div class=" cell-execution ">
      <div class="execution-count"><!--?lit$109918125$-->[ ]</div>
      <div class="cell-execution-indicator"> <!--?lit$109918125$-->
<svg xmlns="http://www.w3.org/2000/svg" viewBox="0 0 24 24">
  <!--?lit$109918125$-->
  <mask id="playSymbolMask">
    <rect width="100%" height="100%" fill="white"></rect>
    <polygon points="10,8 17,12 10,16" fill="black"></polygon>
  </mask>
  <circle cx="12" cy="12" r="7.8" mask="url(#playSymbolMask)" id="filledCircle"></circle>
</svg> </div>
      <!--?lit$109918125$--><!--?-->
    </div></template></colab-run-button>
        <div class="section-header-container" title="click to expand">↳ 0 cells hidden</div>
      </div></div></div><div class="add-cell">
      <hr>
    </div></div><div class="cell text" id="cell-WFaBpJwzhkdT" role="region" aria-label="Cell 26: Text cell: " style="" tabindex="-1"><div class="cell-tag-editor sticky"></div><div class="cell-toolbar sticky"></div><div class="main-content" elevation="0"><div class="cell-contents"><div class="cell-mask"></div><span class="imported-info-area"></span><!----> <div class="toolbar-root"></div>
      <div class="editor-container horizontal">
        <div class="editor-root"></div>
        <div class="text-top-div">
          <div class="markdown"><span><p>This downloads all the modules required for the dlt source (rest api, in this case) into the local directory. See the side panel for the directory structure created.</p>
</span></div>
        </div>
      </div>

      <div class="section-header" style="display: none;">
        <colab-run-button role="button" aria-label="Run cell"><template shadowrootmode="open"><!----> <div class=" cell-execution ">
      <div class="execution-count"><!--?lit$109918125$-->[ ]</div>
      <div class="cell-execution-indicator"> <!--?lit$109918125$-->
<svg xmlns="http://www.w3.org/2000/svg" viewBox="0 0 24 24">
  <!--?lit$109918125$-->
  <mask id="playSymbolMask">
    <rect width="100%" height="100%" fill="white"></rect>
    <polygon points="10,8 17,12 10,16" fill="black"></polygon>
  </mask>
  <circle cx="12" cy="12" r="7.8" mask="url(#playSymbolMask)" id="filledCircle"></circle>
</svg> </div>
      <!--?lit$109918125$--><!--?-->
    </div></template></colab-run-button>
        <div class="section-header-container" title="click to expand">↳ 0 cells hidden</div>
      </div></div></div><div class="add-cell">
      <div class="add-cell-buttons">
        <md-outlined-button class="add-code add-button" data-aria-label="Add code cell
Ctrl+M B" title="Add code cell
Ctrl+M B" value="" has-icon=""><template shadowrootmode="open" shadowrootdelegatesfocus><!---->
      <!--?lit$109918125$--><div class="outline"></div>
      <div class="background"></div>
      <md-focus-ring part="focus-ring" for="button" aria-hidden="true"><template shadowrootmode="open"><!----></template></md-focus-ring>
      <md-ripple part="ripple" for="button" aria-hidden="true"><template shadowrootmode="open"><!----><div class="surface   "></div></template></md-ripple>
      <!--?lit$109918125$--><button id="button" class="button" aria-label="Add code cell
Ctrl+M B">
      <!--?lit$109918125$-->
      <span class="touch"></span>
      <!--?lit$109918125$--><slot name="icon"></slot>
      <span class="label"><slot></slot></span>
      <!--?lit$109918125$-->
    
    </button>
    </template>
          <md-icon slot="icon" aria-hidden="true"><template shadowrootmode="open"><!----><slot></slot></template>add</md-icon>
          <!--?lit$109918125$-->Code
        </md-outlined-button>
        <md-outlined-button class="add-text add-button" data-aria-label="Add text cell" title="Add text cell" value="" has-icon=""><template shadowrootmode="open" shadowrootdelegatesfocus><!---->
      <!--?lit$109918125$--><div class="outline"></div>
      <div class="background"></div>
      <md-focus-ring part="focus-ring" for="button" aria-hidden="true"><template shadowrootmode="open"><!----></template></md-focus-ring>
      <md-ripple part="ripple" for="button" aria-hidden="true"><template shadowrootmode="open"><!----><div class="surface   "></div></template></md-ripple>
      <!--?lit$109918125$--><button id="button" class="button" aria-label="Add text cell">
      <!--?lit$109918125$-->
      <span class="touch"></span>
      <!--?lit$109918125$--><slot name="icon"></slot>
      <span class="label"><slot></slot></span>
      <!--?lit$109918125$-->
    
    </button>
    </template>
          <md-icon slot="icon" aria-hidden="true"><template shadowrootmode="open"><!----><slot></slot></template>add</md-icon>
          <!--?lit$109918125$-->Text
        </md-outlined-button>
        <!--?lit$109918125$-->
      </div><hr>
    </div></div><div class="cell text" id="cell-LD-Mfzl4hmsm" role="region" aria-label="Cell 27: Text cell: " style="" tabindex="-1"><div class="cell-tag-editor sticky"></div><div class="cell-toolbar sticky"></div><div class="main-content" elevation="0"><div class="cell-contents"><div class="cell-mask"></div><span class="imported-info-area"></span><!----> <div class="toolbar-root"></div>
      <div class="editor-container horizontal">
        <div class="editor-root"></div>
        <div class="text-top-div">
          <div class="markdown"><span><p>What is the dlt rest api source?</p>
<p>It is a dlt source that allows you to connect to any REST API endpoint using a declarative configuration. You can:</p>
<ul>
<li>pass the endpoints that you want to connect to,</li>
<li>define the relation between the endpoints</li>
<li>define how you want to handle pagination and authentication</li>
</ul>
</span></div>
        </div>
      </div>

      <div class="section-header" style="display: none;">
        <colab-run-button role="button" aria-label="Run cell"><template shadowrootmode="open"><!----> <div class="cell-execution">
      <div class="execution-count"><!--?lit$109918125$-->[ ]</div>
      <div class="cell-execution-indicator"> <!--?lit$109918125$-->
<svg xmlns="http://www.w3.org/2000/svg" viewBox="0 0 24 24">
  <!--?lit$109918125$-->
  <mask id="playSymbolMask">
    <rect width="100%" height="100%" fill="white"></rect>
    <polygon points="10,8 17,12 10,16" fill="black"></polygon>
  </mask>
  <circle cx="12" cy="12" r="7.8" mask="url(#playSymbolMask)" id="filledCircle"></circle>
</svg> </div>
      <!--?lit$109918125$--><!--?-->
    </div></template></colab-run-button>
        <div class="section-header-container" title="click to expand">↳ 0 cells hidden</div>
      </div></div></div><div class="add-cell">
      <div class="add-cell-buttons">
        <md-outlined-button class="add-code add-button" data-aria-label="Add code cell
Ctrl+M B" title="Add code cell
Ctrl+M B" value="" has-icon=""><template shadowrootmode="open" shadowrootdelegatesfocus><!---->
      <!--?lit$109918125$--><div class="outline"></div>
      <div class="background"></div>
      <md-focus-ring part="focus-ring" for="button" aria-hidden="true"><template shadowrootmode="open"><!----></template></md-focus-ring>
      <md-ripple part="ripple" for="button" aria-hidden="true"><template shadowrootmode="open"><!----><div class="surface   "></div></template></md-ripple>
      <!--?lit$109918125$--><button id="button" class="button" aria-label="Add code cell
Ctrl+M B">
      <!--?lit$109918125$-->
      <span class="touch"></span>
      <!--?lit$109918125$--><slot name="icon"></slot>
      <span class="label"><slot></slot></span>
      <!--?lit$109918125$-->
    
    </button>
    </template>
          <md-icon slot="icon" aria-hidden="true"><template shadowrootmode="open"><!----><slot></slot></template>add</md-icon>
          <!--?lit$109918125$-->Code
        </md-outlined-button>
        <md-outlined-button class="add-text add-button" data-aria-label="Add text cell" title="Add text cell" value="" has-icon=""><template shadowrootmode="open" shadowrootdelegatesfocus><!---->
      <!--?lit$109918125$--><div class="outline"></div>
      <div class="background"></div>
      <md-focus-ring part="focus-ring" for="button" aria-hidden="true"><template shadowrootmode="open"><!----></template></md-focus-ring>
      <md-ripple part="ripple" for="button" aria-hidden="true"><template shadowrootmode="open"><!----><div class="surface   "></div></template></md-ripple>
      <!--?lit$109918125$--><button id="button" class="button" aria-label="Add text cell">
      <!--?lit$109918125$-->
      <span class="touch"></span>
      <!--?lit$109918125$--><slot name="icon"></slot>
      <span class="label"><slot></slot></span>
      <!--?lit$109918125$-->
    
    </button>
    </template>
          <md-icon slot="icon" aria-hidden="true"><template shadowrootmode="open"><!----><slot></slot></template>add</md-icon>
          <!--?lit$109918125$-->Text
        </md-outlined-button>
        <!--?lit$109918125$-->
      </div><hr>
    </div></div><div class="cell code icon-scrolling code-has-output" id="cell-Gn5QwziOjqT9" role="region" aria-label="Cell 28: Code cell: " style="" tabindex="-1"><div class="cell-tag-editor sticky"></div><div class="cell-toolbar sticky"></div><div class="main-content" elevation="0"><div class="cell-contents"><div class="cell-mask"></div><span class="imported-info-area"></span><div class="codecell-input-output">
      <div class="inputarea horizontal layout code">
        <div class="cell-gutter">
          <!-- Bounding range for vertical scrolling of icons -->
          <div class="cell-execution-container">
            <colab-run-button title="Run cell (Ctrl+Enter)
cell has not been executed in this session

executed by Venkatesh Moturi
11:51 (21 minutes ago)
executed in 4.855 s" role="button" aria-label="Run cell"><template shadowrootmode="open"><!----> <div class="cell-execution stale">
      <div class="execution-count"><!--?lit$109918125$-->[ ]</div>
      <div class="cell-execution-indicator"> <!--?lit$109918125$-->
<svg xmlns="http://www.w3.org/2000/svg" viewBox="0 0 24 24">
  <!--?lit$109918125$-->
  <mask id="playSymbolMask">
    <rect width="100%" height="100%" fill="white"></rect>
    <polygon points="10,8 17,12 10,16" fill="black"></polygon>
  </mask>
  <circle cx="12" cy="12" r="7.8" mask="url(#playSymbolMask)" id="filledCircle"></circle>
</svg> </div>
      <!--?lit$109918125$--><!--?-->
    </div></template></colab-run-button>
          </div>
        </div>
      <div class="editor flex lazy-editor" style=""><div class="editor flex monaco" data-keybinding-context="37" data-mode-id="notebook-python" style="height: 29px; --vscode-editorCodeLens-lineHeight: 16px; --vscode-editorCodeLens-fontSize: 12px; --vscode-editorCodeLens-fontFeatureSettings: &quot;liga&quot; off, &quot;calt&quot; off;"><div class="monaco-editor no-user-select  showUnused showDeprecated vs-dark" role="code" data-uri="inmemory://model/31" style="width: 794px; height: 29px;"><div data-mprt="3" class="overflow-guard" style="width: 794px; height: 29px; overflow: clip;"><div class="margin" role="presentation" aria-hidden="true" style="position: absolute; contain: strict; will-change: unset; top: 0px; height: 29px; width: 6px;"><div class="glyph-margin" style="left: 0px; width: 0px; height: 29px;"></div><div class="margin-view-zones" role="presentation" aria-hidden="true" style="position: absolute;"></div><div class="margin-view-overlays" role="presentation" aria-hidden="true" style="position: absolute; font-family: monospace, Consolas, &quot;Courier New&quot;, monospace; font-weight: normal; font-size: 14px; font-feature-settings: &quot;liga&quot; 0, &quot;calt&quot; 0; font-variation-settings: normal; line-height: 19px; letter-spacing: 0px; width: 6px; height: 29px;"><div style="position:absolute;top:0px;width:100%;height:19px;"><div class="current-line current-line-margin-both" style="width:6px; height:19px;"></div></div></div><div class="glyph-margin-widgets" style="position: absolute; top: 0px;"></div></div><div class="monaco-scrollable-element editor-scrollable vs-dark" role="presentation" data-mprt="5" style="position: absolute; overflow: hidden; left: 6px; width: 788px; height: 29px;"><div class="lines-content monaco-editor-background" style="position: absolute; overflow: hidden; width: 1e+06px; height: 29px; contain: strict; will-change: unset; top: 0px; left: 0px;"><div class="view-overlays" role="presentation" aria-hidden="true" style="position: absolute; font-family: monospace, Consolas, &quot;Courier New&quot;, monospace; font-weight: normal; font-size: 14px; font-feature-settings: &quot;liga&quot; 0, &quot;calt&quot; 0; font-variation-settings: normal; line-height: 19px; letter-spacing: 0px; height: 0px; width: 788px;"><div style="position:absolute;top:0px;width:100%;height:19px;"><div class="current-line" style="width:788px; height:19px;"></div></div></div><div role="presentation" aria-hidden="true" class="view-rulers"></div><div class="view-zones" role="presentation" aria-hidden="true" style="position: absolute;"></div><div class="view-lines monaco-mouse-cursor-text" role="presentation" aria-hidden="true" data-mprt="7" style="position: absolute; font-family: monospace, Consolas, &quot;Courier New&quot;, monospace; font-weight: normal; font-size: 14px; font-feature-settings: &quot;liga&quot; 0, &quot;calt&quot; 0; font-variation-settings: normal; line-height: 19px; letter-spacing: 0px; width: 788px; height: 29px;"><div style="top:0px;height:19px;" class="view-line"><span><span class="mtk17">!</span><span class="mtk1">yes&nbsp;|&nbsp;dlt&nbsp;init&nbsp;rest_api&nbsp;lancedb</span></span></div></div><div data-mprt="1" class="contentWidgets" style="position: absolute; top: 0px;"><div class="lightBulbWidget codicon codicon-light-bulb" widgetid="LightBulbWidget" title="Show Code Actions (Ctrl+.)" style="position: absolute; display: none; visibility: hidden; max-width: 1234px;"></div></div><div role="presentation" aria-hidden="true" class="cursors-layer cursor-line-style cursor-solid"><div class="cursor monaco-mouse-cursor-text " style="height: 19px; top: 0px; left: 245px; font-family: monospace, Consolas, &quot;Courier New&quot;, monospace; font-weight: normal; font-size: 14px; font-feature-settings: &quot;liga&quot; 0, &quot;calt&quot; 0; font-variation-settings: normal; line-height: 19px; letter-spacing: 0px; display: block; visibility: hidden; padding-left: 1px; width: 2px;"></div></div></div><div role="presentation" aria-hidden="true" class="invisible scrollbar horizontal" style="position: absolute; width: 774px; height: 10px; left: 0px; bottom: 0px;"><div class="slider" style="position: absolute; top: 0px; left: 0px; height: 10px; transform: translate3d(0px, 0px, 0px); contain: strict; will-change: unset; width: 774px;"></div></div><canvas class="decorationsOverviewRuler" aria-hidden="true" width="14" height="29" style="position: absolute; transform: translate3d(0px, 0px, 0px); contain: strict; top: 0px; right: 0px; width: 14px; height: 29px; will-change: unset; display: block;"></canvas><div role="presentation" aria-hidden="true" class="invisible scrollbar vertical" style="position: absolute; width: 14px; height: 29px; right: 0px; top: 0px;"><div class="slider" style="position: absolute; top: 0px; left: 0px; width: 14px; transform: translate3d(0px, 0px, 0px); contain: strict; will-change: unset; height: 29px;"></div></div></div><div role="presentation" aria-hidden="true" style="width: 794px;"></div><textarea data-mprt="6" class="inputarea monaco-mouse-cursor-text" wrap="on" autocorrect="off" autocapitalize="off" autocomplete="off" spellcheck="false" aria-label="Editor content;Press Alt+F1 for Accessibility Options." tabindex="0" role="textbox" aria-roledescription="editor" aria-multiline="true" aria-haspopup="false" aria-autocomplete="both" style="tab-size: 15.3984px; font-family: monospace, Consolas, &quot;Courier New&quot;, monospace; font-weight: normal; font-size: 14px; font-feature-settings: &quot;liga&quot; 0, &quot;calt&quot; 0; font-variation-settings: normal; line-height: 19px; letter-spacing: 0px; top: 0px; left: 6px; width: 76992px; height: 1px;"></textarea><div style="position: absolute; top: 0px; left: 0px; width: 0px; height: 0px;" class="monaco-editor-background textAreaCover"></div><div data-mprt="4" class="overlayWidgets" style="width: 794px;"></div><div data-mprt="8" class="minimap slider-mouseover" role="presentation" aria-hidden="true" style="position: absolute; left: 0px; width: 0px; height: 29px;"><div class="minimap-shadow-hidden" style="height: 29px;"></div><canvas width="0" height="29" style="position: absolute; left: 0px; width: 0px; height: 29px;"></canvas><canvas class="minimap-decorations-layer" width="0" height="29" style="position: absolute; left: 0px; width: 0px; height: 29px;"></canvas><div class="minimap-slider" style="position: absolute; transform: translate3d(0px, 0px, 0px); contain: strict; width: 0px; will-change: unset;"><div class="minimap-slider-horizontal" style="position: absolute; width: 0px; height: 0px;"></div></div></div><div role="presentation" aria-hidden="true" class="blockDecorations-container"></div></div><div data-mprt="2" class="overflowingContentWidgets" style="display: none;"><div widgetid="editor.contrib.resizableContentHoverWidget" style="position: fixed; height: 10px; width: 10px; z-index: 50; display: none; visibility: hidden; max-width: 1366px;"><div class="monaco-sash vertical" style="left: 8px;"></div><div class="monaco-sash vertical" style="left: -2px;"></div><div class="monaco-sash orthogonal-edge-north horizontal" style="top: -2px;"><div class="orthogonal-drag-handle start"></div><div class="orthogonal-drag-handle end"></div></div><div class="monaco-sash orthogonal-edge-south horizontal" style="top: 8px;"><div class="orthogonal-drag-handle start"></div><div class="orthogonal-drag-handle end"></div></div><div class="monaco-hover hidden" role="tooltip" tabindex="0"><div class="monaco-scrollable-element " role="presentation" style="position: relative; overflow: hidden;"><div class="monaco-hover-content" style="overflow: hidden; font-size: 14px; line-height: 1.35714; max-width: 524.04px; max-height: 250px;"></div><div role="presentation" aria-hidden="true" class="invisible scrollbar horizontal" style="position: absolute;"><div class="slider" style="position: absolute; top: 0px; left: 0px; height: 10px; transform: translate3d(0px, 0px, 0px); contain: strict;"></div></div><div role="presentation" aria-hidden="true" class="invisible scrollbar vertical" style="position: absolute;"><div class="slider" style="position: absolute; top: 0px; left: 0px; width: 10px; transform: translate3d(0px, 0px, 0px); contain: strict;"></div></div><div class="shadow"></div><div class="shadow"></div><div class="shadow"></div></div></div></div></div><div class=".in-cell-overflowing"><div widgetid="editor.contrib.quickInputWidget" style="position: absolute; top: 0px; right: 50%;"></div></div></div></div></div><colab-form class="formview vertical layout flex"><div class="widget-area vertical layout"></div></colab-form></div>
    <div class="output" aria-label="Cell 28 output" role="region"><!----> <div class="output-header"> </div>
        <div class="output-content">
          <div class="output-info"><colab-output-info title="Clear output

executed by Venkatesh Moturi
11:51 (0 minutes ago)
executed in 4.855 s"><template shadowrootmode="open"><!----><md-icon-button title="Code cell output actions" data-aria-label="Code cell output actions" value=""><template shadowrootmode="open" shadowrootdelegatesfocus><!----><button id="button" class="icon-button  standard " aria-label="Code cell output actions">
        <!--?lit$109918125$--><md-focus-ring part="focus-ring" for="button" aria-hidden="true"><template shadowrootmode="open"><!----></template></md-focus-ring>
        <!--?lit$109918125$--><md-ripple aria-hidden="true"><template shadowrootmode="open"><!----><div class="surface   "></div></template></md-ripple>
        <!--?lit$109918125$--><span class="icon"><slot></slot></span>
        <!--?lit$109918125$-->
        <!--?lit$109918125$--><span class="touch"></span>
        <!--?lit$109918125$-->
  </button></template>
        <md-icon aria-hidden="true"><template shadowrootmode="open"><!----><slot></slot></template><!--?lit$109918125$--><svg viewBox="0 0 24 24"><!--?lit$109918125$--><path d="m15.9 3.07c-4.32 0.0742-8.64-0.0355-13 0.0568-1.37 0.307-1.74 2.1-1.41 3.26 0.469 0.606 1.86 0.384 1.66-0.525 0.0448-0.329-0.183-0.93 0.354-0.766h13.3v1.53h1.71c0.0709-1.13 0.141-2.62-0.968-3.3-0.511-0.264-1.11-0.252-1.67-0.259zm2.94 6.84v4.87c1.62-1.62 3.24-3.24 4.87-4.87h-4.87zm0 0h-1.71v3.43l1.57 1.57c0.32-1.65 0.0556-3.34 0.135-5zm-1.71 3.43v-3.43h-3.43c1.14 1.14 2.29 2.29 3.43 3.43zm1.4 4.27h-1.71v1.48h-13.6v-1.48h-1.71c-0.0473 1.15-0.16 2.72 1.09 3.29 1.47 0.506 3.02 0.0265 4.53 0.192 3.34-0.0051 6.68 0.0336 10-0.0245 1.49-0.366 1.56-2.22 1.42-3.45zm-10.1-1.12c-0.398-0.483-0.796-0.967-1.19-1.45 0.59-0.683 1.18-1.37 1.77-2.05h-8.67v-2h8.67c-0.59-0.683-1.18-1.37-1.77-2.05 0.398-0.483 0.796-0.967 1.19-1.45 1.28 1.5 2.56 3 3.84 4.5-1.28 1.5-2.56 3-3.84 4.5z"></path></svg></md-icon>
      </md-icon-button></template></colab-output-info></div>
          <div class="output-iframe-container">
            <div class="output-iframe-sizer" style="min-height: 0px;"> <div><div><colab-static-output-renderer role="group" tabindex="0"><div><div class="stream output-id-2 output_text"><pre>Looking up the init scripts in <span style="font-weight: bold;"><a rel="nofollow" target="_blank" href="https://github.com/dlt-hub/verified-sources.git">https://github.com/dlt-hub/verified-sources.git</a></span><span>...
Cloning and configuring a verified source </span><span style="font-weight: bold;">rest_api</span><span> (Generic API Source)
Do you want to proceed? [Y/n]: 
Verified source </span><span style="font-weight: bold;">rest_api</span><span> was added to your project!
* See the usage examples and code snippets to copy from </span><span style="font-weight: bold;">rest_api_pipeline.py</span><span>
* Add credentials for </span><span style="font-weight: bold;">lancedb</span><span> and other secrets in </span><span style="font-weight: bold;">./.dlt/secrets.toml</span><span>
* </span><span style="font-weight: bold;">requirements.txt</span><span> was created. Install it with:
pip3 install -r requirements.txt
* Read </span><span style="font-weight: bold;"><a rel="nofollow" target="_blank" href="https://dlthub.com/docs/walkthroughs/create-a-pipeline">https://dlthub.com/docs/walkthroughs/create-a-pipeline</a></span><span> for more information
</span></pre></div></div><div></div></colab-static-output-renderer></div></div><div><div></div></div></div>
          </div>
        </div></div></div><colab-cell-next-steps><template shadowrootmode="open"><!----></template></colab-cell-next-steps></div></div><div class="add-cell">
      <div class="add-cell-buttons">
        <md-outlined-button class="add-code add-button" data-aria-label="Add code cell
Ctrl+M B" title="Add code cell
Ctrl+M B" value="" has-icon=""><template shadowrootmode="open" shadowrootdelegatesfocus><!---->
      <!--?lit$109918125$--><div class="outline"></div>
      <div class="background"></div>
      <md-focus-ring part="focus-ring" for="button" aria-hidden="true"><template shadowrootmode="open"><!----></template></md-focus-ring>
      <md-ripple part="ripple" for="button" aria-hidden="true"><template shadowrootmode="open"><!----><div class="surface   "></div></template></md-ripple>
      <!--?lit$109918125$--><button id="button" class="button" aria-label="Add code cell
Ctrl+M B">
      <!--?lit$109918125$-->
      <span class="touch"></span>
      <!--?lit$109918125$--><slot name="icon"></slot>
      <span class="label"><slot></slot></span>
      <!--?lit$109918125$-->
    
    </button>
    </template>
          <md-icon slot="icon" aria-hidden="true"><template shadowrootmode="open"><!----><slot></slot></template>add</md-icon>
          <!--?lit$109918125$-->Code
        </md-outlined-button>
        <md-outlined-button class="add-text add-button" data-aria-label="Add text cell" title="Add text cell" value="" has-icon=""><template shadowrootmode="open" shadowrootdelegatesfocus><!---->
      <!--?lit$109918125$--><div class="outline"></div>
      <div class="background"></div>
      <md-focus-ring part="focus-ring" for="button" aria-hidden="true"><template shadowrootmode="open"><!----></template></md-focus-ring>
      <md-ripple part="ripple" for="button" aria-hidden="true"><template shadowrootmode="open"><!----><div class="surface   "></div></template></md-ripple>
      <!--?lit$109918125$--><button id="button" class="button" aria-label="Add text cell">
      <!--?lit$109918125$-->
      <span class="touch"></span>
      <!--?lit$109918125$--><slot name="icon"></slot>
      <span class="label"><slot></slot></span>
      <!--?lit$109918125$-->
    
    </button>
    </template>
          <md-icon slot="icon" aria-hidden="true"><template shadowrootmode="open"><!----><slot></slot></template>add</md-icon>
          <!--?lit$109918125$-->Text
        </md-outlined-button>
        <!--?lit$109918125$-->
      </div><hr>
    </div></div><div class="cell text" id="cell-NqjfumInhWLK" role="region" aria-label="Cell 29: Text cell: Add API credentials" style="" tabindex="-1"><div class="cell-tag-editor sticky"></div><div class="cell-toolbar sticky"></div><div class="main-content" elevation="0"><div class="cell-contents"><div class="cell-mask"></div><span class="imported-info-area"></span><!----> <div class="toolbar-root"></div>
      <div class="editor-container horizontal">
        <div class="editor-root"></div>
        <div class="text-top-div">
          <div class="markdown"><span><div class="text-cell-section-header layout horizontal center"><md-icon-button class="header-section-toggle" title="Collapse 3 child cells under Add API credentials (Press &lt;Shift&gt; to also collapse sibling sections)" data-aria-label="Collapse 3 child cells under Add API credentials (Press &lt;Shift&gt; to also collapse sibling sections)" value=""><template shadowrootmode="open" shadowrootdelegatesfocus><!----><button id="button" class="icon-button  standard " aria-label="Collapse 3 child cells under Add API credentials (Press &lt;Shift&gt; to also collapse sibling sections)">
        <!--?lit$109918125$--><md-focus-ring part="focus-ring" for="button" aria-hidden="true"><template shadowrootmode="open"><!----></template></md-focus-ring>
        <!--?lit$109918125$--><md-ripple aria-hidden="true"><template shadowrootmode="open"><!----><div class="surface"></div></template></md-ripple>
        <!--?lit$109918125$--><span class="icon"><slot></slot></span>
        <!--?lit$109918125$-->
        <!--?lit$109918125$--><span class="touch"></span>
        <!--?lit$109918125$-->
  </button></template><md-icon aria-hidden="true"><template shadowrootmode="open"><!----><slot></slot></template>keyboard_arrow_down</md-icon></md-icon-button><h3>3. Add API credentials</h3></div>
</span></div>
        </div>
      </div>

      <div class="section-header" style="display: none;">
        <colab-run-button role="button" aria-label="Run cell"><template shadowrootmode="open"><!----> <div class="cell-execution">
      <div class="execution-count"><!--?lit$109918125$-->[ ]</div>
      <div class="cell-execution-indicator"> <!--?lit$109918125$-->
<svg xmlns="http://www.w3.org/2000/svg" viewBox="0 0 24 24">
  <!--?lit$109918125$-->
  <mask id="playSymbolMask">
    <rect width="100%" height="100%" fill="white"></rect>
    <polygon points="10,8 17,12 10,16" fill="black"></polygon>
  </mask>
  <circle cx="12" cy="12" r="7.8" mask="url(#playSymbolMask)" id="filledCircle"></circle>
</svg> </div>
      <!--?lit$109918125$--><!--?-->
    </div></template></colab-run-button>
        <div class="section-header-container" title="click to expand">↳ 3 cells hidden</div>
      </div></div></div><div class="add-cell">
      <div class="add-cell-buttons">
        <md-outlined-button class="add-code add-button" data-aria-label="Add code cell
Ctrl+M B" title="Add code cell
Ctrl+M B" value="" has-icon=""><template shadowrootmode="open" shadowrootdelegatesfocus><!---->
      <!--?lit$109918125$--><div class="outline"></div>
      <div class="background"></div>
      <md-focus-ring part="focus-ring" for="button" aria-hidden="true"><template shadowrootmode="open"><!----></template></md-focus-ring>
      <md-ripple part="ripple" for="button" aria-hidden="true"><template shadowrootmode="open"><!----><div class="surface   "></div></template></md-ripple>
      <!--?lit$109918125$--><button id="button" class="button" aria-label="Add code cell
Ctrl+M B">
      <!--?lit$109918125$-->
      <span class="touch"></span>
      <!--?lit$109918125$--><slot name="icon"></slot>
      <span class="label"><slot></slot></span>
      <!--?lit$109918125$-->
    
    </button>
    </template>
          <md-icon slot="icon" aria-hidden="true"><template shadowrootmode="open"><!----><slot></slot></template>add</md-icon>
          <!--?lit$109918125$-->Code
        </md-outlined-button>
        <md-outlined-button class="add-text add-button" data-aria-label="Add text cell" title="Add text cell" value="" has-icon=""><template shadowrootmode="open" shadowrootdelegatesfocus><!---->
      <!--?lit$109918125$--><div class="outline"></div>
      <div class="background"></div>
      <md-focus-ring part="focus-ring" for="button" aria-hidden="true"><template shadowrootmode="open"><!----></template></md-focus-ring>
      <md-ripple part="ripple" for="button" aria-hidden="true"><template shadowrootmode="open"><!----><div class="surface   "></div></template></md-ripple>
      <!--?lit$109918125$--><button id="button" class="button" aria-label="Add text cell">
      <!--?lit$109918125$-->
      <span class="touch"></span>
      <!--?lit$109918125$--><slot name="icon"></slot>
      <span class="label"><slot></slot></span>
      <!--?lit$109918125$-->
    
    </button>
    </template>
          <md-icon slot="icon" aria-hidden="true"><template shadowrootmode="open"><!----><slot></slot></template>add</md-icon>
          <!--?lit$109918125$-->Text
        </md-outlined-button>
        <!--?lit$109918125$-->
      </div><hr>
    </div></div><div class="cell text" id="cell-LGO2s0xwlOMQ" role="region" aria-label="Cell 30: Text cell: " style="" tabindex="-1"><div class="cell-tag-editor sticky"></div><div class="cell-toolbar sticky"></div><div class="main-content" elevation="0"><div class="cell-contents"><div class="cell-mask"></div><span class="imported-info-area"></span><!----> <div class="toolbar-root"></div>
      <div class="editor-container horizontal">
        <div class="editor-root"></div>
        <div class="text-top-div">
          <div class="markdown"><span><p>To access APIs, databases, or any third-party applications, one might need to specify relevant credentials.</p>
<p>With dlt, we can do it in two ways:</p>
<ol>
<li><p>Pass the credentials and any other sensitive information inside <code>.dlt/secrets.toml</code></p>
<pre><code><span><span class="mtk1">[sources.rest_api.notion]</span></span><br><span><span class="mtk1">api_key&nbsp;=&nbsp;"notion&nbsp;api&nbsp;key"</span></span><br><span><span></span></span><br><span><span class="mtk1">[destination.lancedb]</span></span><br><span><span class="mtk1">embedding_model_provider&nbsp;=&nbsp;"sentence-transformers"</span></span><br><span><span class="mtk1">embedding_model&nbsp;=&nbsp;"all-MiniLM-L6-v2"</span></span><br><span><span></span></span><br><span><span class="mtk1">[destination.lancedb.credentials]</span></span><br><span><span class="mtk1">uri&nbsp;=&nbsp;".lancedb"</span></span><br><span><span class="mtk1">api_key&nbsp;=&nbsp;"api_key"</span></span><br><span><span class="mtk1">embedding_model_provider_api_key&nbsp;=&nbsp;"embedding_mode</span><span class="mtk1">l_provider_api_key"</span></span></code></pre>
</li>
<li><p>Pass them as environment variables</p>
<pre><code><span><span class="mtk17">import</span><span class="mtk1">&nbsp;os</span></span><br><span><span></span></span><br><span><span class="mtk1">os.environ</span><span class="mtk12">[</span><span class="mtk5">"SOURCES__REST_API__NOTION__API_KEY"</span><span class="mtk12">]</span><span class="mtk1">&nbsp;=&nbsp;</span><span class="mtk5">"notion&nbsp;api&nbsp;key"</span></span><br><span><span></span></span><br><span><span class="mtk1">os.environ</span><span class="mtk12">[</span><span class="mtk5">"DESTINATION__LANCEDB__EMBEDDING_MODEL_PROVIDER"</span><span class="mtk12">]</span><span class="mtk1">&nbsp;=&nbsp;</span><span class="mtk5">"sentence-transformers"</span></span><br><span><span class="mtk1">os.environ</span><span class="mtk12">[</span><span class="mtk5">"DESTINATION__LANCEDB__EMBEDDING_MODEL"</span><span class="mtk12">]</span><span class="mtk1">&nbsp;=&nbsp;</span><span class="mtk5">"all-MiniLM-L6-v2"</span></span><br><span><span></span></span><br><span><span class="mtk1">os.environ</span><span class="mtk12">[</span><span class="mtk5">"DESTINATION__LANCEDB__CREDENTIALS__URI"</span><span class="mtk12">]</span><span class="mtk1">&nbsp;=&nbsp;</span><span class="mtk5">".lancedb"</span></span><br><span><span class="mtk1">os.environ</span><span class="mtk12">[</span><span class="mtk5">"DESTINATION__LANCEDB__CREDENTIALS__API_KEY"</span><span class="mtk12">]</span><span class="mtk1">&nbsp;=&nbsp;</span><span class="mtk5">"api_key"</span></span><br><span><span class="mtk1">os.environ</span><span class="mtk12">[</span><span class="mtk5">"DESTINATION__LANCEDB__CREDENTIALS__EMBEDDING_MODE</span><span class="mtk5">L_PROVIDER_API_KEY"</span><span class="mtk12">]</span><span class="mtk1">&nbsp;=&nbsp;</span><span class="mtk5">"embedding_model_provider_api_key"</span></span></code></pre>
</li>
</ol>
</span></div>
        </div>
      </div>

      <div class="section-header" style="display: none;">
        <colab-run-button role="button" aria-label="Run cell"><template shadowrootmode="open"><!----> <div class="cell-execution">
      <div class="execution-count"><!--?lit$109918125$-->[ ]</div>
      <div class="cell-execution-indicator"> <!--?lit$109918125$-->
<svg xmlns="http://www.w3.org/2000/svg" viewBox="0 0 24 24">
  <!--?lit$109918125$-->
  <mask id="playSymbolMask">
    <rect width="100%" height="100%" fill="white"></rect>
    <polygon points="10,8 17,12 10,16" fill="black"></polygon>
  </mask>
  <circle cx="12" cy="12" r="7.8" mask="url(#playSymbolMask)" id="filledCircle"></circle>
</svg> </div>
      <!--?lit$109918125$--><!--?-->
    </div></template></colab-run-button>
        <div class="section-header-container" title="click to expand">↳ 0 cells hidden</div>
      </div></div></div><div class="add-cell">
      <hr>
    </div></div><div class="cell text" id="cell-J1nF956xoqyy" role="region" aria-label="Cell 31: Text cell: " style="" tabindex="-1"><div class="cell-tag-editor sticky"></div><div class="cell-toolbar sticky"></div><div class="main-content" elevation="0"><div class="cell-contents"><div class="cell-mask"></div><span class="imported-info-area"></span><!----> <div class="toolbar-root"></div>
      <div class="editor-container horizontal">
        <div class="editor-root"></div>
        <div class="text-top-div">
          <div class="markdown"><span><p>We are going to be using option 2. It's not advisable to paste sensitive information like API keys inside the code, so instead we're going to include them inside the secrets tab in the side panel of the notebook. This will allow us to access the secret values from the notebook.</p>
<p>Since we are using the OSS version of LanceDB and OSS embedding models, we only need to specify the API key for Notion.</p>
<p><strong>Note</strong>: You will need to copy the <a href="https://www.google.com/url?q=https%3A%2F%2Fshare.1password.com%2Fs%23da9KgMwPaZUaey3WCaD7ICJoyHDGd3Xos2EZ29WrSWQ" target="_blank" rel="nofollow" aria-label="notion API key Link will open in a new tab">notion API key</a> into the secrets tab under the name <code>SOURCES__REST_API__NOTION__API_KEY</code>. Make sure to enable notebook access after pasting the key.</p>
</span></div>
        </div>
      </div>

      <div class="section-header" style="display: none;">
        <colab-run-button role="button" aria-label="Run cell"><template shadowrootmode="open"><!----> <div class="cell-execution">
      <div class="execution-count"><!--?lit$109918125$-->[ ]</div>
      <div class="cell-execution-indicator"> <!--?lit$109918125$-->
<svg xmlns="http://www.w3.org/2000/svg" viewBox="0 0 24 24">
  <!--?lit$109918125$-->
  <mask id="playSymbolMask">
    <rect width="100%" height="100%" fill="white"></rect>
    <polygon points="10,8 17,12 10,16" fill="black"></polygon>
  </mask>
  <circle cx="12" cy="12" r="7.8" mask="url(#playSymbolMask)" id="filledCircle"></circle>
</svg> </div>
      <!--?lit$109918125$--><!--?-->
    </div></template></colab-run-button>
        <div class="section-header-container" title="click to expand">↳ 0 cells hidden</div>
      </div></div></div><div class="add-cell">
      <div class="add-cell-buttons">
        <md-outlined-button class="add-code add-button" data-aria-label="Add code cell
Ctrl+M B" title="Add code cell
Ctrl+M B" value="" has-icon=""><template shadowrootmode="open" shadowrootdelegatesfocus><!---->
      <!--?lit$109918125$--><div class="outline"></div>
      <div class="background"></div>
      <md-focus-ring part="focus-ring" for="button" aria-hidden="true"><template shadowrootmode="open"><!----></template></md-focus-ring>
      <md-ripple part="ripple" for="button" aria-hidden="true"><template shadowrootmode="open"><!----><div class="surface   "></div></template></md-ripple>
      <!--?lit$109918125$--><button id="button" class="button" aria-label="Add code cell
Ctrl+M B">
      <!--?lit$109918125$-->
      <span class="touch"></span>
      <!--?lit$109918125$--><slot name="icon"></slot>
      <span class="label"><slot></slot></span>
      <!--?lit$109918125$-->
    
    </button>
    </template>
          <md-icon slot="icon" aria-hidden="true"><template shadowrootmode="open"><!----><slot></slot></template>add</md-icon>
          <!--?lit$109918125$-->Code
        </md-outlined-button>
        <md-outlined-button class="add-text add-button" data-aria-label="Add text cell" title="Add text cell" value="" has-icon=""><template shadowrootmode="open" shadowrootdelegatesfocus><!---->
      <!--?lit$109918125$--><div class="outline"></div>
      <div class="background"></div>
      <md-focus-ring part="focus-ring" for="button" aria-hidden="true"><template shadowrootmode="open"><!----></template></md-focus-ring>
      <md-ripple part="ripple" for="button" aria-hidden="true"><template shadowrootmode="open"><!----><div class="surface   "></div></template></md-ripple>
      <!--?lit$109918125$--><button id="button" class="button" aria-label="Add text cell">
      <!--?lit$109918125$-->
      <span class="touch"></span>
      <!--?lit$109918125$--><slot name="icon"></slot>
      <span class="label"><slot></slot></span>
      <!--?lit$109918125$-->
    
    </button>
    </template>
          <md-icon slot="icon" aria-hidden="true"><template shadowrootmode="open"><!----><slot></slot></template>add</md-icon>
          <!--?lit$109918125$-->Text
        </md-outlined-button>
        <!--?lit$109918125$-->
      </div><hr>
    </div></div><div class="cell code icon-scrolling" id="cell-vSLP6qhNqafV" role="region" aria-label="Cell 32: Code cell: " style="" tabindex="-1"><div class="cell-tag-editor sticky"></div><div class="cell-toolbar sticky"></div><div class="main-content" elevation="0"><div class="cell-contents"><div class="cell-mask"></div><span class="imported-info-area"></span><div class="codecell-input-output">
      <div class="inputarea horizontal layout code">
        <div class="cell-gutter">
          <!-- Bounding range for vertical scrolling of icons -->
          <div class="cell-execution-container">
            <colab-run-button title="Run cell (Ctrl+Enter)
cell has not been executed in this session

executed by Venkatesh Moturi
11:54 (18 minutes ago)
executed in 5.976 s" role="button" aria-label="Run cell"><template shadowrootmode="open"><!----> <div class="cell-execution hovered stale">
      <div class="execution-count"><!--?lit$109918125$-->[ ]</div>
      <div class="cell-execution-indicator"> <!--?lit$109918125$-->
<svg xmlns="http://www.w3.org/2000/svg" viewBox="0 0 24 24">
  <!--?lit$109918125$-->
  <mask id="playSymbolMask">
    <rect width="100%" height="100%" fill="white"></rect>
    <polygon points="10,8 17,12 10,16" fill="black"></polygon>
  </mask>
  <circle cx="12" cy="12" r="7.8" mask="url(#playSymbolMask)" id="filledCircle"></circle>
</svg> </div>
      <!--?lit$109918125$--><!--?-->
    </div></template></colab-run-button>
          </div>
        </div>
      <div class="editor flex lazy-editor" style=""><pre class="lazy-virtualized" style="font-size: 14px; line-height: 19px;"><pre class="lazy-gutter"></pre><pre class="monaco-colorized colab-dark colab-dark colab-dark colab-dark colab-dark colab-dark" data-lang="notebook-python"><span><span class="mtk18">import</span><span class="mtk1">&nbsp;os</span></span><br><span><span class="mtk18">from</span><span class="mtk1">&nbsp;google.colab&nbsp;</span><span class="mtk18">import</span><span class="mtk1">&nbsp;userdata</span></span><br><span><span></span></span><br><span><span class="mtk1">os.environ</span><span class="mtk12">[</span><span class="mtk5">"SOURCES__REST_API__NOTION__API_KEY"</span><span class="mtk12">]</span><span class="mtk1">&nbsp;=&nbsp;userdata.get</span><span class="mtk12">(</span><span class="mtk5">"SOURCES__REST_API__NOTION__API_KEY"</span><span class="mtk12">)</span></span><br><span><span></span></span><br><span><span class="mtk1">os.environ</span><span class="mtk12">[</span><span class="mtk5">"DESTINATION__LANCEDB__EMBEDDING_MODEL_PROVIDER"</span><span class="mtk12">]</span><span class="mtk1">&nbsp;=&nbsp;</span><span class="mtk5">"sentence-transformers"</span></span><br><span><span class="mtk1">os.environ</span><span class="mtk12">[</span><span class="mtk5">"DESTINATION__LANCEDB__EMBEDDING_MODEL"</span><span class="mtk12">]</span><span class="mtk1">&nbsp;=&nbsp;</span><span class="mtk5">"all-MiniLM-L6-v2"</span></span><br><span><span></span></span><br><span><span class="mtk1">os.environ</span><span class="mtk12">[</span><span class="mtk5">"DESTINATION__LANCEDB__CREDENTIALS__URI"</span><span class="mtk12">]</span><span class="mtk1">&nbsp;=&nbsp;</span><span class="mtk5">".lancedb"</span></span><br></pre><colab-read-only-cell-placeholder style="display: none;"><template shadowrootmode="open"><!----><div><!--?lit$109918125$-->Start coding or <span tabindex="0" role="button" class="link">generate</span> with AI.</div></template></colab-read-only-cell-placeholder></pre></div><colab-form class="formview vertical layout flex"><div class="widget-area vertical layout"></div></colab-form></div>
    <div class="output" aria-label="Cell 32 output" role="region"><!----> <div class="output-header"> </div>
        <div class="output-content" hidden="">
          <div class="output-info"><colab-output-info title="Clear output

executed by Venkatesh Moturi
11:54 (0 minutes ago)
executed in 5.976 s"><template shadowrootmode="open"><!----><md-icon-button title="Code cell output actions" data-aria-label="Code cell output actions" value=""><template shadowrootmode="open" shadowrootdelegatesfocus><!----><button id="button" class="icon-button  standard " aria-label="Code cell output actions">
        <!--?lit$109918125$--><md-focus-ring part="focus-ring" for="button" aria-hidden="true"><template shadowrootmode="open"><!----></template></md-focus-ring>
        <!--?lit$109918125$--><md-ripple aria-hidden="true"><template shadowrootmode="open"><!----><div class="surface   "></div></template></md-ripple>
        <!--?lit$109918125$--><span class="icon"><slot></slot></span>
        <!--?lit$109918125$-->
        <!--?lit$109918125$--><span class="touch"></span>
        <!--?lit$109918125$-->
  </button></template>
        <md-icon aria-hidden="true"><template shadowrootmode="open"><!----><slot></slot></template><!--?lit$109918125$--><svg viewBox="0 0 24 24"><!--?lit$109918125$--><path d="m15.9 3.07c-4.32 0.0742-8.64-0.0355-13 0.0568-1.37 0.307-1.74 2.1-1.41 3.26 0.469 0.606 1.86 0.384 1.66-0.525 0.0448-0.329-0.183-0.93 0.354-0.766h13.3v1.53h1.71c0.0709-1.13 0.141-2.62-0.968-3.3-0.511-0.264-1.11-0.252-1.67-0.259zm2.94 6.84v4.87c1.62-1.62 3.24-3.24 4.87-4.87h-4.87zm0 0h-1.71v3.43l1.57 1.57c0.32-1.65 0.0556-3.34 0.135-5zm-1.71 3.43v-3.43h-3.43c1.14 1.14 2.29 2.29 3.43 3.43zm1.4 4.27h-1.71v1.48h-13.6v-1.48h-1.71c-0.0473 1.15-0.16 2.72 1.09 3.29 1.47 0.506 3.02 0.0265 4.53 0.192 3.34-0.0051 6.68 0.0336 10-0.0245 1.49-0.366 1.56-2.22 1.42-3.45zm-10.1-1.12c-0.398-0.483-0.796-0.967-1.19-1.45 0.59-0.683 1.18-1.37 1.77-2.05h-8.67v-2h8.67c-0.59-0.683-1.18-1.37-1.77-2.05 0.398-0.483 0.796-0.967 1.19-1.45 1.28 1.5 2.56 3 3.84 4.5-1.28 1.5-2.56 3-3.84 4.5z"></path></svg></md-icon>
      </md-icon-button></template></colab-output-info></div>
          <div class="output-iframe-container" hidden="">
            <div class="output-iframe-sizer" style="min-height: 0px;"> <div><div><colab-static-output-renderer role="group" tabindex="0"><div></div><div></div></colab-static-output-renderer></div></div></div>
          </div>
        </div></div></div><colab-cell-next-steps><template shadowrootmode="open"><!----></template></colab-cell-next-steps></div></div><div class="add-cell">
      <div class="add-cell-buttons">
        <md-outlined-button class="add-code add-button" data-aria-label="Add code cell
Ctrl+M B" title="Add code cell
Ctrl+M B" value="" has-icon=""><template shadowrootmode="open" shadowrootdelegatesfocus><!---->
      <!--?lit$109918125$--><div class="outline"></div>
      <div class="background"></div>
      <md-focus-ring part="focus-ring" for="button" aria-hidden="true"><template shadowrootmode="open"><!----></template></md-focus-ring>
      <md-ripple part="ripple" for="button" aria-hidden="true"><template shadowrootmode="open"><!----><div class="surface   "></div></template></md-ripple>
      <!--?lit$109918125$--><button id="button" class="button" aria-label="Add code cell
Ctrl+M B">
      <!--?lit$109918125$-->
      <span class="touch"></span>
      <!--?lit$109918125$--><slot name="icon"></slot>
      <span class="label"><slot></slot></span>
      <!--?lit$109918125$-->
    
    </button>
    </template>
          <md-icon slot="icon" aria-hidden="true"><template shadowrootmode="open"><!----><slot></slot></template>add</md-icon>
          <!--?lit$109918125$-->Code
        </md-outlined-button>
        <md-outlined-button class="add-text add-button" data-aria-label="Add text cell" title="Add text cell" value="" has-icon=""><template shadowrootmode="open" shadowrootdelegatesfocus><!---->
      <!--?lit$109918125$--><div class="outline"></div>
      <div class="background"></div>
      <md-focus-ring part="focus-ring" for="button" aria-hidden="true"><template shadowrootmode="open"><!----></template></md-focus-ring>
      <md-ripple part="ripple" for="button" aria-hidden="true"><template shadowrootmode="open"><!----><div class="surface"></div></template></md-ripple>
      <!--?lit$109918125$--><button id="button" class="button" aria-label="Add text cell">
      <!--?lit$109918125$-->
      <span class="touch"></span>
      <!--?lit$109918125$--><slot name="icon"></slot>
      <span class="label"><slot></slot></span>
      <!--?lit$109918125$-->
    
    </button>
    </template>
          <md-icon slot="icon" aria-hidden="true"><template shadowrootmode="open"><!----><slot></slot></template>add</md-icon>
          <!--?lit$109918125$-->Text
        </md-outlined-button>
        <!--?lit$109918125$-->
      </div><hr>
    </div></div><div class="cell text" id="cell-Eg9ySPDHtYLw" role="region" aria-label="Cell 33: Text cell: Write the pipeline code" style="" tabindex="-1"><div class="cell-tag-editor sticky"></div><div class="cell-toolbar sticky"></div><div class="main-content" elevation="0"><div class="cell-contents"><div class="cell-mask"></div><span class="imported-info-area"></span><!----> <div class="toolbar-root"></div>
      <div class="editor-container horizontal">
        <div class="editor-root"></div>
        <div class="text-top-div">
          <div class="markdown"><span><div class="text-cell-section-header layout horizontal center"><md-icon-button class="header-section-toggle" title="Collapse 7 child cells under Write the pipeline code (Press &lt;Shift&gt; to also collapse sibling sections)" data-aria-label="Collapse 7 child cells under Write the pipeline code (Press &lt;Shift&gt; to also collapse sibling sections)" value=""><template shadowrootmode="open" shadowrootdelegatesfocus><!----><button id="button" class="icon-button  standard " aria-label="Collapse 7 child cells under Write the pipeline code (Press &lt;Shift&gt; to also collapse sibling sections)">
        <!--?lit$109918125$--><md-focus-ring part="focus-ring" for="button" aria-hidden="true"><template shadowrootmode="open"><!----></template></md-focus-ring>
        <!--?lit$109918125$--><md-ripple aria-hidden="true"><template shadowrootmode="open"><!----><div class="surface   "></div></template></md-ripple>
        <!--?lit$109918125$--><span class="icon"><slot></slot></span>
        <!--?lit$109918125$-->
        <!--?lit$109918125$--><span class="touch"></span>
        <!--?lit$109918125$-->
  </button></template><md-icon aria-hidden="true"><template shadowrootmode="open"><!----><slot></slot></template>keyboard_arrow_down</md-icon></md-icon-button><h3>4. Write the pipeline code</h3></div>
</span></div>
        </div>
      </div>

      <div class="section-header" style="display: none;">
        <colab-run-button role="button" aria-label="Run cell"><template shadowrootmode="open"><!----> <div class="cell-execution">
      <div class="execution-count"><!--?lit$109918125$-->[ ]</div>
      <div class="cell-execution-indicator"> <!--?lit$109918125$-->
<svg xmlns="http://www.w3.org/2000/svg" viewBox="0 0 24 24">
  <!--?lit$109918125$-->
  <mask id="playSymbolMask">
    <rect width="100%" height="100%" fill="white"></rect>
    <polygon points="10,8 17,12 10,16" fill="black"></polygon>
  </mask>
  <circle cx="12" cy="12" r="7.8" mask="url(#playSymbolMask)" id="filledCircle"></circle>
</svg> </div>
      <!--?lit$109918125$--><!--?-->
    </div></template></colab-run-button>
        <div class="section-header-container" title="click to expand">↳ 7 cells hidden</div>
      </div></div></div><div class="add-cell">
      <hr>
    </div></div><div class="cell text" id="cell-0PuHEBIVtl-h" role="region" aria-label="Cell 34: Text cell: " style="" tabindex="-1"><div class="cell-tag-editor sticky"></div><div class="cell-toolbar sticky"></div><div class="main-content" elevation="0"><div class="cell-contents"><div class="cell-mask"></div><span class="imported-info-area"></span><!----> <div class="toolbar-root"></div>
      <div class="editor-container horizontal">
        <div class="editor-root"></div>
        <div class="text-top-div">
          <div class="markdown"><span><p><strong>Note</strong>: We first go over the code step by step before putting it into runnable cells</p>
<ol>
<li>Import necessary modules (run this cell)</li>
</ol>
</span></div>
        </div>
      </div>

      <div class="section-header" style="display: none;">
        <colab-run-button role="button" aria-label="Run cell"><template shadowrootmode="open"><!----> <div class="cell-execution">
      <div class="execution-count"><!--?lit$109918125$-->[ ]</div>
      <div class="cell-execution-indicator"> <!--?lit$109918125$-->
<svg xmlns="http://www.w3.org/2000/svg" viewBox="0 0 24 24">
  <!--?lit$109918125$-->
  <mask id="playSymbolMask">
    <rect width="100%" height="100%" fill="white"></rect>
    <polygon points="10,8 17,12 10,16" fill="black"></polygon>
  </mask>
  <circle cx="12" cy="12" r="7.8" mask="url(#playSymbolMask)" id="filledCircle"></circle>
</svg> </div>
      <!--?lit$109918125$--><!--?-->
    </div></template></colab-run-button>
        <div class="section-header-container" title="click to expand">↳ 0 cells hidden</div>
      </div></div></div><div class="add-cell">
      <hr>
    </div></div><div class="cell code icon-scrolling" id="cell-BiA7UEAmtoFy" role="region" aria-label="Cell 35: Code cell: " style="" tabindex="-1"><div class="cell-tag-editor sticky"></div><div class="cell-toolbar sticky"></div><div class="main-content" elevation="0"><div class="cell-contents"><div class="cell-mask"></div><span class="imported-info-area"></span><div class="codecell-input-output">
      <div class="inputarea horizontal layout code">
        <div class="cell-gutter">
          <!-- Bounding range for vertical scrolling of icons -->
          <div class="cell-execution-container">
            <colab-run-button title="Run cell (Ctrl+Enter)
cell has not been executed in this session

executed by Venkatesh Moturi
11:55 (17 minutes ago)
executed in 0.767 s" role="button" aria-label="Run cell"><template shadowrootmode="open"><!----> <div class="cell-execution stale">
      <div class="execution-count"><!--?lit$109918125$-->[ ]</div>
      <div class="cell-execution-indicator"> <!--?lit$109918125$-->
<svg xmlns="http://www.w3.org/2000/svg" viewBox="0 0 24 24">
  <!--?lit$109918125$-->
  <mask id="playSymbolMask">
    <rect width="100%" height="100%" fill="white"></rect>
    <polygon points="10,8 17,12 10,16" fill="black"></polygon>
  </mask>
  <circle cx="12" cy="12" r="7.8" mask="url(#playSymbolMask)" id="filledCircle"></circle>
</svg> </div>
      <!--?lit$109918125$--><!--?-->
    </div></template></colab-run-button>
          </div>
        </div>
      <div class="editor flex lazy-editor" style=""><pre class="lazy-virtualized" style="font-size: 14px; line-height: 19px;"><pre class="lazy-gutter"></pre><pre class="monaco-colorized colab-dark colab-dark colab-dark colab-dark colab-dark colab-dark" data-lang="notebook-python"><span><span class="mtk18">import</span><span class="mtk1">&nbsp;dlt</span></span><br><span><span class="mtk18">from</span><span class="mtk1">&nbsp;rest_api&nbsp;</span><span class="mtk18">import</span><span class="mtk1">&nbsp;RESTAPIConfig</span><span class="mtk12">,</span><span class="mtk1">&nbsp;rest_api_source</span></span><br><span><span></span></span><br><span><span class="mtk18">from</span><span class="mtk1">&nbsp;dlt.sources.helpers.rest_client.paginators&nbsp;</span><span class="mtk18">import</span><span class="mtk1">&nbsp;BasePaginator</span><span class="mtk12">,</span><span class="mtk1">&nbsp;JSONResponsePaginator</span></span><br><span><span class="mtk18">from</span><span class="mtk1">&nbsp;dlt.sources.helpers.requests&nbsp;</span><span class="mtk18">import</span><span class="mtk1">&nbsp;Response</span><span class="mtk12">,</span><span class="mtk1">&nbsp;Request</span></span><br><span><span></span></span><br><span><span class="mtk18">from</span><span class="mtk1">&nbsp;dlt.destinations.adapters&nbsp;</span><span class="mtk18">import</span><span class="mtk1">&nbsp;lancedb_adapter</span></span><br></pre><colab-read-only-cell-placeholder style="display: none;"><template shadowrootmode="open"><!----><div><!--?lit$109918125$-->Start coding or <span role="button" class="link" tabindex="0">generate</span> with AI.</div></template></colab-read-only-cell-placeholder></pre></div><colab-form class="formview vertical layout flex"><div class="widget-area vertical layout"></div></colab-form></div>
    <div class="output" aria-label="Cell 35 output" role="region"><!----> <div class="output-header"> </div>
        <div class="output-content" hidden="">
          <div class="output-info"><colab-output-info title="Clear output

executed by Venkatesh Moturi
11:55 (0 minutes ago)
executed in 0.767 s"><template shadowrootmode="open"><!----><md-icon-button title="Code cell output actions" data-aria-label="Code cell output actions" value=""><template shadowrootmode="open" shadowrootdelegatesfocus><!----><button id="button" class="icon-button  standard " aria-label="Code cell output actions">
        <!--?lit$109918125$--><md-focus-ring part="focus-ring" for="button" aria-hidden="true"><template shadowrootmode="open"><!----></template></md-focus-ring>
        <!--?lit$109918125$--><md-ripple aria-hidden="true"><template shadowrootmode="open"><!----><div class="surface   "></div></template></md-ripple>
        <!--?lit$109918125$--><span class="icon"><slot></slot></span>
        <!--?lit$109918125$-->
        <!--?lit$109918125$--><span class="touch"></span>
        <!--?lit$109918125$-->
  </button></template>
        <md-icon aria-hidden="true"><template shadowrootmode="open"><!----><slot></slot></template><!--?lit$109918125$--><svg viewBox="0 0 24 24"><!--?lit$109918125$--><path d="m15.9 3.07c-4.32 0.0742-8.64-0.0355-13 0.0568-1.37 0.307-1.74 2.1-1.41 3.26 0.469 0.606 1.86 0.384 1.66-0.525 0.0448-0.329-0.183-0.93 0.354-0.766h13.3v1.53h1.71c0.0709-1.13 0.141-2.62-0.968-3.3-0.511-0.264-1.11-0.252-1.67-0.259zm2.94 6.84v4.87c1.62-1.62 3.24-3.24 4.87-4.87h-4.87zm0 0h-1.71v3.43l1.57 1.57c0.32-1.65 0.0556-3.34 0.135-5zm-1.71 3.43v-3.43h-3.43c1.14 1.14 2.29 2.29 3.43 3.43zm1.4 4.27h-1.71v1.48h-13.6v-1.48h-1.71c-0.0473 1.15-0.16 2.72 1.09 3.29 1.47 0.506 3.02 0.0265 4.53 0.192 3.34-0.0051 6.68 0.0336 10-0.0245 1.49-0.366 1.56-2.22 1.42-3.45zm-10.1-1.12c-0.398-0.483-0.796-0.967-1.19-1.45 0.59-0.683 1.18-1.37 1.77-2.05h-8.67v-2h8.67c-0.59-0.683-1.18-1.37-1.77-2.05 0.398-0.483 0.796-0.967 1.19-1.45 1.28 1.5 2.56 3 3.84 4.5-1.28 1.5-2.56 3-3.84 4.5z"></path></svg></md-icon>
      </md-icon-button></template></colab-output-info></div>
          <div class="output-iframe-container" hidden="">
            <div class="output-iframe-sizer" style="min-height: 0px;"> <div><div><colab-static-output-renderer tabindex="0" role="group"><div></div><div></div></colab-static-output-renderer></div></div></div>
          </div>
        </div></div></div><colab-cell-next-steps><template shadowrootmode="open"><!----></template></colab-cell-next-steps></div></div><div class="add-cell">
      <hr>
    </div></div><div class="cell text" id="cell--xcvRa42rZoz" role="region" aria-label="Cell 36: Text cell: " style="" tabindex="-1"><div class="cell-tag-editor sticky"></div><div class="cell-toolbar sticky"></div><div class="main-content" elevation="0"><div class="cell-contents"><div class="cell-mask"></div><span class="imported-info-area"></span><!----> <div class="toolbar-root"></div>
      <div class="editor-container horizontal">
        <div class="editor-root"></div>
        <div class="text-top-div">
          <div class="markdown"><span><ol start="2">
<li><p>Configure the dlt rest api source to connect to and extract the relevant data out from the Notion REST API.</p>
<p>Our notion space has multiple pages and each page has multiple paragraphs (called blocks). To extract all this data from the Notion API, we would first need to get a list of all the page_ids (each page has a unique page_id), and then use the page_id to request the contents from the individual pages. Specifically:</p>
<ol>
<li>We will first request the page_ids from the <code>/search</code> endpoint</li>
<li>And then using the returned page_ids, we will request the contents from the <code>/blocks/{page_id}/children</code> endpoint</li>
</ol>
<p>With this in mind, we can configure the dlt notion rest api source as follows:</p>
<pre><code><span><span class="mtk1">RESTAPIConfig&nbsp;=&nbsp;</span><span class="mtk12">{</span></span><br><span><span class="mtk1">&nbsp;&nbsp;&nbsp;&nbsp;&nbsp;</span><span class="mtk5">"client"</span><span class="mtk12">:</span><span class="mtk1">&nbsp;</span><span class="mtk12">{</span></span><br><span><span class="mtk1">&nbsp;&nbsp;&nbsp;&nbsp;&nbsp;&nbsp;&nbsp;&nbsp;&nbsp;</span><span class="mtk5">"base_url"</span><span class="mtk12">:</span><span class="mtk1">&nbsp;</span><span class="mtk5">"https://api.notion.com/v1/"</span><span class="mtk12">,</span></span><br><span><span class="mtk1">&nbsp;&nbsp;&nbsp;&nbsp;&nbsp;&nbsp;&nbsp;&nbsp;&nbsp;</span><span class="mtk5">"auth"</span><span class="mtk12">:</span><span class="mtk1">&nbsp;</span><span class="mtk12">{</span></span><br><span><span class="mtk1">&nbsp;&nbsp;&nbsp;&nbsp;&nbsp;&nbsp;&nbsp;&nbsp;&nbsp;&nbsp;&nbsp;&nbsp;&nbsp;</span><span class="mtk5">"token"</span><span class="mtk12">:</span><span class="mtk1">&nbsp;dlt.secrets</span><span class="mtk12">[</span><span class="mtk5">"sources.rest_api.notion.api_key"</span><span class="mtk12">]</span></span><br><span><span class="mtk1">&nbsp;&nbsp;&nbsp;&nbsp;&nbsp;&nbsp;&nbsp;&nbsp;&nbsp;</span><span class="mtk12">},</span></span><br><span><span class="mtk1">&nbsp;&nbsp;&nbsp;&nbsp;&nbsp;&nbsp;&nbsp;&nbsp;&nbsp;</span><span class="mtk5">"headers"</span><span class="mtk12">:{</span></span><br><span><span class="mtk1">&nbsp;&nbsp;&nbsp;&nbsp;&nbsp;&nbsp;&nbsp;&nbsp;&nbsp;</span><span class="mtk5">"Content-Type"</span><span class="mtk12">:</span><span class="mtk1">&nbsp;</span><span class="mtk5">"application/json"</span><span class="mtk12">,</span></span><br><span><span class="mtk1">&nbsp;&nbsp;&nbsp;&nbsp;&nbsp;&nbsp;&nbsp;&nbsp;&nbsp;</span><span class="mtk5">"Notion-Version"</span><span class="mtk12">:</span><span class="mtk1">&nbsp;</span><span class="mtk5">"2022-06-28"</span></span><br><span><span class="mtk1">&nbsp;&nbsp;&nbsp;&nbsp;&nbsp;&nbsp;&nbsp;&nbsp;&nbsp;</span><span class="mtk12">}</span></span><br><span><span class="mtk1">&nbsp;&nbsp;&nbsp;&nbsp;&nbsp;</span><span class="mtk12">},</span></span><br><span><span class="mtk1">&nbsp;&nbsp;&nbsp;&nbsp;&nbsp;</span><span class="mtk5">"resources"</span><span class="mtk12">:</span><span class="mtk1">&nbsp;</span><span class="mtk12">[</span></span><br><span><span class="mtk1">&nbsp;&nbsp;&nbsp;&nbsp;&nbsp;&nbsp;&nbsp;&nbsp;&nbsp;</span><span class="mtk12">{</span></span><br><span><span class="mtk1">&nbsp;&nbsp;&nbsp;&nbsp;&nbsp;&nbsp;&nbsp;&nbsp;&nbsp;&nbsp;&nbsp;&nbsp;&nbsp;</span><span class="mtk5">"name"</span><span class="mtk12">:</span><span class="mtk1">&nbsp;</span><span class="mtk5">"search"</span><span class="mtk12">,</span></span><br><span><span class="mtk1">&nbsp;&nbsp;&nbsp;&nbsp;&nbsp;&nbsp;&nbsp;&nbsp;&nbsp;&nbsp;&nbsp;&nbsp;&nbsp;</span><span class="mtk5">"endpoint"</span><span class="mtk12">:</span><span class="mtk1">&nbsp;</span><span class="mtk12">{</span></span><br><span><span class="mtk1">&nbsp;&nbsp;&nbsp;&nbsp;&nbsp;&nbsp;&nbsp;&nbsp;&nbsp;&nbsp;&nbsp;&nbsp;&nbsp;&nbsp;&nbsp;&nbsp;&nbsp;</span><span class="mtk5">"path"</span><span class="mtk12">:</span><span class="mtk1">&nbsp;</span><span class="mtk5">"search"</span><span class="mtk12">,</span></span><br><span><span class="mtk1">&nbsp;&nbsp;&nbsp;&nbsp;&nbsp;&nbsp;&nbsp;&nbsp;&nbsp;&nbsp;&nbsp;&nbsp;&nbsp;&nbsp;&nbsp;&nbsp;&nbsp;</span><span class="mtk5">"method"</span><span class="mtk12">:</span><span class="mtk1">&nbsp;</span><span class="mtk5">"POST"</span><span class="mtk12">,</span></span><br><span><span class="mtk1">&nbsp;&nbsp;&nbsp;&nbsp;&nbsp;&nbsp;&nbsp;&nbsp;&nbsp;&nbsp;&nbsp;&nbsp;&nbsp;&nbsp;&nbsp;&nbsp;&nbsp;</span><span class="mtk5">"paginator"</span><span class="mtk12">:</span><span class="mtk1">&nbsp;PostBodyPaginator</span><span class="mtk12">(),</span></span><br><span><span class="mtk1">&nbsp;&nbsp;&nbsp;&nbsp;&nbsp;&nbsp;&nbsp;&nbsp;&nbsp;&nbsp;&nbsp;&nbsp;&nbsp;&nbsp;&nbsp;&nbsp;&nbsp;</span><span class="mtk5">"json"</span><span class="mtk12">:</span><span class="mtk1">&nbsp;</span><span class="mtk12">{</span></span><br><span><span class="mtk1">&nbsp;&nbsp;&nbsp;&nbsp;&nbsp;&nbsp;&nbsp;&nbsp;&nbsp;&nbsp;&nbsp;&nbsp;&nbsp;&nbsp;&nbsp;&nbsp;&nbsp;&nbsp;&nbsp;&nbsp;&nbsp;</span><span class="mtk5">"query"</span><span class="mtk12">:</span><span class="mtk1">&nbsp;</span><span class="mtk5">"workshop"</span><span class="mtk12">,</span></span><br><span><span class="mtk1">&nbsp;&nbsp;&nbsp;&nbsp;&nbsp;&nbsp;&nbsp;&nbsp;&nbsp;&nbsp;&nbsp;&nbsp;&nbsp;&nbsp;&nbsp;&nbsp;&nbsp;&nbsp;&nbsp;&nbsp;&nbsp;</span><span class="mtk5">"sort"</span><span class="mtk12">:</span><span class="mtk1">&nbsp;</span><span class="mtk12">{</span></span><br><span><span class="mtk1">&nbsp;&nbsp;&nbsp;&nbsp;&nbsp;&nbsp;&nbsp;&nbsp;&nbsp;&nbsp;&nbsp;&nbsp;&nbsp;&nbsp;&nbsp;&nbsp;&nbsp;&nbsp;&nbsp;&nbsp;&nbsp;&nbsp;&nbsp;&nbsp;&nbsp;</span><span class="mtk5">"direction"</span><span class="mtk12">:</span><span class="mtk1">&nbsp;</span><span class="mtk5">"ascending"</span><span class="mtk12">,</span></span><br><span><span class="mtk1">&nbsp;&nbsp;&nbsp;&nbsp;&nbsp;&nbsp;&nbsp;&nbsp;&nbsp;&nbsp;&nbsp;&nbsp;&nbsp;&nbsp;&nbsp;&nbsp;&nbsp;&nbsp;&nbsp;&nbsp;&nbsp;&nbsp;&nbsp;&nbsp;&nbsp;</span><span class="mtk5">"timestamp"</span><span class="mtk12">:</span><span class="mtk1">&nbsp;</span><span class="mtk5">"last_edited_time"</span></span><br><span><span class="mtk1">&nbsp;&nbsp;&nbsp;&nbsp;&nbsp;&nbsp;&nbsp;&nbsp;&nbsp;&nbsp;&nbsp;&nbsp;&nbsp;&nbsp;&nbsp;&nbsp;&nbsp;&nbsp;&nbsp;&nbsp;&nbsp;</span><span class="mtk12">}</span></span><br><span><span class="mtk1">&nbsp;&nbsp;&nbsp;&nbsp;&nbsp;&nbsp;&nbsp;&nbsp;&nbsp;&nbsp;&nbsp;&nbsp;&nbsp;&nbsp;&nbsp;&nbsp;&nbsp;</span><span class="mtk12">},</span></span><br><span><span class="mtk1">&nbsp;&nbsp;&nbsp;&nbsp;&nbsp;&nbsp;&nbsp;&nbsp;&nbsp;&nbsp;&nbsp;&nbsp;&nbsp;&nbsp;&nbsp;&nbsp;&nbsp;</span><span class="mtk5">"data_selector"</span><span class="mtk12">:</span><span class="mtk1">&nbsp;</span><span class="mtk5">"results"</span></span><br><span><span class="mtk1">&nbsp;&nbsp;&nbsp;&nbsp;&nbsp;&nbsp;&nbsp;&nbsp;&nbsp;&nbsp;&nbsp;&nbsp;&nbsp;</span><span class="mtk12">}</span></span><br><span><span class="mtk1">&nbsp;&nbsp;&nbsp;&nbsp;&nbsp;&nbsp;&nbsp;&nbsp;&nbsp;</span><span class="mtk12">},</span></span><br><span><span class="mtk1">&nbsp;&nbsp;&nbsp;&nbsp;&nbsp;&nbsp;&nbsp;&nbsp;&nbsp;</span><span class="mtk12">{</span></span><br><span><span class="mtk1">&nbsp;&nbsp;&nbsp;&nbsp;&nbsp;&nbsp;&nbsp;&nbsp;&nbsp;&nbsp;&nbsp;&nbsp;&nbsp;</span><span class="mtk5">"name"</span><span class="mtk12">:</span><span class="mtk1">&nbsp;</span><span class="mtk5">"page_content"</span><span class="mtk12">,</span></span><br><span><span class="mtk1">&nbsp;&nbsp;&nbsp;&nbsp;&nbsp;&nbsp;&nbsp;&nbsp;&nbsp;&nbsp;&nbsp;&nbsp;&nbsp;</span><span class="mtk5">"endpoint"</span><span class="mtk12">:</span><span class="mtk1">&nbsp;</span><span class="mtk12">{</span></span><br><span><span class="mtk1">&nbsp;&nbsp;&nbsp;&nbsp;&nbsp;&nbsp;&nbsp;&nbsp;&nbsp;&nbsp;&nbsp;&nbsp;&nbsp;&nbsp;&nbsp;&nbsp;&nbsp;</span><span class="mtk5">"path"</span><span class="mtk12">:</span><span class="mtk1">&nbsp;</span><span class="mtk5">"blocks/{page_id}/children"</span><span class="mtk12">,</span></span><br><span><span class="mtk1">&nbsp;&nbsp;&nbsp;&nbsp;&nbsp;&nbsp;&nbsp;&nbsp;&nbsp;&nbsp;&nbsp;&nbsp;&nbsp;&nbsp;&nbsp;&nbsp;&nbsp;</span><span class="mtk5">"paginator"</span><span class="mtk12">:</span><span class="mtk1">&nbsp;JSONResponsePaginator</span><span class="mtk12">(),</span></span><br><span><span class="mtk1">&nbsp;&nbsp;&nbsp;&nbsp;&nbsp;&nbsp;&nbsp;&nbsp;&nbsp;&nbsp;&nbsp;&nbsp;&nbsp;&nbsp;&nbsp;&nbsp;&nbsp;</span><span class="mtk5">"params"</span><span class="mtk12">:</span><span class="mtk1">&nbsp;</span><span class="mtk12">{</span></span><br><span><span class="mtk1">&nbsp;&nbsp;&nbsp;&nbsp;&nbsp;&nbsp;&nbsp;&nbsp;&nbsp;&nbsp;&nbsp;&nbsp;&nbsp;&nbsp;&nbsp;&nbsp;&nbsp;&nbsp;&nbsp;&nbsp;&nbsp;</span><span class="mtk5">"page_id"</span><span class="mtk12">:</span><span class="mtk1">&nbsp;</span><span class="mtk12">{</span></span><br><span><span class="mtk1">&nbsp;&nbsp;&nbsp;&nbsp;&nbsp;&nbsp;&nbsp;&nbsp;&nbsp;&nbsp;&nbsp;&nbsp;&nbsp;&nbsp;&nbsp;&nbsp;&nbsp;&nbsp;&nbsp;&nbsp;&nbsp;&nbsp;&nbsp;&nbsp;&nbsp;</span><span class="mtk5">"type"</span><span class="mtk12">:</span><span class="mtk1">&nbsp;</span><span class="mtk5">"resolve"</span><span class="mtk12">,</span></span><br><span><span class="mtk1">&nbsp;&nbsp;&nbsp;&nbsp;&nbsp;&nbsp;&nbsp;&nbsp;&nbsp;&nbsp;&nbsp;&nbsp;&nbsp;&nbsp;&nbsp;&nbsp;&nbsp;&nbsp;&nbsp;&nbsp;&nbsp;&nbsp;&nbsp;&nbsp;&nbsp;</span><span class="mtk5">"resource"</span><span class="mtk12">:</span><span class="mtk1">&nbsp;</span><span class="mtk5">"search"</span><span class="mtk12">,</span></span><br><span><span class="mtk1">&nbsp;&nbsp;&nbsp;&nbsp;&nbsp;&nbsp;&nbsp;&nbsp;&nbsp;&nbsp;&nbsp;&nbsp;&nbsp;&nbsp;&nbsp;&nbsp;&nbsp;&nbsp;&nbsp;&nbsp;&nbsp;&nbsp;&nbsp;&nbsp;&nbsp;</span><span class="mtk5">"field"</span><span class="mtk12">:</span><span class="mtk1">&nbsp;</span><span class="mtk5">"id"</span></span><br><span><span class="mtk1">&nbsp;&nbsp;&nbsp;&nbsp;&nbsp;&nbsp;&nbsp;&nbsp;&nbsp;&nbsp;&nbsp;&nbsp;&nbsp;&nbsp;&nbsp;&nbsp;&nbsp;&nbsp;&nbsp;&nbsp;&nbsp;</span><span class="mtk12">}</span></span><br><span><span class="mtk1">&nbsp;&nbsp;&nbsp;&nbsp;&nbsp;&nbsp;&nbsp;&nbsp;&nbsp;&nbsp;&nbsp;&nbsp;&nbsp;&nbsp;&nbsp;&nbsp;&nbsp;</span><span class="mtk12">},</span></span><br><span><span class="mtk1">&nbsp;&nbsp;&nbsp;&nbsp;&nbsp;&nbsp;&nbsp;&nbsp;&nbsp;&nbsp;&nbsp;&nbsp;&nbsp;</span><span class="mtk12">}</span></span><br><span><span class="mtk1">&nbsp;&nbsp;&nbsp;&nbsp;&nbsp;&nbsp;&nbsp;&nbsp;&nbsp;</span><span class="mtk12">}</span></span><br><span><span class="mtk1">&nbsp;&nbsp;&nbsp;&nbsp;&nbsp;</span><span class="mtk12">]</span></span><br><span><span class="mtk1">&nbsp;</span><span class="mtk12">}</span></span></code></pre>
<p> Explanation:</p>
<ol>
<li><code>client</code>: Here we added our base url, headers, and authentication</li>
<li><code>resources</code>: This is a list of endpoints that we wish to request data from (here: <code>/search</code> and <code>/blocks/{page_id}/children</code>)</li>
<li><a href="https://www.google.com/url?q=https%3A%2F%2Fdevelopers.notion.com%2Freference%2Fpost-search" target="_blank" rel="nofollow" aria-label="/search Link will open in a new tab"><code>/search</code></a> endpoint:<ul>
<li>The Notion API search endpoint allows us to filter pages based on the title. We can specify which pages we want returned based on the parameter "query". For example, if we'd like to return only those pages which has the word "workshop" in the title, then we would set <code>"query": "workshop"</code> in the json body.    </li>
<li>As a response, it returns only page metadata (like page_id). Example response:<pre><code><span><span class="mtk1">&nbsp;{</span></span><br><span><span class="mtk1">&nbsp;&nbsp;&nbsp;"object":&nbsp;"list",</span></span><br><span><span class="mtk1">&nbsp;&nbsp;&nbsp;"results":&nbsp;[</span></span><br><span><span class="mtk1">&nbsp;&nbsp;&nbsp;&nbsp;&nbsp;{</span></span><br><span><span class="mtk1">&nbsp;&nbsp;&nbsp;&nbsp;&nbsp;&nbsp;&nbsp;"object":&nbsp;"page",</span></span><br><span><span class="mtk1">&nbsp;&nbsp;&nbsp;&nbsp;&nbsp;&nbsp;&nbsp;"id":&nbsp;"954b67f9-3f87-41db-8874-23b92bbd31ee</span><span class="mtk1">",</span></span><br><span><span class="mtk1">&nbsp;&nbsp;&nbsp;&nbsp;&nbsp;&nbsp;&nbsp;"created_time":&nbsp;"2022-07-06T19:30:00.000Z",</span></span><br><span><span class="mtk1">&nbsp;&nbsp;&nbsp;&nbsp;&nbsp;&nbsp;&nbsp;"last_edited_time":&nbsp;"2022-07-06T19:30:00.00</span><span class="mtk1">0Z",</span></span><br><span><span class="mtk1">&nbsp;&nbsp;&nbsp;&nbsp;&nbsp;&nbsp;&nbsp;.</span></span><br><span><span class="mtk1">&nbsp;&nbsp;&nbsp;&nbsp;&nbsp;&nbsp;&nbsp;.</span></span><br><span><span class="mtk1">&nbsp;&nbsp;&nbsp;&nbsp;&nbsp;&nbsp;&nbsp;.</span></span><br><span><span class="mtk1">&nbsp;&nbsp;&nbsp;],</span></span><br><span><span class="mtk1">&nbsp;&nbsp;&nbsp;"next_cursor":&nbsp;null,</span></span><br><span><span class="mtk1">&nbsp;&nbsp;&nbsp;"has_more":&nbsp;false,</span></span><br><span><span class="mtk1">&nbsp;&nbsp;&nbsp;"type":&nbsp;"page_or_database",</span></span><br><span><span class="mtk1">&nbsp;&nbsp;&nbsp;"page_or_database":&nbsp;{}</span></span><br><span><span class="mtk1">&nbsp;}</span></span></code></pre>
</li>
<li>This is how we would define our endpoint configuration for <code>/search</code>:<pre><code><span><span class="mtk1">&nbsp;&nbsp;</span><span class="mtk12">{</span></span><br><span><span class="mtk1">&nbsp;&nbsp;&nbsp;&nbsp;</span><span class="mtk5">"name"</span><span class="mtk12">:</span><span class="mtk1">&nbsp;</span><span class="mtk5">"search"</span><span class="mtk12">,</span></span><br><span><span class="mtk1">&nbsp;&nbsp;&nbsp;&nbsp;</span><span class="mtk5">"endpoint"</span><span class="mtk12">:</span><span class="mtk1">&nbsp;</span><span class="mtk12">{</span></span><br><span><span class="mtk1">&nbsp;&nbsp;&nbsp;&nbsp;&nbsp;&nbsp;&nbsp;&nbsp;</span><span class="mtk5">"path"</span><span class="mtk12">:</span><span class="mtk1">&nbsp;</span><span class="mtk5">"search"</span><span class="mtk12">,</span></span><br><span><span class="mtk1">&nbsp;&nbsp;&nbsp;&nbsp;&nbsp;&nbsp;&nbsp;&nbsp;</span><span class="mtk5">"method"</span><span class="mtk12">:</span><span class="mtk1">&nbsp;</span><span class="mtk5">"POST"</span><span class="mtk12">,</span></span><br><span><span class="mtk1">&nbsp;&nbsp;&nbsp;&nbsp;&nbsp;&nbsp;&nbsp;&nbsp;</span><span class="mtk5">"paginator"</span><span class="mtk12">:</span><span class="mtk1">&nbsp;PostBodyPaginator</span><span class="mtk12">(),</span></span><br><span><span class="mtk1">&nbsp;&nbsp;&nbsp;&nbsp;&nbsp;&nbsp;&nbsp;&nbsp;</span><span class="mtk5">"json"</span><span class="mtk12">:</span><span class="mtk1">&nbsp;</span><span class="mtk12">{</span></span><br><span><span class="mtk1">&nbsp;&nbsp;&nbsp;&nbsp;&nbsp;&nbsp;&nbsp;&nbsp;&nbsp;&nbsp;&nbsp;&nbsp;</span><span class="mtk5">"query"</span><span class="mtk12">:</span><span class="mtk1">&nbsp;</span><span class="mtk5">"workshop"</span><span class="mtk12">,</span></span><br><span><span class="mtk1">&nbsp;&nbsp;&nbsp;&nbsp;&nbsp;&nbsp;&nbsp;&nbsp;&nbsp;&nbsp;&nbsp;&nbsp;</span><span class="mtk5">"sort"</span><span class="mtk12">:</span><span class="mtk1">&nbsp;</span><span class="mtk12">{</span></span><br><span><span class="mtk1">&nbsp;&nbsp;&nbsp;&nbsp;&nbsp;&nbsp;&nbsp;&nbsp;&nbsp;&nbsp;&nbsp;&nbsp;&nbsp;&nbsp;&nbsp;&nbsp;</span><span class="mtk5">"direction"</span><span class="mtk12">:</span><span class="mtk1">&nbsp;</span><span class="mtk5">"ascending"</span><span class="mtk12">,</span></span><br><span><span class="mtk1">&nbsp;&nbsp;&nbsp;&nbsp;&nbsp;&nbsp;&nbsp;&nbsp;&nbsp;&nbsp;&nbsp;&nbsp;&nbsp;&nbsp;&nbsp;&nbsp;</span><span class="mtk5">"timestamp"</span><span class="mtk12">:</span><span class="mtk1">&nbsp;</span><span class="mtk5">"last_edited_time"</span></span><br><span><span class="mtk1">&nbsp;&nbsp;&nbsp;&nbsp;&nbsp;&nbsp;&nbsp;&nbsp;&nbsp;&nbsp;&nbsp;&nbsp;</span><span class="mtk12">}</span></span><br><span><span class="mtk1">&nbsp;&nbsp;&nbsp;&nbsp;&nbsp;&nbsp;&nbsp;&nbsp;</span><span class="mtk12">},</span></span><br><span><span class="mtk1">&nbsp;&nbsp;&nbsp;&nbsp;&nbsp;&nbsp;&nbsp;&nbsp;</span><span class="mtk5">"data_selector"</span><span class="mtk12">:</span><span class="mtk1">&nbsp;</span><span class="mtk5">"results"</span></span><br><span><span class="mtk1">&nbsp;&nbsp;&nbsp;&nbsp;</span><span class="mtk12">}</span></span><br><span><span class="mtk12">},</span></span></code></pre>
</li>
<li><code>paginator</code> allows us to specify the pagination strategy relevant for the API and the endpoint. (More on this later)</li>
<li>Since <code>/search</code> is a POST endpoint, we can include the json body inside the key <code>json</code>.</li>
<li>We don't need the whole JSON response, but only the contents inside the field "results". We filter this out by specifying <code>"data_selector": "results"</code>.</li>
</ul>
</li>
<li><a href="https://www.google.com/url?q=https%3A%2F%2Fdevelopers.notion.com%2Freference%2Fget-block-children" target="_blank" rel="nofollow" aria-label="blocks/{page_id}/children Link will open in a new tab"><code>blocks/{page_id}/children</code></a> endpoint:<ul>
<li>This is a GET point that returns a list of block objects (in our case, paragraphs) from a specific page.</li>
<li>Since it accepts page_id as a parameter, we can pass this inside the key <code>params</code></li>
<li>We would like to be able to automatically fetch the page_ids returned from the <code>/search</code> endpoint and pass it as parameter into the endpoint <code>blocks/{page_id}/children</code>. We can do this by linking the two resources as follows:<pre><code><span><span class="mtk12">{</span></span><br><span><span class="mtk1">&nbsp;&nbsp;&nbsp;</span><span class="mtk5">"name"</span><span class="mtk12">:</span><span class="mtk1">&nbsp;</span><span class="mtk5">"page_content"</span><span class="mtk12">,</span></span><br><span><span class="mtk1">&nbsp;&nbsp;&nbsp;</span><span class="mtk5">"endpoint"</span><span class="mtk12">:</span><span class="mtk1">&nbsp;</span><span class="mtk12">{</span></span><br><span><span class="mtk1">&nbsp;&nbsp;&nbsp;&nbsp;&nbsp;&nbsp;&nbsp;</span><span class="mtk5">"path"</span><span class="mtk12">:</span><span class="mtk1">&nbsp;</span><span class="mtk5">"blocks/{page_id}/children"</span><span class="mtk12">,</span></span><br><span><span class="mtk1">&nbsp;&nbsp;&nbsp;&nbsp;&nbsp;&nbsp;&nbsp;</span><span class="mtk5">"paginator"</span><span class="mtk12">:</span><span class="mtk1">&nbsp;JSONResponsePaginator</span><span class="mtk12">(),</span></span><br><span><span class="mtk1">&nbsp;&nbsp;&nbsp;&nbsp;&nbsp;&nbsp;&nbsp;</span><span class="mtk5">"params"</span><span class="mtk12">:</span><span class="mtk1">&nbsp;</span><span class="mtk12">{</span></span><br><span><span class="mtk1">&nbsp;&nbsp;&nbsp;&nbsp;&nbsp;&nbsp;&nbsp;&nbsp;&nbsp;&nbsp;&nbsp;</span><span class="mtk5">"page_id"</span><span class="mtk12">:</span><span class="mtk1">&nbsp;</span><span class="mtk12">{</span></span><br><span><span class="mtk1">&nbsp;&nbsp;&nbsp;&nbsp;&nbsp;&nbsp;&nbsp;&nbsp;&nbsp;&nbsp;&nbsp;&nbsp;&nbsp;&nbsp;&nbsp;</span><span class="mtk5">"type"</span><span class="mtk12">:</span><span class="mtk1">&nbsp;</span><span class="mtk5">"resolve"</span><span class="mtk12">,</span></span><br><span><span class="mtk1">&nbsp;&nbsp;&nbsp;&nbsp;&nbsp;&nbsp;&nbsp;&nbsp;&nbsp;&nbsp;&nbsp;&nbsp;&nbsp;&nbsp;&nbsp;</span><span class="mtk5">"resource"</span><span class="mtk12">:</span><span class="mtk1">&nbsp;</span><span class="mtk5">"search"</span><span class="mtk12">,</span></span><br><span><span class="mtk1">&nbsp;&nbsp;&nbsp;&nbsp;&nbsp;&nbsp;&nbsp;&nbsp;&nbsp;&nbsp;&nbsp;&nbsp;&nbsp;&nbsp;&nbsp;</span><span class="mtk5">"field"</span><span class="mtk12">:</span><span class="mtk1">&nbsp;</span><span class="mtk5">"id"</span></span><br><span><span class="mtk1">&nbsp;&nbsp;&nbsp;&nbsp;&nbsp;&nbsp;&nbsp;&nbsp;&nbsp;&nbsp;&nbsp;</span><span class="mtk12">}</span></span><br><span><span class="mtk1">&nbsp;&nbsp;&nbsp;&nbsp;&nbsp;&nbsp;&nbsp;</span><span class="mtk12">},</span></span><br><span><span class="mtk1">&nbsp;&nbsp;&nbsp;</span><span class="mtk12">}</span></span><br><span><span class="mtk12">}</span></span></code></pre>
</li>
<li>By specifying <code>"type":"resolve"</code>, we are letting dlt know that this parameter needs to be resolved from the parent resource <code>"search"</code> using the field <code>"id"</code>, which corresponds to the page id in the response of <code>/search</code>.</li>
</ul>
</li>
</ol>
</li>
</ol>
</span></div>
        </div>
      </div>

      <div class="section-header" style="display: none;">
        <colab-run-button role="button" aria-label="Run cell"><template shadowrootmode="open"><!----> <div class="cell-execution">
      <div class="execution-count"><!--?lit$109918125$-->[ ]</div>
      <div class="cell-execution-indicator"> <!--?lit$109918125$-->
<svg xmlns="http://www.w3.org/2000/svg" viewBox="0 0 24 24">
  <!--?lit$109918125$-->
  <mask id="playSymbolMask">
    <rect width="100%" height="100%" fill="white"></rect>
    <polygon points="10,8 17,12 10,16" fill="black"></polygon>
  </mask>
  <circle cx="12" cy="12" r="7.8" mask="url(#playSymbolMask)" id="filledCircle"></circle>
</svg> </div>
      <!--?lit$109918125$--><!--?-->
    </div></template></colab-run-button>
        <div class="section-header-container" title="click to expand">↳ 0 cells hidden</div>
      </div></div></div><div class="add-cell">
      <hr>
    </div></div><div class="cell text" id="cell-LcJenlTNsBKS" role="region" aria-label="Cell 37: Text cell: " style="" tabindex="-1"><div class="cell-tag-editor sticky"></div><div class="cell-toolbar sticky"></div><div class="main-content" elevation="0"><div class="cell-contents"><div class="cell-mask"></div><span class="imported-info-area"></span><!----> <div class="toolbar-root"></div>
      <div class="editor-container horizontal">
        <div class="editor-root"></div>
        <div class="text-top-div">
          <div class="markdown"><span><p>  Note on pagination:</p>
<p>  Different REST APIs might use different strategies to handle paginated responses. dlt has built-in support for <a href="https://www.google.com/url?q=https%3A%2F%2Fdlthub.com%2Fdocs%2Fgeneral-usage%2Fhttp%2Frest-client%23paginators" target="_blank" rel="nofollow" aria-label="most common pagination mechanisms Link will open in a new tab">most common pagination mechanisms</a>, and these can be explicity passed inside the configuration like shown above.</p>
<p>  However in most cases, it won't be necessary to explicity specify the pagination strategy, since dlt detects it automatically.</p>
<p>  In case the specific pagination is not supported by dlt yet, then you can also implement a custom paginator. For example, dlt does not have a built-in paginator for POST methods, so we write our own paginator. We take the <a href="https://www.google.com/url?q=https%3A%2F%2Fdlthub.com%2Fdocs%2Fgeneral-usage%2Fhttp%2Frest-client%23example-2-creating-a-paginator-for-post-requests" target="_blank" rel="nofollow" aria-label="code provided in the docs for it Link will open in a new tab">code provided in the docs for it</a>, and make small modifications to it based on the <a href="https://www.google.com/url?q=https%3A%2F%2Fdevelopers.notion.com%2Freference%2Fintro%23parameters-for-paginated-requests" target="_blank" rel="nofollow" aria-label="notion API documentation Link will open in a new tab">notion API documentation</a>.</p>
<pre><code><span><span class="mtk1">&nbsp;&nbsp;</span><span class="mtk17">class</span><span class="mtk1">&nbsp;PostBodyPaginator</span><span class="mtk12">(</span><span class="mtk1">BasePaginator</span><span class="mtk12">):</span></span><br><span><span class="mtk1">&nbsp;&nbsp;&nbsp;&nbsp;&nbsp;&nbsp;</span><span class="mtk17">def</span><span class="mtk1">&nbsp;</span><span class="mtk17">__init__</span><span class="mtk12">(</span><span class="mtk17">self</span><span class="mtk12">):</span></span><br><span><span class="mtk1">&nbsp;&nbsp;&nbsp;&nbsp;&nbsp;&nbsp;&nbsp;&nbsp;&nbsp;&nbsp;</span><span class="mtk17">super</span><span class="mtk12">()</span><span class="mtk1">.</span><span class="mtk17">__init__</span><span class="mtk12">()</span></span><br><span><span class="mtk1">&nbsp;&nbsp;&nbsp;&nbsp;&nbsp;&nbsp;&nbsp;&nbsp;&nbsp;&nbsp;</span><span class="mtk17">self</span><span class="mtk1">.cursor&nbsp;=&nbsp;</span><span class="mtk17">None</span></span><br><span><span></span></span><br><span><span class="mtk1">&nbsp;&nbsp;&nbsp;&nbsp;&nbsp;&nbsp;</span><span class="mtk17">def</span><span class="mtk1">&nbsp;update_state</span><span class="mtk12">(</span><span class="mtk17">self</span><span class="mtk12">,</span><span class="mtk1">&nbsp;response</span><span class="mtk12">:</span><span class="mtk1">&nbsp;Response</span><span class="mtk12">)</span><span class="mtk1">&nbsp;-&gt;&nbsp;</span><span class="mtk17">None</span><span class="mtk12">:</span></span><br><span><span class="mtk1">&nbsp;&nbsp;&nbsp;&nbsp;&nbsp;&nbsp;&nbsp;&nbsp;&nbsp;&nbsp;</span><span class="mtk8">#&nbsp;Assuming&nbsp;the&nbsp;API&nbsp;returns&nbsp;an&nbsp;empty&nbsp;list&nbsp;when&nbsp;no&nbsp;m</span><span class="mtk8">ore&nbsp;data&nbsp;is&nbsp;available</span></span><br><span><span class="mtk1">&nbsp;&nbsp;&nbsp;&nbsp;&nbsp;&nbsp;&nbsp;&nbsp;&nbsp;&nbsp;</span><span class="mtk17">if</span><span class="mtk1">&nbsp;</span><span class="mtk17">not</span><span class="mtk1">&nbsp;response.json</span><span class="mtk12">():</span></span><br><span><span class="mtk1">&nbsp;&nbsp;&nbsp;&nbsp;&nbsp;&nbsp;&nbsp;&nbsp;&nbsp;&nbsp;&nbsp;&nbsp;&nbsp;&nbsp;</span><span class="mtk17">self</span><span class="mtk1">._has_next_page&nbsp;=&nbsp;</span><span class="mtk17">False</span></span><br><span><span class="mtk1">&nbsp;&nbsp;&nbsp;&nbsp;&nbsp;&nbsp;&nbsp;&nbsp;&nbsp;&nbsp;</span><span class="mtk17">else</span><span class="mtk12">:</span></span><br><span><span class="mtk1">&nbsp;&nbsp;&nbsp;&nbsp;&nbsp;&nbsp;&nbsp;&nbsp;&nbsp;&nbsp;&nbsp;&nbsp;&nbsp;&nbsp;</span><span class="mtk17">self</span><span class="mtk1">.cursor&nbsp;=&nbsp;response.json</span><span class="mtk12">()</span><span class="mtk1">.get</span><span class="mtk12">(</span><span class="mtk5">"next_cursor"</span><span class="mtk12">)</span></span><br><span><span class="mtk1">&nbsp;&nbsp;&nbsp;&nbsp;&nbsp;&nbsp;&nbsp;&nbsp;&nbsp;&nbsp;&nbsp;&nbsp;&nbsp;&nbsp;</span><span class="mtk17">if</span><span class="mtk1">&nbsp;</span><span class="mtk17">self</span><span class="mtk1">.cursor&nbsp;</span><span class="mtk17">is</span><span class="mtk1">&nbsp;</span><span class="mtk17">None</span><span class="mtk12">:</span></span><br><span><span class="mtk1">&nbsp;&nbsp;&nbsp;&nbsp;&nbsp;&nbsp;&nbsp;&nbsp;&nbsp;&nbsp;&nbsp;&nbsp;&nbsp;&nbsp;&nbsp;&nbsp;&nbsp;&nbsp;</span><span class="mtk17">self</span><span class="mtk1">._has_next_page&nbsp;=&nbsp;</span><span class="mtk17">False</span></span><br><span><span></span></span><br><span><span class="mtk1">&nbsp;&nbsp;&nbsp;&nbsp;&nbsp;&nbsp;</span><span class="mtk17">def</span><span class="mtk1">&nbsp;update_request</span><span class="mtk12">(</span><span class="mtk17">self</span><span class="mtk12">,</span><span class="mtk1">&nbsp;request</span><span class="mtk12">:</span><span class="mtk1">&nbsp;Request</span><span class="mtk12">)</span><span class="mtk1">&nbsp;-&gt;&nbsp;</span><span class="mtk17">None</span><span class="mtk12">:</span></span><br><span><span class="mtk1">&nbsp;&nbsp;&nbsp;&nbsp;&nbsp;&nbsp;&nbsp;&nbsp;&nbsp;&nbsp;</span><span class="mtk17">if</span><span class="mtk1">&nbsp;request.json&nbsp;</span><span class="mtk17">is</span><span class="mtk1">&nbsp;</span><span class="mtk17">None</span><span class="mtk12">:</span></span><br><span><span class="mtk1">&nbsp;&nbsp;&nbsp;&nbsp;&nbsp;&nbsp;&nbsp;&nbsp;&nbsp;&nbsp;&nbsp;&nbsp;&nbsp;&nbsp;request.json&nbsp;=&nbsp;</span><span class="mtk12">{}</span></span><br><span><span></span></span><br><span><span class="mtk1">&nbsp;&nbsp;&nbsp;&nbsp;&nbsp;&nbsp;&nbsp;&nbsp;&nbsp;&nbsp;</span><span class="mtk8">#&nbsp;Add&nbsp;the&nbsp;cursor&nbsp;to&nbsp;the&nbsp;request&nbsp;body</span></span><br><span><span class="mtk1">&nbsp;&nbsp;&nbsp;&nbsp;&nbsp;&nbsp;&nbsp;&nbsp;&nbsp;&nbsp;request.json</span><span class="mtk12">[</span><span class="mtk5">"start_cursor"</span><span class="mtk12">]</span><span class="mtk1">&nbsp;=&nbsp;</span><span class="mtk17">self</span><span class="mtk1">.cursor</span></span></code></pre>
</span></div>
        </div>
      </div>

      <div class="section-header" style="display: none;">
        <colab-run-button role="button" aria-label="Run cell"><template shadowrootmode="open"><!----> <div class="cell-execution">
      <div class="execution-count"><!--?lit$109918125$-->[ ]</div>
      <div class="cell-execution-indicator"> <!--?lit$109918125$-->
<svg xmlns="http://www.w3.org/2000/svg" viewBox="0 0 24 24">
  <!--?lit$109918125$-->
  <mask id="playSymbolMask">
    <rect width="100%" height="100%" fill="white"></rect>
    <polygon points="10,8 17,12 10,16" fill="black"></polygon>
  </mask>
  <circle cx="12" cy="12" r="7.8" mask="url(#playSymbolMask)" id="filledCircle"></circle>
</svg> </div>
      <!--?lit$109918125$--><!--?-->
    </div></template></colab-run-button>
        <div class="section-header-container" title="click to expand">↳ 0 cells hidden</div>
      </div></div></div><div class="add-cell">
      <hr>
    </div></div><div class="cell text" id="cell-tCeKKPz6spg3" role="region" aria-label="Cell 38: Text cell: " style="" tabindex="-1"><div class="cell-tag-editor sticky"></div><div class="cell-toolbar sticky"></div><div class="main-content" elevation="0"><div class="cell-contents"><div class="cell-mask"></div><span class="imported-info-area"></span><!----> <div class="toolbar-root"></div>
      <div class="editor-container horizontal">
        <div class="editor-root"></div>
        <div class="text-top-div">
          <div class="markdown"><span><ol start="3">
<li><p>Extract relevant content from the response body</p>
<p>The response returned from the API is a nested JSON which we need to pre-process before using it anywhere. dlt can unnest json automatically, but since the Notion API is a little tricky it's better to pre-process this first so we have a more structured DB as a result.</p>
<p>One way to do this is to pass the JSON response through a transformation function that will extract only the relevant data from the JSON body (we later add this as a mapping to the resource):</p>
<pre><code><span><span class="mtk17">def</span><span class="mtk1">&nbsp;extract_page_content</span><span class="mtk12">(</span><span class="mtk1">response</span><span class="mtk12">):</span></span><br><span><span class="mtk1">&nbsp;&nbsp;&nbsp;block_id&nbsp;=&nbsp;response</span><span class="mtk12">[</span><span class="mtk5">"id"</span><span class="mtk12">]</span></span><br><span><span class="mtk1">&nbsp;&nbsp;&nbsp;last_edited_time&nbsp;=&nbsp;response</span><span class="mtk12">[</span><span class="mtk5">"last_edited_time"</span><span class="mtk12">]</span></span><br><span><span class="mtk1">&nbsp;&nbsp;&nbsp;block_type&nbsp;=&nbsp;response.get</span><span class="mtk12">(</span><span class="mtk5">"type"</span><span class="mtk12">,</span><span class="mtk1">&nbsp;</span><span class="mtk5">"Not&nbsp;paragraph"</span><span class="mtk12">)</span></span><br><span><span class="mtk1">&nbsp;&nbsp;&nbsp;</span><span class="mtk17">if</span><span class="mtk1">&nbsp;block_type&nbsp;!=&nbsp;</span><span class="mtk5">"paragraph"</span><span class="mtk12">:</span></span><br><span><span class="mtk1">&nbsp;&nbsp;&nbsp;&nbsp;&nbsp;&nbsp;&nbsp;content&nbsp;=&nbsp;</span><span class="mtk5">""</span></span><br><span><span class="mtk1">&nbsp;&nbsp;&nbsp;</span><span class="mtk17">else</span><span class="mtk12">:</span></span><br><span><span class="mtk1">&nbsp;&nbsp;&nbsp;&nbsp;&nbsp;&nbsp;&nbsp;</span><span class="mtk17">try</span><span class="mtk12">:</span></span><br><span><span class="mtk1">&nbsp;&nbsp;&nbsp;&nbsp;&nbsp;&nbsp;&nbsp;&nbsp;&nbsp;&nbsp;&nbsp;content&nbsp;=&nbsp;response</span><span class="mtk12">[</span><span class="mtk5">"paragraph"</span><span class="mtk12">][</span><span class="mtk5">"rich_text"</span><span class="mtk12">][</span><span class="mtk6">0</span><span class="mtk12">][</span><span class="mtk5">"plain_text"</span><span class="mtk12">]</span></span><br><span><span class="mtk1">&nbsp;&nbsp;&nbsp;&nbsp;&nbsp;&nbsp;&nbsp;</span><span class="mtk17">except</span><span class="mtk1">&nbsp;IndexError</span><span class="mtk12">:</span></span><br><span><span class="mtk1">&nbsp;&nbsp;&nbsp;&nbsp;&nbsp;&nbsp;&nbsp;&nbsp;&nbsp;&nbsp;&nbsp;content&nbsp;=&nbsp;</span><span class="mtk5">""</span></span><br><span><span class="mtk1">&nbsp;&nbsp;&nbsp;</span><span class="mtk17">return</span><span class="mtk1">&nbsp;</span><span class="mtk12">{</span></span><br><span><span class="mtk1">&nbsp;&nbsp;&nbsp;&nbsp;&nbsp;&nbsp;&nbsp;</span><span class="mtk5">"block_id"</span><span class="mtk12">:</span><span class="mtk1">&nbsp;block_id</span><span class="mtk12">,</span></span><br><span><span class="mtk1">&nbsp;&nbsp;&nbsp;&nbsp;&nbsp;&nbsp;&nbsp;</span><span class="mtk5">"block_type"</span><span class="mtk12">:</span><span class="mtk1">&nbsp;block_type</span><span class="mtk12">,</span></span><br><span><span class="mtk1">&nbsp;&nbsp;&nbsp;&nbsp;&nbsp;&nbsp;&nbsp;</span><span class="mtk5">"content"</span><span class="mtk12">:</span><span class="mtk1">&nbsp;content</span><span class="mtk12">,</span></span><br><span><span class="mtk1">&nbsp;&nbsp;&nbsp;&nbsp;&nbsp;&nbsp;&nbsp;</span><span class="mtk5">"last_edited_time"</span><span class="mtk12">:</span><span class="mtk1">&nbsp;last_edited_time</span><span class="mtk12">,</span></span><br><span><span class="mtk1">&nbsp;&nbsp;&nbsp;&nbsp;&nbsp;&nbsp;&nbsp;</span><span class="mtk5">"inserted_at_time"</span><span class="mtk12">:</span><span class="mtk1">&nbsp;datetime.now</span><span class="mtk12">(</span><span class="mtk1">timezone.utc</span><span class="mtk12">)</span></span><br><span><span class="mtk1">&nbsp;&nbsp;&nbsp;</span><span class="mtk12">}</span></span></code></pre>
<p>This is also where you could implement some sort of chunking strategy, but we will omit this in this example as the Notion text is already pre-chunked into paragraphs. Any data pre-processing can also happen here.</p>
<p><strong>Note</strong>: If you want to include the parent page in the returned data, you can do so by including <code>response["parent"]["page_id"]</code>. See 200 response example in the <a href="https://www.google.com/url?q=https%3A%2F%2Fdevelopers.notion.com%2Freference%2Fget-block-children" target="_blank" rel="nofollow" aria-label="Notion docs Link will open in a new tab">Notion docs</a>.</p>
<p>JSON response before the function:</p>
<pre><code><span><span class="mtk1">{</span></span><br><span><span class="mtk1">&nbsp;&nbsp;&nbsp;"object":&nbsp;"list",</span></span><br><span><span class="mtk1">&nbsp;&nbsp;&nbsp;"results":&nbsp;[</span></span><br><span><span class="mtk1">&nbsp;&nbsp;&nbsp;&nbsp;&nbsp;{</span></span><br><span><span class="mtk1">&nbsp;&nbsp;&nbsp;&nbsp;&nbsp;&nbsp;&nbsp;"object":&nbsp;"block",</span></span><br><span><span class="mtk1">&nbsp;&nbsp;&nbsp;&nbsp;&nbsp;&nbsp;&nbsp;"id":&nbsp;"c02fc1d3-db8b-45c5-a222-27595b15aea7</span><span class="mtk1">",</span></span><br><span><span class="mtk1">&nbsp;&nbsp;&nbsp;&nbsp;&nbsp;&nbsp;&nbsp;"created_time":&nbsp;"2022-03-01T19:05:00.000Z",</span></span><br><span><span class="mtk1">&nbsp;&nbsp;&nbsp;&nbsp;&nbsp;&nbsp;&nbsp;"last_edited_time":&nbsp;"2022-03-01T19:05:00.00</span><span class="mtk1">0Z",</span></span><br><span><span class="mtk1">&nbsp;&nbsp;&nbsp;&nbsp;&nbsp;&nbsp;&nbsp;.</span></span><br><span><span class="mtk1">&nbsp;&nbsp;&nbsp;&nbsp;&nbsp;&nbsp;&nbsp;.</span></span><br><span><span class="mtk1">&nbsp;&nbsp;&nbsp;&nbsp;&nbsp;&nbsp;&nbsp;.</span></span><br><span><span class="mtk1">&nbsp;&nbsp;&nbsp;&nbsp;&nbsp;&nbsp;&nbsp;"type":&nbsp;"paragraph",</span></span><br><span><span class="mtk1">&nbsp;&nbsp;&nbsp;&nbsp;&nbsp;&nbsp;&nbsp;"paragraph":&nbsp;{</span></span><br><span><span class="mtk1">&nbsp;&nbsp;&nbsp;&nbsp;&nbsp;&nbsp;&nbsp;&nbsp;&nbsp;"rich_text":&nbsp;[</span></span><br><span><span class="mtk1">&nbsp;&nbsp;&nbsp;&nbsp;&nbsp;&nbsp;&nbsp;&nbsp;&nbsp;&nbsp;&nbsp;{</span></span><br><span><span class="mtk1">&nbsp;&nbsp;&nbsp;&nbsp;&nbsp;&nbsp;&nbsp;&nbsp;&nbsp;&nbsp;&nbsp;&nbsp;&nbsp;.</span></span><br><span><span class="mtk1">&nbsp;&nbsp;&nbsp;&nbsp;&nbsp;&nbsp;&nbsp;&nbsp;&nbsp;&nbsp;&nbsp;&nbsp;&nbsp;.</span></span><br><span><span class="mtk1">&nbsp;&nbsp;&nbsp;&nbsp;&nbsp;&nbsp;&nbsp;&nbsp;&nbsp;&nbsp;&nbsp;&nbsp;&nbsp;.</span></span><br><span><span class="mtk1">&nbsp;&nbsp;&nbsp;&nbsp;&nbsp;&nbsp;&nbsp;&nbsp;&nbsp;&nbsp;&nbsp;&nbsp;&nbsp;"annotations":&nbsp;{</span></span><br><span><span class="mtk1">&nbsp;&nbsp;&nbsp;&nbsp;&nbsp;&nbsp;&nbsp;&nbsp;&nbsp;&nbsp;&nbsp;&nbsp;&nbsp;&nbsp;&nbsp;.</span></span><br><span><span class="mtk1">&nbsp;&nbsp;&nbsp;&nbsp;&nbsp;&nbsp;&nbsp;&nbsp;&nbsp;&nbsp;&nbsp;&nbsp;&nbsp;&nbsp;&nbsp;.</span></span><br><span><span class="mtk1">&nbsp;&nbsp;&nbsp;&nbsp;&nbsp;&nbsp;&nbsp;&nbsp;&nbsp;&nbsp;&nbsp;&nbsp;&nbsp;&nbsp;&nbsp;.</span></span><br><span><span></span></span><br><span><span class="mtk1">&nbsp;&nbsp;&nbsp;&nbsp;&nbsp;&nbsp;&nbsp;&nbsp;&nbsp;&nbsp;&nbsp;&nbsp;&nbsp;},</span></span><br><span><span class="mtk1">&nbsp;&nbsp;&nbsp;&nbsp;&nbsp;&nbsp;&nbsp;&nbsp;&nbsp;&nbsp;&nbsp;&nbsp;&nbsp;"plain_text":&nbsp;"Lacinato&nbsp;kale&nbsp;is&nbsp;a&nbsp;var</span><span class="mtk1">iety&nbsp;of&nbsp;kale&nbsp;with&nbsp;a&nbsp;long&nbsp;tradition&nbsp;in&nbsp;Italian&nbsp;cuis</span><span class="mtk1">ine,&nbsp;especially&nbsp;that&nbsp;of&nbsp;Tuscany.&nbsp;It&nbsp;is&nbsp;also&nbsp;known&nbsp;</span><span class="mtk1">as&nbsp;Tuscan&nbsp;kale,&nbsp;Italian&nbsp;kale,&nbsp;dinosaur&nbsp;kale,&nbsp;kale,</span><span class="mtk1">&nbsp;flat&nbsp;back&nbsp;kale,&nbsp;palm&nbsp;tree&nbsp;kale,&nbsp;or&nbsp;black&nbsp;Tuscan&nbsp;p</span><span class="mtk1">alm.",</span></span><br><span><span class="mtk1">&nbsp;&nbsp;&nbsp;&nbsp;&nbsp;&nbsp;&nbsp;&nbsp;&nbsp;&nbsp;&nbsp;&nbsp;&nbsp;"href":&nbsp;"https://en.wikipedia.org/wik</span><span class="mtk1">i/Lacinato_kale"</span></span><br><span><span class="mtk1">&nbsp;&nbsp;&nbsp;&nbsp;&nbsp;&nbsp;&nbsp;&nbsp;&nbsp;&nbsp;&nbsp;}</span></span><br><span><span class="mtk1">&nbsp;&nbsp;&nbsp;&nbsp;&nbsp;&nbsp;&nbsp;&nbsp;&nbsp;],</span></span><br><span><span class="mtk1">&nbsp;&nbsp;&nbsp;&nbsp;&nbsp;&nbsp;&nbsp;&nbsp;&nbsp;"color":&nbsp;"default"</span></span><br><span><span class="mtk1">&nbsp;&nbsp;&nbsp;&nbsp;&nbsp;&nbsp;&nbsp;}</span></span><br><span><span class="mtk1">&nbsp;&nbsp;&nbsp;&nbsp;&nbsp;}</span></span><br><span><span class="mtk1">&nbsp;&nbsp;&nbsp;],</span></span><br><span><span class="mtk1">&nbsp;&nbsp;&nbsp;"next_cursor":&nbsp;null,</span></span><br><span><span class="mtk1">&nbsp;&nbsp;&nbsp;"has_more":&nbsp;false,</span></span><br><span><span class="mtk1">&nbsp;&nbsp;&nbsp;"type":&nbsp;"block",</span></span><br><span><span class="mtk1">&nbsp;&nbsp;&nbsp;"block":&nbsp;{}</span></span><br><span><span class="mtk1">}</span></span></code></pre><p>After passing it through the transformation function:</p>
<pre><code><span><span class="mtk1">{</span></span><br><span><span class="mtk1">&nbsp;&nbsp;&nbsp;"block_id":&nbsp;"c02fc1d3-db8b-45c5-a222-27595b15ae</span><span class="mtk1">a7",</span></span><br><span><span class="mtk1">&nbsp;&nbsp;&nbsp;"block_type":&nbsp;"paragraph",</span></span><br><span><span class="mtk1">&nbsp;&nbsp;&nbsp;"content":&nbsp;"Lacinato&nbsp;kale&nbsp;is&nbsp;a&nbsp;variety&nbsp;of&nbsp;kale&nbsp;</span><span class="mtk1">with&nbsp;a&nbsp;long&nbsp;tradition&nbsp;in&nbsp;Italian&nbsp;cuisine,&nbsp;especial</span><span class="mtk1">ly&nbsp;that&nbsp;of&nbsp;Tuscany.&nbsp;It&nbsp;is&nbsp;also&nbsp;known&nbsp;as&nbsp;Tuscan&nbsp;kal</span><span class="mtk1">e,&nbsp;Italian&nbsp;kale,&nbsp;dinosaur&nbsp;kale,&nbsp;kale,&nbsp;flat&nbsp;back&nbsp;ka</span><span class="mtk1">le,&nbsp;palm&nbsp;tree&nbsp;kale,&nbsp;or&nbsp;black&nbsp;Tuscan&nbsp;palm.",</span></span><br><span><span class="mtk1">&nbsp;&nbsp;&nbsp;"last_edited_time":&nbsp;"2022-03-01T19:05:00.000Z",</span></span><br><span><span class="mtk1">}</span></span><br><span><span></span></span></code></pre></li>
</ol>
</span></div>
        </div>
      </div>

      <div class="section-header" style="display: none;">
        <colab-run-button role="button" aria-label="Run cell"><template shadowrootmode="open"><!----> <div class="cell-execution">
      <div class="execution-count"><!--?lit$109918125$-->[ ]</div>
      <div class="cell-execution-indicator"> <!--?lit$109918125$-->
<svg xmlns="http://www.w3.org/2000/svg" viewBox="0 0 24 24">
  <!--?lit$109918125$-->
  <mask id="playSymbolMask">
    <rect width="100%" height="100%" fill="white"></rect>
    <polygon points="10,8 17,12 10,16" fill="black"></polygon>
  </mask>
  <circle cx="12" cy="12" r="7.8" mask="url(#playSymbolMask)" id="filledCircle"></circle>
</svg> </div>
      <!--?lit$109918125$--><!--?-->
    </div></template></colab-run-button>
        <div class="section-header-container" title="click to expand">↳ 0 cells hidden</div>
      </div></div></div><div class="add-cell">
      <hr>
    </div></div><div class="cell text" id="cell-eTGdAXpKs8Pb" role="region" aria-label="Cell 39: Text cell: " style="" tabindex="-1"><div class="cell-tag-editor sticky"></div><div class="cell-toolbar sticky"></div><div class="main-content" elevation="0"><div class="cell-contents"><div class="cell-mask"></div><span class="imported-info-area"></span><!----> <div class="toolbar-root"></div>
      <div class="editor-container horizontal">
        <div class="editor-root"></div>
        <div class="text-top-div">
          <div class="markdown"><span><ol start="4">
<li><p>Load the data incrementally</p>
<p>Incremental loading is a very important aspect of building scalable data pipelines. It is the technique of loading only the new or changed data since the last run of the pipeline.</p>
<p>In our case, when we first run the pipeline, all paragraphs from the employee handbook will get loaded as separate rows inside a lancedb table. Now if we change the content of one of the paragraphs and re-run the pipeline to update the table, then without doing incremental loading, one of two things may happen depending on the option we choose:</p>
<ul>
<li>If we choose the option "replace", then the existing data in lancedb will be dropped, and all of the paragraphs will be reloaded.</li>
<li>If we choose the option "append", then the existing rows would remain and all of the paragraphs would be loaded again as new rows resulting in twice as many rows</li>
</ul>
<p>To ensure that only the new/changed rows are loaded we would need the following pieces:</p>
<ul>
<li>A column that can keep track of changes in the row (Example: only load rows where <code>last_edited_time</code> is greater than the current maximum <code>last_edited_time</code>)</li>
<li>A primary_key column that uniquely identify a row, so it's possible to track when the row changes</li>
<li>A strategy to resolve changes in a single row (example: drop current and load the changed row)</li>
</ul>
<p>This behaviour can be configured easily into a dlt rersource:</p>
<ul>
<li><p>Pass the incremental column as a parameter inside the resource</p>
<pre><code><span><span class="mtk17">def</span><span class="mtk1">&nbsp;rest_api_notion_incremental</span><span class="mtk12">(</span></span><br><span><span class="mtk1">&nbsp;last_edited_time&nbsp;=&nbsp;dlt.sources.incremental</span><span class="mtk12">(</span><span class="mtk5">"last_edited_time"</span><span class="mtk12">,</span><span class="mtk1">&nbsp;initial_value=</span><span class="mtk5">"2024-06-26T08:16:00.000Z"</span><span class="mtk12">,</span><span class="mtk1">primary_key=</span><span class="mtk12">(</span><span class="mtk5">"block_id"</span><span class="mtk12">))</span></span><br><span><span class="mtk12">):</span></span></code></pre>
<p>We choose the column <code>last_edited_time</code> since it keeps track of whenever a paragraph changes.</p>
</li>
<li><p>Pass the following arguments inside <code>@dlt.resource</code> to define the strategy for dealing with duplicate rows:</p>
<ul>
<li><code>write_disposition="merge"</code>: ensures that any duplicate rows are merged on the primary key</li>
<li><code>primary_key="block_id"</code>: specifies the primary key that we'd like to merge on. In our case, this is <code>block_id</code>, which is a unique id corresponding to each block (paragraph).</li>
<li><code>columns={"last_edited_time":{"dedup_sort":"desc"}}</code>: this specifies the deduplication strategy (how we would like to resolve duplicate rows). Here we chose to keep the row with the largest value of <code>last_edited_time</code>.</li>
</ul>
<p>Putting it together:</p>
<pre><code><span><span class="mtk9">@dlt</span><span class="mtk1">.resource</span><span class="mtk12">(</span></span><br><span><span class="mtk1">&nbsp;&nbsp;&nbsp;name=</span><span class="mtk5">"employee_handbook"</span><span class="mtk12">,</span></span><br><span><span class="mtk1">&nbsp;&nbsp;&nbsp;write_disposition=</span><span class="mtk5">"merge"</span><span class="mtk12">,</span></span><br><span><span class="mtk1">&nbsp;&nbsp;&nbsp;primary_key=</span><span class="mtk5">"block_id"</span><span class="mtk12">,</span></span><br><span><span class="mtk1">&nbsp;&nbsp;&nbsp;columns=</span><span class="mtk12">{</span><span class="mtk5">"last_edited_time"</span><span class="mtk12">:{</span><span class="mtk5">"dedup_sort"</span><span class="mtk12">:</span><span class="mtk5">"desc"</span><span class="mtk12">}}</span></span><br><span><span class="mtk12">)</span></span><br><span><span class="mtk17">def</span><span class="mtk1">&nbsp;rest_api_notion_incremental</span><span class="mtk12">(</span></span><br><span><span class="mtk1">&nbsp;&nbsp;&nbsp;last_edited_time&nbsp;=&nbsp;dlt.sources.incremental</span><span class="mtk12">(</span><span class="mtk5">"last_edited_time"</span><span class="mtk12">,</span><span class="mtk1">&nbsp;initial_value=</span><span class="mtk5">"2024-06-26T08:16:00.000Z"</span><span class="mtk12">,</span><span class="mtk1">primary_key=</span><span class="mtk12">(</span><span class="mtk5">"block_id"</span><span class="mtk12">))</span></span><br><span><span class="mtk12">):</span></span><br><span><span class="mtk1">&nbsp;&nbsp;&nbsp;</span><span class="mtk17">for</span><span class="mtk1">&nbsp;block&nbsp;</span><span class="mtk17">in</span><span class="mtk1">&nbsp;rest_api_notion_resource.add_map</span><span class="mtk12">(</span><span class="mtk1">extract_page_content</span><span class="mtk12">):</span><span class="mtk1">&nbsp;&nbsp;&nbsp;</span></span><br><span><span class="mtk1">&nbsp;&nbsp;&nbsp;&nbsp;&nbsp;&nbsp;&nbsp;</span><span class="mtk17">if</span><span class="mtk1">&nbsp;</span><span class="mtk17">not</span><span class="mtk12">(</span><span class="mtk17">len</span><span class="mtk12">(</span><span class="mtk1">block</span><span class="mtk12">[</span><span class="mtk5">"content"</span><span class="mtk12">])):</span></span><br><span><span class="mtk1">&nbsp;&nbsp;&nbsp;&nbsp;&nbsp;&nbsp;&nbsp;&nbsp;&nbsp;&nbsp;&nbsp;</span><span class="mtk17">continue</span></span><br><span><span class="mtk1">&nbsp;&nbsp;&nbsp;&nbsp;&nbsp;&nbsp;&nbsp;</span><span class="mtk17">yield</span><span class="mtk1">&nbsp;block</span></span></code></pre>
<p>Here, <code>rest_api_notion_resoure</code> yields the JSON response from the Notion REST API and <code>extract_page_content</code> is the transformation function that we pass the JSON response through.</p>
</li>
</ul>
</li>
</ol>
</span></div>
        </div>
      </div>

      <div class="section-header" style="display: none;">
        <colab-run-button role="button" aria-label="Run cell"><template shadowrootmode="open"><!----> <div class="cell-execution">
      <div class="execution-count"><!--?lit$109918125$-->[ ]</div>
      <div class="cell-execution-indicator"> <!--?lit$109918125$-->
<svg xmlns="http://www.w3.org/2000/svg" viewBox="0 0 24 24">
  <!--?lit$109918125$-->
  <mask id="playSymbolMask">
    <rect width="100%" height="100%" fill="white"></rect>
    <polygon points="10,8 17,12 10,16" fill="black"></polygon>
  </mask>
  <circle cx="12" cy="12" r="7.8" mask="url(#playSymbolMask)" id="filledCircle"></circle>
</svg> </div>
      <!--?lit$109918125$--><!--?-->
    </div></template></colab-run-button>
        <div class="section-header-container" title="click to expand">↳ 0 cells hidden</div>
      </div></div></div><div class="add-cell">
      <hr>
    </div></div><div class="cell text" id="cell--dJlkDX0tSvP" role="region" aria-label="Cell 40: Text cell: " style="" tabindex="-1"><div class="cell-tag-editor sticky"></div><div class="cell-toolbar sticky"></div><div class="main-content" elevation="0"><div class="cell-contents"><div class="cell-mask"></div><span class="imported-info-area"></span><!----> <div class="toolbar-root"></div>
      <div class="editor-container horizontal">
        <div class="editor-root"></div>
        <div class="text-top-div">
          <div class="markdown"><span><ol start="5">
<li><p>Create the pipeline and run it</p>
<p>With our source configured, we can now define the pipeline and run it.</p>
<p>Normally, to do this we would run  </p>
<pre><code><span><span class="mtk1">pipeline.run</span><span class="mtk12">(</span></span><br><span><span class="mtk1">&nbsp;rest_api_notion_incremental</span><span class="mtk12">,</span></span><br><span><span class="mtk1">&nbsp;table_name=</span><span class="mtk5">"employee_handbook"</span><span class="mtk12">,</span></span><br><span><span class="mtk1">&nbsp;write_disposition=</span><span class="mtk5">"merge"</span></span><br><span><span class="mtk12">)</span></span></code></pre>
<p>and this would load the data into lancedb normally, without creating any embeddings.</p>
<p>However, we can have lancedb automatically create embeddings and load it along with the normal data using dlt's native adapter for lancedb: <code>lancedb_adapter</code>. It will use the embedding model that we specified in the credentials.   </p>
<pre><code><span><span class="mtk1">pipeline.run</span><span class="mtk12">(</span></span><br><span><span class="mtk1">&nbsp;lancedb_adapter</span><span class="mtk12">(</span></span><br><span><span class="mtk1">&nbsp;&nbsp;&nbsp;rest_api_notion_incremental</span><span class="mtk12">,</span></span><br><span><span class="mtk1">&nbsp;&nbsp;&nbsp;embed=</span><span class="mtk5">"content"</span><span class="mtk1">&nbsp;</span><span class="mtk8">#&nbsp;The&nbsp;column&nbsp;that&nbsp;we'd&nbsp;like&nbsp;to&nbsp;embed</span></span><br><span><span class="mtk1">&nbsp;</span><span class="mtk12">)</span></span><br><span><span class="mtk1">&nbsp;table_name=</span><span class="mtk5">"employee_handbook"</span><span class="mtk12">,</span></span><br><span><span class="mtk1">&nbsp;write_disposition=</span><span class="mtk5">"merge"</span></span><br><span><span class="mtk12">)</span></span></code></pre>
</li>
</ol>
</span></div>
        </div>
      </div>

      <div class="section-header" style="display: none;">
        <colab-run-button role="button" aria-label="Run cell"><template shadowrootmode="open"><!----> <div class="cell-execution">
      <div class="execution-count"><!--?lit$109918125$-->[ ]</div>
      <div class="cell-execution-indicator"> <!--?lit$109918125$-->
<svg xmlns="http://www.w3.org/2000/svg" viewBox="0 0 24 24">
  <!--?lit$109918125$-->
  <mask id="playSymbolMask">
    <rect width="100%" height="100%" fill="white"></rect>
    <polygon points="10,8 17,12 10,16" fill="black"></polygon>
  </mask>
  <circle cx="12" cy="12" r="7.8" mask="url(#playSymbolMask)" id="filledCircle"></circle>
</svg> </div>
      <!--?lit$109918125$--><!--?-->
    </div></template></colab-run-button>
        <div class="section-header-container" title="click to expand">↳ 0 cells hidden</div>
      </div></div></div><div class="add-cell">
      <div class="add-cell-buttons">
        <md-outlined-button class="add-code add-button" data-aria-label="Add code cell
Ctrl+M B" title="Add code cell
Ctrl+M B" value="" has-icon=""><template shadowrootmode="open" shadowrootdelegatesfocus><!---->
      <!--?lit$109918125$--><div class="outline"></div>
      <div class="background"></div>
      <md-focus-ring part="focus-ring" for="button" aria-hidden="true"><template shadowrootmode="open"><!----></template></md-focus-ring>
      <md-ripple part="ripple" for="button" aria-hidden="true"><template shadowrootmode="open"><!----><div class="surface   "></div></template></md-ripple>
      <!--?lit$109918125$--><button id="button" class="button" aria-label="Add code cell
Ctrl+M B">
      <!--?lit$109918125$-->
      <span class="touch"></span>
      <!--?lit$109918125$--><slot name="icon"></slot>
      <span class="label"><slot></slot></span>
      <!--?lit$109918125$-->
    
    </button>
    </template>
          <md-icon slot="icon" aria-hidden="true"><template shadowrootmode="open"><!----><slot></slot></template>add</md-icon>
          <!--?lit$109918125$-->Code
        </md-outlined-button>
        <md-outlined-button class="add-text add-button" data-aria-label="Add text cell" title="Add text cell" value="" has-icon=""><template shadowrootmode="open" shadowrootdelegatesfocus><!---->
      <!--?lit$109918125$--><div class="outline"></div>
      <div class="background"></div>
      <md-focus-ring part="focus-ring" for="button" aria-hidden="true"><template shadowrootmode="open"><!----></template></md-focus-ring>
      <md-ripple part="ripple" for="button" aria-hidden="true"><template shadowrootmode="open"><!----><div class="surface   "></div></template></md-ripple>
      <!--?lit$109918125$--><button id="button" class="button" aria-label="Add text cell">
      <!--?lit$109918125$-->
      <span class="touch"></span>
      <!--?lit$109918125$--><slot name="icon"></slot>
      <span class="label"><slot></slot></span>
      <!--?lit$109918125$-->
    
    </button>
    </template>
          <md-icon slot="icon" aria-hidden="true"><template shadowrootmode="open"><!----><slot></slot></template>add</md-icon>
          <!--?lit$109918125$-->Text
        </md-outlined-button>
        <!--?lit$109918125$-->
      </div><hr>
    </div></div><div class="cell text" id="cell-Ll95duMkuKDx" role="region" aria-label="Cell 41: Text cell: Run the pipeline" style="" tabindex="-1"><div class="cell-tag-editor sticky"></div><div class="cell-toolbar sticky"></div><div class="main-content" elevation="0"><div class="cell-contents"><div class="cell-mask"></div><span class="imported-info-area"></span><!----> <div class="toolbar-root"></div>
      <div class="editor-container horizontal">
        <div class="editor-root"></div>
        <div class="text-top-div">
          <div class="markdown"><span><div class="text-cell-section-header layout horizontal center"><md-icon-button class="header-section-toggle" title="Collapse 2 child cells under Run the pipeline (Press &lt;Shift&gt; to also collapse sibling sections)" data-aria-label="Collapse 2 child cells under Run the pipeline (Press &lt;Shift&gt; to also collapse sibling sections)" value=""><template shadowrootmode="open" shadowrootdelegatesfocus><!----><button id="button" class="icon-button  standard " aria-label="Collapse 2 child cells under Run the pipeline (Press &lt;Shift&gt; to also collapse sibling sections)">
        <!--?lit$109918125$--><md-focus-ring part="focus-ring" for="button" aria-hidden="true"><template shadowrootmode="open"><!----></template></md-focus-ring>
        <!--?lit$109918125$--><md-ripple aria-hidden="true"><template shadowrootmode="open"><!----><div class="surface   "></div></template></md-ripple>
        <!--?lit$109918125$--><span class="icon"><slot></slot></span>
        <!--?lit$109918125$-->
        <!--?lit$109918125$--><span class="touch"></span>
        <!--?lit$109918125$-->
  </button></template><md-icon aria-hidden="true"><template shadowrootmode="open"><!----><slot></slot></template>keyboard_arrow_down</md-icon></md-icon-button><h3>5. Run the pipeline</h3></div>
</span></div>
        </div>
      </div>

      <div class="section-header" style="display: none;">
        <colab-run-button role="button" aria-label="Run cell"><template shadowrootmode="open"><!----> <div class="cell-execution">
      <div class="execution-count"><!--?lit$109918125$-->[ ]</div>
      <div class="cell-execution-indicator"> <!--?lit$109918125$-->
<svg xmlns="http://www.w3.org/2000/svg" viewBox="0 0 24 24">
  <!--?lit$109918125$-->
  <mask id="playSymbolMask">
    <rect width="100%" height="100%" fill="white"></rect>
    <polygon points="10,8 17,12 10,16" fill="black"></polygon>
  </mask>
  <circle cx="12" cy="12" r="7.8" mask="url(#playSymbolMask)" id="filledCircle"></circle>
</svg> </div>
      <!--?lit$109918125$--><!--?-->
    </div></template></colab-run-button>
        <div class="section-header-container" title="click to expand">↳ 2 cells hidden</div>
      </div></div></div><div class="add-cell">
      <div class="add-cell-buttons">
        <md-outlined-button class="add-code add-button" data-aria-label="Add code cell
Ctrl+M B" title="Add code cell
Ctrl+M B" value="" has-icon=""><template shadowrootmode="open" shadowrootdelegatesfocus><!---->
      <!--?lit$109918125$--><div class="outline"></div>
      <div class="background"></div>
      <md-focus-ring part="focus-ring" for="button" aria-hidden="true"><template shadowrootmode="open"><!----></template></md-focus-ring>
      <md-ripple part="ripple" for="button" aria-hidden="true"><template shadowrootmode="open"><!----><div class="surface   "></div></template></md-ripple>
      <!--?lit$109918125$--><button id="button" class="button" aria-label="Add code cell
Ctrl+M B">
      <!--?lit$109918125$-->
      <span class="touch"></span>
      <!--?lit$109918125$--><slot name="icon"></slot>
      <span class="label"><slot></slot></span>
      <!--?lit$109918125$-->
    
    </button>
    </template>
          <md-icon slot="icon" aria-hidden="true"><template shadowrootmode="open"><!----><slot></slot></template>add</md-icon>
          <!--?lit$109918125$-->Code
        </md-outlined-button>
        <md-outlined-button class="add-text add-button" data-aria-label="Add text cell" title="Add text cell" value="" has-icon=""><template shadowrootmode="open" shadowrootdelegatesfocus><!---->
      <!--?lit$109918125$--><div class="outline"></div>
      <div class="background"></div>
      <md-focus-ring part="focus-ring" for="button" aria-hidden="true"><template shadowrootmode="open"><!----></template></md-focus-ring>
      <md-ripple part="ripple" for="button" aria-hidden="true"><template shadowrootmode="open"><!----><div class="surface   "></div></template></md-ripple>
      <!--?lit$109918125$--><button id="button" class="button" aria-label="Add text cell">
      <!--?lit$109918125$-->
      <span class="touch"></span>
      <!--?lit$109918125$--><slot name="icon"></slot>
      <span class="label"><slot></slot></span>
      <!--?lit$109918125$-->
    
    </button>
    </template>
          <md-icon slot="icon" aria-hidden="true"><template shadowrootmode="open"><!----><slot></slot></template>add</md-icon>
          <!--?lit$109918125$-->Text
        </md-outlined-button>
        <!--?lit$109918125$-->
      </div><hr>
    </div></div><div class="cell text" id="cell-66l6khvmpDAD" role="region" aria-label="Cell 42: Text cell: " style="" tabindex="-1"><div class="cell-tag-editor sticky"></div><div class="cell-toolbar sticky"></div><div class="main-content" elevation="0"><div class="cell-contents"><div class="cell-mask"></div><span class="imported-info-area"></span><!----> <div class="toolbar-root"></div>
      <div class="editor-container horizontal">
        <div class="editor-root"></div>
        <div class="text-top-div">
          <div class="markdown"><span><p>Run this block:</p>
</span></div>
        </div>
      </div>

      <div class="section-header" style="display: none;">
        <colab-run-button role="button" aria-label="Run cell"><template shadowrootmode="open"><!----> <div class="cell-execution">
      <div class="execution-count"><!--?lit$109918125$-->[ ]</div>
      <div class="cell-execution-indicator"> <!--?lit$109918125$-->
<svg xmlns="http://www.w3.org/2000/svg" viewBox="0 0 24 24">
  <!--?lit$109918125$-->
  <mask id="playSymbolMask">
    <rect width="100%" height="100%" fill="white"></rect>
    <polygon points="10,8 17,12 10,16" fill="black"></polygon>
  </mask>
  <circle cx="12" cy="12" r="7.8" mask="url(#playSymbolMask)" id="filledCircle"></circle>
</svg> </div>
      <!--?lit$109918125$--><!--?-->
    </div></template></colab-run-button>
        <div class="section-header-container" title="click to expand">↳ 0 cells hidden</div>
      </div></div></div><div class="add-cell">
      <hr>
    </div></div><div class="cell code icon-scrolling code-has-output" id="cell-3RzeKOoNUsyL" role="region" aria-label="Cell 43: Code cell: " style="" tabindex="-1"><div class="cell-tag-editor sticky"></div><div class="cell-toolbar sticky"></div><div class="main-content" elevation="0"><div class="cell-contents"><div class="cell-mask"></div><span class="imported-info-area"></span><div class="codecell-input-output">
      <div class="inputarea horizontal layout code">
        <div class="cell-gutter">
          <!-- Bounding range for vertical scrolling of icons -->
          <div class="cell-execution-container">
            <colab-run-button title="Run cell (Ctrl+Enter)
cell has not been executed in this session

executed by Venkatesh Moturi
11:55 (17 minutes ago)
executed in 3.959 s" role="button" aria-label="Run cell"><template shadowrootmode="open"><!----> <div class="cell-execution stale">
      <div class="execution-count"><!--?lit$109918125$-->[ ]</div>
      <div class="cell-execution-indicator"> <!--?lit$109918125$-->
<svg xmlns="http://www.w3.org/2000/svg" viewBox="0 0 24 24">
  <!--?lit$109918125$-->
  <mask id="playSymbolMask">
    <rect width="100%" height="100%" fill="white"></rect>
    <polygon points="10,8 17,12 10,16" fill="black"></polygon>
  </mask>
  <circle cx="12" cy="12" r="7.8" mask="url(#playSymbolMask)" id="filledCircle"></circle>
</svg> </div>
      <!--?lit$109918125$--><!--?-->
    </div></template></colab-run-button>
          </div>
        </div>
      <div class="editor flex lazy-editor" style=""><pre class="lazy-virtualized" style="font-size: 14px; line-height: 19px;"><pre class="lazy-gutter"></pre><pre class="monaco-colorized colab-dark colab-dark colab-dark colab-dark colab-dark colab-dark" data-lang="notebook-python"><span><span class="mtk18">from</span><span class="mtk1">&nbsp;datetime&nbsp;</span><span class="mtk18">import</span><span class="mtk1">&nbsp;datetime</span><span class="mtk12">,</span><span class="mtk1">&nbsp;timezone</span></span><br><span><span></span></span><br><span><span class="mtk9">class</span><span class="mtk1">&nbsp;</span><span class="mtk14">PostBodyPaginator</span><span class="mtk1">(</span><span class="mtk14">BasePaginator</span><span class="mtk1">)</span><span class="mtk12">:</span></span><br><span><span class="mtk1">&nbsp;&nbsp;&nbsp;&nbsp;</span><span class="mtk9">def</span><span class="mtk1">&nbsp;</span><span class="mtk15">__init__</span><span class="mtk1">(</span><span class="mtk4">self</span><span class="mtk1">)</span><span class="mtk12">:</span></span><br><span><span class="mtk1">&nbsp;&nbsp;&nbsp;&nbsp;&nbsp;&nbsp;&nbsp;&nbsp;super</span><span class="mtk12">()</span><span class="mtk1">.</span><span class="mtk15">__init__</span><span class="mtk12">()</span></span><br><span><span class="mtk1">&nbsp;&nbsp;&nbsp;&nbsp;&nbsp;&nbsp;&nbsp;&nbsp;</span><span class="mtk4">self</span><span class="mtk1">.cursor&nbsp;=&nbsp;</span><span class="mtk9">None</span></span><br><span><span></span></span><br><span><span class="mtk1">&nbsp;&nbsp;&nbsp;&nbsp;</span><span class="mtk9">def</span><span class="mtk1">&nbsp;</span><span class="mtk15">update_state</span><span class="mtk1">(</span><span class="mtk4">self</span><span class="mtk1">,&nbsp;</span><span class="mtk4">response</span><span class="mtk1">:&nbsp;</span><span class="mtk4">Response</span><span class="mtk1">)&nbsp;-&gt;&nbsp;</span><span class="mtk9">None</span><span class="mtk12">:</span></span><br><span><span class="mtk1">&nbsp;&nbsp;&nbsp;&nbsp;&nbsp;&nbsp;&nbsp;&nbsp;</span><span class="mtk8">#&nbsp;Assuming&nbsp;the&nbsp;API&nbsp;returns&nbsp;an&nbsp;empty&nbsp;list&nbsp;when&nbsp;no&nbsp;m</span><span class="mtk8">ore&nbsp;data&nbsp;is&nbsp;available</span></span><br><span><span class="mtk1">&nbsp;&nbsp;&nbsp;&nbsp;&nbsp;&nbsp;&nbsp;&nbsp;</span><span class="mtk18">if</span><span class="mtk1">&nbsp;</span><span class="mtk17">not</span><span class="mtk1">&nbsp;response.json</span><span class="mtk12">():</span></span><br><span><span class="mtk1">&nbsp;&nbsp;&nbsp;&nbsp;&nbsp;&nbsp;&nbsp;&nbsp;&nbsp;&nbsp;&nbsp;&nbsp;</span><span class="mtk4">self</span><span class="mtk1">._has_next_page&nbsp;=&nbsp;</span><span class="mtk9">False</span></span><br><span><span class="mtk1">&nbsp;&nbsp;&nbsp;&nbsp;&nbsp;&nbsp;&nbsp;&nbsp;</span><span class="mtk18">else</span><span class="mtk12">:</span></span><br><span><span class="mtk1">&nbsp;&nbsp;&nbsp;&nbsp;&nbsp;&nbsp;&nbsp;&nbsp;&nbsp;&nbsp;&nbsp;&nbsp;</span><span class="mtk4">self</span><span class="mtk1">.cursor&nbsp;=&nbsp;response.json</span><span class="mtk12">()</span><span class="mtk1">.get</span><span class="mtk12">(</span><span class="mtk5">"next_cursor"</span><span class="mtk12">)</span></span><br><span><span class="mtk1">&nbsp;&nbsp;&nbsp;&nbsp;&nbsp;&nbsp;&nbsp;&nbsp;&nbsp;&nbsp;&nbsp;&nbsp;</span><span class="mtk18">if</span><span class="mtk1">&nbsp;</span><span class="mtk4">self</span><span class="mtk1">.cursor&nbsp;</span><span class="mtk17">is</span><span class="mtk1">&nbsp;</span><span class="mtk9">None</span><span class="mtk12">:</span></span><br><span><span class="mtk1">&nbsp;&nbsp;&nbsp;&nbsp;&nbsp;&nbsp;&nbsp;&nbsp;&nbsp;&nbsp;&nbsp;&nbsp;&nbsp;&nbsp;&nbsp;&nbsp;</span><span class="mtk4">self</span><span class="mtk1">._has_next_page&nbsp;=&nbsp;</span><span class="mtk9">False</span></span><br><span><span></span></span><br><span><span class="mtk1">&nbsp;&nbsp;&nbsp;&nbsp;</span><span class="mtk9">def</span><span class="mtk1">&nbsp;</span><span class="mtk15">update_request</span><span class="mtk1">(</span><span class="mtk4">self</span><span class="mtk1">,&nbsp;</span><span class="mtk4">request</span><span class="mtk1">:&nbsp;</span><span class="mtk4">Request</span><span class="mtk1">)&nbsp;-&gt;&nbsp;</span><span class="mtk9">None</span><span class="mtk12">:</span></span><br><span><span class="mtk1">&nbsp;&nbsp;&nbsp;&nbsp;&nbsp;&nbsp;&nbsp;&nbsp;</span><span class="mtk18">if</span><span class="mtk1">&nbsp;request.json&nbsp;</span><span class="mtk17">is</span><span class="mtk1">&nbsp;</span><span class="mtk9">None</span><span class="mtk12">:</span></span><br><span><span class="mtk1">&nbsp;&nbsp;&nbsp;&nbsp;&nbsp;&nbsp;&nbsp;&nbsp;&nbsp;&nbsp;&nbsp;&nbsp;request.json&nbsp;=&nbsp;</span><span class="mtk12">{}</span></span><br><span><span></span></span><br><span><span class="mtk1">&nbsp;&nbsp;&nbsp;&nbsp;&nbsp;&nbsp;&nbsp;&nbsp;</span><span class="mtk8">#&nbsp;Add&nbsp;the&nbsp;cursor&nbsp;to&nbsp;the&nbsp;request&nbsp;body</span></span><br><span><span class="mtk1">&nbsp;&nbsp;&nbsp;&nbsp;&nbsp;&nbsp;&nbsp;&nbsp;request.json</span><span class="mtk12">[</span><span class="mtk5">"start_cursor"</span><span class="mtk12">]</span><span class="mtk1">&nbsp;=&nbsp;</span><span class="mtk4">self</span><span class="mtk1">.cursor</span></span><br><span><span></span></span><br><span><span class="mtk15">@dlt.resource</span><span class="mtk12">(</span><span class="mtk1">name=</span><span class="mtk5">"employee_handbook"</span><span class="mtk12">)</span></span><br><span><span class="mtk9">def</span><span class="mtk1">&nbsp;</span><span class="mtk15">rest_api_notion_resource</span><span class="mtk1">()</span><span class="mtk12">:</span></span><br><span><span class="mtk1">&nbsp;&nbsp;&nbsp;&nbsp;notion_config</span><span class="mtk12">:</span><span class="mtk1">&nbsp;RESTAPIConfig&nbsp;=&nbsp;</span><span class="mtk12">{</span></span><br><span><span class="mtk1">&nbsp;&nbsp;&nbsp;&nbsp;&nbsp;&nbsp;&nbsp;&nbsp;</span><span class="mtk5">"client"</span><span class="mtk12">:</span><span class="mtk1">&nbsp;</span><span class="mtk12">{</span></span><br><span><span class="mtk1">&nbsp;&nbsp;&nbsp;&nbsp;&nbsp;&nbsp;&nbsp;&nbsp;&nbsp;&nbsp;&nbsp;&nbsp;</span><span class="mtk5">"base_url"</span><span class="mtk12">:</span><span class="mtk1">&nbsp;</span><span class="mtk5">"https://api.notion.com/v1/"</span><span class="mtk12">,</span></span><br><span><span class="mtk1">&nbsp;&nbsp;&nbsp;&nbsp;&nbsp;&nbsp;&nbsp;&nbsp;&nbsp;&nbsp;&nbsp;&nbsp;</span><span class="mtk5">"auth"</span><span class="mtk12">:</span><span class="mtk1">&nbsp;</span><span class="mtk12">{</span></span><br><span><span class="mtk1">&nbsp;&nbsp;&nbsp;&nbsp;&nbsp;&nbsp;&nbsp;&nbsp;&nbsp;&nbsp;&nbsp;&nbsp;&nbsp;&nbsp;&nbsp;&nbsp;</span><span class="mtk5">"token"</span><span class="mtk12">:</span><span class="mtk1">&nbsp;dlt.secrets</span><span class="mtk12">[</span><span class="mtk5">"sources.rest_api.notion.api_key"</span><span class="mtk12">]</span></span><br><span><span class="mtk1">&nbsp;&nbsp;&nbsp;&nbsp;&nbsp;&nbsp;&nbsp;&nbsp;&nbsp;&nbsp;&nbsp;&nbsp;</span><span class="mtk12">},</span></span><br><span><span class="mtk1">&nbsp;&nbsp;&nbsp;&nbsp;&nbsp;&nbsp;&nbsp;&nbsp;&nbsp;&nbsp;&nbsp;&nbsp;</span><span class="mtk5">"headers"</span><span class="mtk12">:{</span></span><br><span><span class="mtk1">&nbsp;&nbsp;&nbsp;&nbsp;&nbsp;&nbsp;&nbsp;&nbsp;&nbsp;&nbsp;&nbsp;&nbsp;</span><span class="mtk5">"Content-Type"</span><span class="mtk12">:</span><span class="mtk1">&nbsp;</span><span class="mtk5">"application/json"</span><span class="mtk12">,</span></span><br><span><span class="mtk1">&nbsp;&nbsp;&nbsp;&nbsp;&nbsp;&nbsp;&nbsp;&nbsp;&nbsp;&nbsp;&nbsp;&nbsp;</span><span class="mtk5">"Notion-Version"</span><span class="mtk12">:</span><span class="mtk1">&nbsp;</span><span class="mtk5">"2022-06-28"</span></span><br><span><span class="mtk1">&nbsp;&nbsp;&nbsp;&nbsp;&nbsp;&nbsp;&nbsp;&nbsp;&nbsp;&nbsp;&nbsp;&nbsp;</span><span class="mtk12">}</span></span><br><span><span class="mtk1">&nbsp;&nbsp;&nbsp;&nbsp;&nbsp;&nbsp;&nbsp;&nbsp;</span><span class="mtk12">},</span></span><br><span><span class="mtk1">&nbsp;&nbsp;&nbsp;&nbsp;&nbsp;&nbsp;&nbsp;&nbsp;</span><span class="mtk5">"resources"</span><span class="mtk12">:</span><span class="mtk1">&nbsp;</span><span class="mtk12">[</span></span><br><span><span class="mtk1">&nbsp;&nbsp;&nbsp;&nbsp;&nbsp;&nbsp;&nbsp;&nbsp;&nbsp;&nbsp;&nbsp;&nbsp;</span><span class="mtk12">{</span></span><br><span><span class="mtk1">&nbsp;&nbsp;&nbsp;&nbsp;&nbsp;&nbsp;&nbsp;&nbsp;&nbsp;&nbsp;&nbsp;&nbsp;&nbsp;&nbsp;&nbsp;&nbsp;</span><span class="mtk5">"name"</span><span class="mtk12">:</span><span class="mtk1">&nbsp;</span><span class="mtk5">"search"</span><span class="mtk12">,</span></span><br><span><span class="mtk1">&nbsp;&nbsp;&nbsp;&nbsp;&nbsp;&nbsp;&nbsp;&nbsp;&nbsp;&nbsp;&nbsp;&nbsp;&nbsp;&nbsp;&nbsp;&nbsp;</span><span class="mtk5">"endpoint"</span><span class="mtk12">:</span><span class="mtk1">&nbsp;</span><span class="mtk12">{</span></span><br><span><span class="mtk1">&nbsp;&nbsp;&nbsp;&nbsp;&nbsp;&nbsp;&nbsp;&nbsp;&nbsp;&nbsp;&nbsp;&nbsp;&nbsp;&nbsp;&nbsp;&nbsp;&nbsp;&nbsp;&nbsp;&nbsp;</span><span class="mtk5">"path"</span><span class="mtk12">:</span><span class="mtk1">&nbsp;</span><span class="mtk5">"search"</span><span class="mtk12">,</span></span><br><span><span class="mtk1">&nbsp;&nbsp;&nbsp;&nbsp;&nbsp;&nbsp;&nbsp;&nbsp;&nbsp;&nbsp;&nbsp;&nbsp;&nbsp;&nbsp;&nbsp;&nbsp;&nbsp;&nbsp;&nbsp;&nbsp;</span><span class="mtk5">"method"</span><span class="mtk12">:</span><span class="mtk1">&nbsp;</span><span class="mtk5">"POST"</span><span class="mtk12">,</span></span><br><span><span class="mtk1">&nbsp;&nbsp;&nbsp;&nbsp;&nbsp;&nbsp;&nbsp;&nbsp;&nbsp;&nbsp;&nbsp;&nbsp;&nbsp;&nbsp;&nbsp;&nbsp;&nbsp;&nbsp;&nbsp;&nbsp;</span><span class="mtk5">"paginator"</span><span class="mtk12">:</span><span class="mtk1">&nbsp;PostBodyPaginator</span><span class="mtk12">(),</span></span><br><span><span class="mtk1">&nbsp;&nbsp;&nbsp;&nbsp;&nbsp;&nbsp;&nbsp;&nbsp;&nbsp;&nbsp;&nbsp;&nbsp;&nbsp;&nbsp;&nbsp;&nbsp;&nbsp;&nbsp;&nbsp;&nbsp;</span><span class="mtk5">"json"</span><span class="mtk12">:</span><span class="mtk1">&nbsp;</span><span class="mtk12">{</span></span><br><span><span class="mtk1">&nbsp;&nbsp;&nbsp;&nbsp;&nbsp;&nbsp;&nbsp;&nbsp;&nbsp;&nbsp;&nbsp;&nbsp;&nbsp;&nbsp;&nbsp;&nbsp;&nbsp;&nbsp;&nbsp;&nbsp;&nbsp;&nbsp;&nbsp;&nbsp;</span><span class="mtk5">"query"</span><span class="mtk12">:</span><span class="mtk1">&nbsp;</span><span class="mtk5">"workshop"</span><span class="mtk12">,</span></span><br><span><span class="mtk1">&nbsp;&nbsp;&nbsp;&nbsp;&nbsp;&nbsp;&nbsp;&nbsp;&nbsp;&nbsp;&nbsp;&nbsp;&nbsp;&nbsp;&nbsp;&nbsp;&nbsp;&nbsp;&nbsp;&nbsp;&nbsp;&nbsp;&nbsp;&nbsp;</span><span class="mtk5">"sort"</span><span class="mtk12">:</span><span class="mtk1">&nbsp;</span><span class="mtk12">{</span></span><br><span><span class="mtk1">&nbsp;&nbsp;&nbsp;&nbsp;&nbsp;&nbsp;&nbsp;&nbsp;&nbsp;&nbsp;&nbsp;&nbsp;&nbsp;&nbsp;&nbsp;&nbsp;&nbsp;&nbsp;&nbsp;&nbsp;&nbsp;&nbsp;&nbsp;&nbsp;&nbsp;&nbsp;&nbsp;&nbsp;</span><span class="mtk5">"direction"</span><span class="mtk12">:</span><span class="mtk1">&nbsp;</span><span class="mtk5">"ascending"</span><span class="mtk12">,</span></span><br><span><span class="mtk1">&nbsp;&nbsp;&nbsp;&nbsp;&nbsp;&nbsp;&nbsp;&nbsp;&nbsp;&nbsp;&nbsp;&nbsp;&nbsp;&nbsp;&nbsp;&nbsp;&nbsp;&nbsp;&nbsp;&nbsp;&nbsp;&nbsp;&nbsp;&nbsp;&nbsp;&nbsp;&nbsp;&nbsp;</span><span class="mtk5">"timestamp"</span><span class="mtk12">:</span><span class="mtk1">&nbsp;</span><span class="mtk5">"last_edited_time"</span></span><br><span><span class="mtk1">&nbsp;&nbsp;&nbsp;&nbsp;&nbsp;&nbsp;&nbsp;&nbsp;&nbsp;&nbsp;&nbsp;&nbsp;&nbsp;&nbsp;&nbsp;&nbsp;&nbsp;&nbsp;&nbsp;&nbsp;&nbsp;&nbsp;&nbsp;&nbsp;</span><span class="mtk12">}</span></span><br><span><span class="mtk1">&nbsp;&nbsp;&nbsp;&nbsp;&nbsp;&nbsp;&nbsp;&nbsp;&nbsp;&nbsp;&nbsp;&nbsp;&nbsp;&nbsp;&nbsp;&nbsp;&nbsp;&nbsp;&nbsp;&nbsp;</span><span class="mtk12">},</span></span><br><span><span class="mtk1">&nbsp;&nbsp;&nbsp;&nbsp;&nbsp;&nbsp;&nbsp;&nbsp;&nbsp;&nbsp;&nbsp;&nbsp;&nbsp;&nbsp;&nbsp;&nbsp;&nbsp;&nbsp;&nbsp;&nbsp;</span><span class="mtk5">"data_selector"</span><span class="mtk12">:</span><span class="mtk1">&nbsp;</span><span class="mtk5">"results"</span></span><br><span><span class="mtk1">&nbsp;&nbsp;&nbsp;&nbsp;&nbsp;&nbsp;&nbsp;&nbsp;&nbsp;&nbsp;&nbsp;&nbsp;&nbsp;&nbsp;&nbsp;&nbsp;</span><span class="mtk12">}</span></span><br><span><span class="mtk1">&nbsp;&nbsp;&nbsp;&nbsp;&nbsp;&nbsp;&nbsp;&nbsp;&nbsp;&nbsp;&nbsp;&nbsp;</span><span class="mtk12">},</span></span><br><span><span class="mtk1">&nbsp;&nbsp;&nbsp;&nbsp;&nbsp;&nbsp;&nbsp;&nbsp;&nbsp;&nbsp;&nbsp;&nbsp;</span><span class="mtk12">{</span></span><br><span><span class="mtk1">&nbsp;&nbsp;&nbsp;&nbsp;&nbsp;&nbsp;&nbsp;&nbsp;&nbsp;&nbsp;&nbsp;&nbsp;&nbsp;&nbsp;&nbsp;&nbsp;</span><span class="mtk5">"name"</span><span class="mtk12">:</span><span class="mtk1">&nbsp;</span><span class="mtk5">"page_content"</span><span class="mtk12">,</span></span><br><span><span class="mtk1">&nbsp;&nbsp;&nbsp;&nbsp;&nbsp;&nbsp;&nbsp;&nbsp;&nbsp;&nbsp;&nbsp;&nbsp;&nbsp;&nbsp;&nbsp;&nbsp;</span><span class="mtk5">"endpoint"</span><span class="mtk12">:</span><span class="mtk1">&nbsp;</span><span class="mtk12">{</span></span><br><span><span class="mtk1">&nbsp;&nbsp;&nbsp;&nbsp;&nbsp;&nbsp;&nbsp;&nbsp;&nbsp;&nbsp;&nbsp;&nbsp;&nbsp;&nbsp;&nbsp;&nbsp;&nbsp;&nbsp;&nbsp;&nbsp;</span><span class="mtk5">"path"</span><span class="mtk12">:</span><span class="mtk1">&nbsp;</span><span class="mtk5">"blocks/{page_id}/children"</span><span class="mtk12">,</span></span><br><span><span class="mtk1">&nbsp;&nbsp;&nbsp;&nbsp;&nbsp;&nbsp;&nbsp;&nbsp;&nbsp;&nbsp;&nbsp;&nbsp;&nbsp;&nbsp;&nbsp;&nbsp;&nbsp;&nbsp;&nbsp;&nbsp;</span><span class="mtk5">"paginator"</span><span class="mtk12">:</span><span class="mtk1">&nbsp;JSONResponsePaginator</span><span class="mtk12">(),</span></span><br><span><span class="mtk1">&nbsp;&nbsp;&nbsp;&nbsp;&nbsp;&nbsp;&nbsp;&nbsp;&nbsp;&nbsp;&nbsp;&nbsp;&nbsp;&nbsp;&nbsp;&nbsp;&nbsp;&nbsp;&nbsp;&nbsp;</span><span class="mtk5">"params"</span><span class="mtk12">:</span><span class="mtk1">&nbsp;</span><span class="mtk12">{</span></span><br><span><span class="mtk1">&nbsp;&nbsp;&nbsp;&nbsp;&nbsp;&nbsp;&nbsp;&nbsp;&nbsp;&nbsp;&nbsp;&nbsp;&nbsp;&nbsp;&nbsp;&nbsp;&nbsp;&nbsp;&nbsp;&nbsp;&nbsp;&nbsp;&nbsp;&nbsp;</span><span class="mtk5">"page_id"</span><span class="mtk12">:</span><span class="mtk1">&nbsp;</span><span class="mtk12">{</span></span><br><span><span class="mtk1">&nbsp;&nbsp;&nbsp;&nbsp;&nbsp;&nbsp;&nbsp;&nbsp;&nbsp;&nbsp;&nbsp;&nbsp;&nbsp;&nbsp;&nbsp;&nbsp;&nbsp;&nbsp;&nbsp;&nbsp;&nbsp;&nbsp;&nbsp;&nbsp;&nbsp;&nbsp;&nbsp;&nbsp;</span><span class="mtk5">"type"</span><span class="mtk12">:</span><span class="mtk1">&nbsp;</span><span class="mtk5">"resolve"</span><span class="mtk12">,</span></span><br><span><span class="mtk1">&nbsp;&nbsp;&nbsp;&nbsp;&nbsp;&nbsp;&nbsp;&nbsp;&nbsp;&nbsp;&nbsp;&nbsp;&nbsp;&nbsp;&nbsp;&nbsp;&nbsp;&nbsp;&nbsp;&nbsp;&nbsp;&nbsp;&nbsp;&nbsp;&nbsp;&nbsp;&nbsp;&nbsp;</span><span class="mtk5">"resource"</span><span class="mtk12">:</span><span class="mtk1">&nbsp;</span><span class="mtk5">"search"</span><span class="mtk12">,</span></span><br><span><span class="mtk1">&nbsp;&nbsp;&nbsp;&nbsp;&nbsp;&nbsp;&nbsp;&nbsp;&nbsp;&nbsp;&nbsp;&nbsp;&nbsp;&nbsp;&nbsp;&nbsp;&nbsp;&nbsp;&nbsp;&nbsp;&nbsp;&nbsp;&nbsp;&nbsp;&nbsp;&nbsp;&nbsp;&nbsp;</span><span class="mtk5">"field"</span><span class="mtk12">:</span><span class="mtk1">&nbsp;</span><span class="mtk5">"id"</span></span><br><span><span class="mtk1">&nbsp;&nbsp;&nbsp;&nbsp;&nbsp;&nbsp;&nbsp;&nbsp;&nbsp;&nbsp;&nbsp;&nbsp;&nbsp;&nbsp;&nbsp;&nbsp;&nbsp;&nbsp;&nbsp;&nbsp;&nbsp;&nbsp;&nbsp;&nbsp;</span><span class="mtk12">}</span></span><br><span><span class="mtk1">&nbsp;&nbsp;&nbsp;&nbsp;&nbsp;&nbsp;&nbsp;&nbsp;&nbsp;&nbsp;&nbsp;&nbsp;&nbsp;&nbsp;&nbsp;&nbsp;&nbsp;&nbsp;&nbsp;&nbsp;</span><span class="mtk12">},</span></span><br><span><span class="mtk1">&nbsp;&nbsp;&nbsp;&nbsp;&nbsp;&nbsp;&nbsp;&nbsp;&nbsp;&nbsp;&nbsp;&nbsp;&nbsp;&nbsp;&nbsp;&nbsp;</span><span class="mtk12">}</span></span><br><span><span class="mtk1">&nbsp;&nbsp;&nbsp;&nbsp;&nbsp;&nbsp;&nbsp;&nbsp;&nbsp;&nbsp;&nbsp;&nbsp;</span><span class="mtk12">}</span></span><br><span><span class="mtk1">&nbsp;&nbsp;&nbsp;&nbsp;&nbsp;&nbsp;&nbsp;&nbsp;</span><span class="mtk12">]</span></span><br><span><span class="mtk1">&nbsp;&nbsp;&nbsp;&nbsp;</span><span class="mtk12">}</span></span><br><span><span></span></span><br><span><span class="mtk1">&nbsp;&nbsp;&nbsp;&nbsp;</span><span class="mtk18">yield</span><span class="mtk1">&nbsp;</span><span class="mtk18">from</span><span class="mtk1">&nbsp;rest_api_source</span><span class="mtk12">(</span><span class="mtk1">notion_config</span><span class="mtk12">,</span><span class="mtk1">name=</span><span class="mtk5">"employee_handbook"</span><span class="mtk12">)</span></span><br><span><span></span></span><br><span><span class="mtk9">def</span><span class="mtk1">&nbsp;</span><span class="mtk15">extract_page_content</span><span class="mtk1">(</span><span class="mtk4">response</span><span class="mtk1">)</span><span class="mtk12">:</span></span><br><span><span class="mtk1">&nbsp;&nbsp;&nbsp;&nbsp;block_id&nbsp;=&nbsp;response</span><span class="mtk12">[</span><span class="mtk5">"id"</span><span class="mtk12">]</span></span><br><span><span class="mtk1">&nbsp;&nbsp;&nbsp;&nbsp;last_edited_time&nbsp;=&nbsp;response</span><span class="mtk12">[</span><span class="mtk5">"last_edited_time"</span><span class="mtk12">]</span></span><br><span><span class="mtk1">&nbsp;&nbsp;&nbsp;&nbsp;block_type&nbsp;=&nbsp;response.get</span><span class="mtk12">(</span><span class="mtk5">"type"</span><span class="mtk12">,</span><span class="mtk1">&nbsp;</span><span class="mtk5">"Not&nbsp;paragraph"</span><span class="mtk12">)</span></span><br><span><span class="mtk1">&nbsp;&nbsp;&nbsp;&nbsp;</span><span class="mtk18">if</span><span class="mtk1">&nbsp;block_type&nbsp;!=&nbsp;</span><span class="mtk5">"paragraph"</span><span class="mtk12">:</span></span><br><span><span class="mtk1">&nbsp;&nbsp;&nbsp;&nbsp;&nbsp;&nbsp;&nbsp;&nbsp;content&nbsp;=&nbsp;</span><span class="mtk5">""</span></span><br><span><span class="mtk1">&nbsp;&nbsp;&nbsp;&nbsp;</span><span class="mtk18">else</span><span class="mtk12">:</span></span><br><span><span class="mtk1">&nbsp;&nbsp;&nbsp;&nbsp;&nbsp;&nbsp;&nbsp;&nbsp;</span><span class="mtk18">try</span><span class="mtk12">:</span></span><br><span><span class="mtk1">&nbsp;&nbsp;&nbsp;&nbsp;&nbsp;&nbsp;&nbsp;&nbsp;&nbsp;&nbsp;&nbsp;&nbsp;content&nbsp;=&nbsp;response</span><span class="mtk12">[</span><span class="mtk5">"paragraph"</span><span class="mtk12">][</span><span class="mtk5">"rich_text"</span><span class="mtk12">][</span><span class="mtk6">0</span><span class="mtk12">][</span><span class="mtk5">"plain_text"</span><span class="mtk12">]</span></span><br><span><span class="mtk1">&nbsp;&nbsp;&nbsp;&nbsp;&nbsp;&nbsp;&nbsp;&nbsp;</span><span class="mtk18">except</span><span class="mtk1">&nbsp;IndexError</span><span class="mtk12">:</span></span><br><span><span class="mtk1">&nbsp;&nbsp;&nbsp;&nbsp;&nbsp;&nbsp;&nbsp;&nbsp;&nbsp;&nbsp;&nbsp;&nbsp;content&nbsp;=&nbsp;</span><span class="mtk5">""</span></span><br><span><span class="mtk1">&nbsp;&nbsp;&nbsp;&nbsp;</span><span class="mtk18">return</span><span class="mtk1">&nbsp;</span><span class="mtk12">{</span></span><br><span><span class="mtk1">&nbsp;&nbsp;&nbsp;&nbsp;&nbsp;&nbsp;&nbsp;&nbsp;</span><span class="mtk5">"block_id"</span><span class="mtk12">:</span><span class="mtk1">&nbsp;block_id</span><span class="mtk12">,</span></span><br><span><span class="mtk1">&nbsp;&nbsp;&nbsp;&nbsp;&nbsp;&nbsp;&nbsp;&nbsp;</span><span class="mtk5">"block_type"</span><span class="mtk12">:</span><span class="mtk1">&nbsp;block_type</span><span class="mtk12">,</span></span><br><span><span class="mtk1">&nbsp;&nbsp;&nbsp;&nbsp;&nbsp;&nbsp;&nbsp;&nbsp;</span><span class="mtk5">"content"</span><span class="mtk12">:</span><span class="mtk1">&nbsp;content</span><span class="mtk12">,</span></span><br><span><span class="mtk1">&nbsp;&nbsp;&nbsp;&nbsp;&nbsp;&nbsp;&nbsp;&nbsp;</span><span class="mtk5">"last_edited_time"</span><span class="mtk12">:</span><span class="mtk1">&nbsp;last_edited_time</span><span class="mtk12">,</span></span><br><span><span class="mtk1">&nbsp;&nbsp;&nbsp;&nbsp;&nbsp;&nbsp;&nbsp;&nbsp;</span><span class="mtk5">"inserted_at_time"</span><span class="mtk12">:</span><span class="mtk1">&nbsp;datetime.now</span><span class="mtk12">(</span><span class="mtk1">timezone.utc</span><span class="mtk12">)</span></span><br><span><span class="mtk1">&nbsp;&nbsp;&nbsp;&nbsp;</span><span class="mtk12">}</span></span><br><span><span></span></span><br><span><span class="mtk15">@dlt.resource</span><span class="mtk12">(</span></span><br><span><span class="mtk1">&nbsp;&nbsp;&nbsp;&nbsp;name=</span><span class="mtk5">"employee_handbook"</span><span class="mtk12">,</span></span><br><span><span class="mtk1">&nbsp;&nbsp;&nbsp;&nbsp;write_disposition=</span><span class="mtk5">"merge"</span><span class="mtk12">,</span></span><br><span><span class="mtk1">&nbsp;&nbsp;&nbsp;&nbsp;primary_key=</span><span class="mtk5">"block_id"</span><span class="mtk12">,</span></span><br><span><span class="mtk1">&nbsp;&nbsp;&nbsp;&nbsp;columns=</span><span class="mtk12">{</span><span class="mtk5">"last_edited_time"</span><span class="mtk12">:{</span><span class="mtk5">"dedup_sort"</span><span class="mtk12">:</span><span class="mtk5">"desc"</span><span class="mtk12">}}</span></span><br><span><span class="mtk1">&nbsp;&nbsp;&nbsp;&nbsp;</span><span class="mtk12">)</span></span><br><span><span class="mtk9">def</span><span class="mtk1">&nbsp;</span><span class="mtk15">rest_api_notion_incremental</span><span class="mtk1">(</span></span><br><span><span class="mtk1">&nbsp;&nbsp;&nbsp;&nbsp;</span><span class="mtk4">last_edited_time</span><span class="mtk1">&nbsp;=&nbsp;dlt.sources.incremental</span><span class="mtk12">(</span><span class="mtk5">"last_edited_time"</span><span class="mtk1">,&nbsp;</span><span class="mtk4">initial_value</span><span class="mtk1">=</span><span class="mtk5">"2024-06-26T08:16:00.000Z"</span><span class="mtk1">,</span><span class="mtk4">primary_key</span><span class="mtk1">=</span><span class="mtk12">(</span><span class="mtk5">"block_id"</span><span class="mtk12">)</span><span class="mtk1">)</span></span><br><span><span class="mtk12">):</span></span><br><span><span class="mtk1">&nbsp;&nbsp;&nbsp;&nbsp;</span><span class="mtk8">#&nbsp;last_value&nbsp;=&nbsp;last_edited_time.last_value</span></span><br><span><span class="mtk1">&nbsp;&nbsp;&nbsp;&nbsp;</span><span class="mtk8">#&nbsp;print(last_value)</span></span><br><span><span></span></span><br><span><span class="mtk1">&nbsp;&nbsp;&nbsp;&nbsp;</span><span class="mtk18">for</span><span class="mtk1">&nbsp;block&nbsp;</span><span class="mtk17">in</span><span class="mtk1">&nbsp;rest_api_notion_resource.add_map</span><span class="mtk12">(</span><span class="mtk1">extract_page_content</span><span class="mtk12">):</span></span><br><span><span class="mtk1">&nbsp;&nbsp;&nbsp;&nbsp;&nbsp;&nbsp;&nbsp;&nbsp;</span><span class="mtk18">if</span><span class="mtk1">&nbsp;</span><span class="mtk17">not</span><span class="mtk12">(</span><span class="mtk15">len</span><span class="mtk12">(</span><span class="mtk1">block</span><span class="mtk12">[</span><span class="mtk5">"content"</span><span class="mtk12">])):</span></span><br><span><span class="mtk1">&nbsp;&nbsp;&nbsp;&nbsp;&nbsp;&nbsp;&nbsp;&nbsp;&nbsp;&nbsp;&nbsp;&nbsp;</span><span class="mtk18">continue</span></span><br><span><span class="mtk1">&nbsp;&nbsp;&nbsp;&nbsp;&nbsp;&nbsp;&nbsp;&nbsp;</span><span class="mtk18">yield</span><span class="mtk1">&nbsp;block</span></span><br><span><span></span></span><br><span><span class="mtk9">def</span><span class="mtk1">&nbsp;</span><span class="mtk15">load_notion</span><span class="mtk1">()&nbsp;-&gt;&nbsp;</span><span class="mtk9">None</span><span class="mtk12">:</span></span><br><span><span class="mtk1">&nbsp;&nbsp;&nbsp;&nbsp;pipeline&nbsp;=&nbsp;dlt.pipeline</span><span class="mtk12">(</span></span><br><span><span class="mtk1">&nbsp;&nbsp;&nbsp;&nbsp;&nbsp;&nbsp;&nbsp;&nbsp;pipeline_name=</span><span class="mtk5">"company_policies"</span><span class="mtk12">,</span></span><br><span><span class="mtk1">&nbsp;&nbsp;&nbsp;&nbsp;&nbsp;&nbsp;&nbsp;&nbsp;destination=</span><span class="mtk5">"lancedb"</span><span class="mtk12">,</span></span><br><span><span class="mtk1">&nbsp;&nbsp;&nbsp;&nbsp;&nbsp;&nbsp;&nbsp;&nbsp;dataset_name=</span><span class="mtk5">"notion_pages"</span><span class="mtk12">,</span></span><br><span><span class="mtk1">&nbsp;&nbsp;&nbsp;&nbsp;&nbsp;&nbsp;&nbsp;&nbsp;</span><span class="mtk8">#&nbsp;full_refresh=True</span></span><br><span><span class="mtk1">&nbsp;&nbsp;&nbsp;&nbsp;</span><span class="mtk12">)</span></span><br><span><span></span></span><br><span><span class="mtk1">&nbsp;&nbsp;&nbsp;&nbsp;load_info&nbsp;=&nbsp;pipeline.run</span><span class="mtk12">(</span></span><br><span><span class="mtk1">&nbsp;&nbsp;&nbsp;&nbsp;&nbsp;&nbsp;&nbsp;&nbsp;lancedb_adapter</span><span class="mtk12">(</span></span><br><span><span class="mtk1">&nbsp;&nbsp;&nbsp;&nbsp;&nbsp;&nbsp;&nbsp;&nbsp;&nbsp;&nbsp;&nbsp;&nbsp;rest_api_notion_incremental</span><span class="mtk12">,</span></span><br><span><span class="mtk1">&nbsp;&nbsp;&nbsp;&nbsp;&nbsp;&nbsp;&nbsp;&nbsp;&nbsp;&nbsp;&nbsp;&nbsp;embed=</span><span class="mtk5">"content"</span></span><br><span><span class="mtk1">&nbsp;&nbsp;&nbsp;&nbsp;&nbsp;&nbsp;&nbsp;&nbsp;</span><span class="mtk12">),</span></span><br><span><span class="mtk1">&nbsp;&nbsp;&nbsp;&nbsp;&nbsp;&nbsp;&nbsp;&nbsp;table_name=</span><span class="mtk5">"employee_handbook"</span><span class="mtk12">,</span></span><br><span><span class="mtk1">&nbsp;&nbsp;&nbsp;&nbsp;&nbsp;&nbsp;&nbsp;&nbsp;write_disposition=</span><span class="mtk5">"merge"</span></span><br><span><span class="mtk1">&nbsp;&nbsp;&nbsp;&nbsp;</span><span class="mtk12">)</span></span><br><span><span class="mtk1">&nbsp;&nbsp;&nbsp;&nbsp;</span><span class="mtk15">print</span><span class="mtk12">(</span><span class="mtk1">load_info</span><span class="mtk12">)</span></span><br><span><span></span></span><br><span><span class="mtk1">load_notion</span><span class="mtk12">()</span></span><br></pre><colab-read-only-cell-placeholder style="display: none;"><template shadowrootmode="open"><!----><div><!--?lit$109918125$-->Start coding or <span role="button" class="link" tabindex="0">generate</span> with AI.</div></template></colab-read-only-cell-placeholder></pre></div><colab-form class="formview vertical layout flex"><div class="widget-area vertical layout"></div></colab-form></div>
    <div class="output" aria-label="Cell 43 output" role="region"><!----> <div class="output-header"> </div>
        <div class="output-content">
          <div class="output-info"><colab-output-info title="Clear output

executed by Venkatesh Moturi
11:55 (0 minutes ago)
executed in 3.959 s"><template shadowrootmode="open"><!----><md-icon-button title="Code cell output actions" data-aria-label="Code cell output actions" value=""><template shadowrootmode="open" shadowrootdelegatesfocus><!----><button id="button" class="icon-button  standard " aria-label="Code cell output actions">
        <!--?lit$109918125$--><md-focus-ring part="focus-ring" for="button" aria-hidden="true"><template shadowrootmode="open"><!----></template></md-focus-ring>
        <!--?lit$109918125$--><md-ripple aria-hidden="true"><template shadowrootmode="open"><!----><div class="surface   "></div></template></md-ripple>
        <!--?lit$109918125$--><span class="icon"><slot></slot></span>
        <!--?lit$109918125$-->
        <!--?lit$109918125$--><span class="touch"></span>
        <!--?lit$109918125$-->
  </button></template>
        <md-icon aria-hidden="true"><template shadowrootmode="open"><!----><slot></slot></template><!--?lit$109918125$--><svg viewBox="0 0 24 24"><!--?lit$109918125$--><path d="m15.9 3.07c-4.32 0.0742-8.64-0.0355-13 0.0568-1.37 0.307-1.74 2.1-1.41 3.26 0.469 0.606 1.86 0.384 1.66-0.525 0.0448-0.329-0.183-0.93 0.354-0.766h13.3v1.53h1.71c0.0709-1.13 0.141-2.62-0.968-3.3-0.511-0.264-1.11-0.252-1.67-0.259zm2.94 6.84v4.87c1.62-1.62 3.24-3.24 4.87-4.87h-4.87zm0 0h-1.71v3.43l1.57 1.57c0.32-1.65 0.0556-3.34 0.135-5zm-1.71 3.43v-3.43h-3.43c1.14 1.14 2.29 2.29 3.43 3.43zm1.4 4.27h-1.71v1.48h-13.6v-1.48h-1.71c-0.0473 1.15-0.16 2.72 1.09 3.29 1.47 0.506 3.02 0.0265 4.53 0.192 3.34-0.0051 6.68 0.0336 10-0.0245 1.49-0.366 1.56-2.22 1.42-3.45zm-10.1-1.12c-0.398-0.483-0.796-0.967-1.19-1.45 0.59-0.683 1.18-1.37 1.77-2.05h-8.67v-2h8.67c-0.59-0.683-1.18-1.37-1.77-2.05 0.398-0.483 0.796-0.967 1.19-1.45 1.28 1.5 2.56 3 3.84 4.5-1.28 1.5-2.56 3-3.84 4.5z"></path></svg></md-icon>
      </md-icon-button></template></colab-output-info></div>
          <div class="output-iframe-container">
            <div class="output-iframe-sizer" style="min-height: 0px;"> <div><div><colab-static-output-renderer tabindex="0" role="group"><div><div class="stream output-id-2 output_text"><pre>_dlt_loads
[{'name': 'load_id', 'data_type': 'text', 'nullable': False}, {'name': 'schema_name', 'data_type': 'text', 'nullable': True}, {'name': 'status', 'data_type': 'bigint', 'nullable': False}, {'name': 'inserted_at', 'data_type': 'timestamp', 'nullable': False}, {'name': 'schema_version_hash', 'data_type': 'text', 'nullable': True}]
employee_handbook
[{'name': 'block_id', 'nullable': False, 'primary_key': True, 'data_type': 'text'}, {'name': 'block_type', 'data_type': 'text', 'nullable': True}, {'name': 'content', 'x-lancedb-embed': True, 'data_type': 'text', 'nullable': True}, {'dedup_sort': 'desc', 'name': 'last_edited_time', 'data_type': 'timestamp', 'nullable': True}, {'name': 'inserted_at_time', 'data_type': 'timestamp', 'nullable': True}, {'name': '_dlt_load_id', 'data_type': 'text', 'nullable': False}, {'name': '_dlt_id', 'data_type': 'text', 'nullable': False, 'unique': True}]
_dlt_pipeline_state
[{'name': 'version', 'data_type': 'bigint', 'nullable': False}, {'name': 'engine_version', 'data_type': 'bigint', 'nullable': False}, {'name': 'pipeline_name', 'data_type': 'text', 'nullable': False}, {'name': 'state', 'data_type': 'text', 'nullable': False}, {'name': 'created_at', 'data_type': 'timestamp', 'nullable': False}, {'name': 'version_hash', 'data_type': 'text', 'nullable': True}, {'name': '_dlt_load_id', 'data_type': 'text', 'nullable': False}, {'name': '_dlt_id', 'data_type': 'text', 'nullable': False, 'unique': True}]
_dlt_version
[{'name': 'version', 'data_type': 'bigint', 'nullable': False}, {'name': 'engine_version', 'data_type': 'bigint', 'nullable': False}, {'name': 'inserted_at', 'data_type': 'timestamp', 'nullable': False}, {'name': 'schema_name', 'data_type': 'text', 'nullable': False}, {'name': 'version_hash', 'data_type': 'text', 'nullable': False}, {'name': 'schema', 'data_type': 'text', 'nullable': False}]
UPLOAD
Pipeline company_policies load step completed in 1.95 seconds
1 load package(s) were loaded to destination LanceDB and into dataset notion_pages
The LanceDB destination used &lt;dlt.destinations.impl.lancedb.configuration.LanceDBCredentials object at 0x7c7f4fc92b30&gt; location to store data
Load package 1721715940.8231518 is LOADED and contains no failed jobs
</pre></div></div><div></div></colab-static-output-renderer></div></div></div>
          </div>
        </div></div></div><colab-cell-next-steps><template shadowrootmode="open"><!----></template></colab-cell-next-steps></div></div><div class="add-cell">
      <div class="add-cell-buttons">
        <md-outlined-button class="add-code add-button" data-aria-label="Add code cell
Ctrl+M B" title="Add code cell
Ctrl+M B" value="" has-icon=""><template shadowrootmode="open" shadowrootdelegatesfocus><!---->
      <!--?lit$109918125$--><div class="outline"></div>
      <div class="background"></div>
      <md-focus-ring part="focus-ring" for="button" aria-hidden="true"><template shadowrootmode="open"><!----></template></md-focus-ring>
      <md-ripple part="ripple" for="button" aria-hidden="true"><template shadowrootmode="open"><!----><div class="surface   "></div></template></md-ripple>
      <!--?lit$109918125$--><button id="button" class="button" aria-label="Add code cell
Ctrl+M B">
      <!--?lit$109918125$-->
      <span class="touch"></span>
      <!--?lit$109918125$--><slot name="icon"></slot>
      <span class="label"><slot></slot></span>
      <!--?lit$109918125$-->
    
    </button>
    </template>
          <md-icon slot="icon" aria-hidden="true"><template shadowrootmode="open"><!----><slot></slot></template>add</md-icon>
          <!--?lit$109918125$-->Code
        </md-outlined-button>
        <md-outlined-button class="add-text add-button" data-aria-label="Add text cell" title="Add text cell" value="" has-icon=""><template shadowrootmode="open" shadowrootdelegatesfocus><!---->
      <!--?lit$109918125$--><div class="outline"></div>
      <div class="background"></div>
      <md-focus-ring part="focus-ring" for="button" aria-hidden="true"><template shadowrootmode="open"><!----></template></md-focus-ring>
      <md-ripple part="ripple" for="button" aria-hidden="true"><template shadowrootmode="open"><!----><div class="surface   "></div></template></md-ripple>
      <!--?lit$109918125$--><button id="button" class="button" aria-label="Add text cell">
      <!--?lit$109918125$-->
      <span class="touch"></span>
      <!--?lit$109918125$--><slot name="icon"></slot>
      <span class="label"><slot></slot></span>
      <!--?lit$109918125$-->
    
    </button>
    </template>
          <md-icon slot="icon" aria-hidden="true"><template shadowrootmode="open"><!----><slot></slot></template>add</md-icon>
          <!--?lit$109918125$-->Text
        </md-outlined-button>
        <!--?lit$109918125$-->
      </div><hr>
    </div></div><div class="cell text" id="cell-ps09cty1uN9r" role="region" aria-label="Cell 44: Text cell: Visualize the output" style="" tabindex="-1"><div class="cell-tag-editor sticky"></div><div class="cell-toolbar sticky"></div><div class="main-content" elevation="0"><div class="cell-contents"><div class="cell-mask"></div><span class="imported-info-area"></span><!----> <div class="toolbar-root"></div>
      <div class="editor-container horizontal">
        <div class="editor-root"></div>
        <div class="text-top-div">
          <div class="markdown"><span><div class="text-cell-section-header layout horizontal center"><md-icon-button class="header-section-toggle" title="Collapse 4 child cells under Visualize the output (Press &lt;Shift&gt; to also collapse sibling sections)" data-aria-label="Collapse 4 child cells under Visualize the output (Press &lt;Shift&gt; to also collapse sibling sections)" value=""><template shadowrootmode="open" shadowrootdelegatesfocus><!----><button id="button" class="icon-button  standard " aria-label="Collapse 4 child cells under Visualize the output (Press &lt;Shift&gt; to also collapse sibling sections)">
        <!--?lit$109918125$--><md-focus-ring part="focus-ring" for="button" aria-hidden="true"><template shadowrootmode="open"><!----></template></md-focus-ring>
        <!--?lit$109918125$--><md-ripple aria-hidden="true"><template shadowrootmode="open"><!----><div class="surface   "></div></template></md-ripple>
        <!--?lit$109918125$--><span class="icon"><slot></slot></span>
        <!--?lit$109918125$-->
        <!--?lit$109918125$--><span class="touch"></span>
        <!--?lit$109918125$-->
  </button></template><md-icon aria-hidden="true"><template shadowrootmode="open"><!----><slot></slot></template>keyboard_arrow_down</md-icon></md-icon-button><h3>6. Visualize the output</h3></div>
</span></div>
        </div>
      </div>

      <div class="section-header" style="display: none;">
        <colab-run-button role="button" aria-label="Run cell"><template shadowrootmode="open"><!----> <div class="cell-execution">
      <div class="execution-count"><!--?lit$109918125$-->[ ]</div>
      <div class="cell-execution-indicator"> <!--?lit$109918125$-->
<svg xmlns="http://www.w3.org/2000/svg" viewBox="0 0 24 24">
  <!--?lit$109918125$-->
  <mask id="playSymbolMask">
    <rect width="100%" height="100%" fill="white"></rect>
    <polygon points="10,8 17,12 10,16" fill="black"></polygon>
  </mask>
  <circle cx="12" cy="12" r="7.8" mask="url(#playSymbolMask)" id="filledCircle"></circle>
</svg> </div>
      <!--?lit$109918125$--><!--?-->
    </div></template></colab-run-button>
        <div class="section-header-container" title="click to expand">↳ 4 cells hidden</div>
      </div></div></div><div class="add-cell">
      <hr>
    </div></div><div class="cell code icon-scrolling code-has-output" id="cell-B7hsT5i8Y24S" role="region" aria-label="Cell 45: Code cell: " style="" tabindex="-1"><div class="cell-tag-editor sticky"></div><div class="cell-toolbar sticky"></div><div class="main-content" elevation="0"><div class="cell-contents"><div class="cell-mask"></div><span class="imported-info-area"></span><div class="codecell-input-output">
      <div class="inputarea horizontal layout code">
        <div class="cell-gutter">
          <!-- Bounding range for vertical scrolling of icons -->
          <div class="cell-execution-container">
            <colab-run-button title="Run cell (Ctrl+Enter)
cell has not been executed in this session

executed by Venkatesh Moturi
11:55 (17 minutes ago)
executed in 0.005 s" role="button" aria-label="Run cell"><template shadowrootmode="open"><!----> <div class="cell-execution stale">
      <div class="execution-count"><!--?lit$109918125$-->[ ]</div>
      <div class="cell-execution-indicator"> <!--?lit$109918125$-->
<svg xmlns="http://www.w3.org/2000/svg" viewBox="0 0 24 24">
  <!--?lit$109918125$-->
  <mask id="playSymbolMask">
    <rect width="100%" height="100%" fill="white"></rect>
    <polygon points="10,8 17,12 10,16" fill="black"></polygon>
  </mask>
  <circle cx="12" cy="12" r="7.8" mask="url(#playSymbolMask)" id="filledCircle"></circle>
</svg> </div>
      <!--?lit$109918125$--><!--?-->
    </div></template></colab-run-button>
          </div>
        </div>
      <div class="editor flex lazy-editor" style=""><pre class="lazy-virtualized" style="font-size: 14px; line-height: 19px;"><pre class="lazy-gutter"></pre><pre class="monaco-colorized colab-dark colab-dark colab-dark colab-dark colab-dark colab-dark" data-lang="notebook-python"><span><span class="mtk18">import</span><span class="mtk1">&nbsp;lancedb</span></span><br><span><span></span></span><br><span><span class="mtk1">db&nbsp;=&nbsp;lancedb.connect</span><span class="mtk12">(</span><span class="mtk5">".lancedb"</span><span class="mtk12">)</span></span><br><span><span class="mtk1">dbtable&nbsp;=&nbsp;db.open_table</span><span class="mtk12">(</span><span class="mtk5">"notion_pages___employee_handbook"</span><span class="mtk12">)</span></span><br><span><span></span></span><br><span><span class="mtk1">dbtable.to_pandas</span><span class="mtk12">()</span></span><br></pre><colab-read-only-cell-placeholder style="display: none;"><template shadowrootmode="open"><!----><div><!--?lit$109918125$-->Start coding or <span role="button" class="link" tabindex="0">generate</span> with AI.</div></template></colab-read-only-cell-placeholder></pre></div><colab-form class="formview vertical layout flex"><div class="widget-area vertical layout"></div></colab-form></div>
    <div class="output" aria-label="Cell 45 output" role="region"><!----> <div class="output-header"> </div>
        <div class="output-content">
          <div class="output-info"><colab-output-info title="Clear output

executed by Venkatesh Moturi
11:55 (0 minutes ago)
executed in 0.005 s"><template shadowrootmode="open"><!----><md-icon-button title="Code cell output actions" data-aria-label="Code cell output actions" value=""><template shadowrootmode="open" shadowrootdelegatesfocus><!----><button id="button" class="icon-button  standard " aria-label="Code cell output actions">
        <!--?lit$109918125$--><md-focus-ring part="focus-ring" for="button" aria-hidden="true"><template shadowrootmode="open"><!----></template></md-focus-ring>
        <!--?lit$109918125$--><md-ripple aria-hidden="true"><template shadowrootmode="open"><!----><div class="surface   "></div></template></md-ripple>
        <!--?lit$109918125$--><span class="icon"><slot></slot></span>
        <!--?lit$109918125$-->
        <!--?lit$109918125$--><span class="touch"></span>
        <!--?lit$109918125$-->
  </button></template>
        <md-icon aria-hidden="true"><template shadowrootmode="open"><!----><slot></slot></template><!--?lit$109918125$--><svg viewBox="0 0 24 24"><!--?lit$109918125$--><path d="m15.9 3.07c-4.32 0.0742-8.64-0.0355-13 0.0568-1.37 0.307-1.74 2.1-1.41 3.26 0.469 0.606 1.86 0.384 1.66-0.525 0.0448-0.329-0.183-0.93 0.354-0.766h13.3v1.53h1.71c0.0709-1.13 0.141-2.62-0.968-3.3-0.511-0.264-1.11-0.252-1.67-0.259zm2.94 6.84v4.87c1.62-1.62 3.24-3.24 4.87-4.87h-4.87zm0 0h-1.71v3.43l1.57 1.57c0.32-1.65 0.0556-3.34 0.135-5zm-1.71 3.43v-3.43h-3.43c1.14 1.14 2.29 2.29 3.43 3.43zm1.4 4.27h-1.71v1.48h-13.6v-1.48h-1.71c-0.0473 1.15-0.16 2.72 1.09 3.29 1.47 0.506 3.02 0.0265 4.53 0.192 3.34-0.0051 6.68 0.0336 10-0.0245 1.49-0.366 1.56-2.22 1.42-3.45zm-10.1-1.12c-0.398-0.483-0.796-0.967-1.19-1.45 0.59-0.683 1.18-1.37 1.77-2.05h-8.67v-2h8.67c-0.59-0.683-1.18-1.37-1.77-2.05 0.398-0.483 0.796-0.967 1.19-1.45 1.28 1.5 2.56 3 3.84 4.5-1.28 1.5-2.56 3-3.84 4.5z"></path></svg></md-icon>
      </md-icon-button></template></colab-output-info></div>
          <div class="output-iframe-container">
            <div class="output-iframe-sizer" style="min-height: 0px;"> <div><div class="outputview" style="height: 1000px;"><colab-dom-lifecycle-events style="display: none;"></colab-dom-lifecycle-events><iframe allow="accelerometer; autoplay; gyroscope; magnetometer; xr-spatial-tracking; clipboard-write; camera; microphone; serial; usb" sandbox="allow-downloads allow-forms allow-pointer-lock allow-popups allow-same-origin allow-scripts allow-storage-access-by-user-activation allow-modals allow-popups-to-escape-sandbox" src="./LLM_zoomcamp_RAG_files/outputframe(3).html" class="" style="height: 1000px;"></iframe></div></div></div>
          </div>
        </div></div></div><colab-cell-next-steps><template shadowrootmode="open"><!----></template></colab-cell-next-steps></div></div><div class="add-cell">
      <hr>
    </div></div><div class="cell text" id="cell--4e3NR7a06eE" role="region" aria-label="Cell 46: Text cell: " style="" tabindex="-1"><div class="cell-tag-editor sticky"></div><div class="cell-toolbar sticky"></div><div class="main-content" elevation="0"><div class="cell-contents"><div class="cell-mask"></div><span class="imported-info-area"></span><!----> <div class="toolbar-root"></div>
      <div class="editor-container horizontal">
        <div class="editor-root"></div>
        <div class="text-top-div">
          <div class="markdown"><span><hr>
</span></div>
        </div>
      </div>

      <div class="section-header" style="display: none;">
        <colab-run-button role="button" aria-label="Run cell"><template shadowrootmode="open"><!----> <div class="cell-execution">
      <div class="execution-count"><!--?lit$109918125$-->[ ]</div>
      <div class="cell-execution-indicator"> <!--?lit$109918125$-->
<svg xmlns="http://www.w3.org/2000/svg" viewBox="0 0 24 24">
  <!--?lit$109918125$-->
  <mask id="playSymbolMask">
    <rect width="100%" height="100%" fill="white"></rect>
    <polygon points="10,8 17,12 10,16" fill="black"></polygon>
  </mask>
  <circle cx="12" cy="12" r="7.8" mask="url(#playSymbolMask)" id="filledCircle"></circle>
</svg> </div>
      <!--?lit$109918125$--><!--?-->
    </div></template></colab-run-button>
        <div class="section-header-container" title="click to expand">↳ 0 cells hidden</div>
      </div></div></div><div class="add-cell">
      <hr>
    </div></div><div class="cell text" id="cell-A-3A-YWGuRCi" role="region" aria-label="Cell 47: Text cell: " style="" tabindex="-1"><div class="cell-tag-editor sticky"></div><div class="cell-toolbar sticky"></div><div class="main-content" elevation="0"><div class="cell-contents"><div class="cell-mask"></div><span class="imported-info-area"></span><!----> <div class="toolbar-root"></div>
      <div class="editor-container horizontal">
        <div class="editor-root"></div>
        <div class="text-top-div">
          <div class="markdown"><span><p>Now we make change to one of the paragraphs and run the pipeline again to see the effect of incremental loading. We observe two things:</p>
<ol>
<li>The column <code>inserted_at_time</code> only changed for the updated row, implying that only this row was added</li>
<li>Looking at the primary key <code>block_id</code> we see that the original row was dropped and the updated row was inserted</li>
</ol>
</span></div>
        </div>
      </div>

      <div class="section-header" style="display: none;">
        <colab-run-button role="button" aria-label="Run cell"><template shadowrootmode="open"><!----> <div class="cell-execution">
      <div class="execution-count"><!--?lit$109918125$-->[ ]</div>
      <div class="cell-execution-indicator"> <!--?lit$109918125$-->
<svg xmlns="http://www.w3.org/2000/svg" viewBox="0 0 24 24">
  <!--?lit$109918125$-->
  <mask id="playSymbolMask">
    <rect width="100%" height="100%" fill="white"></rect>
    <polygon points="10,8 17,12 10,16" fill="black"></polygon>
  </mask>
  <circle cx="12" cy="12" r="7.8" mask="url(#playSymbolMask)" id="filledCircle"></circle>
</svg> </div>
      <!--?lit$109918125$--><!--?-->
    </div></template></colab-run-button>
        <div class="section-header-container" title="click to expand">↳ 0 cells hidden</div>
      </div></div></div><div class="add-cell">
      <div class="add-cell-buttons">
        <md-outlined-button class="add-code add-button" data-aria-label="Add code cell
Ctrl+M B" title="Add code cell
Ctrl+M B" value="" has-icon=""><template shadowrootmode="open" shadowrootdelegatesfocus><!---->
      <!--?lit$109918125$--><div class="outline"></div>
      <div class="background"></div>
      <md-focus-ring part="focus-ring" for="button" aria-hidden="true"><template shadowrootmode="open"><!----></template></md-focus-ring>
      <md-ripple part="ripple" for="button" aria-hidden="true"><template shadowrootmode="open"><!----><div class="surface   "></div></template></md-ripple>
      <!--?lit$109918125$--><button id="button" class="button" aria-label="Add code cell
Ctrl+M B">
      <!--?lit$109918125$-->
      <span class="touch"></span>
      <!--?lit$109918125$--><slot name="icon"></slot>
      <span class="label"><slot></slot></span>
      <!--?lit$109918125$-->
    
    </button>
    </template>
          <md-icon slot="icon" aria-hidden="true"><template shadowrootmode="open"><!----><slot></slot></template>add</md-icon>
          <!--?lit$109918125$-->Code
        </md-outlined-button>
        <md-outlined-button class="add-text add-button" data-aria-label="Add text cell" title="Add text cell" value="" has-icon=""><template shadowrootmode="open" shadowrootdelegatesfocus><!---->
      <!--?lit$109918125$--><div class="outline"></div>
      <div class="background"></div>
      <md-focus-ring part="focus-ring" for="button" aria-hidden="true"><template shadowrootmode="open"><!----></template></md-focus-ring>
      <md-ripple part="ripple" for="button" aria-hidden="true"><template shadowrootmode="open"><!----><div class="surface   "></div></template></md-ripple>
      <!--?lit$109918125$--><button id="button" class="button" aria-label="Add text cell">
      <!--?lit$109918125$-->
      <span class="touch"></span>
      <!--?lit$109918125$--><slot name="icon"></slot>
      <span class="label"><slot></slot></span>
      <!--?lit$109918125$-->
    
    </button>
    </template>
          <md-icon slot="icon" aria-hidden="true"><template shadowrootmode="open"><!----><slot></slot></template>add</md-icon>
          <!--?lit$109918125$-->Text
        </md-outlined-button>
        <!--?lit$109918125$-->
      </div><hr>
    </div></div><div class="cell code icon-scrolling code-has-output" id="cell-Sfp92r3iwlAb" role="region" aria-label="Cell 48: Code cell: " style="" tabindex="-1"><div class="cell-tag-editor sticky"></div><div class="cell-toolbar sticky"></div><div class="main-content" elevation="0"><div class="cell-contents"><div class="cell-mask"></div><span class="imported-info-area"></span><div class="codecell-input-output">
      <div class="inputarea horizontal layout code">
        <div class="cell-gutter">
          <!-- Bounding range for vertical scrolling of icons -->
          <div class="cell-execution-container">
            <colab-run-button title="Run cell (Ctrl+Enter)
cell has not been executed in this session

executed by Venkatesh Moturi
12:10 (2 minutes ago)
executed in 0.703 s" role="button" aria-label="Run cell"><template shadowrootmode="open"><!----> <div class="cell-execution stale">
      <div class="execution-count"><!--?lit$109918125$-->[ ]</div>
      <div class="cell-execution-indicator"> <!--?lit$109918125$-->
<svg xmlns="http://www.w3.org/2000/svg" viewBox="0 0 24 24">
  <!--?lit$109918125$-->
  <mask id="playSymbolMask">
    <rect width="100%" height="100%" fill="white"></rect>
    <polygon points="10,8 17,12 10,16" fill="black"></polygon>
  </mask>
  <circle cx="12" cy="12" r="7.8" mask="url(#playSymbolMask)" id="filledCircle"></circle>
</svg> </div>
      <!--?lit$109918125$--><!--?-->
    </div></template></colab-run-button>
          </div>
        </div>
      <div class="editor flex lazy-editor" style=""><pre class="lazy-virtualized" style="font-size: 14px; line-height: 19px;"><pre class="lazy-gutter"></pre><pre class="monaco-colorized colab-dark colab-dark colab-dark colab-dark colab-dark colab-dark colab-dark colab-dark" data-lang="notebook-python"><span><span class="mtk1">db&nbsp;=&nbsp;lancedb.connect</span><span class="mtk12">(</span><span class="mtk5">".lancedb"</span><span class="mtk12">)</span></span><br><span><span class="mtk1">dbtable&nbsp;=&nbsp;db.open_table</span><span class="mtk12">(</span><span class="mtk5">"notion_pages___employee_handbook"</span><span class="mtk12">)</span></span><br><span><span></span></span><br><span><span class="mtk1">dbtable.to_pandas</span><span class="mtk12">()</span></span><br></pre><colab-read-only-cell-placeholder style="display: none;"><template shadowrootmode="open"><!----><div><!--?lit$109918125$-->Start coding or <span role="button" class="link" tabindex="0">generate</span> with AI.</div></template></colab-read-only-cell-placeholder></pre></div><colab-form class="formview vertical layout flex"><div class="widget-area vertical layout"></div></colab-form></div>
    <div class="output" aria-label="Cell 48 output" role="region"><!----> <div class="output-header"> </div>
        <div class="output-content">
          <div class="output-info"><colab-output-info title="Clear output

executed by Venkatesh Moturi
12:10 (0 minutes ago)
executed in 0.703 s"><template shadowrootmode="open"><!----><md-icon-button title="Code cell output actions" data-aria-label="Code cell output actions" value=""><template shadowrootmode="open" shadowrootdelegatesfocus><!----><button id="button" class="icon-button  standard " aria-label="Code cell output actions">
        <!--?lit$109918125$--><md-focus-ring part="focus-ring" for="button" aria-hidden="true"><template shadowrootmode="open"><!----></template></md-focus-ring>
        <!--?lit$109918125$--><md-ripple aria-hidden="true"><template shadowrootmode="open"><!----><div class="surface   "></div></template></md-ripple>
        <!--?lit$109918125$--><span class="icon"><slot></slot></span>
        <!--?lit$109918125$-->
        <!--?lit$109918125$--><span class="touch"></span>
        <!--?lit$109918125$-->
  </button></template>
        <md-icon aria-hidden="true"><template shadowrootmode="open"><!----><slot></slot></template><!--?lit$109918125$--><svg viewBox="0 0 24 24"><!--?lit$109918125$--><path d="m15.9 3.07c-4.32 0.0742-8.64-0.0355-13 0.0568-1.37 0.307-1.74 2.1-1.41 3.26 0.469 0.606 1.86 0.384 1.66-0.525 0.0448-0.329-0.183-0.93 0.354-0.766h13.3v1.53h1.71c0.0709-1.13 0.141-2.62-0.968-3.3-0.511-0.264-1.11-0.252-1.67-0.259zm2.94 6.84v4.87c1.62-1.62 3.24-3.24 4.87-4.87h-4.87zm0 0h-1.71v3.43l1.57 1.57c0.32-1.65 0.0556-3.34 0.135-5zm-1.71 3.43v-3.43h-3.43c1.14 1.14 2.29 2.29 3.43 3.43zm1.4 4.27h-1.71v1.48h-13.6v-1.48h-1.71c-0.0473 1.15-0.16 2.72 1.09 3.29 1.47 0.506 3.02 0.0265 4.53 0.192 3.34-0.0051 6.68 0.0336 10-0.0245 1.49-0.366 1.56-2.22 1.42-3.45zm-10.1-1.12c-0.398-0.483-0.796-0.967-1.19-1.45 0.59-0.683 1.18-1.37 1.77-2.05h-8.67v-2h8.67c-0.59-0.683-1.18-1.37-1.77-2.05 0.398-0.483 0.796-0.967 1.19-1.45 1.28 1.5 2.56 3 3.84 4.5-1.28 1.5-2.56 3-3.84 4.5z"></path></svg></md-icon>
      </md-icon-button></template></colab-output-info></div>
          <div class="output-iframe-container">
            <div class="output-iframe-sizer" style="min-height: 0px;"> <div><div class="outputview" style="height: 1000px;"><colab-dom-lifecycle-events style="display: none;"></colab-dom-lifecycle-events><iframe allow="accelerometer; autoplay; gyroscope; magnetometer; xr-spatial-tracking; clipboard-write; camera; microphone; serial; usb" sandbox="allow-downloads allow-forms allow-pointer-lock allow-popups allow-same-origin allow-scripts allow-storage-access-by-user-activation allow-modals allow-popups-to-escape-sandbox" src="./LLM_zoomcamp_RAG_files/outputframe(4).html" class="" style="height: 1000px;"></iframe></div></div></div>
          </div>
        </div></div></div><colab-cell-next-steps><template shadowrootmode="open"><!----></template></colab-cell-next-steps></div></div><div class="add-cell">
      <hr>
    </div></div><div class="cell text" id="cell-WuG395sV1rqb" role="region" aria-label="Cell 49: Text cell: Part 2: Create a RAG bot using Ollama" style="" tabindex="-1"><div class="cell-tag-editor sticky"></div><div class="cell-toolbar sticky"></div><div class="main-content" elevation="0"><div class="cell-contents"><div class="cell-mask"></div><span class="imported-info-area"></span><!----> <div class="toolbar-root"></div>
      <div class="editor-container horizontal">
        <div class="editor-root"></div>
        <div class="text-top-div">
          <div class="markdown"><span><div class="text-cell-section-header layout horizontal center"><md-icon-button class="header-section-toggle" title="Collapse 19 child cells under Part 2: Create a RAG bot using Ollama (Press &lt;Shift&gt; to also collapse sibling sections)" data-aria-label="Collapse 19 child cells under Part 2: Create a RAG bot using Ollama (Press &lt;Shift&gt; to also collapse sibling sections)" value=""><template shadowrootmode="open" shadowrootdelegatesfocus><!----><button id="button" class="icon-button  standard " aria-label="Collapse 19 child cells under Part 2: Create a RAG bot using Ollama (Press &lt;Shift&gt; to also collapse sibling sections)">
        <!--?lit$109918125$--><md-focus-ring part="focus-ring" for="button" aria-hidden="true"><template shadowrootmode="open"><!----></template></md-focus-ring>
        <!--?lit$109918125$--><md-ripple aria-hidden="true"><template shadowrootmode="open"><!----><div class="surface   "></div></template></md-ripple>
        <!--?lit$109918125$--><span class="icon"><slot></slot></span>
        <!--?lit$109918125$-->
        <!--?lit$109918125$--><span class="touch"></span>
        <!--?lit$109918125$-->
  </button></template><md-icon aria-hidden="true"><template shadowrootmode="open"><!----><slot></slot></template>keyboard_arrow_down</md-icon></md-icon-button><h2>Part 2: Create a RAG bot using Ollama</h2></div>
</span></div>
        </div>
      </div>

      <div class="section-header" style="display: none;">
        <colab-run-button role="button" aria-label="Run cell"><template shadowrootmode="open"><!----> <div class="cell-execution">
      <div class="execution-count"><!--?lit$109918125$-->[ ]</div>
      <div class="cell-execution-indicator"> <!--?lit$109918125$-->
<svg xmlns="http://www.w3.org/2000/svg" viewBox="0 0 24 24">
  <!--?lit$109918125$-->
  <mask id="playSymbolMask">
    <rect width="100%" height="100%" fill="white"></rect>
    <polygon points="10,8 17,12 10,16" fill="black"></polygon>
  </mask>
  <circle cx="12" cy="12" r="7.8" mask="url(#playSymbolMask)" id="filledCircle"></circle>
</svg> </div>
      <!--?lit$109918125$--><!--?-->
    </div></template></colab-run-button>
        <div class="section-header-container" title="click to expand">↳ 19 cells hidden</div>
      </div></div></div><div class="add-cell">
      <hr>
    </div></div><div class="cell text" id="cell-IDzsT3Ms2KgC" role="region" aria-label="Cell 50: Text cell: " style="" tabindex="-1"><div class="cell-tag-editor sticky"></div><div class="cell-toolbar sticky"></div><div class="main-content" elevation="0"><div class="cell-contents"><div class="cell-mask"></div><span class="imported-info-area"></span><!----> <div class="toolbar-root"></div>
      <div class="editor-container horizontal">
        <div class="editor-root"></div>
        <div class="text-top-div">
          <div class="markdown"><span><p>With the contents from the employee handbook vectorized and stored in LanceDB, we're now ready to create our RAG with Ollama.</p>
</span></div>
        </div>
      </div>

      <div class="section-header" style="display: none;">
        <colab-run-button role="button" aria-label="Run cell"><template shadowrootmode="open"><!----> <div class="cell-execution">
      <div class="execution-count"><!--?lit$109918125$-->[ ]</div>
      <div class="cell-execution-indicator"> <!--?lit$109918125$-->
<svg xmlns="http://www.w3.org/2000/svg" viewBox="0 0 24 24">
  <!--?lit$109918125$-->
  <mask id="playSymbolMask">
    <rect width="100%" height="100%" fill="white"></rect>
    <polygon points="10,8 17,12 10,16" fill="black"></polygon>
  </mask>
  <circle cx="12" cy="12" r="7.8" mask="url(#playSymbolMask)" id="filledCircle"></circle>
</svg> </div>
      <!--?lit$109918125$--><!--?-->
    </div></template></colab-run-button>
        <div class="section-header-container" title="click to expand">↳ 0 cells hidden</div>
      </div></div></div><div class="add-cell">
      <hr>
    </div></div><div class="cell text" id="cell-Zln7JnrO11NQ" role="region" aria-label="Cell 51: Text cell: " style="" tabindex="-1"><div class="cell-tag-editor sticky"></div><div class="cell-toolbar sticky"></div><div class="main-content" elevation="0"><div class="cell-contents"><div class="cell-mask"></div><span class="imported-info-area"></span><!----> <div class="toolbar-root"></div>
      <div class="editor-container horizontal">
        <div class="editor-root"></div>
        <div class="text-top-div">
          <div class="markdown"><span><p>What is RAG?</p>
<p>Retrieval Automated Generation (RAG) is the framework of retrieving relevant documents from a database and passing it along with a query into an LLM so that the LLM can generate context-aware responses.</p>
<p>In our case, if we were to ask an LLM questions about our specific employee policies, then we would not get useful responses because the LLM has never seen these policies. A solution to this could be to paste all of the policies into the prompt and then ask our questions. However, this would not be feasible given the limitations on the size of the context window.</p>
<p>We can bypass this limitation using RAG:</p>
<ol>
<li>Given a user question, we would first embed this question into a vector</li>
<li>Then we would do a vector search on our LanceDB table and retrieve top k results - which would be the most relevant paragraphs corresponding to the question</li>
<li>Finally, we would pass the original question along with the retrieved paragraphs as a prompt into the LLM</li>
</ol>
</span></div>
        </div>
      </div>

      <div class="section-header" style="display: none;">
        <colab-run-button role="button" aria-label="Run cell"><template shadowrootmode="open"><!----> <div class="cell-execution">
      <div class="execution-count"><!--?lit$109918125$-->[ ]</div>
      <div class="cell-execution-indicator"> <!--?lit$109918125$-->
<svg xmlns="http://www.w3.org/2000/svg" viewBox="0 0 24 24">
  <!--?lit$109918125$-->
  <mask id="playSymbolMask">
    <rect width="100%" height="100%" fill="white"></rect>
    <polygon points="10,8 17,12 10,16" fill="black"></polygon>
  </mask>
  <circle cx="12" cy="12" r="7.8" mask="url(#playSymbolMask)" id="filledCircle"></circle>
</svg> </div>
      <!--?lit$109918125$--><!--?-->
    </div></template></colab-run-button>
        <div class="section-header-container" title="click to expand">↳ 0 cells hidden</div>
      </div></div></div><div class="add-cell">
      <div class="add-cell-buttons">
        <md-outlined-button class="add-code add-button" data-aria-label="Add code cell
Ctrl+M B" title="Add code cell
Ctrl+M B" value="" has-icon=""><template shadowrootmode="open" shadowrootdelegatesfocus><!---->
      <!--?lit$109918125$--><div class="outline"></div>
      <div class="background"></div>
      <md-focus-ring part="focus-ring" for="button" aria-hidden="true"><template shadowrootmode="open"><!----></template></md-focus-ring>
      <md-ripple part="ripple" for="button" aria-hidden="true"><template shadowrootmode="open"><!----><div class="surface   "></div></template></md-ripple>
      <!--?lit$109918125$--><button id="button" class="button" aria-label="Add code cell
Ctrl+M B">
      <!--?lit$109918125$-->
      <span class="touch"></span>
      <!--?lit$109918125$--><slot name="icon"></slot>
      <span class="label"><slot></slot></span>
      <!--?lit$109918125$-->
    
    </button>
    </template>
          <md-icon slot="icon" aria-hidden="true"><template shadowrootmode="open"><!----><slot></slot></template>add</md-icon>
          <!--?lit$109918125$-->Code
        </md-outlined-button>
        <md-outlined-button class="add-text add-button" data-aria-label="Add text cell" title="Add text cell" value="" has-icon=""><template shadowrootmode="open" shadowrootdelegatesfocus><!---->
      <!--?lit$109918125$--><div class="outline"></div>
      <div class="background"></div>
      <md-focus-ring part="focus-ring" for="button" aria-hidden="true"><template shadowrootmode="open"><!----></template></md-focus-ring>
      <md-ripple part="ripple" for="button" aria-hidden="true"><template shadowrootmode="open"><!----><div class="surface   "></div></template></md-ripple>
      <!--?lit$109918125$--><button id="button" class="button" aria-label="Add text cell">
      <!--?lit$109918125$-->
      <span class="touch"></span>
      <!--?lit$109918125$--><slot name="icon"></slot>
      <span class="label"><slot></slot></span>
      <!--?lit$109918125$-->
    
    </button>
    </template>
          <md-icon slot="icon" aria-hidden="true"><template shadowrootmode="open"><!----><slot></slot></template>add</md-icon>
          <!--?lit$109918125$-->Text
        </md-outlined-button>
        <!--?lit$109918125$-->
      </div><hr>
    </div></div><div class="cell text" id="cell-Fqvsji-Vuilq" role="region" aria-label="Cell 52: Text cell: " style="" tabindex="-1"><div class="cell-tag-editor sticky"></div><div class="cell-toolbar sticky"></div><div class="main-content" elevation="0"><div class="cell-contents"><div class="cell-mask"></div><span class="imported-info-area"></span><!----> <div class="toolbar-root"></div>
      <div class="editor-container horizontal">
        <div class="editor-root"></div>
        <div class="text-top-div">
          <div class="markdown"><span><ol>
<li>Install Ollama into the notebook's local runtime</li>
</ol>
</span></div>
        </div>
      </div>

      <div class="section-header" style="display: none;">
        <colab-run-button role="button" aria-label="Run cell"><template shadowrootmode="open"><!----> <div class="cell-execution">
      <div class="execution-count"><!--?lit$109918125$-->[ ]</div>
      <div class="cell-execution-indicator"> <!--?lit$109918125$-->
<svg xmlns="http://www.w3.org/2000/svg" viewBox="0 0 24 24">
  <!--?lit$109918125$-->
  <mask id="playSymbolMask">
    <rect width="100%" height="100%" fill="white"></rect>
    <polygon points="10,8 17,12 10,16" fill="black"></polygon>
  </mask>
  <circle cx="12" cy="12" r="7.8" mask="url(#playSymbolMask)" id="filledCircle"></circle>
</svg> </div>
      <!--?lit$109918125$--><!--?-->
    </div></template></colab-run-button>
        <div class="section-header-container" title="click to expand">↳ 0 cells hidden</div>
      </div></div></div><div class="add-cell">
      <div class="add-cell-buttons">
        <md-outlined-button class="add-code add-button" data-aria-label="Add code cell
Ctrl+M B" title="Add code cell
Ctrl+M B" value="" has-icon=""><template shadowrootmode="open" shadowrootdelegatesfocus><!---->
      <!--?lit$109918125$--><div class="outline"></div>
      <div class="background"></div>
      <md-focus-ring part="focus-ring" for="button" aria-hidden="true"><template shadowrootmode="open"><!----></template></md-focus-ring>
      <md-ripple part="ripple" for="button" aria-hidden="true"><template shadowrootmode="open"><!----><div class="surface"></div></template></md-ripple>
      <!--?lit$109918125$--><button id="button" class="button" aria-label="Add code cell
Ctrl+M B">
      <!--?lit$109918125$-->
      <span class="touch"></span>
      <!--?lit$109918125$--><slot name="icon"></slot>
      <span class="label"><slot></slot></span>
      <!--?lit$109918125$-->
    
    </button>
    </template>
          <md-icon slot="icon" aria-hidden="true"><template shadowrootmode="open"><!----><slot></slot></template>add</md-icon>
          <!--?lit$109918125$-->Code
        </md-outlined-button>
        <md-outlined-button class="add-text add-button" data-aria-label="Add text cell" title="Add text cell" value="" has-icon=""><template shadowrootmode="open" shadowrootdelegatesfocus><!---->
      <!--?lit$109918125$--><div class="outline"></div>
      <div class="background"></div>
      <md-focus-ring part="focus-ring" for="button" aria-hidden="true"><template shadowrootmode="open"><!----></template></md-focus-ring>
      <md-ripple part="ripple" for="button" aria-hidden="true"><template shadowrootmode="open"><!----><div class="surface   "></div></template></md-ripple>
      <!--?lit$109918125$--><button id="button" class="button" aria-label="Add text cell">
      <!--?lit$109918125$-->
      <span class="touch"></span>
      <!--?lit$109918125$--><slot name="icon"></slot>
      <span class="label"><slot></slot></span>
      <!--?lit$109918125$-->
    
    </button>
    </template>
          <md-icon slot="icon" aria-hidden="true"><template shadowrootmode="open"><!----><slot></slot></template>add</md-icon>
          <!--?lit$109918125$-->Text
        </md-outlined-button>
        <!--?lit$109918125$-->
      </div><hr>
    </div></div><div class="cell code icon-scrolling code-has-output" id="cell-kITCoZv85Ag5" role="region" aria-label="Cell 53: Code cell: " style="" tabindex="-1"><div class="cell-tag-editor sticky"></div><div class="cell-toolbar sticky"></div><div class="main-content" elevation="0"><div class="cell-contents"><div class="cell-mask"></div><span class="imported-info-area"></span><div class="codecell-input-output">
      <div class="inputarea horizontal layout code">
        <div class="cell-gutter">
          <!-- Bounding range for vertical scrolling of icons -->
          <div class="cell-execution-container">
            <colab-run-button title="Run cell (Ctrl+Enter)
cell has not been executed in this session

executed by Venkatesh Moturi
12:11 (1 minute ago)
executed in 18.254 s" role="button" aria-label="Run cell"><template shadowrootmode="open"><!----> <div class="cell-execution stale">
      <div class="execution-count"><!--?lit$109918125$-->[ ]</div>
      <div class="cell-execution-indicator"> <!--?lit$109918125$-->
<svg xmlns="http://www.w3.org/2000/svg" viewBox="0 0 24 24">
  <!--?lit$109918125$-->
  <mask id="playSymbolMask">
    <rect width="100%" height="100%" fill="white"></rect>
    <polygon points="10,8 17,12 10,16" fill="black"></polygon>
  </mask>
  <circle cx="12" cy="12" r="7.8" mask="url(#playSymbolMask)" id="filledCircle"></circle>
</svg> </div>
      <!--?lit$109918125$--><!--?-->
    </div></template></colab-run-button>
          </div>
        </div>
      <div class="editor flex lazy-editor" style=""><pre class="lazy-virtualized" style="font-size: 14px; line-height: 19px;"><pre class="lazy-gutter"></pre><pre class="monaco-colorized colab-dark colab-dark colab-dark colab-dark colab-dark colab-dark colab-dark colab-dark" data-lang="notebook-python"><span><span class="mtk17">!</span><span class="mtk1">curl&nbsp;-fsSL&nbsp;https://ollama</span><span class="mtk12">.</span><span class="mtk1">com/install</span><span class="mtk12">.</span><span class="mtk1">sh&nbsp;|&nbsp;sh</span></span><br></pre><colab-read-only-cell-placeholder style="display: none;"><template shadowrootmode="open"><!----><div><!--?lit$109918125$-->Start coding or <span role="button" class="link" tabindex="0">generate</span> with AI.</div></template></colab-read-only-cell-placeholder></pre></div><colab-form class="formview vertical layout flex"><div class="widget-area vertical layout"></div></colab-form></div>
    <div class="output" aria-label="Cell 53 output" role="region"><!----> <div class="output-header"> </div>
        <div class="output-content">
          <div class="output-info"><colab-output-info title="Clear output

executed by Venkatesh Moturi
12:11 (0 minutes ago)
executed in 18.254 s"><template shadowrootmode="open"><!----><md-icon-button title="Code cell output actions" data-aria-label="Code cell output actions" value=""><template shadowrootmode="open" shadowrootdelegatesfocus><!----><button id="button" class="icon-button  standard " aria-label="Code cell output actions">
        <!--?lit$109918125$--><md-focus-ring part="focus-ring" for="button" aria-hidden="true"><template shadowrootmode="open"><!----></template></md-focus-ring>
        <!--?lit$109918125$--><md-ripple aria-hidden="true"><template shadowrootmode="open"><!----><div class="surface   "></div></template></md-ripple>
        <!--?lit$109918125$--><span class="icon"><slot></slot></span>
        <!--?lit$109918125$-->
        <!--?lit$109918125$--><span class="touch"></span>
        <!--?lit$109918125$-->
  </button></template>
        <md-icon aria-hidden="true"><template shadowrootmode="open"><!----><slot></slot></template><!--?lit$109918125$--><svg viewBox="0 0 24 24"><!--?lit$109918125$--><path d="m15.9 3.07c-4.32 0.0742-8.64-0.0355-13 0.0568-1.37 0.307-1.74 2.1-1.41 3.26 0.469 0.606 1.86 0.384 1.66-0.525 0.0448-0.329-0.183-0.93 0.354-0.766h13.3v1.53h1.71c0.0709-1.13 0.141-2.62-0.968-3.3-0.511-0.264-1.11-0.252-1.67-0.259zm2.94 6.84v4.87c1.62-1.62 3.24-3.24 4.87-4.87h-4.87zm0 0h-1.71v3.43l1.57 1.57c0.32-1.65 0.0556-3.34 0.135-5zm-1.71 3.43v-3.43h-3.43c1.14 1.14 2.29 2.29 3.43 3.43zm1.4 4.27h-1.71v1.48h-13.6v-1.48h-1.71c-0.0473 1.15-0.16 2.72 1.09 3.29 1.47 0.506 3.02 0.0265 4.53 0.192 3.34-0.0051 6.68 0.0336 10-0.0245 1.49-0.366 1.56-2.22 1.42-3.45zm-10.1-1.12c-0.398-0.483-0.796-0.967-1.19-1.45 0.59-0.683 1.18-1.37 1.77-2.05h-8.67v-2h8.67c-0.59-0.683-1.18-1.37-1.77-2.05 0.398-0.483 0.796-0.967 1.19-1.45 1.28 1.5 2.56 3 3.84 4.5-1.28 1.5-2.56 3-3.84 4.5z"></path></svg></md-icon>
      </md-icon-button></template></colab-output-info></div>
          <div class="output-iframe-container">
            <div class="output-iframe-sizer" style="min-height: 0px;"> <div><div><colab-static-output-renderer tabindex="0" role="group"><div><div class="stream output-id-26 output_text"><pre>&gt;&gt;&gt; Downloading ollama...
############################################################################################# 100.0%
&gt;&gt;&gt; Installing ollama to /usr/local/bin...
&gt;&gt;&gt; Adding ollama user to video group...
&gt;&gt;&gt; Adding current user to ollama group...
&gt;&gt;&gt; Creating ollama systemd service...
WARNING: Unable to detect NVIDIA/AMD GPU. Install lspci or lshw to automatically detect and install GPU dependencies.
&gt;&gt;&gt; The Ollama API is now available at 127.0.0.1:11434.
&gt;&gt;&gt; Install complete. Run "ollama" from the command line.
</pre></div></div><div></div></colab-static-output-renderer></div></div></div>
          </div>
        </div></div></div><colab-cell-next-steps><template shadowrootmode="open"><!----></template></colab-cell-next-steps></div></div><div class="add-cell">
      <div class="add-cell-buttons">
        <md-outlined-button class="add-code add-button" data-aria-label="Add code cell
Ctrl+M B" title="Add code cell
Ctrl+M B" value="" has-icon=""><template shadowrootmode="open" shadowrootdelegatesfocus><!---->
      <!--?lit$109918125$--><div class="outline"></div>
      <div class="background"></div>
      <md-focus-ring part="focus-ring" for="button" aria-hidden="true"><template shadowrootmode="open"><!----></template></md-focus-ring>
      <md-ripple part="ripple" for="button" aria-hidden="true"><template shadowrootmode="open"><!----><div class="surface"></div></template></md-ripple>
      <!--?lit$109918125$--><button id="button" class="button" aria-label="Add code cell
Ctrl+M B">
      <!--?lit$109918125$-->
      <span class="touch"></span>
      <!--?lit$109918125$--><slot name="icon"></slot>
      <span class="label"><slot></slot></span>
      <!--?lit$109918125$-->
    
    </button>
    </template>
          <md-icon slot="icon" aria-hidden="true"><template shadowrootmode="open"><!----><slot></slot></template>add</md-icon>
          <!--?lit$109918125$-->Code
        </md-outlined-button>
        <md-outlined-button class="add-text add-button" data-aria-label="Add text cell" title="Add text cell" value="" has-icon=""><template shadowrootmode="open" shadowrootdelegatesfocus><!---->
      <!--?lit$109918125$--><div class="outline"></div>
      <div class="background"></div>
      <md-focus-ring part="focus-ring" for="button" aria-hidden="true"><template shadowrootmode="open"><!----></template></md-focus-ring>
      <md-ripple part="ripple" for="button" aria-hidden="true"><template shadowrootmode="open"><!----><div class="surface   "></div></template></md-ripple>
      <!--?lit$109918125$--><button id="button" class="button" aria-label="Add text cell">
      <!--?lit$109918125$-->
      <span class="touch"></span>
      <!--?lit$109918125$--><slot name="icon"></slot>
      <span class="label"><slot></slot></span>
      <!--?lit$109918125$-->
    
    </button>
    </template>
          <md-icon slot="icon" aria-hidden="true"><template shadowrootmode="open"><!----><slot></slot></template>add</md-icon>
          <!--?lit$109918125$-->Text
        </md-outlined-button>
        <!--?lit$109918125$-->
      </div><hr>
    </div></div><div class="cell text" id="cell-5KrkKX5JuoiA" role="region" aria-label="Cell 54: Text cell: " style="" tabindex="-1"><div class="cell-tag-editor sticky"></div><div class="cell-toolbar sticky"></div><div class="main-content" elevation="0"><div class="cell-contents"><div class="cell-mask"></div><span class="imported-info-area"></span><!----> <div class="toolbar-root"></div>
      <div class="editor-container horizontal">
        <div class="editor-root"></div>
        <div class="text-top-div">
          <div class="markdown"><span><ol start="2">
<li>Start Ollama using <code>ollama serve</code>. This needs to run in the backgound - so we run it using <code>nohup</code> (to see the output log, open nohup.out).</li>
</ol>
</span></div>
        </div>
      </div>

      <div class="section-header" style="display: none;">
        <colab-run-button role="button" aria-label="Run cell"><template shadowrootmode="open"><!----> <div class="cell-execution">
      <div class="execution-count"><!--?lit$109918125$-->[ ]</div>
      <div class="cell-execution-indicator"> <!--?lit$109918125$-->
<svg xmlns="http://www.w3.org/2000/svg" viewBox="0 0 24 24">
  <!--?lit$109918125$-->
  <mask id="playSymbolMask">
    <rect width="100%" height="100%" fill="white"></rect>
    <polygon points="10,8 17,12 10,16" fill="black"></polygon>
  </mask>
  <circle cx="12" cy="12" r="7.8" mask="url(#playSymbolMask)" id="filledCircle"></circle>
</svg> </div>
      <!--?lit$109918125$--><!--?-->
    </div></template></colab-run-button>
        <div class="section-header-container" title="click to expand">↳ 0 cells hidden</div>
      </div></div></div><div class="add-cell">
      <div class="add-cell-buttons">
        <md-outlined-button class="add-code add-button" data-aria-label="Add code cell
Ctrl+M B" title="Add code cell
Ctrl+M B" value="" has-icon=""><template shadowrootmode="open" shadowrootdelegatesfocus><!---->
      <!--?lit$109918125$--><div class="outline"></div>
      <div class="background"></div>
      <md-focus-ring part="focus-ring" for="button" aria-hidden="true"><template shadowrootmode="open"><!----></template></md-focus-ring>
      <md-ripple part="ripple" for="button" aria-hidden="true"><template shadowrootmode="open"><!----><div class="surface"></div></template></md-ripple>
      <!--?lit$109918125$--><button id="button" class="button" aria-label="Add code cell
Ctrl+M B">
      <!--?lit$109918125$-->
      <span class="touch"></span>
      <!--?lit$109918125$--><slot name="icon"></slot>
      <span class="label"><slot></slot></span>
      <!--?lit$109918125$-->
    
    </button>
    </template>
          <md-icon slot="icon" aria-hidden="true"><template shadowrootmode="open"><!----><slot></slot></template>add</md-icon>
          <!--?lit$109918125$-->Code
        </md-outlined-button>
        <md-outlined-button class="add-text add-button" data-aria-label="Add text cell" title="Add text cell" value="" has-icon=""><template shadowrootmode="open" shadowrootdelegatesfocus><!---->
      <!--?lit$109918125$--><div class="outline"></div>
      <div class="background"></div>
      <md-focus-ring part="focus-ring" for="button" aria-hidden="true"><template shadowrootmode="open"><!----></template></md-focus-ring>
      <md-ripple part="ripple" for="button" aria-hidden="true"><template shadowrootmode="open"><!----><div class="surface   "></div></template></md-ripple>
      <!--?lit$109918125$--><button id="button" class="button" aria-label="Add text cell">
      <!--?lit$109918125$-->
      <span class="touch"></span>
      <!--?lit$109918125$--><slot name="icon"></slot>
      <span class="label"><slot></slot></span>
      <!--?lit$109918125$-->
    
    </button>
    </template>
          <md-icon slot="icon" aria-hidden="true"><template shadowrootmode="open"><!----><slot></slot></template>add</md-icon>
          <!--?lit$109918125$-->Text
        </md-outlined-button>
        <!--?lit$109918125$-->
      </div><hr>
    </div></div><div class="cell code icon-scrolling" id="cell-Yp1cSSPn5FUQ" role="region" aria-label="Cell 55: Code cell: " style="" tabindex="-1"><div class="cell-tag-editor sticky"></div><div class="cell-toolbar sticky"></div><div class="main-content" elevation="0"><div class="cell-contents"><div class="cell-mask"></div><span class="imported-info-area"></span><div class="codecell-input-output">
      <div class="inputarea horizontal layout code">
        <div class="cell-gutter">
          <!-- Bounding range for vertical scrolling of icons -->
          <div class="cell-execution-container">
            <colab-run-button title="Run cell (Ctrl+Enter)
cell has not been executed in this session

executed by Venkatesh Moturi
12:11 (1 minute ago)
executed in 0.642 s" role="button" aria-label="Run cell"><template shadowrootmode="open"><!----> <div class="cell-execution stale">
      <div class="execution-count"><!--?lit$109918125$-->[ ]</div>
      <div class="cell-execution-indicator"> <!--?lit$109918125$-->
<svg xmlns="http://www.w3.org/2000/svg" viewBox="0 0 24 24">
  <!--?lit$109918125$-->
  <mask id="playSymbolMask">
    <rect width="100%" height="100%" fill="white"></rect>
    <polygon points="10,8 17,12 10,16" fill="black"></polygon>
  </mask>
  <circle cx="12" cy="12" r="7.8" mask="url(#playSymbolMask)" id="filledCircle"></circle>
</svg> </div>
      <!--?lit$109918125$--><!--?-->
    </div></template></colab-run-button>
          </div>
        </div>
      <div class="editor flex lazy-editor" style=""><pre class="lazy-virtualized" style="font-size: 14px; line-height: 19px;"><pre class="lazy-gutter"></pre><pre class="monaco-colorized colab-dark colab-dark colab-dark colab-dark colab-dark colab-dark" data-lang="notebook-python"><span><span class="mtk17">!</span><span class="mtk1">nohup&nbsp;ollama&nbsp;serve&nbsp;&gt;&nbsp;nohup</span><span class="mtk12">.</span><span class="mtk1">out&nbsp;</span><span class="mtk6">2</span><span class="mtk1">&gt;&amp;</span><span class="mtk6">1</span><span class="mtk1">&nbsp;&amp;</span></span><br></pre><colab-read-only-cell-placeholder style="display: none;"><template shadowrootmode="open"><!----><div><!--?lit$109918125$-->Start coding or <span role="button" class="link" tabindex="0">generate</span> with AI.</div></template></colab-read-only-cell-placeholder></pre></div><colab-form class="formview vertical layout flex"><div class="widget-area vertical layout"></div></colab-form></div>
    <div class="output" aria-label="Cell 55 output" role="region"><!----> <div class="output-header"> </div>
        <div class="output-content" hidden="">
          <div class="output-info"><colab-output-info title="Clear output

executed by Venkatesh Moturi
12:11 (0 minutes ago)
executed in 0.642 s"><template shadowrootmode="open"><!----><md-icon-button title="Code cell output actions" data-aria-label="Code cell output actions" value=""><template shadowrootmode="open" shadowrootdelegatesfocus><!----><button id="button" class="icon-button  standard " aria-label="Code cell output actions">
        <!--?lit$109918125$--><md-focus-ring part="focus-ring" for="button" aria-hidden="true"><template shadowrootmode="open"><!----></template></md-focus-ring>
        <!--?lit$109918125$--><md-ripple aria-hidden="true"><template shadowrootmode="open"><!----><div class="surface   "></div></template></md-ripple>
        <!--?lit$109918125$--><span class="icon"><slot></slot></span>
        <!--?lit$109918125$-->
        <!--?lit$109918125$--><span class="touch"></span>
        <!--?lit$109918125$-->
  </button></template>
        <md-icon aria-hidden="true"><template shadowrootmode="open"><!----><slot></slot></template><!--?lit$109918125$--><svg viewBox="0 0 24 24"><!--?lit$109918125$--><path d="m15.9 3.07c-4.32 0.0742-8.64-0.0355-13 0.0568-1.37 0.307-1.74 2.1-1.41 3.26 0.469 0.606 1.86 0.384 1.66-0.525 0.0448-0.329-0.183-0.93 0.354-0.766h13.3v1.53h1.71c0.0709-1.13 0.141-2.62-0.968-3.3-0.511-0.264-1.11-0.252-1.67-0.259zm2.94 6.84v4.87c1.62-1.62 3.24-3.24 4.87-4.87h-4.87zm0 0h-1.71v3.43l1.57 1.57c0.32-1.65 0.0556-3.34 0.135-5zm-1.71 3.43v-3.43h-3.43c1.14 1.14 2.29 2.29 3.43 3.43zm1.4 4.27h-1.71v1.48h-13.6v-1.48h-1.71c-0.0473 1.15-0.16 2.72 1.09 3.29 1.47 0.506 3.02 0.0265 4.53 0.192 3.34-0.0051 6.68 0.0336 10-0.0245 1.49-0.366 1.56-2.22 1.42-3.45zm-10.1-1.12c-0.398-0.483-0.796-0.967-1.19-1.45 0.59-0.683 1.18-1.37 1.77-2.05h-8.67v-2h8.67c-0.59-0.683-1.18-1.37-1.77-2.05 0.398-0.483 0.796-0.967 1.19-1.45 1.28 1.5 2.56 3 3.84 4.5-1.28 1.5-2.56 3-3.84 4.5z"></path></svg></md-icon>
      </md-icon-button></template></colab-output-info></div>
          <div class="output-iframe-container" hidden="">
            <div class="output-iframe-sizer" style="min-height: 0px;"> <div><div><colab-static-output-renderer tabindex="0" role="group"><div></div><div></div></colab-static-output-renderer></div></div></div>
          </div>
        </div></div></div><colab-cell-next-steps><template shadowrootmode="open"><!----></template></colab-cell-next-steps></div></div><div class="add-cell">
      <div class="add-cell-buttons">
        <md-outlined-button class="add-code add-button" data-aria-label="Add code cell
Ctrl+M B" title="Add code cell
Ctrl+M B" value="" has-icon=""><template shadowrootmode="open" shadowrootdelegatesfocus><!---->
      <!--?lit$109918125$--><div class="outline"></div>
      <div class="background"></div>
      <md-focus-ring part="focus-ring" for="button" aria-hidden="true"><template shadowrootmode="open"><!----></template></md-focus-ring>
      <md-ripple part="ripple" for="button" aria-hidden="true"><template shadowrootmode="open"><!----><div class="surface"></div></template></md-ripple>
      <!--?lit$109918125$--><button id="button" class="button" aria-label="Add code cell
Ctrl+M B">
      <!--?lit$109918125$-->
      <span class="touch"></span>
      <!--?lit$109918125$--><slot name="icon"></slot>
      <span class="label"><slot></slot></span>
      <!--?lit$109918125$-->
    
    </button>
    </template>
          <md-icon slot="icon" aria-hidden="true"><template shadowrootmode="open"><!----><slot></slot></template>add</md-icon>
          <!--?lit$109918125$-->Code
        </md-outlined-button>
        <md-outlined-button class="add-text add-button" data-aria-label="Add text cell" title="Add text cell" value="" has-icon=""><template shadowrootmode="open" shadowrootdelegatesfocus><!---->
      <!--?lit$109918125$--><div class="outline"></div>
      <div class="background"></div>
      <md-focus-ring part="focus-ring" for="button" aria-hidden="true"><template shadowrootmode="open"><!----></template></md-focus-ring>
      <md-ripple part="ripple" for="button" aria-hidden="true"><template shadowrootmode="open"><!----><div class="surface   "></div></template></md-ripple>
      <!--?lit$109918125$--><button id="button" class="button" aria-label="Add text cell">
      <!--?lit$109918125$-->
      <span class="touch"></span>
      <!--?lit$109918125$--><slot name="icon"></slot>
      <span class="label"><slot></slot></span>
      <!--?lit$109918125$-->
    
    </button>
    </template>
          <md-icon slot="icon" aria-hidden="true"><template shadowrootmode="open"><!----><slot></slot></template>add</md-icon>
          <!--?lit$109918125$-->Text
        </md-outlined-button>
        <!--?lit$109918125$-->
      </div><hr>
    </div></div><div class="cell text" id="cell-HNqBkxbVu4af" role="region" aria-label="Cell 56: Text cell: " style="" tabindex="-1"><div class="cell-tag-editor sticky"></div><div class="cell-toolbar sticky"></div><div class="main-content" elevation="0"><div class="cell-contents"><div class="cell-mask"></div><span class="imported-info-area"></span><!----> <div class="toolbar-root"></div>
      <div class="editor-container horizontal">
        <div class="editor-root"></div>
        <div class="text-top-div">
          <div class="markdown"><span><ol start="3">
<li>Pull the desired model. We're going to be using <code>llama1-uncensored</code> (takes about 1m to download)</li>
</ol>
</span></div>
        </div>
      </div>

      <div class="section-header" style="display: none;">
        <colab-run-button role="button" aria-label="Run cell"><template shadowrootmode="open"><!----> <div class="cell-execution">
      <div class="execution-count"><!--?lit$109918125$-->[ ]</div>
      <div class="cell-execution-indicator"> <!--?lit$109918125$-->
<svg xmlns="http://www.w3.org/2000/svg" viewBox="0 0 24 24">
  <!--?lit$109918125$-->
  <mask id="playSymbolMask">
    <rect width="100%" height="100%" fill="white"></rect>
    <polygon points="10,8 17,12 10,16" fill="black"></polygon>
  </mask>
  <circle cx="12" cy="12" r="7.8" mask="url(#playSymbolMask)" id="filledCircle"></circle>
</svg> </div>
      <!--?lit$109918125$--><!--?-->
    </div></template></colab-run-button>
        <div class="section-header-container" title="click to expand">↳ 0 cells hidden</div>
      </div></div></div><div class="add-cell">
      <div class="add-cell-buttons">
        <md-outlined-button class="add-code add-button" data-aria-label="Add code cell
Ctrl+M B" title="Add code cell
Ctrl+M B" value="" has-icon=""><template shadowrootmode="open" shadowrootdelegatesfocus><!---->
      <!--?lit$109918125$--><div class="outline"></div>
      <div class="background"></div>
      <md-focus-ring part="focus-ring" for="button" aria-hidden="true"><template shadowrootmode="open"><!----></template></md-focus-ring>
      <md-ripple part="ripple" for="button" aria-hidden="true"><template shadowrootmode="open"><!----><div class="surface   "></div></template></md-ripple>
      <!--?lit$109918125$--><button id="button" class="button" aria-label="Add code cell
Ctrl+M B">
      <!--?lit$109918125$-->
      <span class="touch"></span>
      <!--?lit$109918125$--><slot name="icon"></slot>
      <span class="label"><slot></slot></span>
      <!--?lit$109918125$-->
    
    </button>
    </template>
          <md-icon slot="icon" aria-hidden="true"><template shadowrootmode="open"><!----><slot></slot></template>add</md-icon>
          <!--?lit$109918125$-->Code
        </md-outlined-button>
        <md-outlined-button class="add-text add-button" data-aria-label="Add text cell" title="Add text cell" value="" has-icon=""><template shadowrootmode="open" shadowrootdelegatesfocus><!---->
      <!--?lit$109918125$--><div class="outline"></div>
      <div class="background"></div>
      <md-focus-ring part="focus-ring" for="button" aria-hidden="true"><template shadowrootmode="open"><!----></template></md-focus-ring>
      <md-ripple part="ripple" for="button" aria-hidden="true"><template shadowrootmode="open"><!----><div class="surface   "></div></template></md-ripple>
      <!--?lit$109918125$--><button id="button" class="button" aria-label="Add text cell">
      <!--?lit$109918125$-->
      <span class="touch"></span>
      <!--?lit$109918125$--><slot name="icon"></slot>
      <span class="label"><slot></slot></span>
      <!--?lit$109918125$-->
    
    </button>
    </template>
          <md-icon slot="icon" aria-hidden="true"><template shadowrootmode="open"><!----><slot></slot></template>add</md-icon>
          <!--?lit$109918125$-->Text
        </md-outlined-button>
        <!--?lit$109918125$-->
      </div><hr>
    </div></div><div class="cell code icon-scrolling" id="cell-S8HKNK7k5Xze" role="region" aria-label="Cell 57: Code cell: " style="" tabindex="-1"><div class="cell-tag-editor sticky"></div><div class="cell-toolbar sticky"></div><div class="main-content" elevation="0"><div class="cell-contents"><div class="cell-mask"></div><span class="imported-info-area"></span><div class="codecell-input-output">
      <div class="inputarea horizontal layout code">
        <div class="cell-gutter">
          <!-- Bounding range for vertical scrolling of icons -->
          <div class="cell-execution-container">
            <colab-run-button title="Run cell (Ctrl+Enter)
cell has not been executed in this session

executed by Venkatesh Moturi
12:12 (0 minutes ago)
executed in 14.843 s" role="button" aria-label="Run cell"><template shadowrootmode="open"><!----> <div class="cell-execution stale">
      <div class="execution-count"><!--?lit$109918125$-->[ ]</div>
      <div class="cell-execution-indicator"> <!--?lit$109918125$-->
<svg xmlns="http://www.w3.org/2000/svg" viewBox="0 0 24 24">
  <!--?lit$109918125$-->
  <mask id="playSymbolMask">
    <rect width="100%" height="100%" fill="white"></rect>
    <polygon points="10,8 17,12 10,16" fill="black"></polygon>
  </mask>
  <circle cx="12" cy="12" r="7.8" mask="url(#playSymbolMask)" id="filledCircle"></circle>
</svg> </div>
      <!--?lit$109918125$--><!--?-->
    </div></template></colab-run-button>
          </div>
        </div>
      <div class="editor flex lazy-editor" style=""><pre class="lazy-virtualized" style="font-size: 14px; line-height: 19px;"><pre class="lazy-gutter"></pre><pre class="monaco-colorized colab-dark colab-dark colab-dark colab-dark colab-dark colab-dark colab-dark colab-dark" data-lang="notebook-python"><span><span class="mtk17">%%capture</span></span><br><span><span class="mtk17">!</span><span class="mtk1">ollama&nbsp;pull&nbsp;llama2-uncensored</span></span><br></pre><colab-read-only-cell-placeholder style="display: none;"><template shadowrootmode="open"><!----><div><!--?lit$109918125$-->Start coding or <span role="button" class="link" tabindex="0">generate</span> with AI.</div></template></colab-read-only-cell-placeholder></pre></div><colab-form class="formview vertical layout flex"><div class="widget-area vertical layout"></div></colab-form></div>
    <div class="output" aria-label="Cell 57 output" role="region"><!----> <div class="output-header"> </div>
        <div class="output-content" hidden="">
          <div class="output-info"><colab-output-info title="Clear output

executed by Venkatesh Moturi
12:12 (0 minutes ago)
executed in 14.843 s"><template shadowrootmode="open"><!----><md-icon-button title="Code cell output actions" data-aria-label="Code cell output actions" value=""><template shadowrootmode="open" shadowrootdelegatesfocus><!----><button id="button" class="icon-button  standard " aria-label="Code cell output actions">
        <!--?lit$109918125$--><md-focus-ring part="focus-ring" for="button" aria-hidden="true"><template shadowrootmode="open"><!----></template></md-focus-ring>
        <!--?lit$109918125$--><md-ripple aria-hidden="true"><template shadowrootmode="open"><!----><div class="surface   "></div></template></md-ripple>
        <!--?lit$109918125$--><span class="icon"><slot></slot></span>
        <!--?lit$109918125$-->
        <!--?lit$109918125$--><span class="touch"></span>
        <!--?lit$109918125$-->
  </button></template>
        <md-icon aria-hidden="true"><template shadowrootmode="open"><!----><slot></slot></template><!--?lit$109918125$--><svg viewBox="0 0 24 24"><!--?lit$109918125$--><path d="m15.9 3.07c-4.32 0.0742-8.64-0.0355-13 0.0568-1.37 0.307-1.74 2.1-1.41 3.26 0.469 0.606 1.86 0.384 1.66-0.525 0.0448-0.329-0.183-0.93 0.354-0.766h13.3v1.53h1.71c0.0709-1.13 0.141-2.62-0.968-3.3-0.511-0.264-1.11-0.252-1.67-0.259zm2.94 6.84v4.87c1.62-1.62 3.24-3.24 4.87-4.87h-4.87zm0 0h-1.71v3.43l1.57 1.57c0.32-1.65 0.0556-3.34 0.135-5zm-1.71 3.43v-3.43h-3.43c1.14 1.14 2.29 2.29 3.43 3.43zm1.4 4.27h-1.71v1.48h-13.6v-1.48h-1.71c-0.0473 1.15-0.16 2.72 1.09 3.29 1.47 0.506 3.02 0.0265 4.53 0.192 3.34-0.0051 6.68 0.0336 10-0.0245 1.49-0.366 1.56-2.22 1.42-3.45zm-10.1-1.12c-0.398-0.483-0.796-0.967-1.19-1.45 0.59-0.683 1.18-1.37 1.77-2.05h-8.67v-2h8.67c-0.59-0.683-1.18-1.37-1.77-2.05 0.398-0.483 0.796-0.967 1.19-1.45 1.28 1.5 2.56 3 3.84 4.5-1.28 1.5-2.56 3-3.84 4.5z"></path></svg></md-icon>
      </md-icon-button></template></colab-output-info></div>
          <div class="output-iframe-container" hidden="">
            <div class="output-iframe-sizer" style="min-height: 0px;"> <div><div><colab-static-output-renderer tabindex="0" role="group"><div></div><div></div></colab-static-output-renderer></div></div></div>
          </div>
        </div></div></div><colab-cell-next-steps><template shadowrootmode="open"><!----></template></colab-cell-next-steps></div></div><div class="add-cell">
      <div class="add-cell-buttons">
        <md-outlined-button class="add-code add-button" data-aria-label="Add code cell
Ctrl+M B" title="Add code cell
Ctrl+M B" value="" has-icon=""><template shadowrootmode="open" shadowrootdelegatesfocus><!---->
      <!--?lit$109918125$--><div class="outline"></div>
      <div class="background"></div>
      <md-focus-ring part="focus-ring" for="button" aria-hidden="true"><template shadowrootmode="open"><!----></template></md-focus-ring>
      <md-ripple part="ripple" for="button" aria-hidden="true"><template shadowrootmode="open"><!----><div class="surface   "></div></template></md-ripple>
      <!--?lit$109918125$--><button id="button" class="button" aria-label="Add code cell
Ctrl+M B">
      <!--?lit$109918125$-->
      <span class="touch"></span>
      <!--?lit$109918125$--><slot name="icon"></slot>
      <span class="label"><slot></slot></span>
      <!--?lit$109918125$-->
    
    </button>
    </template>
          <md-icon slot="icon" aria-hidden="true"><template shadowrootmode="open"><!----><slot></slot></template>add</md-icon>
          <!--?lit$109918125$-->Code
        </md-outlined-button>
        <md-outlined-button class="add-text add-button" data-aria-label="Add text cell" title="Add text cell" value="" has-icon=""><template shadowrootmode="open" shadowrootdelegatesfocus><!---->
      <!--?lit$109918125$--><div class="outline"></div>
      <div class="background"></div>
      <md-focus-ring part="focus-ring" for="button" aria-hidden="true"><template shadowrootmode="open"><!----></template></md-focus-ring>
      <md-ripple part="ripple" for="button" aria-hidden="true"><template shadowrootmode="open"><!----><div class="surface   "></div></template></md-ripple>
      <!--?lit$109918125$--><button id="button" class="button" aria-label="Add text cell">
      <!--?lit$109918125$-->
      <span class="touch"></span>
      <!--?lit$109918125$--><slot name="icon"></slot>
      <span class="label"><slot></slot></span>
      <!--?lit$109918125$-->
    
    </button>
    </template>
          <md-icon slot="icon" aria-hidden="true"><template shadowrootmode="open"><!----><slot></slot></template>add</md-icon>
          <!--?lit$109918125$-->Text
        </md-outlined-button>
        <!--?lit$109918125$-->
      </div><hr>
    </div></div><div class="cell text" id="cell-YxgV6a4O8J7n" role="region" aria-label="Cell 58: Text cell: " style="" tabindex="-1"><div class="cell-tag-editor sticky"></div><div class="cell-toolbar sticky"></div><div class="main-content" elevation="0"><div class="cell-contents"><div class="cell-mask"></div><span class="imported-info-area"></span><!----> <div class="toolbar-root"></div>
      <div class="editor-container horizontal">
        <div class="editor-root"></div>
        <div class="text-top-div">
          <div class="markdown"><span><p>In this next part we're going to be writing functions that accept user question, retrieve the relevant paragraphs from lancedb, and the pass the question and the retrieved pages as input into the ollama chat assistant</p>
</span></div>
        </div>
      </div>

      <div class="section-header" style="display: none;">
        <colab-run-button role="button" aria-label="Run cell"><template shadowrootmode="open"><!----> <div class="cell-execution">
      <div class="execution-count"><!--?lit$109918125$-->[ ]</div>
      <div class="cell-execution-indicator"> <!--?lit$109918125$-->
<svg xmlns="http://www.w3.org/2000/svg" viewBox="0 0 24 24">
  <!--?lit$109918125$-->
  <mask id="playSymbolMask">
    <rect width="100%" height="100%" fill="white"></rect>
    <polygon points="10,8 17,12 10,16" fill="black"></polygon>
  </mask>
  <circle cx="12" cy="12" r="7.8" mask="url(#playSymbolMask)" id="filledCircle"></circle>
</svg> </div>
      <!--?lit$109918125$--><!--?-->
    </div></template></colab-run-button>
        <div class="section-header-container" title="click to expand">↳ 0 cells hidden</div>
      </div></div></div><div class="add-cell">
      <div class="add-cell-buttons">
        <md-outlined-button class="add-code add-button" data-aria-label="Add code cell
Ctrl+M B" title="Add code cell
Ctrl+M B" value="" has-icon=""><template shadowrootmode="open" shadowrootdelegatesfocus><!---->
      <!--?lit$109918125$--><div class="outline"></div>
      <div class="background"></div>
      <md-focus-ring part="focus-ring" for="button" aria-hidden="true"><template shadowrootmode="open"><!----></template></md-focus-ring>
      <md-ripple part="ripple" for="button" aria-hidden="true"><template shadowrootmode="open"><!----><div class="surface   "></div></template></md-ripple>
      <!--?lit$109918125$--><button id="button" class="button" aria-label="Add code cell
Ctrl+M B">
      <!--?lit$109918125$-->
      <span class="touch"></span>
      <!--?lit$109918125$--><slot name="icon"></slot>
      <span class="label"><slot></slot></span>
      <!--?lit$109918125$-->
    
    </button>
    </template>
          <md-icon slot="icon" aria-hidden="true"><template shadowrootmode="open"><!----><slot></slot></template>add</md-icon>
          <!--?lit$109918125$-->Code
        </md-outlined-button>
        <md-outlined-button class="add-text add-button" data-aria-label="Add text cell" title="Add text cell" value="" has-icon=""><template shadowrootmode="open" shadowrootdelegatesfocus><!---->
      <!--?lit$109918125$--><div class="outline"></div>
      <div class="background"></div>
      <md-focus-ring part="focus-ring" for="button" aria-hidden="true"><template shadowrootmode="open"><!----></template></md-focus-ring>
      <md-ripple part="ripple" for="button" aria-hidden="true"><template shadowrootmode="open"><!----><div class="surface   "></div></template></md-ripple>
      <!--?lit$109918125$--><button id="button" class="button" aria-label="Add text cell">
      <!--?lit$109918125$-->
      <span class="touch"></span>
      <!--?lit$109918125$--><slot name="icon"></slot>
      <span class="label"><slot></slot></span>
      <!--?lit$109918125$-->
    
    </button>
    </template>
          <md-icon slot="icon" aria-hidden="true"><template shadowrootmode="open"><!----><slot></slot></template>add</md-icon>
          <!--?lit$109918125$-->Text
        </md-outlined-button>
        <!--?lit$109918125$-->
      </div><hr>
    </div></div><div class="cell text" id="cell-K5FCqdt-vCAt" role="region" aria-label="Cell 59: Text cell: " style="" tabindex="-1"><div class="cell-tag-editor sticky"></div><div class="cell-toolbar sticky"></div><div class="main-content" elevation="0"><div class="cell-contents"><div class="cell-mask"></div><span class="imported-info-area"></span><!----> <div class="toolbar-root"></div>
      <div class="editor-container horizontal">
        <div class="editor-root"></div>
        <div class="text-top-div">
          <div class="markdown"><span><ol start="4">
<li>pip install ollama and import it</li>
</ol>
</span></div>
        </div>
      </div>

      <div class="section-header" style="display: none;">
        <colab-run-button role="button" aria-label="Run cell"><template shadowrootmode="open"><!----> <div class="cell-execution">
      <div class="execution-count"><!--?lit$109918125$-->[ ]</div>
      <div class="cell-execution-indicator"> <!--?lit$109918125$-->
<svg xmlns="http://www.w3.org/2000/svg" viewBox="0 0 24 24">
  <!--?lit$109918125$-->
  <mask id="playSymbolMask">
    <rect width="100%" height="100%" fill="white"></rect>
    <polygon points="10,8 17,12 10,16" fill="black"></polygon>
  </mask>
  <circle cx="12" cy="12" r="7.8" mask="url(#playSymbolMask)" id="filledCircle"></circle>
</svg> </div>
      <!--?lit$109918125$--><!--?-->
    </div></template></colab-run-button>
        <div class="section-header-container" title="click to expand">↳ 0 cells hidden</div>
      </div></div></div><div class="add-cell">
      <div class="add-cell-buttons">
        <md-outlined-button class="add-code add-button" data-aria-label="Add code cell
Ctrl+M B" title="Add code cell
Ctrl+M B" value="" has-icon=""><template shadowrootmode="open" shadowrootdelegatesfocus><!---->
      <!--?lit$109918125$--><div class="outline"></div>
      <div class="background"></div>
      <md-focus-ring part="focus-ring" for="button" aria-hidden="true"><template shadowrootmode="open"><!----></template></md-focus-ring>
      <md-ripple part="ripple" for="button" aria-hidden="true"><template shadowrootmode="open"><!----><div class="surface   "></div></template></md-ripple>
      <!--?lit$109918125$--><button id="button" class="button" aria-label="Add code cell
Ctrl+M B">
      <!--?lit$109918125$-->
      <span class="touch"></span>
      <!--?lit$109918125$--><slot name="icon"></slot>
      <span class="label"><slot></slot></span>
      <!--?lit$109918125$-->
    
    </button>
    </template>
          <md-icon slot="icon" aria-hidden="true"><template shadowrootmode="open"><!----><slot></slot></template>add</md-icon>
          <!--?lit$109918125$-->Code
        </md-outlined-button>
        <md-outlined-button class="add-text add-button" data-aria-label="Add text cell" title="Add text cell" value="" has-icon=""><template shadowrootmode="open" shadowrootdelegatesfocus><!---->
      <!--?lit$109918125$--><div class="outline"></div>
      <div class="background"></div>
      <md-focus-ring part="focus-ring" for="button" aria-hidden="true"><template shadowrootmode="open"><!----></template></md-focus-ring>
      <md-ripple part="ripple" for="button" aria-hidden="true"><template shadowrootmode="open"><!----><div class="surface   "></div></template></md-ripple>
      <!--?lit$109918125$--><button id="button" class="button" aria-label="Add text cell">
      <!--?lit$109918125$-->
      <span class="touch"></span>
      <!--?lit$109918125$--><slot name="icon"></slot>
      <span class="label"><slot></slot></span>
      <!--?lit$109918125$-->
    
    </button>
    </template>
          <md-icon slot="icon" aria-hidden="true"><template shadowrootmode="open"><!----><slot></slot></template>add</md-icon>
          <!--?lit$109918125$-->Text
        </md-outlined-button>
        <!--?lit$109918125$-->
      </div><hr>
    </div></div><div class="cell code icon-scrolling code-has-output" id="cell-sQhykrlGZoId" role="region" aria-label="Cell 60: Code cell: " style="" tabindex="-1"><div class="cell-tag-editor sticky"></div><div class="cell-toolbar sticky"></div><div class="main-content" elevation="0"><div class="cell-contents"><div class="cell-mask"></div><span class="imported-info-area"></span><div class="codecell-input-output">
      <div class="inputarea horizontal layout code">
        <div class="cell-gutter">
          <!-- Bounding range for vertical scrolling of icons -->
          <div class="cell-execution-container">
            <colab-run-button title="Run cell (Ctrl+Enter)
cell has not been executed in this session

executed by Venkatesh Moturi
12:12 (0 minutes ago)
executed in 7.718 s" role="button" aria-label="Run cell"><template shadowrootmode="open"><!----> <div class="cell-execution stale">
      <div class="execution-count"><!--?lit$109918125$-->[ ]</div>
      <div class="cell-execution-indicator"> <!--?lit$109918125$-->
<svg xmlns="http://www.w3.org/2000/svg" viewBox="0 0 24 24">
  <!--?lit$109918125$-->
  <mask id="playSymbolMask">
    <rect width="100%" height="100%" fill="white"></rect>
    <polygon points="10,8 17,12 10,16" fill="black"></polygon>
  </mask>
  <circle cx="12" cy="12" r="7.8" mask="url(#playSymbolMask)" id="filledCircle"></circle>
</svg> </div>
      <!--?lit$109918125$--><!--?-->
    </div></template></colab-run-button>
          </div>
        </div>
      <div class="editor flex lazy-editor" style=""><pre class="lazy-virtualized" style="font-size: 14px; line-height: 19px;"><pre class="lazy-gutter"></pre><pre class="monaco-colorized colab-dark colab-dark colab-dark colab-dark colab-dark colab-dark colab-dark colab-dark colab-dark" data-lang="notebook-python"><span><span class="mtk17">!</span><span class="mtk1">pip&nbsp;install&nbsp;ollama</span></span><br></pre><colab-read-only-cell-placeholder style="display: none;"><template shadowrootmode="open"><!----><div><!--?lit$109918125$-->Start coding or <span role="button" class="link" tabindex="0">generate</span> with AI.</div></template></colab-read-only-cell-placeholder></pre></div><colab-form class="formview vertical layout flex"><div class="widget-area vertical layout"></div></colab-form></div>
    <div class="output" aria-label="Cell 60 output" role="region"><!----> <div class="output-header"> </div>
        <div class="output-content">
          <div class="output-info"><colab-output-info title="Clear output

executed by Venkatesh Moturi
12:12 (0 minutes ago)
executed in 7.718 s"><template shadowrootmode="open"><!----><md-icon-button title="Code cell output actions" data-aria-label="Code cell output actions" value=""><template shadowrootmode="open" shadowrootdelegatesfocus><!----><button id="button" class="icon-button  standard " aria-label="Code cell output actions">
        <!--?lit$109918125$--><md-focus-ring part="focus-ring" for="button" aria-hidden="true"><template shadowrootmode="open"><!----></template></md-focus-ring>
        <!--?lit$109918125$--><md-ripple aria-hidden="true"><template shadowrootmode="open"><!----><div class="surface   "></div></template></md-ripple>
        <!--?lit$109918125$--><span class="icon"><slot></slot></span>
        <!--?lit$109918125$-->
        <!--?lit$109918125$--><span class="touch"></span>
        <!--?lit$109918125$-->
  </button></template>
        <md-icon aria-hidden="true"><template shadowrootmode="open"><!----><slot></slot></template><!--?lit$109918125$--><svg viewBox="0 0 24 24"><!--?lit$109918125$--><path d="m15.9 3.07c-4.32 0.0742-8.64-0.0355-13 0.0568-1.37 0.307-1.74 2.1-1.41 3.26 0.469 0.606 1.86 0.384 1.66-0.525 0.0448-0.329-0.183-0.93 0.354-0.766h13.3v1.53h1.71c0.0709-1.13 0.141-2.62-0.968-3.3-0.511-0.264-1.11-0.252-1.67-0.259zm2.94 6.84v4.87c1.62-1.62 3.24-3.24 4.87-4.87h-4.87zm0 0h-1.71v3.43l1.57 1.57c0.32-1.65 0.0556-3.34 0.135-5zm-1.71 3.43v-3.43h-3.43c1.14 1.14 2.29 2.29 3.43 3.43zm1.4 4.27h-1.71v1.48h-13.6v-1.48h-1.71c-0.0473 1.15-0.16 2.72 1.09 3.29 1.47 0.506 3.02 0.0265 4.53 0.192 3.34-0.0051 6.68 0.0336 10-0.0245 1.49-0.366 1.56-2.22 1.42-3.45zm-10.1-1.12c-0.398-0.483-0.796-0.967-1.19-1.45 0.59-0.683 1.18-1.37 1.77-2.05h-8.67v-2h8.67c-0.59-0.683-1.18-1.37-1.77-2.05 0.398-0.483 0.796-0.967 1.19-1.45 1.28 1.5 2.56 3 3.84 4.5-1.28 1.5-2.56 3-3.84 4.5z"></path></svg></md-icon>
      </md-icon-button></template></colab-output-info></div>
          <div class="output-iframe-container">
            <div class="output-iframe-sizer" style="min-height: 0px;"> <div><div><colab-static-output-renderer tabindex="0" role="group"><div><div class="stream output-id-1 output_text"><pre>Requirement already satisfied: ollama in /usr/local/lib/python3.10/dist-packages (0.3.0)
Requirement already satisfied: httpx&lt;0.28.0,&gt;=0.27.0 in /usr/local/lib/python3.10/dist-packages (from ollama) (0.27.0)
Requirement already satisfied: anyio in /usr/local/lib/python3.10/dist-packages (from httpx&lt;0.28.0,&gt;=0.27.0-&gt;ollama) (3.7.1)
Requirement already satisfied: certifi in /usr/local/lib/python3.10/dist-packages (from httpx&lt;0.28.0,&gt;=0.27.0-&gt;ollama) (2024.7.4)
Requirement already satisfied: httpcore==1.* in /usr/local/lib/python3.10/dist-packages (from httpx&lt;0.28.0,&gt;=0.27.0-&gt;ollama) (1.0.5)
Requirement already satisfied: idna in /usr/local/lib/python3.10/dist-packages (from httpx&lt;0.28.0,&gt;=0.27.0-&gt;ollama) (3.7)
Requirement already satisfied: sniffio in /usr/local/lib/python3.10/dist-packages (from httpx&lt;0.28.0,&gt;=0.27.0-&gt;ollama) (1.3.1)
Requirement already satisfied: h11&lt;0.15,&gt;=0.13 in /usr/local/lib/python3.10/dist-packages (from httpcore==1.*-&gt;httpx&lt;0.28.0,&gt;=0.27.0-&gt;ollama) (0.14.0)
Requirement already satisfied: exceptiongroup in /usr/local/lib/python3.10/dist-packages (from anyio-&gt;httpx&lt;0.28.0,&gt;=0.27.0-&gt;ollama) (1.2.2)
</pre></div></div><div></div></colab-static-output-renderer></div></div></div>
          </div>
        </div></div></div><colab-cell-next-steps><template shadowrootmode="open"><!----></template></colab-cell-next-steps></div></div><div class="add-cell">
      <div class="add-cell-buttons">
        <md-outlined-button class="add-code add-button" data-aria-label="Add code cell
Ctrl+M B" title="Add code cell
Ctrl+M B" value="" has-icon=""><template shadowrootmode="open" shadowrootdelegatesfocus><!---->
      <!--?lit$109918125$--><div class="outline"></div>
      <div class="background"></div>
      <md-focus-ring part="focus-ring" for="button" aria-hidden="true"><template shadowrootmode="open"><!----></template></md-focus-ring>
      <md-ripple part="ripple" for="button" aria-hidden="true"><template shadowrootmode="open"><!----><div class="surface"></div></template></md-ripple>
      <!--?lit$109918125$--><button id="button" class="button" aria-label="Add code cell
Ctrl+M B">
      <!--?lit$109918125$-->
      <span class="touch"></span>
      <!--?lit$109918125$--><slot name="icon"></slot>
      <span class="label"><slot></slot></span>
      <!--?lit$109918125$-->
    
    </button>
    </template>
          <md-icon slot="icon" aria-hidden="true"><template shadowrootmode="open"><!----><slot></slot></template>add</md-icon>
          <!--?lit$109918125$-->Code
        </md-outlined-button>
        <md-outlined-button class="add-text add-button" data-aria-label="Add text cell" title="Add text cell" value="" has-icon=""><template shadowrootmode="open" shadowrootdelegatesfocus><!---->
      <!--?lit$109918125$--><div class="outline"></div>
      <div class="background"></div>
      <md-focus-ring part="focus-ring" for="button" aria-hidden="true"><template shadowrootmode="open"><!----></template></md-focus-ring>
      <md-ripple part="ripple" for="button" aria-hidden="true"><template shadowrootmode="open"><!----><div class="surface   "></div></template></md-ripple>
      <!--?lit$109918125$--><button id="button" class="button" aria-label="Add text cell">
      <!--?lit$109918125$-->
      <span class="touch"></span>
      <!--?lit$109918125$--><slot name="icon"></slot>
      <span class="label"><slot></slot></span>
      <!--?lit$109918125$-->
    
    </button>
    </template>
          <md-icon slot="icon" aria-hidden="true"><template shadowrootmode="open"><!----><slot></slot></template>add</md-icon>
          <!--?lit$109918125$-->Text
        </md-outlined-button>
        <!--?lit$109918125$-->
      </div><hr>
    </div></div><div class="cell code icon-scrolling" id="cell-2M4T3gF0bQQV" role="region" aria-label="Cell 61: Code cell: " style="" tabindex="-1"><div class="cell-tag-editor sticky"></div><div class="cell-toolbar sticky"></div><div class="main-content" elevation="0"><div class="cell-contents"><div class="cell-mask"></div><span class="imported-info-area"></span><div class="codecell-input-output">
      <div class="inputarea horizontal layout code">
        <div class="cell-gutter">
          <!-- Bounding range for vertical scrolling of icons -->
          <div class="cell-execution-container">
            <colab-run-button title="Run cell (Ctrl+Enter)
cell has not been executed in this session

executed by Venkatesh Moturi
12:12 (0 minutes ago)
executed in 0.011 s" role="button" aria-label="Run cell"><template shadowrootmode="open"><!----> <div class="cell-execution stale">
      <div class="execution-count"><!--?lit$109918125$-->[ ]</div>
      <div class="cell-execution-indicator"> <!--?lit$109918125$-->
<svg xmlns="http://www.w3.org/2000/svg" viewBox="0 0 24 24">
  <!--?lit$109918125$-->
  <mask id="playSymbolMask">
    <rect width="100%" height="100%" fill="white"></rect>
    <polygon points="10,8 17,12 10,16" fill="black"></polygon>
  </mask>
  <circle cx="12" cy="12" r="7.8" mask="url(#playSymbolMask)" id="filledCircle"></circle>
</svg> </div>
      <!--?lit$109918125$--><!--?-->
    </div></template></colab-run-button>
          </div>
        </div>
      <div class="editor flex lazy-editor" style=""><pre class="lazy-virtualized" style="font-size: 14px; line-height: 19px;"><pre class="lazy-gutter"></pre><pre class="monaco-colorized colab-dark colab-dark colab-dark colab-dark colab-dark colab-dark colab-dark colab-dark colab-dark colab-dark" data-lang="notebook-python"><span><span class="mtk18">import</span><span class="mtk1">&nbsp;ollama</span></span><br></pre><colab-read-only-cell-placeholder style="display: none;"><template shadowrootmode="open"><!----><div><!--?lit$109918125$-->Start coding or <span role="button" class="link" tabindex="0">generate</span> with AI.</div></template></colab-read-only-cell-placeholder></pre></div><colab-form class="formview vertical layout flex"><div class="widget-area vertical layout"></div></colab-form></div>
    <div class="output" aria-label="Cell 61 output" role="region"><!----> <div class="output-header"> </div>
        <div class="output-content" hidden="">
          <div class="output-info"><colab-output-info title="Clear output

executed by Venkatesh Moturi
12:12 (0 minutes ago)
executed in 0.011 s"><template shadowrootmode="open"><!----><md-icon-button title="Code cell output actions" data-aria-label="Code cell output actions" value=""><template shadowrootmode="open" shadowrootdelegatesfocus><!----><button id="button" class="icon-button  standard " aria-label="Code cell output actions">
        <!--?lit$109918125$--><md-focus-ring part="focus-ring" for="button" aria-hidden="true"><template shadowrootmode="open"><!----></template></md-focus-ring>
        <!--?lit$109918125$--><md-ripple aria-hidden="true"><template shadowrootmode="open"><!----><div class="surface   "></div></template></md-ripple>
        <!--?lit$109918125$--><span class="icon"><slot></slot></span>
        <!--?lit$109918125$-->
        <!--?lit$109918125$--><span class="touch"></span>
        <!--?lit$109918125$-->
  </button></template>
        <md-icon aria-hidden="true"><template shadowrootmode="open"><!----><slot></slot></template><!--?lit$109918125$--><svg viewBox="0 0 24 24"><!--?lit$109918125$--><path d="m15.9 3.07c-4.32 0.0742-8.64-0.0355-13 0.0568-1.37 0.307-1.74 2.1-1.41 3.26 0.469 0.606 1.86 0.384 1.66-0.525 0.0448-0.329-0.183-0.93 0.354-0.766h13.3v1.53h1.71c0.0709-1.13 0.141-2.62-0.968-3.3-0.511-0.264-1.11-0.252-1.67-0.259zm2.94 6.84v4.87c1.62-1.62 3.24-3.24 4.87-4.87h-4.87zm0 0h-1.71v3.43l1.57 1.57c0.32-1.65 0.0556-3.34 0.135-5zm-1.71 3.43v-3.43h-3.43c1.14 1.14 2.29 2.29 3.43 3.43zm1.4 4.27h-1.71v1.48h-13.6v-1.48h-1.71c-0.0473 1.15-0.16 2.72 1.09 3.29 1.47 0.506 3.02 0.0265 4.53 0.192 3.34-0.0051 6.68 0.0336 10-0.0245 1.49-0.366 1.56-2.22 1.42-3.45zm-10.1-1.12c-0.398-0.483-0.796-0.967-1.19-1.45 0.59-0.683 1.18-1.37 1.77-2.05h-8.67v-2h8.67c-0.59-0.683-1.18-1.37-1.77-2.05 0.398-0.483 0.796-0.967 1.19-1.45 1.28 1.5 2.56 3 3.84 4.5-1.28 1.5-2.56 3-3.84 4.5z"></path></svg></md-icon>
      </md-icon-button></template></colab-output-info></div>
          <div class="output-iframe-container" hidden="">
            <div class="output-iframe-sizer" style="min-height: 0px;"> <div><div><colab-static-output-renderer tabindex="0" role="group"><div></div><div></div></colab-static-output-renderer></div></div></div>
          </div>
        </div></div></div><colab-cell-next-steps><template shadowrootmode="open"><!----></template></colab-cell-next-steps></div></div><div class="add-cell">
      <div class="add-cell-buttons">
        <md-outlined-button class="add-code add-button" data-aria-label="Add code cell
Ctrl+M B" title="Add code cell
Ctrl+M B" value="" has-icon=""><template shadowrootmode="open" shadowrootdelegatesfocus><!---->
      <!--?lit$109918125$--><div class="outline"></div>
      <div class="background"></div>
      <md-focus-ring part="focus-ring" for="button" aria-hidden="true"><template shadowrootmode="open"><!----></template></md-focus-ring>
      <md-ripple part="ripple" for="button" aria-hidden="true"><template shadowrootmode="open"><!----><div class="surface   "></div></template></md-ripple>
      <!--?lit$109918125$--><button id="button" class="button" aria-label="Add code cell
Ctrl+M B">
      <!--?lit$109918125$-->
      <span class="touch"></span>
      <!--?lit$109918125$--><slot name="icon"></slot>
      <span class="label"><slot></slot></span>
      <!--?lit$109918125$-->
    
    </button>
    </template>
          <md-icon slot="icon" aria-hidden="true"><template shadowrootmode="open"><!----><slot></slot></template>add</md-icon>
          <!--?lit$109918125$-->Code
        </md-outlined-button>
        <md-outlined-button class="add-text add-button" data-aria-label="Add text cell" title="Add text cell" value="" has-icon=""><template shadowrootmode="open" shadowrootdelegatesfocus><!---->
      <!--?lit$109918125$--><div class="outline"></div>
      <div class="background"></div>
      <md-focus-ring part="focus-ring" for="button" aria-hidden="true"><template shadowrootmode="open"><!----></template></md-focus-ring>
      <md-ripple part="ripple" for="button" aria-hidden="true"><template shadowrootmode="open"><!----><div class="surface   "></div></template></md-ripple>
      <!--?lit$109918125$--><button id="button" class="button" aria-label="Add text cell">
      <!--?lit$109918125$-->
      <span class="touch"></span>
      <!--?lit$109918125$--><slot name="icon"></slot>
      <span class="label"><slot></slot></span>
      <!--?lit$109918125$-->
    
    </button>
    </template>
          <md-icon slot="icon" aria-hidden="true"><template shadowrootmode="open"><!----><slot></slot></template>add</md-icon>
          <!--?lit$109918125$-->Text
        </md-outlined-button>
        <!--?lit$109918125$-->
      </div><hr>
    </div></div><div class="cell text" id="cell-Nd2AzTLnvIuZ" role="region" aria-label="Cell 62: Text cell: " style="" tabindex="-1"><div class="cell-tag-editor sticky"></div><div class="cell-toolbar sticky"></div><div class="main-content" elevation="0"><div class="cell-contents"><div class="cell-mask"></div><span class="imported-info-area"></span><!----> <div class="toolbar-root"></div>
      <div class="editor-container horizontal">
        <div class="editor-root"></div>
        <div class="text-top-div">
          <div class="markdown"><span><ol start="5">
<li><p>Write a function that can retrieve content from lancedb relevant to the user query</p>
<p>With LanceDB, you don't have to explicity embed the question. LanceDB stores information on the embedding model used and automatically embeds the question.</p>
<p>We use the <code>db_table.search()</code> function to query the DB and then limit it to the top 2 most similar results and return that as the context to pass to the RAG.</p>
<p>Limiting results is important because otherwise there might be too much confusing information. Similarly only picking the top choice might not give enough information.</p>
</li>
</ol>
</span></div>
        </div>
      </div>

      <div class="section-header" style="display: none;">
        <colab-run-button role="button" aria-label="Run cell"><template shadowrootmode="open"><!----> <div class="cell-execution">
      <div class="execution-count"><!--?lit$109918125$-->[ ]</div>
      <div class="cell-execution-indicator"> <!--?lit$109918125$-->
<svg xmlns="http://www.w3.org/2000/svg" viewBox="0 0 24 24">
  <!--?lit$109918125$-->
  <mask id="playSymbolMask">
    <rect width="100%" height="100%" fill="white"></rect>
    <polygon points="10,8 17,12 10,16" fill="black"></polygon>
  </mask>
  <circle cx="12" cy="12" r="7.8" mask="url(#playSymbolMask)" id="filledCircle"></circle>
</svg> </div>
      <!--?lit$109918125$--><!--?-->
    </div></template></colab-run-button>
        <div class="section-header-container" title="click to expand">↳ 0 cells hidden</div>
      </div></div></div><div class="add-cell">
      <div class="add-cell-buttons">
        <md-outlined-button class="add-code add-button" data-aria-label="Add code cell
Ctrl+M B" title="Add code cell
Ctrl+M B" value="" has-icon=""><template shadowrootmode="open" shadowrootdelegatesfocus><!---->
      <!--?lit$109918125$--><div class="outline"></div>
      <div class="background"></div>
      <md-focus-ring part="focus-ring" for="button" aria-hidden="true"><template shadowrootmode="open"><!----></template></md-focus-ring>
      <md-ripple part="ripple" for="button" aria-hidden="true"><template shadowrootmode="open"><!----><div class="surface   "></div></template></md-ripple>
      <!--?lit$109918125$--><button id="button" class="button" aria-label="Add code cell
Ctrl+M B">
      <!--?lit$109918125$-->
      <span class="touch"></span>
      <!--?lit$109918125$--><slot name="icon"></slot>
      <span class="label"><slot></slot></span>
      <!--?lit$109918125$-->
    
    </button>
    </template>
          <md-icon slot="icon" aria-hidden="true"><template shadowrootmode="open"><!----><slot></slot></template>add</md-icon>
          <!--?lit$109918125$-->Code
        </md-outlined-button>
        <md-outlined-button class="add-text add-button" data-aria-label="Add text cell" title="Add text cell" value="" has-icon=""><template shadowrootmode="open" shadowrootdelegatesfocus><!---->
      <!--?lit$109918125$--><div class="outline"></div>
      <div class="background"></div>
      <md-focus-ring part="focus-ring" for="button" aria-hidden="true"><template shadowrootmode="open"><!----></template></md-focus-ring>
      <md-ripple part="ripple" for="button" aria-hidden="true"><template shadowrootmode="open"><!----><div class="surface   "></div></template></md-ripple>
      <!--?lit$109918125$--><button id="button" class="button" aria-label="Add text cell">
      <!--?lit$109918125$-->
      <span class="touch"></span>
      <!--?lit$109918125$--><slot name="icon"></slot>
      <span class="label"><slot></slot></span>
      <!--?lit$109918125$-->
    
    </button>
    </template>
          <md-icon slot="icon" aria-hidden="true"><template shadowrootmode="open"><!----><slot></slot></template>add</md-icon>
          <!--?lit$109918125$-->Text
        </md-outlined-button>
        <!--?lit$109918125$-->
      </div><hr>
    </div></div><div class="cell code icon-scrolling" id="cell-c1rSQm33qx2r" role="region" aria-label="Cell 63: Code cell: " style="" tabindex="-1"><div class="cell-tag-editor sticky"></div><div class="cell-toolbar sticky"></div><div class="main-content" elevation="0"><div class="cell-contents"><div class="cell-mask"></div><span class="imported-info-area"></span><div class="codecell-input-output">
      <div class="inputarea horizontal layout code">
        <div class="cell-gutter">
          <!-- Bounding range for vertical scrolling of icons -->
          <div class="cell-execution-container">
            <colab-run-button title="Run cell (Ctrl+Enter)
cell has not been executed in this session

executed by Venkatesh Moturi
12:12 (0 minutes ago)
executed in 0.01 s" role="button" aria-label="Run cell"><template shadowrootmode="open"><!----> <div class="cell-execution stale">
      <div class="execution-count"><!--?lit$109918125$-->[ ]</div>
      <div class="cell-execution-indicator"> <!--?lit$109918125$-->
<svg xmlns="http://www.w3.org/2000/svg" viewBox="0 0 24 24">
  <!--?lit$109918125$-->
  <mask id="playSymbolMask">
    <rect width="100%" height="100%" fill="white"></rect>
    <polygon points="10,8 17,12 10,16" fill="black"></polygon>
  </mask>
  <circle cx="12" cy="12" r="7.8" mask="url(#playSymbolMask)" id="filledCircle"></circle>
</svg> </div>
      <!--?lit$109918125$--><!--?-->
    </div></template></colab-run-button>
          </div>
        </div>
      <div class="editor flex lazy-editor" style=""><pre class="lazy-virtualized" style="font-size: 14px; line-height: 19px;"><pre class="lazy-gutter"></pre><pre class="monaco-colorized colab-dark colab-dark colab-dark colab-dark colab-dark colab-dark colab-dark colab-dark" data-lang="notebook-python"><span><span class="mtk9">def</span><span class="mtk1">&nbsp;</span><span class="mtk15">retrieve_context_from_lancedb</span><span class="mtk1">(</span><span class="mtk4">dbtable</span><span class="mtk1">,&nbsp;</span><span class="mtk4">question</span><span class="mtk1">,&nbsp;</span><span class="mtk4">top_k</span><span class="mtk1">=</span><span class="mtk6">2</span><span class="mtk1">)</span><span class="mtk12">:</span></span><br><span><span></span></span><br><span><span class="mtk1">&nbsp;&nbsp;&nbsp;&nbsp;query_results&nbsp;=&nbsp;dbtable.search</span><span class="mtk12">(</span><span class="mtk1">query=question</span><span class="mtk12">)</span><span class="mtk1">.to_list</span><span class="mtk12">()</span></span><br><span><span class="mtk1">&nbsp;&nbsp;&nbsp;&nbsp;context&nbsp;=&nbsp;</span><span class="mtk5">"\n"</span><span class="mtk1">.join</span><span class="mtk12">([</span><span class="mtk1">result</span><span class="mtk12">[</span><span class="mtk5">"content"</span><span class="mtk12">]</span><span class="mtk1">&nbsp;</span><span class="mtk18">for</span><span class="mtk1">&nbsp;result&nbsp;</span><span class="mtk17">in</span><span class="mtk1">&nbsp;query_results</span><span class="mtk12">[:</span><span class="mtk1">top_k</span><span class="mtk12">]])</span></span><br><span><span></span></span><br><span><span class="mtk1">&nbsp;&nbsp;&nbsp;&nbsp;</span><span class="mtk18">return</span><span class="mtk1">&nbsp;context</span></span><br></pre><colab-read-only-cell-placeholder style="display: none;"><template shadowrootmode="open"><!----><div><!--?lit$109918125$-->Start coding or <span role="button" class="link" tabindex="0">generate</span> with AI.</div></template></colab-read-only-cell-placeholder></pre></div><colab-form class="formview vertical layout flex"><div class="widget-area vertical layout"></div></colab-form></div>
    <div class="output" aria-label="Cell 63 output" role="region"><!----> <div class="output-header"> </div>
        <div class="output-content" hidden="">
          <div class="output-info"><colab-output-info title="Clear output

executed by Venkatesh Moturi
12:12 (0 minutes ago)
executed in 0.01 s"><template shadowrootmode="open"><!----><md-icon-button title="Code cell output actions" data-aria-label="Code cell output actions" value=""><template shadowrootmode="open" shadowrootdelegatesfocus><!----><button id="button" class="icon-button  standard " aria-label="Code cell output actions">
        <!--?lit$109918125$--><md-focus-ring part="focus-ring" for="button" aria-hidden="true"><template shadowrootmode="open"><!----></template></md-focus-ring>
        <!--?lit$109918125$--><md-ripple aria-hidden="true"><template shadowrootmode="open"><!----><div class="surface   "></div></template></md-ripple>
        <!--?lit$109918125$--><span class="icon"><slot></slot></span>
        <!--?lit$109918125$-->
        <!--?lit$109918125$--><span class="touch"></span>
        <!--?lit$109918125$-->
  </button></template>
        <md-icon aria-hidden="true"><template shadowrootmode="open"><!----><slot></slot></template><!--?lit$109918125$--><svg viewBox="0 0 24 24"><!--?lit$109918125$--><path d="m15.9 3.07c-4.32 0.0742-8.64-0.0355-13 0.0568-1.37 0.307-1.74 2.1-1.41 3.26 0.469 0.606 1.86 0.384 1.66-0.525 0.0448-0.329-0.183-0.93 0.354-0.766h13.3v1.53h1.71c0.0709-1.13 0.141-2.62-0.968-3.3-0.511-0.264-1.11-0.252-1.67-0.259zm2.94 6.84v4.87c1.62-1.62 3.24-3.24 4.87-4.87h-4.87zm0 0h-1.71v3.43l1.57 1.57c0.32-1.65 0.0556-3.34 0.135-5zm-1.71 3.43v-3.43h-3.43c1.14 1.14 2.29 2.29 3.43 3.43zm1.4 4.27h-1.71v1.48h-13.6v-1.48h-1.71c-0.0473 1.15-0.16 2.72 1.09 3.29 1.47 0.506 3.02 0.0265 4.53 0.192 3.34-0.0051 6.68 0.0336 10-0.0245 1.49-0.366 1.56-2.22 1.42-3.45zm-10.1-1.12c-0.398-0.483-0.796-0.967-1.19-1.45 0.59-0.683 1.18-1.37 1.77-2.05h-8.67v-2h8.67c-0.59-0.683-1.18-1.37-1.77-2.05 0.398-0.483 0.796-0.967 1.19-1.45 1.28 1.5 2.56 3 3.84 4.5-1.28 1.5-2.56 3-3.84 4.5z"></path></svg></md-icon>
      </md-icon-button></template></colab-output-info></div>
          <div class="output-iframe-container" hidden="">
            <div class="output-iframe-sizer" style="min-height: 0px;"> <div><div><colab-static-output-renderer tabindex="0" role="group"><div></div><div></div></colab-static-output-renderer></div></div></div>
          </div>
        </div></div></div><colab-cell-next-steps><template shadowrootmode="open"><!----></template></colab-cell-next-steps></div></div><div class="add-cell">
      <div class="add-cell-buttons">
        <md-outlined-button class="add-code add-button" data-aria-label="Add code cell
Ctrl+M B" title="Add code cell
Ctrl+M B" value="" has-icon=""><template shadowrootmode="open" shadowrootdelegatesfocus><!---->
      <!--?lit$109918125$--><div class="outline"></div>
      <div class="background"></div>
      <md-focus-ring part="focus-ring" for="button" aria-hidden="true"><template shadowrootmode="open"><!----></template></md-focus-ring>
      <md-ripple part="ripple" for="button" aria-hidden="true"><template shadowrootmode="open"><!----><div class="surface   "></div></template></md-ripple>
      <!--?lit$109918125$--><button id="button" class="button" aria-label="Add code cell
Ctrl+M B">
      <!--?lit$109918125$-->
      <span class="touch"></span>
      <!--?lit$109918125$--><slot name="icon"></slot>
      <span class="label"><slot></slot></span>
      <!--?lit$109918125$-->
    
    </button>
    </template>
          <md-icon slot="icon" aria-hidden="true"><template shadowrootmode="open"><!----><slot></slot></template>add</md-icon>
          <!--?lit$109918125$-->Code
        </md-outlined-button>
        <md-outlined-button class="add-text add-button" data-aria-label="Add text cell" title="Add text cell" value="" has-icon=""><template shadowrootmode="open" shadowrootdelegatesfocus><!---->
      <!--?lit$109918125$--><div class="outline"></div>
      <div class="background"></div>
      <md-focus-ring part="focus-ring" for="button" aria-hidden="true"><template shadowrootmode="open"><!----></template></md-focus-ring>
      <md-ripple part="ripple" for="button" aria-hidden="true"><template shadowrootmode="open"><!----><div class="surface   "></div></template></md-ripple>
      <!--?lit$109918125$--><button id="button" class="button" aria-label="Add text cell">
      <!--?lit$109918125$-->
      <span class="touch"></span>
      <!--?lit$109918125$--><slot name="icon"></slot>
      <span class="label"><slot></slot></span>
      <!--?lit$109918125$-->
    
    </button>
    </template>
          <md-icon slot="icon" aria-hidden="true"><template shadowrootmode="open"><!----><slot></slot></template>add</md-icon>
          <!--?lit$109918125$-->Text
        </md-outlined-button>
        <!--?lit$109918125$-->
      </div><hr>
    </div></div><div class="cell text" id="cell-MLiwo22GsVSa" role="region" aria-label="Cell 64: Text cell: " style="" tabindex="-1"><div class="cell-tag-editor sticky"></div><div class="cell-toolbar sticky"></div><div class="main-content" elevation="0"><div class="cell-contents"><div class="cell-mask"></div><span class="imported-info-area"></span><!----> <div class="toolbar-root"></div>
      <div class="editor-container horizontal">
        <div class="editor-root"></div>
        <div class="text-top-div">
          <div class="markdown"><span><ol start="6">
<li>Finally we define a very basic RAG. We define a simple system prompt, retrieve the relevant context for the user query with the function defined above and then send the user question and the context to the <code>llama2-uncensored</code> model.</li>
</ol>
</span></div>
        </div>
      </div>

      <div class="section-header" style="display: none;">
        <colab-run-button role="button" aria-label="Run cell"><template shadowrootmode="open"><!----> <div class="cell-execution">
      <div class="execution-count"><!--?lit$109918125$-->[ ]</div>
      <div class="cell-execution-indicator"> <!--?lit$109918125$-->
<svg xmlns="http://www.w3.org/2000/svg" viewBox="0 0 24 24">
  <!--?lit$109918125$-->
  <mask id="playSymbolMask">
    <rect width="100%" height="100%" fill="white"></rect>
    <polygon points="10,8 17,12 10,16" fill="black"></polygon>
  </mask>
  <circle cx="12" cy="12" r="7.8" mask="url(#playSymbolMask)" id="filledCircle"></circle>
</svg> </div>
      <!--?lit$109918125$--><!--?-->
    </div></template></colab-run-button>
        <div class="section-header-container" title="click to expand">↳ 0 cells hidden</div>
      </div></div></div><div class="add-cell">
      <hr>
    </div></div><div class="cell code icon-scrolling" id="cell-2OvqfvFU_h3F" role="region" aria-label="Cell 65: Code cell: " style="" tabindex="-1"><div class="cell-tag-editor sticky"></div><div class="cell-toolbar sticky"></div><div class="main-content" elevation="0"><div class="cell-contents"><div class="cell-mask"></div><span class="imported-info-area"></span><div class="codecell-input-output">
      <div class="inputarea horizontal layout code">
        <div class="cell-gutter">
          <!-- Bounding range for vertical scrolling of icons -->
          <div class="cell-execution-container">
            <colab-run-button title="Run cell (Ctrl+Enter)
cell has not been executed in this session

executed by Venkatesh Moturi
12:12 (0 minutes ago)
executed in 0.006 s" role="button" aria-label="Run cell"><template shadowrootmode="open"><!----> <div class="cell-execution stale">
      <div class="execution-count"><!--?lit$109918125$-->[ ]</div>
      <div class="cell-execution-indicator"> <!--?lit$109918125$-->
<svg xmlns="http://www.w3.org/2000/svg" viewBox="0 0 24 24">
  <!--?lit$109918125$-->
  <mask id="playSymbolMask">
    <rect width="100%" height="100%" fill="white"></rect>
    <polygon points="10,8 17,12 10,16" fill="black"></polygon>
  </mask>
  <circle cx="12" cy="12" r="7.8" mask="url(#playSymbolMask)" id="filledCircle"></circle>
</svg> </div>
      <!--?lit$109918125$--><!--?-->
    </div></template></colab-run-button>
          </div>
        </div>
      <div class="editor flex lazy-editor" style=""><div class="editor flex monaco" data-keybinding-context="115" data-mode-id="notebook-python" style="height: 656px; --vscode-editorCodeLens-lineHeight: 16px; --vscode-editorCodeLens-fontSize: 12px; --vscode-editorCodeLens-fontFeatureSettings: &quot;liga&quot; off, &quot;calt&quot; off;"><div class="monaco-editor no-user-select  showUnused showDeprecated vs-dark" role="code" data-uri="inmemory://model/68" style="width: 794px; height: 656px;"><div data-mprt="3" class="overflow-guard" style="width: 794px; height: 656px; overflow: clip;"><div class="margin" role="presentation" aria-hidden="true" style="position: absolute; contain: strict; will-change: unset; top: 0px; height: 656px; width: 6px;"><div class="glyph-margin" style="left: 0px; width: 0px; height: 656px;"></div><div class="margin-view-zones" role="presentation" aria-hidden="true" style="position: absolute;"></div><div class="margin-view-overlays" role="presentation" aria-hidden="true" style="position: absolute; font-family: monospace, Consolas, &quot;Courier New&quot;, monospace; font-weight: normal; font-size: 14px; font-feature-settings: &quot;liga&quot; 0, &quot;calt&quot; 0; font-variation-settings: normal; line-height: 19px; letter-spacing: 0px; width: 6px; height: 656px;"><div style="position:absolute;top:0px;width:100%;height:19px;"><div class="current-line current-line-margin-both" style="width:6px; height:19px;"></div></div><div style="position:absolute;top:19px;width:100%;height:19px;"></div><div style="position:absolute;top:38px;width:100%;height:19px;"></div><div style="position:absolute;top:57px;width:100%;height:19px;"></div><div style="position:absolute;top:76px;width:100%;height:19px;"></div><div style="position:absolute;top:95px;width:100%;height:19px;"></div><div style="position:absolute;top:114px;width:100%;height:19px;"></div><div style="position:absolute;top:133px;width:100%;height:19px;"></div><div style="position:absolute;top:152px;width:100%;height:19px;"></div><div style="position:absolute;top:171px;width:100%;height:19px;"></div><div style="position:absolute;top:190px;width:100%;height:19px;"></div><div style="position:absolute;top:209px;width:100%;height:19px;"></div><div style="position:absolute;top:228px;width:100%;height:19px;"></div><div style="position:absolute;top:247px;width:100%;height:19px;"></div><div style="position:absolute;top:266px;width:100%;height:19px;"></div><div style="position:absolute;top:285px;width:100%;height:19px;"></div><div style="position:absolute;top:304px;width:100%;height:19px;"></div><div style="position:absolute;top:323px;width:100%;height:19px;"></div><div style="position:absolute;top:342px;width:100%;height:19px;"></div><div style="position:absolute;top:361px;width:100%;height:19px;"></div><div style="position:absolute;top:380px;width:100%;height:19px;"></div><div style="position:absolute;top:399px;width:100%;height:19px;"></div><div style="position:absolute;top:418px;width:100%;height:19px;"></div><div style="position:absolute;top:437px;width:100%;height:19px;"></div><div style="position:absolute;top:456px;width:100%;height:19px;"></div><div style="position:absolute;top:475px;width:100%;height:19px;"></div><div style="position:absolute;top:494px;width:100%;height:19px;"></div><div style="position:absolute;top:513px;width:100%;height:19px;"></div><div style="position:absolute;top:532px;width:100%;height:19px;"></div><div style="position:absolute;top:551px;width:100%;height:19px;"></div><div style="position:absolute;top:570px;width:100%;height:19px;"></div><div style="position:absolute;top:589px;width:100%;height:19px;"></div><div style="position:absolute;top:608px;width:100%;height:19px;"></div><div style="position:absolute;top:627px;width:100%;height:19px;"></div></div><div class="glyph-margin-widgets" style="position: absolute; top: 0px;"></div></div><div class="monaco-scrollable-element editor-scrollable vs-dark" role="presentation" data-mprt="5" style="position: absolute; overflow: hidden; left: 6px; width: 788px; height: 656px;"><div class="lines-content monaco-editor-background" style="position: absolute; overflow: hidden; width: 1e+06px; height: 656px; contain: strict; will-change: unset; top: 0px; left: 0px;"><div class="view-overlays" role="presentation" aria-hidden="true" style="position: absolute; font-family: monospace, Consolas, &quot;Courier New&quot;, monospace; font-weight: normal; font-size: 14px; font-feature-settings: &quot;liga&quot; 0, &quot;calt&quot; 0; font-variation-settings: normal; line-height: 19px; letter-spacing: 0px; height: 0px; width: 3554px;"><div style="position:absolute;top:0px;width:100%;height:19px;"><div class="current-line" style="width:3554px; height:19px;"></div></div><div style="position:absolute;top:19px;width:100%;height:19px;"></div><div style="position:absolute;top:38px;width:100%;height:19px;"></div><div style="position:absolute;top:57px;width:100%;height:19px;"></div><div style="position:absolute;top:76px;width:100%;height:19px;"></div><div style="position:absolute;top:95px;width:100%;height:19px;"></div><div style="position:absolute;top:114px;width:100%;height:19px;"></div><div style="position:absolute;top:133px;width:100%;height:19px;"></div><div style="position:absolute;top:152px;width:100%;height:19px;"></div><div style="position:absolute;top:171px;width:100%;height:19px;"></div><div style="position:absolute;top:190px;width:100%;height:19px;"></div><div style="position:absolute;top:209px;width:100%;height:19px;"></div><div style="position:absolute;top:228px;width:100%;height:19px;"></div><div style="position:absolute;top:247px;width:100%;height:19px;"></div><div style="position:absolute;top:266px;width:100%;height:19px;"></div><div style="position:absolute;top:285px;width:100%;height:19px;"></div><div style="position:absolute;top:304px;width:100%;height:19px;"></div><div style="position:absolute;top:323px;width:100%;height:19px;"></div><div style="position:absolute;top:342px;width:100%;height:19px;"></div><div style="position:absolute;top:361px;width:100%;height:19px;"></div><div style="position:absolute;top:380px;width:100%;height:19px;"></div><div style="position:absolute;top:399px;width:100%;height:19px;"></div><div style="position:absolute;top:418px;width:100%;height:19px;"></div><div style="position:absolute;top:437px;width:100%;height:19px;"></div><div style="position:absolute;top:456px;width:100%;height:19px;"></div><div style="position:absolute;top:475px;width:100%;height:19px;"></div><div style="position:absolute;top:494px;width:100%;height:19px;"></div><div style="position:absolute;top:513px;width:100%;height:19px;"></div><div style="position:absolute;top:532px;width:100%;height:19px;"></div><div style="position:absolute;top:551px;width:100%;height:19px;"></div><div style="position:absolute;top:570px;width:100%;height:19px;"></div><div style="position:absolute;top:589px;width:100%;height:19px;"></div><div style="position:absolute;top:608px;width:100%;height:19px;"></div><div style="position:absolute;top:627px;width:100%;height:19px;"></div></div><div role="presentation" aria-hidden="true" class="view-rulers"><div class="view-ruler" style="width: 2px; height: 656px; left: 615.938px;"></div></div><div class="view-zones" role="presentation" aria-hidden="true" style="position: absolute;"></div><div class="view-lines monaco-mouse-cursor-text" role="presentation" aria-hidden="true" data-mprt="7" style="position: absolute; font-family: monospace, Consolas, &quot;Courier New&quot;, monospace; font-weight: normal; font-size: 14px; font-feature-settings: &quot;liga&quot; 0, &quot;calt&quot; 0; font-variation-settings: normal; line-height: 19px; letter-spacing: 0px; width: 3554px; height: 656px;"><div style="top:0px;height:19px;" class="view-line"><span><span class="mtk9">def</span><span class="mtk1">&nbsp;</span><span class="mtk15">main</span><span class="mtk1 bracket-highlighting-0">(</span><span class="mtk1 bracket-highlighting-0">)</span><span class="mtk12">:</span></span></div><div style="top:19px;height:19px;" class="view-line"><span><span class="mtk1">&nbsp;&nbsp;</span><span class="mtk8">#&nbsp;Connect&nbsp;to&nbsp;the&nbsp;lancedb&nbsp;table</span></span></div><div style="top:38px;height:19px;" class="view-line"><span><span class="mtk1">&nbsp;&nbsp;db&nbsp;=&nbsp;lancedb.connect</span><span class="mtk12 bracket-highlighting-0">(</span><span class="mtk5">".lancedb"</span><span class="mtk12 bracket-highlighting-0">)</span></span></div><div style="top:57px;height:19px;" class="view-line"><span><span class="mtk1">&nbsp;&nbsp;dbtable&nbsp;=&nbsp;db.open_table</span><span class="mtk12 bracket-highlighting-0">(</span><span class="mtk5">"notion_pages___employee_handbook"</span><span class="mtk12 bracket-highlighting-0">)</span></span></div><div style="top:76px;height:19px;" class="view-line"><span><span></span></span></div><div style="top:95px;height:19px;" class="view-line"><span><span class="mtk1">&nbsp;&nbsp;</span><span class="mtk8">#&nbsp;A&nbsp;system&nbsp;prompt&nbsp;telling&nbsp;ollama&nbsp;to&nbsp;accept&nbsp;input&nbsp;i</span><span class="mtk8">n&nbsp;the&nbsp;form&nbsp;of&nbsp;"Question:&nbsp;...&nbsp;;&nbsp;Context:&nbsp;..."</span></span></div><div style="top:114px;height:19px;" class="view-line"><span><span class="mtk1">&nbsp;&nbsp;messages&nbsp;=&nbsp;</span><span class="mtk12 bracket-highlighting-0">[</span></span></div><div style="top:133px;height:19px;" class="view-line"><span><span class="mtk1">&nbsp;&nbsp;&nbsp;&nbsp;&nbsp;&nbsp;</span><span class="mtk12 bracket-highlighting-1">{</span><span class="mtk5">"role"</span><span class="mtk12">:</span><span class="mtk1">&nbsp;</span><span class="mtk5">"system"</span><span class="mtk12">,</span><span class="mtk1">&nbsp;</span><span class="mtk5">"content"</span><span class="mtk12">:</span><span class="mtk1">&nbsp;</span><span class="mtk5">"You&nbsp;are&nbsp;a&nbsp;helpful&nbsp;assistant&nbsp;that&nbsp;helps&nbsp;users&nbsp;unde</span><span class="mtk5">rstand&nbsp;policies&nbsp;inside&nbsp;a&nbsp;company's&nbsp;employee&nbsp;handbo</span><span class="mtk5">ok.&nbsp;The&nbsp;user&nbsp;will&nbsp;first&nbsp;ask&nbsp;you&nbsp;a&nbsp;question&nbsp;and&nbsp;the</span><span class="mtk5">n&nbsp;provide&nbsp;you&nbsp;relevant&nbsp;paragraphs&nbsp;from&nbsp;the&nbsp;handboo</span><span class="mtk5">k&nbsp;as&nbsp;context.&nbsp;Please&nbsp;answer&nbsp;the&nbsp;question&nbsp;based&nbsp;on&nbsp;</span><span class="mtk5">the&nbsp;provided&nbsp;context.&nbsp;For&nbsp;any&nbsp;details&nbsp;missing&nbsp;in&nbsp;t</span><span class="mtk5">he&nbsp;paragraph,&nbsp;encourage&nbsp;the&nbsp;employee&nbsp;to&nbsp;contact&nbsp;th</span><span class="mtk5">e&nbsp;HR&nbsp;for&nbsp;that&nbsp;information.&nbsp;Please&nbsp;keep&nbsp;the&nbsp;respons</span><span class="mtk5">es&nbsp;conversational."</span><span class="mtk12 bracket-highlighting-1">}</span></span></div><div style="top:152px;height:19px;" class="view-line"><span><span class="mtk1">&nbsp;&nbsp;</span><span class="mtk12 bracket-highlighting-0">]</span></span></div><div style="top:171px;height:19px;" class="view-line"><span><span></span></span></div><div style="top:190px;height:19px;" class="view-line"><span><span class="mtk1">&nbsp;&nbsp;</span><span class="mtk18">while</span><span class="mtk1">&nbsp;</span><span class="mtk9">True</span><span class="mtk12">:</span></span></div><div style="top:209px;height:19px;" class="view-line"><span><span class="mtk1">&nbsp;&nbsp;&nbsp;&nbsp;</span><span class="mtk8">#&nbsp;Accept&nbsp;user&nbsp;question</span></span></div><div style="top:228px;height:19px;" class="view-line"><span><span class="mtk1">&nbsp;&nbsp;&nbsp;&nbsp;question&nbsp;=&nbsp;</span><span class="mtk15">input</span><span class="mtk12 bracket-highlighting-0">(</span><span class="mtk5">"You:&nbsp;"</span><span class="mtk12 bracket-highlighting-0">)</span></span></div><div style="top:247px;height:19px;" class="view-line"><span><span></span></span></div><div style="top:266px;height:19px;" class="view-line"><span><span class="mtk1">&nbsp;&nbsp;&nbsp;&nbsp;</span><span class="mtk8">#&nbsp;Retrieve&nbsp;the&nbsp;relevant&nbsp;paragraphs&nbsp;on&nbsp;the&nbsp;question</span></span></div><div style="top:285px;height:19px;" class="view-line"><span><span class="mtk1">&nbsp;&nbsp;&nbsp;&nbsp;context&nbsp;=&nbsp;retrieve_context_from_lancedb</span><span class="mtk12 bracket-highlighting-0">(</span><span class="mtk1">dbtable</span><span class="mtk12">,</span><span class="mtk1">question</span><span class="mtk12">,</span><span class="mtk1">top_k=</span><span class="mtk6">2</span><span class="mtk12 bracket-highlighting-0">)</span></span></div><div style="top:304px;height:19px;" class="view-line"><span><span></span></span></div><div style="top:323px;height:19px;" class="view-line"><span><span class="mtk1">&nbsp;&nbsp;&nbsp;&nbsp;</span><span class="mtk8">#&nbsp;Create&nbsp;a&nbsp;user&nbsp;prompt&nbsp;using&nbsp;the&nbsp;question&nbsp;and&nbsp;retr</span><span class="mtk8">ieved&nbsp;context</span></span></div><div style="top:342px;height:19px;" class="view-line"><span><span class="mtk1">&nbsp;&nbsp;&nbsp;&nbsp;messages.append</span><span class="mtk12 bracket-highlighting-0">(</span></span></div><div style="top:361px;height:19px;" class="view-line"><span><span class="mtk1">&nbsp;&nbsp;&nbsp;&nbsp;&nbsp;&nbsp;&nbsp;&nbsp;</span><span class="mtk12 bracket-highlighting-1">{</span><span class="mtk5">"role"</span><span class="mtk12">:</span><span class="mtk1">&nbsp;</span><span class="mtk5">"user"</span><span class="mtk12">,</span><span class="mtk1">&nbsp;</span><span class="mtk5">"content"</span><span class="mtk12">:</span><span class="mtk1">&nbsp;</span><span class="mtk9">f</span><span class="mtk5">"Question:&nbsp;'</span><span class="mtk12 bracket-highlighting-2">{</span><span class="mtk1">question</span><span class="mtk12 bracket-highlighting-2">}</span><span class="mtk5">';&nbsp;Context:'</span><span class="mtk12 bracket-highlighting-2">{</span><span class="mtk1">context</span><span class="mtk12 bracket-highlighting-2">}</span><span class="mtk5">'"</span><span class="mtk12 bracket-highlighting-1">}</span></span></div><div style="top:380px;height:19px;" class="view-line"><span><span class="mtk1">&nbsp;&nbsp;&nbsp;&nbsp;</span><span class="mtk12 bracket-highlighting-0">)</span></span></div><div style="top:399px;height:19px;" class="view-line"><span><span></span></span></div><div style="top:418px;height:19px;" class="view-line"><span><span class="mtk1">&nbsp;&nbsp;&nbsp;&nbsp;</span><span class="mtk8">#&nbsp;Get&nbsp;the&nbsp;response&nbsp;from&nbsp;the&nbsp;LLM</span></span></div><div style="top:437px;height:19px;" class="view-line"><span><span class="mtk1">&nbsp;&nbsp;&nbsp;&nbsp;response&nbsp;=&nbsp;ollama.chat</span><span class="mtk12 bracket-highlighting-0">(</span></span></div><div style="top:456px;height:19px;" class="view-line"><span><span class="mtk1">&nbsp;&nbsp;&nbsp;&nbsp;&nbsp;&nbsp;&nbsp;&nbsp;model=</span><span class="mtk5">"llama2-uncensored"</span><span class="mtk12">,</span></span></div><div style="top:475px;height:19px;" class="view-line"><span><span class="mtk1">&nbsp;&nbsp;&nbsp;&nbsp;&nbsp;&nbsp;&nbsp;&nbsp;messages=messages</span></span></div><div style="top:494px;height:19px;" class="view-line"><span><span class="mtk1">&nbsp;&nbsp;&nbsp;&nbsp;</span><span class="mtk12 bracket-highlighting-0">)</span></span></div><div style="top:513px;height:19px;" class="view-line"><span><span class="mtk1">&nbsp;&nbsp;&nbsp;&nbsp;response_content&nbsp;=&nbsp;response</span><span class="mtk12 bracket-highlighting-0">[</span><span class="mtk5">'message'</span><span class="mtk12 bracket-highlighting-0">]</span><span class="mtk12 bracket-highlighting-0">[</span><span class="mtk5">'content'</span><span class="mtk12 bracket-highlighting-0">]</span></span></div><div style="top:532px;height:19px;" class="view-line"><span><span class="mtk1">&nbsp;&nbsp;&nbsp;&nbsp;</span><span class="mtk15">print</span><span class="mtk12 bracket-highlighting-0">(</span><span class="mtk9">f</span><span class="mtk5">"Assistant:&nbsp;</span><span class="mtk12 bracket-highlighting-1">{</span><span class="mtk1">response_content</span><span class="mtk12 bracket-highlighting-1">}</span><span class="mtk5">"</span><span class="mtk12 bracket-highlighting-0">)</span></span></div><div style="top:551px;height:19px;" class="view-line"><span><span></span></span></div><div style="top:570px;height:19px;" class="view-line"><span><span class="mtk1">&nbsp;&nbsp;&nbsp;&nbsp;</span><span class="mtk8">#&nbsp;Add&nbsp;the&nbsp;response&nbsp;into&nbsp;the&nbsp;context&nbsp;window</span></span></div><div style="top:589px;height:19px;" class="view-line"><span><span class="mtk1">&nbsp;&nbsp;&nbsp;&nbsp;messages.append</span><span class="mtk12 bracket-highlighting-0">(</span></span></div><div style="top:608px;height:19px;" class="view-line"><span><span class="mtk1">&nbsp;&nbsp;&nbsp;&nbsp;&nbsp;&nbsp;&nbsp;&nbsp;</span><span class="mtk12 bracket-highlighting-1">{</span><span class="mtk5">"role"</span><span class="mtk12">:</span><span class="mtk1">&nbsp;</span><span class="mtk5">"assistant"</span><span class="mtk12">,</span><span class="mtk1">&nbsp;</span><span class="mtk5">"content"</span><span class="mtk12">:</span><span class="mtk1">response_content</span><span class="mtk12 bracket-highlighting-1">}</span></span></div><div style="top:627px;height:19px;" class="view-line"><span><span class="mtk1">&nbsp;&nbsp;&nbsp;&nbsp;</span><span class="mtk12 bracket-highlighting-0">)</span></span></div></div><div data-mprt="1" class="contentWidgets" style="position: absolute; top: 0px;"></div><div role="presentation" aria-hidden="true" class="cursors-layer cursor-line-style cursor-solid"><div class="cursor monaco-mouse-cursor-text " style="height: 19px; top: 0px; left: 0px; font-family: monospace, Consolas, &quot;Courier New&quot;, monospace; font-weight: normal; font-size: 14px; font-feature-settings: &quot;liga&quot; 0, &quot;calt&quot; 0; font-variation-settings: normal; line-height: 19px; letter-spacing: 0px; display: block; visibility: hidden; padding-left: 0px; width: 2px;"></div></div></div><div role="presentation" aria-hidden="true" class="visible scrollbar horizontal" style="position: absolute; width: 774px; height: 10px; left: 0px; bottom: 0px;"><div class="slider" style="position: absolute; top: 0px; left: 0px; height: 10px; transform: translate3d(0px, 0px, 0px); contain: strict; will-change: unset; width: 171px;"></div></div><canvas class="decorationsOverviewRuler" aria-hidden="true" width="14" height="656" style="position: absolute; transform: translate3d(0px, 0px, 0px); contain: strict; top: 0px; right: 0px; width: 14px; height: 656px; will-change: unset; display: block;"></canvas><div role="presentation" aria-hidden="true" class="invisible scrollbar vertical" style="position: absolute; width: 14px; height: 656px; right: 0px; top: 0px;"><div class="slider" style="position: absolute; top: 0px; left: 0px; width: 14px; transform: translate3d(0px, 0px, 0px); contain: strict; will-change: unset; height: 656px;"></div></div></div><div role="presentation" aria-hidden="true" style="width: 794px;"></div><textarea data-mprt="6" class="inputarea monaco-mouse-cursor-text" wrap="on" autocorrect="off" autocapitalize="off" autocomplete="off" spellcheck="false" aria-label="Editor content;Press Alt+F1 for Accessibility Options." tabindex="0" role="textbox" aria-roledescription="editor" aria-multiline="true" aria-haspopup="false" aria-autocomplete="both" style="tab-size: 15.3984px; font-family: monospace, Consolas, &quot;Courier New&quot;, monospace; font-weight: normal; font-size: 14px; font-feature-settings: &quot;liga&quot; 0, &quot;calt&quot; 0; font-variation-settings: normal; line-height: 19px; letter-spacing: 0px; top: 0px; left: 6px; width: 76992px; height: 1px;"></textarea><div style="position: absolute; top: 0px; left: 0px; width: 0px; height: 0px;" class="monaco-editor-background textAreaCover"></div><div data-mprt="4" class="overlayWidgets" style="width: 794px;"><div widgetid="editor.contrib.quickInputWidget" style="position: absolute; top: 0px; right: 50%;"></div></div><div data-mprt="8" class="minimap slider-mouseover" role="presentation" aria-hidden="true" style="position: absolute; left: 0px; width: 0px; height: 656px;"><div class="minimap-shadow-hidden" style="height: 656px;"></div><canvas width="0" height="656" style="position: absolute; left: 0px; width: 0px; height: 656px;"></canvas><canvas class="minimap-decorations-layer" width="0" height="656" style="position: absolute; left: 0px; width: 0px; height: 656px;"></canvas><div class="minimap-slider" style="position: absolute; transform: translate3d(0px, 0px, 0px); contain: strict; width: 0px; will-change: unset;"><div class="minimap-slider-horizontal" style="position: absolute; width: 0px; height: 0px;"></div></div></div><div role="presentation" aria-hidden="true" class="blockDecorations-container"></div></div><div data-mprt="2" class="overflowingContentWidgets"></div><div class=".in-cell-overflowing"></div></div></div></div><colab-form class="formview vertical layout flex"><div class="widget-area vertical layout"></div></colab-form></div>
    <div class="output" aria-label="Cell 65 output" role="region"><!----> <div class="output-header"> </div>
        <div class="output-content" hidden="">
          <div class="output-info"><colab-output-info title="Clear output

executed by Venkatesh Moturi
12:12 (0 minutes ago)
executed in 0.006 s"><template shadowrootmode="open"><!----><md-icon-button title="Code cell output actions" data-aria-label="Code cell output actions" value=""><template shadowrootmode="open" shadowrootdelegatesfocus><!----><button id="button" class="icon-button  standard " aria-label="Code cell output actions">
        <!--?lit$109918125$--><md-focus-ring part="focus-ring" for="button" aria-hidden="true"><template shadowrootmode="open"><!----></template></md-focus-ring>
        <!--?lit$109918125$--><md-ripple aria-hidden="true"><template shadowrootmode="open"><!----><div class="surface   "></div></template></md-ripple>
        <!--?lit$109918125$--><span class="icon"><slot></slot></span>
        <!--?lit$109918125$-->
        <!--?lit$109918125$--><span class="touch"></span>
        <!--?lit$109918125$-->
  </button></template>
        <md-icon aria-hidden="true"><template shadowrootmode="open"><!----><slot></slot></template><!--?lit$109918125$--><svg viewBox="0 0 24 24"><!--?lit$109918125$--><path d="m15.9 3.07c-4.32 0.0742-8.64-0.0355-13 0.0568-1.37 0.307-1.74 2.1-1.41 3.26 0.469 0.606 1.86 0.384 1.66-0.525 0.0448-0.329-0.183-0.93 0.354-0.766h13.3v1.53h1.71c0.0709-1.13 0.141-2.62-0.968-3.3-0.511-0.264-1.11-0.252-1.67-0.259zm2.94 6.84v4.87c1.62-1.62 3.24-3.24 4.87-4.87h-4.87zm0 0h-1.71v3.43l1.57 1.57c0.32-1.65 0.0556-3.34 0.135-5zm-1.71 3.43v-3.43h-3.43c1.14 1.14 2.29 2.29 3.43 3.43zm1.4 4.27h-1.71v1.48h-13.6v-1.48h-1.71c-0.0473 1.15-0.16 2.72 1.09 3.29 1.47 0.506 3.02 0.0265 4.53 0.192 3.34-0.0051 6.68 0.0336 10-0.0245 1.49-0.366 1.56-2.22 1.42-3.45zm-10.1-1.12c-0.398-0.483-0.796-0.967-1.19-1.45 0.59-0.683 1.18-1.37 1.77-2.05h-8.67v-2h8.67c-0.59-0.683-1.18-1.37-1.77-2.05 0.398-0.483 0.796-0.967 1.19-1.45 1.28 1.5 2.56 3 3.84 4.5-1.28 1.5-2.56 3-3.84 4.5z"></path></svg></md-icon>
      </md-icon-button></template></colab-output-info></div>
          <div class="output-iframe-container" hidden="">
            <div class="output-iframe-sizer" style="min-height: 0px;"> <div><div><colab-static-output-renderer tabindex="0" role="group"><div></div><div></div></colab-static-output-renderer></div></div></div>
          </div>
        </div></div></div><colab-cell-next-steps><template shadowrootmode="open"><!----></template></colab-cell-next-steps></div></div><div class="add-cell">
      <div class="add-cell-buttons">
        <md-outlined-button class="add-code add-button" data-aria-label="Add code cell
Ctrl+M B" title="Add code cell
Ctrl+M B" value="" has-icon=""><template shadowrootmode="open" shadowrootdelegatesfocus><!---->
      <!--?lit$109918125$--><div class="outline"></div>
      <div class="background"></div>
      <md-focus-ring part="focus-ring" for="button" aria-hidden="true"><template shadowrootmode="open"><!----></template></md-focus-ring>
      <md-ripple part="ripple" for="button" aria-hidden="true"><template shadowrootmode="open"><!----><div class="surface"></div></template></md-ripple>
      <!--?lit$109918125$--><button id="button" class="button" aria-label="Add code cell
Ctrl+M B">
      <!--?lit$109918125$-->
      <span class="touch"></span>
      <!--?lit$109918125$--><slot name="icon"></slot>
      <span class="label"><slot></slot></span>
      <!--?lit$109918125$-->
    
    </button>
    </template>
          <md-icon slot="icon" aria-hidden="true"><template shadowrootmode="open"><!----><slot></slot></template>add</md-icon>
          <!--?lit$109918125$-->Code
        </md-outlined-button>
        <md-outlined-button class="add-text add-button" data-aria-label="Add text cell" title="Add text cell" value="" has-icon=""><template shadowrootmode="open" shadowrootdelegatesfocus><!---->
      <!--?lit$109918125$--><div class="outline"></div>
      <div class="background"></div>
      <md-focus-ring part="focus-ring" for="button" aria-hidden="true"><template shadowrootmode="open"><!----></template></md-focus-ring>
      <md-ripple part="ripple" for="button" aria-hidden="true"><template shadowrootmode="open"><!----><div class="surface   "></div></template></md-ripple>
      <!--?lit$109918125$--><button id="button" class="button" aria-label="Add text cell">
      <!--?lit$109918125$-->
      <span class="touch"></span>
      <!--?lit$109918125$--><slot name="icon"></slot>
      <span class="label"><slot></slot></span>
      <!--?lit$109918125$-->
    
    </button>
    </template>
          <md-icon slot="icon" aria-hidden="true"><template shadowrootmode="open"><!----><slot></slot></template>add</md-icon>
          <!--?lit$109918125$-->Text
        </md-outlined-button>
        <!--?lit$109918125$-->
      </div><hr>
    </div></div><div class="cell text" id="cell-OLlMA3pcq4RC" role="region" aria-label="Cell 66: Text cell: " style="" tabindex="-1"><div class="cell-tag-editor sticky"></div><div class="cell-toolbar sticky"></div><div class="main-content" elevation="0"><div class="cell-contents"><div class="cell-mask"></div><span class="imported-info-area"></span><!----> <div class="toolbar-root"></div>
      <div class="editor-container horizontal">
        <div class="editor-root"></div>
        <div class="text-top-div">
          <div class="markdown"><span><p>And we run the RAG! Some example questions you can ask:</p>
<ul>
<li>How many vacation days do I get?</li>
<li>Can I get maternity leave?</li>
</ul>
<p><strong>Note</strong>: This is a very basic implementation of a RAG, since this workshop is mainly about data ingestion. So expect some weird answers. If you do stop and restart the cell, you will need to rerun the cell containing <code>ollama serve</code> first.</p>
</span></div>
        </div>
      </div>

      <div class="section-header" style="display: none;">
        <colab-run-button role="button" aria-label="Run cell"><template shadowrootmode="open"><!----> <div class="cell-execution">
      <div class="execution-count"><!--?lit$109918125$-->[ ]</div>
      <div class="cell-execution-indicator"> <!--?lit$109918125$-->
<svg xmlns="http://www.w3.org/2000/svg" viewBox="0 0 24 24">
  <!--?lit$109918125$-->
  <mask id="playSymbolMask">
    <rect width="100%" height="100%" fill="white"></rect>
    <polygon points="10,8 17,12 10,16" fill="black"></polygon>
  </mask>
  <circle cx="12" cy="12" r="7.8" mask="url(#playSymbolMask)" id="filledCircle"></circle>
</svg> </div>
      <!--?lit$109918125$--><!--?-->
    </div></template></colab-run-button>
        <div class="section-header-container" title="click to expand">↳ 0 cells hidden</div>
      </div></div></div><div class="add-cell">
      <div class="add-cell-buttons">
        <md-outlined-button class="add-code add-button" data-aria-label="Add code cell
Ctrl+M B" title="Add code cell
Ctrl+M B" value="" has-icon=""><template shadowrootmode="open" shadowrootdelegatesfocus><!---->
      <!--?lit$109918125$--><div class="outline"></div>
      <div class="background"></div>
      <md-focus-ring part="focus-ring" for="button" aria-hidden="true"><template shadowrootmode="open"><!----></template></md-focus-ring>
      <md-ripple part="ripple" for="button" aria-hidden="true"><template shadowrootmode="open"><!----><div class="surface"></div></template></md-ripple>
      <!--?lit$109918125$--><button id="button" class="button" aria-label="Add code cell
Ctrl+M B">
      <!--?lit$109918125$-->
      <span class="touch"></span>
      <!--?lit$109918125$--><slot name="icon"></slot>
      <span class="label"><slot></slot></span>
      <!--?lit$109918125$-->
    
    </button>
    </template>
          <md-icon slot="icon" aria-hidden="true"><template shadowrootmode="open"><!----><slot></slot></template>add</md-icon>
          <!--?lit$109918125$-->Code
        </md-outlined-button>
        <md-outlined-button class="add-text add-button" data-aria-label="Add text cell" title="Add text cell" value="" has-icon=""><template shadowrootmode="open" shadowrootdelegatesfocus><!---->
      <!--?lit$109918125$--><div class="outline"></div>
      <div class="background"></div>
      <md-focus-ring part="focus-ring" for="button" aria-hidden="true"><template shadowrootmode="open"><!----></template></md-focus-ring>
      <md-ripple part="ripple" for="button" aria-hidden="true"><template shadowrootmode="open"><!----><div class="surface   "></div></template></md-ripple>
      <!--?lit$109918125$--><button id="button" class="button" aria-label="Add text cell">
      <!--?lit$109918125$-->
      <span class="touch"></span>
      <!--?lit$109918125$--><slot name="icon"></slot>
      <span class="label"><slot></slot></span>
      <!--?lit$109918125$-->
    
    </button>
    </template>
          <md-icon slot="icon" aria-hidden="true"><template shadowrootmode="open"><!----><slot></slot></template>add</md-icon>
          <!--?lit$109918125$-->Text
        </md-outlined-button>
        <!--?lit$109918125$-->
      </div><hr>
    </div></div><div class="cell code icon-scrolling focused code-has-output running" id="cell-lCcHrjymfdgE" tabindex="-1" role="region" aria-label="Cell 67: Code cell: " style="opacity: 1;"><div class="cell-tag-editor sticky"></div><div class="cell-toolbar sticky"><colab-cell-toolbar><template shadowrootmode="open"><!----><!--?lit$109918125$--><!----> <md-icon-button class="colab-icon" title="Move cell up
Ctrl+M K" data-aria-label="Move cell up
Ctrl+M K" command="move-cell-up" value=""><template shadowrootmode="open" shadowrootdelegatesfocus><!----><button id="button" class="icon-button  standard " aria-label="Move cell up
Ctrl+M K">
        <!--?lit$109918125$--><md-focus-ring part="focus-ring" for="button" aria-hidden="true"><template shadowrootmode="open"><!----></template></md-focus-ring>
        <!--?lit$109918125$--><md-ripple aria-hidden="true"><template shadowrootmode="open"><!----><div class="surface   "></div></template></md-ripple>
        <!--?lit$109918125$--><span class="icon"><slot></slot></span>
        <!--?lit$109918125$-->
        <!--?lit$109918125$--><span class="touch"></span>
        <!--?lit$109918125$-->
  </button></template>
          <md-icon aria-hidden="true"><template shadowrootmode="open"><!----><slot></slot></template><!--?lit$109918125$-->arrow_upward</md-icon>
          <!--?lit$109918125$-->
        </md-icon-button><!----><!----> <md-icon-button class="colab-icon" title="Move cell down
Ctrl+M J" data-aria-label="Move cell down
Ctrl+M J" command="move-cell-down" value=""><template shadowrootmode="open" shadowrootdelegatesfocus><!----><button id="button" class="icon-button  standard " aria-label="Move cell down
Ctrl+M J">
        <!--?lit$109918125$--><md-focus-ring part="focus-ring" for="button" aria-hidden="true"><template shadowrootmode="open"><!----></template></md-focus-ring>
        <!--?lit$109918125$--><md-ripple aria-hidden="true"><template shadowrootmode="open"><!----><div class="surface   "></div></template></md-ripple>
        <!--?lit$109918125$--><span class="icon"><slot></slot></span>
        <!--?lit$109918125$-->
        <!--?lit$109918125$--><span class="touch"></span>
        <!--?lit$109918125$-->
  </button></template>
          <md-icon aria-hidden="true"><template shadowrootmode="open"><!----><slot></slot></template><!--?lit$109918125$-->arrow_downward</md-icon>
          <!--?lit$109918125$-->
        </md-icon-button><!----><!----> <md-icon-button class="colab-icon" title="Copy link to cell" data-aria-label="Copy link to cell" command="copy-link-to-cell" value=""><template shadowrootmode="open" shadowrootdelegatesfocus><!----><button id="button" class="icon-button  standard " aria-label="Copy link to cell">
        <!--?lit$109918125$--><md-focus-ring part="focus-ring" for="button" aria-hidden="true"><template shadowrootmode="open"><!----></template></md-focus-ring>
        <!--?lit$109918125$--><md-ripple aria-hidden="true"><template shadowrootmode="open"><!----><div class="surface   "></div></template></md-ripple>
        <!--?lit$109918125$--><span class="icon"><slot></slot></span>
        <!--?lit$109918125$-->
        <!--?lit$109918125$--><span class="touch"></span>
        <!--?lit$109918125$-->
  </button></template>
          <md-icon aria-hidden="true"><template shadowrootmode="open"><!----><slot></slot></template><!--?lit$109918125$-->link</md-icon>
          <!--?lit$109918125$-->
        </md-icon-button><!----><!----> <md-icon-button class="colab-icon" title="Add a comment
Ctrl+Alt+M" data-aria-label="Add a comment
Ctrl+Alt+M" command="add-comment" value=""><template shadowrootmode="open" shadowrootdelegatesfocus><!----><button id="button" class="icon-button  standard " aria-label="Add a comment
Ctrl+Alt+M">
        <!--?lit$109918125$--><md-focus-ring part="focus-ring" for="button" aria-hidden="true"><template shadowrootmode="open"><!----></template></md-focus-ring>
        <!--?lit$109918125$--><md-ripple aria-hidden="true"><template shadowrootmode="open"><!----><div class="surface   "></div></template></md-ripple>
        <!--?lit$109918125$--><span class="icon"><slot></slot></span>
        <!--?lit$109918125$-->
        <!--?lit$109918125$--><span class="touch"></span>
        <!--?lit$109918125$-->
  </button></template>
          <md-icon aria-hidden="true"><template shadowrootmode="open"><!----><slot></slot></template><!--?lit$109918125$-->comment</md-icon>
          <!--?lit$109918125$-->
        </md-icon-button><!----><!----> <md-icon-button class="colab-icon" title="Open editor settings" data-aria-label="Open editor settings" command="editor-preferences" value=""><template shadowrootmode="open" shadowrootdelegatesfocus><!----><button id="button" class="icon-button  standard " aria-label="Open editor settings">
        <!--?lit$109918125$--><md-focus-ring part="focus-ring" for="button" aria-hidden="true"><template shadowrootmode="open"><!----></template></md-focus-ring>
        <!--?lit$109918125$--><md-ripple aria-hidden="true"><template shadowrootmode="open"><!----><div class="surface"></div></template></md-ripple>
        <!--?lit$109918125$--><span class="icon"><slot></slot></span>
        <!--?lit$109918125$-->
        <!--?lit$109918125$--><span class="touch"></span>
        <!--?lit$109918125$-->
  </button></template>
          <md-icon filled="" aria-hidden="true"><template shadowrootmode="open"><!----><slot></slot></template><!--?lit$109918125$-->settings</md-icon>
          <!--?lit$109918125$-->
        </md-icon-button><!----><!----> <md-icon-button class="colab-icon" title="Edit" data-aria-label="Edit" command="toggle-edit-markdown" toggle="" style="display: none;" value=""><template shadowrootmode="open" shadowrootdelegatesfocus><!----><button id="button" class="icon-button  standard " aria-label="Edit" aria-pressed="false">
        <!--?lit$109918125$--><md-focus-ring part="focus-ring" for="button" aria-hidden="true"><template shadowrootmode="open"><!----></template></md-focus-ring>
        <!--?lit$109918125$--><md-ripple aria-hidden="true"><template shadowrootmode="open"><!----><div class="surface   "></div></template></md-ripple>
        <!--?lit$109918125$--><span class="icon"><slot></slot></span>
        <!--?lit$109918125$-->
        <!--?lit$109918125$--><span class="touch"></span>
        <!--?lit$109918125$-->
  </button></template>
          <md-icon aria-hidden="true"><template shadowrootmode="open"><!----><slot></slot></template><!--?lit$109918125$-->edit</md-icon>
          <!--?lit$109918125$--><md-icon slot="selected" aria-hidden="true"><template shadowrootmode="open"><!----><slot></slot></template><!--?lit$109918125$-->edit_off</md-icon>
        </md-icon-button><!----><!----> <md-icon-button class="colab-icon" title="Mirror cell in tab" data-aria-label="Mirror cell in tab" command="mirror-cell-in-tab" value=""><template shadowrootmode="open" shadowrootdelegatesfocus><!----><button id="button" class="icon-button  standard " aria-label="Mirror cell in tab">
        <!--?lit$109918125$--><md-focus-ring part="focus-ring" for="button" aria-hidden="true"><template shadowrootmode="open"><!----></template></md-focus-ring>
        <!--?lit$109918125$--><md-ripple aria-hidden="true"><template shadowrootmode="open"><!----><div class="surface"></div></template></md-ripple>
        <!--?lit$109918125$--><span class="icon"><slot></slot></span>
        <!--?lit$109918125$-->
        <!--?lit$109918125$--><span class="touch"></span>
        <!--?lit$109918125$-->
  </button></template>
          <md-icon aria-hidden="true"><template shadowrootmode="open"><!----><slot></slot></template><!--?lit$109918125$--><svg viewBox="0 0 24 24"><!--?lit$109918125$-->
      <g id="mirror-cell">
        <path d="M4,21V7H2V21a2,2,0,0,0,2,2H18V21Z"></path>
        <path d="M6,13v2H8.6L5,18.6,6.4,20,10,16.4V19h2V13Z"></path>
        <path d="M19,1H8A2,2,0,0,0,6,3v8H8V3H19V17H14v2h5a2,2,0,0,0,2-2V3A2,2,0,0,0,19,1Z"></path>
      </g></svg></md-icon>
          <!--?lit$109918125$-->
        </md-icon-button><!----><!----> <md-icon-button class="colab-icon" title="Delete cell
Ctrl+M D" data-aria-label="Delete cell
Ctrl+M D" command="delete-cell-or-selection" value=""><template shadowrootmode="open" shadowrootdelegatesfocus><!----><button id="button" class="icon-button  standard " aria-label="Delete cell
Ctrl+M D">
        <!--?lit$109918125$--><md-focus-ring part="focus-ring" for="button" aria-hidden="true"><template shadowrootmode="open"><!----></template></md-focus-ring>
        <!--?lit$109918125$--><md-ripple aria-hidden="true"><template shadowrootmode="open"><!----><div class="surface"></div></template></md-ripple>
        <!--?lit$109918125$--><span class="icon"><slot></slot></span>
        <!--?lit$109918125$-->
        <!--?lit$109918125$--><span class="touch"></span>
        <!--?lit$109918125$-->
  </button></template>
          <md-icon aria-hidden="true"><template shadowrootmode="open"><!----><slot></slot></template><!--?lit$109918125$-->delete</md-icon>
          <!--?lit$109918125$-->
        </md-icon-button><!----><!--?lit$109918125$--><md-icon-button title="More cell actions" data-aria-label="More cell actions" class="colab-icon cell-toolbar-more" value=""><template shadowrootmode="open" shadowrootdelegatesfocus><!----><button id="button" class="icon-button  standard " aria-label="More cell actions">
        <!--?lit$109918125$--><md-focus-ring part="focus-ring" for="button" aria-hidden="true"><template shadowrootmode="open"><!----></template></md-focus-ring>
        <!--?lit$109918125$--><md-ripple aria-hidden="true"><template shadowrootmode="open"><!----><div class="surface   "></div></template></md-ripple>
        <!--?lit$109918125$--><span class="icon"><slot></slot></span>
        <!--?lit$109918125$-->
        <!--?lit$109918125$--><span class="touch"></span>
        <!--?lit$109918125$-->
  </button></template><md-icon aria-hidden="true"><template shadowrootmode="open"><!----><slot></slot></template>more_vert</md-icon>
    </md-icon-button><!--?--></template></colab-cell-toolbar></div><div class="main-content" elevation="2"><div class="cell-contents"><div class="cell-mask"></div><span class="imported-info-area"></span><div class="codecell-input-output">
      <div class="inputarea horizontal layout code">
        <div class="cell-gutter">
          <!-- Bounding range for vertical scrolling of icons -->
          <div class="cell-execution-container">
            <colab-run-button title="Interrupt execution (Ctrl+M I)

started at 12:13 (0 minutes ago)" role="button" aria-label="Run cell"><template shadowrootmode="open"><!----> <div class="cell-execution focused animating running">
      <div class="execution-count"><!--?lit$109918125$-->[ ]</div>
      <div class="cell-execution-indicator"> <!--?lit$109918125$-->
<svg viewBox="0 0 24 24" xmlns="http://www.w3.org/2000/svg">
  <!--?lit$109918125$-->
  <mask id="stopSymbolMask">
    <rect width="100%" height="100%" fill="white"></rect>
    <polygon points="9,9 9,15 15,15 15,9" fill="black"></polygon>
  </mask>
  <circle cx="12" cy="12" r="7.8" mask="url(#stopSymbolMask)" id="filledCircle"></circle>
  <g id="rotate">
    <circle id="swoop" cx="12" cy="12" r="10"></circle>
  </g>
</svg> </div>
      <!--?lit$109918125$--><!--?-->
    </div></template></colab-run-button>
          </div>
        </div>
      <div class="editor flex lazy-editor" style=""><div class="editor flex monaco" data-keybinding-context="114" data-mode-id="notebook-python" style="height: 29px; --vscode-editorCodeLens-lineHeight: 16px; --vscode-editorCodeLens-fontSize: 12px; --vscode-editorCodeLens-fontFeatureSettings: &quot;liga&quot; off, &quot;calt&quot; off;"><div class="monaco-editor no-user-select  showUnused showDeprecated vs-dark" role="code" data-uri="inmemory://model/73" style="width: 794px; height: 29px;"><div data-mprt="3" class="overflow-guard" style="width: 794px; height: 29px; overflow: clip;"><div class="margin" role="presentation" aria-hidden="true" style="position: absolute; contain: strict; will-change: unset; top: 0px; height: 29px; width: 6px;"><div class="glyph-margin" style="left: 0px; width: 0px; height: 29px;"></div><div class="margin-view-zones" role="presentation" aria-hidden="true" style="position: absolute;"></div><div class="margin-view-overlays" role="presentation" aria-hidden="true" style="position: absolute; font-family: monospace, Consolas, &quot;Courier New&quot;, monospace; font-weight: normal; font-size: 14px; font-feature-settings: &quot;liga&quot; 0, &quot;calt&quot; 0; font-variation-settings: normal; line-height: 19px; letter-spacing: 0px; width: 6px; height: 29px;"><div style="position:absolute;top:0px;width:100%;height:19px;"><div class="current-line current-line-margin-both" style="width:6px; height:19px;"></div></div></div><div class="glyph-margin-widgets" style="position: absolute; top: 0px;"></div></div><div class="monaco-scrollable-element editor-scrollable vs-dark" role="presentation" data-mprt="5" style="position: absolute; overflow: hidden; left: 6px; width: 788px; height: 29px;"><div class="lines-content monaco-editor-background" style="position: absolute; overflow: hidden; width: 1e+06px; height: 29px; contain: strict; will-change: unset; top: 0px; left: 0px;"><div class="view-overlays" role="presentation" aria-hidden="true" style="position: absolute; font-family: monospace, Consolas, &quot;Courier New&quot;, monospace; font-weight: normal; font-size: 14px; font-feature-settings: &quot;liga&quot; 0, &quot;calt&quot; 0; font-variation-settings: normal; line-height: 19px; letter-spacing: 0px; height: 0px; width: 788px;"><div style="position:absolute;top:0px;width:100%;height:19px;"><div class="current-line" style="width:788px; height:19px;"></div></div></div><div role="presentation" aria-hidden="true" class="view-rulers"></div><div class="view-zones" role="presentation" aria-hidden="true" style="position: absolute;"></div><div class="view-lines monaco-mouse-cursor-text" role="presentation" aria-hidden="true" data-mprt="7" style="position: absolute; font-family: monospace, Consolas, &quot;Courier New&quot;, monospace; font-weight: normal; font-size: 14px; font-feature-settings: &quot;liga&quot; 0, &quot;calt&quot; 0; font-variation-settings: normal; line-height: 19px; letter-spacing: 0px; width: 788px; height: 29px;"><div style="top:0px;height:19px;" class="view-line"><span><span class="mtk1">main</span><span class="mtk12 bracket-highlighting-0">(</span><span class="mtk12 bracket-highlighting-0">)</span></span></div></div><div data-mprt="1" class="contentWidgets" style="position: absolute; top: 0px;"></div><div role="presentation" aria-hidden="true" class="cursors-layer cursor-line-style cursor-solid"><div class="cursor monaco-mouse-cursor-text " style="height: 19px; top: 0px; left: 0px; font-family: monospace, Consolas, &quot;Courier New&quot;, monospace; font-weight: normal; font-size: 14px; font-feature-settings: &quot;liga&quot; 0, &quot;calt&quot; 0; font-variation-settings: normal; line-height: 19px; letter-spacing: 0px; display: block; visibility: hidden; padding-left: 0px; width: 2px;"></div></div></div><div role="presentation" aria-hidden="true" class="invisible scrollbar horizontal" style="position: absolute; width: 774px; height: 10px; left: 0px; bottom: 0px;"><div class="slider" style="position: absolute; top: 0px; left: 0px; height: 10px; transform: translate3d(0px, 0px, 0px); contain: strict; will-change: unset; width: 774px;"></div></div><canvas class="decorationsOverviewRuler" aria-hidden="true" width="14" height="29" style="position: absolute; transform: translate3d(0px, 0px, 0px); contain: strict; top: 0px; right: 0px; width: 14px; height: 29px; will-change: unset; display: block;"></canvas><div role="presentation" aria-hidden="true" class="invisible scrollbar vertical" style="position: absolute; width: 14px; height: 29px; right: 0px; top: 0px;"><div class="slider" style="position: absolute; top: 0px; left: 0px; width: 14px; transform: translate3d(0px, 0px, 0px); contain: strict; will-change: unset; height: 29px;"></div></div></div><div role="presentation" aria-hidden="true" style="width: 794px;"></div><textarea data-mprt="6" class="inputarea monaco-mouse-cursor-text" wrap="on" autocorrect="off" autocapitalize="off" autocomplete="off" spellcheck="false" aria-label="Editor content;Press Alt+F1 for Accessibility Options." tabindex="0" role="textbox" aria-roledescription="editor" aria-multiline="true" aria-haspopup="false" aria-autocomplete="both" style="tab-size: 15.3984px; font-family: monospace, Consolas, &quot;Courier New&quot;, monospace; font-weight: normal; font-size: 14px; font-feature-settings: &quot;liga&quot; 0, &quot;calt&quot; 0; font-variation-settings: normal; line-height: 19px; letter-spacing: 0px; top: 0px; left: 6px; width: 76992px; height: 1px;"></textarea><div style="position: absolute; top: 0px; left: 0px; width: 0px; height: 0px;" class="monaco-editor-background textAreaCover"></div><div data-mprt="4" class="overlayWidgets" style="width: 794px;"></div><div data-mprt="8" class="minimap slider-mouseover" role="presentation" aria-hidden="true" style="position: absolute; left: 0px; width: 0px; height: 29px;"><div class="minimap-shadow-hidden" style="height: 29px;"></div><canvas width="0" height="29" style="position: absolute; left: 0px; width: 0px; height: 29px;"></canvas><canvas class="minimap-decorations-layer" width="0" height="29" style="position: absolute; left: 0px; width: 0px; height: 29px;"></canvas><div class="minimap-slider" style="position: absolute; transform: translate3d(0px, 0px, 0px); contain: strict; width: 0px; will-change: unset;"><div class="minimap-slider-horizontal" style="position: absolute; width: 0px; height: 0px;"></div></div></div><div role="presentation" aria-hidden="true" class="blockDecorations-container"></div></div><div data-mprt="2" class="overflowingContentWidgets" style="display: none;"><div widgetid="editor.contrib.resizableContentHoverWidget" style="position: fixed; height: 10px; width: 10px; z-index: 50; display: none; visibility: hidden; max-width: 1366px;"><div class="monaco-sash vertical" style="left: 8px;"></div><div class="monaco-sash vertical" style="left: -2px;"></div><div class="monaco-sash orthogonal-edge-north horizontal" style="top: -2px;"><div class="orthogonal-drag-handle start"></div><div class="orthogonal-drag-handle end"></div></div><div class="monaco-sash orthogonal-edge-south horizontal" style="top: 8px;"><div class="orthogonal-drag-handle start"></div><div class="orthogonal-drag-handle end"></div></div><div class="monaco-hover hidden" tabindex="0" role="tooltip"><div class="monaco-scrollable-element " role="presentation" style="position: relative; overflow: hidden;"><div class="monaco-hover-content" style="overflow: hidden; font-size: 14px; line-height: 1.35714; max-width: 524.04px; max-height: 250px;"></div><div role="presentation" aria-hidden="true" class="invisible scrollbar horizontal" style="position: absolute;"><div class="slider" style="position: absolute; top: 0px; left: 0px; height: 10px; transform: translate3d(0px, 0px, 0px); contain: strict;"></div></div><div role="presentation" aria-hidden="true" class="invisible scrollbar vertical" style="position: absolute;"><div class="slider" style="position: absolute; top: 0px; left: 0px; width: 10px; transform: translate3d(0px, 0px, 0px); contain: strict;"></div></div><div class="shadow"></div><div class="shadow"></div><div class="shadow"></div></div></div></div></div><div class=".in-cell-overflowing"><div widgetid="editor.contrib.quickInputWidget" style="position: absolute; top: 0px; right: 50%;"></div></div></div></div></div><colab-form class="formview vertical layout flex"><div class="widget-area vertical layout"></div></colab-form></div>
    <div class="output" aria-label="Cell 67 output" role="region"><!----> <div class="output-header"> </div>
        <div class="output-content">
          <div class="output-info"><colab-output-info title="Clear output

currently executing…"><template shadowrootmode="open"><!----><md-icon-button title="Code cell output actions" data-aria-label="Code cell output actions" value=""><template shadowrootmode="open" shadowrootdelegatesfocus><!----><button id="button" class="icon-button  standard " aria-label="Code cell output actions">
        <!--?lit$109918125$--><md-focus-ring part="focus-ring" for="button" aria-hidden="true"><template shadowrootmode="open"><!----></template></md-focus-ring>
        <!--?lit$109918125$--><md-ripple aria-hidden="true"><template shadowrootmode="open"><!----><div class="surface"></div></template></md-ripple>
        <!--?lit$109918125$--><span class="icon"><slot></slot></span>
        <!--?lit$109918125$-->
        <!--?lit$109918125$--><span class="touch"></span>
        <!--?lit$109918125$-->
  </button></template>
        <md-icon aria-hidden="true"><template shadowrootmode="open"><!----><slot></slot></template><!--?lit$109918125$-->more_horiz</md-icon>
      </md-icon-button></template></colab-output-info></div>
          <div class="output-iframe-container">
            <div class="output-iframe-sizer" style="min-height: 88px;"> <div><div><colab-static-output-renderer tabindex="0" role="group"><div><div class="stream output-id-1 output_text"><pre>Assistant: Based on the provided context, it looks like the employees in this company have the following PTO days per year: 20. You can confirm this information by contacting HR or checking the employee handbook for more details.
</pre></div></div><div><pre>You: <input class="raw_input"></pre></div></colab-static-output-renderer></div></div></div>
          </div>
        </div></div></div><colab-cell-next-steps><template shadowrootmode="open"><!----></template></colab-cell-next-steps></div></div><div class="add-cell">
      <div class="add-cell-buttons">
        <md-outlined-button class="add-code add-button" data-aria-label="Add code cell
Ctrl+M B" title="Add code cell
Ctrl+M B" value="" has-icon=""><template shadowrootmode="open" shadowrootdelegatesfocus><!---->
      <!--?lit$109918125$--><div class="outline"></div>
      <div class="background"></div>
      <md-focus-ring part="focus-ring" for="button" aria-hidden="true"><template shadowrootmode="open"><!----></template></md-focus-ring>
      <md-ripple part="ripple" for="button" aria-hidden="true"><template shadowrootmode="open"><!----><div class="surface   "></div></template></md-ripple>
      <!--?lit$109918125$--><button id="button" class="button" aria-label="Add code cell
Ctrl+M B">
      <!--?lit$109918125$-->
      <span class="touch"></span>
      <!--?lit$109918125$--><slot name="icon"></slot>
      <span class="label"><slot></slot></span>
      <!--?lit$109918125$-->
    
    </button>
    </template>
          <md-icon slot="icon" aria-hidden="true"><template shadowrootmode="open"><!----><slot></slot></template>add</md-icon>
          <!--?lit$109918125$-->Code
        </md-outlined-button>
        <md-outlined-button class="add-text add-button" data-aria-label="Add text cell" title="Add text cell" value="" has-icon=""><template shadowrootmode="open" shadowrootdelegatesfocus><!---->
      <!--?lit$109918125$--><div class="outline"></div>
      <div class="background"></div>
      <md-focus-ring part="focus-ring" for="button" aria-hidden="true"><template shadowrootmode="open"><!----></template></md-focus-ring>
      <md-ripple part="ripple" for="button" aria-hidden="true"><template shadowrootmode="open"><!----><div class="surface   "></div></template></md-ripple>
      <!--?lit$109918125$--><button id="button" class="button" aria-label="Add text cell">
      <!--?lit$109918125$-->
      <span class="touch"></span>
      <!--?lit$109918125$--><slot name="icon"></slot>
      <span class="label"><slot></slot></span>
      <!--?lit$109918125$-->
    
    </button>
    </template>
          <md-icon slot="icon" aria-hidden="true"><template shadowrootmode="open"><!----><slot></slot></template>add</md-icon>
          <!--?lit$109918125$-->Text
        </md-outlined-button>
        <!--?lit$109918125$-->
      </div><hr>
    </div></div><div class="cell text" id="cell-umpLwREgwyDi" role="region" aria-label="Cell 68: Text cell: " style="" tabindex="-1"><div class="cell-tag-editor sticky"></div><div class="cell-toolbar sticky"></div><div class="main-content" elevation="0"><div class="cell-contents"><div class="cell-mask"></div><span class="imported-info-area"></span><!----> <div class="toolbar-root"><div class="markdown-toolbar"><!----><!--?lit$109918125$--><!----><md-icon-button class="markdown-toolbar-header" title="Toggle heading" data-aria-label="Toggle heading" value=""><template shadowrootmode="open" shadowrootdelegatesfocus><!----><button id="button" class="icon-button  standard " aria-label="Toggle heading">
        <!--?lit$109918125$--><md-focus-ring part="focus-ring" for="button" aria-hidden="true"><template shadowrootmode="open"><!----></template></md-focus-ring>
        <!--?lit$109918125$--><md-ripple aria-hidden="true"><template shadowrootmode="open"><!----><div class="surface   "></div></template></md-ripple>
        <!--?lit$109918125$--><span class="icon"><slot></slot></span>
        <!--?lit$109918125$-->
        <!--?lit$109918125$--><span class="touch"></span>
        <!--?lit$109918125$-->
  </button></template>
    <!--?lit$109918125$--><md-icon aria-hidden="true"><template shadowrootmode="open"><!----><slot></slot></template><!--?lit$109918125$-->format_size</md-icon>
  </md-icon-button><!----><!----><md-icon-button class="markdown-toolbar-bold" title="Bold" data-aria-label="Bold" value=""><template shadowrootmode="open" shadowrootdelegatesfocus><!----><button id="button" class="icon-button  standard " aria-label="Bold">
        <!--?lit$109918125$--><md-focus-ring part="focus-ring" for="button" aria-hidden="true"><template shadowrootmode="open"><!----></template></md-focus-ring>
        <!--?lit$109918125$--><md-ripple aria-hidden="true"><template shadowrootmode="open"><!----><div class="surface   "></div></template></md-ripple>
        <!--?lit$109918125$--><span class="icon"><slot></slot></span>
        <!--?lit$109918125$-->
        <!--?lit$109918125$--><span class="touch"></span>
        <!--?lit$109918125$-->
  </button></template>
    <!--?lit$109918125$--><md-icon aria-hidden="true"><template shadowrootmode="open"><!----><slot></slot></template><!--?lit$109918125$-->format_bold</md-icon>
  </md-icon-button><!----><!----><md-icon-button class="markdown-toolbar-italic" title="Italicise" data-aria-label="Italicise" value=""><template shadowrootmode="open" shadowrootdelegatesfocus><!----><button id="button" class="icon-button  standard " aria-label="Italicise">
        <!--?lit$109918125$--><md-focus-ring part="focus-ring" for="button" aria-hidden="true"><template shadowrootmode="open"><!----></template></md-focus-ring>
        <!--?lit$109918125$--><md-ripple aria-hidden="true"><template shadowrootmode="open"><!----><div class="surface   "></div></template></md-ripple>
        <!--?lit$109918125$--><span class="icon"><slot></slot></span>
        <!--?lit$109918125$-->
        <!--?lit$109918125$--><span class="touch"></span>
        <!--?lit$109918125$-->
  </button></template>
    <!--?lit$109918125$--><md-icon aria-hidden="true"><template shadowrootmode="open"><!----><slot></slot></template><!--?lit$109918125$-->format_italic</md-icon>
  </md-icon-button><!----><!----><md-icon-button class="markdown-toolbar-code" title="Format as code" data-aria-label="Format as code" value=""><template shadowrootmode="open" shadowrootdelegatesfocus><!----><button id="button" class="icon-button  standard " aria-label="Format as code">
        <!--?lit$109918125$--><md-focus-ring part="focus-ring" for="button" aria-hidden="true"><template shadowrootmode="open"><!----></template></md-focus-ring>
        <!--?lit$109918125$--><md-ripple aria-hidden="true"><template shadowrootmode="open"><!----><div class="surface   "></div></template></md-ripple>
        <!--?lit$109918125$--><span class="icon"><slot></slot></span>
        <!--?lit$109918125$-->
        <!--?lit$109918125$--><span class="touch"></span>
        <!--?lit$109918125$-->
  </button></template>
    <!--?lit$109918125$--><md-icon aria-hidden="true"><template shadowrootmode="open"><!----><slot></slot></template><!--?lit$109918125$-->code</md-icon>
  </md-icon-button><!----><!----><md-icon-button class="markdown-toolbar-link" title="Insert link" data-aria-label="Insert link" value=""><template shadowrootmode="open" shadowrootdelegatesfocus><!----><button id="button" class="icon-button  standard " aria-label="Insert link">
        <!--?lit$109918125$--><md-focus-ring part="focus-ring" for="button" aria-hidden="true"><template shadowrootmode="open"><!----></template></md-focus-ring>
        <!--?lit$109918125$--><md-ripple aria-hidden="true"><template shadowrootmode="open"><!----><div class="surface   "></div></template></md-ripple>
        <!--?lit$109918125$--><span class="icon"><slot></slot></span>
        <!--?lit$109918125$-->
        <!--?lit$109918125$--><span class="touch"></span>
        <!--?lit$109918125$-->
  </button></template>
    <!--?lit$109918125$--><md-icon aria-hidden="true"><template shadowrootmode="open"><!----><slot></slot></template><!--?lit$109918125$-->link</md-icon>
  </md-icon-button><!----><!----><label for="markdown-image-input-umpLwREgwyDi" class="colab-icon markdown-insert-image">
        <md-ripple aria-hidden="true"><template shadowrootmode="open"><!----><div class="surface   "></div></template></md-ripple>
        <span role="button" tabindex="0" title="Insert image" aria-label="Insert image">
          <md-focus-ring aria-hidden="true"><template shadowrootmode="open"><!----></template></md-focus-ring>
          <md-icon aria-hidden="true"><template shadowrootmode="open"><!----><slot></slot></template>image</md-icon>
        </span>
      </label>
      <input class="markdown-image-input" type="file" multiple="" accept="image/*" id="markdown-image-input-umpLwREgwyDi"><!----><!----><md-icon-button class="markdown-toolbar-blockquote" title="Add blockquote" data-aria-label="Add blockquote" value=""><template shadowrootmode="open" shadowrootdelegatesfocus><!----><button id="button" class="icon-button  standard " aria-label="Add blockquote">
        <!--?lit$109918125$--><md-focus-ring part="focus-ring" for="button" aria-hidden="true"><template shadowrootmode="open"><!----></template></md-focus-ring>
        <!--?lit$109918125$--><md-ripple aria-hidden="true"><template shadowrootmode="open"><!----><div class="surface   "></div></template></md-ripple>
        <!--?lit$109918125$--><span class="icon"><slot></slot></span>
        <!--?lit$109918125$-->
        <!--?lit$109918125$--><span class="touch"></span>
        <!--?lit$109918125$-->
  </button></template>
    <!--?lit$109918125$--><md-icon aria-hidden="true"><template shadowrootmode="open"><!----><slot></slot></template><!--?lit$109918125$-->format_quote</md-icon>
  </md-icon-button><!----><!----><md-icon-button class="markdown-toolbar-ol" title="Add numbered list" data-aria-label="Add numbered list" value=""><template shadowrootmode="open" shadowrootdelegatesfocus><!----><button id="button" class="icon-button  standard " aria-label="Add numbered list">
        <!--?lit$109918125$--><md-focus-ring part="focus-ring" for="button" aria-hidden="true"><template shadowrootmode="open"><!----></template></md-focus-ring>
        <!--?lit$109918125$--><md-ripple aria-hidden="true"><template shadowrootmode="open"><!----><div class="surface   "></div></template></md-ripple>
        <!--?lit$109918125$--><span class="icon"><slot></slot></span>
        <!--?lit$109918125$-->
        <!--?lit$109918125$--><span class="touch"></span>
        <!--?lit$109918125$-->
  </button></template>
    <!--?lit$109918125$--><md-icon aria-hidden="true"><template shadowrootmode="open"><!----><slot></slot></template><!--?lit$109918125$-->format_list_numbered</md-icon>
  </md-icon-button><!----><!----><md-icon-button class="markdown-toolbar-ul" title="Add bulleted list" data-aria-label="Add bulleted list" value=""><template shadowrootmode="open" shadowrootdelegatesfocus><!----><button id="button" class="icon-button  standard " aria-label="Add bulleted list">
        <!--?lit$109918125$--><md-focus-ring part="focus-ring" for="button" aria-hidden="true"><template shadowrootmode="open"><!----></template></md-focus-ring>
        <!--?lit$109918125$--><md-ripple aria-hidden="true"><template shadowrootmode="open"><!----><div class="surface   "></div></template></md-ripple>
        <!--?lit$109918125$--><span class="icon"><slot></slot></span>
        <!--?lit$109918125$-->
        <!--?lit$109918125$--><span class="touch"></span>
        <!--?lit$109918125$-->
  </button></template>
    <!--?lit$109918125$--><md-icon aria-hidden="true"><template shadowrootmode="open"><!----><slot></slot></template><!--?lit$109918125$-->format_list_bulleted</md-icon>
  </md-icon-button><!----><!----><md-icon-button class="markdown-toolbar-hr" title="Add horizontal rule" data-aria-label="Add horizontal rule" value=""><template shadowrootmode="open" shadowrootdelegatesfocus><!----><button id="button" class="icon-button  standard " aria-label="Add horizontal rule">
        <!--?lit$109918125$--><md-focus-ring part="focus-ring" for="button" aria-hidden="true"><template shadowrootmode="open"><!----></template></md-focus-ring>
        <!--?lit$109918125$--><md-ripple aria-hidden="true"><template shadowrootmode="open"><!----><div class="surface   "></div></template></md-ripple>
        <!--?lit$109918125$--><span class="icon"><slot></slot></span>
        <!--?lit$109918125$-->
        <!--?lit$109918125$--><span class="touch"></span>
        <!--?lit$109918125$-->
  </button></template>
    <!--?lit$109918125$--><md-icon aria-hidden="true"><template shadowrootmode="open"><!----><slot></slot></template><!--?lit$109918125$-->horizontal_rule</md-icon>
  </md-icon-button><!----><!----><md-icon-button class="latex" title="LaTeX" data-aria-label="LaTeX" value=""><template shadowrootmode="open" shadowrootdelegatesfocus><!----><button id="button" class="icon-button  standard " aria-label="LaTeX">
        <!--?lit$109918125$--><md-focus-ring part="focus-ring" for="button" aria-hidden="true"><template shadowrootmode="open"><!----></template></md-focus-ring>
        <!--?lit$109918125$--><md-ripple aria-hidden="true"><template shadowrootmode="open"><!----><div class="surface   "></div></template></md-ripple>
        <!--?lit$109918125$--><span class="icon"><slot></slot></span>
        <!--?lit$109918125$-->
        <!--?lit$109918125$--><span class="touch"></span>
        <!--?lit$109918125$-->
  </button></template>
    <!--?lit$109918125$--><span aria-hidden="true">ψ</span>
  </md-icon-button><!----><!----><md-icon-button title="Insert emoji" data-aria-label="Insert emoji" value=""><template shadowrootmode="open" shadowrootdelegatesfocus><!----><button id="button" class="icon-button  standard " aria-label="Insert emoji">
        <!--?lit$109918125$--><md-focus-ring part="focus-ring" for="button" aria-hidden="true"><template shadowrootmode="open"><!----></template></md-focus-ring>
        <!--?lit$109918125$--><md-ripple aria-hidden="true"><template shadowrootmode="open"><!----><div class="surface   "></div></template></md-ripple>
        <!--?lit$109918125$--><span class="icon"><slot></slot></span>
        <!--?lit$109918125$-->
        <!--?lit$109918125$--><span class="touch"></span>
        <!--?lit$109918125$-->
  </button></template>
    <!--?lit$109918125$--><md-icon aria-hidden="true"><template shadowrootmode="open"><!----><slot></slot></template><!--?lit$109918125$-->mood</md-icon>
  </md-icon-button><!----><!----><md-icon-button class="markdown-toolbar-preview" title="Reposition markdown preview" data-aria-label="Reposition markdown preview" value=""><template shadowrootmode="open" shadowrootdelegatesfocus><!----><button id="button" class="icon-button  standard " aria-label="Reposition markdown preview">
        <!--?lit$109918125$--><md-focus-ring part="focus-ring" for="button" aria-hidden="true"><template shadowrootmode="open"><!----></template></md-focus-ring>
        <!--?lit$109918125$--><md-ripple aria-hidden="true"><template shadowrootmode="open"><!----><div class="surface   "></div></template></md-ripple>
        <!--?lit$109918125$--><span class="icon"><slot></slot></span>
        <!--?lit$109918125$-->
        <!--?lit$109918125$--><span class="touch"></span>
        <!--?lit$109918125$-->
  </button></template>
    <!--?lit$109918125$--><md-icon aria-hidden="true"><template shadowrootmode="open"><!----><slot></slot></template><!--?lit$109918125$--><svg viewBox="0 0 24 24"><!--?lit$109918125$--><g id="markdown-preview-below">
  <rect width="20" height="18" x="2" y="2" rx="2" ry="2" style="fill:none;stroke:var(--colab-icon-color)"></rect>
  <line x1="4.5" y1="13" x2="19.5" y2="13" style="stroke:var(--colab-primary-text-color);stroke-dasharray:2"></line>
  <line x1="2.5" y1="4" x2="21.5" y2="4" style="stroke:var(--colab-icon-color);stroke-width:3px;"></line>
</g></svg></md-icon>
  </md-icon-button><!----><!--?--></div></div>
      <div class="editor-container horizontal">
        <div class="editor-root"><div class="editor flex monaco" data-keybinding-context="75" data-mode-id="markdown" style="height: 219px; --vscode-editorCodeLens-lineHeight: 16px; --vscode-editorCodeLens-fontSize: 12px; --vscode-editorCodeLens-fontFeatureSettings: &quot;liga&quot; off, &quot;calt&quot; off; display: none;"><div class="monaco-editor no-user-select  showUnused showDeprecated vs-dark" role="code" data-uri="inmemory://model/71" style="width: 421px; height: 219px;"><div data-mprt="3" class="overflow-guard" style="width: 421px; height: 219px; overflow: clip;"><div class="margin" role="presentation" aria-hidden="true" style="position: absolute; contain: strict; will-change: unset; top: 0px; height: 219px; width: 6px;"><div class="glyph-margin" style="left: 0px; width: 0px; height: 219px;"></div><div class="margin-view-zones" role="presentation" aria-hidden="true" style="position: absolute;"></div><div class="margin-view-overlays" role="presentation" aria-hidden="true" style="position: absolute; font-family: monospace, Consolas, &quot;Courier New&quot;, monospace; font-weight: normal; font-size: 14px; font-feature-settings: &quot;liga&quot; 0, &quot;calt&quot; 0; font-variation-settings: normal; line-height: 19px; letter-spacing: 0px; width: 6px; height: 219px;"><div style="position:absolute;top:0px;width:100%;height:19px;"><div class="current-line current-line-margin-both" style="width:6px; height:19px;"></div></div><div style="position:absolute;top:19px;width:100%;height:19px;"></div><div style="position:absolute;top:38px;width:100%;height:19px;"></div><div style="position:absolute;top:57px;width:100%;height:19px;"></div><div style="position:absolute;top:76px;width:100%;height:19px;"></div><div style="position:absolute;top:95px;width:100%;height:19px;"></div><div style="position:absolute;top:114px;width:100%;height:19px;"></div><div style="position:absolute;top:133px;width:100%;height:19px;"></div><div style="position:absolute;top:152px;width:100%;height:19px;"></div><div style="position:absolute;top:171px;width:100%;height:19px;"></div><div style="position:absolute;top:190px;width:100%;height:19px;"></div></div><div class="glyph-margin-widgets" style="position: absolute; top: 0px;"></div></div><div class="monaco-scrollable-element editor-scrollable vs-dark" role="presentation" data-mprt="5" style="position: absolute; overflow: hidden; left: 6px; width: 415px; height: 219px;"><div class="lines-content monaco-editor-background" style="position: absolute; overflow: hidden; width: 1e+06px; height: 219px; contain: strict; will-change: unset; top: 0px; left: 0px;"><div class="view-overlays" role="presentation" aria-hidden="true" style="position: absolute; font-family: monospace, Consolas, &quot;Courier New&quot;, monospace; font-weight: normal; font-size: 14px; font-feature-settings: &quot;liga&quot; 0, &quot;calt&quot; 0; font-variation-settings: normal; line-height: 19px; letter-spacing: 0px; height: 0px; width: 415px;"><div style="position:absolute;top:0px;width:100%;height:19px;"><div class="current-line" style="width:415px; height:19px;"></div></div><div style="position:absolute;top:19px;width:100%;height:19px;"></div><div style="position:absolute;top:38px;width:100%;height:19px;"></div><div style="position:absolute;top:57px;width:100%;height:19px;"></div><div style="position:absolute;top:76px;width:100%;height:19px;"></div><div style="position:absolute;top:95px;width:100%;height:19px;"></div><div style="position:absolute;top:114px;width:100%;height:19px;"></div><div style="position:absolute;top:133px;width:100%;height:19px;"></div><div style="position:absolute;top:152px;width:100%;height:19px;"></div><div style="position:absolute;top:171px;width:100%;height:19px;"></div><div style="position:absolute;top:190px;width:100%;height:19px;"></div></div><div role="presentation" aria-hidden="true" class="view-rulers"><div class="view-ruler" style="width: 2px; height: 219px; left: 615.938px;"></div></div><div class="view-zones" role="presentation" aria-hidden="true" style="position: absolute;"></div><div class="view-lines monaco-mouse-cursor-text" role="presentation" aria-hidden="true" data-mprt="7" style="position: absolute; font-family: monospace, Consolas, &quot;Courier New&quot;, monospace; font-weight: normal; font-size: 14px; font-feature-settings: &quot;liga&quot; 0, &quot;calt&quot; 0; font-variation-settings: normal; line-height: 19px; letter-spacing: 0px; width: 415px; height: 219px;"><div style="top:0px;height:19px;" class="view-line"><span><span class="mtk1">There's&nbsp;a&nbsp;lot&nbsp;more&nbsp;to&nbsp;learn&nbsp;and&nbsp;do&nbsp;with&nbsp;dlt&nbsp;and&nbsp;</span></span></div><div style="top:19px;height:19px;" class="view-line"><span><span class="mtk1">LanceDB,&nbsp;find&nbsp;more&nbsp;info&nbsp;the&nbsp;</span><span class="mtk5">[</span><span class="mtk1">dlt&nbsp;docs</span><span class="mtk5">](</span><span class="mtk5 detected-link">https://</span></span></div><div style="top:38px;height:19px;" class="view-line"><span><span class="mtk5 detected-link">dlthub.com/docs/</span><span class="mtk5">)</span><span class="mtk1">&nbsp;and&nbsp;the&nbsp;</span><span class="mtk5">[</span><span class="mtk1">LanceDB&nbsp;docs</span><span class="mtk5">](</span><span class="mtk5 detected-link">https://</span></span></div><div style="top:57px;height:19px;" class="view-line"><span><span class="mtk5 detected-link">lancedb.github.io/lancedb/</span><span class="mtk5">)</span></span></div><div style="top:76px;height:19px;" class="view-line"><span><span></span></span></div><div style="top:95px;height:19px;" class="view-line"><span><span class="mtk1">If&nbsp;you&nbsp;have&nbsp;questions&nbsp;about&nbsp;this&nbsp;workshop&nbsp;or&nbsp;dlt,&nbsp;</span></span></div><div style="top:114px;height:19px;" class="view-line"><span><span class="mtk1">feel&nbsp;free&nbsp;to&nbsp;join&nbsp;our&nbsp;</span><span class="mtk5">[</span><span class="mtk1">community&nbsp;on&nbsp;Slack</span><span class="mtk5">](</span><span class="mtk5 detected-link">https://</span></span></div><div style="top:133px;height:19px;" class="view-line"><span><span class="mtk5 detected-link">dlthub.com/community</span><span class="mtk5">)</span><span class="mtk1">.</span></span></div><div style="top:152px;height:19px;" class="view-line"><span><span></span></span></div><div style="top:171px;height:19px;" class="view-line"><span><span class="mtk1">If&nbsp;you're&nbsp;at&nbsp;EuroPython&nbsp;in&nbsp;Prague&nbsp;this&nbsp;week,&nbsp;come&nbsp;</span></span></div><div style="top:190px;height:19px;" class="view-line"><span><span class="mtk1">see&nbsp;us&nbsp;at&nbsp;our&nbsp;booth!</span></span></div></div><div data-mprt="1" class="contentWidgets" style="position: absolute; top: 0px;"></div><div role="presentation" aria-hidden="true" class="cursors-layer cursor-line-style cursor-solid"><div class="cursor monaco-mouse-cursor-text " style="height: 19px; top: 0px; left: 0px; font-family: monospace, Consolas, &quot;Courier New&quot;, monospace; font-weight: normal; font-size: 14px; font-feature-settings: &quot;liga&quot; 0, &quot;calt&quot; 0; font-variation-settings: normal; line-height: 19px; letter-spacing: 0px; display: block; visibility: hidden; padding-left: 0px; width: 2px;"></div></div></div><div role="presentation" aria-hidden="true" class="invisible scrollbar horizontal" style="position: absolute; width: 401px; height: 10px; left: 0px; bottom: 0px;"><div class="slider" style="position: absolute; top: 0px; left: 0px; height: 10px; transform: translate3d(0px, 0px, 0px); contain: strict; will-change: unset; width: 401px;"></div></div><canvas class="decorationsOverviewRuler" aria-hidden="true" width="14" height="219" style="position: absolute; transform: translate3d(0px, 0px, 0px); contain: strict; top: 0px; right: 0px; width: 14px; height: 219px; will-change: unset; display: block;"></canvas><div role="presentation" aria-hidden="true" class="invisible scrollbar vertical" style="position: absolute; width: 14px; height: 219px; right: 0px; top: 0px;"><div class="slider" style="position: absolute; top: 0px; left: 0px; width: 14px; transform: translate3d(0px, 0px, 0px); contain: strict; will-change: unset; height: 219px;"></div></div></div><div role="presentation" aria-hidden="true" style="width: 421px;"></div><textarea data-mprt="6" class="inputarea monaco-mouse-cursor-text" wrap="on" autocorrect="off" autocapitalize="off" autocomplete="off" spellcheck="false" aria-label="Editor content;Press Alt+F1 for Accessibility Options." tabindex="0" role="textbox" aria-roledescription="editor" aria-multiline="true" aria-haspopup="false" aria-autocomplete="both" style="tab-size: 15.3984px; font-family: monospace, Consolas, &quot;Courier New&quot;, monospace; font-weight: normal; font-size: 14px; font-feature-settings: &quot;liga&quot; 0, &quot;calt&quot; 0; font-variation-settings: normal; line-height: 19px; letter-spacing: 0px; top: 0px; left: 6px; width: 393px; height: 1px;"></textarea><div style="position: absolute; top: 0px; left: 0px; width: 0px; height: 0px;" class="monaco-editor-background textAreaCover"></div><div data-mprt="4" class="overlayWidgets" style="width: 421px;"></div><div data-mprt="8" class="minimap slider-mouseover" role="presentation" aria-hidden="true" style="position: absolute; left: 0px; width: 0px; height: 219px;"><div class="minimap-shadow-hidden" style="height: 219px;"></div><canvas width="0" height="219" style="position: absolute; left: 0px; width: 0px; height: 219px;"></canvas><canvas class="minimap-decorations-layer" width="0" height="219" style="position: absolute; left: 0px; width: 0px; height: 219px;"></canvas><div class="minimap-slider" style="position: absolute; transform: translate3d(0px, 0px, 0px); contain: strict; width: 0px; will-change: unset;"><div class="minimap-slider-horizontal" style="position: absolute; width: 0px; height: 0px;"></div></div></div><div role="presentation" aria-hidden="true" class="blockDecorations-container"></div></div><div data-mprt="2" class="overflowingContentWidgets" style="display: none;"></div><div class=".in-cell-overflowing"><div widgetid="editor.contrib.quickInputWidget" style="position: absolute; top: 0px; right: 50%;"></div></div></div></div></div>
        <div class="text-top-div">
          <div class="markdown"><span><p>There's a lot more to learn and do with dlt and LanceDB, find more info the <a href="https://www.google.com/url?q=https%3A%2F%2Fdlthub.com%2Fdocs%2F" target="_blank" rel="nofollow" aria-label="dlt docs Link will open in a new tab">dlt docs</a> and the <a href="https://www.google.com/url?q=https%3A%2F%2Flancedb.github.io%2Flancedb%2F" target="_blank" rel="nofollow" aria-label="LanceDB docs Link will open in a new tab">LanceDB docs</a></p>
<p>If you have questions about this workshop or dlt, feel free to join our <a href="https://www.google.com/url?q=https%3A%2F%2Fdlthub.com%2Fcommunity" target="_blank" rel="nofollow" aria-label="community on Slack Link will open in a new tab">community on Slack</a>.</p>
<p>If you're at EuroPython in Prague this week, come see us at our booth!</p>
</span></div>
        </div>
      </div>

      <div class="section-header" style="display: none;">
        <colab-run-button role="button" aria-label="Run cell"><template shadowrootmode="open"><!----> <div class="cell-execution">
      <div class="execution-count"><!--?lit$109918125$-->[ ]</div>
      <div class="cell-execution-indicator"> <!--?lit$109918125$-->
<svg xmlns="http://www.w3.org/2000/svg" viewBox="0 0 24 24">
  <!--?lit$109918125$-->
  <mask id="playSymbolMask">
    <rect width="100%" height="100%" fill="white"></rect>
    <polygon points="10,8 17,12 10,16" fill="black"></polygon>
  </mask>
  <circle cx="12" cy="12" r="7.8" mask="url(#playSymbolMask)" id="filledCircle"></circle>
</svg> </div>
      <!--?lit$109918125$--><!--?-->
    </div></template></colab-run-button>
        <div class="section-header-container" title="click to expand">↳ 0 cells hidden</div>
      </div></div></div><div class="add-cell">
      <div class="add-cell-buttons">
        <md-outlined-button class="add-code add-button" data-aria-label="Add code cell
Ctrl+M B" title="Add code cell
Ctrl+M B" value="" has-icon=""><template shadowrootmode="open" shadowrootdelegatesfocus><!---->
      <!--?lit$109918125$--><div class="outline"></div>
      <div class="background"></div>
      <md-focus-ring part="focus-ring" for="button" aria-hidden="true"><template shadowrootmode="open"><!----></template></md-focus-ring>
      <md-ripple part="ripple" for="button" aria-hidden="true"><template shadowrootmode="open"><!----><div class="surface   "></div></template></md-ripple>
      <!--?lit$109918125$--><button id="button" class="button" aria-label="Add code cell
Ctrl+M B">
      <!--?lit$109918125$-->
      <span class="touch"></span>
      <!--?lit$109918125$--><slot name="icon"></slot>
      <span class="label"><slot></slot></span>
      <!--?lit$109918125$-->
    
    </button>
    </template>
          <md-icon slot="icon" aria-hidden="true"><template shadowrootmode="open"><!----><slot></slot></template>add</md-icon>
          <!--?lit$109918125$-->Code
        </md-outlined-button>
        <md-outlined-button class="add-text add-button" data-aria-label="Add text cell" title="Add text cell" value="" has-icon=""><template shadowrootmode="open" shadowrootdelegatesfocus><!---->
      <!--?lit$109918125$--><div class="outline"></div>
      <div class="background"></div>
      <md-focus-ring part="focus-ring" for="button" aria-hidden="true"><template shadowrootmode="open"><!----></template></md-focus-ring>
      <md-ripple part="ripple" for="button" aria-hidden="true"><template shadowrootmode="open"><!----><div class="surface   "></div></template></md-ripple>
      <!--?lit$109918125$--><button id="button" class="button" aria-label="Add text cell">
      <!--?lit$109918125$-->
      <span class="touch"></span>
      <!--?lit$109918125$--><slot name="icon"></slot>
      <span class="label"><slot></slot></span>
      <!--?lit$109918125$-->
    
    </button>
    </template>
          <md-icon slot="icon" aria-hidden="true"><template shadowrootmode="open"><!----><slot></slot></template>add</md-icon>
          <!--?lit$109918125$-->Text
        </md-outlined-button>
        <!--?lit$109918125$-->
      </div><hr>
    </div></div></div>
              </div>
            </div>
          <section class="sidebar" aria-label="Comments" style="display: none;"></section></div>
          <!--?lit$109918125$--> <div class="footer-links">
      <a target="_blank" href="https://colab.research.google.com/signup?utm_source=footer&amp;utm_medium=link&amp;utm_campaign=footer_links">
        <!--?lit$109918125$-->Colab paid products
      </a>
      -
      <a href="https://colab.research.google.com/cancel-subscription" target="_blank">
        <!--?lit$109918125$-->Cancel contracts here
      </a>
    </div>
        </div>
      </colab-shaded-scroller>
      <div class="notebook-scroll-shadow" style="box-shadow: rgba(0, 0, 0, 0.15) 0px 4px 4px -2px inset;"></div>
    </div></colab-tab></div>
  </div></colab-tab-pane>
      <colab-resizer style="height: 33.3%" class="sn-resize no-tabs"><div class="resizer-thumb"></div>
        <!--?lit$109918125$--><colab-tab-pane class="layout vertical grow no-tabs" align="horizontal"><!----> <div class="layout vertical grow">
    <div class="tab-pane-header layout horizontal noshrink">
      <md-tabs><template shadowrootmode="open"><!---->
      <div class="tabs">
        <slot></slot>
      </div>
      <md-divider part="divider"><template shadowrootmode="open"><!----></template></md-divider>
    </template></md-tabs>
      <div class="layout grow"></div>
      <!--?lit$109918125$--> <md-icon-button title="Show more" data-aria-label="Show more" value=""><template shadowrootmode="open" shadowrootdelegatesfocus><!----><button id="button" class="icon-button  standard " aria-label="Show more">
        <!--?lit$109918125$--><md-focus-ring part="focus-ring" for="button" aria-hidden="true"><template shadowrootmode="open"><!----></template></md-focus-ring>
        <!--?lit$109918125$--><md-ripple aria-hidden="true"><template shadowrootmode="open"><!----><div class="surface   "></div></template></md-ripple>
        <!--?lit$109918125$--><span class="icon"><slot></slot></span>
        <!--?lit$109918125$-->
        <!--?lit$109918125$--><span class="touch"></span>
        <!--?lit$109918125$-->
  </button></template>
    <md-icon aria-hidden="true"><template shadowrootmode="open"><!----><slot></slot></template>more_horiz</md-icon>
  </md-icon-button>
    </div>
    <div class="layout vertical grow tab-pane-container"> </div>
  </div></colab-tab-pane>
      </colab-resizer>
    </div>
      <colab-resizer style="width: 37%" class="we-resize no-tabs"><div class="resizer-thumb"></div>
        <!--?lit$109918125$--> <div class="layout vertical tab-pane-parent">
      <!--?lit$109918125$--><colab-tab-pane class="layout vertical grow no-tabs" align="horizontal"><!----> <div class="layout vertical grow">
    <div class="tab-pane-header layout horizontal noshrink">
      <md-tabs><template shadowrootmode="open"><!---->
      <div class="tabs">
        <slot></slot>
      </div>
      <md-divider part="divider"><template shadowrootmode="open"><!----></template></md-divider>
    </template></md-tabs>
      <div class="layout grow"></div>
      <!--?lit$109918125$--> <md-icon-button title="Show more" data-aria-label="Show more" value=""><template shadowrootmode="open" shadowrootdelegatesfocus><!----><button id="button" class="icon-button  standard " aria-label="Show more">
        <!--?lit$109918125$--><md-focus-ring part="focus-ring" for="button" aria-hidden="true"><template shadowrootmode="open"><!----></template></md-focus-ring>
        <!--?lit$109918125$--><md-ripple aria-hidden="true"><template shadowrootmode="open"><!----><div class="surface   "></div></template></md-ripple>
        <!--?lit$109918125$--><span class="icon"><slot></slot></span>
        <!--?lit$109918125$-->
        <!--?lit$109918125$--><span class="touch"></span>
        <!--?lit$109918125$-->
  </button></template>
    <md-icon aria-hidden="true"><template shadowrootmode="open"><!----><slot></slot></template>more_horiz</md-icon>
  </md-icon-button>
    </div>
    <div class="layout vertical grow tab-pane-container"> </div>
  </div></colab-tab-pane>
      <colab-resizer style="height: 33.3%" class="sn-resize no-tabs"><div class="resizer-thumb"></div>
        <!--?lit$109918125$--><colab-tab-pane class="layout vertical grow no-tabs" align="horizontal"><!----> <div class="layout vertical grow">
    <div class="tab-pane-header layout horizontal noshrink">
      <md-tabs><template shadowrootmode="open"><!---->
      <div class="tabs">
        <slot></slot>
      </div>
      <md-divider part="divider"><template shadowrootmode="open"><!----></template></md-divider>
    </template></md-tabs>
      <div class="layout grow"></div>
      <!--?lit$109918125$--> <md-icon-button title="Show more" data-aria-label="Show more" value=""><template shadowrootmode="open" shadowrootdelegatesfocus><!----><button id="button" class="icon-button  standard " aria-label="Show more">
        <!--?lit$109918125$--><md-focus-ring part="focus-ring" for="button" aria-hidden="true"><template shadowrootmode="open"><!----></template></md-focus-ring>
        <!--?lit$109918125$--><md-ripple aria-hidden="true"><template shadowrootmode="open"><!----><div class="surface   "></div></template></md-ripple>
        <!--?lit$109918125$--><span class="icon"><slot></slot></span>
        <!--?lit$109918125$-->
        <!--?lit$109918125$--><span class="touch"></span>
        <!--?lit$109918125$-->
  </button></template>
    <md-icon aria-hidden="true"><template shadowrootmode="open"><!----><slot></slot></template>more_horiz</md-icon>
  </md-icon-button>
    </div>
    <div class="layout vertical grow tab-pane-container"> </div>
  </div></colab-tab-pane>
      </colab-resizer>
    </div>
      </colab-resizer>
    </div></colab-tab-layout-container>
        </div>
        <div class="proxies"><div><colab-dom-lifecycle-events style="display: none;"></colab-dom-lifecycle-events><iframe allow="" sandbox="allow-downloads allow-forms allow-pointer-lock allow-popups allow-same-origin allow-scripts allow-storage-access-by-user-activation allow-popups-to-escape-sandbox" src="./LLM_zoomcamp_RAG_files/outputframe(5).html" style="width: 1px; height: 1px; position: absolute; top: -100px;"></iframe></div><div><colab-dom-lifecycle-events style="display: none;"></colab-dom-lifecycle-events><iframe allow="accelerometer; autoplay; gyroscope; magnetometer; xr-spatial-tracking; clipboard-write; camera; microphone; serial; usb" sandbox="allow-downloads allow-forms allow-pointer-lock allow-popups allow-same-origin allow-scripts allow-storage-access-by-user-activation allow-modals allow-popups-to-escape-sandbox" src="./LLM_zoomcamp_RAG_files/outputframe(6).html" style="width: 1px; height: 1px; position: absolute; top: -100px;"></iframe></div></div>
      <colab-file-viewer-manager></colab-file-viewer-manager></div>
    <colab-status-bar role="region" aria-label="Runtime status bar" style="min-height: inherit;"><template shadowrootmode="open"><!----> <!--?lit$109918125$--> <div class="connect-status">
        <md-icon status="icon-warning" aria-hidden="true"><template shadowrootmode="open"><!----><slot></slot></template><!--?lit$109918125$-->more_horiz</md-icon>
        <div aria-atomic="true" aria-live="polite"><!--?lit$109918125$-->Waiting to finish the current execution.</div>
      </div>
      <md-icon-button class="visible-on-closed" title="Connecting" disabled="" value="" data-aria-label="Connecting"><template shadowrootmode="open" shadowrootdelegatesfocus><!----><button id="button" class="icon-button  standard " aria-label="Connecting" disabled="">
        <!--?lit$109918125$--><md-focus-ring part="focus-ring" for="button" aria-hidden="true"><template shadowrootmode="open"><!----></template></md-focus-ring>
        <!--?lit$109918125$--><md-ripple disabled="" aria-hidden="true"><template shadowrootmode="open"><!----><div class="surface   "></div></template></md-ripple>
        <!--?lit$109918125$--><span class="icon"><slot></slot></span>
        <!--?lit$109918125$-->
        <!--?lit$109918125$--><span class="touch"></span>
        <!--?lit$109918125$-->
  </button></template>
        <md-icon filled="" class="visible-on-closed" status="icon-warning" aria-hidden="true"><template shadowrootmode="open"><!----><slot></slot></template><!--?lit$109918125$-->fiber_manual_record</md-icon>
      </md-icon-button>
      <md-icon-button title="Close" data-aria-label="Close" value=""><template shadowrootmode="open" shadowrootdelegatesfocus><!----><button id="button" class="icon-button  standard " aria-label="Close">
        <!--?lit$109918125$--><md-focus-ring part="focus-ring" for="button" aria-hidden="true"><template shadowrootmode="open"><!----></template></md-focus-ring>
        <!--?lit$109918125$--><md-ripple aria-hidden="true"><template shadowrootmode="open"><!----><div class="surface   "></div></template></md-ripple>
        <!--?lit$109918125$--><span class="icon"><slot></slot></span>
        <!--?lit$109918125$-->
        <!--?lit$109918125$--><span class="touch"></span>
        <!--?lit$109918125$-->
  </button></template>
        <md-icon aria-hidden="true"><template shadowrootmode="open"><!----><slot></slot></template>close</md-icon>
      </md-icon-button></template></colab-status-bar></div><div class="goog-menu colab-styled-scroller" id="file-menu" role="menu" aria-haspopup="true" style="user-select: none; max-height: 572px; visibility: visible; left: 64px; top: 62px; display: none;"><!--?lit$109918125$--><div command="locate-in-drive" class="goog-menuitem" role="menuitem" id=":2" style="user-select: none;"><div class="goog-menuitem-content" style="user-select: none;"><!--?lit$109918125$-->Locate in Drive<!--?lit$109918125$--></div></div><div command="open-in-playground" class="goog-menuitem" role="menuitem" id=":3" style="user-select: none;"><div class="goog-menuitem-content" style="user-select: none;"><!--?lit$109918125$-->Open in playground mode<!--?lit$109918125$--></div></div><div class="goog-menuseparator goog-menuitem-disabled" aria-disabled="true" role="separator" id=":4" style="user-select: none;"></div><div command="new" class="goog-menuitem" role="menuitem" id=":5" style="user-select: none;"><div class="goog-menuitem-content" style="user-select: none;"><!--?lit$109918125$-->New notebook in Drive<!--?lit$109918125$--></div></div><div command="open" class="goog-menuitem" role="menuitem" id=":6" style="user-select: none;"><div class="goog-menuitem-content" style="user-select: none;"><!--?lit$109918125$-->Open notebook<!--?lit$109918125$--><span class="goog-menuitem-accel">Ctrl+O</span></div></div><div command="import-notebook" class="goog-menuitem" role="menuitem" id=":7" style="user-select: none;"><div class="goog-menuitem-content" style="user-select: none;"><!--?lit$109918125$-->Upload notebook<!--?lit$109918125$--></div></div><div class="goog-menuseparator goog-menuitem-disabled" aria-disabled="true" role="separator" id=":8" style="user-select: none;"></div><div command="rename" class="goog-menuitem" role="menuitem" id=":9" style="user-select: none;"><div class="goog-menuitem-content" style="user-select: none;"><!--?lit$109918125$-->Rename<!--?lit$109918125$--></div></div><div command="move-notebook" class="goog-menuitem" role="menuitem" id=":a" style="user-select: none;"><div class="goog-menuitem-content" style="user-select: none;"><!--?lit$109918125$-->Move<!--?lit$109918125$--></div></div><div command="trash" class="goog-menuitem" role="menuitem" id=":b" style="user-select: none;"><div class="goog-menuitem-content" style="user-select: none;"><!--?lit$109918125$-->Move to the bin<!--?lit$109918125$--></div></div><div class="goog-menuseparator goog-menuitem-disabled" aria-disabled="true" role="separator" id=":c" style="user-select: none;"></div><div command="clone" class="goog-menuitem" role="menuitem" id=":d" style="user-select: none;"><div class="goog-menuitem-content" style="user-select: none;"><!--?lit$109918125$-->Save a copy in Drive<!--?lit$109918125$--></div></div><div command="copy-to-gist" class="goog-menuitem " role="menuitem" id=":e" style="user-select: none;"><div class="goog-menuitem-content" style="user-select: none;"><!--?lit$109918125$-->Save a copy as a GitHub Gist<!--?lit$109918125$--></div></div><div command="copy-to-github" class="goog-menuitem " role="menuitem" id=":f" style="user-select: none;"><div class="goog-menuitem-content" style="user-select: none;"><!--?lit$109918125$-->Save a copy in GitHub<!--?lit$109918125$--></div></div><div class="goog-menuseparator goog-menuitem-disabled" aria-disabled="true" role="separator" id=":g" style="user-select: none;"></div><div command="save" class="goog-menuitem " role="menuitem" id=":h" style="user-select: none;"><div class="goog-menuitem-content" style="user-select: none;"><!--?lit$109918125$-->Save<!--?lit$109918125$--><span class="goog-menuitem-accel">Ctrl+S</span></div></div><div command="save-and-checkpoint" class="goog-menuitem " role="menuitem" id=":i" style="user-select: none;"><div class="goog-menuitem-content" style="user-select: none;"><!--?lit$109918125$-->Save and pin revision<!--?lit$109918125$--><span class="goog-menuitem-accel">Ctrl+M S</span></div></div><div command="show-history" class="goog-menuitem " role="menuitem" id=":j" style="user-select: none;"><div class="goog-menuitem-content" style="user-select: none;"><!--?lit$109918125$-->Revision history<!--?lit$109918125$--></div></div><div class="goog-menuseparator goog-menuitem-disabled" aria-disabled="true" role="separator" id=":k" style="user-select: none;"></div><div class="goog-submenu goog-menuitem" id="download-submenu-menu-button" role="menuitem" aria-haspopup="true" style="user-select: none;"><div class="goog-menuitem-content" style="user-select: none;">
      <!--?lit$109918125$-->Download
    <span class="goog-submenu-arrow" style="user-select: none;">►</span></div></div><div command="print" class="goog-menuitem " role="menuitem" id=":o" style="user-select: none;"><div class="goog-menuitem-content" style="user-select: none;"><!--?lit$109918125$-->Print<!--?lit$109918125$--><span class="goog-menuitem-accel">Ctrl+P</span></div></div></div><div class="goog-menu" id="download-submenu-menu" role="menu" aria-haspopup="true" style="display: none; user-select: none;"><!--?lit$109918125$--><div command="download-ipynb" class="goog-menuitem " role="menuitem" id=":m" style="user-select: none;"><div class="goog-menuitem-content" style="user-select: none;"><!--?lit$109918125$-->Download .ipynb<!--?lit$109918125$--></div></div><div command="download-python" class="goog-menuitem " role="menuitem" id=":n" style="user-select: none;"><div class="goog-menuitem-content" style="user-select: none;"><!--?lit$109918125$-->Download .py<!--?lit$109918125$--></div></div></div><div class="goog-menu" id="edit-menu" role="menu" aria-haspopup="true" style="display: none; user-select: none;"><!--?lit$109918125$--><div command="undo" class="goog-menuitem " role="menuitem" id=":q" style="user-select: none;"><div class="goog-menuitem-content" style="user-select: none;"><!--?lit$109918125$-->Undo<!--?lit$109918125$--></div></div><div command="redo" class="goog-menuitem " role="menuitem" id=":r" style="user-select: none;"><div class="goog-menuitem-content" style="user-select: none;"><!--?lit$109918125$-->Redo<!--?lit$109918125$--></div></div><div class="goog-menuseparator goog-menuitem-disabled" aria-disabled="true" role="separator" id=":s" style="user-select: none;"></div><div command="select-all" class="goog-menuitem " role="menuitem" id=":t" style="user-select: none;"><div class="goog-menuitem-content" style="user-select: none;"><!--?lit$109918125$-->Select all cells<!--?lit$109918125$--></div></div><div command="cut" class="goog-menuitem " role="menuitem" id=":u" style="user-select: none;"><div class="goog-menuitem-content" style="user-select: none;"><!--?lit$109918125$-->Cut cell or selection<!--?lit$109918125$--></div></div><div command="copy" class="goog-menuitem " role="menuitem" id=":v" style="user-select: none;"><div class="goog-menuitem-content" style="user-select: none;"><!--?lit$109918125$-->Copy cell or selection<!--?lit$109918125$--></div></div><div command="paste" class="goog-menuitem " role="menuitem" id=":w" style="user-select: none;"><div class="goog-menuitem-content" style="user-select: none;"><!--?lit$109918125$-->Paste<!--?lit$109918125$--></div></div><div command="delete-cell-or-selection" class="goog-menuitem " role="menuitem" id=":x" style="user-select: none;"><div class="goog-menuitem-content" style="user-select: none;"><!--?lit$109918125$-->Delete selected cells<!--?lit$109918125$--></div></div><div class="goog-menuseparator goog-menuitem-disabled" aria-disabled="true" role="separator" id=":y" style="user-select: none;"></div><div command="find" class="goog-menuitem " role="menuitem" id=":z" style="user-select: none;"><div class="goog-menuitem-content" style="user-select: none;"><!--?lit$109918125$-->Find and replace<!--?lit$109918125$--></div></div><div command="find-next" class="goog-menuitem " role="menuitem" id=":10" style="user-select: none;"><div class="goog-menuitem-content" style="user-select: none;"><!--?lit$109918125$-->Find next<!--?lit$109918125$--></div></div><div command="find-previous" class="goog-menuitem " role="menuitem" id=":11" style="user-select: none;"><div class="goog-menuitem-content" style="user-select: none;"><!--?lit$109918125$-->Find previous<!--?lit$109918125$--></div></div><div class="goog-menuseparator goog-menuitem-disabled" aria-disabled="true" role="separator" id=":12" style="user-select: none;"></div><div command="notebook-settings" class="goog-menuitem " role="menuitem" id=":13" style="user-select: none;"><div class="goog-menuitem-content" style="user-select: none;"><!--?lit$109918125$-->Notebook settings<!--?lit$109918125$--></div></div><div class="goog-menuseparator goog-menuitem-disabled" aria-disabled="true" role="separator" id=":14" style="user-select: none;"></div><div command="clear-outputs" class="goog-menuitem " role="menuitem" id=":15" style="user-select: none;"><div class="goog-menuitem-content" style="user-select: none;"><!--?lit$109918125$-->Clear all outputs<!--?lit$109918125$--></div></div></div><div class="goog-menu colab-styled-scroller" id="view-menu" role="menu" aria-haspopup="true" style="user-select: none; max-height: 572px; visibility: visible; left: 137.656px; top: 62px; display: none;"><!--?lit$109918125$--><div command="show-toc-pane" class="goog-menuitem goog-option" role="menuitemcheckbox" aria-checked="false" id=":17" style="user-select: none;"><div class="goog-menuitem-content" style="user-select: none;"><div class="goog-menuitem-checkbox" style="user-select: none;"><!----><md-icon aria-hidden="true"><template shadowrootmode="open"><!----><slot></slot></template>check</md-icon> </div><!--?lit$109918125$-->Table of contents<!--?lit$109918125$--></div></div><div command="show-fileinfo" class="goog-menuitem " role="menuitem" id=":18" style="user-select: none;"><div class="goog-menuitem-content" style="user-select: none;"><!--?lit$109918125$-->Notebook info<!--?lit$109918125$--></div></div><div command="show-executedcode" class="goog-menuitem " role="menuitem" id=":19" style="user-select: none;"><div class="goog-menuitem-content" style="user-select: none;"><!--?lit$109918125$-->Executed code history<!--?lit$109918125$--></div></div><div command="toggle-comments-visibility" class="goog-menuitem goog-option goog-option-selected" role="menuitemcheckbox" aria-checked="true" id=":1a" style="user-select: none;"><div class="goog-menuitem-content" style="user-select: none;"><div class="goog-menuitem-checkbox" style="user-select: none;"><!----><md-icon aria-hidden="true"><template shadowrootmode="open"><!----><slot></slot></template>check</md-icon> </div><!--?lit$109918125$-->Comments sidebar<!--?lit$109918125$--></div></div><div class="goog-menuseparator goog-menuitem-disabled" aria-disabled="true" role="separator" id=":1b" style="user-select: none;"></div><div command="collapse-sections" class="goog-menuitem goog-menuitem-disabled" role="menuitem" id=":1c" style="user-select: none;" aria-disabled="true"><div class="goog-menuitem-content" style="user-select: none;"><!--?lit$109918125$-->Collapse sections<!--?lit$109918125$--><span class="goog-menuitem-accel">Ctrl+]</span></div></div><div command="expand-sections" class="goog-menuitem goog-menuitem-disabled" role="menuitem" id=":1d" style="user-select: none;" aria-disabled="true"><div class="goog-menuitem-content" style="user-select: none;"><!--?lit$109918125$-->Expand sections<!--?lit$109918125$--><span class="goog-menuitem-accel">Ctrl+[</span></div></div><div command="save-section-layout" class="goog-menuitem " role="menuitem" id=":1e" style="user-select: none; display: none;"><div class="goog-menuitem-content" style="user-select: none;"><!--?lit$109918125$-->Save collapsed section layout<!--?lit$109918125$--></div></div><div class="goog-menuseparator goog-menuitem-disabled" aria-disabled="true" role="separator" id=":1f" style="user-select: none;"></div><div command="hide-code" class="goog-menuitem " role="menuitem" id=":1g" style="user-select: none;"><div class="goog-menuitem-content" style="user-select: none;"><!--?lit$109918125$-->Show/hide code<!--?lit$109918125$--></div></div><div command="toggle-output" class="goog-menuitem " role="menuitem" id=":1h" style="user-select: none;"><div class="goog-menuitem-content" style="user-select: none;"><!--?lit$109918125$-->Show/hide output<!--?lit$109918125$--><span class="goog-menuitem-accel">Ctrl+M O</span></div></div><div class="goog-menuseparator goog-menuitem-disabled" aria-disabled="true" role="separator" id=":1i" style="user-select: none;"></div><div command="focus-next-tab" class="goog-menuitem goog-menuitem-disabled" role="menuitem" id=":1j" style="user-select: none;" aria-disabled="true"><div class="goog-menuitem-content" style="user-select: none;"><!--?lit$109918125$-->Focus next tab<!--?lit$109918125$--><span class="goog-menuitem-accel">Ctrl+Shift+]</span></div></div><div command="focus-previous-tab" class="goog-menuitem goog-menuitem-disabled" role="menuitem" id=":1k" style="user-select: none;" aria-disabled="true"><div class="goog-menuitem-content" style="user-select: none;"><!--?lit$109918125$-->Focus previous tab<!--?lit$109918125$--><span class="goog-menuitem-accel">Ctrl+Shift+[</span></div></div><div command="move-tab-to-next" class="goog-menuitem goog-menuitem-disabled" role="menuitem" id=":1l" style="user-select: none;" aria-disabled="true"><div class="goog-menuitem-content" style="user-select: none;"><!--?lit$109918125$-->Move tab to next pane<!--?lit$109918125$--></div></div><div command="move-tab-to-prev" class="goog-menuitem goog-menuitem-disabled" role="menuitem" id=":1m" style="user-select: none;" aria-disabled="true"><div class="goog-menuitem-content" style="user-select: none;"><!--?lit$109918125$-->Move tab to previous pane<!--?lit$109918125$--></div></div></div><div class="goog-menu" id="insert-menu" role="menu" aria-haspopup="true" style="display: none; user-select: none;"><!--?lit$109918125$--><div command="insert-cell-below" class="goog-menuitem " role="menuitem" id=":1o" style="user-select: none;"><div class="goog-menuitem-content" style="user-select: none;"><!--?lit$109918125$-->Code cell<!--?lit$109918125$--></div></div><div command="add-text" class="goog-menuitem " role="menuitem" id=":1p" style="user-select: none;"><div class="goog-menuitem-content" style="user-select: none;"><!--?lit$109918125$-->Text cell<!--?lit$109918125$--></div></div><div command="add-section-header" class="goog-menuitem " role="menuitem" id=":1q" style="user-select: none;"><div class="goog-menuitem-content" style="user-select: none;"><!--?lit$109918125$-->Section header cell<!--?lit$109918125$--></div></div><div class="goog-menuseparator goog-menuitem-disabled" aria-disabled="true" role="separator" id=":1r" style="user-select: none;"></div><div command="open-scratch-code-cell" class="goog-menuitem " role="menuitem" id=":1s" style="user-select: none;"><div class="goog-menuitem-content" style="user-select: none;"><!--?lit$109918125$-->Scratch code cell<!--?lit$109918125$--></div></div><div command="snippets" class="goog-menuitem " role="menuitem" id=":1t" style="user-select: none;"><div class="goog-menuitem-content" style="user-select: none;"><!--?lit$109918125$-->Code snippets<!--?lit$109918125$--></div></div><div class="goog-menuseparator goog-menuitem-disabled" aria-disabled="true" role="separator" id=":1u" style="user-select: none;"></div><div command="add-form-field" class="goog-menuitem " role="menuitem" id=":1v" style="user-select: none;"><div class="goog-menuitem-content" style="user-select: none;"><!--?lit$109918125$-->Add a form field<!--?lit$109918125$--></div></div></div><div class="goog-menu" id="runtime-menu" role="menu" aria-haspopup="true" style="display: none; user-select: none;"><!--?lit$109918125$--><div command="runall" class="goog-menuitem " role="menuitem" id=":1x" style="user-select: none;"><div class="goog-menuitem-content" style="user-select: none;"><!--?lit$109918125$-->Run all<!--?lit$109918125$--></div></div><div command="runbefore" class="goog-menuitem " role="menuitem" id=":1y" style="user-select: none;"><div class="goog-menuitem-content" style="user-select: none;"><!--?lit$109918125$-->Run before<!--?lit$109918125$--></div></div><div command="runfocused" class="goog-menuitem " role="menuitem" id=":1z" style="user-select: none;"><div class="goog-menuitem-content" style="user-select: none;"><!--?lit$109918125$-->Run the focused cell<!--?lit$109918125$--></div></div><div command="runselected" class="goog-menuitem " role="menuitem" id=":20" style="user-select: none;"><div class="goog-menuitem-content" style="user-select: none;"><!--?lit$109918125$-->Run selection<!--?lit$109918125$--></div></div><div command="runafter" class="goog-menuitem " role="menuitem" id=":21" style="user-select: none;"><div class="goog-menuitem-content" style="user-select: none;"><!--?lit$109918125$-->Run after<!--?lit$109918125$--></div></div><div class="goog-menuseparator goog-menuitem-disabled" aria-disabled="true" role="separator" id=":22" style="user-select: none;"></div><div command="interrupt" class="goog-menuitem " role="menuitem" id=":23" style="user-select: none;"><div class="goog-menuitem-content" style="user-select: none;"><!--?lit$109918125$-->Interrupt execution<!--?lit$109918125$--></div></div><div command="restart" class="goog-menuitem " role="menuitem" id=":24" style="user-select: none;"><div class="goog-menuitem-content" style="user-select: none;"><!--?lit$109918125$-->Restart session<!--?lit$109918125$--></div></div><div command="restart-and-run-all" class="goog-menuitem " role="menuitem" id=":25" style="user-select: none;"><div class="goog-menuitem-content" style="user-select: none;"><!--?lit$109918125$-->Restart session and run all<!--?lit$109918125$--></div></div><div command="powerwash-current-vm" class="goog-menuitem " role="menuitem" id=":26" style="user-select: none;"><div class="goog-menuitem-content" style="user-select: none;"><!--?lit$109918125$-->Disconnect and delete runtime<!--?lit$109918125$--></div></div><div class="goog-menuseparator goog-menuitem-disabled" aria-disabled="true" role="separator" id=":27" style="user-select: none;"></div><div command="change-runtime-type" class="goog-menuitem " role="menuitem" id=":28" style="user-select: none;"><div class="goog-menuitem-content" style="user-select: none;"><!--?lit$109918125$-->Change runtime type<!--?lit$109918125$--></div></div><div class="goog-menuseparator goog-menuitem-disabled" aria-disabled="true" role="separator" id=":29" style="user-select: none;"></div><div command="manage-sessions" class="goog-menuitem " role="menuitem" id=":2a" style="user-select: none;"><div class="goog-menuitem-content" style="user-select: none;"><!--?lit$109918125$-->Manage sessions<!--?lit$109918125$--></div></div><div command="open-resource-viewer" class="goog-menuitem " role="menuitem" id=":2b" style="user-select: none;"><div class="goog-menuitem-content" style="user-select: none;"><!--?lit$109918125$-->View resources<!--?lit$109918125$--></div></div><div command="view-runtime-logs" class="goog-menuitem " role="menuitem" id=":2c" style="user-select: none;"><div class="goog-menuitem-content" style="user-select: none;"><!--?lit$109918125$-->View runtime logs<!--?lit$109918125$--></div></div></div><div class="goog-menu" id="tools-menu" role="menu" aria-haspopup="true" style="display: none; user-select: none;"><!--?lit$109918125$--><div command="show-command-palette" class="goog-menuitem " role="menuitem" id=":2e" style="user-select: none;"><div class="goog-menuitem-content" style="user-select: none;"><!--?lit$109918125$-->Command palette<!--?lit$109918125$--></div></div><div class="goog-menuseparator goog-menuitem-disabled" aria-disabled="true" role="separator" id=":2f" style="user-select: none;"></div><div command="preferences" class="goog-menuitem " role="menuitem" id=":2g" style="user-select: none;"><div class="goog-menuitem-content" style="user-select: none;"><!--?lit$109918125$-->Settings<!--?lit$109918125$--></div></div><div command="shortcuts" class="goog-menuitem " role="menuitem" id=":2h" style="user-select: none;"><div class="goog-menuitem-content" style="user-select: none;"><!--?lit$109918125$-->Keyboard shortcuts<!--?lit$109918125$--></div></div><div class="goog-menuseparator goog-menuitem-disabled" aria-disabled="true" role="separator" id=":2i" style="user-select: none;"></div><div command="open-differ" class="goog-menuitem " role="menuitem" id=":2j" style="user-select: none;"><div class="goog-menuitem-content" style="user-select: none;"><!--?lit$109918125$-->Diff notebooks<!--?lit$109918125$--> <span class="screenreader-only" style="user-select: none;"><!--?lit$109918125$-->(opens in a new tab)</span></div></div></div><div class="goog-menu" id="help-menu" role="menu" aria-haspopup="true" style="display: none; user-select: none;"><!--?lit$109918125$--><div command="faq" class="goog-menuitem " role="menuitem" id=":2l" style="user-select: none;"><div class="goog-menuitem-content" style="user-select: none;"><!--?lit$109918125$-->Frequently asked questions<!--?lit$109918125$--></div></div><div command="view-relnotes" class="goog-menuitem " role="menuitem" id=":2m" style="user-select: none;"><div class="goog-menuitem-content" style="user-select: none;"><!--?lit$109918125$-->View release notes<!--?lit$109918125$--></div></div><div command="snippets" class="goog-menuitem " role="menuitem" id=":2n" style="user-select: none;"><div class="goog-menuitem-content" style="user-select: none;"><!--?lit$109918125$-->Search code snippets<!--?lit$109918125$--></div></div><div class="goog-menuseparator goog-menuitem-disabled" aria-disabled="true" role="separator" id=":2o" style="user-select: none;"></div><div command="report-bug" class="goog-menuitem " role="menuitem" id=":2p" style="user-select: none;"><div class="goog-menuitem-content" style="user-select: none;"><!--?lit$109918125$-->Report a bug<!--?lit$109918125$--></div></div><div command="report-abuse" class="goog-menuitem " role="menuitem" id=":2q" style="user-select: none;"><div class="goog-menuitem-content" style="user-select: none;"><!--?lit$109918125$-->Report Drive abuse<!--?lit$109918125$--></div></div><div command="send-feedback" class="goog-menuitem " role="menuitem" id=":2r" style="user-select: none;"><div class="goog-menuitem-content" style="user-select: none;"><!--?lit$109918125$-->Send feedback<!--?lit$109918125$--></div></div><div command="view-tos" class="goog-menuitem " role="menuitem" id=":2s" style="user-select: none;"><div class="goog-menuitem-content" style="user-select: none;"><!--?lit$109918125$-->View Terms of Service<!--?lit$109918125$--></div></div><div command="view-in-english" class="goog-menuitem " role="menuitem" id=":2t" style="user-select: none;"><div class="goog-menuitem-content" style="user-select: none;"><!--?lit$109918125$-->View in English<!--?lit$109918125$--></div></div></div><dialog class="doc-comments-area" aria-label="Comments"><!----><div class="doc-comments-buttons">
        <md-text-button command="add-comment" value="" has-icon=""><template shadowrootmode="open" shadowrootdelegatesfocus><!---->
      <!--?lit$109918125$-->
      <div class="background"></div>
      <md-focus-ring part="focus-ring" for="button" aria-hidden="true"><template shadowrootmode="open"><!----></template></md-focus-ring>
      <md-ripple part="ripple" for="button" aria-hidden="true"><template shadowrootmode="open"><!----><div class="surface   "></div></template></md-ripple>
      <!--?lit$109918125$--><button id="button" class="button">
      <!--?lit$109918125$-->
      <span class="touch"></span>
      <!--?lit$109918125$--><slot name="icon"></slot>
      <span class="label"><slot></slot></span>
      <!--?lit$109918125$-->
    
    </button>
    </template>
          <md-icon slot="icon" filled="" aria-hidden="true"><template shadowrootmode="open"><!----><slot></slot></template>comment</md-icon>
          <!--?lit$109918125$-->Add a comment
        </md-text-button>
      </div></dialog><div class="thumbnail"></div><iframe id="apiproxy59b2073d82bfa5c564f0ce0efec1e606d5c893d10.2185421209" name="apiproxy59b2073d82bfa5c564f0ce0efec1e606d5c893d10.2185421209" src="./LLM_zoomcamp_RAG_files/proxy.html" tabindex="-1" aria-hidden="true" style="width: 1px; height: 1px; position: absolute; top: -100px; display: none;"></iframe><div><div class="grecaptcha-badge" data-style="bottomright" style="width: 256px; height: 60px; position: fixed; visibility: hidden; display: block; transition: right 0.3s ease 0s; bottom: 14px; right: -186px; box-shadow: gray 0px 0px 5px; border-radius: 2px; overflow: hidden;"><div class="grecaptcha-logo"><iframe title="reCAPTCHA" width="256" height="60" role="presentation" name="a-wghw188z59n5" frameborder="0" scrolling="no" sandbox="allow-forms allow-popups allow-same-origin allow-scripts allow-top-navigation allow-modals allow-popups-to-escape-sandbox allow-storage-access-by-user-activation" src="./LLM_zoomcamp_RAG_files/anchor.html"></iframe></div><div class="grecaptcha-error"></div><textarea id="g-recaptcha-response-100000" name="g-recaptcha-response" class="g-recaptcha-response" style="width: 250px; height: 40px; border: 1px solid rgb(193, 193, 193); margin: 10px 25px; padding: 0px; resize: none; display: none;"></textarea></div><iframe style="display: none;" src="./LLM_zoomcamp_RAG_files/saved_resource.html"></iframe></div><iframe src="./LLM_zoomcamp_RAG_files/bscframe.html" style="display: none;"></iframe><iframe id="hfcr" src="./LLM_zoomcamp_RAG_files/RotateCookiesPage.html" style="display: none;"></iframe><div class="monaco-aria-container"><div class="monaco-alert" role="alert" aria-atomic="true"></div><div class="monaco-alert" role="alert" aria-atomic="true"></div><div class="monaco-status" role="complementary" aria-live="polite" aria-atomic="true"></div><div class="monaco-status" role="complementary" aria-live="polite" aria-atomic="true"></div></div></body></html>